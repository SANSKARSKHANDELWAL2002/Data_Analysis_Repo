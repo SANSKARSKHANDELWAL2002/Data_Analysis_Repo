{
  "nbformat": 4,
  "nbformat_minor": 0,
  "metadata": {
    "colab": {
      "provenance": [],
      "authorship_tag": "ABX9TyMD0qDbFnm/5RgmB7f6gTel",
      "include_colab_link": true
    },
    "kernelspec": {
      "name": "python3",
      "display_name": "Python 3"
    },
    "language_info": {
      "name": "python"
    }
  },
  "cells": [
    {
      "cell_type": "markdown",
      "metadata": {
        "id": "view-in-github",
        "colab_type": "text"
      },
      "source": [
        "<a href=\"https://colab.research.google.com/github/SANSKARSKHANDELWAL2002/Data_Analysis_Repo/blob/main/DE_Assignment_Solution_by_Sanskar_S_Khandelwal.ipynb\" target=\"_parent\"><img src=\"https://colab.research.google.com/assets/colab-badge.svg\" alt=\"Open In Colab\"/></a>"
      ]
    },
    {
      "cell_type": "code",
      "source": [
        "# Section 1: Environment setup and data cleaning"
      ],
      "metadata": {
        "id": "i2XV_xOv4Zz1"
      },
      "execution_count": null,
      "outputs": []
    },
    {
      "cell_type": "code",
      "execution_count": null,
      "metadata": {
        "id": "RaX2OAjmwzu3",
        "colab": {
          "base_uri": "https://localhost:8080/"
        },
        "outputId": "68521318-d317-416d-f3d8-26c533086126"
      },
      "outputs": [
        {
          "output_type": "stream",
          "name": "stdout",
          "text": [
            "Mounted at /content/drive\n"
          ]
        }
      ],
      "source": [
        "from google.colab import drive\n",
        "drive.mount('/content/drive')"
      ]
    },
    {
      "cell_type": "code",
      "source": [
        "# Importing the necessary libraries\n",
        "import pandas as pd"
      ],
      "metadata": {
        "id": "IkITXWE-yr5a"
      },
      "execution_count": null,
      "outputs": []
    },
    {
      "cell_type": "code",
      "source": [
        "df = pd.read_csv(\"/content/drive/MyDrive/DataGrokr Assigment/HousingDataset.csv\",encoding='utf-8',engine='python')"
      ],
      "metadata": {
        "id": "bB4Of8n96NPa"
      },
      "execution_count": null,
      "outputs": []
    },
    {
      "cell_type": "code",
      "source": [
        "print(df)"
      ],
      "metadata": {
        "colab": {
          "base_uri": "https://localhost:8080/"
        },
        "id": "wM4XykWYo9cu",
        "outputId": "b2e04b41-189c-4aba-e177-79fea01b1f61"
      },
      "execution_count": null,
      "outputs": [
        {
          "output_type": "stream",
          "name": "stdout",
          "text": [
            "                              id    ad_type  start_date    end_date  \\\n",
            "0       YhXDVa/KIlF7EjJMulHiyA==  Propiedad   3/26/2020    4/8/2020   \n",
            "1       jHxD7psAg4+AC07T3sognw==  Propiedad    3/8/2020    3/9/2020   \n",
            "2       IYPdaIGi5Obo4eLzwUY+LA==  Propiedad  10/26/2020    2/3/2021   \n",
            "3       Cc8bVzOhRcPnAYS++8oyMg==  Propiedad    1/7/2020    1/7/2020   \n",
            "4       83DDzQ7686eLxOi9sQNJVA==  Propiedad   5/13/2020   5/17/2020   \n",
            "...                          ...        ...         ...         ...   \n",
            "500040  ailCN2RrVgXSnA31iplzvQ==  Propiedad   4/10/2020  12/31/9999   \n",
            "500041  9HgS75xxIbBCz3UDXozZxg==  Propiedad  10/30/2020  11/16/2020   \n",
            "500042  5WGZjySGb/v71THZsSBd0g==  Propiedad    9/1/2020    9/4/2020   \n",
            "500043  o6baJ7/M9KbP0uullyOI4w==  Propiedad    3/4/2020    3/6/2020   \n",
            "500044  fy9KMhSX82YzpoFDYEx1Lg==  Propiedad    8/2/2020    8/3/2020   \n",
            "\n",
            "        created_on           lat           lon         l1  \\\n",
            "0        3/26/2020    -34.562465    -58.465079  Argentina   \n",
            "1         3/8/2020    -37.999235    -57.553724  Argentina   \n",
            "2       10/26/2020   -34.4533074   -58.6494098  Argentina   \n",
            "3         1/7/2020   -31.6351728   -60.7160724  Argentina   \n",
            "4        5/13/2020           NaN           NaN  Argentina   \n",
            "...            ...           ...           ...        ...   \n",
            "500040   4/10/2020  -34.63934651  -58.62424371  Argentina   \n",
            "500041  10/30/2020   -34.5813718   -58.4234583  Argentina   \n",
            "500042    9/1/2020  -34.39180493  -58.62871074  Argentina   \n",
            "500043    3/4/2020   -31.4609319   -64.3517688  Argentina   \n",
            "500044    8/2/2020  -34.76448743   -58.3993989  Argentina   \n",
            "\n",
            "                                  l2               l3  ... bathrooms  \\\n",
            "0                    Capital Federal         Belgrano  ...       2.0   \n",
            "1       Buenos Aires Costa Atlántica    Mar del Plata  ...       1.0   \n",
            "2           Bs.As. G.B.A. Zona Norte            Tigre  ...       3.0   \n",
            "3                           Santa Fe              NaN  ...       4.0   \n",
            "4                           Santa Fe          Rosario  ...       2.0   \n",
            "...                              ...              ...  ...       ...   \n",
            "500040      Bs.As. G.B.A. Zona Oeste            Morón  ...       1.0   \n",
            "500041               Capital Federal          Palermo  ...       1.0   \n",
            "500042      Bs.As. G.B.A. Zona Norte            Tigre  ...       5.0   \n",
            "500043                       Córdoba        Malagueño  ...       1.0   \n",
            "500044        Bs.As. G.B.A. Zona Sur  Lomas de Zamora  ...       1.0   \n",
            "\n",
            "       surface_total surface_covered      price  currency  price_period  \\\n",
            "0                NaN             NaN   220000.0       USD           NaN   \n",
            "1                NaN             NaN   155000.0       USD           NaN   \n",
            "2              900.0           310.0   480000.0       USD       Mensual   \n",
            "3                NaN             NaN    34000.0       ARS       Mensual   \n",
            "4              200.0           200.0    20000.0       ARS           NaN   \n",
            "...              ...             ...        ...       ...           ...   \n",
            "500040           NaN             NaN    75000.0       USD           NaN   \n",
            "500041          46.0            38.0   171465.0       USD           NaN   \n",
            "500042         500.0           450.0  1200000.0       USD       Mensual   \n",
            "500043           NaN             NaN    65000.0       USD           NaN   \n",
            "500044           NaN             NaN    20000.0       ARS           NaN   \n",
            "\n",
            "                                                    title  \\\n",
            "0              OPPEL | Departamento en Venta | Cod: 29583   \n",
            "1                      2 AMBIENTES A ESTRENAR CON COCHERA   \n",
            "2                      Casa en Venta, Barrio Sta. Barbara   \n",
            "3       Casa en Alquiler en Constituyentes, Santa fe $...   \n",
            "4                                            Laprida 1418   \n",
            "...                                                   ...   \n",
            "500040                       Casa en Venta en Moron Norte   \n",
            "500041  Excelente unidad monoambiente en venta | Uriar...   \n",
            "500042  Venta casa 4 dormitorios en Santa Maria de Tig...   \n",
            "500043              Casa en venta, San Nicolas, Córdoba 0   \n",
            "500044  Departamento en Alquiler en Lomas de zamora oe...   \n",
            "\n",
            "                                              description  property_type  \\\n",
            "0       DEPARTAMENTO  EN VENTA / ALQUILER  | BELGRANO ...   Departamento   \n",
            "1       2 AMBIENTES CON BALCON Y PARRILLA.  COCHERALIV...           Otro   \n",
            "2       Casa racionalista en tres plantas, con espacio...           Casa   \n",
            "3       ALQUILER DE CASA DE 3 / 4 DORMITORIOS EN ZONA ...           Casa   \n",
            "4       Laprida 1418 - KP27922 -  - Aviso publicado po...           Casa   \n",
            "...                                                   ...            ...   \n",
            "500040  (FM-2102) Casa de 3 ambientes, con lote propio...           Casa   \n",
            "500041  Excelente unidad monoambiente completamente di...   Departamento   \n",
            "500042  En el Mejor Lote de Santa Maria de Tigre al Ri...           Casa   \n",
            "500043  La casa se encuentra sobre la calle Córdoba, e...           Otro   \n",
            "500044  Departamento de 3 ambientes al contra frente r...   Departamento   \n",
            "\n",
            "       operation_type  \n",
            "0               Venta  \n",
            "1               Venta  \n",
            "2               Venta  \n",
            "3            Alquiler  \n",
            "4            Alquiler  \n",
            "...               ...  \n",
            "500040          Venta  \n",
            "500041          Venta  \n",
            "500042          Venta  \n",
            "500043          Venta  \n",
            "500044       Alquiler  \n",
            "\n",
            "[500045 rows x 25 columns]\n"
          ]
        }
      ]
    },
    {
      "cell_type": "code",
      "source": [
        "print(df.describe())"
      ],
      "metadata": {
        "colab": {
          "base_uri": "https://localhost:8080/"
        },
        "id": "F-mlnonysdYe",
        "outputId": "897f93e4-6ea2-418f-9e9a-90f320a90b37"
      },
      "execution_count": null,
      "outputs": [
        {
          "output_type": "stream",
          "name": "stdout",
          "text": [
            "            bedrooms      bathrooms  surface_total  surface_covered  \\\n",
            "count  232669.000000  388149.000000  189727.000000     1.906950e+05   \n",
            "mean        2.107277       1.710135     518.547792     1.170599e+04   \n",
            "std         2.812046       1.080167    4417.012783     4.917869e+06   \n",
            "min       -16.000000       1.000000    -136.000000    -1.300000e+02   \n",
            "25%         1.000000       1.000000      50.000000     4.500000e+01   \n",
            "50%         2.000000       1.000000      94.000000     7.600000e+01   \n",
            "75%         3.000000       2.000000     253.000000     1.640000e+02   \n",
            "max       900.000000      20.000000  200000.000000     2.147484e+09   \n",
            "\n",
            "              price  \n",
            "count  4.817460e+05  \n",
            "mean   3.220869e+05  \n",
            "std    6.642452e+06  \n",
            "min    0.000000e+00  \n",
            "25%    4.200000e+04  \n",
            "50%    9.800000e+04  \n",
            "75%    2.100000e+05  \n",
            "max    3.100000e+09  \n"
          ]
        }
      ]
    },
    {
      "cell_type": "code",
      "source": [
        "print(df.info())"
      ],
      "metadata": {
        "colab": {
          "base_uri": "https://localhost:8080/"
        },
        "id": "r93MtDO5vpwZ",
        "outputId": "5622da2d-bfd8-4d53-f9d4-8b2929bbd47b"
      },
      "execution_count": null,
      "outputs": [
        {
          "output_type": "stream",
          "name": "stdout",
          "text": [
            "<class 'pandas.core.frame.DataFrame'>\n",
            "RangeIndex: 500045 entries, 0 to 500044\n",
            "Data columns (total 25 columns):\n",
            " #   Column           Non-Null Count   Dtype  \n",
            "---  ------           --------------   -----  \n",
            " 0   id               500028 non-null  object \n",
            " 1   ad_type          500028 non-null  object \n",
            " 2   start_date       500001 non-null  object \n",
            " 3   end_date         500001 non-null  object \n",
            " 4   created_on       500001 non-null  object \n",
            " 5   lat              424516 non-null  object \n",
            " 6   lon              424066 non-null  object \n",
            " 7   l1               500001 non-null  object \n",
            " 8   l2               500001 non-null  object \n",
            " 9   l3               473345 non-null  object \n",
            " 10  l4               119680 non-null  object \n",
            " 11  l5               2499 non-null    object \n",
            " 12  l6               1 non-null       object \n",
            " 13  rooms            262827 non-null  object \n",
            " 14  bedrooms         232669 non-null  float64\n",
            " 15  bathrooms        388149 non-null  float64\n",
            " 16  surface_total    189727 non-null  float64\n",
            " 17  surface_covered  190695 non-null  float64\n",
            " 18  price            481746 non-null  float64\n",
            " 19  currency         481066 non-null  object \n",
            " 20  price_period     181438 non-null  object \n",
            " 21  title            500000 non-null  object \n",
            " 22  description      499986 non-null  object \n",
            " 23  property_type    499972 non-null  object \n",
            " 24  operation_type   499972 non-null  object \n",
            "dtypes: float64(5), object(20)\n",
            "memory usage: 95.4+ MB\n",
            "None\n"
          ]
        }
      ]
    },
    {
      "cell_type": "code",
      "source": [
        "# Remove specified columns\n",
        "df_cleaned = df.drop(columns=['ad_type', 'title', 'description', 'l4', 'l5', 'l6'])\n",
        "\n",
        "# Discard rows with Null values in specific columns\n",
        "df_cleaned = df_cleaned.dropna(subset=['lon', 'lat', 'price_period', 'bedrooms', 'surface_total', 'rooms', 'price', 'surface_covered'])"
      ],
      "metadata": {
        "id": "SqFqW6N_7xQ9"
      },
      "execution_count": null,
      "outputs": []
    },
    {
      "cell_type": "code",
      "source": [
        "print(df_cleaned)"
      ],
      "metadata": {
        "colab": {
          "base_uri": "https://localhost:8080/"
        },
        "id": "FFgxjgXGcsd9",
        "outputId": "564bbaec-cd78-417c-a6d4-7e6e8f786930"
      },
      "execution_count": null,
      "outputs": [
        {
          "output_type": "stream",
          "name": "stdout",
          "text": [
            "                              id  start_date    end_date  created_on  \\\n",
            "15      5Be4XjP4b1Olk02vXOHLqA==   7/31/2020   8/28/2020   7/31/2020   \n",
            "27      V+6946R1DSniL3DToznOBw==  12/16/2020  12/17/2020  12/16/2020   \n",
            "99      w0i2gQ7n18T4QYlI3gHjtg==    1/5/2021  12/31/9999    1/5/2021   \n",
            "112     +FVdVVYFmNvza0tOpXfi/A==    6/4/2020   6/25/2020    6/4/2020   \n",
            "123     Fg4t539n8vLsWIEQbZ4yPw==  10/22/2020  10/31/2020  10/22/2020   \n",
            "...                          ...         ...         ...         ...   \n",
            "500030  RmXNws2019JAidTqtzJy2w==    6/8/2020    6/8/2020    6/8/2020   \n",
            "500032  JpnJWzch98h+je5JL+ZR0Q==    6/2/2020   6/25/2020    6/2/2020   \n",
            "500033  NDC8YYYk9XKMzAfc72yVCw==   8/11/2020   8/13/2020   8/11/2020   \n",
            "500036  mH5Ua+P7GkDCS6AkvAMVjg==   9/15/2020  10/16/2020   9/15/2020   \n",
            "500042  5WGZjySGb/v71THZsSBd0g==    9/1/2020    9/4/2020    9/1/2020   \n",
            "\n",
            "                 lat           lon         l1                        l2  \\\n",
            "15       -34.5575633   -58.4423887  Argentina           Capital Federal   \n",
            "27        -34.602959     -58.46203  Argentina           Capital Federal   \n",
            "99       -34.5790704    -58.403829  Argentina           Capital Federal   \n",
            "112      -34.7978957   -58.3859613  Argentina    Bs.As. G.B.A. Zona Sur   \n",
            "123     -34.59952536  -58.40353734  Argentina           Capital Federal   \n",
            "...              ...           ...        ...                       ...   \n",
            "500030   -34.4351113   -58.5612323  Argentina  Bs.As. G.B.A. Zona Norte   \n",
            "500032   -34.4041807   -58.6483889  Argentina  Bs.As. G.B.A. Zona Norte   \n",
            "500033    -34.552139   -58.4692077  Argentina           Capital Federal   \n",
            "500036   -34.5593183   -58.4454754  Argentina           Capital Federal   \n",
            "500042  -34.39180493  -58.62871074  Argentina  Bs.As. G.B.A. Zona Norte   \n",
            "\n",
            "                     l3 rooms  bedrooms  bathrooms  surface_total  \\\n",
            "15             Belgrano     4       3.0        4.0          155.0   \n",
            "27             Paternal     4       3.0        3.0          181.0   \n",
            "99              Palermo     4       2.0        2.0          230.0   \n",
            "112     Almirante Brown     3       2.0        2.0           70.0   \n",
            "123           Balvanera     1       1.0        1.0           40.0   \n",
            "...                 ...   ...       ...        ...            ...   \n",
            "500030     San Fernando     3       2.0        1.0           61.0   \n",
            "500032            Tigre     3       2.0        2.0           80.0   \n",
            "500033            Nuñez     2       1.0        1.0           50.0   \n",
            "500036         Belgrano     2       1.0        2.0           54.0   \n",
            "500042            Tigre     9       5.0        5.0          500.0   \n",
            "\n",
            "        surface_covered      price currency price_period property_type  \\\n",
            "15                150.0   195000.0      ARS      Mensual  Departamento   \n",
            "27                181.0   235000.0      USD      Mensual            PH   \n",
            "99                211.0     2500.0      USD      Mensual  Departamento   \n",
            "112                65.0   195000.0      USD      Mensual  Departamento   \n",
            "123                36.0    89999.0      USD      Mensual  Departamento   \n",
            "...                 ...        ...      ...          ...           ...   \n",
            "500030             56.0    23000.0      ARS      Mensual  Departamento   \n",
            "500032             80.0   255000.0      USD      Mensual  Departamento   \n",
            "500033             50.0    25000.0      ARS      Mensual  Departamento   \n",
            "500036             45.0    70000.0      ARS      Mensual  Departamento   \n",
            "500042            450.0  1200000.0      USD      Mensual          Casa   \n",
            "\n",
            "       operation_type  \n",
            "15           Alquiler  \n",
            "27              Venta  \n",
            "99           Alquiler  \n",
            "112             Venta  \n",
            "123             Venta  \n",
            "...               ...  \n",
            "500030       Alquiler  \n",
            "500032          Venta  \n",
            "500033       Alquiler  \n",
            "500036       Alquiler  \n",
            "500042          Venta  \n",
            "\n",
            "[43436 rows x 19 columns]\n"
          ]
        }
      ]
    },
    {
      "cell_type": "code",
      "source": [
        "# Creating the property_details DataFrame\n",
        "property_details = df_cleaned[['id','start_date','end_date','created_on','lat','lon','l1','l2','l3','rooms','bedrooms','bathrooms','surface_total','surface_covered']]\n",
        "\n",
        "# Creating the property_price_details DataFrame\n",
        "property_price_details = df_cleaned[['id','price','currency','price_period','property_type','operation_type']]"
      ],
      "metadata": {
        "id": "un4M58O0pL-V"
      },
      "execution_count": null,
      "outputs": []
    },
    {
      "cell_type": "code",
      "source": [
        "# Creating a database using sqlite3"
      ],
      "metadata": {
        "id": "ZBljlgplTsw9"
      },
      "execution_count": null,
      "outputs": []
    },
    {
      "cell_type": "code",
      "source": [
        "import sqlite3\n",
        "\n",
        "# Creatinng the SQLite database with name housingprice.db\n",
        "conn = sqlite3.connect('housingprice.db')\n",
        "cursor = conn.cursor()\n",
        "\n",
        "# Defining the table structures\n",
        "cursor.execute('''\n",
        "    CREATE TABLE IF NOT EXISTS property_details (\n",
        "        id INTEGER PRIMARY KEY,\n",
        "        start_date DATETIME,\n",
        "        end_date DATETIME,\n",
        "        created_on DATETIME,\n",
        "        lat REAL,\n",
        "        lon REAL,\n",
        "        l1 TEXT,\n",
        "        l2 TEXT,\n",
        "        l3 TEXT,\n",
        "        rooms INTEGER,\n",
        "        bedrooms INTEGER,\n",
        "        bathrooms INTEGER,\n",
        "        surface_total REAL,\n",
        "        surface_covered REAL\n",
        "    )\n",
        "''')\n",
        "\n",
        "cursor.execute('''\n",
        "    CREATE TABLE IF NOT EXISTS property_price_details (\n",
        "        id INTEGER PRIMARY KEY,\n",
        "        price REAL,\n",
        "        currency TEXT,\n",
        "        price_period TEXT,\n",
        "        property_type TEXT,\n",
        "        operation_type TEXT\n",
        "    )\n",
        "''')\n",
        "\n",
        "# Commiting the changes and closing the database connection\n",
        "conn.commit()\n",
        "conn.close()"
      ],
      "metadata": {
        "id": "wxUnTNsxDqgA"
      },
      "execution_count": null,
      "outputs": []
    },
    {
      "cell_type": "code",
      "source": [
        "import sqlite3\n",
        "from sqlalchemy import create_engine\n",
        "\n",
        "# Creating an SQLite database engine\n",
        "engine = create_engine('sqlite:///housingprice.db',echo=True)\n",
        "\n",
        "# I used here SQLAlchemy's to_sql method to load the data from my DataFrames into the corresponding tables. The if_exists='replace' argument ensures that the tables are created or replaced if they already exist.\n",
        "property_details.to_sql('property_details',engine,if_exists='replace',index=False)\n",
        "property_price_details.to_sql('property_price_details',engine,if_exists='replace',index=False)"
      ],
      "metadata": {
        "colab": {
          "base_uri": "https://localhost:8080/"
        },
        "id": "8-ZsJcHLTr3K",
        "outputId": "4e15886d-cd32-4ac5-d1fe-546dda991070"
      },
      "execution_count": null,
      "outputs": [
        {
          "output_type": "stream",
          "name": "stdout",
          "text": [
            "2023-09-25 16:39:55,597 INFO sqlalchemy.engine.Engine BEGIN (implicit)\n"
          ]
        },
        {
          "output_type": "stream",
          "name": "stderr",
          "text": [
            "INFO:sqlalchemy.engine.Engine:BEGIN (implicit)\n"
          ]
        },
        {
          "output_type": "stream",
          "name": "stdout",
          "text": [
            "2023-09-25 16:39:55,602 INFO sqlalchemy.engine.Engine PRAGMA main.table_info(\"property_details\")\n"
          ]
        },
        {
          "output_type": "stream",
          "name": "stderr",
          "text": [
            "INFO:sqlalchemy.engine.Engine:PRAGMA main.table_info(\"property_details\")\n"
          ]
        },
        {
          "output_type": "stream",
          "name": "stdout",
          "text": [
            "2023-09-25 16:39:55,605 INFO sqlalchemy.engine.Engine [raw sql] ()\n"
          ]
        },
        {
          "output_type": "stream",
          "name": "stderr",
          "text": [
            "INFO:sqlalchemy.engine.Engine:[raw sql] ()\n"
          ]
        },
        {
          "output_type": "stream",
          "name": "stdout",
          "text": [
            "2023-09-25 16:39:55,608 INFO sqlalchemy.engine.Engine ROLLBACK\n"
          ]
        },
        {
          "output_type": "stream",
          "name": "stderr",
          "text": [
            "INFO:sqlalchemy.engine.Engine:ROLLBACK\n"
          ]
        },
        {
          "output_type": "stream",
          "name": "stdout",
          "text": [
            "2023-09-25 16:39:55,611 INFO sqlalchemy.engine.Engine BEGIN (implicit)\n"
          ]
        },
        {
          "output_type": "stream",
          "name": "stderr",
          "text": [
            "INFO:sqlalchemy.engine.Engine:BEGIN (implicit)\n"
          ]
        },
        {
          "output_type": "stream",
          "name": "stdout",
          "text": [
            "2023-09-25 16:39:55,613 INFO sqlalchemy.engine.Engine PRAGMA main.table_info(\"property_details\")\n"
          ]
        },
        {
          "output_type": "stream",
          "name": "stderr",
          "text": [
            "INFO:sqlalchemy.engine.Engine:PRAGMA main.table_info(\"property_details\")\n"
          ]
        },
        {
          "output_type": "stream",
          "name": "stdout",
          "text": [
            "2023-09-25 16:39:55,615 INFO sqlalchemy.engine.Engine [raw sql] ()\n"
          ]
        },
        {
          "output_type": "stream",
          "name": "stderr",
          "text": [
            "INFO:sqlalchemy.engine.Engine:[raw sql] ()\n"
          ]
        },
        {
          "output_type": "stream",
          "name": "stdout",
          "text": [
            "2023-09-25 16:39:55,622 INFO sqlalchemy.engine.Engine ROLLBACK\n"
          ]
        },
        {
          "output_type": "stream",
          "name": "stderr",
          "text": [
            "INFO:sqlalchemy.engine.Engine:ROLLBACK\n"
          ]
        },
        {
          "output_type": "stream",
          "name": "stdout",
          "text": [
            "2023-09-25 16:39:55,624 INFO sqlalchemy.engine.Engine BEGIN (implicit)\n"
          ]
        },
        {
          "output_type": "stream",
          "name": "stderr",
          "text": [
            "INFO:sqlalchemy.engine.Engine:BEGIN (implicit)\n"
          ]
        },
        {
          "output_type": "stream",
          "name": "stdout",
          "text": [
            "2023-09-25 16:39:55,630 INFO sqlalchemy.engine.Engine SELECT name FROM sqlite_master WHERE type='table' AND name NOT LIKE 'sqlite~_%' ESCAPE '~' ORDER BY name\n"
          ]
        },
        {
          "output_type": "stream",
          "name": "stderr",
          "text": [
            "INFO:sqlalchemy.engine.Engine:SELECT name FROM sqlite_master WHERE type='table' AND name NOT LIKE 'sqlite~_%' ESCAPE '~' ORDER BY name\n"
          ]
        },
        {
          "output_type": "stream",
          "name": "stdout",
          "text": [
            "2023-09-25 16:39:55,632 INFO sqlalchemy.engine.Engine [raw sql] ()\n"
          ]
        },
        {
          "output_type": "stream",
          "name": "stderr",
          "text": [
            "INFO:sqlalchemy.engine.Engine:[raw sql] ()\n"
          ]
        },
        {
          "output_type": "stream",
          "name": "stdout",
          "text": [
            "2023-09-25 16:39:55,634 INFO sqlalchemy.engine.Engine SELECT name FROM sqlite_temp_master WHERE type='table' AND name NOT LIKE 'sqlite~_%' ESCAPE '~' ORDER BY name\n"
          ]
        },
        {
          "output_type": "stream",
          "name": "stderr",
          "text": [
            "INFO:sqlalchemy.engine.Engine:SELECT name FROM sqlite_temp_master WHERE type='table' AND name NOT LIKE 'sqlite~_%' ESCAPE '~' ORDER BY name\n"
          ]
        },
        {
          "output_type": "stream",
          "name": "stdout",
          "text": [
            "2023-09-25 16:39:55,639 INFO sqlalchemy.engine.Engine [raw sql] ()\n"
          ]
        },
        {
          "output_type": "stream",
          "name": "stderr",
          "text": [
            "INFO:sqlalchemy.engine.Engine:[raw sql] ()\n"
          ]
        },
        {
          "output_type": "stream",
          "name": "stdout",
          "text": [
            "2023-09-25 16:39:55,642 INFO sqlalchemy.engine.Engine PRAGMA main.table_xinfo(\"property_details\")\n"
          ]
        },
        {
          "output_type": "stream",
          "name": "stderr",
          "text": [
            "INFO:sqlalchemy.engine.Engine:PRAGMA main.table_xinfo(\"property_details\")\n"
          ]
        },
        {
          "output_type": "stream",
          "name": "stdout",
          "text": [
            "2023-09-25 16:39:55,646 INFO sqlalchemy.engine.Engine [raw sql] ()\n"
          ]
        },
        {
          "output_type": "stream",
          "name": "stderr",
          "text": [
            "INFO:sqlalchemy.engine.Engine:[raw sql] ()\n"
          ]
        },
        {
          "output_type": "stream",
          "name": "stdout",
          "text": [
            "2023-09-25 16:39:55,649 INFO sqlalchemy.engine.Engine SELECT sql FROM  (SELECT * FROM sqlite_master UNION ALL   SELECT * FROM sqlite_temp_master) WHERE name = ? AND type in ('table', 'view')\n"
          ]
        },
        {
          "output_type": "stream",
          "name": "stderr",
          "text": [
            "INFO:sqlalchemy.engine.Engine:SELECT sql FROM  (SELECT * FROM sqlite_master UNION ALL   SELECT * FROM sqlite_temp_master) WHERE name = ? AND type in ('table', 'view')\n"
          ]
        },
        {
          "output_type": "stream",
          "name": "stdout",
          "text": [
            "2023-09-25 16:39:55,651 INFO sqlalchemy.engine.Engine [raw sql] ('property_details',)\n"
          ]
        },
        {
          "output_type": "stream",
          "name": "stderr",
          "text": [
            "INFO:sqlalchemy.engine.Engine:[raw sql] ('property_details',)\n"
          ]
        },
        {
          "output_type": "stream",
          "name": "stdout",
          "text": [
            "2023-09-25 16:39:55,658 INFO sqlalchemy.engine.Engine PRAGMA main.foreign_key_list(\"property_details\")\n"
          ]
        },
        {
          "output_type": "stream",
          "name": "stderr",
          "text": [
            "INFO:sqlalchemy.engine.Engine:PRAGMA main.foreign_key_list(\"property_details\")\n"
          ]
        },
        {
          "output_type": "stream",
          "name": "stdout",
          "text": [
            "2023-09-25 16:39:55,661 INFO sqlalchemy.engine.Engine [raw sql] ()\n"
          ]
        },
        {
          "output_type": "stream",
          "name": "stderr",
          "text": [
            "INFO:sqlalchemy.engine.Engine:[raw sql] ()\n"
          ]
        },
        {
          "output_type": "stream",
          "name": "stdout",
          "text": [
            "2023-09-25 16:39:55,664 INFO sqlalchemy.engine.Engine PRAGMA temp.foreign_key_list(\"property_details\")\n"
          ]
        },
        {
          "output_type": "stream",
          "name": "stderr",
          "text": [
            "INFO:sqlalchemy.engine.Engine:PRAGMA temp.foreign_key_list(\"property_details\")\n"
          ]
        },
        {
          "output_type": "stream",
          "name": "stdout",
          "text": [
            "2023-09-25 16:39:55,666 INFO sqlalchemy.engine.Engine [raw sql] ()\n"
          ]
        },
        {
          "output_type": "stream",
          "name": "stderr",
          "text": [
            "INFO:sqlalchemy.engine.Engine:[raw sql] ()\n"
          ]
        },
        {
          "output_type": "stream",
          "name": "stdout",
          "text": [
            "2023-09-25 16:39:55,668 INFO sqlalchemy.engine.Engine SELECT sql FROM  (SELECT * FROM sqlite_master UNION ALL   SELECT * FROM sqlite_temp_master) WHERE name = ? AND type in ('table', 'view')\n"
          ]
        },
        {
          "output_type": "stream",
          "name": "stderr",
          "text": [
            "INFO:sqlalchemy.engine.Engine:SELECT sql FROM  (SELECT * FROM sqlite_master UNION ALL   SELECT * FROM sqlite_temp_master) WHERE name = ? AND type in ('table', 'view')\n"
          ]
        },
        {
          "output_type": "stream",
          "name": "stdout",
          "text": [
            "2023-09-25 16:39:55,670 INFO sqlalchemy.engine.Engine [raw sql] ('property_details',)\n"
          ]
        },
        {
          "output_type": "stream",
          "name": "stderr",
          "text": [
            "INFO:sqlalchemy.engine.Engine:[raw sql] ('property_details',)\n"
          ]
        },
        {
          "output_type": "stream",
          "name": "stdout",
          "text": [
            "2023-09-25 16:39:55,675 INFO sqlalchemy.engine.Engine PRAGMA main.index_list(\"property_details\")\n"
          ]
        },
        {
          "output_type": "stream",
          "name": "stderr",
          "text": [
            "INFO:sqlalchemy.engine.Engine:PRAGMA main.index_list(\"property_details\")\n"
          ]
        },
        {
          "output_type": "stream",
          "name": "stdout",
          "text": [
            "2023-09-25 16:39:55,677 INFO sqlalchemy.engine.Engine [raw sql] ()\n"
          ]
        },
        {
          "output_type": "stream",
          "name": "stderr",
          "text": [
            "INFO:sqlalchemy.engine.Engine:[raw sql] ()\n"
          ]
        },
        {
          "output_type": "stream",
          "name": "stdout",
          "text": [
            "2023-09-25 16:39:55,679 INFO sqlalchemy.engine.Engine PRAGMA temp.index_list(\"property_details\")\n"
          ]
        },
        {
          "output_type": "stream",
          "name": "stderr",
          "text": [
            "INFO:sqlalchemy.engine.Engine:PRAGMA temp.index_list(\"property_details\")\n"
          ]
        },
        {
          "output_type": "stream",
          "name": "stdout",
          "text": [
            "2023-09-25 16:39:55,682 INFO sqlalchemy.engine.Engine [raw sql] ()\n"
          ]
        },
        {
          "output_type": "stream",
          "name": "stderr",
          "text": [
            "INFO:sqlalchemy.engine.Engine:[raw sql] ()\n"
          ]
        },
        {
          "output_type": "stream",
          "name": "stdout",
          "text": [
            "2023-09-25 16:39:55,685 INFO sqlalchemy.engine.Engine PRAGMA main.table_info(\"property_details\")\n"
          ]
        },
        {
          "output_type": "stream",
          "name": "stderr",
          "text": [
            "INFO:sqlalchemy.engine.Engine:PRAGMA main.table_info(\"property_details\")\n"
          ]
        },
        {
          "output_type": "stream",
          "name": "stdout",
          "text": [
            "2023-09-25 16:39:55,687 INFO sqlalchemy.engine.Engine [raw sql] ()\n"
          ]
        },
        {
          "output_type": "stream",
          "name": "stderr",
          "text": [
            "INFO:sqlalchemy.engine.Engine:[raw sql] ()\n"
          ]
        },
        {
          "output_type": "stream",
          "name": "stdout",
          "text": [
            "2023-09-25 16:39:55,689 INFO sqlalchemy.engine.Engine PRAGMA main.index_list(\"property_details\")\n"
          ]
        },
        {
          "output_type": "stream",
          "name": "stderr",
          "text": [
            "INFO:sqlalchemy.engine.Engine:PRAGMA main.index_list(\"property_details\")\n"
          ]
        },
        {
          "output_type": "stream",
          "name": "stdout",
          "text": [
            "2023-09-25 16:39:55,692 INFO sqlalchemy.engine.Engine [raw sql] ()\n"
          ]
        },
        {
          "output_type": "stream",
          "name": "stderr",
          "text": [
            "INFO:sqlalchemy.engine.Engine:[raw sql] ()\n"
          ]
        },
        {
          "output_type": "stream",
          "name": "stdout",
          "text": [
            "2023-09-25 16:39:55,694 INFO sqlalchemy.engine.Engine PRAGMA temp.index_list(\"property_details\")\n"
          ]
        },
        {
          "output_type": "stream",
          "name": "stderr",
          "text": [
            "INFO:sqlalchemy.engine.Engine:PRAGMA temp.index_list(\"property_details\")\n"
          ]
        },
        {
          "output_type": "stream",
          "name": "stdout",
          "text": [
            "2023-09-25 16:39:55,696 INFO sqlalchemy.engine.Engine [raw sql] ()\n"
          ]
        },
        {
          "output_type": "stream",
          "name": "stderr",
          "text": [
            "INFO:sqlalchemy.engine.Engine:[raw sql] ()\n"
          ]
        },
        {
          "output_type": "stream",
          "name": "stdout",
          "text": [
            "2023-09-25 16:39:55,699 INFO sqlalchemy.engine.Engine PRAGMA main.table_info(\"property_details\")\n"
          ]
        },
        {
          "output_type": "stream",
          "name": "stderr",
          "text": [
            "INFO:sqlalchemy.engine.Engine:PRAGMA main.table_info(\"property_details\")\n"
          ]
        },
        {
          "output_type": "stream",
          "name": "stdout",
          "text": [
            "2023-09-25 16:39:55,701 INFO sqlalchemy.engine.Engine [raw sql] ()\n"
          ]
        },
        {
          "output_type": "stream",
          "name": "stderr",
          "text": [
            "INFO:sqlalchemy.engine.Engine:[raw sql] ()\n"
          ]
        },
        {
          "output_type": "stream",
          "name": "stdout",
          "text": [
            "2023-09-25 16:39:55,703 INFO sqlalchemy.engine.Engine SELECT sql FROM  (SELECT * FROM sqlite_master UNION ALL   SELECT * FROM sqlite_temp_master) WHERE name = ? AND type in ('table', 'view')\n"
          ]
        },
        {
          "output_type": "stream",
          "name": "stderr",
          "text": [
            "INFO:sqlalchemy.engine.Engine:SELECT sql FROM  (SELECT * FROM sqlite_master UNION ALL   SELECT * FROM sqlite_temp_master) WHERE name = ? AND type in ('table', 'view')\n"
          ]
        },
        {
          "output_type": "stream",
          "name": "stdout",
          "text": [
            "2023-09-25 16:39:55,706 INFO sqlalchemy.engine.Engine [raw sql] ('property_details',)\n"
          ]
        },
        {
          "output_type": "stream",
          "name": "stderr",
          "text": [
            "INFO:sqlalchemy.engine.Engine:[raw sql] ('property_details',)\n"
          ]
        },
        {
          "output_type": "stream",
          "name": "stdout",
          "text": [
            "2023-09-25 16:39:55,713 INFO sqlalchemy.engine.Engine ROLLBACK\n"
          ]
        },
        {
          "output_type": "stream",
          "name": "stderr",
          "text": [
            "INFO:sqlalchemy.engine.Engine:ROLLBACK\n"
          ]
        },
        {
          "output_type": "stream",
          "name": "stdout",
          "text": [
            "2023-09-25 16:39:55,715 INFO sqlalchemy.engine.Engine BEGIN (implicit)\n"
          ]
        },
        {
          "output_type": "stream",
          "name": "stderr",
          "text": [
            "INFO:sqlalchemy.engine.Engine:BEGIN (implicit)\n"
          ]
        },
        {
          "output_type": "stream",
          "name": "stdout",
          "text": [
            "2023-09-25 16:39:55,718 INFO sqlalchemy.engine.Engine \n",
            "DROP TABLE property_details\n"
          ]
        },
        {
          "output_type": "stream",
          "name": "stderr",
          "text": [
            "INFO:sqlalchemy.engine.Engine:\n",
            "DROP TABLE property_details\n"
          ]
        },
        {
          "output_type": "stream",
          "name": "stdout",
          "text": [
            "2023-09-25 16:39:55,720 INFO sqlalchemy.engine.Engine [no key 0.00219s] ()\n"
          ]
        },
        {
          "output_type": "stream",
          "name": "stderr",
          "text": [
            "INFO:sqlalchemy.engine.Engine:[no key 0.00219s] ()\n"
          ]
        },
        {
          "output_type": "stream",
          "name": "stdout",
          "text": [
            "2023-09-25 16:39:55,730 INFO sqlalchemy.engine.Engine COMMIT\n"
          ]
        },
        {
          "output_type": "stream",
          "name": "stderr",
          "text": [
            "INFO:sqlalchemy.engine.Engine:COMMIT\n"
          ]
        },
        {
          "output_type": "stream",
          "name": "stdout",
          "text": [
            "2023-09-25 16:39:55,734 INFO sqlalchemy.engine.Engine BEGIN (implicit)\n"
          ]
        },
        {
          "output_type": "stream",
          "name": "stderr",
          "text": [
            "INFO:sqlalchemy.engine.Engine:BEGIN (implicit)\n"
          ]
        },
        {
          "output_type": "stream",
          "name": "stdout",
          "text": [
            "2023-09-25 16:39:55,737 INFO sqlalchemy.engine.Engine \n",
            "CREATE TABLE property_details (\n",
            "\tid TEXT, \n",
            "\tstart_date TEXT, \n",
            "\tend_date TEXT, \n",
            "\tcreated_on TEXT, \n",
            "\tlat TEXT, \n",
            "\tlon TEXT, \n",
            "\tl1 TEXT, \n",
            "\tl2 TEXT, \n",
            "\tl3 TEXT, \n",
            "\trooms TEXT, \n",
            "\tbedrooms FLOAT, \n",
            "\tbathrooms FLOAT, \n",
            "\tsurface_total FLOAT, \n",
            "\tsurface_covered FLOAT\n",
            ")\n",
            "\n",
            "\n"
          ]
        },
        {
          "output_type": "stream",
          "name": "stderr",
          "text": [
            "INFO:sqlalchemy.engine.Engine:\n",
            "CREATE TABLE property_details (\n",
            "\tid TEXT, \n",
            "\tstart_date TEXT, \n",
            "\tend_date TEXT, \n",
            "\tcreated_on TEXT, \n",
            "\tlat TEXT, \n",
            "\tlon TEXT, \n",
            "\tl1 TEXT, \n",
            "\tl2 TEXT, \n",
            "\tl3 TEXT, \n",
            "\trooms TEXT, \n",
            "\tbedrooms FLOAT, \n",
            "\tbathrooms FLOAT, \n",
            "\tsurface_total FLOAT, \n",
            "\tsurface_covered FLOAT\n",
            ")\n",
            "\n",
            "\n"
          ]
        },
        {
          "output_type": "stream",
          "name": "stdout",
          "text": [
            "2023-09-25 16:39:55,739 INFO sqlalchemy.engine.Engine [no key 0.00209s] ()\n"
          ]
        },
        {
          "output_type": "stream",
          "name": "stderr",
          "text": [
            "INFO:sqlalchemy.engine.Engine:[no key 0.00209s] ()\n"
          ]
        },
        {
          "output_type": "stream",
          "name": "stdout",
          "text": [
            "2023-09-25 16:39:55,752 INFO sqlalchemy.engine.Engine COMMIT\n"
          ]
        },
        {
          "output_type": "stream",
          "name": "stderr",
          "text": [
            "INFO:sqlalchemy.engine.Engine:COMMIT\n"
          ]
        },
        {
          "output_type": "stream",
          "name": "stdout",
          "text": [
            "2023-09-25 16:39:55,922 INFO sqlalchemy.engine.Engine BEGIN (implicit)\n"
          ]
        },
        {
          "output_type": "stream",
          "name": "stderr",
          "text": [
            "INFO:sqlalchemy.engine.Engine:BEGIN (implicit)\n"
          ]
        },
        {
          "output_type": "stream",
          "name": "stdout",
          "text": [
            "2023-09-25 16:39:57,352 INFO sqlalchemy.engine.Engine INSERT INTO property_details (id, start_date, end_date, created_on, lat, lon, l1, l2, l3, rooms, bedrooms, bathrooms, surface_total, surface_covered) VALUES (?, ?, ?, ?, ?, ?, ?, ?, ?, ?, ?, ?, ?, ?)\n"
          ]
        },
        {
          "output_type": "stream",
          "name": "stderr",
          "text": [
            "INFO:sqlalchemy.engine.Engine:INSERT INTO property_details (id, start_date, end_date, created_on, lat, lon, l1, l2, l3, rooms, bedrooms, bathrooms, surface_total, surface_covered) VALUES (?, ?, ?, ?, ?, ?, ?, ?, ?, ?, ?, ?, ?, ?)\n"
          ]
        },
        {
          "output_type": "stream",
          "name": "stdout",
          "text": [
            "2023-09-25 16:39:57,360 INFO sqlalchemy.engine.Engine [generated in 1.22140s] [('5Be4XjP4b1Olk02vXOHLqA==', '7/31/2020', '8/28/2020', '7/31/2020', '-34.5575633', '-58.4423887', 'Argentina', 'Capital Federal', 'Belgrano', '4', 3.0, 4.0, 155.0, 150.0), ('V+6946R1DSniL3DToznOBw==', '12/16/2020', '12/17/2020', '12/16/2020', '-34.602959', '-58.46203', 'Argentina', 'Capital Federal', 'Paternal', '4', 3.0, 3.0, 181.0, 181.0), ('w0i2gQ7n18T4QYlI3gHjtg==', '1/5/2021', '12/31/9999', '1/5/2021', '-34.5790704', '-58.403829', 'Argentina', 'Capital Federal', 'Palermo', '4', 2.0, 2.0, 230.0, 211.0), ('+FVdVVYFmNvza0tOpXfi/A==', '6/4/2020', '6/25/2020', '6/4/2020', '-34.7978957', '-58.3859613', 'Argentina', 'Bs.As. G.B.A. Zona Sur', 'Almirante Brown', '3', 2.0, 2.0, 70.0, 65.0), ('Fg4t539n8vLsWIEQbZ4yPw==', '10/22/2020', '10/31/2020', '10/22/2020', '-34.59952536', '-58.40353734', 'Argentina', 'Capital Federal', 'Balvanera', '1', 1.0, 1.0, 40.0, 36.0), ('Kifcpu2ojgqxhsKdxguYWA==', '6/5/2020', '12/31/9999', '6/5/2020', '-34.4293946', '-58.5651153', 'Argentina', 'Bs.As. G.B.A. Zona Norte', 'Tigre', '3', 2.0, 2.0, 75.0, 75.0), ('9E1bCBw2C/ZGhGpIEEL2SQ==', '12/15/2020', '2/2/2021', '12/15/2020', '-34.5756517', '-58.4070976', 'Argentina', 'Capital Federal', 'Palermo', '1', 1.0, 1.0, 30.0, 30.0), ('+k6LeAXcxnfG/3oDjzOPUw==', '7/6/2020', '12/3/2020', '7/6/2020', '-34.6161039', '-58.46116173', 'Argentina', 'Capital Federal', 'Caballito', '2', 1.0, 1.0, 58.0, 49.0)  ... displaying 10 of 43436 total bound parameter sets ...  ('mH5Ua+P7GkDCS6AkvAMVjg==', '9/15/2020', '10/16/2020', '9/15/2020', '-34.5593183', '-58.4454754', 'Argentina', 'Capital Federal', 'Belgrano', '2', 1.0, 2.0, 54.0, 45.0), ('5WGZjySGb/v71THZsSBd0g==', '9/1/2020', '9/4/2020', '9/1/2020', '-34.39180493', '-58.62871074', 'Argentina', 'Bs.As. G.B.A. Zona Norte', 'Tigre', '9', 5.0, 5.0, 500.0, 450.0)]\n"
          ]
        },
        {
          "output_type": "stream",
          "name": "stderr",
          "text": [
            "INFO:sqlalchemy.engine.Engine:[generated in 1.22140s] [('5Be4XjP4b1Olk02vXOHLqA==', '7/31/2020', '8/28/2020', '7/31/2020', '-34.5575633', '-58.4423887', 'Argentina', 'Capital Federal', 'Belgrano', '4', 3.0, 4.0, 155.0, 150.0), ('V+6946R1DSniL3DToznOBw==', '12/16/2020', '12/17/2020', '12/16/2020', '-34.602959', '-58.46203', 'Argentina', 'Capital Federal', 'Paternal', '4', 3.0, 3.0, 181.0, 181.0), ('w0i2gQ7n18T4QYlI3gHjtg==', '1/5/2021', '12/31/9999', '1/5/2021', '-34.5790704', '-58.403829', 'Argentina', 'Capital Federal', 'Palermo', '4', 2.0, 2.0, 230.0, 211.0), ('+FVdVVYFmNvza0tOpXfi/A==', '6/4/2020', '6/25/2020', '6/4/2020', '-34.7978957', '-58.3859613', 'Argentina', 'Bs.As. G.B.A. Zona Sur', 'Almirante Brown', '3', 2.0, 2.0, 70.0, 65.0), ('Fg4t539n8vLsWIEQbZ4yPw==', '10/22/2020', '10/31/2020', '10/22/2020', '-34.59952536', '-58.40353734', 'Argentina', 'Capital Federal', 'Balvanera', '1', 1.0, 1.0, 40.0, 36.0), ('Kifcpu2ojgqxhsKdxguYWA==', '6/5/2020', '12/31/9999', '6/5/2020', '-34.4293946', '-58.5651153', 'Argentina', 'Bs.As. G.B.A. Zona Norte', 'Tigre', '3', 2.0, 2.0, 75.0, 75.0), ('9E1bCBw2C/ZGhGpIEEL2SQ==', '12/15/2020', '2/2/2021', '12/15/2020', '-34.5756517', '-58.4070976', 'Argentina', 'Capital Federal', 'Palermo', '1', 1.0, 1.0, 30.0, 30.0), ('+k6LeAXcxnfG/3oDjzOPUw==', '7/6/2020', '12/3/2020', '7/6/2020', '-34.6161039', '-58.46116173', 'Argentina', 'Capital Federal', 'Caballito', '2', 1.0, 1.0, 58.0, 49.0)  ... displaying 10 of 43436 total bound parameter sets ...  ('mH5Ua+P7GkDCS6AkvAMVjg==', '9/15/2020', '10/16/2020', '9/15/2020', '-34.5593183', '-58.4454754', 'Argentina', 'Capital Federal', 'Belgrano', '2', 1.0, 2.0, 54.0, 45.0), ('5WGZjySGb/v71THZsSBd0g==', '9/1/2020', '9/4/2020', '9/1/2020', '-34.39180493', '-58.62871074', 'Argentina', 'Bs.As. G.B.A. Zona Norte', 'Tigre', '9', 5.0, 5.0, 500.0, 450.0)]\n"
          ]
        },
        {
          "output_type": "stream",
          "name": "stdout",
          "text": [
            "2023-09-25 16:39:57,709 INFO sqlalchemy.engine.Engine COMMIT\n"
          ]
        },
        {
          "output_type": "stream",
          "name": "stderr",
          "text": [
            "INFO:sqlalchemy.engine.Engine:COMMIT\n"
          ]
        },
        {
          "output_type": "stream",
          "name": "stdout",
          "text": [
            "2023-09-25 16:39:57,760 INFO sqlalchemy.engine.Engine BEGIN (implicit)\n"
          ]
        },
        {
          "output_type": "stream",
          "name": "stderr",
          "text": [
            "INFO:sqlalchemy.engine.Engine:BEGIN (implicit)\n"
          ]
        },
        {
          "output_type": "stream",
          "name": "stdout",
          "text": [
            "2023-09-25 16:39:57,768 INFO sqlalchemy.engine.Engine PRAGMA main.table_info(\"property_price_details\")\n"
          ]
        },
        {
          "output_type": "stream",
          "name": "stderr",
          "text": [
            "INFO:sqlalchemy.engine.Engine:PRAGMA main.table_info(\"property_price_details\")\n"
          ]
        },
        {
          "output_type": "stream",
          "name": "stdout",
          "text": [
            "2023-09-25 16:39:57,777 INFO sqlalchemy.engine.Engine [raw sql] ()\n"
          ]
        },
        {
          "output_type": "stream",
          "name": "stderr",
          "text": [
            "INFO:sqlalchemy.engine.Engine:[raw sql] ()\n"
          ]
        },
        {
          "output_type": "stream",
          "name": "stdout",
          "text": [
            "2023-09-25 16:39:57,783 INFO sqlalchemy.engine.Engine ROLLBACK\n"
          ]
        },
        {
          "output_type": "stream",
          "name": "stderr",
          "text": [
            "INFO:sqlalchemy.engine.Engine:ROLLBACK\n"
          ]
        },
        {
          "output_type": "stream",
          "name": "stdout",
          "text": [
            "2023-09-25 16:39:57,788 INFO sqlalchemy.engine.Engine BEGIN (implicit)\n"
          ]
        },
        {
          "output_type": "stream",
          "name": "stderr",
          "text": [
            "INFO:sqlalchemy.engine.Engine:BEGIN (implicit)\n"
          ]
        },
        {
          "output_type": "stream",
          "name": "stdout",
          "text": [
            "2023-09-25 16:39:57,790 INFO sqlalchemy.engine.Engine PRAGMA main.table_info(\"property_price_details\")\n"
          ]
        },
        {
          "output_type": "stream",
          "name": "stderr",
          "text": [
            "INFO:sqlalchemy.engine.Engine:PRAGMA main.table_info(\"property_price_details\")\n"
          ]
        },
        {
          "output_type": "stream",
          "name": "stdout",
          "text": [
            "2023-09-25 16:39:57,794 INFO sqlalchemy.engine.Engine [raw sql] ()\n"
          ]
        },
        {
          "output_type": "stream",
          "name": "stderr",
          "text": [
            "INFO:sqlalchemy.engine.Engine:[raw sql] ()\n"
          ]
        },
        {
          "output_type": "stream",
          "name": "stdout",
          "text": [
            "2023-09-25 16:39:57,797 INFO sqlalchemy.engine.Engine ROLLBACK\n"
          ]
        },
        {
          "output_type": "stream",
          "name": "stderr",
          "text": [
            "INFO:sqlalchemy.engine.Engine:ROLLBACK\n"
          ]
        },
        {
          "output_type": "stream",
          "name": "stdout",
          "text": [
            "2023-09-25 16:39:57,799 INFO sqlalchemy.engine.Engine BEGIN (implicit)\n"
          ]
        },
        {
          "output_type": "stream",
          "name": "stderr",
          "text": [
            "INFO:sqlalchemy.engine.Engine:BEGIN (implicit)\n"
          ]
        },
        {
          "output_type": "stream",
          "name": "stdout",
          "text": [
            "2023-09-25 16:39:57,801 INFO sqlalchemy.engine.Engine SELECT name FROM sqlite_master WHERE type='table' AND name NOT LIKE 'sqlite~_%' ESCAPE '~' ORDER BY name\n"
          ]
        },
        {
          "output_type": "stream",
          "name": "stderr",
          "text": [
            "INFO:sqlalchemy.engine.Engine:SELECT name FROM sqlite_master WHERE type='table' AND name NOT LIKE 'sqlite~_%' ESCAPE '~' ORDER BY name\n"
          ]
        },
        {
          "output_type": "stream",
          "name": "stdout",
          "text": [
            "2023-09-25 16:39:57,804 INFO sqlalchemy.engine.Engine [raw sql] ()\n"
          ]
        },
        {
          "output_type": "stream",
          "name": "stderr",
          "text": [
            "INFO:sqlalchemy.engine.Engine:[raw sql] ()\n"
          ]
        },
        {
          "output_type": "stream",
          "name": "stdout",
          "text": [
            "2023-09-25 16:39:57,807 INFO sqlalchemy.engine.Engine SELECT name FROM sqlite_temp_master WHERE type='table' AND name NOT LIKE 'sqlite~_%' ESCAPE '~' ORDER BY name\n"
          ]
        },
        {
          "output_type": "stream",
          "name": "stderr",
          "text": [
            "INFO:sqlalchemy.engine.Engine:SELECT name FROM sqlite_temp_master WHERE type='table' AND name NOT LIKE 'sqlite~_%' ESCAPE '~' ORDER BY name\n"
          ]
        },
        {
          "output_type": "stream",
          "name": "stdout",
          "text": [
            "2023-09-25 16:39:57,809 INFO sqlalchemy.engine.Engine [raw sql] ()\n"
          ]
        },
        {
          "output_type": "stream",
          "name": "stderr",
          "text": [
            "INFO:sqlalchemy.engine.Engine:[raw sql] ()\n"
          ]
        },
        {
          "output_type": "stream",
          "name": "stdout",
          "text": [
            "2023-09-25 16:39:57,812 INFO sqlalchemy.engine.Engine PRAGMA main.table_xinfo(\"property_price_details\")\n"
          ]
        },
        {
          "output_type": "stream",
          "name": "stderr",
          "text": [
            "INFO:sqlalchemy.engine.Engine:PRAGMA main.table_xinfo(\"property_price_details\")\n"
          ]
        },
        {
          "output_type": "stream",
          "name": "stdout",
          "text": [
            "2023-09-25 16:39:57,815 INFO sqlalchemy.engine.Engine [raw sql] ()\n"
          ]
        },
        {
          "output_type": "stream",
          "name": "stderr",
          "text": [
            "INFO:sqlalchemy.engine.Engine:[raw sql] ()\n"
          ]
        },
        {
          "output_type": "stream",
          "name": "stdout",
          "text": [
            "2023-09-25 16:39:57,818 INFO sqlalchemy.engine.Engine SELECT sql FROM  (SELECT * FROM sqlite_master UNION ALL   SELECT * FROM sqlite_temp_master) WHERE name = ? AND type in ('table', 'view')\n"
          ]
        },
        {
          "output_type": "stream",
          "name": "stderr",
          "text": [
            "INFO:sqlalchemy.engine.Engine:SELECT sql FROM  (SELECT * FROM sqlite_master UNION ALL   SELECT * FROM sqlite_temp_master) WHERE name = ? AND type in ('table', 'view')\n"
          ]
        },
        {
          "output_type": "stream",
          "name": "stdout",
          "text": [
            "2023-09-25 16:39:57,820 INFO sqlalchemy.engine.Engine [raw sql] ('property_price_details',)\n"
          ]
        },
        {
          "output_type": "stream",
          "name": "stderr",
          "text": [
            "INFO:sqlalchemy.engine.Engine:[raw sql] ('property_price_details',)\n"
          ]
        },
        {
          "output_type": "stream",
          "name": "stdout",
          "text": [
            "2023-09-25 16:39:57,824 INFO sqlalchemy.engine.Engine PRAGMA main.foreign_key_list(\"property_price_details\")\n"
          ]
        },
        {
          "output_type": "stream",
          "name": "stderr",
          "text": [
            "INFO:sqlalchemy.engine.Engine:PRAGMA main.foreign_key_list(\"property_price_details\")\n"
          ]
        },
        {
          "output_type": "stream",
          "name": "stdout",
          "text": [
            "2023-09-25 16:39:57,826 INFO sqlalchemy.engine.Engine [raw sql] ()\n"
          ]
        },
        {
          "output_type": "stream",
          "name": "stderr",
          "text": [
            "INFO:sqlalchemy.engine.Engine:[raw sql] ()\n"
          ]
        },
        {
          "output_type": "stream",
          "name": "stdout",
          "text": [
            "2023-09-25 16:39:57,828 INFO sqlalchemy.engine.Engine PRAGMA temp.foreign_key_list(\"property_price_details\")\n"
          ]
        },
        {
          "output_type": "stream",
          "name": "stderr",
          "text": [
            "INFO:sqlalchemy.engine.Engine:PRAGMA temp.foreign_key_list(\"property_price_details\")\n"
          ]
        },
        {
          "output_type": "stream",
          "name": "stdout",
          "text": [
            "2023-09-25 16:39:57,831 INFO sqlalchemy.engine.Engine [raw sql] ()\n"
          ]
        },
        {
          "output_type": "stream",
          "name": "stderr",
          "text": [
            "INFO:sqlalchemy.engine.Engine:[raw sql] ()\n"
          ]
        },
        {
          "output_type": "stream",
          "name": "stdout",
          "text": [
            "2023-09-25 16:39:57,833 INFO sqlalchemy.engine.Engine SELECT sql FROM  (SELECT * FROM sqlite_master UNION ALL   SELECT * FROM sqlite_temp_master) WHERE name = ? AND type in ('table', 'view')\n"
          ]
        },
        {
          "output_type": "stream",
          "name": "stderr",
          "text": [
            "INFO:sqlalchemy.engine.Engine:SELECT sql FROM  (SELECT * FROM sqlite_master UNION ALL   SELECT * FROM sqlite_temp_master) WHERE name = ? AND type in ('table', 'view')\n"
          ]
        },
        {
          "output_type": "stream",
          "name": "stdout",
          "text": [
            "2023-09-25 16:39:57,836 INFO sqlalchemy.engine.Engine [raw sql] ('property_price_details',)\n"
          ]
        },
        {
          "output_type": "stream",
          "name": "stderr",
          "text": [
            "INFO:sqlalchemy.engine.Engine:[raw sql] ('property_price_details',)\n"
          ]
        },
        {
          "output_type": "stream",
          "name": "stdout",
          "text": [
            "2023-09-25 16:39:57,839 INFO sqlalchemy.engine.Engine PRAGMA main.index_list(\"property_price_details\")\n"
          ]
        },
        {
          "output_type": "stream",
          "name": "stderr",
          "text": [
            "INFO:sqlalchemy.engine.Engine:PRAGMA main.index_list(\"property_price_details\")\n"
          ]
        },
        {
          "output_type": "stream",
          "name": "stdout",
          "text": [
            "2023-09-25 16:39:57,841 INFO sqlalchemy.engine.Engine [raw sql] ()\n"
          ]
        },
        {
          "output_type": "stream",
          "name": "stderr",
          "text": [
            "INFO:sqlalchemy.engine.Engine:[raw sql] ()\n"
          ]
        },
        {
          "output_type": "stream",
          "name": "stdout",
          "text": [
            "2023-09-25 16:39:57,844 INFO sqlalchemy.engine.Engine PRAGMA temp.index_list(\"property_price_details\")\n"
          ]
        },
        {
          "output_type": "stream",
          "name": "stderr",
          "text": [
            "INFO:sqlalchemy.engine.Engine:PRAGMA temp.index_list(\"property_price_details\")\n"
          ]
        },
        {
          "output_type": "stream",
          "name": "stdout",
          "text": [
            "2023-09-25 16:39:57,846 INFO sqlalchemy.engine.Engine [raw sql] ()\n"
          ]
        },
        {
          "output_type": "stream",
          "name": "stderr",
          "text": [
            "INFO:sqlalchemy.engine.Engine:[raw sql] ()\n"
          ]
        },
        {
          "output_type": "stream",
          "name": "stdout",
          "text": [
            "2023-09-25 16:39:57,849 INFO sqlalchemy.engine.Engine PRAGMA main.table_info(\"property_price_details\")\n"
          ]
        },
        {
          "output_type": "stream",
          "name": "stderr",
          "text": [
            "INFO:sqlalchemy.engine.Engine:PRAGMA main.table_info(\"property_price_details\")\n"
          ]
        },
        {
          "output_type": "stream",
          "name": "stdout",
          "text": [
            "2023-09-25 16:39:57,851 INFO sqlalchemy.engine.Engine [raw sql] ()\n"
          ]
        },
        {
          "output_type": "stream",
          "name": "stderr",
          "text": [
            "INFO:sqlalchemy.engine.Engine:[raw sql] ()\n"
          ]
        },
        {
          "output_type": "stream",
          "name": "stdout",
          "text": [
            "2023-09-25 16:39:57,855 INFO sqlalchemy.engine.Engine PRAGMA main.index_list(\"property_price_details\")\n"
          ]
        },
        {
          "output_type": "stream",
          "name": "stderr",
          "text": [
            "INFO:sqlalchemy.engine.Engine:PRAGMA main.index_list(\"property_price_details\")\n"
          ]
        },
        {
          "output_type": "stream",
          "name": "stdout",
          "text": [
            "2023-09-25 16:39:57,857 INFO sqlalchemy.engine.Engine [raw sql] ()\n"
          ]
        },
        {
          "output_type": "stream",
          "name": "stderr",
          "text": [
            "INFO:sqlalchemy.engine.Engine:[raw sql] ()\n"
          ]
        },
        {
          "output_type": "stream",
          "name": "stdout",
          "text": [
            "2023-09-25 16:39:57,860 INFO sqlalchemy.engine.Engine PRAGMA temp.index_list(\"property_price_details\")\n"
          ]
        },
        {
          "output_type": "stream",
          "name": "stderr",
          "text": [
            "INFO:sqlalchemy.engine.Engine:PRAGMA temp.index_list(\"property_price_details\")\n"
          ]
        },
        {
          "output_type": "stream",
          "name": "stdout",
          "text": [
            "2023-09-25 16:39:57,862 INFO sqlalchemy.engine.Engine [raw sql] ()\n"
          ]
        },
        {
          "output_type": "stream",
          "name": "stderr",
          "text": [
            "INFO:sqlalchemy.engine.Engine:[raw sql] ()\n"
          ]
        },
        {
          "output_type": "stream",
          "name": "stdout",
          "text": [
            "2023-09-25 16:39:57,865 INFO sqlalchemy.engine.Engine PRAGMA main.table_info(\"property_price_details\")\n"
          ]
        },
        {
          "output_type": "stream",
          "name": "stderr",
          "text": [
            "INFO:sqlalchemy.engine.Engine:PRAGMA main.table_info(\"property_price_details\")\n"
          ]
        },
        {
          "output_type": "stream",
          "name": "stdout",
          "text": [
            "2023-09-25 16:39:57,867 INFO sqlalchemy.engine.Engine [raw sql] ()\n"
          ]
        },
        {
          "output_type": "stream",
          "name": "stderr",
          "text": [
            "INFO:sqlalchemy.engine.Engine:[raw sql] ()\n"
          ]
        },
        {
          "output_type": "stream",
          "name": "stdout",
          "text": [
            "2023-09-25 16:39:57,870 INFO sqlalchemy.engine.Engine SELECT sql FROM  (SELECT * FROM sqlite_master UNION ALL   SELECT * FROM sqlite_temp_master) WHERE name = ? AND type in ('table', 'view')\n"
          ]
        },
        {
          "output_type": "stream",
          "name": "stderr",
          "text": [
            "INFO:sqlalchemy.engine.Engine:SELECT sql FROM  (SELECT * FROM sqlite_master UNION ALL   SELECT * FROM sqlite_temp_master) WHERE name = ? AND type in ('table', 'view')\n"
          ]
        },
        {
          "output_type": "stream",
          "name": "stdout",
          "text": [
            "2023-09-25 16:39:57,872 INFO sqlalchemy.engine.Engine [raw sql] ('property_price_details',)\n"
          ]
        },
        {
          "output_type": "stream",
          "name": "stderr",
          "text": [
            "INFO:sqlalchemy.engine.Engine:[raw sql] ('property_price_details',)\n"
          ]
        },
        {
          "output_type": "stream",
          "name": "stdout",
          "text": [
            "2023-09-25 16:39:57,876 INFO sqlalchemy.engine.Engine ROLLBACK\n"
          ]
        },
        {
          "output_type": "stream",
          "name": "stderr",
          "text": [
            "INFO:sqlalchemy.engine.Engine:ROLLBACK\n"
          ]
        },
        {
          "output_type": "stream",
          "name": "stdout",
          "text": [
            "2023-09-25 16:39:57,879 INFO sqlalchemy.engine.Engine BEGIN (implicit)\n"
          ]
        },
        {
          "output_type": "stream",
          "name": "stderr",
          "text": [
            "INFO:sqlalchemy.engine.Engine:BEGIN (implicit)\n"
          ]
        },
        {
          "output_type": "stream",
          "name": "stdout",
          "text": [
            "2023-09-25 16:39:57,881 INFO sqlalchemy.engine.Engine \n",
            "DROP TABLE property_price_details\n"
          ]
        },
        {
          "output_type": "stream",
          "name": "stderr",
          "text": [
            "INFO:sqlalchemy.engine.Engine:\n",
            "DROP TABLE property_price_details\n"
          ]
        },
        {
          "output_type": "stream",
          "name": "stdout",
          "text": [
            "2023-09-25 16:39:57,884 INFO sqlalchemy.engine.Engine [no key 0.00228s] ()\n"
          ]
        },
        {
          "output_type": "stream",
          "name": "stderr",
          "text": [
            "INFO:sqlalchemy.engine.Engine:[no key 0.00228s] ()\n"
          ]
        },
        {
          "output_type": "stream",
          "name": "stdout",
          "text": [
            "2023-09-25 16:39:57,894 INFO sqlalchemy.engine.Engine COMMIT\n"
          ]
        },
        {
          "output_type": "stream",
          "name": "stderr",
          "text": [
            "INFO:sqlalchemy.engine.Engine:COMMIT\n"
          ]
        },
        {
          "output_type": "stream",
          "name": "stdout",
          "text": [
            "2023-09-25 16:39:57,898 INFO sqlalchemy.engine.Engine BEGIN (implicit)\n"
          ]
        },
        {
          "output_type": "stream",
          "name": "stderr",
          "text": [
            "INFO:sqlalchemy.engine.Engine:BEGIN (implicit)\n"
          ]
        },
        {
          "output_type": "stream",
          "name": "stdout",
          "text": [
            "2023-09-25 16:39:57,901 INFO sqlalchemy.engine.Engine \n",
            "CREATE TABLE property_price_details (\n",
            "\tid TEXT, \n",
            "\tprice FLOAT, \n",
            "\tcurrency TEXT, \n",
            "\tprice_period TEXT, \n",
            "\tproperty_type TEXT, \n",
            "\toperation_type TEXT\n",
            ")\n",
            "\n",
            "\n"
          ]
        },
        {
          "output_type": "stream",
          "name": "stderr",
          "text": [
            "INFO:sqlalchemy.engine.Engine:\n",
            "CREATE TABLE property_price_details (\n",
            "\tid TEXT, \n",
            "\tprice FLOAT, \n",
            "\tcurrency TEXT, \n",
            "\tprice_period TEXT, \n",
            "\tproperty_type TEXT, \n",
            "\toperation_type TEXT\n",
            ")\n",
            "\n",
            "\n"
          ]
        },
        {
          "output_type": "stream",
          "name": "stdout",
          "text": [
            "2023-09-25 16:39:57,903 INFO sqlalchemy.engine.Engine [no key 0.00242s] ()\n"
          ]
        },
        {
          "output_type": "stream",
          "name": "stderr",
          "text": [
            "INFO:sqlalchemy.engine.Engine:[no key 0.00242s] ()\n"
          ]
        },
        {
          "output_type": "stream",
          "name": "stdout",
          "text": [
            "2023-09-25 16:39:57,914 INFO sqlalchemy.engine.Engine COMMIT\n"
          ]
        },
        {
          "output_type": "stream",
          "name": "stderr",
          "text": [
            "INFO:sqlalchemy.engine.Engine:COMMIT\n"
          ]
        },
        {
          "output_type": "stream",
          "name": "stdout",
          "text": [
            "2023-09-25 16:39:57,977 INFO sqlalchemy.engine.Engine BEGIN (implicit)\n"
          ]
        },
        {
          "output_type": "stream",
          "name": "stderr",
          "text": [
            "INFO:sqlalchemy.engine.Engine:BEGIN (implicit)\n"
          ]
        },
        {
          "output_type": "stream",
          "name": "stdout",
          "text": [
            "2023-09-25 16:39:58,337 INFO sqlalchemy.engine.Engine INSERT INTO property_price_details (id, price, currency, price_period, property_type, operation_type) VALUES (?, ?, ?, ?, ?, ?)\n"
          ]
        },
        {
          "output_type": "stream",
          "name": "stderr",
          "text": [
            "INFO:sqlalchemy.engine.Engine:INSERT INTO property_price_details (id, price, currency, price_period, property_type, operation_type) VALUES (?, ?, ?, ?, ?, ?)\n"
          ]
        },
        {
          "output_type": "stream",
          "name": "stdout",
          "text": [
            "2023-09-25 16:39:58,343 INFO sqlalchemy.engine.Engine [generated in 0.24409s] [('5Be4XjP4b1Olk02vXOHLqA==', 195000.0, 'ARS', 'Mensual', 'Departamento', 'Alquiler'), ('V+6946R1DSniL3DToznOBw==', 235000.0, 'USD', 'Mensual', 'PH', 'Venta'), ('w0i2gQ7n18T4QYlI3gHjtg==', 2500.0, 'USD', 'Mensual', 'Departamento', 'Alquiler'), ('+FVdVVYFmNvza0tOpXfi/A==', 195000.0, 'USD', 'Mensual', 'Departamento', 'Venta'), ('Fg4t539n8vLsWIEQbZ4yPw==', 89999.0, 'USD', 'Mensual', 'Departamento', 'Venta'), ('Kifcpu2ojgqxhsKdxguYWA==', 115000.0, 'USD', 'Mensual', 'Departamento', 'Venta'), ('9E1bCBw2C/ZGhGpIEEL2SQ==', 25000.0, 'ARS', 'Mensual', 'Departamento', 'Alquiler'), ('+k6LeAXcxnfG/3oDjzOPUw==', 117700.0, 'USD', 'Mensual', 'Departamento', 'Venta')  ... displaying 10 of 43436 total bound parameter sets ...  ('mH5Ua+P7GkDCS6AkvAMVjg==', 70000.0, 'ARS', 'Mensual', 'Departamento', 'Alquiler'), ('5WGZjySGb/v71THZsSBd0g==', 1200000.0, 'USD', 'Mensual', 'Casa', 'Venta')]\n"
          ]
        },
        {
          "output_type": "stream",
          "name": "stderr",
          "text": [
            "INFO:sqlalchemy.engine.Engine:[generated in 0.24409s] [('5Be4XjP4b1Olk02vXOHLqA==', 195000.0, 'ARS', 'Mensual', 'Departamento', 'Alquiler'), ('V+6946R1DSniL3DToznOBw==', 235000.0, 'USD', 'Mensual', 'PH', 'Venta'), ('w0i2gQ7n18T4QYlI3gHjtg==', 2500.0, 'USD', 'Mensual', 'Departamento', 'Alquiler'), ('+FVdVVYFmNvza0tOpXfi/A==', 195000.0, 'USD', 'Mensual', 'Departamento', 'Venta'), ('Fg4t539n8vLsWIEQbZ4yPw==', 89999.0, 'USD', 'Mensual', 'Departamento', 'Venta'), ('Kifcpu2ojgqxhsKdxguYWA==', 115000.0, 'USD', 'Mensual', 'Departamento', 'Venta'), ('9E1bCBw2C/ZGhGpIEEL2SQ==', 25000.0, 'ARS', 'Mensual', 'Departamento', 'Alquiler'), ('+k6LeAXcxnfG/3oDjzOPUw==', 117700.0, 'USD', 'Mensual', 'Departamento', 'Venta')  ... displaying 10 of 43436 total bound parameter sets ...  ('mH5Ua+P7GkDCS6AkvAMVjg==', 70000.0, 'ARS', 'Mensual', 'Departamento', 'Alquiler'), ('5WGZjySGb/v71THZsSBd0g==', 1200000.0, 'USD', 'Mensual', 'Casa', 'Venta')]\n"
          ]
        },
        {
          "output_type": "stream",
          "name": "stdout",
          "text": [
            "2023-09-25 16:39:58,489 INFO sqlalchemy.engine.Engine COMMIT\n"
          ]
        },
        {
          "output_type": "stream",
          "name": "stderr",
          "text": [
            "INFO:sqlalchemy.engine.Engine:COMMIT\n"
          ]
        },
        {
          "output_type": "execute_result",
          "data": {
            "text/plain": [
              "43436"
            ]
          },
          "metadata": {},
          "execution_count": 12
        }
      ]
    },
    {
      "cell_type": "code",
      "source": [
        "# Section 2: Data Analysis"
      ],
      "metadata": {
        "id": "WI1rulmrZHNS"
      },
      "execution_count": null,
      "outputs": []
    },
    {
      "cell_type": "code",
      "source": [
        "# Retrieve properties that have a price greater than 1 million and are located in \"Estados Unidos\" (l1).\n",
        "\n",
        "# 1st SQL Query\n",
        "import sqlite3\n",
        "import pandas as pd\n",
        "\n",
        "# Creating a connection to the SQLite housingprice.db database\n",
        "conn = sqlite3.connect('housingprice.db')\n",
        "\n",
        "sql_query = '''\n",
        "SELECT pd.*\n",
        "FROM property_details pd\n",
        "JOIN property_price_details ppd ON pd.id = ppd.id\n",
        "WHERE ppd.price > 1000000 AND pd.l1 = \"Estados Unidos\";\n",
        "'''\n",
        "\n",
        "# Execute the query and store the results in a DataFrame\n",
        "# df = pd.read_sql_query(sql_query, conn)\n",
        "\n",
        "# Display the results\n",
        "# print(df)\n",
        "\n",
        "cursor = conn.cursor()\n",
        "cursor.execute(sql_query)\n",
        "columns = [column[0] for column in cursor.description]\n",
        "result1 = [dict(zip(columns, row)) for row in cursor.fetchall()]\n",
        "print(result1)\n",
        "cursor.close()\n",
        "\n",
        "conn.close()"
      ],
      "metadata": {
        "colab": {
          "base_uri": "https://localhost:8080/"
        },
        "id": "BuiIdOObb8WR",
        "outputId": "9e3e3d3f-6298-4d52-b6ed-a3cbb071e516"
      },
      "execution_count": null,
      "outputs": [
        {
          "output_type": "stream",
          "name": "stdout",
          "text": [
            "[{'id': 'jia0r061K3bw5GPCHag4/Q==', 'start_date': '10/26/2020', 'end_date': '12/31/9999', 'created_on': '10/26/2020', 'lat': '25.7643553', 'lon': '-80.1930205', 'l1': 'Estados Unidos', 'l2': 'Florida', 'l3': None, 'rooms': '2', 'bedrooms': 1.0, 'bathrooms': 1.0, 'surface_total': 87.0, 'surface_covered': 87.0}, {'id': 'swvA3wM1Df6lwOBx4ciKJg==', 'start_date': '9/15/2020', 'end_date': '12/31/9999', 'created_on': '9/15/2020', 'lat': '25.8875948', 'lon': '-80.1311564', 'l1': 'Estados Unidos', 'l2': 'Florida', 'l3': None, 'rooms': '3', 'bedrooms': 2.0, 'bathrooms': 2.0, 'surface_total': 242.0, 'surface_covered': 168.0}, {'id': '4tMKIwmJObpzvXuT/fFPnQ==', 'start_date': '3/4/2020', 'end_date': '10/16/2020', 'created_on': '3/4/2020', 'lat': '25.9519943', 'lon': '-80.11997', 'l1': 'Estados Unidos', 'l2': 'Florida', 'l3': None, 'rooms': '9', 'bedrooms': 3.0, 'bathrooms': 5.0, 'surface_total': 373.0, 'surface_covered': 283.0}, {'id': '7Aa4z2SWO2mp+P/JXdTmsA==', 'start_date': '3/4/2020', 'end_date': '10/16/2020', 'created_on': '3/4/2020', 'lat': '25.9519943', 'lon': '-80.11997', 'l1': 'Estados Unidos', 'l2': 'Florida', 'l3': None, 'rooms': '9', 'bedrooms': 4.0, 'bathrooms': 5.0, 'surface_total': 530.0, 'surface_covered': 385.0}, {'id': 'fAv1rqL0LHZOiqDaDNwrzA==', 'start_date': '3/4/2020', 'end_date': '10/16/2020', 'created_on': '3/4/2020', 'lat': '25.9519943', 'lon': '-80.11997', 'l1': 'Estados Unidos', 'l2': 'Florida', 'l3': None, 'rooms': '5', 'bedrooms': 2.0, 'bathrooms': 2.0, 'surface_total': 206.0, 'surface_covered': 123.0}]\n"
          ]
        }
      ]
    },
    {
      "cell_type": "code",
      "source": [
        "# Categorize properties based on their surface area as 'Small' if it's less than 50 square meters, 'Medium' if it's between 50 and 100 square meters, and 'Large' if it's greater than 100 square meters:\n",
        "# 2nd SQL query\n",
        "\n",
        "import sqlite3\n",
        "import pandas as pd\n",
        "\n",
        "# Create a connection to the SQLite database\n",
        "conn = sqlite3.connect('housingprice.db')\n",
        "\n",
        "# SQL query to retrieve properties from the database\n",
        "sql_query = 'SELECT * FROM property_details;'\n",
        "\n",
        "# Execute the query and stored the results in a DataFrame\n",
        "df = pd.read_sql_query(sql_query, conn)\n",
        "\n",
        "# Define a function to categorize properties based on surface area\n",
        "def categorize_size(surface_area):\n",
        "    if surface_area < 50:\n",
        "        return 'Small'\n",
        "    elif 50 <= surface_area <= 100:\n",
        "        return 'Medium'\n",
        "    else:\n",
        "        return 'Large'\n",
        "\n",
        "# Applying the categorization function to create a new column\n",
        "df['size_category'] = df['surface_total'].apply(categorize_size)\n",
        "\n",
        "# Display the DataFrame with the new 'size_category' column\n",
        "# print(df)\n",
        "\n",
        "# Here I used the apply method to apply this function to the 'surface_total' column and create a new 'size_category' column.\n",
        "# Finally, displayed the DataFrame with the new categorization.\n",
        "cursor = conn.cursor()\n",
        "cursor.execute(sql_query)\n",
        "columns = [column[0] for column in cursor.description]\n",
        "result2 = [dict(zip(columns, row)) for row in cursor.fetchall()]\n",
        "cursor.close()\n",
        "print(result2[:20])\n",
        "conn.close()"
      ],
      "metadata": {
        "colab": {
          "base_uri": "https://localhost:8080/"
        },
        "id": "YWDnsArvdDIx",
        "outputId": "066b0ceb-802d-4e10-c56c-46b57e0464b8"
      },
      "execution_count": null,
      "outputs": [
        {
          "output_type": "stream",
          "name": "stdout",
          "text": [
            "[{'id': '5Be4XjP4b1Olk02vXOHLqA==', 'start_date': '7/31/2020', 'end_date': '8/28/2020', 'created_on': '7/31/2020', 'lat': '-34.5575633', 'lon': '-58.4423887', 'l1': 'Argentina', 'l2': 'Capital Federal', 'l3': 'Belgrano', 'rooms': '4', 'bedrooms': 3.0, 'bathrooms': 4.0, 'surface_total': 155.0, 'surface_covered': 150.0}, {'id': 'V+6946R1DSniL3DToznOBw==', 'start_date': '12/16/2020', 'end_date': '12/17/2020', 'created_on': '12/16/2020', 'lat': '-34.602959', 'lon': '-58.46203', 'l1': 'Argentina', 'l2': 'Capital Federal', 'l3': 'Paternal', 'rooms': '4', 'bedrooms': 3.0, 'bathrooms': 3.0, 'surface_total': 181.0, 'surface_covered': 181.0}, {'id': 'w0i2gQ7n18T4QYlI3gHjtg==', 'start_date': '1/5/2021', 'end_date': '12/31/9999', 'created_on': '1/5/2021', 'lat': '-34.5790704', 'lon': '-58.403829', 'l1': 'Argentina', 'l2': 'Capital Federal', 'l3': 'Palermo', 'rooms': '4', 'bedrooms': 2.0, 'bathrooms': 2.0, 'surface_total': 230.0, 'surface_covered': 211.0}, {'id': '+FVdVVYFmNvza0tOpXfi/A==', 'start_date': '6/4/2020', 'end_date': '6/25/2020', 'created_on': '6/4/2020', 'lat': '-34.7978957', 'lon': '-58.3859613', 'l1': 'Argentina', 'l2': 'Bs.As. G.B.A. Zona Sur', 'l3': 'Almirante Brown', 'rooms': '3', 'bedrooms': 2.0, 'bathrooms': 2.0, 'surface_total': 70.0, 'surface_covered': 65.0}, {'id': 'Fg4t539n8vLsWIEQbZ4yPw==', 'start_date': '10/22/2020', 'end_date': '10/31/2020', 'created_on': '10/22/2020', 'lat': '-34.59952536', 'lon': '-58.40353734', 'l1': 'Argentina', 'l2': 'Capital Federal', 'l3': 'Balvanera', 'rooms': '1', 'bedrooms': 1.0, 'bathrooms': 1.0, 'surface_total': 40.0, 'surface_covered': 36.0}, {'id': 'Kifcpu2ojgqxhsKdxguYWA==', 'start_date': '6/5/2020', 'end_date': '12/31/9999', 'created_on': '6/5/2020', 'lat': '-34.4293946', 'lon': '-58.5651153', 'l1': 'Argentina', 'l2': 'Bs.As. G.B.A. Zona Norte', 'l3': 'Tigre', 'rooms': '3', 'bedrooms': 2.0, 'bathrooms': 2.0, 'surface_total': 75.0, 'surface_covered': 75.0}, {'id': '9E1bCBw2C/ZGhGpIEEL2SQ==', 'start_date': '12/15/2020', 'end_date': '2/2/2021', 'created_on': '12/15/2020', 'lat': '-34.5756517', 'lon': '-58.4070976', 'l1': 'Argentina', 'l2': 'Capital Federal', 'l3': 'Palermo', 'rooms': '1', 'bedrooms': 1.0, 'bathrooms': 1.0, 'surface_total': 30.0, 'surface_covered': 30.0}, {'id': '+k6LeAXcxnfG/3oDjzOPUw==', 'start_date': '7/6/2020', 'end_date': '12/3/2020', 'created_on': '7/6/2020', 'lat': '-34.6161039', 'lon': '-58.46116173', 'l1': 'Argentina', 'l2': 'Capital Federal', 'l3': 'Caballito', 'rooms': '2', 'bedrooms': 1.0, 'bathrooms': 1.0, 'surface_total': 58.0, 'surface_covered': 49.0}, {'id': 'F+Ej0+wgZJ9bjMnmaY/C8Q==', 'start_date': '1/1/2021', 'end_date': '2/26/2021', 'created_on': '1/1/2021', 'lat': '-34.4379094', 'lon': '-58.8766822', 'l1': 'Argentina', 'l2': 'Bs.As. G.B.A. Zona Norte', 'l3': 'Pilar', 'rooms': '12', 'bedrooms': 5.0, 'bathrooms': 3.0, 'surface_total': 728.0, 'surface_covered': 600.0}, {'id': '65WM7QWsl9VWUbGfHN00yw==', 'start_date': '9/7/2020', 'end_date': '10/19/2020', 'created_on': '9/7/2020', 'lat': '-34.5881748', 'lon': '-58.3954478', 'l1': 'Argentina', 'l2': 'Capital Federal', 'l3': 'Recoleta', 'rooms': '2', 'bedrooms': 1.0, 'bathrooms': 1.0, 'surface_total': 39.0, 'surface_covered': 39.0}, {'id': 'R1af8KLlWFW8N7ZztwgrUA==', 'start_date': '8/25/2020', 'end_date': '9/4/2020', 'created_on': '8/25/2020', 'lat': '-34.716437', 'lon': '-58.3098129', 'l1': 'Argentina', 'l2': 'Bs.As. G.B.A. Zona Sur', 'l3': 'Quilmes', 'rooms': '3', 'bedrooms': 2.0, 'bathrooms': 1.0, 'surface_total': 60.0, 'surface_covered': 60.0}, {'id': 'syQI6n84Jp2zJPPG2t85xA==', 'start_date': '4/22/2020', 'end_date': '6/22/2020', 'created_on': '4/22/2020', 'lat': '-32.9430649', 'lon': '-60.6440894', 'l1': 'Argentina', 'l2': 'Santa Fe', 'l3': 'Rosario', 'rooms': '3', 'bedrooms': 2.0, 'bathrooms': 1.0, 'surface_total': 65.0, 'surface_covered': 60.0}, {'id': 'XCJsirGKr2NH2lohKVuO+g==', 'start_date': '10/1/2020', 'end_date': '1/28/2021', 'created_on': '10/1/2020', 'lat': '-34.5636834', 'lon': '-58.4689851', 'l1': 'Argentina', 'l2': 'Capital Federal', 'l3': 'Coghlan', 'rooms': '1', 'bedrooms': 1.0, 'bathrooms': 1.0, 'surface_total': 31.0, 'surface_covered': 27.0}, {'id': '/7oIjA8MkRZL684iQ1cAFQ==', 'start_date': '1/13/2021', 'end_date': '12/31/9999', 'created_on': '1/13/2021', 'lat': '-34.6018633', 'lon': '-58.3909104', 'l1': 'Argentina', 'l2': 'Capital Federal', 'l3': 'Barrio Norte', 'rooms': '4', 'bedrooms': 3.0, 'bathrooms': 1.0, 'surface_total': 58.0, 'surface_covered': 58.0}, {'id': 'CDj6Tp5xBPhanUjEE/ZTrg==', 'start_date': '6/19/2020', 'end_date': '9/8/2020', 'created_on': '6/19/2020', 'lat': '-34.419266', 'lon': '-58.5712545', 'l1': 'Argentina', 'l2': 'Bs.As. G.B.A. Zona Norte', 'l3': 'Tigre', 'rooms': '2', 'bedrooms': 1.0, 'bathrooms': 1.0, 'surface_total': 87.0, 'surface_covered': 55.0}, {'id': 'uUMluVxAh01VorZqNNtLug==', 'start_date': '8/11/2020', 'end_date': '12/31/9999', 'created_on': '8/11/2020', 'lat': '-34.7531814', 'lon': '-58.4025307', 'l1': 'Argentina', 'l2': 'Bs.As. G.B.A. Zona Sur', 'l3': 'Lomas de Zamora', 'rooms': '4', 'bedrooms': 3.0, 'bathrooms': 2.0, 'surface_total': 176.0, 'surface_covered': 143.0}, {'id': '17Q9RpGf3C/RNO8EqBVHmw==', 'start_date': '3/4/2020', 'end_date': '12/31/9999', 'created_on': '3/4/2020', 'lat': '-34.4792099', 'lon': '-58.533035', 'l1': 'Argentina', 'l2': 'Bs.As. G.B.A. Zona Norte', 'l3': 'San Isidro', 'rooms': '2', 'bedrooms': 1.0, 'bathrooms': 1.0, 'surface_total': 48.0, 'surface_covered': 48.0}, {'id': 'BgZosWWpbyWfyzPUHMe2DQ==', 'start_date': '6/24/2020', 'end_date': '6/24/2020', 'created_on': '6/24/2020', 'lat': '-34.6094402', 'lon': '-58.3774935', 'l1': 'Argentina', 'l2': 'Capital Federal', 'l3': 'Monserrat', 'rooms': '3', 'bedrooms': 1.0, 'bathrooms': 1.0, 'surface_total': 52.0, 'surface_covered': 51.0}, {'id': 'cZa74VokxX524fIbxKGHwg==', 'start_date': '9/29/2020', 'end_date': '12/31/9999', 'created_on': '9/29/2020', 'lat': '-34.5908613', 'lon': '-58.4250368', 'l1': 'Argentina', 'l2': 'Capital Federal', 'l3': 'Palermo', 'rooms': '1', 'bedrooms': 1.0, 'bathrooms': 1.0, 'surface_total': 44.0, 'surface_covered': 40.0}, {'id': 'dFh8nVdWY6zuDm8jyWfZnA==', 'start_date': '1/7/2021', 'end_date': '12/31/9999', 'created_on': '1/7/2021', 'lat': '-34.5946935', 'lon': '-58.4210627', 'l1': 'Argentina', 'l2': 'Capital Federal', 'l3': 'Palermo', 'rooms': '1', 'bedrooms': 1.0, 'bathrooms': 1.0, 'surface_total': 33.0, 'surface_covered': 33.0}]\n"
          ]
        }
      ]
    },
    {
      "cell_type": "code",
      "source": [
        "# List all properties (id) in the \"Belgrano\" neighborhood (l3) that have the same number of bedrooms and bathrooms as another property in the dataset:\n",
        "# 3rd SQL query\n",
        "\n",
        "conn = sqlite3.connect('housingprice.db')\n",
        "\n",
        "sql_query = \"\"\"SELECT id\n",
        "FROM property_details\n",
        "WHERE l3 = 'Belgrano'\n",
        "  AND (bedrooms, bathrooms) IN (\n",
        "    SELECT bedrooms, bathrooms\n",
        "    FROM property_details\n",
        "    GROUP BY bedrooms, bathrooms\n",
        "    HAVING COUNT(*) > 1\n",
        "  );\"\"\"\n",
        "\n",
        "df = pd.read_sql_query(sql_query, conn)\n",
        "# Close the database connection\n",
        "# conn.close()\n",
        "\n",
        "# Display the DataFrame with the new 'size_category' column\n",
        "cursor = conn.cursor()\n",
        "cursor.execute(sql_query)\n",
        "columns = [column[0] for column in cursor.description]\n",
        "result3 = [dict(zip(columns, row)) for row in cursor.fetchall()]\n",
        "cursor.close()\n",
        "print(result3)\n",
        "conn.close()"
      ],
      "metadata": {
        "colab": {
          "base_uri": "https://localhost:8080/"
        },
        "id": "qST-hsG0eiF8",
        "outputId": "200a0e6b-1fe2-474c-c7f0-7fe702e3e299"
      },
      "execution_count": null,
      "outputs": [
        {
          "output_type": "stream",
          "name": "stdout",
          "text": [
            "[{'id': '5Be4XjP4b1Olk02vXOHLqA=='}, {'id': 'F+GF0xxgEoQ8FHaSUbPxfQ=='}, {'id': '3l0RfMrJh4v53riOmSUgVQ=='}, {'id': 'kU5f32VoLFhgCXHoj42S/A=='}, {'id': 'I5Qis31CnRAmOOYrS28M/Q=='}, {'id': 'IeXuObiv9LqopK9DZbRJVA=='}, {'id': 'rsRg/Z75wvhocCD8pP6Xyw=='}, {'id': 'S6PTWmJWHjLIVNwzHlwfbQ=='}, {'id': 'qPjJtPuudXJhiQCUb/1KUw=='}, {'id': 'gToYx3aIoIrlj4eQMJw1+w=='}, {'id': 'S7bFrVInXJyBQ3kkVqZBEQ=='}, {'id': 'ETDY1u250foNwYk8nyLkag=='}, {'id': 'mlpxPNH/4TazKAEZ4AuDDg=='}, {'id': 'hId9vx5w7oH3GhVUeCPovA=='}, {'id': 'A11+rChZdBNBHk1iXpQg8g=='}, {'id': 'O18aaprDIiCYv24LQ99I3w=='}, {'id': 'Ru+P1sgYK2L4ytwMMtMbTw=='}, {'id': '8trTbOB8zmUC5vRllehM3w=='}, {'id': 'L26xPrU50NiDbbAbNYNq+g=='}, {'id': 'Y36hM3T1rCOhZSmRkqRv1A=='}, {'id': 'JptavWzXSKVwYNpmLJEzPA=='}, {'id': 'dEE8ebfrETmDqErLe8N4aw=='}, {'id': 'yWKukJh641RHjqqNuuzFxQ=='}, {'id': 'iD4EgVz7B8c7ehDHF1+/9A=='}, {'id': '+QXFjt44u9TUChaCLHgYrw=='}, {'id': 'lFfhh5ap6uCO4HOavbyPnQ=='}, {'id': 'd6qEylGH4l69g8jN6cOKcA=='}, {'id': 'DKbVpIeBwtxUrmy5SLc2tQ=='}, {'id': 'CEh//2ZHI04MPjT7xfCE7g=='}, {'id': 'dQrgLV90Ahq1NQRlUk8eWA=='}, {'id': 'ZUBIw/TfD4HlWmN+19T9Og=='}, {'id': 'Aq7J12l4yzNypkF0Ui043A=='}, {'id': 'GQavmaM+JBabWt+h+ob28Q=='}, {'id': 'CCtEqBxskMq3+843Wu1Hww=='}, {'id': 'DzpWjNFWgjDpQHcqz2GkzA=='}, {'id': 'SHi4EU4DBNwI6WNI3gRIsQ=='}, {'id': 'deb/Di8XlE6JJAutd18LlA=='}, {'id': 'xECod1NB5GPUKKEKf8RaWg=='}, {'id': 'OJiqD5aAraWwazti05fYcg=='}, {'id': 'Tc23mQIdrmdgnMITZVzofA=='}, {'id': 'emmRPzKGhJ02HKerK14veA=='}, {'id': 'Cak6C+7V9fVFhkUEwpmAAA=='}, {'id': 'uJO7gqIdrcR1yavVsWpZlQ=='}, {'id': 'emf92T0oV0cbCQDmz2Lx0Q=='}, {'id': 'imAq1eqvrMgSDBV5Or5JLQ=='}, {'id': 'isWg/yRmyPVPhCTTrXhRUg=='}, {'id': 'WJ+eTivybe9Q04wdGYBqEg=='}, {'id': '832TAhfyiR0/QcZKCC/6Vw=='}, {'id': 'JIObujTROGfO6PiWR1BESg=='}, {'id': 'F/fYmImOkIDfZZu5fDjrQg=='}, {'id': 'zHNeDux880eFkZhvd+KWdA=='}, {'id': 'oWlR58OrHfTr3/krVcxjag=='}, {'id': '2TlIUf2iDsYiic3en1knWg=='}, {'id': '6n+uab1S10s1+pInMTtNbA=='}, {'id': 'qxhHwriTRe6GuTXel2DqWw=='}, {'id': '+DAN+ErJRqYI6ADoYqGskg=='}, {'id': 'gA6FUIrylrslLCoGmufeAw=='}, {'id': 'oGG0si1ra7V2ptSk/kERsA=='}, {'id': 'G0HrqV0UpNZ4O/q/LTi90w=='}, {'id': '2X9+83VKUTYYV/xpAqwWlA=='}, {'id': '0z/EdxzRPiuxPZFuWaqjig=='}, {'id': 'ZKvgGO1aFJoL9/u9PUi1Sg=='}, {'id': 'FRswHRmiojkopW4WFmr53w=='}, {'id': 'kkGxz2bDqtvRLDGPXhCeZA=='}, {'id': 'eJccpAwfWO+nxtcFh8c6nQ=='}, {'id': 'qQPMWl+Oev2TkEEXe19QWA=='}, {'id': 'ObACb3Ox/weE+epfsQbF2w=='}, {'id': 'sz1a0VgQYDIbpS4BPy0qvw=='}, {'id': 'iHd2Gx5U7LoDh2PTgvDPEA=='}, {'id': 'lZ5stEZDm+wbS2boPE6vPQ=='}, {'id': 'USxa8hxpmmDaCs6ACedwgA=='}, {'id': 'tlHbweGhsndodBH6jwSh8w=='}, {'id': 'HpOgrRozEPWPWw+ZdK0QOQ=='}, {'id': 'p6vparf6jpSrhoW15e/anw=='}, {'id': 'U0hBzKPLXCMPnQvMMutfVQ=='}, {'id': 'IbKgHyKvpMkgSAVN59LBJQ=='}, {'id': 'quRGgtCQ11h8BtjhS3sWKQ=='}, {'id': '3DmLvQTUObQHZXkG1yvqlQ=='}, {'id': 'sG+Y5Bl/NQELZwxXWlybKQ=='}, {'id': 'h2KqfzbbF1IHx9/w9OLs3w=='}, {'id': 'kcx05nhBf/v22PQ7PjxTfw=='}, {'id': 'lmfjSJ0gAhWUSv8G/o9hhw=='}, {'id': 'UV4B5504bsBbctJj5CsqQQ=='}, {'id': 'ka//GExBJqRvfTT9Mynqsw=='}, {'id': 'kd/GuY7Rw7llIzgtREEtDg=='}, {'id': 'Ibh4/GGySBkn25hfpGTjVw=='}, {'id': 'KoUl5iL6qE3KrY2C87Ljkw=='}, {'id': 'evOhoKAULxR01RodPubkjw=='}, {'id': '4xwXmcyCqoQZSlWWqVFXCg=='}, {'id': 'QHF0BGo9APTgk6R22unXFg=='}, {'id': 'PJ3llzBOno3GmQDUZl9Mtw=='}, {'id': 'rHg1INewMs9QorO1isfpvQ=='}, {'id': 'YRwGw29JyLMSJbL7BQVyqg=='}, {'id': 'AOgA1eLzkGvPPRroEmemlQ=='}, {'id': 'ggaRRBEsmuS+/7V2sSJ8KQ=='}, {'id': 'G3cLg7OHiEH9kmaqwHhxkw=='}, {'id': 'uz9EMIgreVxTY2NgZMeR0g=='}, {'id': 'i+ed9xfzJPL0FTD3k1mPCg=='}, {'id': 'F7ceV35ATxe0PPBQv1cE9w=='}, {'id': 'gctC3L0hBb0PygvwF7nMpw=='}, {'id': 'H0NMWh4lw1Jd03z/HeLomg=='}, {'id': '0wbdOj4QBV1MBC8QcIFKWA=='}, {'id': '9kI0nQ5voEYa4oqVDAnVTw=='}, {'id': '834zAhp6piUREy7aS0usKg=='}, {'id': '1MrUsmG6OT6JOn4YOzaH5Q=='}, {'id': 'S4GInKl+11jChr50GpY0qg=='}, {'id': 'IIyxVVmRp/EQwHrKfjGLpA=='}, {'id': '9RjJCs5leKfsCKSWOgVg7Q=='}, {'id': 'hix+sZIm3JHyzJYADJvsjg=='}, {'id': 'il2XtcVQGhbMDouXYKjQ9g=='}, {'id': 'ZPIRfgNcbvNcDQDiCvQ2dw=='}, {'id': 'A71+csmxbo6eQMeuYy5NaA=='}, {'id': '5pY4Lwk3L1Cz/sF2kBSnSQ=='}, {'id': 'uvKF8fCx83WOBZzn3Dw7rw=='}, {'id': 'anNLSN7eY2UJRgf5PENOtA=='}, {'id': 'iVxMoRk+BvfbTaUUAU4Ehw=='}, {'id': 'hVEzMdkf9vDbwfWYVA2tBA=='}, {'id': 'UyJowAdv0PypomeCMsQWdw=='}, {'id': 'h606BV44W+X3uQHHvC4z/Q=='}, {'id': 'PhtYqnsnOmHUUqsbn0Fcbg=='}, {'id': 'JHjWAFa4vjffhd9l03b8Fw=='}, {'id': 'Lvjr8bz9TnogNcnrRSjQeg=='}, {'id': 'EYrcn0umTYuza9Wvb4ZhLg=='}, {'id': 'hkYMODZ+NBVDDgik6h5BWw=='}, {'id': 'dw+E24wWYenHkrbWrgy93w=='}, {'id': 'W3MF1UcWxHobi/5lcado+A=='}, {'id': 'pCUXW+3KEiFuoGdhjp4MgA=='}, {'id': 'tXkQL10hF+eUbaYDOjZ4cw=='}, {'id': '5t/TdWce0kNXfNpe78sBeQ=='}, {'id': 'urFK+4Yq3jFWIHQwKhYEpQ=='}, {'id': 'lDrPPBkom0taeA8/vxSKWw=='}, {'id': 'Q3GnczsOT1S4JCWrh1cLxg=='}, {'id': 'iiOo5LWlNx2RkkTRVTxppA=='}, {'id': 'Qm13aaYrh5Iz43SWfHwKKw=='}, {'id': 's1lOyZtlRa2yWJdVhbhBIQ=='}, {'id': 'z8pv+upjKfxByAIAuumQdg=='}, {'id': 'Daw8PZQ+VYHrB+1qYknEaw=='}, {'id': 'SdtAvsQALkfkCUCJtkAd8g=='}, {'id': 'iMDduYh7UPcg4pdAgUj5+A=='}, {'id': '/xj0Ps9TzrHQorPzXbS7Pg=='}, {'id': 'DG+gmIFtrY3o8VBo8IceqQ=='}, {'id': 'VMquZfau0SHBgCaGO/he9Q=='}, {'id': 'o8lgHaiS0FDkWK++Yrniog=='}, {'id': '9uKonh88pkO6p671FrW4Dg=='}, {'id': 'FNXNrPbJjXHbDnAQcqeHPA=='}, {'id': '+V1YbsbeYKm417QBF1dxZA=='}, {'id': 'TDyNDS4FSFx5sNRgks93Dw=='}, {'id': 'RcLKn2bwhl/lccEKeAq/LA=='}, {'id': 'T4yqG1lyK1WF2vcGlDLOLQ=='}, {'id': 'O9LxF9xW9dme528kYOaYLA=='}, {'id': 'to2m8qnbHXKutg6Lv4Lfhg=='}, {'id': '5OyDgfwhPCxINqezcblTNA=='}, {'id': 'LyvON5c1XToFqEPNF7c6kA=='}, {'id': 'k3ZA7cIqUcZrNHtp2luAKg=='}, {'id': 'GTCuanVackljO96h378Xng=='}, {'id': 'mt9lJ1hU58IIlNgIInZ7ww=='}, {'id': '3J+eCs1L7/6zqJ7ETTwU3Q=='}, {'id': 'CVt59TY+hnIwoQmc8XpdMw=='}, {'id': 'SEVn/ZLqhGRoY3A78wZcsA=='}, {'id': 'Gy03KsAyEY/blXxDwoMkjg=='}, {'id': 'qDugft6DLScwsi2/n/dKgA=='}, {'id': 'ujGDjIxGRDs1PAfCKWNIQQ=='}, {'id': '46mC4oTHSHk8ThzYQ2dTIg=='}, {'id': '+pQMJ2FlFnGrHFHliDQSXg=='}, {'id': 'h/otV0Z4VA1YMaUFS8AcyQ=='}, {'id': 'gVyPnUBj+gqCh8ZayqISRg=='}, {'id': 'geQdN3EWS2nnZNG08HoFMQ=='}, {'id': 'aGh0CqSmw9LZZKLtC8dOaw=='}, {'id': 'UtLskQNkOmBQYVgpNPFOXw=='}, {'id': '7QSdOK1dZTMVRuBrTSMw3w=='}, {'id': '+NNE8TeDvDknMIwkTB9RwA=='}, {'id': 'HPhTteauFsOaOeUAwbR7Hw=='}, {'id': '3cScPgschm6jH0NTM9Lkkg=='}, {'id': 'cTIznYop1ju1b279TunH4w=='}, {'id': '2a7feIDsKr93pXfcdptXTQ=='}, {'id': 'JHF+ItClUAyPdcwzsZpSFQ=='}, {'id': 's8l362RcY+KR8IIbFBnarQ=='}, {'id': 'lVNTGA3cu7/FKx4tiwwF5A=='}, {'id': '2VaVq2sNKT+/0V9xKGkCIg=='}, {'id': 'KA4cjiRSp9INx0XNP20c0w=='}, {'id': 'vAEfsyHT4jjgEw7v/d3KzA=='}, {'id': 'KqtWlE54Tb9KGE2HY5eNfg=='}, {'id': 'ILMzan01x+cCtxwi7CZKWA=='}, {'id': 'ZBaI6T1gM6WAbtRb7iMqsw=='}, {'id': 'CmkDaC11/AugAYKGeI+JaQ=='}, {'id': '1wchs+LfuQ804u0zEVzoAQ=='}, {'id': 'GRUvgy2zAJAcZvFryhAa0Q=='}, {'id': 'KGTWjhtrtQD3Ziq36vGLAw=='}, {'id': 'HzrqpRGohD1Spo5mI48qRg=='}, {'id': 'zwOdU3J7qEcx6MtxcX1SoQ=='}, {'id': 'cHD4B36bZ/kt0NVhUuTc1g=='}, {'id': 'QZIACGNsbWxtA4NMjlobng=='}, {'id': '4YsnkQdeKT6Kt7u3M1WsZA=='}, {'id': '6cYeRGCrboRdk97hFTCbtA=='}, {'id': 'tF/HGBqQi+xe4nfCA9+Zfw=='}, {'id': 'Jjxmd0SkVF+naAJjH7mpeQ=='}, {'id': 'OCxxrAa43ONJw90e0Dx2NQ=='}, {'id': 'IDx5MzbJVfFAQDEoonON9A=='}, {'id': 'AoBX0YrIhngNLbPKfRYsHA=='}, {'id': 'VWRKsLVSQZbzOcR/vf/bzg=='}, {'id': 'ndCIioWasbD0/ugMMtiA0A=='}, {'id': 'pm1xWumETHUms4kmz4RDIQ=='}, {'id': 'fG1bUpita+XnvnwNtLEF+A=='}, {'id': '51qAXbz5gaCX6MQI5BKPKg=='}, {'id': 'bLcwZqcilvEIqVzTl/WI+Q=='}, {'id': 'XOWcUFGO9jwCcuh9uS9ZIw=='}, {'id': 'CEUFlmQP4ijl+/hM0d8a6Q=='}, {'id': '9FWUCimGEFdu1AC73KAbBg=='}, {'id': 'd6nyYVvYYAoaK17VeFNfFw=='}, {'id': '1AcWzDBM2FWC4+jdcnicnQ=='}, {'id': 'JL9uh2U7PByt6R3MrC3wUQ=='}, {'id': 'y0Fo6tBQb7Wh4Xp06gNVyg=='}, {'id': '5cVDxtlI3gHmVfXvvIzdvQ=='}, {'id': 'RusjtpQgrf7fPcQ681ICxA=='}, {'id': 'sH5yEATnrJHpa5xPbr2XIg=='}, {'id': 'zOOgN2joux8DmPF0iwwdrQ=='}, {'id': 'AWN5wjuwDI8xQvexu8Fz5Q=='}, {'id': '/GBg+ERb8b8jhUpMMDSbqQ=='}, {'id': 'czn4N/2TWhJPZmHcEj0F/g=='}, {'id': '6OkmmmdY7EP+44pYqlus/g=='}, {'id': '1DAdB+1g3seOysRlVrQNrA=='}, {'id': 'BfugazyEjAF8dk+MWujUew=='}, {'id': 'RZERyLPsMX2rTNqKndMPzg=='}, {'id': 'JO4d1y2qXb+0kOZD5g9Tfw=='}, {'id': 'gr2XQ3PJAd/+PcwvwqGB7g=='}, {'id': 'Vf27xbHbAg0idRggrybIOg=='}, {'id': 'T5+Hl3qF3XgaTwJm1kVCtg=='}, {'id': 'ZB55EBPSNXA8GpX9eFpWsQ=='}, {'id': 'tfbAGEsM9SDpOOJpR5d8Gw=='}, {'id': 'zEd2mwu5zvV7PtwndD2DTA=='}, {'id': 'IXIe9NYECFvDQQzA8Mb+iA=='}, {'id': '41qp6PuUrD4zrOegdal3BQ=='}, {'id': 'AxEj2TNjTq6rfqJ3H9aBLg=='}, {'id': 'Z6ae5x135q8k2mnb2Xc94A=='}, {'id': 'e7WhWOndqIEAidMT+uxc2w=='}, {'id': 'zxPfbfjM6LN4bv3yJm9fvw=='}, {'id': 'sIlX4zAAMIJE3D7ojPuveQ=='}, {'id': '8chEKCsTnKoG3vk9Gt6tYw=='}, {'id': 'H3xnXspSc1JW2GC/FPQ9Zw=='}, {'id': '3VWhPD1cpjYN+1ShcOmUPA=='}, {'id': 'WKXhK337D1E+7Jy8o4Ls6Q=='}, {'id': 'Is4QrWwysgz06yJhJLKCMg=='}, {'id': '1Je9k4+z1Do+V+IWoqOoig=='}, {'id': 'm73Ws9utYj/bZhR6ngRFaA=='}, {'id': 'cJzJDKchJUO3uezcYAp44A=='}, {'id': 'aiO+guue3n+bHwlHJR+wAw=='}, {'id': 'BH2O1s/+8vVDqXqafDAG4Q=='}, {'id': 'XLCjad4E8So/pEqRrD/GGA=='}, {'id': 'wDeYMLxhxjoyfKtTfttpeQ=='}, {'id': 'LuxAVrNeU6LzvFVGEhUIEA=='}, {'id': 'MAtfUGfCD3O7AbVkwhsDbg=='}, {'id': 'KKwybQKkfeq4Kr710Mfh1w=='}, {'id': 'yxyRpHhIaeqyN1hp6rsI7g=='}, {'id': '05AKQMGSXMXpUWNEuwIMIQ=='}, {'id': 'dKK+DNxtzzCaeFS1JqsXxA=='}, {'id': 'wjROWyZ60hRzNtvoFXN4rg=='}, {'id': 'F9dt0FoY8VpUCvBB77KKdQ=='}, {'id': 'BiMMB11ew+PAVtFPRE8POw=='}, {'id': 'PokjrxSiNSsXI9W1g8rHUQ=='}, {'id': 'fuYWmzsTdf0hCnOI3v6seQ=='}, {'id': 'br7J5we2zrlPLRRpGj4YhA=='}, {'id': 'OzpoknkR18ud1TQtJIzk0A=='}, {'id': '2CDfqDKPLf/15mr+iO6Xmw=='}, {'id': 'xYoWzqSqDZX+t0chH0gnAQ=='}, {'id': 'X2hRpveAP/aobI6nJaGR3w=='}, {'id': 'ur4rGcaq0yy1Igp7cmLPEg=='}, {'id': 'PxCs0h/s4l0ekeb5gVtxHQ=='}, {'id': '919TjoddlPeo4LHcyVUWUw=='}, {'id': '33CcbeREtEenjgTv+OPjYQ=='}, {'id': 'Jjrg75QGWQhx8rqu6bgQYQ=='}, {'id': 'oyFgQO4O6cr90xTtr6Stuw=='}, {'id': 'L/Xlc5OA7kDmAC3WX4RFCQ=='}, {'id': '3eDzQwqxt5ELG2ef8153xg=='}, {'id': '9WdxpVrtqzC6Kzx1b3PALg=='}, {'id': 'W5HA5+QO358eXoNUQMOqsg=='}, {'id': 'ZeDLuyIPgNQ1EBxvQDmk4Q=='}, {'id': '8pWCHLVlp/kHiZ28JUZnCA=='}, {'id': '7sbrD8lEnY17eAA7AHkCMw=='}, {'id': 'q7uuamzlNnUxzey6LuVPxQ=='}, {'id': 'brd4UW1TM2j/1y25DsE7SQ=='}, {'id': 'Eaq5WAqBN6P7SkJpS45GRg=='}, {'id': 'oPHUAzwGOxWjOGzENh2XMA=='}, {'id': 'jr7RXdPp9X6b9NpYrLkifQ=='}, {'id': 'foWqXzlPUFVs3h9b1xO8lA=='}, {'id': 'Ba/IHl1Aprkheo1UrZLGYQ=='}, {'id': 'wS83p4yqgR/MDkel2+WtYg=='}, {'id': 'nGaRcVucXi57kanCunlRcA=='}, {'id': 'IvC/UTVZ1IXYp9SeBAPPsw=='}, {'id': 'OlywOkfDgXZBeif5tzCAIA=='}, {'id': 'oeE4o11ty7MKn905WEw/Jg=='}, {'id': 'fH14NLF8PlCzYULUbmpsIw=='}, {'id': '6zgZAwpGbNEd4qhz12brGQ=='}, {'id': 'ZaG1wwwwd2BbHpgm9HVpUA=='}, {'id': 'hzlJM44Vldp2vJ44FgkPKg=='}, {'id': '5AxsLwSpWywbASZDTupWYw=='}, {'id': 'jO6rolw/GkSK4YR9vvvrjA=='}, {'id': 'sOWoggqe8Son7JBMQE2geQ=='}, {'id': '/1teQu9Y3RV66EbTDKrMSQ=='}, {'id': '1opzdxbDtb8co0RTdzZlUA=='}, {'id': 'EAFCEY6owNjdxxB/3oXsUQ=='}, {'id': 'KZbffp8+fH+Y78AMjwlDaw=='}, {'id': '2A3o3pL81XIZTztsaKDnGw=='}, {'id': 'H5oOyw06N936KweXQ2fNmA=='}, {'id': 'kq4/3K32Y3b23E25SDPW7w=='}, {'id': 'vaWx2tX9NYzsZnFDEbHbIw=='}, {'id': 'KbEpfZp+GqyB/A4vSqsBBw=='}, {'id': 'pK9a2UzbZhtUdvHSP9n1Cg=='}, {'id': 'N88Wu82UsKYcU93p1APS9Q=='}, {'id': '+MU+a1TOwhEIkq1krpzDrQ=='}, {'id': 'C1WifTA/LzmcIqRH91y9kg=='}, {'id': 'jdvn09G2VY+eDZ4nWIWg2A=='}, {'id': 'qFS9CbvedeCLFFJStM7a2A=='}, {'id': 'JBdjRhhwmrHn2fDfgORNbQ=='}, {'id': '6hNFUssqYuw+A7+Cv3dP7w=='}, {'id': '0rOI8ij36CQ6qwJdUbvUyw=='}, {'id': 'uR1lJassGt2thLa1MaWmdQ=='}, {'id': 'sAEbBsrW9ofw2INuq5/z+w=='}, {'id': 'gGF5E0hKC9irwYYsG+9OYg=='}, {'id': 'a12Dn6Id0S3e3A/uHNCtHQ=='}, {'id': 'P5BVCFzSS/CCNup/OouJQQ=='}, {'id': 'jmyhFdl7q9pXmKl4tZUFJA=='}, {'id': '5WUKYhpw4Dn6peAX6SB7WQ=='}, {'id': 'RSiwrPZLLjTvVgTgjrNhwQ=='}, {'id': 'piBU2vV0S8tBShmg69xBiA=='}, {'id': 'exdUlUVMK1yXHqijtppI7w=='}, {'id': 'R2SXfj0kWRvoEod6M+jt5g=='}, {'id': 'jFfCqRmCGDU+GEm5r3I7Gw=='}, {'id': 'IcxL9gqbAJnvNm1KXUuO6A=='}, {'id': 'tsVL89T54yMsbJe9QHB9TA=='}, {'id': 'j4K/wJot+cDAB7BP8uVmqw=='}, {'id': 'qz/isJeyOw5VsOMu1+YFEg=='}, {'id': 'Y5PdJZyu2PP4Na0vEzw69w=='}, {'id': 'a29J0yDgw1SlMlYSzqBlcw=='}, {'id': '91sme2MGhLf9YNbgbUiSaQ=='}, {'id': 'CrBOFsjQpufCiRiVFvvNMw=='}, {'id': '5UTgBcyfIXrCGMqylQrZiw=='}, {'id': '2fQgWEp75see7rG7VE96Kw=='}, {'id': 'eW+ouYKsoRH/b5Ra7QjHCg=='}, {'id': 'zrQ2dDfIKBd2aocmPOhM6Q=='}, {'id': 'sdtt4PL6B382gQBYvmMduQ=='}, {'id': 'Vc1Bf3SFeT+qtH0vHr99HQ=='}, {'id': '/cQzNgvq6ZxiC8fNeeGdwg=='}, {'id': 'iiKrWw+zXUGw95ll9WvgBQ=='}, {'id': 'q9DIhT3pBpVQNtdqXiQ8AQ=='}, {'id': 'q7XOOykJiqfLc9YS2wmr/g=='}, {'id': 'TESqJmjC7+HOqqCWVAgSgw=='}, {'id': 'ruvyViEQJZOq8th8AH/YEw=='}, {'id': 'ecVgg6M2wZlQRgnfWsDPlA=='}, {'id': '83XMI3j1Zb0nH4SVYlT1dw=='}, {'id': 'cXfy+KaNjiK+Tr4HrpcrDQ=='}, {'id': '3WMDpNuKROGIxtrEh8YCGw=='}, {'id': 'np/zJ7TL5z+I4V2MWEj4Jw=='}, {'id': 'VQbnvsJXLmXvfKZ/zUMyYw=='}, {'id': 'Zjng2KlQ5U3K498UkLr2Nw=='}, {'id': 'ljEXhqgoN6nZ7QDQTHhjSg=='}, {'id': 'Z6dHu/8K4qJ6IT9TGKsNLg=='}, {'id': '2rWvxfGABVh66rwWtxay1w=='}, {'id': 'srXca8/08JLo/LKF3Aky6g=='}, {'id': 'gDzcSPJu/2KkV6krw9mINg=='}, {'id': '2ywMXpg+KhPxh1x/o0FBgA=='}, {'id': 'ExXp4XJ3a83sk1V9Ssie0Q=='}, {'id': '8oJCM0C+fTkegJUM0OxvQQ=='}, {'id': 'Cqz2afWwAzb7YrZ3AAGeiQ=='}, {'id': 'dcJuqaIcTUzf2/Hc+tvUeQ=='}, {'id': 'grDN85dxG3r15+HxNYmf7A=='}, {'id': 'Oigckn1gtgyVtUrAAjjEFg=='}, {'id': 'Sj6WO2l7UdNa0bvGgejkAg=='}, {'id': 'ItSxWSYWmyMDEucie4Ukqw=='}, {'id': 't52P6PPJLNOxRb1aGwoZ2w=='}, {'id': 'ROn+0JNRgdBFuADp1UHY4w=='}, {'id': 'F9ABAE9QAob4ZBScCraqXw=='}, {'id': '62F2Ua7ZpdK2tPBbF8CK8A=='}, {'id': 'ZISWqfYwwwpR6ueHFcYcWQ=='}, {'id': '5hmRw3O4vS3HsPPFGH58vQ=='}, {'id': '3KsywrpGzmK1+/QaypxexA=='}, {'id': '49D+nVGeO7bGJxxmVK5/zw=='}, {'id': 'V/jIcAvyPsAhy14W20041w=='}, {'id': 'OcUKPHxbBkQtccM6T7Tr1A=='}, {'id': '+PUNW9y+3vLRRPdRY8bTWQ=='}, {'id': 'VZ+k3rQWzsv359LctSsZnA=='}, {'id': 'APoxQ3js+hohlIQRGQ/E/w=='}, {'id': '9MSUXjf/Fgnczm2YK6hxmw=='}, {'id': '2CIlmQ4SnsfpVBm3Bc9rGw=='}, {'id': 'aZ0mYF8NLcyCXibc8hKM1A=='}, {'id': '1raYSp1kCjh3xXZYNMirNA=='}, {'id': 'wAN2il5jqzzA4SVm889GYQ=='}, {'id': 'JADJa9r8GNmDLzN3EDiPJA=='}, {'id': 'KuDR7zeCdOZhTg/+Lbwi1w=='}, {'id': 'hqcwgPQAC9Mdd5RmmDSMfQ=='}, {'id': 'k5ZIfaDPTMCqccrg4X8ffA=='}, {'id': '/rM5pS5U3xcRV4yEL5+kjg=='}, {'id': '3k/k2rdThct2ZnFHH1IubA=='}, {'id': 'yF27eES9hKjzn5hQYKbgKA=='}, {'id': 'JplcT7XMrQxc+Ba+Xo8Tjg=='}, {'id': '54bBawbqwLkTXfYw6aNtWA=='}, {'id': '0Ss7DsNzYRI9zdF2McbSzg=='}, {'id': '81UHMy1GGVQcupO54aZQYg=='}, {'id': 'YgrIHql672FgMmg1iStuGg=='}, {'id': 'fVVnGvpHY3DEkkSPnWYpgg=='}, {'id': 'qkSteUblvwWcjRrDR8ThDg=='}, {'id': 'TnNNaQZvpM7labhk4NOh2w=='}, {'id': 'D0STi/Tx5Fr6hOr1S1OffQ=='}, {'id': 'sgsMIy7VcaSrw06A6IxTkA=='}, {'id': 'jhdAKzUdusifJm7aGxEDxA=='}, {'id': 'U0csTFNst2YyQvE5QqLOAg=='}, {'id': 'zkz5ATeysi/i4q1nnZ74Ww=='}, {'id': '/usjqwUHw8h3u2TNjVf5kQ=='}, {'id': 'GUI4bB78g+ZtN2Q9aomeuA=='}, {'id': 'LCJ/vBFe4+AZ3NLtmRhC9w=='}, {'id': 'vO79oI5JJTxOpLZlNTxGDA=='}, {'id': 'JPZcYQj79LBLULIg3+pIlw=='}, {'id': 'VPsBZuX8vxxjXUrx/2O8kA=='}, {'id': '0WaGQhRHe1CJ3P3T5tU9Yw=='}, {'id': '58ag1Hoa3kRMRIdpeeudTA=='}, {'id': 'SuVMZluXjkaXQfvFRFS4qQ=='}, {'id': 'wVLfzCgjJuOWOCHqEh8UYA=='}, {'id': '6LNFq0GoXiJhhKRqAsVc5g=='}, {'id': 'H3y9UiInCZAHFgi9hGfWWw=='}, {'id': 'SjnX2fLEjhXac5BhHXucLQ=='}, {'id': 'BsdBfQpPwoBCScS4LiKXjg=='}, {'id': '+gUSy9Y1zGJg6Arc3Tsc6w=='}, {'id': '+4GMEqGslSA1UTNDFTN/Tg=='}, {'id': 'IQ4nvEqX+g4jtIz5WpStXA=='}, {'id': 'cu9bQUwfyJ3cCNFZvS+r1w=='}, {'id': 'uCnrqkxUtbk8CHFQDhVhvA=='}, {'id': 'mRvShFXNzRJOn/gRv1FeQA=='}, {'id': 'JxQn6t8lAe4890Q9AhhyTA=='}, {'id': '8pxbfBuYXWqVpUGV9bSmZA=='}, {'id': 'eFve8+/kw5B2XpTFZYmROg=='}, {'id': 'nedDaoHhOHuHOoZ00YDpWQ=='}, {'id': 'hUY/kdj8nUTy5aym0f0yxw=='}, {'id': 'AAqWYqaUvJF6t8akRGLZIQ=='}, {'id': 'vcp9lO3XibXWWoifvC32Qw=='}, {'id': 'iz7OD1QI6doC5Q1VDErAZw=='}, {'id': 'Ktk7MJUzwntoR8+mQ3lcSg=='}, {'id': '5Zkc+iMQ3e8eDuT9i7/0wA=='}, {'id': 'pLLC4cnmnpKv8A0HAeCFJw=='}, {'id': 'EjCsR0pY678xUPL8CzHtkw=='}, {'id': 'MI20BreBNeFUzWB/aaXfdw=='}, {'id': 'tbnX3vKQlsj2i5ez0fxOCw=='}, {'id': 'azTUns3t/hXkKsVlpT7yFA=='}, {'id': 'YyMmalM0A4bdTHydq6xccQ=='}, {'id': 'CJgf4xQmx4ngShxc2NMwnw=='}, {'id': 'NP+nR0MZPNZbEhx0528KMA=='}, {'id': 'p5rs6WWFdG/jWckj4Fkz2g=='}, {'id': '3mIqDWpZ3DyAFL/7SVynQA=='}, {'id': 'ntbMnQMEhhHmtvIbkgikKw=='}, {'id': 'sSh/W2rbzLu95pt9rQzYZw=='}, {'id': 'w45yJxDtqFbWgjxYlRJ+LA=='}, {'id': 'p/oTKWiTk1L1pCZelW1vwg=='}, {'id': 'X4UhLr15l/gX6n+f0Tf9EA=='}, {'id': 'D1jMrHq2tNZZ58YoxJ5QNg=='}, {'id': 'rky4OakK2BVJfJTxE+0j3w=='}, {'id': 'DubpN5ZoqIn1MUus8zaq2g=='}, {'id': 'P3Z14K1DTeo0alCQs2Nl1Q=='}, {'id': 'apSuEA9sTpdbpxpA5wDoFA=='}, {'id': 'pMv7R+vuOVlfVQuQh5nIfg=='}, {'id': 'P5cUgCExjJvSyN5b7/KO3Q=='}, {'id': 'rTDQ3yQeeOEIqrgR//DtwQ=='}, {'id': '7DlGq9lEp971oSxcm0cMTw=='}, {'id': '9UQadrrGqqtzz0XdCHoWTA=='}, {'id': 'DZ+SDrkCHnZanAQCL2+huw=='}, {'id': 'W7F9vrjmSyP9Dp6Im46K0A=='}, {'id': 'ztKFdUs1BdCQwmdfi8gxww=='}, {'id': 'XJ1Tje1TaGxnW3+MSRrgbw=='}, {'id': 'rihVxtQtJqCh8NkUK0dQ/Q=='}, {'id': 'Ofgh1wNeDWkCC0JsKLP/+w=='}, {'id': 'CUpqMT9Eakd1xLkmKL8paA=='}, {'id': 'oaDccQR6rUzGc5f8KlNa2Q=='}, {'id': 'pTkAAKGT688l8TOTbrLRkg=='}, {'id': 'tL67SJmQKrxWzGBBR5or4Q=='}, {'id': 't5GwU4ZiT+dQGCUqGpau6A=='}, {'id': 'LrzCxe3lKJinJHal6bpgwA=='}, {'id': 'QNh5VsFZJlNXPMuYzxescQ=='}, {'id': 'ApanadCsCpP16iB5A55MTA=='}, {'id': 'ok0P/uDg/Jttge9fFMDurQ=='}, {'id': 'Lr2dNPl0i8yB9teoTMf41Q=='}, {'id': 'NCxif75I1AJ/Y9vwvuZILQ=='}, {'id': '5hJraCIg9jwD5S+q8JvlTg=='}, {'id': 'RBaoLmzfIdSyJKoZC5VDog=='}, {'id': 'ZQQmAMhFgvXIy/QgC4r2qA=='}, {'id': 'xr70eE0v5dRD4s/1Tf2O2w=='}, {'id': 'zQLIDasZzzC/Mrns3r4TLw=='}, {'id': 'f0OubIc3l91QqQ03BZM5mg=='}, {'id': 'By68kVQC9xXqbgubiFuPCg=='}, {'id': '7oDg2cdiKQiqH5x07Au+Pg=='}, {'id': 'fZpW4ily1sKgFZAXNzjYgQ=='}, {'id': 't3sENs4dPjcUp5N8Mk4q2Q=='}, {'id': '91xl/CEpXSXJz9bPHH3hFw=='}, {'id': 'sS+WPnW6IW7Ha1w9PONT1w=='}, {'id': 'bbp0HqhNEU/ZaScpBfoJUQ=='}, {'id': 'XS7GbmFmYgJMavkz3njnZw=='}, {'id': '0m4/sB8wxcI1OgZz43PQQw=='}, {'id': 'BpRBAy/7W48lhCbPesmdNg=='}, {'id': 'koDpY5ay45GvLPkFg5yEFA=='}, {'id': 'KqrM3bpTHq7DidpdtLuRuw=='}, {'id': 'CUMjmwOtQkkO4f/xE+KC4w=='}, {'id': '58jQFT/Bonfi4IkSXTCvMg=='}, {'id': 'B9Ym3WrgbB8tFKRZ0T0PlQ=='}, {'id': 'W1ZHF+dibOrrl8Z4VfAEXw=='}, {'id': 'fqJnQAThJupJWhEQ0aPidw=='}, {'id': 'R8LB6qafk6I5ObO+sNAX9g=='}, {'id': 'lm3uytJLpcbh16L8YIxPjg=='}, {'id': 'AOeUWskB27jUz6KkKCygmA=='}, {'id': 'CLPIH83uWeiToKVvAjX80g=='}, {'id': 'J3lGDY27TmYiBu5WTOTm5A=='}, {'id': '6kAybNHsFmEzH+rAasEq/Q=='}, {'id': 'rJeET+YsTLKACx7hfBSHMw=='}, {'id': 'ETC8+xVZgiqyScoF69N/rA=='}, {'id': 'zU/51G5YAGVGsgqwKEjf0w=='}, {'id': 'jqoSV9NjRPwOVP1vJH29fA=='}, {'id': 'D/d6+LfgfZhiGmzcJUW0Zw=='}, {'id': 'vBXgWApM7iuLMxVZpCpZJg=='}, {'id': 'p/5ldfxY3ao4aU6h3Irurw=='}, {'id': 'DepzVdnySZynOGG3C9g4Ug=='}, {'id': 'RwXOoLOsf3FJhSiFQW3TjA=='}, {'id': 'YERnhVWMKhXMqeekqSlOoA=='}, {'id': '0nT8d1ARvUcdXqdy0UYr7w=='}, {'id': 'fpPbNaeEZVP9ZWJwS+pJSg=='}, {'id': 's+p+qkGqivqks5+w5ZabBQ=='}, {'id': '22zgQMsDa2FSCfKf9yRbGw=='}, {'id': 'JNXvPQQfOxgV1BGZMHLFgQ=='}, {'id': 'jYJTdAuajYePRd/N4p5jEQ=='}, {'id': 'bSbBSr5wFOQiaOKRlfF2hA=='}, {'id': 'UIWKqov7AGV87ZAmEDMoww=='}, {'id': 'TBPdZW03sovtaZ5LNUgWFQ=='}, {'id': 'FIH4MHeJymwXlfIz3WaQOg=='}, {'id': 'vfiGRt8pokeLbnpz632Auw=='}, {'id': '0PTDYVDVaN+QpkVoiVa5Xg=='}, {'id': 'PoxDMEE7J943QB/h65X+hg=='}, {'id': 'hrEgr30DRsiw9OjyTWUMNA=='}, {'id': '5A3XyvtNwPL/r4GLVpYbnA=='}, {'id': 'rqbqBzVXC7SPpyflaLMYvQ=='}, {'id': '3VN3Le7omrN4YDzEyB5UoA=='}, {'id': 'q6qZnDMbSWo6tqBplaTnoA=='}, {'id': 'c09mJIkNf/CM4d8keVCq5w=='}, {'id': 'czfKCHHKSpWmZ1aYZYGCjA=='}, {'id': 'nzsHHBdSINRb7HrADImadg=='}, {'id': 'Laf9dPA/Ncq6DqmL8mKuVw=='}, {'id': 'pSpJCU8k6CLTkpB3Mjwt9g=='}, {'id': 'CWBApLFvsIr5Y3iTIiKLkQ=='}, {'id': 'AAzKhhFws01c+SIhSLgzZg=='}, {'id': 'W4LkN5WQ4DABRlm40dOokw=='}, {'id': 'yssP9RnmuexpkNjLP3CgTw=='}, {'id': 'SpwuSjBsRF6L25h+gP3OQA=='}, {'id': '/OOJTp5DjhFVBKCkThnVJw=='}, {'id': 'dlMIFv5U6ZOhORo8VMkeHA=='}, {'id': 'E2DpDI3hqFgf2fjutTWAEg=='}, {'id': 'aEgrIIhz8dSdBHrgzFjaIg=='}, {'id': 'tDtUBJrRzJ9yg84Yv2UaUw=='}, {'id': 'R6I2l9stybdxi2S5fEWPpg=='}, {'id': '7gMtYq1uIO0A01MbaYDAFg=='}, {'id': 'HWkfPpL9Yd5PuFns1f3Idw=='}, {'id': 'McPS+hXUC01astQXxS6ozA=='}, {'id': '1PpAz0zFHbRUPiqtqDQPBA=='}, {'id': 'KLoUnsI7G+n1YTcVIBY/qA=='}, {'id': 'ItUnOtS4BPhROCCnMpUybw=='}, {'id': 'pqNekmpwmZ05A+pKPJekDA=='}, {'id': 'a405hGdVwhyG8NhhvrTEbA=='}, {'id': 'f4vdSbGrJ0kaRpViIltEdg=='}, {'id': '6qAvAUSVULPD867fzQqc+Q=='}, {'id': 'pl2LEfwIgzaVCswtpKep1g=='}, {'id': 'vkxpp+iGBTV7otrZ05ZgRg=='}, {'id': 'cfRvspE08Ljkh0D8rAtyxw=='}, {'id': '1r9kDr+/a2DZWMcYX5pQ7A=='}, {'id': 'yeRgJkqfkvTDqyPt0+9Bbg=='}, {'id': 'aA2WRp1dIlkn/CknkRR74g=='}, {'id': 'TVndmBItIlFt2XfzGhb49w=='}, {'id': 'IppqP7CAxpHeA6jHgj26OA=='}, {'id': 'dI9Cvv5gXFA5r9nzsD5QmA=='}, {'id': '5E1Mg4bQS44pX/YEJKJ5XA=='}, {'id': 'okfnU5snAZ/VJqjQaMpB5g=='}, {'id': 'Iyv0R28x1cFyUZ0rDJeDtw=='}, {'id': '9NLeCxwP7vRLmG8bSJRktA=='}, {'id': '8AeY19R3yXth0Gvtx3E0xw=='}, {'id': '/O1ns1I0KLKfLOwYoZIUmw=='}, {'id': 'RbQZCnszGMpamksmjU9QXQ=='}, {'id': 'N+jlLC6OKINC608LsUqMLQ=='}, {'id': 'v2Xc96TLsZspGKoLNRTdrQ=='}, {'id': 'FMUVpiCnn11yehRylK3kPQ=='}, {'id': 'cjB5UjIDNlFINQnzIUVgUA=='}, {'id': 'y70b4YqX+qluqLGdM3lzxA=='}, {'id': 'kCqi/oidQ2R7ZXsnQP1cjw=='}, {'id': 'TDN4WXc0xqFFtTwNBQltzA=='}, {'id': 'oQVpFO1o7gA+0SxgfCEheQ=='}, {'id': 'w3hMM4l17O97GsDPfdJdnw=='}, {'id': 'tAi1biwJnlgKDjvXaPt8hg=='}, {'id': '/uSEJT8TfDTYVfqpRl/Z2Q=='}, {'id': 'ZOKLbswRWkprKGvymIGnGg=='}, {'id': 'RlzJAsnsTBp2cNWiDoNSzA=='}, {'id': '1sMd34wTTG7irQE+1ep01A=='}, {'id': 'Fu+7Qkl1UKqMH5n/YP3tYg=='}, {'id': 'bZfYLKdOrWUG6bwAHxRJIg=='}, {'id': 'aMFjzhRn0JM50w2w1TxbuQ=='}, {'id': 'TF2TGpfWrCPifuGutI11gQ=='}, {'id': 'dqTDuvdsSGYERl24hPOvZw=='}, {'id': 'aml7tjbdIb0t4iDlXIGuKw=='}, {'id': 'iXNd72CUL3TnSlAd3TTLKA=='}, {'id': 'Z+ZLZrLun14rs0psr21ruA=='}, {'id': 'npYJ3a+jN3wf9pKByJT27Q=='}, {'id': '1NfRQhytbFz8CFu0zymmRQ=='}, {'id': 'm3iejDevPnqRu+xQenu6Tg=='}, {'id': 'OMT8mENdCo7uRgrLFV+3og=='}, {'id': 'ye/x4COXXmHd1Mli+c6SKw=='}, {'id': 'JeMiNNzjfTRi9r0UNntwoA=='}, {'id': 'SHa1D/mW2F0dCGTmN06Izw=='}, {'id': 'DwYCoc+osU74W1sh7XFM6Q=='}, {'id': '3PVoqqfm/vFDxOsqY1Mlyg=='}, {'id': '6G5MUcM0r8kT9KudsfkneA=='}, {'id': '8bBIX6yZHOdU3OgnsyKGyw=='}, {'id': '4X8caYqAlZJGi1GmDiM03A=='}, {'id': 'u/4lPHL/Iivf9ShA3rzT7g=='}, {'id': 'hyEPbDwABUR0M0Wux/glIA=='}, {'id': 'G1sUXTRnHNEzMsmxcJFUrw=='}, {'id': '7migFd/+TDEMP1LKufYl5Q=='}, {'id': '++RznrZ7/qTLrs3GgyQshQ=='}, {'id': 'Vr2lomhFX5ByoYJp90+fig=='}, {'id': '4UUd7J7/ahsUy+VBYSj9tA=='}, {'id': '32+b/6sUS75VRROsf/PA9A=='}, {'id': 'hksdO1+e+neHfbh0pi65Vw=='}, {'id': '5QdYk6CxVNP0O0arUA5hXg=='}, {'id': 'mSXiuX6ZnAA7Uw4reAy0UQ=='}, {'id': 'pSFJZOZanRVz7Tj8fG4EEA=='}, {'id': 'jnFUxFh5ATLH/cdne5nmpw=='}, {'id': 'u9nZQx3lQN7WLNFs5QPI2g=='}, {'id': '/7IsWUAuEFJirO9WrW7VZA=='}, {'id': 'mh0AioVxshhi79Joq6NqzA=='}, {'id': 'pG41hssy6aAHtDrLDMQfaw=='}, {'id': 'NAmmAa5Q5aq9OXS2D6/RUA=='}, {'id': '6phlSCVsNAUVxMkGzhOqLw=='}, {'id': 'Wh2MQknyKAJS6NU3hz5CMQ=='}, {'id': '2ICenxjFAKR+GCxlT1XXjA=='}, {'id': '6N88Lc1VHpoOabIzco2/mA=='}, {'id': 'e6IAe/suV/Y2qQJC05fsHg=='}, {'id': 'dLa0NsbXd6bdRY5Om63GqQ=='}, {'id': 'Hwk8IYdTPZi0i/POkyvMBA=='}, {'id': '5Tec1N31F5+75BlQVldi1Q=='}, {'id': '5KjkwGbCjqgMmCmSzu9o6A=='}, {'id': 'm0dFy8+Kx1HLmM9DuGoqcA=='}, {'id': '8xBTBKYKMtN3HP5+fRaKrQ=='}, {'id': 't/keSTlkc+F6n57oDhTcrA=='}, {'id': 'Oeg3j/iK7ShceADaIvCJtQ=='}, {'id': 'Z5f6EQOj4LQoMrgsNIDN2w=='}, {'id': 'feX9nlV5rT5iKHfy/bK44w=='}, {'id': 'fkVo74AbdqpnKGe5fmBH4w=='}, {'id': 'Twy8IMXyCuGlika/81RoNw=='}, {'id': 'oWiKqwKMa41ctJAm0flkFw=='}, {'id': 'j+ixM7569TZ2bWB7d32t2Q=='}, {'id': 'FjSixWICUXR0Z9aJUKDeHg=='}, {'id': 'BVyL9rBKtUxvAVMKX6JWkA=='}, {'id': 'cD53J1YmQMAUFlvsKJJR9Q=='}, {'id': '6+bnyauayH5tH/nf/tIfTQ=='}, {'id': '3Ujb17nKK31Nf9aQ5WzwUw=='}, {'id': 'Ftt7Fw3URfsBliPnf2D7KA=='}, {'id': 'CvCMWYP/93WWzaBXlpPGwg=='}, {'id': 'FYO6hNQhQRxUDckVzHAFKA=='}, {'id': 'nAdgVPF1POtHWdWu30SIRg=='}, {'id': 'phahV0McoTM8QFv/cGgwNQ=='}, {'id': 'hnrJCtx1H2nwnVKfFwQ71w=='}, {'id': 'shc7olyjp3i7+JOVYPkz/g=='}, {'id': 'T0UAdSDSSU00yNflPN3F4A=='}, {'id': 'HbeHFsE/iNLo3J9WvQYY1g=='}, {'id': 'EqkVSDqW3bDfScCuJWB4aA=='}, {'id': 'u3FlzgREaeETiDCjLvLKoQ=='}, {'id': 'FD3C4CjbWnQS41A0bxPFaQ=='}, {'id': 'qj8LtpoExQdn0BWtO/SObA=='}, {'id': 'zbmCcbYAMOR17hUN4q648g=='}, {'id': 'PBfRyJaNawFfhJ3uC+bOOA=='}, {'id': 'ldjIkXOTneJ/E+5WDBS2aA=='}, {'id': '9QNrZwhzHP5b9KZSkMqmOQ=='}, {'id': 'KmweKGrU6fhNKxLyUAJVKA=='}, {'id': 'f6FfbdTN5GehQNsZti+DfA=='}, {'id': 'Clw/AMTfM85mK1snH40VyA=='}, {'id': 'GMlTBCOyD8OdTVwmA4Hy2g=='}, {'id': 'iB6Zv4CObJkOu3ZbWOUfXA=='}, {'id': 'ahkH/gWcoocSzwkJj2T/kg=='}, {'id': 'jLjpEeAko8pzdFFGHDItoA=='}, {'id': 'YRsK1ayGLu1rRq2Rp+jSiw=='}, {'id': '8PykCkiwfXGmZOAz+kojcQ=='}, {'id': 'xEDTJHl9M5ylebMC1YxUww=='}, {'id': 'bq3WObGyF5kZSuofvcHMog=='}, {'id': 'X7tbzQc3vZfgi1LbRUitmg=='}, {'id': 'hcLn9Et3lTQ4NxP1dQRyzQ=='}, {'id': 'hH+PG7Ct/3cZhgpwCIDU5A=='}, {'id': '/1dMRvNcZFkTRcYsVWGuqQ=='}, {'id': 'MFlP9r9dMsRJMl55moXQEQ=='}, {'id': 'A/kTUblzSD5qYeJU20OAUQ=='}, {'id': '/IzC+7ra3u6PtHmbszPiKw=='}, {'id': 'dzCvYo0zW/yuLmHVVa7zKg=='}, {'id': 'kGesKEDV2Poa4TvnaW5gCA=='}, {'id': 'r+NiQjHK2oTg/6m1ZO+aVQ=='}, {'id': 'DFDRFyHSIRbpEPjZEBFXlA=='}, {'id': 'qw3O4S73V04m47CkxLtdow=='}, {'id': 'Gieku0vYWqI6VN/797bV3w=='}, {'id': '1pRrBXzBM5QVsCLwdwV7nw=='}, {'id': 'Xn/GH6NYdn1JWCRk8ylc/Q=='}, {'id': 'ArPJU4hKKzmUVEklVErEJw=='}, {'id': 'gcKp30u1kKkkb8zjuL/QHw=='}, {'id': '58Eschb+WOAfgo86oPpIgw=='}, {'id': 'DgV0f9Jr6wU4QG5MQ30CHQ=='}, {'id': 'muKnPMiaUQddUi9iBpPGYQ=='}, {'id': 'M0wJjM7f1wUmJ9IIbpUKHw=='}, {'id': 'SBqMTWLmWwIWpAZFZUftlw=='}, {'id': 'SZT/ce6YejgBaQdvb0g/kA=='}, {'id': 'ce1MwhnYR4CsEGqyqPScdA=='}, {'id': 'lBZD6HMoQLhp/YXPf4clSA=='}, {'id': 'K1L2pHHTca5oq9frmjgIEA=='}, {'id': 'brSeQPMWUWjd+yhtEJkeOA=='}, {'id': 'Noo3DxnOvMpBjZDv3Of2Qg=='}, {'id': 'No/KzHhTwElpQwviQtKtjA=='}, {'id': 'TzfbE8unzV0m5Y4uApmHvA=='}, {'id': 'AmQSu8cuBRf9YH8TNgOucw=='}, {'id': 'uhrBRF5i0roZZwm8PuwtwA=='}, {'id': 'qtRncb8uCjLpklA5CXSZUA=='}, {'id': 'Zdh/ECF+jYkhU7fgAODPYw=='}, {'id': 'dVo7XX0YreMTReRiaIDnDw=='}, {'id': 'kxWfkW4Me+sldXX0mZ5PwQ=='}, {'id': 'SicY1KAaR/Fj/LqxQPoqfg=='}, {'id': 'fw/h4TZqnBRYuWPIfpM3yA=='}, {'id': 'm5OxtcHDGYhoEcpk8kZMzQ=='}, {'id': 'b10M457h+ZNVfd2kZPcNiQ=='}, {'id': '19YurWlLAi2uIFKwb+s5bQ=='}, {'id': '/hFkub74ilHKbCnm5E/S3g=='}, {'id': 'oGEKv1hw0rm1wCTv3ai5DA=='}, {'id': 'st5objMfSn2bD0gzh4k6aQ=='}, {'id': 'DBT5QygIxLibGcklpvANhQ=='}, {'id': 'r/6kaQQI0eIYsWYGntthng=='}, {'id': 'UgjwTLN8XXkxV2SvZAMREw=='}, {'id': '0LU9K8eKP5E42iUAYcRSAQ=='}, {'id': '1hdfvBDMBvdrlNV9CJnE1w=='}, {'id': 'shqjqmH/djzxm92YhgRBkw=='}, {'id': 'KKxTiiINpbIhNUmpaLUqlA=='}, {'id': '/Uif0uvBUJFPjWebAksAhQ=='}, {'id': 'Lct/mbLU5yIMG92aDTA0rg=='}, {'id': 'o32Y20ZAzxd7qAd5DCHY7w=='}, {'id': '/Q3jIfyi/UwWUyCJIir+qw=='}, {'id': 'Lq3g3mAaUS1Wqh/d0iTzZQ=='}, {'id': 'ZacuAcDAXsLpzmvt/Fus0w=='}, {'id': '6KCaIhWfitH0xtuv+ihtrg=='}, {'id': 'jtRcw1M2DP+bf40Cpngdmg=='}, {'id': 'nLixfF5dwlcepfh1DfnzRg=='}, {'id': '6YDvaULKKibhJ1My6IV+sA=='}, {'id': 'tOgnKUIOb/FQz1LyiYKpdg=='}, {'id': 'HILZAX3F2e0gkAcy2Q0gag=='}, {'id': 'rhkstNKU/S79AKlD2f4PzQ=='}, {'id': 'Q4AdR99Uxi5qbNgs6g9S9Q=='}, {'id': 'EGLYpT1+0bqiaMABuHvr+g=='}, {'id': 'FPZGWR0riW5yL5k4HnW6zw=='}, {'id': 'rv46Ht+zA0IL53GN8dYGHQ=='}, {'id': 'GZIYmUzt54pDL4KV+f+l0A=='}, {'id': 'QiF/Ra93fA5NsW3lA4n4KQ=='}, {'id': '/8/QYzdrInHrHSlAW2fkPA=='}, {'id': 'TlKjB5CP81xwqPjS3ELV7Q=='}, {'id': '0THIRMQlusd9rHbjFrKXMA=='}, {'id': 'IMxv76TM8Pkkr3vGdokWNQ=='}, {'id': '55t4/Q/0faNGLz8PeUeajg=='}, {'id': 'l2pcqBshMghssLjAN9527Q=='}, {'id': 'nyzmwcwqpBecocPu++Jt7g=='}, {'id': 'hrVdXLr1rdHVlrqkiwqYtQ=='}, {'id': 'sIpVY1dtbJg172Nid3p72w=='}, {'id': 'yRc/ebGT67SUO5IYIspE+Q=='}, {'id': 'phY5bfb7mkZssbVFy7/SKA=='}, {'id': 'XGqzNCB425K2NYou4HdqAQ=='}, {'id': 'kxDfKVEkXZt6hzpQhrNjcw=='}, {'id': 'Z+MH9OAlEZ+02ng67vHlrA=='}, {'id': 'xu6ooDC74zWbUImuKiMZUA=='}, {'id': '1FYYQWj11PX8+D9ZuPFBBQ=='}, {'id': '806HfHJPoEhA4SU1fNV3ng=='}, {'id': 'Fs2hjhnDvIfkgoH1396G7Q=='}, {'id': 'u8uFl6l4sjNVyfo5zXYpQw=='}, {'id': 'DBt2H1PqseTJ0RVz0w8WSA=='}, {'id': 'mXToddO9zhpcceLBzTvsLA=='}, {'id': '3GYz4+kEIHOAxAUL7GIwmg=='}, {'id': '/JnHsXkLwAPIeG2vtzm/+g=='}, {'id': 'NCWwrjRcVzHmYWSJii2bCA=='}, {'id': 'uFwnkaOocbfkjHMPFLDS7w=='}, {'id': 'jFFUBvm8yKKTVbcAX8p8OQ=='}, {'id': 'hwtGbYVWA4JjfHVsiEw5Dg=='}, {'id': '3UWv96c3OBxBRCmRRAE/QQ=='}, {'id': 'woUsMUWGG4CNKyaEb1IfFQ=='}, {'id': 'mJBDbU+jzTK5dFRU5zU2Vg=='}, {'id': 'GidOAPDDpLFCMBU947pHeA=='}, {'id': '+k9EAJUc/k2dC7kCNA8YsA=='}, {'id': 'cI4qiTEHCoF/WuFWgoahuA=='}, {'id': 'QDG8gsfxMRq1DDF0Jb6h+A=='}, {'id': 'eHPPkkixQUEh6BIKA7Y2SA=='}, {'id': '5TfYKsduzie+Fpe3ZUpzag=='}, {'id': 'T/5rxAHp3Z3COhQZe3Bl7A=='}, {'id': 'ck1seL2eS6uwWMsYY1URsw=='}, {'id': 'IlrBUxcx7kLWchN17daubg=='}, {'id': 'SQCDDOup+Z8rhSQBUUZwTA=='}, {'id': '7F6xc7SHvtZ2OGjiD3IV6A=='}, {'id': 'TpU82VSjYwPsQwmw85lKNQ=='}, {'id': 'hj3cgROtjc4i3nHg+Uz2og=='}, {'id': '2KwBa5rfwEv9nc5OBAUprw=='}, {'id': 'YjtWXuzwMSqoU3YAUK1pbw=='}, {'id': 'TWJZ+cvbx61dZ4PamGno8Q=='}, {'id': 'FCVD/rmklfQ1RD+UNsz3PA=='}, {'id': 'rVlzxz9lsvsmH0UpRzmAHw=='}, {'id': 'YnUTmdX3wMWRPgP8Y/fpgg=='}, {'id': 'bNtWEDuLnNkG3ajcbwdTpw=='}, {'id': 'SByhpxFCwq1tQoXQa6pbhw=='}, {'id': 'b0bwXJ7krFYdg4QHUI2aBQ=='}, {'id': 'Nh6T3JjSq6dhURusLncj7g=='}, {'id': 'SxRmbaVK73nl5gC/ArwB6Q=='}, {'id': 'FHq9aojXygZIjugY+g8/PA=='}, {'id': 'CS2mHbR2PqfyQ9z2ySH7Vw=='}, {'id': 'ugRIXt0gLtCrSfObcLdgaA=='}, {'id': 'WPqYCOrxPvZbr5oUOR5GwQ=='}, {'id': 'jTBVMtASKPjBZBf1K9hdVg=='}, {'id': 'dbUc2VusEnmMAqzuMpxeng=='}, {'id': 'GRMvih4X4sDL/BYJ2DB5JA=='}, {'id': 'Wc+6K4W1r3bqt02F8Pih6A=='}, {'id': 'L62tFXt+foJSKgg98oS5fQ=='}, {'id': 'fdwALGywOHgA6Ga+3hQTCg=='}, {'id': 'KovemMBKEM0PCKZK+6aY/w=='}, {'id': 'ird6TxezjEEdIf3eLcavVg=='}, {'id': 'gzUylXMREEZbQdvWP+MXag=='}, {'id': '7CJpTRSaOIQyIen1ruvnUA=='}, {'id': 'dxJetZu+k6KtMCq0PDyd1A=='}, {'id': 'tBO0E0c/f5njhuxZJq2LMg=='}, {'id': 'UPbuDNtw0su2eooxLQjQEw=='}, {'id': 'lgCLZH0FcogI++Ml4hwH4A=='}, {'id': 'Kky8zPc8g6FjWVFOcNz4PA=='}, {'id': 'iTi6P/0x2CUCX3IbnxhL3w=='}, {'id': 'rNJLcleAnEqh3C9umfQ/Aw=='}, {'id': '0TjdBI0tdC+xvEuJvwuw5g=='}, {'id': 'EhrBvszHU1uU7zFjF8qSow=='}, {'id': 'H4hZyMonr7bMXnt/vOnSuQ=='}, {'id': 'V/QyPChuUZhiRVZ9xT8duQ=='}, {'id': '4Cys5WgZuhTs+ZkBpeptpg=='}, {'id': 'ZtIcdn2Aos0T7MrvmSEsbw=='}, {'id': 'cLJTgpp8tyKmur9eYh9zpg=='}, {'id': '6MF1Vce3XQGa2rlcHEcgcw=='}, {'id': 'D4cgo+PkTBxYCiVkGPUwjA=='}, {'id': '66ZwtzwYYyk2GR7pkyG9eg=='}, {'id': 'wp+29t6+ctvahpB4GY/snw=='}, {'id': 'PwCF8KXLk1rc6BA9u0kDAg=='}, {'id': '15VT2vCMmFujOwQWo4GEcA=='}, {'id': 'OAuAgnRbhi7e/sq1deZggA=='}, {'id': '7LCkr3GpODxlxuoCZez0XA=='}, {'id': 'wD4mSP16d+/gbpt19jb7SQ=='}, {'id': 'Z7/sRi9GRNykpPJi1Iq+dg=='}, {'id': 'qDv5bYQ/+HTTCvaIH+QsdA=='}, {'id': 'oV3Q3OIVjuoh1PFTYax82w=='}, {'id': 'gHU59+JMJwZ7OvtyoOiY+g=='}, {'id': 'CSUtJ8odec4UNjPAFc23ug=='}, {'id': '9nyZUa3xVaxvfty1Cw6wTA=='}, {'id': '/gQDtGZhfkPg0z+I6609Ow=='}, {'id': '+RSt9wD6JDVp9kJiBYGPkw=='}, {'id': 'pUHAzynzQQ+9cD07NT7kpA=='}, {'id': '7b0fb4l/AUN5vkzmEcli3g=='}, {'id': 'x9ambfP2cn+yugL6vnFWUw=='}, {'id': 'zSaJCtVfPa5AgYLEsWMNCg=='}, {'id': '0S9VPliUp4kwTLA4McgcdA=='}, {'id': 'ZAPaFh2kjZXcPBE5o1Sj2w=='}, {'id': 'Xnn0VT3FeHrn78GqC1ytIQ=='}, {'id': 'zFfiqL5pg21rsUl3BeGA5Q=='}, {'id': '9z4pmFxE3tQ4ZrdUBxMctQ=='}, {'id': 'rvkGkYYkxzXk2beB/in9/A=='}, {'id': 'Po3tDe1LmCtiWmfx+I1GuA=='}, {'id': '9JUXucJd19JQlt6DlykFTQ=='}, {'id': 'Tf0Syib/fPexUScn9rqSTQ=='}, {'id': 'It86Avs8GoMKIJVBZZR/5Q=='}, {'id': 'tDsqUBQqrIb+lNxa0oXJZw=='}, {'id': 'dKj/iatWgLCiHzKvhDATNA=='}, {'id': 'YvOd7gVepmxhe8emy7WTpQ=='}, {'id': '9bHmNSUQZqm+WhKqPiq4og=='}, {'id': 'XefehTJBlIxKUXdh3GcxFA=='}, {'id': 'Od+D20V+R2kCMZee7ySswQ=='}, {'id': 'DV0NO5LnoDb6P1sP009zrg=='}, {'id': 'm+GsmNlUsKDaVb+2eSCNNQ=='}, {'id': '7Tcgc391vtyf6AV6qimjqg=='}, {'id': 'EBXeF6eDYOVwV5XNoxFtCQ=='}, {'id': 'nQNg/0u9RQnq820xw6qi1Q=='}, {'id': 'dgdqy00thRNvw9Qz6jWwKg=='}, {'id': 'eKZ494raUUE+uo9chUlLzA=='}, {'id': 'r2BeERQGf8+sWKLjchcMcw=='}, {'id': 'rO5aXJNRZ6lrmbXcpEOMMg=='}, {'id': 'lTDv+LsPAmT2IU5gHgHQlw=='}, {'id': 'l6srYjCvIqKQ/fszBJJswA=='}, {'id': '++IaTZNqp53ebvjpvF1eeg=='}, {'id': 'kWcRgnQpw6khhzVxSAK2GA=='}, {'id': 'S3rR3jGby9sdCIH7RhRLgw=='}, {'id': 'QJ9PLH2bThWmZ+QMpkrnDg=='}, {'id': 'lMz0DhkVMb6OoZ80O+Mq2w=='}, {'id': 'dcQ2TXuyJUOspCnxvM23gQ=='}, {'id': 'qY7I7nvYVrYygxf7wEPOag=='}, {'id': '9x+DkdIN6LUi0m67bLYMVA=='}, {'id': '0oVeFvYJE1HOfrm8sAVLJQ=='}, {'id': 'AAz7Y4zpesRrKYQiEWzIxw=='}, {'id': 'fPcCEI2GO4TS5zxA3CVXVA=='}, {'id': 'BlQQnVyg6EZIBqwvxZX+og=='}, {'id': 'KldZ+WA2IvEjh4ys6oV0qQ=='}, {'id': 'tQ0Rnsgkn515Nt2y/6JS5Q=='}, {'id': 'lLapCQJU+IK/j5S28cLkGw=='}, {'id': 'kjC7BF8WiH9Ul0FI/Mol6w=='}, {'id': 'fL7kLFsPSFTjHhvwdkhyvg=='}, {'id': 'lRlCMM6XmtUAozyw7WAg7A=='}, {'id': 'NMIkcYwqdnnWLzpxvT4JUw=='}, {'id': 'kIMQI/8QaQ49tGFqtgBcnQ=='}, {'id': '40W0CRylDLsUeGoHTivxEg=='}, {'id': 'G9dP8CHq0O5wmJQqGaphzw=='}, {'id': 'UXdcYKMdHGgKV8/9gZVdOQ=='}, {'id': 'b6LKhl/54n7QkESh1VZlTQ=='}, {'id': 'URe4Q/Wsb/3jCMvtK1IttQ=='}, {'id': 'DRyashjlPK8cRXVp6jzkhA=='}, {'id': 'cqmVJW4njXwRuaCnutezZg=='}, {'id': 'P87uvnVgeLkZSDHyR5NmLQ=='}, {'id': 'dDlaVk2gAxQYFeI6cXNYtw=='}, {'id': 'TErTgafQWrqlj3AXArBEyg=='}, {'id': '9KgPx4Q4iYFuOE4JLO8Z+g=='}, {'id': '50lbZMIa27s587l8BBP/Ug=='}, {'id': 'iefmAn2LyA8ZMRzHhFF9Tw=='}, {'id': 'y9M3JcU09aQMZm5E42ZUxg=='}, {'id': 'u2JVrd2yIMIoAq5h2HNJwQ=='}, {'id': 'FP7yf0+CkGavBPKDIU2M1A=='}, {'id': 'vezVQe1VPHyK1iEruZnM2A=='}, {'id': 'Sdy0N6o2BMdxmQGxGXiq3Q=='}, {'id': '89bat+VhQC6A6WAYFheZjQ=='}, {'id': 'l275rtcUJHxwjJY8O2T3/A=='}, {'id': '8JPnYiMTC/9qh9i1kGoxZw=='}, {'id': 'A7WjyKT3yRcT34ygE73KYw=='}, {'id': '1shEapuY4ORQA34KM9hAew=='}, {'id': 'p2u7Zay5So8lfGlq1WiQCg=='}, {'id': '5sEHpUkYhdwGoqJde5+btg=='}, {'id': 'cffVSb/RuBWmgM04ZTP8aA=='}, {'id': '66xsWO1u2VFYLDovtVrhBA=='}, {'id': 'Zs3rOwPdKNe70St0IbZwmg=='}, {'id': 'm/uMnjbBHu8bkJsG2F909w=='}, {'id': '5LnOVkzUG64PvE54SgckhQ=='}, {'id': 'BzUGOuGjnO9ySJ0uA6uLBQ=='}, {'id': 'gBCjZJwMmcntxSbLY4flBw=='}, {'id': '5Ns2PkYxFlWBVYlEe6A1qg=='}, {'id': 'vYnL6AiIShzrPT48yYfj9g=='}, {'id': 'Ks9cR6wkkk7ATdgg41VClQ=='}, {'id': 'VfDaCePKurQ3OkJE451r5w=='}, {'id': '71Y7reqEyXqUNG5t3kqdHg=='}, {'id': '4VgwhoIEOgP1MkSgDsGqtg=='}, {'id': 'pebT9hOcugHcVlyU/rlC/w=='}, {'id': 'FVsHyb0/HXzwysYnWxGqNQ=='}, {'id': 'uCkNeHlA2WC1tTD7gk8VOw=='}, {'id': '0mghEEY4j+mmY+JfaFsl1A=='}, {'id': '2MDh0lasRDGP8CNJ8URoZw=='}, {'id': 'rpYs1FkhIxA4bkMgUhcXrw=='}, {'id': 'ZVgoz8aQKEdfCsztM4bMtQ=='}, {'id': 'a+OBW07RUIOBZ0xC3DXhbA=='}, {'id': '4pseMiIagKQbG+AXRNmAZg=='}, {'id': 'gxLLmPM7ga+fa7fiSM15kg=='}, {'id': 'rVBaYadcObcm8agGz30M7g=='}, {'id': '6oYME2SX23hkgFls2A7r4g=='}, {'id': 'xRmLMc/IKSc4Y2DcONstQw=='}, {'id': 'UbGHIfCbwvaIHA/N0qZD8g=='}, {'id': 'KyyGM5V+Yq3PAAToTYol1g=='}, {'id': 'bbuUwu/naH+A8D55J4FgWA=='}, {'id': 'IGDWjpqLXLa86FEG6qHWIQ=='}, {'id': '4aGAyzNCu+UjUb/Jc7Vivg=='}, {'id': 'UeGWSg5He/vCTbvBROkw1w=='}, {'id': 'EtVu2eAoimiq8p6BqPZsaA=='}, {'id': 'VdOAcqpxOPmCXyOREvBaBw=='}, {'id': 'PgVU5R1Nr+XZYgvQrcxfYA=='}, {'id': 'H40iqkbS6nZIZlTPQLae7g=='}, {'id': '3Oo2KX/UF3YySm71pDWk0Q=='}, {'id': 'xNMjh5rWWj3xU5asf61WCg=='}, {'id': 'N8zMzyx5NtYbA5cZtDPJeA=='}, {'id': 'ngJd2aF7P82hPwYTBe0EAQ=='}, {'id': 'o4nH/FHw6v5Haj8HjjPjOQ=='}, {'id': 'uQULyAr26WIRBVVsO29Stg=='}, {'id': 'LevDhs0HudiTj7/cp9p3gw=='}, {'id': 'zqug4TbLiicIA4BOB4pbhA=='}, {'id': 'scnI71OmJYXeBkHLU0gT/A=='}, {'id': 'DQqQ8hz/dpW0hA70n3yivg=='}, {'id': 'jUhYZ2w3obDdUdb8sbulZQ=='}, {'id': 'yX4FUo0YRQtBpDTJ3VoYDA=='}, {'id': 'PdJLwXL4bFoYe6B1+uGrdQ=='}, {'id': 'Bfei1MsLbHjjfrM7Im+TzA=='}, {'id': 'tEnYVKBWoGdIC8wtn4Xp2Q=='}, {'id': 'hFktp+agXrapwIXHOA076A=='}, {'id': 'd5iXVz0lI2I4Wsgp9cVNRw=='}, {'id': 'ObptFJMJ2OW0zIjd69FWaw=='}, {'id': 'SVK+9zLxl6hvzfxLN4xSig=='}, {'id': 'ZfTZ+mP5bcaGXRO9IqE3Rw=='}, {'id': 'aIEAUijYbJlmjGNFWTdMOg=='}, {'id': 'jJl5nUt+FmrlSJoLn8EJ8A=='}, {'id': '1A/m25gg1higE5CP6Nq69Q=='}, {'id': 'nHJofHAxxFreRHsADweTOw=='}, {'id': 'dFYy49yLHFcH7QJTOxe5RA=='}, {'id': 'wyUddnX885xIUze3pdiBlw=='}, {'id': 'NMdCDLoJbp8q2TCdx++jDw=='}, {'id': 'gVHIU+fq33IliXcSRaAvMQ=='}, {'id': 'u6noCnHox34nj4IDMuq2hw=='}, {'id': 'bilzm05r5X9I2dp203/ykw=='}, {'id': 'KvRb+mIOksPPzRNATgNWQQ=='}, {'id': 'CIHGpO1exJiVe8F4q8b7sA=='}, {'id': 'MUWKbsdP9YTpYqSvYYBPFw=='}, {'id': 'f6WRrneMX8YoOc5asYXTfA=='}, {'id': '4Ls6JxtYqqHgyDAuEoxwpA=='}, {'id': 'xX0qlxQ/Y0zEr5pLcxmZ0g=='}, {'id': 'AY+Spo5GTKaCiBVxpHMtzw=='}, {'id': 'bPORijYuL26zr5oshvUBOQ=='}, {'id': 'PfjtPuQ6N8tKt5oReitmbw=='}, {'id': 'AqMGBZM/VD8J9kzUtRhrEg=='}, {'id': 'NUyF0tiVUYPCpysT2BajOg=='}, {'id': '6oVtLhYL0en9u7GV3XBY+w=='}, {'id': 's56e8Gaw8kosYIvkt0Um3g=='}, {'id': 'TNd2JbJ11hkAhKO+3oWc9A=='}, {'id': 'gwie/wjOwkbrAmu+KPmQrg=='}, {'id': 'Eqa1BDuyrqpnMnlNL7BZFw=='}, {'id': 'rEK9xB3Byg0SFXCVMHELMQ=='}, {'id': '1TEHjpX2L5mOaSa87xYC7w=='}, {'id': 'XEaPt9i/+4dx9FhXQ8TGIw=='}, {'id': 'r7tE7aIh4bRt0OfCSZrquw=='}, {'id': 'y5ob5Sx9h8bhhh072or4lg=='}, {'id': 'IMcRzkNjS2jhVnnyimWIig=='}, {'id': 'WQtT6SlbxIqbnSKrforDZQ=='}, {'id': '26VJ/qCttkz3SbsstymMKA=='}, {'id': 'gXcvT/13gFvJxCWTj/x5eg=='}, {'id': 'N6f2Lz/ZY+oi6r35BVM88g=='}, {'id': 'oyiFQrmiy4w9R83ZQS9Lig=='}, {'id': 'iI0lk2HGncBGcOPETZYYkw=='}, {'id': 'ju9/cI3nLDosNDrZl5HtbA=='}, {'id': 'P1cmANgxrNKg9EHRgcB6BQ=='}, {'id': 'u3wHu9+J1BYBCsmTW1mhHg=='}, {'id': 'LhQC7eJ+FDivEEpXdCLQOA=='}, {'id': '33u5ymTln9oNg/7priPeIg=='}, {'id': 'ZIRZ9hJZrh5KxV2XE2o4nA=='}, {'id': '3VYDjfxKMXqQIdxyJUYVog=='}, {'id': 'Jip6yGokMf+MKodpWsZ/Fg=='}, {'id': 'BlYojsfndwiOT8M5l1w1hQ=='}, {'id': 'doNnuk0L1kKTSB87NL/sFQ=='}, {'id': 'bsgLCun//GvKdldCEWgTBw=='}, {'id': '1zZZeAe1dAosMB/iua7xYQ=='}, {'id': '9AnU6FyKaH+WapaIrYpkBg=='}, {'id': 'eRHRw8JQfJKKN2wtJmt6Jw=='}, {'id': 'tIju11N7tEX8kY/yWcE7sg=='}, {'id': 'wwyw2rW3T7529BR8ZYJxlg=='}, {'id': 'Alrkrvq6TsQnVA88l3WC1A=='}, {'id': 'K+ZKEV7s/tyqzsOu5r5hTw=='}, {'id': 'i8T+IU1lfW0/hYSkKe7uAw=='}, {'id': 'ih9SZTJBKt2f6bbFeAJKiw=='}, {'id': 'mCm2hOAXQDgxXDE7eob44Q=='}, {'id': 'goqLdkX0QBLNlw2rTfDs3A=='}, {'id': 'fiYQqk8fqc4w3lw7cvFjIA=='}, {'id': 'Uw04jjJlIY/P8OOEbogxJQ=='}, {'id': '/w5qfg77kFL2fg1TctAdXQ=='}, {'id': '6JjN80/dL35sIOs1er0qOw=='}, {'id': 'qVn/2g4E7nDw7VitEGZKeg=='}, {'id': 'PALF0GX95eQgwG8M9uBbSA=='}, {'id': 'w936cWctjJOY4adFxBCSoQ=='}, {'id': 'sCxojdI+jCF+5bNpks+0aw=='}, {'id': 'Iv+1BaPN+lQoJ0cWPAlfmQ=='}, {'id': 'AXXjk0UfS2r8ofs5jx5HvA=='}, {'id': '8ACWsl47nQkRZgpebP7myg=='}, {'id': 'gy4MbvbtwFRdTZ3xnWWJrg=='}, {'id': 'ZOP7d1ktAfbofToeztXLdQ=='}, {'id': 'e9QSBrJTE1fQJOHitoAPdA=='}, {'id': 'z+PrD1L8Ag4CPbut060uTQ=='}, {'id': '7O1irtaHsIZNhhsF2DaA0A=='}, {'id': 'vjReMAIze8ltWAlk0kCjlw=='}, {'id': 'Rm2MgqEQjF7MpP01si5Dlg=='}, {'id': 'pLgTILlgYyLJ3ni95N8iRw=='}, {'id': 'sCVssBQLLbafMXhWaFSjeQ=='}, {'id': 'ETTDY+fBueBp964yOQPCyQ=='}, {'id': 'C6XOQnQOSt5FqptQ0Ed5Ag=='}, {'id': 'jK9dAWLmmwT/0ArJ0sa1ig=='}, {'id': 'AS8Rd6a4sGJhW+QSgUp+ZQ=='}, {'id': 'H0gi4usNqEJGTT74HgqgdA=='}, {'id': 'qCxNnwDvCgYO7M/hszDF6A=='}, {'id': 'K7kPu3BJOVEvw1IejVEz+A=='}, {'id': 'Av9AI8dSf5xzNWHzjCj7qg=='}, {'id': 'A1xY8AHR0OG1Wo25tX8xTw=='}, {'id': 'SgEOGSM4cLWXdB0PBUsfFw=='}, {'id': 'FIQDwqYxZSCrJO4pCAMYyQ=='}, {'id': '9oBOjoAwhouFS4ubMpOmXA=='}, {'id': 'songZP/X1FoC3KDBZGqFvQ=='}, {'id': 'cV/ECSzH4+ZLnM10YrlFAQ=='}, {'id': 'rAkqRAXpe0EbBCtu98S+kw=='}, {'id': 'CzoGQTYtBKvTCJEpaD5IVg=='}, {'id': '4ijGoN3CI5j5PrlR5uBJbQ=='}, {'id': 'ZecIqG7134lK8fz1qRINEw=='}, {'id': 'RwU0fVRmEtN0I4GjAqJEuA=='}, {'id': 'i7GhpIwEwNvGrSWrIDEFVw=='}, {'id': 'BLOUC0r7Yo+wl7qEDvkvrA=='}, {'id': 'UMfhpPSXkaYo5DqWLksnEw=='}, {'id': 'I5U1ayYnsKDRg9KHr1a0rg=='}, {'id': 'JpaB71AQQXkeLsDOToN/Fw=='}, {'id': 'SL3cikzn5vd3yGB4GAnxAw=='}, {'id': 'cM9lxmU9Liztg9A2fkwHvQ=='}, {'id': 'NoM58hEthOpgHX+6RSYGRQ=='}, {'id': 'gm3WtkXX6W7hKZyqk4/6pQ=='}, {'id': 'qg0mgvKQTw4r8Vp7cLI0dw=='}, {'id': 'qj+Fvhho3TrrAltE1DWPkw=='}, {'id': 'Tkxxl6yq0hfp5rIUZESbAA=='}, {'id': 'dC2u+iHK8oJSJJgZTKWaYw=='}, {'id': 'HNBpGUoD6pDSQJiz57dlKQ=='}, {'id': 'TozT82AYhlja4YzaQu9pSQ=='}, {'id': '37YAOCkND2A9akeZHe2XTw=='}, {'id': 'yQpKtfn2/t9z2CvgPU7svw=='}, {'id': 'WvjHkBKnwUSgXqvr7PQZgg=='}, {'id': '7mYZ+BCOjcD4oahqMLkcdA=='}, {'id': 'uWA6ec176g7PgpRZhhpVNg=='}, {'id': '/RGewqacJI1OAzxX+Pubew=='}, {'id': 'wFEOQITlolGTrSxJdjAibw=='}, {'id': '0qVkvas/4kUrcmRdW1XqZg=='}, {'id': 'klwJMB/VPhImaJd3txaiUQ=='}, {'id': 'Igb4QluWGu8AFF6ritZ18g=='}, {'id': 'lAOV9qiGC7fYp+jde9yXOw=='}, {'id': 'nOUO0BXJ5MimNKiKez//Pw=='}, {'id': 'NVwUpSfRsh9ZIMvNxidr6w=='}, {'id': 'iTShplELIjUIww4/WAa1kQ=='}, {'id': 'S5rPVMh80a669eBMxsgm2Q=='}, {'id': 'YjLJom6J4goo9S+wn1ldLA=='}, {'id': 'HTdfO2qa88/y0XLjgMausg=='}, {'id': 'Q+/hxbleQL/RZqH6eNHUuQ=='}, {'id': 'YUvfawMyfVFmctpiD/21kw=='}, {'id': '/ThO0tuUd8EXqH3kII67WQ=='}, {'id': 'K41aLgYrqXaX72esLXjgNw=='}, {'id': 'R3eSMmkjz68YJFSjrCMAhw=='}, {'id': 'K4nqb85f+3YFPmrXzpG1JA=='}, {'id': 'rlD2d8fM8kQPXRHNu+EVqw=='}, {'id': 'ChHbpVQZLYQIdkgI2tQ5tA=='}, {'id': 'u6vUybYn4h1jnkQqn7qshg=='}, {'id': 'SS96FC64ytVGtUADi38OsQ=='}, {'id': 'uhmC0VFrxR3GnyU6xqQX0g=='}, {'id': 'AB41EJQP5AnkUaelyhBx1w=='}, {'id': 'xK6QvVshZYAAdfG3FJtIZQ=='}, {'id': 'Zlyc5L18bejR56JY1ePlGQ=='}, {'id': 'RjQUtV5MKdx+NmkKAmOt0g=='}, {'id': 'OiLpXv1X57oy5qFIamQsHA=='}, {'id': 'Em9mpWiKHa3a5X3193NwBQ=='}, {'id': 'BGbcCRU/ZJiwXxLofMkVEQ=='}, {'id': 'jd+Ab3eVffkzShsAmXwPOw=='}, {'id': 'F8MadjmSEGc6g7zVIhIn+Q=='}, {'id': 'HvoJAGl0AWQ3jXBmDw2HKA=='}, {'id': 'A7VM409yop56AsOfVLEU0Q=='}, {'id': 'otMPzFUt61W9DYmhPx2CEA=='}, {'id': 'Q5ERyhHnEl7QtIpPmnqwKw=='}, {'id': 'XRTnwQn0rMfeL+8vI5RZiw=='}, {'id': 'PvrhdWhM7W9EqSIklyWQsw=='}, {'id': 'NEA3iRMlHJh04RyjD+bYug=='}, {'id': '5puXHR1hCPGdClFg783TpQ=='}, {'id': 'WLh/cpmM5C8r6WwOmVnk1g=='}, {'id': 'mZCk9PG07c/35ipqTM3W3g=='}, {'id': '77OcuEnk6nAxVweUkbI1qw=='}, {'id': 'aTVOWldwu/MhUnhJ0HFflA=='}, {'id': 'aK58R4G7QZOMa2bRCOQvCA=='}, {'id': 'f9zd7PEZEihPMWYvd7Z7bg=='}, {'id': 'dbUL/phPpBEVYnd997DOYA=='}, {'id': 'Qn8Lln9fxJawjCXoh0vIKA=='}, {'id': 'lB4Kq0c5w19JMAdFzFxQ3w=='}, {'id': 'diasKIjmAZEUNK4U6J3N7w=='}, {'id': 'kzUj+QUAsoWne4m9ETvZ9A=='}, {'id': 'cxXeeSkvP6+fVkree0KHyQ=='}, {'id': 'jD3dRZ3t/21T8ter6WbAAg=='}, {'id': 'ucpMLxEbKoMVTHvm2ujz7g=='}, {'id': 'iTIizNYA/M6krbGRp8e4IQ=='}, {'id': 'eTLXV4EvzywDLgRaiBDsPA=='}, {'id': 'XmNSyGH/R6VIkUs5UJ7iMA=='}, {'id': 'du8B2oKosYPxaUqEyRjfsw=='}, {'id': 'dXdPRwVhZTIRQsHoHVsmJA=='}, {'id': '14WZro8KWqcLJOKTRltbwA=='}, {'id': 'Zv27XiN98EPsk8I5feKrxQ=='}, {'id': 'J0L+rJwT0GQSTqV8NDTAXA=='}, {'id': 'Uqkq0lwQte6lujD2Zp1kIQ=='}, {'id': 'P+O8rslXw39G7JNbTVuvvw=='}, {'id': 'OlX6dtagmn7HoP6nj0rAlA=='}, {'id': 'AZ+awdGGKyabdGpNucewBw=='}, {'id': 's41H5VcfdpOlrCNmVWaMPQ=='}, {'id': '0CnUhSZaZUO0eiIaq84a/A=='}, {'id': 'Z9tJ2t7/P8Xsqb7daQE5zA=='}, {'id': 'kvSUnL6JcxUZrQ8KlmIyqg=='}, {'id': '9O16c6j/xnvQG/c0DSGsdQ=='}, {'id': '/Pd1ekIunHfEOQSisZDQfw=='}, {'id': 'CKPRZ+4IKBGpvR7yDaldpA=='}, {'id': 'zV55f9zr7q1ySy2ljO1lsQ=='}, {'id': '0Xxo+514GsfghQN8KLtHRw=='}, {'id': 'O0nwUi1RZQKy0WUQ/75CsQ=='}, {'id': 'GR+ljCarby2xBSYuQRFUrg=='}, {'id': 'A59kriWfOwm16wT7LyBWYA=='}, {'id': 'mzFP6iKsGSaEQ6kusLFWVg=='}, {'id': 'QH0HViN1nqO+1P7QV1INOg=='}, {'id': 'PtnoYd2Tb+JXYLh4BaMLIg=='}, {'id': '4VURRSGipX1EFJxxH3yXlw=='}, {'id': '5E4VIss9AXol2aSzdrY8Ow=='}, {'id': '+B1rhaSh66X3DDhv/F8+TA=='}, {'id': 'C7iNs8QfeMyLyEOK66JA0A=='}, {'id': 'bDGm+uU8sCzTkS7cow/QIw=='}, {'id': '6fHUgTVx6WrOcpKhXNrrpA=='}, {'id': 'OfEKKXVwLB3l8R7Fg1WqFA=='}, {'id': 'Qhyf3PLk1a/qyJiKei/Uvg=='}, {'id': 'tY3uxiKvlUs9VgWTq4dYXQ=='}, {'id': 'lCK8DAAaEeQdDk7Aa3gUkg=='}, {'id': 'VyRFQA71zoLPzuwim/a6QQ=='}, {'id': 'n+axzwE9tiF2U0VikqX5IA=='}, {'id': 'cmN1nVY+SLP8hgtqd3IUTA=='}, {'id': '+7qG2OBnda6X0mkkNaFEBQ=='}, {'id': 'TjZPdwctOdLvKUAqcchKwA=='}, {'id': 'S+tY78T1bE2PtPVTBunD6A=='}, {'id': 'EHlndKnP0oAdPLxVxjC9IA=='}, {'id': 'GVkQBaZnj0J2AC26MuJ2xQ=='}, {'id': 'n+BF+I5t7r2Da5HWERlkHg=='}, {'id': 'vtmvbVKZWzoogjL5PCcsgg=='}, {'id': 'EZ90L8pFAT0rJivqXiIidA=='}, {'id': 'k3O/UC2ERFqyQ9TaAbFcZA=='}, {'id': '8dR7ZWdT8qxpPQD0fmj66A=='}, {'id': 'i2kOVll0O9yEyEexp/T7Gg=='}, {'id': 'QB15Xr9+RFPBK2qgTVVa2g=='}, {'id': 'aRZdc9usSxj7wVF1sLz2Zw=='}, {'id': 'xqgab16b+oY/Y8E4FIWH+g=='}, {'id': '8l8yCxeeJJO9o3O6XLQS7g=='}, {'id': '8H2bAKyquo0aT6TaFCjXWA=='}, {'id': 'IRxTcsCHkMOhAPWyKoX1wQ=='}, {'id': 'Zo3cYZFzdgLARgZ1xc+ndg=='}, {'id': '43qFrUnzkJ/dqMgVUG6UKg=='}, {'id': 'ziMyXL8zMLILybxAgwk4kQ=='}, {'id': '79TRal3C/+Zo+2PsmsSe5Q=='}, {'id': 'u58qm83neQQox4eRehKUrA=='}, {'id': '7jQTmkhzttJueEvXH+olkg=='}, {'id': 'IQKfaOaT/kA4Q0sWfaKoxw=='}, {'id': 'Czt8Kax8UQ93z7Nzskj0vw=='}, {'id': 'FNZd6r9Wt/b3Aue3YFLYJA=='}, {'id': 'vAkaGuqbal8eA6VXjUxK4Q=='}, {'id': 'CK3o1v9e4lVcfo2Hmsx9kQ=='}, {'id': '9gOqGic3TrOK58CUysX2XA=='}, {'id': 'rQ3opbC/FXcPoXe3J+1Scw=='}, {'id': 'm+LR1uAjVDUGfSzT8RO9Eg=='}, {'id': 'nktiTm/v4xW4cYD/5y7Qpg=='}, {'id': 'Yd2JSyuQwvlo4akwOCaVuw=='}, {'id': 'mH4j2n1p8VZrrZDcCLa+Eg=='}, {'id': '0++wDN9QAWP25APzqE4D7g=='}, {'id': '4MZV5Uwo38JSxEaiHYjgew=='}, {'id': 'uEB2zrHCJkwHSu6Z7yOmJg=='}, {'id': 'e0V0C772YbtGYKqPD4DaKg=='}, {'id': 'zSLKZw1oby7vKhhXC6ZWnQ=='}, {'id': 'Bxc49yuiiKDMQNf++UHMdQ=='}, {'id': '7pqFHMVm390PMVsBva9wrA=='}, {'id': 'zEQDNB3nbcozsspL7aaltw=='}, {'id': 'OLmQoXyfuqXR/gm2QG77cg=='}, {'id': 'gkVTDOmOSg8Bq4pjTM6fUA=='}, {'id': 'ilvI7eNgjQLb8ZcdLD97rg=='}, {'id': 'VeN1gpESzF4Z99F5So+aEg=='}, {'id': 'JHkXhU6Cv00kEtmAv2QJ+w=='}, {'id': '8g79vJ+FSuAta8kilRCcLg=='}, {'id': '+WNIVvnefea2sp09q708Tg=='}, {'id': 'QvBW5fRHcQTpvw7+q1o09w=='}, {'id': 'VWCf1A8/Jlzmm8hw4yK0LA=='}, {'id': 'P8cMMrWq29NY/RhJeY4/jQ=='}, {'id': '0OSDu3jydmrJvre1B4SYdw=='}, {'id': 'sIsluqLGb7G/IepGCOQGCg=='}, {'id': 'qfsjnuRPHXPHQCOOLlo70w=='}, {'id': 'kNQRCGRJ3N2iBlB/Q/TREA=='}, {'id': 'Kq8kg8nufjNSM0NrNCdjCw=='}, {'id': 'HJ1XuHUZ7DwTvVP5Mytxzw=='}, {'id': 'ih4o32FIWgQLydjMuqMDAg=='}, {'id': 'NUIPFFacM37yFM3fUC3HWw=='}, {'id': 'fZpGuMWcojuCvxtvxB+VbA=='}, {'id': 'WNSPHBdBxmih7OERzf52zA=='}, {'id': '9zSIYfaELh/ondyfXrCKGA=='}, {'id': 'Urd/612wJo1GmyiYvJWUww=='}, {'id': '0flmEBTyMqX2K9nQJKAhgg=='}, {'id': 'QJD14Rwk8Eg4sQHe3DFIIQ=='}, {'id': '2D6sq+NgvcXUvSzlMcyRIA=='}, {'id': 'VcZ9FbQ03YTWJY8tlsIPYQ=='}, {'id': 'd79c60fz8LYQWuVj8Hpu/A=='}, {'id': 'mRcAjSQ6xTtsGEzCuCEvAA=='}, {'id': 'GtVy7NJQaBgOMP0N4d/VxQ=='}, {'id': 'UQ0Ek57cNqSgiTCwFQiuOw=='}, {'id': 'g4GvuMW7okt1WQHgUUs/iQ=='}, {'id': 'ivZW01oYRPU2+k5NuFeEPQ=='}, {'id': 'hYeq87aYFf/Wc+lqbWtWug=='}, {'id': 'f/UDKc0YCIU8T0NkTAf4PQ=='}, {'id': '30P+oPKwsFdJ88L63w3YnQ=='}, {'id': 'eApiu7iZTMDAB/1jlLdOPg=='}, {'id': 'FAqKMDM3dP/HXC1uIZPNfw=='}, {'id': 'kd8qNiC5ZwMfvrjas2ABYA=='}, {'id': 'S1b2eQtpIZePX/htVPrmBA=='}, {'id': 'mQKCmvAF6quTxYhbG1QS8Q=='}, {'id': 'ziJxOmSj8dyJ6ZylU9s7+A=='}, {'id': 'c5ibKWeWCmcwHiCPFDAvyQ=='}, {'id': 'WnIlSdZ/bV44YedVialf8A=='}, {'id': 'wpWBE0p/6FZkbyn18Whwfg=='}, {'id': 'Ira6nVzHTKSfXisZK/nqDg=='}, {'id': 'XQUCGJpTbIMuMTezvvforw=='}, {'id': 'PcyZfmSPPICe5aIZXdopug=='}, {'id': 'pdRNJy2LGbZHPbAZxbzE+w=='}, {'id': 'SiC+gTVyXPXTD+JRFx5ezg=='}, {'id': 'XOrWFN+VUw4kZZ7NdI5QlQ=='}, {'id': 'AQ3m59C3PmSP5StAeUVNsQ=='}, {'id': '9UTpnXmo6i5/TP0DPfYZtA=='}, {'id': 'F7wGsLA0YVa+I8DlL/e4vg=='}, {'id': 'YSAYnCzCeHnoZVU+klPznw=='}, {'id': 'mQudjSl/CEdVKtXJheXz/A=='}, {'id': 'LKWQyPzwYHUqnl9iSAFe8w=='}, {'id': 'Q7vnYrJRWw2ouVCQNmrvEA=='}, {'id': 'oMCCF+RTYcPWQBpNozbeCw=='}, {'id': 'EATthYhLQFzeht4WPAULSA=='}, {'id': '4WTBXIX0nI/cwbri7d1GYA=='}, {'id': 'flXpkIToLJJ2GEmKjhG2SA=='}, {'id': 'Ngi8MwscsRVzFfHQjQ03Ww=='}, {'id': '1cofsU+UVqNGrHbR0rIXAw=='}, {'id': 'A9EpyXJmWB2j60CY1lwghA=='}, {'id': 'q5VwOyd2yAiy4RAmmR9wOQ=='}, {'id': 'XsYwRl5v8nwAhGngBMGexw=='}, {'id': '2smh2ywjduGYvo2dJ35G2w=='}, {'id': 'VXzyE8wWUAt8uojr6/rB6A=='}, {'id': 'EIFLRlmhOzf1NHmOq7g/OA=='}, {'id': 'RB+OsF4WA23CxV7sPk7rDQ=='}, {'id': '04L8TmoIiNxyUMZT0OyAXg=='}, {'id': 'or39DC4MU/opLEn/fA2wbg=='}, {'id': 'HGEcK2Bmq/0Rg0G9QpLgoQ=='}, {'id': 'OLjbqYdhNCCYSTvucbdU2g=='}, {'id': 'wHCBWpYabjh9OYr5G7BmhA=='}, {'id': 'zHFg6iGvgULKQo9njzCThA=='}, {'id': 'N/Xqs4KXfQBUzn+vuOwZhQ=='}, {'id': 'WKf8TDR9C9S9RBhmJTZzHA=='}, {'id': 'tJ19OiVnduFQUZuyMiMD0w=='}, {'id': 'm29aXEqrSmqQo8JYkhU/yQ=='}, {'id': 'R1iZNHrJRVkVl2sxRazXjA=='}, {'id': 'i5Z6fbX/1aTgBGAUhCoR7A=='}, {'id': 'qMjCEwxY8eexkMEEvMTxzg=='}, {'id': 'fhiYzDNc11eNpZbCOf7r/g=='}, {'id': 'GWQzhV9E+cA7zwd7DJ6I4Q=='}, {'id': 'Yy14ce37ZJ8zQyNGamhvwA=='}, {'id': 'J4fc5j/8Y8eNUUIJQRXFiQ=='}, {'id': 'eG2rgeP+nsvYswQAu9tBPw=='}, {'id': 'dsRnqvL0J4TUozM5Jni66g=='}, {'id': 'rmEqarUPmJ86Xo5snj+3Og=='}, {'id': 'EReRDafngu8Ko8L4JlgsSw=='}, {'id': 'aafzw+vIlb6IaM7cuQYuaA=='}, {'id': 'YSSxNbhVQAtYhggSuyCFgw=='}, {'id': 'HesoQ0nFyYeSW4kEQ3LMOA=='}, {'id': 'uBp28F01zhU0bLIsheWMtg=='}, {'id': 'o02YHJFLAY8pb877aA+uyg=='}, {'id': 'Yi/xBs5ato0z9qT/gREq8A=='}, {'id': '1tO3NHJwQqZo0lkijAjMqw=='}, {'id': 'PmHm/S1ekXkiSA/xUgZCYQ=='}, {'id': '70Kr6WJhf85IyHC3dpxJXQ=='}, {'id': 'qaBlm0x760YfdN48K17YTA=='}, {'id': 'KZKPlBmh0JrrBpJmDfMf+w=='}, {'id': 'p0ZBm1x02/ADRZVL/d1SRA=='}, {'id': 'qToXhbfZLnW/Dn9n/LWFLg=='}, {'id': 'AbKgNHyKkF0T0mj2Qc65Ow=='}, {'id': 'qBI+Mj676HBO4ba5BDTozA=='}, {'id': '0czw5hJfuRWYPGxYIvrIEg=='}, {'id': 'JoJRF0AIO0aGAdz8/UDHbg=='}, {'id': 'vDMMdAvtkXdSV2xNDPpHVA=='}, {'id': 'YVwu3q/+9ZZIE6JYGNIPxA=='}, {'id': 'EVFn7OeDoIebURW4p5fedg=='}, {'id': 'aiXYP6b/28zkNIqbAEzIpw=='}, {'id': '4oXuO08zLzkhGTuQjHj1Rw=='}, {'id': 'wn9kr0x6sfLzNMOXsf7NMQ=='}, {'id': 'Y0WLgkFboZDlsy49Z9pJMg=='}, {'id': 'QsF01GmURnb5latig1GgUg=='}, {'id': 'FDeAv9V/DYg2113ugoNNrA=='}, {'id': 'K39YnzxZNiiWi3ya1Cvq8g=='}, {'id': 'CEjxA8JtKM/v7dzXDbT9pg=='}, {'id': '0rjhgI/YG++SOs062fWeXA=='}, {'id': 'R/gtQp81UJUTkifwAD+p4g=='}, {'id': 'pgx3aJ9zvdXDOfj1r6rDAw=='}, {'id': 'gRCzIzZ572C0h4/5yM5U5w=='}, {'id': '+BsoZj29ZrDGZrBwT7EnCw=='}, {'id': 'Nu1SHj0ylVsr9+m53e8ODA=='}, {'id': 'A7ytGXFVL/XIo9dWPm4nDQ=='}, {'id': 'UELu/bkTEGCQUPQtsUjnJA=='}, {'id': 'dy55EkqaHgO+lFdN1G02zg=='}, {'id': 'A4hHm1LocIFYIPcG1PhkCw=='}, {'id': 'AlahcAqCOzuQJtCvNV0PwQ=='}, {'id': 'szUlhpHNIYpleD2T0/MAKw=='}, {'id': 'r2WBFqSejYu2cqsNYznYTQ=='}, {'id': 'MLAdutRXqp8lKH2XyLwRoA=='}, {'id': '+swSfifcutgkkPxiKn4sOw=='}, {'id': '6L3JiAzSxQnEOpiNCiNk4Q=='}, {'id': 'pFePGjkVnmhWTXfru1aaiA=='}, {'id': '2aQooJwu3g/BBikxmrMcjQ=='}, {'id': '202UXkgYaph0tPgIqK4WHQ=='}, {'id': 'KyXHDuXxEGPgDWcm5BLGtA=='}, {'id': 'Zxm1hD8YX24ZiLRDD4U4KA=='}, {'id': 'Lo7HWEqI2t8p/CSt4N6y2Q=='}, {'id': 'uKzZh42Gtrgv5IBhdiCPwQ=='}, {'id': '1WGjOIMZ4ZpnheUq2o0TOA=='}, {'id': 'ehYbTzrwrNIikFjhysoh2g=='}, {'id': 'UQrH300qv1LRN9kV1rRGrg=='}, {'id': 'B5Znj/ApRbmQu89Ns8whCg=='}, {'id': 'kvitHrtzR4VXQOPdPHS3Hw=='}, {'id': '0/TTsGX9SlSD/BtKsTTU3g=='}, {'id': 'IxeoSQ4TUXN0mKH706M61w=='}, {'id': 'TnTSM/o1yPO6t7V+ut5a9A=='}, {'id': 'DC0zr6HarugbpqQjsMKRvA=='}, {'id': 'FGfkBhIEFTJtoQIBhCmQGw=='}, {'id': 'TOIiGCjm47b+9LDdHM0q+A=='}, {'id': 'jLYMQlY567UGQ+OTfuxchg=='}, {'id': 'lsmXOWJ9TyZn41cQ2geXPQ=='}, {'id': '3XloF8ZdTuTxFBYtFyWkoA=='}, {'id': 'fkYmeDnQbdwidLtX7PmUeg=='}, {'id': 'Db0GqVG8m61P4aiEMwZMCA=='}, {'id': '3P0BkUpdemLdKdKqTKU5LA=='}, {'id': 'RwyXiGS6+knPYDgj7HjNQg=='}, {'id': 'hBTB+P9Y4MVMPXQ6q7MSDA=='}, {'id': 'YBWkHAH9iTL1awR8qozCZg=='}, {'id': '5PY3H9p7xuEoPVbLIQY5DQ=='}, {'id': 'i1+4vw+mKXwQ9DwZea8COA=='}, {'id': 'jnN6fWIKprnM5auD0jkAig=='}, {'id': '/FDzNt0GFCSIrdU/OhX+8Q=='}, {'id': 'oZhXiEcasjzyHFCbiSWvpg=='}, {'id': 'EWinzNJ5QEqg3OVFCzDEkw=='}, {'id': 'n4OfC63TbOc07W3xd8NB9Q=='}, {'id': 'C37r4mNBAI4pWE5sLXbb4Q=='}, {'id': 'WBCizuCAeqSH8Fa95MAn1g=='}, {'id': '1pRUX+HQolsHZH1E+FFF1A=='}, {'id': 'Emee/SS1Eimq2J2NT912dQ=='}, {'id': 'V4m/TUX9Jp9KBTxjV0Nd9w=='}, {'id': 'SZX3gHaRz4SJz9xSjhqgsA=='}, {'id': 'PWRxcXapEe3+bqheoK/Ehg=='}, {'id': 'YfCs/WbRhzRnGDTSVvG8wA=='}, {'id': '3PohGo6J11NSn0IW2LqTwg=='}, {'id': 'DusnLrt+0iRdqj2mwB+32A=='}, {'id': 'V3bJcGiyJIrNjZGyy5idow=='}, {'id': 'WDZZ5Y119u0Q1OOYXpv2IA=='}, {'id': 'UfzEgwNAYjAvJgnszAFOQg=='}, {'id': 'uxe+vI81H+62l6ckSR/v5A=='}, {'id': 'YWvaYjUDESSwDr3cdES7wQ=='}, {'id': 'vJVyvMC9RP0yQX+EEnt96Q=='}, {'id': 'mdkPDzjH+KcZOMdQpiQ9Gg=='}, {'id': 'xDYeIVTkPSyMfp+ekS8OpQ=='}, {'id': 'emX0+M4VZVffc5ChYXraUg=='}, {'id': '4bEf2Lkks9gBMcX9wqUisA=='}, {'id': 'XmBK8dryXkeWvEPtwN+pLw=='}, {'id': 'Z7XbH297j9D+mA1VJSxGug=='}, {'id': 'Cta3ZiGfJi13TaZMAPbhCw=='}, {'id': 'E3B5PNek1zPoT/ABeg9zqw=='}, {'id': '57LWkvChHe5l7UNmVIGrgw=='}, {'id': 'TWcKu0RwF5Dm/x4i8yp7Lw=='}, {'id': 'qtjcygFVCIemzfK+GU7ZtQ=='}, {'id': 'e28CDueVljMgefh9izGU4Q=='}, {'id': 'pEvaRIfPNVhiU5Mg25St6A=='}, {'id': 'wOKY5CDoMNJ6McddDN4TLg=='}, {'id': 'pjTdYcJQddnjraN58QF6XQ=='}, {'id': 'YAdvQ00RED9uedil4qWBVg=='}, {'id': 'to+6un+K8plgn5PdUqXdDA=='}, {'id': '/lyFCKUko2Ev2Be6Fcex+w=='}, {'id': 'TRWJT91fOv0aAQHa/jGDkg=='}, {'id': '6hEsxWtbF2ckYEDz+cav1Q=='}, {'id': '3UqWEnxbsEY2hYZUX+GJ/A=='}, {'id': 'asOYBQS0TlNgVMJwPDpEzw=='}, {'id': 'fX3KQawpExyUF0QdMj8jpQ=='}, {'id': 'lR3/WWR+g/vVHs6HT/SyCA=='}, {'id': 'PwuDpb7Tt735WvGRIWyGjw=='}, {'id': 'gZmcGuJIWWufKmNGifJHbg=='}, {'id': '9Y4c6D4rVRSZhKKEcs4bwQ=='}, {'id': 'tmIOr4QxZdWq5WUtoRcHaA=='}, {'id': '0cnmIKvVApA7+xi4CRKkrQ=='}, {'id': 'itbwhVYVtYrrCMem09Yxqw=='}, {'id': 'uX4JIWlUD5sQ1pE7p0i5qg=='}, {'id': 'EAdCDhYBbgdBBn+yozSupg=='}, {'id': 'MYVQBUWv+FTAMg071zsZLQ=='}, {'id': 'uzFt2201kfLgf0YMp6OhpQ=='}, {'id': '8GQxrlRhEBGXTIneL5HsPw=='}, {'id': 'oTbjBubXvtMr57NRBAoQBA=='}, {'id': 'LTBrO+vIXkNfNx5S7zZKjw=='}, {'id': 'Kgd6j8Icg90HQN1ucRut5A=='}, {'id': '3JG4rDGAiMRdY3KGDoAoEQ=='}, {'id': 's/dcbQg+VaPN1oY/SDVJzA=='}, {'id': 'VTpZOcWqO1FlabPBhKZzLw=='}, {'id': '30a/GBN1oGkojZgAUDfknA=='}, {'id': '6B6PgtUCAmk0MBuiDDnGYQ=='}, {'id': '+jQjqo/U3um/w5EI8zcNSg=='}, {'id': 'tO6leGi2M+vMoHzz1+qvPw=='}, {'id': 'RmcWwpPYv5hnKlArDsaw5A=='}, {'id': 'Oo8IG1Cm6dzTE4OO5ft0gA=='}, {'id': 'Cv0o0JDzkT5VjvdBnpY0pQ=='}, {'id': 'cVYVm6EQSWhrF8Tq4qUd8A=='}, {'id': 'eH7F8u+PbEd7NAfYFti5Zw=='}, {'id': '5lxdhMa2OFf333Csgpb0Ug=='}, {'id': 'niI6R6ksDNVwUPdJY0quzw=='}, {'id': 'WGG3+zOAJh+/xXJwrG2zAA=='}, {'id': 'k284ab9oIIFvTdsC9tq1rw=='}, {'id': '7wfzNwzdG2EBmYsws0jFRQ=='}, {'id': 'cDFVr6jiMLhgD0SAdbvKRg=='}, {'id': '7l9s3nLWCwkZkgoRA20a7g=='}, {'id': 'iW7LtY0/5qnC8VseRAqJyg=='}, {'id': 'pv/bmAPjK6+G1g6cBKRp+Q=='}, {'id': 'Oq6lY7npwSfJX8tk/4qVBg=='}, {'id': 'Fy4q6DBGWD17LWfs/POzKg=='}, {'id': 'ftTN7SVaA1ZlsFjrCX7UHw=='}, {'id': 'sgQCLeW0zCG/2pcZP0ApsQ=='}, {'id': 'UzBDrHDdvrhIL+l1aWtfTA=='}, {'id': '+FRprrf/+KOK6tlDQy6SJw=='}, {'id': 'xHK0XEFC3YholjYOHMV1yw=='}, {'id': '115hOXZCv4ss6KLAxc2Ctw=='}, {'id': 'pKnaP4L335xK+9cS41P3iw=='}, {'id': '9IwZjtlcCNC3j1t3yCbvDg=='}, {'id': '3gWpnU0gZsPDUOBApugCPg=='}, {'id': 'R/CPf/RJUfBab0RVetfTrg=='}, {'id': '/5Slc8VMO8/48pdRIpkjRw=='}, {'id': 'NMNivmzf1YtnnrzPbnAhpw=='}, {'id': 'u8aVTMKgVtNWKOQZs0gJ3A=='}, {'id': 'innlmPozk9ZpEiuNE+wwWQ=='}, {'id': 'V2Gl13F8IhK6/s905boy1A=='}, {'id': '/efx8iB+LxeZCZzbJQ0uNw=='}, {'id': 'YfzIF8r+CkEkBSNR601vMQ=='}, {'id': 'iTBJUEVmao7Ic/amMpA1LQ=='}, {'id': 'lyFAR95JoYXJDl1qyNa87A=='}, {'id': 'K0/BLgpCLvpbTKRN08Eoig=='}, {'id': 'N3uIDWRjX294lM3Od5BR4g=='}, {'id': 'Pxu7WLohvUKBBf3GFqmmnA=='}, {'id': 'YulVuSXqxIe97J90xIZLtA=='}, {'id': 'aSrUWzykm35LO1oWEON6Ig=='}, {'id': 'QJBwOv/KLGmtNCK32luwvQ=='}, {'id': 'X20gBlJ2I2w9PAUho9oFEw=='}, {'id': 'wWc2vnk3eACM8YlWaEVRFw=='}, {'id': 'VrF3SBlOLh6DipCBL58AuQ=='}, {'id': 'OO2BafxSv1TAd+NpQ+u2yA=='}, {'id': 'j9jKRehqIpXb+t9r1+DNXQ=='}, {'id': 'wtD5a4vaDHh8Xh79fof8Tw=='}, {'id': '8735eKXT7UXqUkzExXt+Dw=='}, {'id': 'FR7Xm1rYh5BXJOD6+ojHrg=='}, {'id': 'KZ3kcLS81brYrGhwKatpTw=='}, {'id': 'Ilke+w/cEtFl6bu+wMGEEw=='}, {'id': 'g9myGV+8R9nzBCS8HWUKEQ=='}, {'id': 'XAgn3wk3/6si2vYGlM7asg=='}, {'id': 'cTx1TPzk1DyXoRMqe1SBZg=='}, {'id': 'oMyEj3vWJFoD2O1eq1qIcA=='}, {'id': 'OQxjU6KQrzQq5ClFXtisEA=='}, {'id': 'ym4jUmqXWmj2DWMEgQDt1g=='}, {'id': 'PwxWTGn0eD28YC2Rai0q1g=='}, {'id': 'gxf2xzcMEozmf+nTXt87Jg=='}, {'id': 'FGmbNMHR19gN07u6RaIeGw=='}, {'id': '+6jHfDUvTewXLc8xElG4KQ=='}, {'id': '2FXjp5ZrpWPUYVhIOYe8ZQ=='}, {'id': 'pFvwUQb8ao4IlhKsEqrc7w=='}, {'id': 'ybHPUUt+xVSqKZpL4A/9YQ=='}, {'id': 'cuqyVv2T+qwBCeLj+YVyWg=='}, {'id': 'lN8FMuLoJ/jGSsZ3Pxbo5Q=='}, {'id': 'JbZq6d7x0fx0ywuSHmx7CA=='}, {'id': '23xvi9mzqi4jJVclPI9vag=='}, {'id': 'xVGihCSc/uNnjiAd9zG9tA=='}, {'id': 'Tc4CAQYwMvEGGocCdqSc1Q=='}, {'id': 'htgEUGyVf5IVRz+V2/k0vg=='}, {'id': 'tpvchLC3V296CKiEUbE60Q=='}, {'id': 'US2sDYud0mj7Y4ikN8HSIQ=='}, {'id': 'HzCg5KVQTtVZKQ+eNcw3VQ=='}, {'id': 'QOCidtDqhIgPgcr+ih83aA=='}, {'id': 'v20pCOXAvachbeQdDmo1RA=='}, {'id': 'aUN8wNCPbd78+Be+mkRuwA=='}, {'id': 'kUoGlvt7t4Y3QSiM4qD0lA=='}, {'id': 'iR6HfHU0fkz9R8m6856MwQ=='}, {'id': '7eQglanURgOV1DLkv4f3PA=='}, {'id': 'c8zgPfEsJE7qW1g1LU+o+A=='}, {'id': '3cpKcXdUdMgyFBu06SyZXw=='}, {'id': 'V1pDC906qI2amJYMR0FjkQ=='}, {'id': 'd+pvhaglhpK6KxmskQVUcg=='}, {'id': 'JdnbBULZlVuA1gYTHEduXQ=='}, {'id': 'FOZXOITac2i5bX82Ajn6rw=='}, {'id': 'KAUuVZJbdmSkHfyefPmPTQ=='}, {'id': 'wnHzUld7MRtH0kr8ruIvEw=='}, {'id': 'nY9WcDDWmBNTh2Ljge4vmg=='}, {'id': 'Tp4SQg6/Q2YYf5O2LYCP2A=='}, {'id': 'vvPLp/sbLqZZjNY2ZxkQJg=='}, {'id': 'VC/t1gx1iYO0gmNMJ0ixlQ=='}, {'id': 'PMm5n4Lkaqane7ZI+64EMA=='}, {'id': 'Xgm8IA01sSCttDw+FoyxLg=='}, {'id': 'TocicrKRaFkGYslZ9dTQSQ=='}, {'id': 'kDlw3I4pe/TuD7TZIeLung=='}, {'id': 'k4/321bNWO0RoUBK0i39aQ=='}, {'id': 'dz6ItZrmZ4nh4ZWgUpHbzw=='}, {'id': 'qwVNrBfT4iG6a1W7fGGqWA=='}, {'id': 'gSU2RTSPOfh6qqgtqtHl8A=='}, {'id': 'TMx8lwfncngLxQCj4PyjRQ=='}, {'id': 'thaGDQxpDH5UrlKKs2kFJQ=='}, {'id': 'EAO4T9mx/GRohyodq4Uu1A=='}, {'id': 'qyzssz5H5Ak6bOBsrechlQ=='}, {'id': 'h2rAGAdPK0zvt5g4XT0zMg=='}, {'id': '2HLZzF1W35+XEByM3fPPiw=='}, {'id': '/xkbhNWT9hU5u/LxCguxhQ=='}, {'id': 'RfOdsno3pYWfgplKfjRgLA=='}, {'id': 'GsbEavL66RZv7egxIzo/ZA=='}, {'id': 'NBCMvKbtLPoUNzMpCGe2lg=='}, {'id': 'dxsVGrnYzRrR6EH2PQlbgA=='}, {'id': 'C2VX+IpzBdoV5Ul6iH+bhA=='}, {'id': 'lPgX7W6cs06nR5RAXWIzSg=='}, {'id': 'Rmtc/pq2AXD1sZklJPttSg=='}, {'id': 'KXgVYEJyTiSav6CdAajvgA=='}, {'id': 'tCzIp6oKFa6gPFntrnvqgw=='}, {'id': 'vmU1kMSw3sTWtW6zBf2/mw=='}, {'id': 'iCQu1K1YJkA7rg3PwjhdBg=='}, {'id': 'qM9aE8xWxDDQRFiFxzmMCw=='}, {'id': 'eLsHj/L+5pyOa7YhiVqZ9A=='}, {'id': 'm2tBnpPki6n1uqXNVFwwgg=='}, {'id': 'wlYxqdykjL7I8oxItZpHhA=='}, {'id': 'bM6H+780MoFqOi5tLZaB3Q=='}, {'id': 'OEEyrRNTXonQzVoRlCJfDQ=='}, {'id': 'rygoz7yc6z4JU5BjCiYLFQ=='}, {'id': 'RM60qMwdjVue0kjOJ/8+Qg=='}, {'id': 'MUNTBHZHIzANCdNB/aTq9A=='}, {'id': 'nqxokBor/YctXQ5f67O+jw=='}, {'id': '5KTod0afSJpP0Ja98hze/A=='}, {'id': 'Rf2/E2TaIDsYj0D/KZmM8A=='}, {'id': 'D6abTCrWQnne7pJRkcM6jw=='}, {'id': 'KsooAewDPgqzlDfujhJG4w=='}, {'id': 'X8o26lEs5FtTejWGyfhzGQ=='}, {'id': 'nJKj1pVGpw3EvCb79CaCaw=='}, {'id': 'ZMYH29zLeIFUlpGOkmDQyw=='}, {'id': 'VTfAAcRJwJPnA5/N6if29A=='}, {'id': 'Jo0gxCDDQUWuo9Vmlvha8Q=='}, {'id': 'z8w5z+qc5o07jhBqH0QoZA=='}, {'id': 'dyP0TlRS1LMEoECXbZ18jQ=='}, {'id': 'mHoj8qmZo9a0otYexMJGHw=='}, {'id': '/jJ2ocB2482oNHKVVu+RYg=='}, {'id': 'hCSFduyMyZc3nWurVW/9vQ=='}, {'id': 'jWoVZMSfAS3GJfyA8zSZQg=='}, {'id': 'p607m4ts99ggGy2UMRZgyQ=='}, {'id': '0DTwk5BxTqWoHlRjrc7bRA=='}, {'id': 'YHZ90J1Ko37Du9Mv4PwVXQ=='}, {'id': '6NfqOp1nbWfeyu4QFnH/yA=='}, {'id': 'zvAYvg087n32C2F4yVRIsQ=='}, {'id': 'oj504VRIoaKdps1qHAzP1A=='}, {'id': 'XBIcm1C11amF7YIm6rFEDQ=='}, {'id': 'SDNgl0K+PxbYdlw3Fwv7mw=='}, {'id': '5NLkF/WwGATYmmbP4KgJ1g=='}, {'id': '+nE2NF/s5LeVXP8lXGvXKw=='}, {'id': 'RofH8lPSK5Scsz0sIlX0QA=='}, {'id': '4jqPmOJmDKgurgMvt7Nkyw=='}, {'id': 'JbI3yWoNoEnd1Uwa+pzISw=='}, {'id': 'WOTCQkdcRaDNr1hed6AZVw=='}, {'id': '4ln4+RwPqVsAwSjiy5yVAw=='}, {'id': 'HiXSSeIMTcM/H3pAnfD1Og=='}, {'id': '1Ji++ol0KKSzxdS8KqfJSA=='}, {'id': '8WjsBrNr22rvVtw6z7e+Bg=='}, {'id': 'eWooP3HMeDYiwYOQ6g99sQ=='}, {'id': 'FglKg7tLeXIrGd9QJs+d4g=='}, {'id': 'JUr3TIMElBTqa1R43DvkvQ=='}, {'id': 'Os0t+kDruLo3em7RhQjRSw=='}, {'id': 'eA3T7n8iU2l3mrc93jfvdQ=='}, {'id': 'xzuiYYaBxTNaB4Iqh68wOA=='}, {'id': 'tTdfWzreioZPB02xvOuSug=='}, {'id': 'p458Jhd2/o3xyQ2mlDrhcg=='}, {'id': 'XTN287ZlHFXSBn9VcYnQUw=='}, {'id': 'mra2niWTc4xbzYTWEkdqgg=='}, {'id': 'p0OdL/xuemvoJ9QiY3nxmw=='}, {'id': 'T0LYM4MAbklr3Jp0l5s7QA=='}, {'id': 'km50Ik7Lkqp7uwlplG1Jmg=='}, {'id': 'SUukxl0/lXs5h2B9NDF/yw=='}, {'id': 'kIWTm8FKW071Of+VIOmGJQ=='}, {'id': 'Xy+GuYgE5PoDIVvhzYJ20g=='}, {'id': '3BD0gVidXmSCJ9Wp4RF2dw=='}, {'id': 'TmN9/QjQdxTqyE4lLVR6OA=='}, {'id': 'klrE24l2Kln2+LumPA4lkg=='}, {'id': 'RkCEdhrvdMl5pGHhNS25ew=='}, {'id': 'nDcl2F8ThtkUZD6viNbmmQ=='}, {'id': 'LfE27x283CGeH7IVJEyTTw=='}, {'id': 'UgTvWe4ZXsYE4ltYypJoSQ=='}, {'id': 'usq/p7VDEtxw/1yhn4Isdg=='}, {'id': 'iIynAb4q+QBjEpU3ldSswQ=='}, {'id': 'J+6GIsZDoJTRoF/dzV0F3w=='}, {'id': '1inYcW6LB+MK6dr/coBEow=='}, {'id': 'Cg3NY0oWz4APgDos1LnJzQ=='}, {'id': 'negDpyZG5ODhudUJ/4gVCQ=='}, {'id': 'iXnOkqOKvXX+cloSWeoOLQ=='}, {'id': 'lY0QnseXhnUOqolpgfjg5w=='}, {'id': 'cK1auQKcnA/ALeX1kL5/zg=='}, {'id': 'SN/zKqGxArWWIK49cZ2KKA=='}, {'id': 'X+tl4rH/R/ne4OV6V9tzoQ=='}, {'id': '1R7Ou5hKfvlzEabGmrGBWA=='}, {'id': 'f740UycmyohffsfW/W9qKw=='}, {'id': 'yo7G6PvfuN5oCuWDxahpxA=='}, {'id': 'j9cOlm8ew1D0OVPEl84iDQ=='}, {'id': 'CVkwaSSwukbS4nrnY5cUzQ=='}, {'id': 'zUuJANsXlGzvuinEZO1LJA=='}, {'id': 'IXKYF9DYCulkJClKR+z1Iw=='}, {'id': 'bbkBtw4N9et13K3v9eXQpQ=='}, {'id': 'O9ftW3Zgl6ouP1kPea4ygQ=='}, {'id': 'U9wJJ+cnz2NhybwLU6EUGA=='}, {'id': 'rilQ8PhDC5SQ93fNMNVvRQ=='}, {'id': 'FbjHxEOi6MtOARL+XrGiiA=='}, {'id': 'wB4oyBjHs4zhRRJND1VOug=='}, {'id': 'kpRlcvVdXdYhmRgy2QN2Tw=='}, {'id': 'Ibur9lby62yGdEsE+EymVA=='}, {'id': 'lkyJeSGz3S6xWRriCbb6Sw=='}, {'id': 'AAV4jMA1bULJMZORe0ApZw=='}, {'id': 'wiWz/YL6SSD6NtH5DWpCkg=='}, {'id': 'Is925LzfDng3XizLjLQKOQ=='}, {'id': '23P33wysX86N0ITDWsNtiw=='}, {'id': '+buWikraDdIUeKr3W1Q/kg=='}, {'id': 'qJdqap75BWG6cNhFAsd6aA=='}, {'id': 'OHDgJmbo5r7C+GmoE7BUTQ=='}, {'id': 'mNABkMwUY/IeG/DTE0ZcTQ=='}, {'id': 'IUHtyhYvNHJGjwywleW2EA=='}, {'id': '4zelpxir4ffFdCf+eS/pyA=='}, {'id': 'r63pfb2k7Eqn+1VZuGNA0g=='}, {'id': 'LswXaqbJAL3gCKVE0F8vMA=='}, {'id': '7PeYTfF6+Snmq4YFnfHRkw=='}, {'id': 'j9uhwOGjBemha0Gaz4x1lA=='}, {'id': 'E1U8JGsJl4oVAUDizzZNFQ=='}, {'id': '4dMoRdk+tMK1tjmVnjLF2g=='}, {'id': 'VdtVU6M9IeAWmeAnSPNw6A=='}, {'id': 'KNgPf2KFoq7IXEr0G8r4EQ=='}, {'id': 'MQyXJ7m+DTQAEW9OlHztwQ=='}, {'id': 'CMZ2cytQ2yGkDc4Q7hC9wQ=='}, {'id': '25vo5EhV4pLWkWAbix7c5w=='}, {'id': 'lgApam0AdJw1+nj2yb5NOg=='}, {'id': 'ixkkL11zb/Xp7HeGFYE7Ig=='}, {'id': 'Z1vC2mGIOc56ktJY8CzvJw=='}, {'id': 'djCUnegSXXQHwPCCBiujBg=='}, {'id': 'aehcyO0DhAbQmmwzxgx8vg=='}, {'id': '7WGyLk76LhnqvfuNDeZg4g=='}, {'id': 'lqBAo28NdsSCDZxhZkWqFQ=='}, {'id': 'fJibr+egi4nAoR6c4h/BEw=='}, {'id': 'ywIn3r6k2x8lGlHiI64q6A=='}, {'id': 'm4az03RSxSVimFin81E36Q=='}, {'id': 'MYNdR6FisLggN3Dy6cy+SQ=='}, {'id': '+CMDT/dPR4z7be/0kwp6wA=='}, {'id': 'dLIDH+MZAPDCjc5GLzlNcQ=='}, {'id': 'jrBCcovPJNH2UW1rmDZshQ=='}, {'id': 'vsfivyNK2RnsM5ixrgLX6Q=='}, {'id': 'hCORx/MnskGqmMFPzCAAeA=='}, {'id': 'xUQa9rSX3GIdtbAPsiUSXg=='}, {'id': 'RvCndTky/n50+PXCotJhrQ=='}, {'id': 'tCWA9VDVlrt/XA0Wt7RBCA=='}, {'id': 'DTdRRDVBiQu2EDpPUDR8hA=='}, {'id': 'fw41fZEJIxeuE7mwIwizQQ=='}, {'id': 'e0BdKVucyHbrxj/IyHvwLg=='}, {'id': 'LgX9yk8IYXMaAtGW8ALjZQ=='}, {'id': 'X/mVT0WG8HI4JubKOyXSTw=='}, {'id': 'QdEmT+dtcgFOzQk95AG6+A=='}, {'id': 'cASqOfSMKtv07m/8kpeqxg=='}, {'id': 'da9FTFwx9H48nygLIoKOaQ=='}, {'id': 'bWZuFg1G0k9c0oz0HsEsYw=='}, {'id': 'jAoD4mLh8HW9PBIQN0Uh0g=='}, {'id': 'ahIN0mP7/bCxFPdX/yyQVg=='}, {'id': 'rxhSev+MRaWwOVsN3O4gvA=='}, {'id': 'fgpkQb5wq/PkY9JB1Bdu7w=='}, {'id': 'bD1mWdcVrCtKJDFx3dtZ8g=='}, {'id': '505m8Py3V+qaVa/JGhl29A=='}, {'id': 'r+vlO9/sp2xCOAAKar4mfg=='}, {'id': 'jMEwhDiFG7trEFacZJLv+Q=='}, {'id': '7MA4G5bWrMuYjihIC9MX+g=='}, {'id': 'hTQq5rO6ZadfzFpjuXMZBQ=='}, {'id': '3ojPPYdMH34Bf9/ltr6J0w=='}, {'id': '75F/723zj3rsGWN7UyeEVw=='}, {'id': 'qFgtiP1POhcxSO4TQA+wwQ=='}, {'id': 'ZB2A+c1J/sh1Arru5wu3nA=='}, {'id': 'VjVY7jZn/EaFuP6DocbgDw=='}, {'id': '3rp8OZj9DC/J0kvtl8NoOg=='}, {'id': 'fin7MuK6u3CuKGJFWeDv/Q=='}, {'id': 'obJDsrvKghAQJygTk42cIw=='}, {'id': '9Ion4yn/h1yx0fRFXrdokg=='}, {'id': 'knlebLux5ydMGjq253nxGg=='}, {'id': 'LO85cS3/D/oIcR8e92jWKg=='}, {'id': '0dkIMYKlVlQ8q93+qIwIrg=='}, {'id': 'muZ6ts2as72Xj4nBjq0IhA=='}, {'id': 'gW34qNGuwxc1vqqs8ZwRQg=='}, {'id': 'P9HA6O51V7+rBSGqJC0fGQ=='}, {'id': '2q+1sbBgz3b2qKp7SMMHBg=='}, {'id': 'JnwILZFI3W2NsRn3De0xxQ=='}, {'id': 'Rxs+gQzV/l8XNXiSOq2Z6Q=='}, {'id': '3taS4hWWpe8uZ17H0tHyKA=='}, {'id': '/uKCphnmIuUYEAN0Q/AAMA=='}, {'id': 'H1No2nlHMxStGsM2K4cIzw=='}, {'id': '6fk25bih0kZfGm3CYRgzxw=='}, {'id': 'FIZ0E+Lyb8V3PlWUcoRTOA=='}, {'id': '/voucvbY9wDRyU/HTlEH+g=='}, {'id': 'e361+rjjYK75P/7nbe7uew=='}, {'id': 'rsAwtUur9xbOWKltVYyRrA=='}, {'id': '36yDHB6gQ4OwgxsOV7GfXQ=='}, {'id': 'el7Ubc9h4u4SaXJztb8e7w=='}, {'id': 'DT6TyLi0+vJapvia7ZQwbg=='}, {'id': 'A3/N0UEwNrXCnsGW02b5MQ=='}, {'id': 'Xdb/08x29JcmQgsqzwhW1A=='}, {'id': 'XRI23N2rzdiwyDaOf8zU0w=='}, {'id': 'LYHW5hFk+8feriLqF9gu9Q=='}, {'id': '5XUkmIShb/Tykd8326PBlA=='}, {'id': 'PRJWUqpkkF+1QqJ6hOjRmw=='}, {'id': 'umbOWC9EBpIEQHpB8L4txw=='}, {'id': '2fBc0YRqb4Qa7aSNTkNgzA=='}, {'id': 'xhFPXUop7kmvQHCViA20aQ=='}, {'id': '0cd2dJ6g6RoR0muVykllBw=='}, {'id': 'Y428NOBv8KpmwZGV9MS55g=='}, {'id': '0CaEdYDH6LYgqVanTeQgow=='}, {'id': 'xjySMNKy+nHvZp/sI1jwZA=='}, {'id': 'KgclvAYCEdCyLFjm6kNuRA=='}, {'id': 'agtc+2LvZm1zc1+O+bnDOA=='}, {'id': '/YZzZVO0FNPWoRf9R44lbw=='}, {'id': 'oLDZ6qbPx7TYb3TnwMB2/Q=='}, {'id': 'BzZSwlu3iRifXLV4thznTg=='}, {'id': 'NnmGdPdLA1R5zsWWjrm+tg=='}, {'id': 'y2YkRBas0cjULTnaxJjL6A=='}, {'id': 'lt4Ux6W0OhJZZYY2NJgS4w=='}, {'id': '3FwIQglx/ascj9pxV4jqAg=='}, {'id': 'yYTjDqf1YE8qFx22LHfdtQ=='}, {'id': 'S7g8aH4Jr3fyx2pYRZJPaA=='}, {'id': 'noKQnF9flo4vMLHyRcpptA=='}, {'id': 'Gi2/aQ+MGx1chufYruF06w=='}, {'id': 'YAn9eA4iaLK9ptySx3MbtA=='}, {'id': 'Fx/Hz5fHBUgqFEHBBNSaaQ=='}, {'id': '0yqKVg2Kx5ndzVMrBIqYxQ=='}, {'id': 'tNZDddUFME7O1lONN+d9dw=='}, {'id': 'A2B8Fb8oD5ovWKR8Y/MprQ=='}, {'id': 'GnYTKQCyhogXDIoZqFRmSQ=='}, {'id': '3lLyM0t2yVHlH0QbV0tHIA=='}, {'id': 'V1odEdn1vnMPBflEs+T4/w=='}, {'id': 'gwWzjUn2LIdtR4YKvOox0A=='}, {'id': 'FAI3zfW/vT4KesGXBhcTig=='}, {'id': 'Ypwz/6QjWowqdWVTdP2hig=='}, {'id': 'XSD+OSq0Hx8dDdL0dW+Fxw=='}, {'id': 'UxigAASNWYKfaSenBGTvDg=='}, {'id': 'gMHTu+70pqJ8ayV0+dehOQ=='}, {'id': 'lDJj+RBGfuUYhbH5OkxuDQ=='}, {'id': 'wCGWyVGHrU07qv7HAcF7UA=='}, {'id': 'OlIzNogqrO13ePqsPCj7dQ=='}, {'id': 'hoOytqBPxWhhLMZI7+LDMg=='}, {'id': 'rEyimK82QPi+tu54oLtkCg=='}, {'id': 'QRY5idVDV6Y4A4+zirhdxw=='}, {'id': '+uFI6VdzfL52fc9gx++bHA=='}, {'id': '9kfzRAOsQ0K+yNCUWAmQUQ=='}, {'id': 'K1joxqwR+tkipOYl1OCgjg=='}, {'id': 'MkQtC0xRAVemzyuwV26Pug=='}, {'id': 'n9TWzerN8XUjVvXmNyh28w=='}, {'id': '8p2upSFrMD6bQlSWjx2qYw=='}, {'id': 'C88hjObOl5rN1bUDyb7/gA=='}, {'id': 'HcvuTxYYUqbMD+FlIbji+g=='}, {'id': 'EcxwCFGfiVBuSC0BkkuYTQ=='}, {'id': 'ofTSVF0m2Yoqzw3tAqc9/A=='}, {'id': 'ZV+yRDjDaSwZAXLMJLNo7Q=='}, {'id': 'oRs8Bsj6KHcMZFXHKUFLqA=='}, {'id': '24x07En7hqAyvNpI40+K5w=='}, {'id': 'zt0JSz6FWsVV5U3HZYgNOQ=='}, {'id': 'hUGyoRCOgyDHw+NYW5ApNg=='}, {'id': 't8jFqIC847g+LofDQzt6ig=='}, {'id': 'YhlFlJxZMp5whqPvaz+Iaw=='}, {'id': 'rAfNgCBbQ3DazcAul5DWEg=='}, {'id': 'jHIIZ0S6gbb+2o9f2YfV6A=='}, {'id': '+JnQQ7PNieGcgzZvO+7QwQ=='}, {'id': 'CjxdQ7Ec/k73j8ft5461iQ=='}, {'id': 'uIE9HLJ6WGjx50/y+SHjtA=='}, {'id': '83VKIaV6N7GDeelIfSWFfg=='}, {'id': 'qe18Gpf4UCSgTXR6BL0fwQ=='}, {'id': 'Cu2upxqY6mayvzMRP+JBbg=='}, {'id': 'mKYrR7AbxYaPmqHSeJUlQw=='}, {'id': 'eJiblsvtLOwP8ii9lMzEjw=='}, {'id': 'Cr2yhDUofDqsycJ7T1rPOw=='}, {'id': '21V4961oe7Oquh5R37twGg=='}, {'id': 'Q+fFbTzZF+VSip85+Wjg8A=='}, {'id': 'HTxA70eLXG7FDiv/F/zZBA=='}, {'id': 'MGRCug7flZvCL1HN4/m3KA=='}, {'id': 'n2VuxQHpHOf+UezJl1mSuQ=='}, {'id': 'H8YIyhJ/4Ok+qEyHN94Ulg=='}, {'id': '9TKQwvgp3EqswsvatUm4dg=='}, {'id': 'n52EfP9VJiVpSoyytzWF9g=='}, {'id': 'vcONSv5moUebA7DEBVaecQ=='}, {'id': 'oCwEwtQoGN2hvr1uEe0N3Q=='}, {'id': 'nQX27U50XT1LCTwHueJ7SA=='}, {'id': '4bGta3lUiy84n+HmMmXx/g=='}, {'id': 'MIKjLGfCIaOJ5XVXIokx4Q=='}, {'id': 'j61pQXtKGKWPuWhTDVL4Cw=='}, {'id': 'BZDWgxrMq82GL0DWh7UA9w=='}, {'id': 'Jezbx+VmMK+RoWsRqG0zgw=='}, {'id': 'Had+2Oe0VD77L/E8A1yuPQ=='}, {'id': 'rzOUMXdIKluHX/66GhHHJg=='}, {'id': '0V+gpXVlte/eMJ2kHLwXXw=='}, {'id': 'Y4SJwPzf602dJTR0FvV6jQ=='}, {'id': '5Pv4/Q/PIMM6qUUyIQqiOQ=='}, {'id': 'Uc82Dpw+bh/kmar2v0Bklw=='}, {'id': 'io3lWSQ+NqjZxPmfdBhI5Q=='}, {'id': 'rYmF/yn9SPjXYUgRfpuaiQ=='}, {'id': 'JEEZ7FQTe0Ao4gGTHuwdFQ=='}, {'id': 'uiibKY+kTDHhVBP9wF2vKg=='}, {'id': 'cCRPSubFWnCbhVShmEw4mQ=='}, {'id': 'JvOEgqW3q5cVwC9wRI6Zgg=='}, {'id': 'u2ivC2ub2Ut8O6x7Nl8+gQ=='}, {'id': '+RPLKDn0vafvAjwghjGOmA=='}, {'id': '7R/oXOBeVTBmb5Ku41u9wg=='}, {'id': 'aWN+3AAipMO1zu7AVKbT1w=='}, {'id': '5P2uQAUHw2M5Rp23FoSkzw=='}, {'id': 'v6QdLtCyjWdRjqxsoOaY0w=='}, {'id': 'OAsHuAwZvpgF6IRICxyGzw=='}, {'id': 'k481SaYGXjGdnsq26cSHag=='}, {'id': 'mFde3Gt9ykKXxk4yVr+jhQ=='}, {'id': 'rP2xFeabDPQ95f/ZSgcKfA=='}, {'id': 'zULIRAIZpOoKh2ocn6oCcA=='}, {'id': 'wb1R3UvrAM/otBoeYmTdmQ=='}, {'id': 'iLcYtvRSaarcRJp6vhY0DQ=='}, {'id': '8QQxFy0ckjvMe1Glb4LVTw=='}, {'id': 'kMBBzY3yi7F7EJF6oCgAUg=='}, {'id': 'kXllN+vhcydg1RBUpUfU8Q=='}, {'id': 'bP7Eqa9y7NTZ0GzjTWPjjg=='}, {'id': 'nz0ixUvOL35aFDEeKeMfqQ=='}, {'id': 'EmeXi+a6Rlb44Q5aLX0lhA=='}, {'id': '00BzqwgKJMAcx3iam25xZw=='}, {'id': 'rLZPLHXep320QGPbvPp6fw=='}, {'id': 'zatvwnD6IlE5gStKe9kMyA=='}, {'id': 'khIpa17clQt/kO1tdWHyCw=='}, {'id': 'OtPtd3VOmP9IBd7ayNbC5Q=='}, {'id': '0em324d/aN3gFF9FKhkEGw=='}, {'id': 'mK4vNNtFhnFc2I+GTwsCMA=='}, {'id': 'ohfSX2MJIX2fatTZrbOuqg=='}, {'id': 'oJSkZ5YIBy75DJQM0wOAAA=='}, {'id': 'P5uGDC2TQ+FDtRWRTgzjdw=='}, {'id': 'KpCtDl9BdszJVFR7R50dxg=='}, {'id': 'Yqa6SO2cMrObv8BtU0/KsA=='}, {'id': 'maTK9ZeLisOhCM0u3f0Ejg=='}, {'id': '33V6xj7rzWMqgSWdM+6akg=='}, {'id': 'TQ97u4fRgFZkrbEAIAEa5Q=='}, {'id': 'LQgoSMbLYAtP1Kqy8ih6cA=='}, {'id': 'el89JIHTepglRYRZCwauMw=='}, {'id': 'qgoxjscM+rFSap4ZSaYZUw=='}, {'id': '6bXhFJPxkVNR8KPTActu+Q=='}, {'id': 'XOIoXi3Y5pzrBUeqfeLtaw=='}, {'id': 'QWd1sFaRiVZRGOLT1ChPfA=='}, {'id': 'CAAg3qTxHd3QEULZs97DMw=='}, {'id': 'U1Wgq815GQt1oL+x36At5Q=='}, {'id': 'W00yE8zzdTRosU1LGm4xUg=='}, {'id': 'Y6NqNZvOWpEinTmIvOvYgg=='}, {'id': '+kY7GKReOKExiM9M00FZFg=='}, {'id': 'NlIzA54KMJV1zO4mWxGz4Q=='}, {'id': 'ZRN4FJZt3Lz2UOIOSdMKZA=='}, {'id': '3w6ckSFQ8C6RbRnAXujGlw=='}, {'id': 'sBKfIFPMiCda/UxyGqLeNA=='}, {'id': 'Cd5smIZZqm29H+e1GeVaWQ=='}, {'id': 'O7cHHQx7i8PylmBtCGdC7A=='}, {'id': 'ZfvfxTGNaHKLLDJEAVoyAA=='}, {'id': 'MTUz89N0VxbCHf2qKWz0oQ=='}, {'id': 'iYmFt7hlqsU5uf+JKNXy3w=='}, {'id': 'LPYrkosdt2BU2z8rRueX5Q=='}, {'id': 'wiuE+EbE1pIEkzdH8S159Q=='}, {'id': '7wQyraDFeosdn2urv8p/uQ=='}, {'id': 'MMxSYs2k7cAQ504LV7T+UA=='}, {'id': 'uzp57RnEKuwyzRL0G5aPng=='}, {'id': 'z2RhUX+Av5GNL4nAKvxDdA=='}, {'id': 'OhVbfTzKGOXgY2oSrO80ig=='}, {'id': '+7q9TiMdoDZ+ZOIGRunngA=='}, {'id': '0UDrzl/TVCrpdkmtU0xd3w=='}, {'id': 'Gt9/MjGgf+GnWqsYvNES2A=='}, {'id': 'NeLicAsr8ZpM9MUiXIK8Ng=='}, {'id': 'oJXGQ6G5t7wOQW1+y9JAfQ=='}, {'id': 'eMME/AECdObE+ZTz75TZNA=='}, {'id': 'PiV7Pg/sWWbSLLmA0j6JiQ=='}, {'id': 'agPiGaAGv2VWMPCQeJNucA=='}, {'id': 'm273djrh1jWJsNXKDIPeew=='}, {'id': 'qM94pgW6focziHYh69qBNg=='}, {'id': 'J1k2bkKh376eQgxE5VXnDg=='}, {'id': 'UHS3XjQ0n75ySe4MIID6hQ=='}, {'id': 'HXg2bfmDu6ijainySTEjQw=='}, {'id': 'KPa31/Oq83vzsX250IJ3GA=='}, {'id': 'oWjBOajHkrebAeg30zfaQQ=='}, {'id': 'e2o1dE6zib5HJyee4pUuWA=='}, {'id': 'lxcjLX//EnarlnnYL0Ds8w=='}, {'id': 'lBZ6Y9gnnERE9jEGuNBBhQ=='}, {'id': 'mzW/+jmie03wk9uc5JK5pA=='}, {'id': 'ho5dB5AJMdTT2nc+saapdw=='}, {'id': 'r/0EkYqNkgD9m6mYfrHMfw=='}, {'id': 'L1SYKDfdcEPmsApjjvuvSg=='}, {'id': 'vhVMJ400eK1kpE0j8+mhpA=='}, {'id': 'iPA5/+7QibadmOOD00DdVg=='}, {'id': 'QvqhUOJA/afFZo/o1wiWog=='}, {'id': 'Snvj0EhbxLXmQPrfP0Iejg=='}, {'id': 'YiLfnYN/ekMyJh4IkK2d4w=='}, {'id': 'T+5y6xdwX5i8vEnRfU6Djw=='}, {'id': 'Qgj6204Oxz8DnXxAMRv2ig=='}, {'id': 'd59HwOYMx0RlsR7J3JobVw=='}, {'id': 'U3F7cS954wOK8CuqAPP2Dw=='}, {'id': 'o9fe6kCO7+E4c57MMc2T8g=='}, {'id': 'aXpT4ysmG0sgIcKo+s/YCw=='}, {'id': 'K19rT20sw1d4aHYAMcPecg=='}, {'id': 'bXPSSOSXcLDwxxa+Lt6bkw=='}, {'id': 'MCO+iRb2Amqk+ilWvuL1tw=='}, {'id': '/adBviHcaPBFRPRa0Z4QJA=='}, {'id': 'N9f/6hQP+tXsy7hWZj8z6Q=='}, {'id': '0SFs4wrzuf21bDzbwIWhlQ=='}, {'id': 'B/86m/MrcSt3JEayVI7G/g=='}, {'id': 'MWNCysEii6OPRSjmNywFoA=='}, {'id': 'W6wS/Nz1OsLo3W6F/MKVsg=='}, {'id': 'hqQYt8BcospW1jVJ4cOlmw=='}, {'id': 'iEhw1xS1nJv6104r3zIS4A=='}, {'id': 'EdVHfSxYJ5/LPSNwq8Eu7Q=='}, {'id': 'rwHMxtiHAAFRV3hXiYNrsw=='}, {'id': 'zhQhdefUggavgqNOzE8gsg=='}, {'id': 'hNg7hxzWjpQY16X03ORpzw=='}, {'id': 'wU1TnH8R/ZfhuSQ4h2oT2A=='}, {'id': 'vPhu/ORdquFGgrRJt2gIdQ=='}, {'id': '31GzKnCWBCRAym7LehqEuQ=='}, {'id': 'DXuc4quD8dC9+IEWGCw4HA=='}, {'id': 'gfCfqhyvsYFNvkwk9QM8RQ=='}, {'id': 'ge34DdlxfQPMgKn7NTA6nA=='}, {'id': 'UQdX0i4TSHzsruh6gNLM8w=='}, {'id': 'mNrZNb9CGuFhvFZ7D34cRQ=='}, {'id': 'lzdJWY2yjr4jXE5rUuS2SA=='}, {'id': 'pGokKwBfqiBCgPUd1J+h+A=='}, {'id': '94XiAgvI8RtwnKdA8PUq+A=='}, {'id': '/jkHHVfeq0wDnHi34ZllmQ=='}, {'id': 'kIin4KVcJ+wnt2lmGrqEjQ=='}, {'id': 'C7cAsa/g51wJ02jZyU3a9g=='}, {'id': 'kkc9fDJHM41AOi9A9XsKgw=='}, {'id': 'q6JA1wCg372le9fBkhitLQ=='}, {'id': 'ODu9BbRFqeXKBn9l+8CKUw=='}, {'id': 'VDdmt+xIIV/HTLOGc7A6Tw=='}, {'id': '8Pc+RLJCJtWSNjG0fLjsAQ=='}, {'id': 'TjuO4YC/NciTRMJ3ccG7nQ=='}, {'id': 'ECC3WbgTvYWDidlAqq14Sg=='}, {'id': 'EynVTiOTXO28OYodDn+rsg=='}, {'id': 'xMrmS6oH19gysCXXcnosvA=='}, {'id': 'wg7mDL8NHroNZqDYPv3vuA=='}, {'id': 'VQiqHhu5O9aIZ5rmQ6r32A=='}, {'id': 'dvbxzrfggoNBpb36SkC28Q=='}, {'id': 'a3tkYUFr8nq06TRM1YXtCA=='}, {'id': 'IdPTH81uIHjJ4GP/0N6obw=='}, {'id': 'XVQabGY4Q/yt2HZKvECgjQ=='}, {'id': 'wA+R2eh3v0+rtsmLFR+2hQ=='}, {'id': '426xHP+/ophiYzNV2s9Ibw=='}, {'id': 'Xku7Lef1t7X9Ia2ptVKkSw=='}, {'id': 'UbJ+uUdtuKjhzEg1JfE6FQ=='}, {'id': '1KJ9cVzCoIxmL9MrRIJrhg=='}, {'id': 'J+xBBCuyAHJLpBTMHnXGUA=='}, {'id': 'Re9IgDar2SYNj/5y/4oQ5Q=='}, {'id': 'JBij25B5Nu2ZpQ++09KUIw=='}, {'id': 'e+nTyKgux8ELjp4LnVw6bw=='}, {'id': 'H4xGet5WReIG05jxC9MU5Q=='}, {'id': '6Q7adHXN1IKR8vMrkwTH+A=='}, {'id': '/teGLDzBy37VDQuhrgmZkg=='}, {'id': 'Jlm5i0gXy3J+lhstj3gHKQ=='}, {'id': 'Px11OQb7A+9GmNG0+uEGXg=='}, {'id': 'O+wN3U1piERrb90vpVM8cw=='}, {'id': '9/qzASmvQcHvitOtwuvI5Q=='}, {'id': '1wz2MJsh08VlxhhsbKNS9w=='}, {'id': '+k2g4NKOxib5FS1tjZGo+w=='}, {'id': '7F+SBJLp8oNnE63sYAqJAQ=='}, {'id': 'Ppo9cmndQ2qpNCEICVGWlw=='}, {'id': 'RtVPjLmuldiPjKTZ/A6SCA=='}, {'id': '2C/y7eMexapnzuHm12DYkw=='}, {'id': 'IayrvmTu9tchmgsTbxKdrQ=='}, {'id': 'THlJISQ/6ov9HOx0Yplqdw=='}, {'id': 'G+eHotirh3j8d9fSwpTMTw=='}, {'id': 'BJ91gLv9c7wq+ECQi6qOsg=='}, {'id': 'niPcE7Bf6RD2MmRCrW6GUw=='}, {'id': 'VEF3BKcrfUgcojNgxlrpFw=='}, {'id': '0Ab5xTqK2ZYgHhIzYNJ9ZQ=='}, {'id': 't10h1XJdzKS6f3p+QhsHqg=='}, {'id': 'Gm+gbjwExR0GzuCX1XIi2g=='}, {'id': 'SOR5EEy58Q0aTcAAq/DgyQ=='}, {'id': 'AyPYAKsxKfMnMMeGQYnGjw=='}, {'id': 'OntvwVfOmBI2Wt7LZ5VSCw=='}, {'id': 'b73O4tY12f5pb77hpJ22yw=='}, {'id': 'iyvSlEsyUUyW7UbBVO6qRQ=='}, {'id': 'VFIzgo2wwJjltSnqMqwtqQ=='}, {'id': '6fLYYnBvscxt5teNDML8CA=='}, {'id': 'tUMhNj3fyz0/eCU9L05/hQ=='}, {'id': 'KH0eiVwy7/cwfFQD7IkBlA=='}, {'id': 'gyGuf1CVI2BwPL2Al/DqRQ=='}, {'id': 'okPbp4vXaLqIO8E9qPE2nA=='}, {'id': 'yfw7HWm8kwA7+AZEfPXqrg=='}, {'id': 'mqDPTSRGQALmsyR9UGkh0g=='}, {'id': '4GsCIM5u+cHxpfmjb3nTKQ=='}, {'id': 'LWp8DSKZNFl4S55BUbnLAw=='}, {'id': 'oZFKNOMBMd0wE50kmkSEiA=='}, {'id': 'pqR/4tLC+HfP8u1Wz0L4rQ=='}, {'id': 'B50uTRZhiuFq5OmWfQU0CA=='}, {'id': 't0wZz/l7zBAMhNJhEybZGQ=='}, {'id': 'LYkLnPeSNyA/Sb9r1261Tw=='}, {'id': 'tyq86DowwIl6DCAeRgIbDQ=='}, {'id': 'DDICvTMrelGWUtgL+Ybqvw=='}, {'id': 'g1Rm+AxdVFjhiAMJa+exOw=='}, {'id': 'o5Nu308GudILnzXMwhql0w=='}, {'id': 'lQxggCsNSyS5uiyd4yCGzA=='}, {'id': 'gcfp6SrbB4fpPYcx6Lgang=='}, {'id': 'n1c6Ct68q8UEwPco6bJ+Zw=='}, {'id': 'EInFqUTuV6w9ej9egu7dzg=='}, {'id': 't44gVySVDRECSjWbSLcBBg=='}, {'id': 'wdY91ZcDjoLxDNbNlweCQg=='}, {'id': 'XVETW0YCpUO1OC0BcNBiRQ=='}, {'id': 'fn6QPOtKpCFvO//3ySYOLw=='}, {'id': 'X1P+M87bpc2QICV76Hk0Gw=='}, {'id': 'D+UNyR5X3yHPIlglfa1QFA=='}, {'id': 'fok3jMs9cfRgdfbtKQ/uWw=='}, {'id': 'ZoWtEbxZMUZ9kA24xOCwgQ=='}, {'id': 'mx7BVvmwu6k/ciys15wpZw=='}, {'id': 'jGeqZ9siJmKwVLzGd3IpxQ=='}, {'id': 'jQS5GyLCSfs3Lj5kmplchQ=='}, {'id': 'u61uCq22i8Mn3ZFa8+es/A=='}, {'id': 'XwcE2wSRpu+ZewuzOFbXaw=='}, {'id': 'yuBDAQ0wSPzbGHqkDyCXsw=='}, {'id': 'Zqt5rxZOyXvyVMI6kBi+bg=='}, {'id': '1TrQ8hmMMm1TfNrVFX9Nqw=='}, {'id': '13/qUG5mNAwpnlVs1DjF2w=='}, {'id': 'L+ZNkuF5ntyM5c6LQNq9Vw=='}, {'id': 'YftQ6utHvsa9aHXSXKbcvQ=='}, {'id': 'Xu1FToJK2XuLebWuED9zOQ=='}, {'id': 'MJDof9ck7qxW1v7ed5EngQ=='}, {'id': 'ak3Rp1PJP+tvA8mWEgxmuw=='}, {'id': 'q9TaDj4XRmjUzGMW9S++tg=='}, {'id': 'LhXXVO+lsKS1dqEQnzzbgw=='}, {'id': 'v+z7rGh8gWH0z94azsJ2FQ=='}, {'id': 'qownC4gQmD3DjMGWtcKHBg=='}, {'id': 'Y3Jpk8YH1v6PNwhaGFqaSg=='}, {'id': 'rjYCp8s2YpHnzMtO1+a5Xw=='}, {'id': 'q0SowxBAgGAJVt7uRTe0Nw=='}, {'id': '7bQcG+tNimiy6e5jPFnUnQ=='}, {'id': 'inhPCfYO1gAihF43drW5OA=='}, {'id': 'KwFTl3XixmQn1XdUDVEEIA=='}, {'id': 'Qmv+I3bxvozFI/dL8ns7lQ=='}, {'id': 'kdKpuhsvTU6VpDPPJhsfpQ=='}, {'id': '55Aj0li3oSdcJzfw5Jw5FA=='}, {'id': 'DlRhrtQ0xF6EmbbsyOGmiQ=='}, {'id': 'pOcVpJWKkBusdtmhUmICgw=='}, {'id': '+8gJo9w/NnivAc6xa2Gs/w=='}, {'id': 'bQ6UdReH8CPBjCXA+Bg45Q=='}, {'id': 'PIj8EDwOwTYGCezH1NGy8w=='}, {'id': 'kzbIYk/Gtzy5emQVe1fyHw=='}, {'id': '4eEKpMirZLvsERMXPHnREQ=='}, {'id': 'wwAluovDMR6jpjBBGkxAhg=='}, {'id': 'qRzlNozxXVcuhjdwxmI5Xw=='}, {'id': '8z20gLAIzmfvI/iE9Rs6eA=='}, {'id': 'RzdGmvoyqyemqTygzKpCKQ=='}, {'id': 'cZy8joJpl9oU+/xGrQ00Kw=='}, {'id': 'tuSsiVcTQjY06OMjt+GTVw=='}, {'id': '6wl2YLe6+IoucrH0TvDCyA=='}, {'id': 'vnWQLBStAl6X1dI0C3e6fg=='}, {'id': 'Op9OvAwgU6u+cVYSPSoFHA=='}, {'id': '7y1ZBfZ4UO3Gu+7OKICrzw=='}, {'id': 'sCqa9ny/rsnzw6KcCJJcGg=='}, {'id': 'k6kCC+j7TDLATf9qBd27TQ=='}, {'id': 's0PKngT95E2pUuY6796glw=='}, {'id': 'yOB1dmQUwO1XEhSiMIsTdQ=='}, {'id': 'YehaQ6t5VvJPwHfvukCrkg=='}, {'id': '1RCnizMcvttbsXbZAqaj2A=='}, {'id': '9Oa0KYZSWfc9rHQkcu0X6g=='}, {'id': '9bXmcX3ADvWBeP2GKrLHdw=='}, {'id': 'CPx0GFE6+A0qDDCJFOzGuw=='}, {'id': '54deTDM31FxZ8TpNAWlEoQ=='}, {'id': 'yudjzYjnDT9Zaoj7/3dRZQ=='}, {'id': 'Pu/l1kAXO8t3jBCs42Fbmg=='}, {'id': '2MmM8AuVS2zjNDArlyB7SA=='}, {'id': 'QXgEIAYLVxeGs9RgFkb0wQ=='}, {'id': '8caGczmwkZWf/3NSlVi+Eg=='}, {'id': 'MWpgtUXvCaWRo9VYUG3xOg=='}, {'id': 'HITdjiE25xWEZTF3UUSewQ=='}, {'id': 'o7E04tgoIQmb+5ZplkHlhw=='}, {'id': 'H2f38foJ6N5hsqrGvEmETA=='}, {'id': 'Ylzl6kP/ICDTjT8GpxFl9A=='}, {'id': 'LfLDleCotLtxm+ADQRO4+w=='}, {'id': 'Qwg5ChIwILDrpmcvKT4NOw=='}, {'id': 'ZY70n0iDIgqFV6gvtPPSlA=='}, {'id': 'EJxkTFS5vCD/TT3BUXtFFw=='}, {'id': 'AD0Lkl2c++sU1ZAjRwt6Ag=='}, {'id': 'Iw8goIzEUZuur46Jy/wTdQ=='}, {'id': 'rhtV38mnZK/bIGXWdwGlJQ=='}, {'id': 'CDqNmADH0Fb5Ncv/zq2+Hg=='}, {'id': '5kvWBDX5vXaYIJ37GAcxZQ=='}, {'id': 'ATtDzfbw1tH14AhjiUijOg=='}, {'id': '+RVOV1VBkxZi8wDesMscYA=='}, {'id': 'p4OHfAfkCAIUSLKT+7HOeA=='}, {'id': 'y6hWsSxUlszQPmg3zFr5zg=='}, {'id': '3Gl+NPtvS99ToLPVzqdtNQ=='}, {'id': 'oPH3WeEXYDOnAz9xsiOriA=='}, {'id': '3mN7qjjDd0UG2YcMpGf49Q=='}, {'id': 'bhdoofoGadhAmu/Pzntn4Q=='}, {'id': 'TZ8Kqn/WSoH+cPQMhjRN8A=='}, {'id': 'yTXgeargFVZ9YozS9tsEsA=='}, {'id': 'jf/usfDFprULEd/DUTGMfg=='}, {'id': 'z2jGwWeP+RTHYM0Ss2i4eg=='}, {'id': 'zLrct6fQ0VQpusnAXChddw=='}, {'id': 'lCH3jYofs8RBe7/z8dlyBw=='}, {'id': 'CLO9PPdRST05Iw1cCdAFqw=='}, {'id': 'R0oDt3y/DHdA0DEZWRelQQ=='}, {'id': 'VAFPmJmlV1A2Ox5sKhXwwA=='}, {'id': 'It27J8T54x6T4QfGre5bzQ=='}, {'id': 'd5H0JF/QyR014/mmNFUCzg=='}, {'id': 'S5Iig9ztj87P/H5Z0fPN4Q=='}, {'id': 'Jz3502/h49z15q7aeYwHaQ=='}, {'id': 'zPuouR2IPJA7VCxYCkWmqQ=='}, {'id': '5pyyHrzrwc1TU8qkACXbSw=='}, {'id': 'VDaSJYyjxFo0y9iAkV7vZg=='}, {'id': 'rbzs/0sREEjwk3p+MNmzuA=='}, {'id': 'R16YrOtf7jx0CIm45HKjng=='}, {'id': 'zQ7OX4LEcJc/S9BCXgt2EQ=='}, {'id': 'nnnPNpdo2yIWPdgGfMm0Ng=='}, {'id': 'GK/wByoJvG927ZJbifxhoQ=='}, {'id': 'I8/qxWjDulv9LPoPdg8dZA=='}, {'id': '8Ue+1uQI7l1AElyxwOTMGg=='}, {'id': 'XSSEcip62wxYCaCusP52dQ=='}, {'id': 'ATVlUUCYyuzCHaO6e2OGdQ=='}, {'id': 'CaLSriWUfTfyikPGz6ZGHQ=='}, {'id': 'HgZ/1aboNjUlWCposmORqQ=='}, {'id': 'LajMxAzkeOKOkR2wlAye9A=='}, {'id': 'JP5CHuMgsoRBTVNP4Ab9ig=='}, {'id': 'Vk5jv5ZFE5Wn8oR6Ll8/dA=='}, {'id': 'nnlhlZfzGF7IdHZS4etDyw=='}, {'id': '09Q1k2iaffBxbuyQA38Kjg=='}, {'id': 'sFXOPWAuRX4JAVgEiWKyzQ=='}, {'id': 'pG9XjkBjeOtMaJJSF/IIKA=='}, {'id': 'iW7XrKGm8BD5c5ot4z+k2Q=='}, {'id': 'tzQOXCDt1A+sRI7QjAKVVQ=='}, {'id': 'ACgY0hlzgaVRx9ha/w4XDw=='}, {'id': 'r5hgE0ouzNGbXyhSf5U7Sw=='}, {'id': 'Jw19j3DTI3KUTZv3j7YmZg=='}, {'id': 'S/eu5YLFKPKj4HbtFoThBA=='}, {'id': 'H6XMLdh4FqACLsL+mysr1Q=='}, {'id': 'Dkc9ke6JHPoKAlxzIlOXrQ=='}, {'id': 'PTMQFlRwS/4ccTU7/fGtxQ=='}, {'id': '9p0taOZu34AHwFkD/J40SA=='}, {'id': 'KL/BzQwYEe+maGhRUeKK/w=='}, {'id': 'D+lTwnWmvqc3EGncsbUTKQ=='}, {'id': 'jgNVwh2pPR7psdakqmODmQ=='}, {'id': '5iNLhpX6+1LhlaJvPZxEOA=='}, {'id': 'H0xwAG58WHIJdax//gbYdQ=='}, {'id': 'S34Xsi/FwGs8rT/fR3OSOw=='}, {'id': '1KIFW5QhBlrFkvQfEp5FzA=='}, {'id': 'gzkfhl/b2JceBgyp8skd8w=='}, {'id': 'sgTJ2bHp7YpicaFPJa25aw=='}, {'id': 'Rg91Ich1vnrdWMmc8iQ0lA=='}, {'id': '3xdCqx/CypYQsX1WqZqKVA=='}, {'id': 'mQrn2Aopfv1O102ZNP5Rbw=='}, {'id': 'd8UR4NZ6VI41q59MstWwLg=='}, {'id': 'lL4hpXy9TelZAcha/LT7Ew=='}, {'id': 'D0BlSdEXhLtI8rUXkIfaSg=='}, {'id': 'v7lMJXJVYeOHV0JQ6dJX0Q=='}, {'id': 'Yp//hLB25kic+IpE0Uz32A=='}, {'id': 'SEN/5lYCb/F/xazFgwWpoQ=='}, {'id': 'lj7bRrvx+tUX5JU4jthz6Q=='}, {'id': '/18gZZYDB552WkqSZMjDCA=='}, {'id': 'YZZ9S3VNHBd73kTyr2B7UQ=='}, {'id': 'HTs/0CYZTnDXpRAN8X4rbA=='}, {'id': 's4BKhSTvrBnU+9k1qIwvyA=='}, {'id': 'J8LxPrRYHYjmWanskCP8+g=='}, {'id': 'PmaB09iwkdAma8o/RY3Mfg=='}, {'id': 'QCVdfstY+MpLBb9JHHWUxg=='}, {'id': 'xXdMB3q2TYos5r3Im7MT0Q=='}, {'id': 'wsuEJiXW2DkFXzUoTM+O7w=='}, {'id': 'NW4JnfiMgSGmMW/Oy+n90Q=='}, {'id': 'ynbP8XQIGug5SwR7fkRonw=='}, {'id': 'Ji5YcD3M2/HKlQJM9v/NeA=='}, {'id': 'RwabDtMuJshXccL7aMJGRg=='}, {'id': 'HjBl2LlgeSHueiuHnPZ8lQ=='}, {'id': 'r8PvPcXWeF1XoC0ewbKu6w=='}, {'id': 'fjScrUE7uXOCIkKkJuJsnw=='}, {'id': 'MJZHCakkqDuO1JLuLBgF3w=='}, {'id': 'y/kZ9olOS4vg1FDWNaw0oQ=='}, {'id': 'i2YX7lf0UrjsVjmxxNSjbQ=='}, {'id': '/Vi2V249R8tzBdcEkErt2A=='}, {'id': 'z/UymS5oPG5uxRRGPwbAFg=='}, {'id': 'eHCn3qPsn3NZ91rak5VibA=='}, {'id': 'Of0Kc472X//EIT5tnPIB+g=='}, {'id': '3ZAcdqcz/RGm8DQzZj2bXA=='}, {'id': 'H/SusXeGhOAF0hLFLbpBQg=='}, {'id': 'Rmyk24VXweBEDajYj+aRBA=='}, {'id': 'C3MCVvs7foGVZlguihg4zw=='}, {'id': '5AVadeA1H+2ko7rcGFL3MA=='}, {'id': 's5IHP8CE20oThLodKVkSzA=='}, {'id': 'zRJTu1MY7Xu1Ujvu7zpdlw=='}, {'id': '6l6X/2qfXO2DAft/MFWCAw=='}, {'id': 'qE8QsSjWQlNwc50KfHKCbw=='}, {'id': 'mY2McQ4XA0PoPFDFjg60yw=='}, {'id': '4Wep5R4gBFHDjvqHn4VhPw=='}, {'id': 'aQEKqyyh3GV+AIG+Srmuyw=='}, {'id': 'nBUz8Vhrjg5qXZnCq67OTw=='}, {'id': 'CO328sU2nOct4bvg5vdABQ=='}, {'id': 'uhmW3UMz91rkM78H2v/X9w=='}, {'id': '1rMttw3cub+Nvg8qMUcOmw=='}, {'id': '0eq/Ci1OdKxc7t+ZeAVSsg=='}, {'id': 'OI+8Cgih2PvHUkF/BRZBaw=='}, {'id': 'rTJDuXwsH8mP9h1Mp3ObhQ=='}, {'id': 'WfaD/TAP+ZtKNhmS71TCXw=='}, {'id': 'UT3ZFk4DdP86WY+Ispo3cw=='}, {'id': 'LOSBZaLn8ih9BzFIqL/s/w=='}, {'id': 'ENUnAbntRQ+4pyVg7B11Dg=='}, {'id': 'Tv8oStWVoyZlMaE4aP+AKA=='}, {'id': 'EBRG4ZCknltNz1JoWmxbkg=='}, {'id': 'J82z3jcuETuz1OtCX5Qwng=='}, {'id': 'BTm2rMAvdn5LJ2JXhhvhZQ=='}, {'id': 'UDd6/GU3MFX7pL+8abdG2Q=='}, {'id': '0EiiR/C7G9bf6L2PN1B3fw=='}, {'id': 'di1ZujWnSEChUkqqFtRZZw=='}, {'id': '87fanOe68P8CQjXHcEzJtQ=='}, {'id': 'k0/XtPCGEQEwR0owi4Mlxg=='}, {'id': 'J/a81E2vsODOcScvc5zcKg=='}, {'id': 'wmR/8+URzlLDcA1LHkTdFQ=='}, {'id': 'Cbl75wrCa5eq3SQdV9rmhw=='}, {'id': '4S/qtKO+3cTbs1Q+jcsJ/w=='}, {'id': 'RngonxQvuWEvgDAiurqDYQ=='}, {'id': 'NlZpV2gOHSXKdC+iEUBX8A=='}, {'id': 'Xj5CT13L6rMoJe8feZYMcg=='}, {'id': 'EipmvMDShYVXaGbYmNzxXw=='}, {'id': '5NTUp31qzKc1wwebHh7K7g=='}, {'id': 'LW538ooot1Qwhk3clhEaKg=='}, {'id': '+xZ0Doe+6ofoXF8Q72uRgg=='}, {'id': 'V8Doc31U+MkvTs9czwM48Q=='}, {'id': 'cZJ2DMqrItNAua8bpopNfg=='}, {'id': 'kuU5SUtkNQ7VICoGmwCOnA=='}, {'id': '8RNKXB6Gya2v+xIl7e0EPg=='}, {'id': 'zPVgdbQ30XZJ22ptyFbv9w=='}, {'id': 'WXN4GEmg4++Jth6Osv/k1g=='}, {'id': 'iZNh/xQpac6dwYhhCgopkw=='}, {'id': '9q/xUKPZsXEcQaG4XCAyMg=='}, {'id': 'wp08ulEJtrxa3rc/JbPJ5Q=='}, {'id': '+G8ZwgOpILhAD/OjAIDkLA=='}, {'id': 'VpMkCXH/1f0+TxOplA11aw=='}, {'id': '17wr3bB3Fvmek5DH6gplEQ=='}, {'id': 'm7olLBTqPLDzy4t+h5LjfQ=='}, {'id': 'YUEb8WUqhHH25fE6cj94Lw=='}, {'id': 'OeZ/B53tezScr18ALuM5Sg=='}, {'id': 'U4eGB0KjFARiKe0/iN5UMA=='}, {'id': 'V+y3O/iwl3qjsrtYg+RGSg=='}, {'id': 'PjnT5vumNF9VwKvKaZmsww=='}, {'id': 'k0gx592U/K51Pz4bzjBs6A=='}, {'id': 'dAy4PB+qUrU5fcFAfpomfw=='}, {'id': 'BTAbPZ0zSsdQqdYs4dqg2A=='}, {'id': 'eGVJ31Y6lvotxHb0RtGYjw=='}, {'id': '6NOAm79cNfXzYgRmmyYPGA=='}, {'id': 'YSkNUj+ijhpfUC1utFmFfw=='}, {'id': '5+JUCEgBjmfpZURqr04hlA=='}, {'id': '8pM8xe9g5rZy0hqUykBY6w=='}, {'id': 'i5cfycbb6OK6ksFCC7GDvQ=='}, {'id': 'OUwsFV80zJsFOVgWUKa55w=='}, {'id': 'DPJ3XYjm4WFypazKjHV/MQ=='}, {'id': 'eG7EinZHIhpm7x5tamRQ2Q=='}, {'id': 'EZAxp9dm98yDhb/isPT9XA=='}, {'id': 'hh3tjyHf9C1gwrj0jngNeg=='}, {'id': 'jK+DIKdmIc9Z/SkrLU2geg=='}, {'id': 'iPsChiot8dqPn4HWQkfyfg=='}, {'id': 'G51np2fjPksv6nzA5xE8Kg=='}, {'id': '8BYOBFiaV6TXLIFa6DNqBQ=='}, {'id': 'mrAnQn58XC1ClNErC6m5gA=='}, {'id': '6YlEW++cof1VIYq2VwrNDw=='}, {'id': 'uOWYd9pNtIVEkIIZD/VuQg=='}, {'id': 'Ci6LpIjLs5ZS0f0A7uRrKA=='}, {'id': 'IVvpfKrIFdSgaQwbiNjPlA=='}, {'id': 'mH5Ua+P7GkDCS6AkvAMVjg=='}]\n"
          ]
        }
      ]
    },
    {
      "cell_type": "code",
      "source": [
        "# Calculate the average price per square meter (price / surface_total) for each property type (property_type) in\n",
        "# the \"Belgrano\" neighborhood (l3):\n",
        "# 4th SQL query\n",
        "\n",
        "conn = sqlite3.connect('housingprice.db')\n",
        "\n",
        "sql_query = '''\n",
        "SELECT property_type,\n",
        "       AVG(price / surface_total) AS avg_price_per_sq_meter\n",
        "FROM property_price_details,property_details\n",
        "WHERE l3 = 'Belgrano'\n",
        "GROUP BY property_type;\n",
        "'''\n",
        "\n",
        "df = pd.read_sql_query(sql_query, conn)\n",
        "\n",
        "cursor = conn.cursor()\n",
        "cursor.execute(sql_query)\n",
        "columns = [column[0] for column in cursor.description]\n",
        "result4 = [dict(zip(columns, row)) for row in cursor.fetchall()]\n",
        "cursor.close()\n",
        "print(result4)\n",
        "conn.close()"
      ],
      "metadata": {
        "colab": {
          "base_uri": "https://localhost:8080/"
        },
        "id": "VE1wskL6hnCJ",
        "outputId": "ac8c734f-020d-4ce3-8362-992656b81988"
      },
      "execution_count": null,
      "outputs": [
        {
          "output_type": "stream",
          "name": "stdout",
          "text": [
            "[{'property_type': 'Casa', 'avg_price_per_sq_meter': 3872.6440995608973}, {'property_type': 'Casa de campo', 'avg_price_per_sq_meter': 2785.60392893576}, {'property_type': 'Cochera', 'avg_price_per_sq_meter': 407.861011401803}, {'property_type': 'Departamento', 'avg_price_per_sq_meter': 4602.231679650037}, {'property_type': 'Depósito', 'avg_price_per_sq_meter': 2693.835201370327}, {'property_type': 'Local comercial', 'avg_price_per_sq_meter': 3851.2585034522826}, {'property_type': 'Lote', 'avg_price_per_sq_meter': 5205.766496688956}, {'property_type': 'Oficina', 'avg_price_per_sq_meter': 1657.6226193810107}, {'property_type': 'Otro', 'avg_price_per_sq_meter': 5392.633647564418}, {'property_type': 'PH', 'avg_price_per_sq_meter': 1915.2065898230192}]\n"
          ]
        }
      ]
    },
    {
      "cell_type": "code",
      "source": [
        "# Identify properties that have a higher price than the average price of properties with the same number of\n",
        "# bedrooms and bathrooms.\n",
        "# 5th SQL query\n",
        "\n",
        "conn = sqlite3.connect('housingprice.db')\n",
        "sql_query = '''SELECT pd.id, ppd.price\n",
        "FROM property_details pd\n",
        "JOIN property_price_details ppd ON pd.id = ppd.id\n",
        "WHERE ppd.price > (\n",
        "    SELECT AVG(ppd_avg.price)\n",
        "    FROM property_details pd_avg\n",
        "    JOIN property_price_details ppd_avg ON pd_avg.id = ppd_avg.id\n",
        "    WHERE pd_avg.bedrooms = pd.bedrooms AND pd_avg.bathrooms = pd.bathrooms\n",
        ");'''\n",
        "\n",
        "df = pd.read_sql_query(sql_query,conn)\n",
        "\n",
        "# print(df)\n",
        "cursor = conn.cursor()\n",
        "cursor.execute(sql_query)\n",
        "columns = [column[0] for column in cursor.description]\n",
        "result5 = [dict(zip(columns, row)) for row in cursor.fetchall()]\n",
        "cursor.close()\n",
        "print(result5)\n",
        "conn.close()"
      ],
      "metadata": {
        "id": "B6VPObk0mGHt",
        "colab": {
          "base_uri": "https://localhost:8080/"
        },
        "outputId": "4bdd11a8-6151-4ccf-fb10-0bba0b332657"
      },
      "execution_count": null,
      "outputs": [
        {
          "output_type": "stream",
          "name": "stdout",
          "text": [
            "[{'id': 'eHozoAsySh4plT4G4o7ZAw==', 'price': 360000.0}, {'id': 'F+GF0xxgEoQ8FHaSUbPxfQ==', 'price': 1300000.0}, {'id': 'kA1uUfkh5e8aF9aCVzUbrA==', 'price': 1250000.0}, {'id': 'c60eO1esSQFLM2X1vQaXlg==', 'price': 262000.0}, {'id': '3pYYkhTe9FQbflza7C9EnQ==', 'price': 8228766.0}, {'id': 'QbZ7RsqO5WEFBHTejLDW5w==', 'price': 2900000.0}, {'id': '0acGF/2HcoUzzoqmCMdTnQ==', 'price': 500000.0}, {'id': 'aK8YQmEZkbMdf7eOYTka5w==', 'price': 550000.0}, {'id': 'UE8hPxG1VUSFg8IFexj6zQ==', 'price': 416800.0}, {'id': 'UGg2k841gysuayZ/FW3Hrg==', 'price': 2500000.0}, {'id': 'UQTmPRIR7RZc7Rb9Wkx1QQ==', 'price': 13247181.0}, {'id': '1eqQCd3B9P0H8yILfFsIhw==', 'price': 270000.0}, {'id': 'kU5f32VoLFhgCXHoj42S/A==', 'price': 330000.0}, {'id': '+Li1GBJqgAwshdCB3GCL/w==', 'price': 2700000.0}, {'id': '/O/qzI0sDvKwbyXkQoUFeA==', 'price': 15800000.0}, {'id': 'A/0CVtXMN7+vJ5jrOq4BFw==', 'price': 13857867.0}, {'id': 'Y5F9rZoLwtWtkcrtTOxJLw==', 'price': 219000.0}, {'id': 'I5Qis31CnRAmOOYrS28M/Q==', 'price': 520000.0}, {'id': 'Xg7YenF9izH3TInQk01uUg==', 'price': 930000.0}, {'id': 'IeXuObiv9LqopK9DZbRJVA==', 'price': 980000.0}, {'id': 'S6PTWmJWHjLIVNwzHlwfbQ==', 'price': 700000.0}, {'id': 'scjQWhBy3Po9ydYLQTd74A==', 'price': 570000.0}, {'id': 'hq4w7bBzaIhD+uuLQibZrg==', 'price': 8985000.0}, {'id': 'S7bFrVInXJyBQ3kkVqZBEQ==', 'price': 700000.0}, {'id': 'oz4Vbf4vREnLgT5rWVaFyA==', 'price': 420000.0}, {'id': 'JS8uMAFRs3hbI9C0+cJF2w==', 'price': 220000.0}, {'id': 'gK82RUvH/5wuXzUPuX+roQ==', 'price': 12622001.0}, {'id': '3tYRi9omBaCl4qKCnbxaNw==', 'price': 1200000.0}, {'id': '5vQPUrEvE44ikBGpuQqZoQ==', 'price': 270000.0}, {'id': 'Nbmd9V+8s17V01v1xtxi8w==', 'price': 550000.0}, {'id': 'dLD6eK+MYuMnmm5Cawh6hQ==', 'price': 495000.0}, {'id': 'k059yTTEsaAaPm23b2SvMQ==', 'price': 348000.0}, {'id': '5X9uMcKBbUTBq3RqlC9fFg==', 'price': 530000.0}, {'id': '3pK17/bSkcUPtTiYnwSpvQ==', 'price': 1400000.0}, {'id': 'gMY0XZIwhoegKoroHdxyrw==', 'price': 1250000.0}, {'id': 'sPlsIl7Y6E77ymPDU+kfog==', 'price': 570000.0}, {'id': '7QJHxywEz5nav9p5cbM9Kg==', 'price': 400000.0}, {'id': 'sKE4RCbjGU+rC7oobFD+rg==', 'price': 430000.0}, {'id': 'dbtT6lkdmfhJ/6g+4Brhfw==', 'price': 1300000.0}, {'id': '/kk6PZ9/N9l0wAUkIxWezg==', 'price': 1200000.0}, {'id': '3MqUtE8BC+izy7Su35CeKg==', 'price': 295000.0}, {'id': 'O18aaprDIiCYv24LQ99I3w==', 'price': 950000.0}, {'id': 'SngcpOdRwlnvORbtlkW6sw==', 'price': 2500000.0}, {'id': 'IaUMx7kZzmL0JQH+5mDerw==', 'price': 8994840.0}, {'id': '4eX/0m9hOwjnz5/Hihuqbg==', 'price': 9850000.0}, {'id': 'h6bWh8qDSlKV+dvUcKzYYQ==', 'price': 2310000.0}, {'id': 'C1MR/ymdCY1VgqZAGCy/Fg==', 'price': 2000000.0}, {'id': 'o7IHTqUrLEDwuR3Brc+bdw==', 'price': 820000.0}, {'id': 'Rq02TywepAo397FRUEcFrA==', 'price': 1050000.0}, {'id': 'm7RW+zikOtBHTzy8BAjRCw==', 'price': 535000.0}, {'id': 'h4x1g0+Ej94l92qIOBPanw==', 'price': 1390000.0}, {'id': '4SuVBf1r+yZoiw2KDFgQkw==', 'price': 265000.0}, {'id': 'i2ZvKmvYcxfvbYD8asqxJw==', 'price': 795000.0}, {'id': 'oGLvfVPifu1l3KD1ucCxRw==', 'price': 340000.0}, {'id': 'JptavWzXSKVwYNpmLJEzPA==', 'price': 750000.0}, {'id': 'AlWGZhIJijIDnK7y12IM/Q==', 'price': 850000.0}, {'id': 'JbwB3v6R0C4rW97pcK4hIw==', 'price': 1350000.0}, {'id': 'sdmWmGjMvFqrj9Yn8TvzXw==', 'price': 540000.0}, {'id': 'LlFctC9zxHIWcKY2/bV6Yw==', 'price': 235000.0}, {'id': 'lnLcKWkE1MepxypH7DYmJA==', 'price': 790000.0}, {'id': 'AMeso+JT8TGyD8JD0vUFGQ==', 'price': 580000.0}, {'id': 'LYGTdrL3eb0v6zz+tK70qg==', 'price': 263250.0}, {'id': 'd7OtSeNDAFGKY6yP5JKl1A==', 'price': 350000.0}, {'id': '/iM2atbgXM5twy0eiaxHHQ==', 'price': 650000.0}, {'id': 'dQrgLV90Ahq1NQRlUk8eWA==', 'price': 780000.0}, {'id': 'NS8FswwKn5Y/Rfi4gZ/bxA==', 'price': 890000.0}, {'id': 'pk7C8YMervkmdMH+MU9L7w==', 'price': 480000.0}, {'id': '0359oMgAlA/ICrgUM3oOew==', 'price': 270000.0}, {'id': 'J/aNVg7AdMvaREYee60xjQ==', 'price': 280000.0}, {'id': 'h/i7cVK6r/n+LTTfn82DYw==', 'price': 264000.0}, {'id': 'ZQMtv35gZzsrsoQY8371cw==', 'price': 498000.0}, {'id': 'PvzPjYfADAXEZYVlRTYiUg==', 'price': 12188500.0}, {'id': '6z5ZAY2RE2ZgRnnR+qoAug==', 'price': 450000.0}, {'id': '2wkeEWlMJjYHXJ4pWrwUgQ==', 'price': 850000.0}, {'id': 'perKuyaNSKq1xRkxBxVBKw==', 'price': 500000.0}, {'id': 'CjOnJbMhT63XlSRhnLrd3A==', 'price': 310000.0}, {'id': 'm5vu9EiLcQoScuyszNheOw==', 'price': 785000.0}, {'id': 'rmFDo8C8w1JPh5xeTzTmIw==', 'price': 470000.0}, {'id': 'hffnlePzfCZX5j01AzBTSg==', 'price': 420933.0}, {'id': 'aMS8umBmjRY6QfcgUHac/w==', 'price': 320000.0}, {'id': 'OvTj05tB9ahr2QED0GCiLg==', 'price': 498000.0}, {'id': '6JmCLoJCabpd3Hqg7fehGQ==', 'price': 273000.0}, {'id': 'HjzlW2342ag7ryCstikAjw==', 'price': 550000.0}, {'id': 'DzpWjNFWgjDpQHcqz2GkzA==', 'price': 310000.0}, {'id': '8WPgQQOOzMHB0Ty8FT2iHQ==', 'price': 420000.0}, {'id': 'SHi4EU4DBNwI6WNI3gRIsQ==', 'price': 2600000.0}, {'id': 'jKxLf7NpDXEEy1x7n9qUlw==', 'price': 595000.0}, {'id': '+Zx69ClRQwiwCnKHMjjoJA==', 'price': 345000.0}, {'id': 'WVX1QSR4IiYrL+14Vi2wCw==', 'price': 780000.0}, {'id': 'ZZciH/gFekan2uDzTqoVYg==', 'price': 635000.0}, {'id': 'rGFloeYM6I+wuPNnwsOhkQ==', 'price': 13600000.0}, {'id': 'K7AEGExRR45aecJ99mz2gg==', 'price': 530000.0}, {'id': 'w4y7RLsJLZv4seirgPMbxw==', 'price': 650000.0}, {'id': 'deb/Di8XlE6JJAutd18LlA==', 'price': 200000.0}, {'id': 'YeE3TtJ3v8nQge27IV+sNQ==', 'price': 950000.0}, {'id': 'bzC7PTTGhK05mGcDnWPqNg==', 'price': 475000.0}, {'id': 'cqKztuk2ODfGJb6OUSqGhg==', 'price': 514000.0}, {'id': '0qby31+txXfyYgOITST7rA==', 'price': 830000.0}, {'id': 'qMBoFhJdatzpPr5+EuMkMg==', 'price': 2650000.0}, {'id': 'rLwbKKbHDGEzCN5IkctYyQ==', 'price': 890000.0}, {'id': 'krthrAs9gJaXrVQQN5BINw==', 'price': 340000.0}, {'id': 'bEPhJcn2Br03A72zTv9nYA==', 'price': 1050000.0}, {'id': 'J5MXnBtXnT9XKdnMrE1JNQ==', 'price': 245000.0}, {'id': 'KeiAKhfmjuLkHlwfF9UbTg==', 'price': 449000.0}, {'id': 'QgiuIYcdTF7u8WiI/grBQw==', 'price': 499000.0}, {'id': 'FDUdYHDmWKXkNyFj8VtChA==', 'price': 1100000.0}, {'id': 'Cak6C+7V9fVFhkUEwpmAAA==', 'price': 480000.0}, {'id': 'I9aWq0FLWuWfDKyWho2umQ==', 'price': 420000.0}, {'id': 'qMBQF9R/lEneF16MzRwkhA==', 'price': 495000.0}, {'id': 'FJ2h7tV8Iy8E9lbcpB2jnQ==', 'price': 1200000.0}, {'id': 'FaDjTUkCRQM51aKrBv8nEg==', 'price': 980000.0}, {'id': '5Z06EPQsknLERhJg7IEFUw==', 'price': 398000.0}, {'id': 'Fk0daYP/yJRnbffKj+y0cA==', 'price': 449000.0}, {'id': 'j2jgeroKl0b0wxyQpbWEQw==', 'price': 265000.0}, {'id': 'BNCP1bFczYmwiDmPdEZjmA==', 'price': 5100000.0}, {'id': 'O9L9PqkAoVKawUlQiiGe0g==', 'price': 600000.0}, {'id': '6arHRss53V0tmrw7lXQHBg==', 'price': 630000.0}, {'id': 'sAiMKmN735hf5bdEjwL4Mg==', 'price': 665000.0}, {'id': 'aqO9Ts24NY7git9caqsQzg==', 'price': 690000.0}, {'id': 'GN+MpUu0NwOttRtbSsnI1g==', 'price': 290000.0}, {'id': 'bhRK0tk9MZ2bDLEQVm2vVw==', 'price': 600000.0}, {'id': 'zsPy+EVFwwWRkTT0Unx7vQ==', 'price': 980000.0}, {'id': '5FXKR96gITS7reYlvh+PUw==', 'price': 595000.0}, {'id': 'nmxrSfkHrcUqxhxJX6MNDQ==', 'price': 490000.0}, {'id': '4uu/1kmFfDsaRVkVLMoN8A==', 'price': 1284000.0}, {'id': 'hIq9ezXGkZGujdOS+80LxQ==', 'price': 1490000.0}, {'id': 'I50MgK8m+QDD2omVZsLCiQ==', 'price': 470000.0}, {'id': 'cafefm2Q6/8APLDeHnLvrg==', 'price': 520000.0}, {'id': 'aA8gCCxCFkc/sT6UUg6g1Q==', 'price': 260000.0}, {'id': '5p3Umkct4ilqqZL96YlBfw==', 'price': 590000.0}, {'id': 'VaYbagj2Xpfw7/idRmcERw==', 'price': 332000.0}, {'id': 'LmC5WjGIy63joY1BZbwRBA==', 'price': 790000.0}, {'id': '5+Y7UxCxLUCC2Fe5SPg5Ag==', 'price': 1680000.0}, {'id': 'WJ+eTivybe9Q04wdGYBqEg==', 'price': 1290000.0}, {'id': 'H6UgzCCeS4LG+dh9zeMV/A==', 'price': 330000.0}, {'id': 'DzpCGSIjkquwB2xRH7hTow==', 'price': 495000.0}, {'id': 'NLEntDVE966TALmfa8JzCw==', 'price': 250000.0}, {'id': 'PK9CxIjEIuGp5WTr9CPg9w==', 'price': 800000.0}, {'id': '1E1OTG+0/5aAiB3v6S3XEA==', 'price': 470000.0}, {'id': '0K6vfxPfl/81JDZHIuZAJg==', 'price': 900000.0}, {'id': 'X/dTmYQnGa9RM3aT/jvBcw==', 'price': 12226000.0}, {'id': 'aeQxM6Py6yRe/R7TVbj6yw==', 'price': 270000.0}, {'id': 'EgJHbSM5YjYLCwlFe6ii2w==', 'price': 249000.0}, {'id': 'K7rbFZep7rVP7QIi+Uk+Ug==', 'price': 530000.0}, {'id': 'P19YrpG4teYJmgPko9viAw==', 'price': 5927723.0}, {'id': 'kIf92VxSFOlhxdrzHRHaJA==', 'price': 2900000.0}, {'id': 'VCWpwLC9aHqeVscTh9YKYw==', 'price': 1250000.0}, {'id': 'Sbry2oMxj9+RvYmQ+F34NA==', 'price': 460000.0}, {'id': 'md6XAcQsnkV4uKEhXYw1jg==', 'price': 330000.0}, {'id': 'D9c5twA5xBE6wpnVuk7L0w==', 'price': 1800000.0}, {'id': 'Rufv8+hEXO+2lLk1BDfuPg==', 'price': 970000.0}, {'id': 'CLzpQic/bfazyYJDLrjbtg==', 'price': 260000.0}, {'id': 'adykRgQWwX3Xg4oBYPPVbA==', 'price': 250000.0}, {'id': 'Gb7vl87GdlfVlQHa3NgWMw==', 'price': 770000.0}, {'id': '0S1BzCzLmbhOitcapr3r6A==', 'price': 265000.0}, {'id': 'dX9fVsBy/kCSiABIxnznxw==', 'price': 1150000.0}, {'id': 'aRGnOZ/htvkES5pPmkxloA==', 'price': 1200000.0}, {'id': 'jNjMahVt9Kr3MThHLcogxg==', 'price': 520000.0}, {'id': '0z/EdxzRPiuxPZFuWaqjig==', 'price': 520000.0}, {'id': 'zwcUyetqDbZHVJ3qXOIsWA==', 'price': 590000.0}, {'id': 'FRswHRmiojkopW4WFmr53w==', 'price': 475000.0}, {'id': 'N1OowuAfm919rSOj7TM8hw==', 'price': 490000.0}, {'id': 'gVJZxdPNspqAs6KW2MMnCQ==', 'price': 252000.0}, {'id': 'e0cgOY3Frk+Ad8eKKYZKMQ==', 'price': 448000.0}, {'id': 'SZvwVMbRbWFICcLS2Hc4rw==', 'price': 1890000.0}, {'id': 'BGikxjYaGaWe9pNX9H1bsw==', 'price': 500000.0}, {'id': '5dLdPOVYybkUIjygIMUEkw==', 'price': 19000000.0}, {'id': 'r3eF2SIUeilV5mjEHMjOKA==', 'price': 320000.0}, {'id': 'zfKlF0Z5pH9KopOjoQWdhA==', 'price': 450000.0}, {'id': 'O922Rlb4ydzaVroZc06B6A==', 'price': 950000.0}, {'id': 'xeU3oI9/7UCYDnF016BImg==', 'price': 199410.0}, {'id': 'NXveIA/1xeYh1sMXZ6/HdA==', 'price': 790000.0}, {'id': 'N3Zp+3Nxo0ffM/gHn/EllQ==', 'price': 450000.0}, {'id': 'weohwBksOyQci34Fu/yPwQ==', 'price': 680000.0}, {'id': 'Uheiz9glFhU1K/cNvj7Ayw==', 'price': 575000.0}, {'id': 'yUM71ay5Ga9W5IWONDQAbg==', 'price': 9500000.0}, {'id': 'CorU+ruiUbxryjmWgc1Mkw==', 'price': 650000.0}, {'id': 'UTH/48OxV6AbZf8ipERb7w==', 'price': 10452276.0}, {'id': 'hEwC+xcY16uwF+QXoiWwUg==', 'price': 413500.0}, {'id': '7zTN+iRVwJ6f4q596/misA==', 'price': 499000.0}, {'id': 'JeCca6vD6wRoSwVRZeDVPQ==', 'price': 820000.0}, {'id': 'tlHbweGhsndodBH6jwSh8w==', 'price': 520000.0}, {'id': 'fpJnFtsTZNbSu236Ox8faA==', 'price': 1950000.0}, {'id': 'HpOgrRozEPWPWw+ZdK0QOQ==', 'price': 600000.0}, {'id': 'p6vparf6jpSrhoW15e/anw==', 'price': 1250000.0}, {'id': 'U0hBzKPLXCMPnQvMMutfVQ==', 'price': 330000.0}, {'id': 'Ely/4TO2GQQ2vvDJsPXB/w==', 'price': 1190000.0}, {'id': 'FL2OA4wQ9ZyU9hpEuuVo4A==', 'price': 310000.0}, {'id': 'quRGgtCQ11h8BtjhS3sWKQ==', 'price': 1600000.0}, {'id': 'DODcur3H52CqXmZ9hbDQIA==', 'price': 249000.0}, {'id': 'VX58d5fyvh9vQ5hXG3EU1w==', 'price': 332000.0}, {'id': 'GLzPofdxnQWs6Hg5UlFXHA==', 'price': 3100000.0}, {'id': 'j0CqapZfU9jAgsBqhjxsdQ==', 'price': 850000.0}, {'id': 'cRyXYsJ6ywKA1z1O0sQ3uw==', 'price': 259600.0}, {'id': 'TpjrRlS7fX6m445sSn6gAQ==', 'price': 9643505.0}, {'id': 'CxoBLc/ekWTYm0fncRMHAw==', 'price': 270000.0}, {'id': 'sG+Y5Bl/NQELZwxXWlybKQ==', 'price': 980000.0}, {'id': 'oFcI5JAbOEsVvsk6PhM6fg==', 'price': 2800000.0}, {'id': '9l1z7tpMuf3Fxxt/llCK6Q==', 'price': 720000.0}, {'id': 'KaZVyNSR62YOoljuNYcN5Q==', 'price': 510000.0}, {'id': 'l+atXq3nvWadNRb6tlA1Hg==', 'price': 279000.0}, {'id': 'aBA/pi2S7LyfxfnVVbR9Tw==', 'price': 257000.0}, {'id': 'OAITsE7LcIGvm20Qag3few==', 'price': 1200000.0}, {'id': 'jv4GGNaOj/Z506CJFuiPUw==', 'price': 299001.0}, {'id': 'N6ELntB5HpV7PaQBfqfgFw==', 'price': 1300000.0}, {'id': 'BTY5IpdX5b7w9SWC8JJvgQ==', 'price': 250000.0}, {'id': 'H0+bIcwAP/SPSqRlr93L+Q==', 'price': 270000.0}, {'id': 'Zxhh6vBTd2r901qdZIiGZQ==', 'price': 330000.0}, {'id': 'U1pe+H/rjTB8BRs5ofWsew==', 'price': 1300000.0}, {'id': 'ka//GExBJqRvfTT9Mynqsw==', 'price': 420000.0}, {'id': 'c8oaKE32w9KvtvAAtoNWfg==', 'price': 490000.0}, {'id': 'TbVmciog5AsiTjIC/fhg6Q==', 'price': 480000.0}, {'id': 'hVid0w5JCemIp450IarEyQ==', 'price': 650000.0}, {'id': 'Ibh4/GGySBkn25hfpGTjVw==', 'price': 1111111.0}, {'id': '+zeWLlBPGoDhJb+MP6cbEg==', 'price': 268000.0}, {'id': 'NvcSLMSvwzKdr5uqebrf9A==', 'price': 189900.0}, {'id': '/Uq1Yq5NWaIHCF7UqLlDWg==', 'price': 1250000.0}, {'id': 'ZLhT80SBTieRDWccWMT6ZA==', 'price': 1100000.0}, {'id': 'uiKdKB97ZFqqgy6j9IuZvA==', 'price': 15195527.0}, {'id': 'Y934P4+wcpvWzNsGvJ1zgQ==', 'price': 420000.0}, {'id': 'UfXvh39KbAX3j/KGl7pleQ==', 'price': 450000.0}, {'id': 'GDyNAXZTaFkIKYYefQyDHQ==', 'price': 620000.0}, {'id': '6eBrEkwrUzemmPQcMUnYbg==', 'price': 1250000.0}, {'id': 'Ti21CcwHCOTo3hGfUZloXQ==', 'price': 1500000.0}, {'id': '7B2zhEF+dr1aGw+Gb2t5pw==', 'price': 480000.0}, {'id': 'iosXzw1RCwqJNZUOO4aHvA==', 'price': 550000.0}, {'id': '5HBruLCHiLvfMld7x2QrjA==', 'price': 2750000.0}, {'id': '+5BlSQS7tsaC/gCFg4ssBw==', 'price': 690000.0}, {'id': 'GNsDELbmNQpBWl4/syR36g==', 'price': 350000.0}, {'id': 'JwHRcXBfveWd/vBkJl0bQw==', 'price': 620000.0}, {'id': 'ItbX+irQWka4Gnm0oHAsyw==', 'price': 390000.0}, {'id': 'rHg1INewMs9QorO1isfpvQ==', 'price': 440000.0}, {'id': 'qiTFmruST+WkZV46//8wMw==', 'price': 709500.0}, {'id': 'lro2Qj07FqAr+OaHjPbRUA==', 'price': 475000.0}, {'id': 'Lb+hCoOoZU41Kpp5cAwzVA==', 'price': 445000.0}, {'id': '6r9Lq9JpSfIOaOTACSaCFg==', 'price': 250000.0}, {'id': '4O531Wbo0aWNDuwFOXRQbw==', 'price': 1550000.0}, {'id': 'nvpsuEicE1+Y2l4x4g2irw==', 'price': 425000.0}, {'id': 'Ki7HswQS/U3o0umK5E5s2g==', 'price': 690000.0}, {'id': 'kkyR60oMJCQhZw4oA3xBJg==', 'price': 448000.0}, {'id': 'fvJ3ax0caivl/ENLD+iZYw==', 'price': 275000.0}, {'id': 'FQnlTr6YNHS49vvma+fdUA==', 'price': 849999.0}, {'id': 'bumFFDcF8DRYgxqpwfEk0w==', 'price': 450000.0}, {'id': 'DR1hpjFCmwmOlJdTp3+QrA==', 'price': 2550000.0}, {'id': 'ofB/dbTxWUR893412yE8Tw==', 'price': 650000.0}, {'id': 'zhByjIq2ySu85Btw9TqEdw==', 'price': 320000.0}, {'id': 'njmLC81rgaDh6bYmTIOCIw==', 'price': 310000.0}, {'id': 'ml9SKXBDL7KoEgPyZL9Gjw==', 'price': 240000.0}, {'id': '9kI0nQ5voEYa4oqVDAnVTw==', 'price': 495000.0}, {'id': 'z8jbxmTzVyKPyLfVke0yfQ==', 'price': 490000.0}, {'id': 'W62VIxNS97xZCjvqaJ5YQg==', 'price': 5304343.0}, {'id': 'udPiwL0sARBkzk3q1TVzNA==', 'price': 440000.0}, {'id': '7Ihi0WA6jxRdKt+PizFKeA==', 'price': 490000.0}, {'id': 'm4CZF1tFMsJ75QDCNcFaLA==', 'price': 950000.0}, {'id': '1MrUsmG6OT6JOn4YOzaH5Q==', 'price': 625000.0}, {'id': 'eG5hNLjkPE5/ZtIbzXzZIA==', 'price': 460000.0}, {'id': 'sSL6M6gK8Cz5WrSq8w1dGw==', 'price': 5097410.0}, {'id': 'unxcdiGn4W7Daft1q4nHGA==', 'price': 450000.0}, {'id': 'vTcBGV1rg5p4WLUE3qY7tQ==', 'price': 430000.0}, {'id': 'Rtou5f4Ev3xpbpnqsuHLDw==', 'price': 535000.0}, {'id': 'AXCKpLpZtVe50DkexZtqog==', 'price': 1750000.0}, {'id': 'h0XI21qA+G+SZxdYJH4kLQ==', 'price': 650000.0}, {'id': '9RjJCs5leKfsCKSWOgVg7Q==', 'price': 320000.0}, {'id': 'HvLioSeyOocKiQdBHBfWtw==', 'price': 480000.0}, {'id': 'XPsOB6Lu9DZmh/6EucVd2w==', 'price': 1180000.0}, {'id': '6IFDFBYKJQkM6vH1s2pX0A==', 'price': 312000.0}, {'id': 'phHmXbq5gVZxl9FpTIGOqw==', 'price': 990000.0}, {'id': 'W49OsoEwLQGJWF2aTNHdMQ==', 'price': 620000.0}, {'id': 'il2XtcVQGhbMDouXYKjQ9g==', 'price': 940000.0}, {'id': 'sX9lu+iN+FQ7SFPjOHWfcA==', 'price': 610000.0}, {'id': 'dYR37C8Y4PohG24u2MpmzA==', 'price': 484000.0}, {'id': 'AXg3aaoH3mWgRl3lHTYGaw==', 'price': 575000.0}, {'id': '/7iXTV+b6mNAM/SlOLy6Jw==', 'price': 440000.0}, {'id': 'WH4XNDbAV5xLIZwOGN/Xsw==', 'price': 370000.0}, {'id': 'Mu/T2QrOldoyLl3mhvvHEw==', 'price': 450000.0}, {'id': 'x5WbBH4ieOe+03XhGX39jw==', 'price': 337000.0}, {'id': 'tF9jvBTZ56khnRixn4pPZg==', 'price': 1490000.0}, {'id': 'JIATHAucARtfH4vM58wHug==', 'price': 950000.0}, {'id': 'oRiCQt0kBaaBKeBzIHpM3w==', 'price': 348000.0}, {'id': 'kTa8aryQWiIq97LwScjSYg==', 'price': 650000.0}, {'id': 'eT4XSeyONZCyywCTV4cGoQ==', 'price': 595000.0}, {'id': 'mRdjPpdKYw64JgZ/WMaZHw==', 'price': 348000.0}, {'id': 'AecfpHXXQJez7m/K2Tyg4w==', 'price': 310000.0}, {'id': 'L9ZZ4AvWydTFWOUpMikfsA==', 'price': 280000.0}, {'id': 'lG6s2BUzYiPXrKzQVgDZiw==', 'price': 549000.0}, {'id': 'C4HbwjK5cXdoVwzZuoDCeQ==', 'price': 830000.0}, {'id': '/2Yd8yg/ztssBcGucm2yYA==', 'price': 1689000.0}, {'id': 'AHuswS3TWCCgz1ndaTjGgA==', 'price': 10053867.0}, {'id': 'GD76qXzVJ1lzkOhTtyllNw==', 'price': 630000.0}, {'id': 'N5ir6keF1AGsVM8W8OP2+g==', 'price': 285000.0}, {'id': '4nu0ue7VFvtkn/bwMovL7w==', 'price': 765000.0}, {'id': 'lA7QUSLXZZ4u9+yuHnHqyw==', 'price': 800000.0}, {'id': 'mHwJIheUyfv01NKEGIsrjQ==', 'price': 3950000.0}, {'id': 't6ng+EdgWy2bsDYxblyIdQ==', 'price': 350000.0}, {'id': 'qi+/LaWD1egazmudeTDqHw==', 'price': 570000.0}, {'id': 'iqIWPhDoJR8CHi7AspO0Fw==', 'price': 449000.0}, {'id': '3lncs/JQeXFNMPW85h3DSw==', 'price': 690000.0}, {'id': 'kVc9I7r+cb6UfVCuGPIOVQ==', 'price': 450000.0}, {'id': 'Yg0cZFg+b6NgBv5ER3VGbw==', 'price': 1690000.0}, {'id': 'GrSGir+TDzMron5lCL7yRw==', 'price': 335000.0}, {'id': 'm5hVVXq+SktRGzocSmOdow==', 'price': 4964079.0}, {'id': '7npqL9/uOMiPtmh3fJn+qg==', 'price': 299000.0}, {'id': 'iVxMoRk+BvfbTaUUAU4Ehw==', 'price': 495000.0}, {'id': 'bKg8ecVttLDfhjb4HHBpeA==', 'price': 1150000.0}, {'id': 'Tn8uvZAGbXMD4pOwR5/sQw==', 'price': 3500000.0}, {'id': 'j8QLBQW1yb/s/NLUmQ4axQ==', 'price': 455000.0}, {'id': '5ENluuTo7JVtyYFRI4KGJg==', 'price': 420000.0}, {'id': 'F7f/5T2AOESJKJ2XwC2t9Q==', 'price': 5255280.0}, {'id': 'Tk95DeJT75BvDV80Riv/1w==', 'price': 670000.0}, {'id': 'rlzWJ72HbTGrrFzJeq84Ew==', 'price': 450000.0}, {'id': 'tfLwowH9OBurjenKPSMq8g==', 'price': 530000.0}, {'id': 'sIO8x3J3K/WAQzloAqaVmA==', 'price': 280000.0}, {'id': 'wWvKvizsk6dpamsRi55oYw==', 'price': 910000.0}, {'id': 'EYrcn0umTYuza9Wvb4ZhLg==', 'price': 420000.0}, {'id': 'hZ+gKCNlT7k/EL8btrhSog==', 'price': 6000000.0}, {'id': 'hAjOtNM/1qpBS6OAAFPggQ==', 'price': 315000.0}, {'id': 'gAW2N9AWW12southwTcgvg==', 'price': 260000.0}, {'id': '2WSjBwIzbl9JDpiu/Zq3KA==', 'price': 590000.0}, {'id': 'D7MYJXUCPZWKBioIFTSkrA==', 'price': 495000.0}, {'id': '4dz0kIIEnhIf/kwGogo4PQ==', 'price': 580000.0}, {'id': 'geyCkkJNfDzc9Q1mIHeLAw==', 'price': 1200000.0}, {'id': 'rzS9bGT0tb69Bff/Fdshcw==', 'price': 299000.0}, {'id': 'bV/ce17tGmBvgiKuODpBmQ==', 'price': 465000.0}, {'id': 'oE+a20XE9FSVsmijgakm1w==', 'price': 670000.0}, {'id': 'tRijTjgeO1a8lwMvi/9P2Q==', 'price': 256000.0}, {'id': 's48JCacYrauiCbIUtKV5IQ==', 'price': 685000.0}, {'id': '1pr8+Pz4gtDTUmutIje+Og==', 'price': 550000.0}, {'id': '5t/TdWce0kNXfNpe78sBeQ==', 'price': 265000.0}, {'id': 'aHf0yvjEvWVufyn4InOcvA==', 'price': 280000.0}, {'id': 'IeugxUo9n2oOR8ByEDDLWQ==', 'price': 270000.0}, {'id': 'JoCk/3N8/wGGNaQJpAoXIw==', 'price': 780000.0}, {'id': '7HUolNLcFIwY6RDWVJkW5g==', 'price': 270000.0}, {'id': '1N7HOa/fLpQ8PJK2UcL4xw==', 'price': 498000.0}, {'id': 'G2L1+GCIjr1CGrBzU8tH+w==', 'price': 470000.0}, {'id': 'HCtWRAWV1SKamCVzf5oyVQ==', 'price': 850000.0}, {'id': 'LmBbm2/UOmXNtq8NGzuvrQ==', 'price': 790000.0}, {'id': '7sjh1pgaHSiG7FVIlcNX2w==', 'price': 310000.0}, {'id': '5kYqpqFa3bBT6bP1qTtuQA==', 'price': 1400000.0}, {'id': 'RVvtkfzKikfYnhNyIPNlfA==', 'price': 450000.0}, {'id': 'iiOo5LWlNx2RkkTRVTxppA==', 'price': 850000.0}, {'id': '2ipwakGh9otUN8gjli1oXg==', 'price': 800000.0}, {'id': 'ByfCzTaMHeDR9mnRf3TzUw==', 'price': 875000.0}, {'id': 'AHtlR599WAnfTDw3bYZnfA==', 'price': 15000000.0}, {'id': '0mrsKDFdHdADzjV81YcU7w==', 'price': 477000.0}, {'id': 'vmeECh8mOu8IFzs+Au1vuw==', 'price': 315000.0}, {'id': 'GCqD9NH3+/rXNb2QALPVog==', 'price': 510000.0}, {'id': 'KXpEA0v1Gd42Yu3GnPsJ9g==', 'price': 980000.0}, {'id': '4Go4/rRPQEwVcGJHUJ1emQ==', 'price': 620000.0}, {'id': '5CJ1xefeSjVNmrF6TwmqbA==', 'price': 395000.0}, {'id': 'o6DkGtiToYWkDPcYehKhTA==', 'price': 17509698.0}, {'id': 'TBaQUWKqP/4kpsIkyUcHlw==', 'price': 3700000.0}, {'id': 'u/uSFE4LzGwRZknaU97SXA==', 'price': 450000.0}, {'id': 'z8pv+upjKfxByAIAuumQdg==', 'price': 258000.0}, {'id': 'EiAAEYo3Zhsp4nMYFXmKeA==', 'price': 638000.0}, {'id': '46mVKIgmw1c1tvc8jGMI7Q==', 'price': 259103.0}, {'id': 'zWkKXU2N5Bu3GH7tpSRtmw==', 'price': 250000.0}, {'id': 'I2bX/BUjjbpn+1XfvNIt4Q==', 'price': 13200000.0}, {'id': 'eINEELHQ2KQa/0Kvf6uRIw==', 'price': 460000.0}, {'id': 'a9rIEDPoIPv1bk6fCLyDdQ==', 'price': 550000.0}, {'id': 'rqhrH/qpD63YTP2V6t/LBA==', 'price': 300000.0}, {'id': '39fXrp9LsTdkUhHbMBcECg==', 'price': 11924179.0}, {'id': 'iMDduYh7UPcg4pdAgUj5+A==', 'price': 890000.0}, {'id': 'Z0rYrjXxwyJU/rAiCuP+xg==', 'price': 660000.0}, {'id': 'frON8JXmLPLtrF25Aie0uw==', 'price': 270000.0}, {'id': '/xj0Ps9TzrHQorPzXbS7Pg==', 'price': 640000.0}, {'id': 'lciPvn/3vb3hj2a2N/Pj4Q==', 'price': 368000.0}, {'id': 'NBye4Dzf/xMXpHgwr4T4SA==', 'price': 1300000.0}, {'id': 'BjEWIKfzlOeqG6nFxq6/Tg==', 'price': 450000.0}, {'id': 'o8lgHaiS0FDkWK++Yrniog==', 'price': 340000.0}, {'id': 'Uvm/yhNm3Wfj0UTylFoezQ==', 'price': 420000.0}, {'id': 'Jdy62Ehkb6ymMwiVTu+pKA==', 'price': 220000.0}, {'id': 'wcZ3kfUtgRXosvSgEqDC4Q==', 'price': 590000.0}, {'id': 'AA8hEKQ4zmzkYwk6KVw4iA==', 'price': 206500.0}, {'id': 'tAGb5q6ER2sD1ypxWsycbg==', 'price': 450000.0}, {'id': 'COzXel0ABXPVD2a8NO97Xw==', 'price': 278000.0}, {'id': '/fe6QF/gO07yBBoU0z+zGQ==', 'price': 520000.0}, {'id': 'MIvsjJghu1tEiru/zQ20+w==', 'price': 490000.0}, {'id': 'Fy0fyheS64n2a/BnurizMw==', 'price': 250000.0}, {'id': 'w9apIQngZyK9jHjDQcWeCQ==', 'price': 259000.0}, {'id': '/tgM8f0Dt7rN+Uf8DGQ1Gg==', 'price': 620000.0}, {'id': '/r2mk/k6jkX/HuV3j5QE1g==', 'price': 550000.0}, {'id': 'ZfICkSAUch3OOJVCr22fGQ==', 'price': 8157600.0}, {'id': 'H5USwcuhEasHlWpTJmjZpw==', 'price': 260000.0}, {'id': 'RcLKn2bwhl/lccEKeAq/LA==', 'price': 660000.0}, {'id': 'PuET8vzdO9bjSL6/prV8OQ==', 'price': 450000.0}, {'id': 'PAICgxE5B+6xogYBk6l4Jg==', 'price': 490000.0}, {'id': '5ICJljGSLiSlM35AUssVdg==', 'price': 1000000.0}, {'id': 'SZR7WAgG51qQOxjBADIjkQ==', 'price': 570000.0}, {'id': 'RNGSqUaE0WgWSfJt5Q36ng==', 'price': 7759000.0}, {'id': 'T4yqG1lyK1WF2vcGlDLOLQ==', 'price': 630000.0}, {'id': 'vSiwCefKFSRiJuqEh4lvbQ==', 'price': 9438324.0}, {'id': 'SRQvc33yHuS/xhvJjEiKkQ==', 'price': 240000.0}, {'id': 'rp3VgEsHof64ddjAyyqKJw==', 'price': 465000.0}, {'id': '2v77FDLz/HZGBMYbQ1unyw==', 'price': 930000.0}, {'id': 'ezV9E6R5SLgW7jjr9yfY5A==', 'price': 638000.0}, {'id': 'LqdrLEcZUv1tVZP54TNDDw==', 'price': 240000.0}, {'id': 'DrWpNsi/GhoFbzNMnykcMA==', 'price': 380000.0}, {'id': 'D13HMPAbTtvIAyHscNoPag==', 'price': 298000.0}, {'id': 'kbNQEbAy6M3qOj2/m73Hyw==', 'price': 219000.0}, {'id': 'wngXa/IRf8xlx5LQUYLZaw==', 'price': 2800000.0}, {'id': 'mt9lJ1hU58IIlNgIInZ7ww==', 'price': 450000.0}, {'id': 'XcfnLtQdQ2GdBeZ8W6RXUA==', 'price': 489250.0}, {'id': 'gmqWa5AhFWgtR33EZc99JA==', 'price': 43000000.0}, {'id': '1w4lurJp23sOUKJOwo2FOg==', 'price': 470000.0}, {'id': 'jBl3rtZvcRbmcTYkW09jpA==', 'price': 830000.0}, {'id': 'ZIDcXPRbmQk1kIOkqXKOUA==', 'price': 13600000.0}, {'id': 'jaNlZUF/XN/I8PWilhABqw==', 'price': 1350000.0}, {'id': 'ujGDjIxGRDs1PAfCKWNIQQ==', 'price': 470000.0}, {'id': '46mC4oTHSHk8ThzYQ2dTIg==', 'price': 240000.0}, {'id': 'IIPrnNn3yKCr2BgVYoYWGA==', 'price': 205000.0}, {'id': 'SvAqS0iSgJYMzO7AghHgzg==', 'price': 680000.0}, {'id': 'Y6sVBth/SHW2SFi23F3kLA==', 'price': 2310000.0}, {'id': 'ZwgTId0nEjUGJDZjzAH9dg==', 'price': 590000.0}, {'id': '3x6PoKQNtqz+fujt1hDi9w==', 'price': 414900.0}, {'id': 'CW5CUz+8LStLQkMNEp5GMg==', 'price': 400000.0}, {'id': 'VLms666WBLi+JrEwLPKnDg==', 'price': 590000.0}, {'id': 'ZmqM1KQxYGYnUNZKNfltyA==', 'price': 310000.0}, {'id': 'JB+dXuVQRTZcX3xMXqJuNA==', 'price': 1000000.0}, {'id': '8c+b5IXiF0dGXV6YujmzOg==', 'price': 1650000.0}, {'id': 'eZlYHtYpVROP5I46lTidTQ==', 'price': 1450000.0}, {'id': 'vsAwBwkNroR8oYc1nDYKmQ==', 'price': 17892000.0}, {'id': 'gVyPnUBj+gqCh8ZayqISRg==', 'price': 825000.0}, {'id': 'K+omsSIzKVmqqQIF4suWbg==', 'price': 420000.0}, {'id': 'ViUG7wWxrZkpIwehb8DTgw==', 'price': 485000.0}, {'id': '4uLnjSY0QvNy/iGvzKLyFw==', 'price': 630000.0}, {'id': '/IJbiDQAdb2wC2RE1dbXOQ==', 'price': 270000.0}, {'id': '6zX62jLOrrHZh99bt6xAxQ==', 'price': 350000.0}, {'id': 'yPEQu0TSuYlABs4IfNiobQ==', 'price': 590000.0}, {'id': 'V6vsiOsPzYB7uxCagBBumA==', 'price': 310000.0}, {'id': '4dYno1oJxdk0nll2Ml8XWQ==', 'price': 350000.0}, {'id': 'HPhTteauFsOaOeUAwbR7Hw==', 'price': 760000.0}, {'id': 'tT7VsFd9CpBQSRJ9I3KwWw==', 'price': 340000.0}, {'id': 'cTIznYop1ju1b279TunH4w==', 'price': 240000.0}, {'id': 'N9f36sb9noVxQL7bHVIwTA==', 'price': 690000.0}, {'id': 'V2TJHpeZvvdSuxyYOPRXAw==', 'price': 310000.0}, {'id': '2a7feIDsKr93pXfcdptXTQ==', 'price': 1850000.0}, {'id': 'p4Q4cV2Hl9VO5X98y+B41w==', 'price': 298000.0}, {'id': 'c9fXjS2fcqf+mVp1ldcWPg==', 'price': 306000.0}, {'id': 'thVf8B5/bDmrD56Vs6g+kQ==', 'price': 580000.0}, {'id': 'EUMlAhhkUess4J03+gngFQ==', 'price': 650000.0}, {'id': 'X2YC+b/tK4REtG9XCBFqdQ==', 'price': 460000.0}, {'id': 'tN0Ac4eSLr6HDWjfXI6iqg==', 'price': 1800000.0}, {'id': 's8l362RcY+KR8IIbFBnarQ==', 'price': 620000.0}, {'id': 'HzZ3Gm5Xyyf+TZNQOT/x6A==', 'price': 1300000.0}, {'id': 'Lvk46fZcLWwV/e91RsZujA==', 'price': 2500000.0}, {'id': '+Yg5l6wsP4QQYpkcNd5r+A==', 'price': 1490000.0}, {'id': 'JJjD/iM82f3wuaBpXDU4Vg==', 'price': 255000.0}, {'id': 'HG5+wHDXkRJJ0I/fk5o2Og==', 'price': 930000.0}, {'id': '+RS37o8EfPs2U6/Y073Ywg==', 'price': 580000.0}, {'id': 'PdQ54M88rC6dq0MNB8MQRQ==', 'price': 260000.0}, {'id': 'tPEtE78jE9udrEAzxf/6eg==', 'price': 920000.0}, {'id': 'cepEhQaGNj1m2+UzwW7LLw==', 'price': 16329808.0}, {'id': '1wchs+LfuQ804u0zEVzoAQ==', 'price': 430000.0}, {'id': 'W9Uus8gnUJdT2MLYqL1tDA==', 'price': 250000.0}, {'id': 'ZfTyc/omyFFad5fZy3LZVw==', 'price': 275000.0}, {'id': 'HPVvGFhZydJOgH0itrTvlQ==', 'price': 1400000.0}, {'id': 'xHheS5Wvd+UdAinW+kv8qQ==', 'price': 250000.0}, {'id': 'WppEFevKKHCQRTzNYMHojQ==', 'price': 390000.0}, {'id': 'zE+XGuLSNmPWJL0Q0kcbgg==', 'price': 355000.0}, {'id': 'Iq0bE11SpU4uZbxRzOq29Q==', 'price': 685000.0}, {'id': 'BRkQG6wjdBlWIOq19lbB+g==', 'price': 750000.0}, {'id': 'MR5xuTM9jtaVkWQFiO9X6A==', 'price': 850000.0}, {'id': 'rUyT828v2TbW8NauqPX51g==', 'price': 7653822.0}, {'id': 'KGTWjhtrtQD3Ziq36vGLAw==', 'price': 229000.0}, {'id': '0USfruS+X4MdC4KRjLdH4A==', 'price': 265000.0}, {'id': '3J4PXoYBtgkr3aLXrpV6mw==', 'price': 580000.0}, {'id': '2M5ePHSlbX1wjf7a+NKyBw==', 'price': 440000.0}, {'id': '00Bk3Q6oEXHnxo5PFg4ipg==', 'price': 540000.0}, {'id': 'f67NEKI61e+ahCiH2P+o5w==', 'price': 5024964.0}, {'id': 'pq8Y2CUZV1vz1dcVnJBJcQ==', 'price': 249000.0}, {'id': 'OldvT5FjT6JoikKXaOuupg==', 'price': 470000.0}, {'id': 'QZIACGNsbWxtA4NMjlobng==', 'price': 570000.0}, {'id': 'vSxQJr4+5C6ABRzY/oiUqA==', 'price': 450000.0}, {'id': 'T/lXMW8mYmjY7LPZykNfcQ==', 'price': 800000.0}, {'id': 'dq5EfMbfwaAmMKqvAdNO9w==', 'price': 695000.0}, {'id': 'mvz/Sqew0dbtjMrfjpiI0g==', 'price': 490000.0}, {'id': 'jtwWFs1U2HmKbZSAdur8SA==', 'price': 270000.0}, {'id': 'Jjxmd0SkVF+naAJjH7mpeQ==', 'price': 890000.0}, {'id': '6sflGmzpLq/g2FYHbpzmeA==', 'price': 850000.0}, {'id': 'VJnqNFzGruVfTBlbcYZCKw==', 'price': 235000.0}, {'id': 'JdGjYDUJNYqvuU58lfTwFg==', 'price': 480000.0}, {'id': 'zIHQXuvTqgaE2iXbgBQ4tQ==', 'price': 550000.0}, {'id': 'VWRKsLVSQZbzOcR/vf/bzg==', 'price': 430000.0}, {'id': '/8l5e7KpiQuKNrxfDro9mQ==', 'price': 420000.0}, {'id': '5PdrK/qCw7pAXPo7RMa/dQ==', 'price': 1450000.0}, {'id': 'f+6qMjcGB9AKkH958Ww1sg==', 'price': 550000.0}, {'id': 'k276Hy4sI9e349GOYwzcxw==', 'price': 550000.0}, {'id': 'ndCIioWasbD0/ugMMtiA0A==', 'price': 330000.0}, {'id': 'yEErzroeSFEr4NjZZnkTxQ==', 'price': 640000.0}, {'id': 'yLvqAB9ROxSRz4m1IJUQkA==', 'price': 460000.0}, {'id': '5wEKQWCOwpF5thqfi4eRXA==', 'price': 248000.0}, {'id': '80dfNG8Ug9+1fvwVLT+87Q==', 'price': 500000.0}, {'id': 'bLcwZqcilvEIqVzTl/WI+Q==', 'price': 540000.0}, {'id': 'HMLh14WaxZifk+0f9APDHA==', 'price': 790000.0}, {'id': 'lopIZJ/fqTVJU0VKoDRbpA==', 'price': 2800000.0}, {'id': '4RprCFbCJQhCohGPGDaFtQ==', 'price': 460000.0}, {'id': 'NLJF8RtSJf4bNc2/krce2A==', 'price': 464999.0}, {'id': '6jbyL/Usx7xQlq6xBU3wvA==', 'price': 240000.0}, {'id': 'wwnYQQ5x5GNtlKGPkd7kxg==', 'price': 1250000.0}, {'id': 'cMDlyeb6vrd2YQQ3Fx8l5w==', 'price': 600000.0}, {'id': 'uL/lmYXzb8DqQGXmoqVLog==', 'price': 15013000.0}, {'id': 'd6nyYVvYYAoaK17VeFNfFw==', 'price': 1000000.0}, {'id': 'q3Im3Bm7Mi9ufVUH5rjWxw==', 'price': 2200000.0}, {'id': 'vHINjYqf+cVk19kJwe47HA==', 'price': 16374283.0}, {'id': 'loYMdetRJi16Bjdw9vrXIw==', 'price': 249000.0}, {'id': 'MHnitnts5iSCSoo60lq48A==', 'price': 525000.0}, {'id': 'HZs2rvzJI8f/h4pcKtSUdg==', 'price': 1630000.0}, {'id': 've6ITYsZkWATpr08iAR+/A==', 'price': 255000.0}, {'id': 'CqWjYxIJ3eTAdZRSgNg1pA==', 'price': 590000.0}, {'id': 'JL9uh2U7PByt6R3MrC3wUQ==', 'price': 1000000.0}, {'id': 'eodcZFtZWG96TE3ozyU8LQ==', 'price': 295000.0}, {'id': 'zK0Aa9kYsFe7IyPAd5ozdA==', 'price': 280000.0}, {'id': 'aN1a7mzz5IN7GXZ+RxjY6A==', 'price': 415000.0}, {'id': '6q8MVdC/BsFerYH+ILG1VA==', 'price': 3400000.0}, {'id': 'AiDAHt1I0S8pVDEcztZqGQ==', 'price': 850000.0}, {'id': 'LgzbZ2oaKOU97N/mExfvzg==', 'price': 2500000.0}, {'id': 'cz/QEJtN2Ws2+uxL/iDPPw==', 'price': 385000.0}, {'id': 'OaCa7CKb4PhKoRbz6VfV3g==', 'price': 900000.0}, {'id': 'HVAgEn/5edBy5MYZAOHL3w==', 'price': 220000.0}, {'id': '52Qo+/EB1kUwOwUuMoYMrg==', 'price': 490000.0}, {'id': 'PrRryZlG1v9Wo28rWw9I6w==', 'price': 16313650.0}, {'id': 'e3jnkal3OsY8+6Z2yRFjbQ==', 'price': 480000.0}, {'id': '1o+YZKMA2PsL9dDXhfC+NA==', 'price': 360000.0}, {'id': 'gPJVYkuQnwnTlhhTmFCx3g==', 'price': 260000.0}, {'id': '0PtcHdSUYQwe6704GKowTA==', 'price': 25707000.0}, {'id': '7ZCwhHASX21vwZx9QvaZWg==', 'price': 599000.0}, {'id': 'O3FO/o+UHy+zrYSWvFMDiQ==', 'price': 5402000.0}, {'id': 'nLqVjag9f3Xi0+wdEWLgqQ==', 'price': 1550000.0}, {'id': 'R55NpmF332MpXWK1/TJR+g==', 'price': 11127051.0}, {'id': 'YQC1tjP5EwVEh7feOeuekA==', 'price': 242000.0}, {'id': 'U3E+WPnvusuoGegzTSCkig==', 'price': 520000.0}, {'id': '6FBmzh+G51F3BTS1tK5p2w==', 'price': 1000000.0}, {'id': 'RZERyLPsMX2rTNqKndMPzg==', 'price': 799000.0}, {'id': 'GNWiSoIkskqvGuYOfhfwug==', 'price': 1480000.0}, {'id': '1eXPbuPbX7hgSSYeP+iFEw==', 'price': 240000.0}, {'id': 'FM4k5ojmybVP99EDGF1Wtg==', 'price': 550000.0}, {'id': 'SfPPVtAgss/LJelFAukJQg==', 'price': 6000000.0}, {'id': 'Jk7KcFUt9P02e/1YKVkcGw==', 'price': 300000.0}, {'id': 'hPMDrR6tOcJEUcXYP+7w8A==', 'price': 612500.0}, {'id': 'cEsDKmSU/g5/zS/Fd3q/cg==', 'price': 250000.0}, {'id': 'UFtVv8X0cwQa0DpeiIyAgQ==', 'price': 980000.0}, {'id': 'Vck8dyZ9pR/7Z+0qpzVrkw==', 'price': 650000.0}, {'id': 'Qi52aAuTgbRF5BjDvYM17Q==', 'price': 690000.0}, {'id': 'IXIe9NYECFvDQQzA8Mb+iA==', 'price': 695000.0}, {'id': 'I16IoI3G2tOqT7v7BaZX0g==', 'price': 435000.0}, {'id': 'GUC8I29myG/IKy/nnCKEyQ==', 'price': 1000000.0}, {'id': 'faEx2Wkgb1uLWIExFMCYNA==', 'price': 532860.0}, {'id': 'XFOIgNKAfIXG4yrzNG+XVQ==', 'price': 720000.0}, {'id': 'jt1sLLU0hXhjam592Wbugw==', 'price': 540000.0}, {'id': '4RCRegHW5Isz8bOkr1ftfg==', 'price': 390000.0}, {'id': 'aapAYGrkt9pYy75SlkDMtA==', 'price': 550000.0}, {'id': 'aadNFFYJBLoDokII/rniuA==', 'price': 330000.0}, {'id': 'dF2nAID5mD6J/bL4qggLeg==', 'price': 227500.0}, {'id': 'Z6ae5x135q8k2mnb2Xc94A==', 'price': 549000.0}, {'id': 'D/NxO2Kd8LYDQ3zp6rJvpw==', 'price': 610000.0}, {'id': 'kCcTO48To1ijR4cnbcPvug==', 'price': 350000.0}, {'id': 'v2vv8CklSirB3voiNjp0Pw==', 'price': 450000.0}, {'id': '9DypWYDVivuiy8MmZxn5uA==', 'price': 385000.0}, {'id': 'zWbGOCzF697Nrug2cc5bAA==', 'price': 325000.0}, {'id': 'e5d1n8ssI/lVqmox3VDyfQ==', 'price': 650000.0}, {'id': 'jCxoYLgTxFcOU0umfQ3ebg==', 'price': 3500000.0}, {'id': 's3Kw6lDveDDkF7+ybBkRlA==', 'price': 590000.0}, {'id': 'QhjipYk6BWXjYjETuEm6qA==', 'price': 265000.0}, {'id': 'UOcOM/6UqPDZurLnHdAnWA==', 'price': 250000.0}, {'id': 'JuYxGnSAI2Z6SQBbskuNBA==', 'price': 300000.0}, {'id': 'FVz2XpIPQ6DvC1kfbJOBzA==', 'price': 349000.0}, {'id': 'H3xnXspSc1JW2GC/FPQ9Zw==', 'price': 699000.0}, {'id': 'ovMckWHqTS4BVjA0f5Tj8g==', 'price': 275000.0}, {'id': 'cjr2X+UsueiC8wTBgnEUtw==', 'price': 830000.0}, {'id': 'Ax79ARAoo1yP+u/wqGdEEg==', 'price': 1800000.0}, {'id': 'm73Ws9utYj/bZhR6ngRFaA==', 'price': 250000.0}, {'id': 'b1Z6kyzvTLFgx4Ei6DSaPA==', 'price': 450000.0}, {'id': 'NTcBGbw4rhYOjNPFs4DDQg==', 'price': 1190000.0}, {'id': 'OCsIuIJJURcwCgnnfuiP9Q==', 'price': 300000.0}, {'id': 'nUVETpoYjozQaKr/AcbinA==', 'price': 520000.0}, {'id': 'XLCjad4E8So/pEqRrD/GGA==', 'price': 330000.0}, {'id': 'ArtlGnSTRWw3a2vtm+RIng==', 'price': 580000.0}, {'id': 'bJWzOWh2sq50T6LOu5Gfew==', 'price': 830000.0}, {'id': 'GJ0yZm8wpzC4jOfTNfz0tw==', 'price': 448104.0}, {'id': '4tLPesLcuHlvvmabwBbghQ==', 'price': 965000.0}, {'id': 'G58Q5Jur+VxLbWXqSuJ/tQ==', 'price': 850000.0}, {'id': 'TtV7qbh1/Vl7Zog1TCvFbQ==', 'price': 750000.0}, {'id': '319PioZTAQYmfzdBPIWHtw==', 'price': 780000.0}, {'id': 'p4QtSeddOXgPGAkWLCvWIA==', 'price': 9019800.0}, {'id': 'S0F8yI4wTpXK8RFX2klVmw==', 'price': 3800000.0}, {'id': 'dWKDU/iETMNi4EOO5Ss2eA==', 'price': 250000.0}, {'id': '9g72kJBJwE1D1yd5ffS5qw==', 'price': 253000.0}, {'id': 'nyUDqIi9dqhCw7HERdwT0g==', 'price': 700000.0}, {'id': 'V3DLmySd7sIfcWqPw7xGsg==', 'price': 5950000.0}, {'id': 'q3QXS4K+hnvT23spDcS27Q==', 'price': 585000.0}, {'id': 'XEC1OHwcjuBenyaDe19z/A==', 'price': 510000.0}, {'id': 'Y8p6TDovDzs24ybVc2w2eA==', 'price': 820000.0}, {'id': 'h+GOJTMvb+sBm6yEFc5tag==', 'price': 270000.0}, {'id': 'jRnk/RtvleHY0sLk6KXzjQ==', 'price': 750000.0}, {'id': 'wjROWyZ60hRzNtvoFXN4rg==', 'price': 370000.0}, {'id': 'v/Nzk6YqQgbEFDTH9y7viA==', 'price': 780000.0}, {'id': 'hpWYJhjX4ZMRxqAJyQteeA==', 'price': 11206849.0}, {'id': 'n51Clv/8ISi23X5FFXpkCg==', 'price': 490000.0}, {'id': '3JXlGt2y7l57sCrn0WYG0Q==', 'price': 270000.0}, {'id': 'NvAmRG7yCGyIaXxGJ4zHGg==', 'price': 319000.0}, {'id': 'DAg809djIWET62ya5wAi/g==', 'price': 650000.0}, {'id': 'PokjrxSiNSsXI9W1g8rHUQ==', 'price': 720000.0}, {'id': 'MNw1m2Ol6xa8MxH9/seF5g==', 'price': 470000.0}, {'id': 'br7J5we2zrlPLRRpGj4YhA==', 'price': 470000.0}, {'id': 'APpb3wUF8ZzAWiR5CXSSTw==', 'price': 400000.0}, {'id': 'Jfdu3OsgNGNySQWNWZQvag==', 'price': 930000.0}, {'id': 'ESyxORdELaZYnPcseOsABw==', 'price': 830000.0}, {'id': 'JcuJa6f5ZEBunr0d3aThWA==', 'price': 319000.0}, {'id': 'evEPkZL2HlCHyxezmgj1cQ==', 'price': 1200000.0}, {'id': 'oJxkDYY51dfKmCeEmn+u4Q==', 'price': 880000.0}, {'id': 'OzpoknkR18ud1TQtJIzk0A==', 'price': 2200000.0}, {'id': 'IWbf36+YfJB2F3x822h0UA==', 'price': 255000.0}, {'id': 'oHHaUA1ZE+j/Ue9+nNXgRA==', 'price': 420000.0}, {'id': 'R/283Ntiqgk2t3u78l7QWw==', 'price': 550000.0}, {'id': 'JROZsQyRgNeWuwiToWTwkQ==', 'price': 425000.0}, {'id': 'obcGVde2ljz7dK4/GtntFQ==', 'price': 850000.0}, {'id': 'DCKmIbZTlPwQ0jGCIyIcbQ==', 'price': 268000.0}, {'id': 'KXKexQ3CiqHowcWRBmaxYQ==', 'price': 1650000.0}, {'id': 'pZmGBsSyf/awx7OcVRGutg==', 'price': 780000.0}, {'id': 'c7IWmv8D7woyzsozYqtD1g==', 'price': 11241342.0}, {'id': 'ObY8INRpRNk+voDi8Mqu9A==', 'price': 7979620.0}, {'id': 'CR5t60TZNYJA/YRnvjPbZg==', 'price': 550000.0}, {'id': 'QZVsGZMYd53T7FDe8O0WEg==', 'price': 11924179.0}, {'id': '33CcbeREtEenjgTv+OPjYQ==', 'price': 1100000.0}, {'id': 'HkrDDW3RuajUrvnLPlW5+g==', 'price': 690000.0}, {'id': 'MhMnPDcMoGg/gAKAcQR4UA==', 'price': 289000.0}, {'id': 'oyFgQO4O6cr90xTtr6Stuw==', 'price': 1050000.0}, {'id': 'EVa2ZfrZkjn/RSa2ZPVoUw==', 'price': 555000.0}, {'id': 'BDutrTAjbSyj9yA+OddYXg==', 'price': 550000.0}, {'id': '3QS9LATnDb+yCfGHDmczww==', 'price': 750000.0}, {'id': 'L/Xlc5OA7kDmAC3WX4RFCQ==', 'price': 1200000.0}, {'id': 'fr4niNJd1WEkYF4T31j0jA==', 'price': 270000.0}, {'id': 'F9mCB9WOUyMnu69Z9cGcJA==', 'price': 480000.0}, {'id': 'fdqhiwv0zUGuFxHmGBKisA==', 'price': 900000.0}, {'id': '3eDzQwqxt5ELG2ef8153xg==', 'price': 1620000.0}, {'id': 'Pn7TJUAF9GzbcrvEKOk3TA==', 'price': 800000.0}, {'id': 'Ru65c6zPlxmAheYUFKuBaA==', 'price': 695000.0}, {'id': 'vfFu26AcF3TbnQf9xrBA6A==', 'price': 6246800.0}, {'id': 'W5HA5+QO358eXoNUQMOqsg==', 'price': 320000.0}, {'id': 'v2UUIavOtTIXTGB7x8SxQg==', 'price': 265000.0}, {'id': '0Pg/N832vO1IbfriM6gtuw==', 'price': 1150000.0}, {'id': '5jhUfdS0O9GuAg3d9N+vBg==', 'price': 660000.0}, {'id': '8pWCHLVlp/kHiZ28JUZnCA==', 'price': 448000.0}, {'id': 'UFclzUSPC9pe1G25fQmM+g==', 'price': 295000.0}, {'id': 'p24IJhQFCxTyAHV+chp96w==', 'price': 270000.0}, {'id': 'sFMjHZSSRH2OKokeYfwOng==', 'price': 262500.0}, {'id': '1EkwBeZVeWd9zvNQEoI/dQ==', 'price': 560000.0}, {'id': 'z9OKdfLrHE3fmwgjUHvIMQ==', 'price': 300000.0}, {'id': 'RxAhDiaVAL9ebNxyz9IlbA==', 'price': 250000.0}, {'id': 'rgQa0YIvkDlktScihLdRjQ==', 'price': 475000.0}, {'id': 'm69brHkurBP+FGgzPeu5MQ==', 'price': 560000.0}, {'id': 'UnraCDVgD59+Z73cRtPW4g==', 'price': 700000.0}, {'id': 'at2U2vaBvKwiYAsexUJUmg==', 'price': 480000.0}, {'id': 'L6ZXx2uyM6VG2VmURX/wRg==', 'price': 470000.0}, {'id': 'aQCGdxccxA5aMzuRTj03qQ==', 'price': 260000.0}, {'id': 'oPHUAzwGOxWjOGzENh2XMA==', 'price': 1400000.0}, {'id': 'dHzuSbRl8bS/MaR8yMli1w==', 'price': 420000.0}, {'id': '1+sUJ7ta5nNm4uuIJDg4zw==', 'price': 620000.0}, {'id': 'QhBombIIeLjh0CySO3Eq6A==', 'price': 14985286.0}, {'id': '7zgMHMa04ZX+mX00BWFLSA==', 'price': 294500.0}, {'id': '6t/3CVRxXDg9TgpG1ywwXw==', 'price': 930000.0}, {'id': 'zhzQiLD5ZzWje7qeJk6IEQ==', 'price': 3000000.0}, {'id': 'Jj4QsILqh9qJr/UfBA2P+w==', 'price': 400000.0}, {'id': 'ErzX3/ztOZq2lQVkp8W+jw==', 'price': 11284952.0}, {'id': 'jcidAHxxg75ghtMkyMk/ZQ==', 'price': 650000.0}, {'id': 'wS83p4yqgR/MDkel2+WtYg==', 'price': 725000.0}, {'id': 'ZZPQNjYQB61M1pYddMLvsg==', 'price': 1100000.0}, {'id': 'J43mVTM7HUiJij7QMHM7NQ==', 'price': 373000.0}, {'id': 'PDXbbdV0ND3fzf4f+OCaMQ==', 'price': 525000.0}, {'id': 'Vs3tnK/burmBzEaYfU3y0w==', 'price': 790000.0}, {'id': 'nGaRcVucXi57kanCunlRcA==', 'price': 339000.0}, {'id': 'IvC/UTVZ1IXYp9SeBAPPsw==', 'price': 320000.0}, {'id': '4+COe32oKOLyU5U220TkiQ==', 'price': 750000.0}, {'id': 'b+7H5ByCQKj9nO3F0aAv3w==', 'price': 530000.0}, {'id': 'PKoNvDGuoSYAPndH/XhGPg==', 'price': 759000.0}, {'id': 'DQY5esmahYFuC5LzMytJiA==', 'price': 615000.0}, {'id': 'eceSAVTo35RmdxhOL8cFFA==', 'price': 720000.0}, {'id': 'OlywOkfDgXZBeif5tzCAIA==', 'price': 1750000.0}, {'id': 'Zqcyd6wy598HhHc2HWZ36A==', 'price': 290000.0}, {'id': 'niK1c/k+rY9b1FE8MYsQSw==', 'price': 275000.0}, {'id': 'e6+ah7QrMItB0TeP6jHK1A==', 'price': 11000000.0}, {'id': 'cSabITNTlY0zUEXWJxGC9Q==', 'price': 295000.0}, {'id': 'fH14NLF8PlCzYULUbmpsIw==', 'price': 1000000.0}, {'id': 'CemaJERm1JTY0N15kLFhag==', 'price': 285000.0}, {'id': '6zgZAwpGbNEd4qhz12brGQ==', 'price': 1400000.0}, {'id': 'hzlJM44Vldp2vJ44FgkPKg==', 'price': 825000.0}, {'id': '52CeAM51NW8WVkZngHH4nw==', 'price': 1450000.0}, {'id': '/TCipI8CXRyiSiDyuieI1A==', 'price': 2000000.0}, {'id': 'OIHV5H1XlLigpxk31sYDYA==', 'price': 8964000.0}, {'id': 's5GKbnXpgNRXEBkmlR4/LA==', 'price': 520000.0}, {'id': '1opzdxbDtb8co0RTdzZlUA==', 'price': 627000.0}, {'id': 'llZftsv7/GpPd5bPweFgGw==', 'price': 430000.0}, {'id': 'hyrSzHfNJeUoNrcWgUHlcg==', 'price': 650000.0}, {'id': 'DTkGyYc+6Lv31rgNY4uhDg==', 'price': 560000.0}, {'id': 'XF8hK4je4u4bpnj5EmON0w==', 'price': 10080238.0}, {'id': 'tBjFclI/S7qeZ8HtJ5o0Fw==', 'price': 11590000.0}, {'id': 'KZbffp8+fH+Y78AMjwlDaw==', 'price': 3760000.0}, {'id': 'qFfAHFjUzwFEj8nUtUl3Tg==', 'price': 280000.0}, {'id': 'xBjPpN7cB1oOwlHgyGO+Kw==', 'price': 490000.0}, {'id': 'MvZcmeETxaPB9jsrcKArdA==', 'price': 199000.0}, {'id': 'BJOd+FLu7q0Dr9038TOj/Q==', 'price': 15188500.0}, {'id': 'p1BHVpjZ7za1RMx/ksQ5GQ==', 'price': 680000.0}, {'id': 'QFtppcCF/aX4nVDEyqBwhA==', 'price': 790000.0}, {'id': 'rWjjxhe2gFvRgDQ1GR8nzw==', 'price': 260000.0}, {'id': 'H5oOyw06N936KweXQ2fNmA==', 'price': 235000.0}, {'id': 'KbEpfZp+GqyB/A4vSqsBBw==', 'price': 699000.0}, {'id': 'qoRmq/YnfYMQJSTTmVzp9w==', 'price': 302000.0}, {'id': '9MS0oMHgAbz3nriNJnZ2Nw==', 'price': 990000.0}, {'id': 'KaKM7kYXJPlYp9N8UU9z5g==', 'price': 273000.0}, {'id': 'OhikFxOcD0iVRFLQm7H2og==', 'price': 649999.0}, {'id': 'IfqxkCAs3ZdhaWEZRs38hw==', 'price': 249000.0}, {'id': 'llVagWnUUAUsx0I2GFELlA==', 'price': 240000.0}, {'id': 'QvevPxIU4EZNW/+0iaB5Qw==', 'price': 550000.0}, {'id': 'FQmxcPisjeFLC6gkLZWV2A==', 'price': 230000.0}, {'id': 'h16+gxVKmkUaZODCK8Ph2w==', 'price': 359999.0}, {'id': 'AwFgjNEAWhmuhnSIyEF14w==', 'price': 448000.0}, {'id': 'FJ2VARyUdB8QOFaJm+fbiQ==', 'price': 299900.0}, {'id': '1T8vpP50bcoJxdH6vD7Alw==', 'price': 300000.0}, {'id': '6hNFUssqYuw+A7+Cv3dP7w==', 'price': 489000.0}, {'id': 'uR1lJassGt2thLa1MaWmdQ==', 'price': 1800000.0}, {'id': 'QyQDnTegfEA3NQDCdhgRKQ==', 'price': 570000.0}, {'id': '6h8Dz4ejo2HfCexumlUk0g==', 'price': 330000.0}, {'id': 'JkS0jZry2LO9JPjOa7YHdg==', 'price': 608186.0}, {'id': 'M9wBfnR36ijoMNOE22RLgA==', 'price': 2700000.0}, {'id': 'tYPVOgT0lOxnbsvCI7qQ8w==', 'price': 240000.0}, {'id': 'a12Dn6Id0S3e3A/uHNCtHQ==', 'price': 1250000.0}, {'id': '0AIcDcUSxDNP7dKyx5aYNg==', 'price': 1150000.0}, {'id': '1tA3+bdeG94Vug7MiyOboA==', 'price': 1270000.0}, {'id': 'hRaZTbcERlBRdpt6QD/a/w==', 'price': 8208000.0}, {'id': 'jmyhFdl7q9pXmKl4tZUFJA==', 'price': 240000.0}, {'id': 'vGyEa5GxcOxNKXTA/gCPUw==', 'price': 450000.0}, {'id': 'jH6qqv2p7FIhpaKdymmknA==', 'price': 245000.0}, {'id': 'piBU2vV0S8tBShmg69xBiA==', 'price': 239000.0}, {'id': 'unmQ5ZYhcjFEw/A7KxxeIQ==', 'price': 775000.0}, {'id': 'Tynqh1CF8EYZbBvGEZJqEA==', 'price': 1190000.0}, {'id': 'tYJItWzAutiZS6hiaiXfxg==', 'price': 980000.0}, {'id': '/DJOqD49WScAP2dokkgqLg==', 'price': 330000.0}, {'id': 'kanXn0IpEEDIBNvo1zpOHw==', 'price': 640000.0}, {'id': 'UHd+jiY8PHk81hnL1sSXvA==', 'price': 540000.0}, {'id': 'NE8l1d2awF81IVWyNOZFTw==', 'price': 290000.0}, {'id': 'Y5OP3daUzJKDcMxlNv8bUg==', 'price': 475000.0}, {'id': 'rb70V6ndStgnXG7fUuTzzQ==', 'price': 310000.0}, {'id': 'R2SXfj0kWRvoEod6M+jt5g==', 'price': 970000.0}, {'id': 'DN58Iy82qQLi03lcPRUeoA==', 'price': 360000.0}, {'id': 'Umv4hTaXDFUo0FzfC7hwzA==', 'price': 510000.0}, {'id': 'LwiV2o17sdgSg09Gw2OynQ==', 'price': 700000.0}, {'id': 'jPympyebDr4UFjhi5DHqmQ==', 'price': 490000.0}, {'id': 'ehwHTDcMjt9DAW/+uSUiHg==', 'price': 433000.0}, {'id': 'HdpOKESo3VFUiGwI1FNu9g==', 'price': 250000.0}, {'id': 'sbAVqJQD8EyJukIAIPUnwA==', 'price': 290000.0}, {'id': '0iJUj9x647IXaD+EOILarQ==', 'price': 840000.0}, {'id': 'NSEnA1l6rsK2D8qvdgFD1Q==', 'price': 580000.0}, {'id': '3uUhC/d156/6XatnRDUhaw==', 'price': 1200000.0}, {'id': 'Y5PdJZyu2PP4Na0vEzw69w==', 'price': 1180000.0}, {'id': 'a29J0yDgw1SlMlYSzqBlcw==', 'price': 255000.0}, {'id': '91sme2MGhLf9YNbgbUiSaQ==', 'price': 1111111.0}, {'id': '5UTgBcyfIXrCGMqylQrZiw==', 'price': 710000.0}, {'id': 'WonJ2z+WLlNrn44ipq44WQ==', 'price': 439000.0}, {'id': 'N6MzwpxC973JF9dETt5FyQ==', 'price': 1300000.0}, {'id': '4OEaaDucHn0t0BjNRQBP6w==', 'price': 328000.0}, {'id': 'l5hm1peCJvOBZArvEA4prQ==', 'price': 540000.0}, {'id': 'd/PAI17lK/gte/ZjLqkS9g==', 'price': 1160000.0}, {'id': 'Z/OO98UoJRWc7R0OlDq5Kw==', 'price': 14465476.0}, {'id': 'eYVtOjYBKrBOx97WIyPJqg==', 'price': 500000.0}, {'id': 'sdtt4PL6B382gQBYvmMduQ==', 'price': 997000.0}, {'id': 'akIkw7nhFWN2Qwl9f79UsQ==', 'price': 580000.0}, {'id': 'EZc8faApe8TtkXwNXzL7WA==', 'price': 1250000.0}, {'id': 'tXmbeRWw62za/MBCvOqltg==', 'price': 600000.0}, {'id': 'iHX/WkoiwFHPP+y9uEkH+A==', 'price': 295000.0}, {'id': 'a+U1kO/bimY4oAA+YqETrA==', 'price': 450000.0}, {'id': 'AUk4ai4Zdehl6RBoV7aagA==', 'price': 1240000.0}, {'id': '5sXsWKikJRPGyT3HWC5YJA==', 'price': 260000.0}, {'id': 'q7XOOykJiqfLc9YS2wmr/g==', 'price': 790000.0}, {'id': '0gp+9J+ghxKIJUPJJsNs0w==', 'price': 900000.0}, {'id': '4zdRQMmUhmJjFUDQICKx5w==', 'price': 990000.0}, {'id': 'EKKNZMZGM1Y0clVcetTvqg==', 'price': 980000.0}, {'id': 'y3aCydCrYcZBxVGbqj6ESg==', 'price': 730000.0}, {'id': 'X53VrRIqBwYQRLnyui++iQ==', 'price': 260000.0}, {'id': 'XVJF0iDfuo/pqWqef/ppoQ==', 'price': 449000.0}, {'id': 'iI4HRRXis7zA9STRzF2/2A==', 'price': 560000.0}, {'id': 'Hv6XfXyBAFIgoLGzs8VxOw==', 'price': 810000.0}, {'id': '83XMI3j1Zb0nH4SVYlT1dw==', 'price': 510000.0}, {'id': 'G7Z3aoXSxyFLejO9uV0qiA==', 'price': 650000.0}, {'id': 'stheKLAegjOgR+BkZuWMmQ==', 'price': 11284952.0}, {'id': 'OhzqBxQDaPJ3RNG+12g5ag==', 'price': 650000.0}, {'id': '26wXQMIC6UJ9ELHODyJ9Xw==', 'price': 580000.0}, {'id': 'mUvEq0asMvoaH6l9JtkRKw==', 'price': 490000.0}, {'id': '0zrU6+OTFy5h+N5RgdcznA==', 'price': 690000.0}, {'id': 'poAHqdkeqXXjCCLF2QFzcQ==', 'price': 490000.0}, {'id': 'UmZYpLiBIC/lzP7EObTOIQ==', 'price': 7605636.0}, {'id': 'FF7MOd34ukBvAnVu79mpiA==', 'price': 670000.0}, {'id': 'VQbnvsJXLmXvfKZ/zUMyYw==', 'price': 564000.0}, {'id': 'Z51f6qLINlEVhcfyXG49Lw==', 'price': 350000.0}, {'id': '2XRyYQyebC6R7AJHtehctg==', 'price': 337000.0}, {'id': 'srXca8/08JLo/LKF3Aky6g==', 'price': 1090000.0}, {'id': 'gDzcSPJu/2KkV6krw9mINg==', 'price': 249000.0}, {'id': '6yXOpUYmG9/E5mqOI8nUOA==', 'price': 255000.0}, {'id': 'L5N6m+nkQbWIm4HWhsZa6g==', 'price': 1700000.0}, {'id': 'Y3HiaIRY0z6dN+SxvFg1YA==', 'price': 480000.0}, {'id': 'M59GcUKF7niLr/P6SBAL4Q==', 'price': 6500000.0}, {'id': 'J0oMybX+pLcWyRFOEMdrAQ==', 'price': 450000.0}, {'id': 'wXhM45DyLnBeYgb2Ivhngg==', 'price': 950000.0}, {'id': 'TGueLZk0r/UjNRncXub1EA==', 'price': 850000.0}, {'id': 'C8Am5+nVExPBjQRzGsXWug==', 'price': 550000.0}, {'id': 'J7TSCcgNRA8hAhh8fzm1dg==', 'price': 1900000.0}, {'id': 'koydoaaR74nII/G9pfZUDg==', 'price': 1050000.0}, {'id': 'g2Adf9HEg8tMepMHN5ejlQ==', 'price': 700000.0}, {'id': '5ozX+2T+gbnPgi2PS6sMCg==', 'price': 230000.0}, {'id': 'F+7HmdxCWj6vcVlRzOCJyw==', 'price': 700000.0}, {'id': 'rzCuX2J7KAVMpAHExEdFFg==', 'price': 1200000.0}, {'id': 'MJJnnNI6Ny/rjOQ98xtmmg==', 'price': 268000.0}, {'id': 'y3P8oB1TiZ1BLAg6U2dGsg==', 'price': 448000.0}, {'id': 'Fzp8pvv4KQCfDQsJRh3fsw==', 'price': 780000.0}, {'id': '0WKHfuCuAJSSy0pEG4k0hw==', 'price': 2670000.0}, {'id': '2kxH427ChKrn0CJ3lbYsZQ==', 'price': 16374283.0}, {'id': 'WNjyRvg65mGygrwGQsUTlw==', 'price': 290000.0}, {'id': 'zR8ajTFj6LAdvIQ6O2VHCQ==', 'price': 430000.0}, {'id': '0JnqtKElE/GtL3a6/olLFg==', 'price': 297546.0}, {'id': 'ROn+0JNRgdBFuADp1UHY4w==', 'price': 590000.0}, {'id': 'NzYjj60COX3Kz2MEr8Cv4A==', 'price': 485000.0}, {'id': '7V8fnCDorQU1TAmjQ3Q4hA==', 'price': 380000.0}, {'id': 'qJM/F0VJL58mrdCP9G1wdw==', 'price': 790000.0}, {'id': 'co3p2mtOoFebH28EjkEEtg==', 'price': 600000.0}, {'id': 'JvvAzGmVJLngH97XLBg7gQ==', 'price': 550000.0}, {'id': 'QaXyKdlI73q1anlppmWyCA==', 'price': 550000.0}, {'id': '/L6uTc7itWS4Fp241Nf3xw==', 'price': 7420000.0}, {'id': 'zrVskrfJWpConQ9+lll2rQ==', 'price': 1200000.0}, {'id': 'QxFdOj/Q555JOnFtXGWgzw==', 'price': 610000.0}, {'id': 'zuJyfeMIqJ+RIYylZLhMCA==', 'price': 720000.0}, {'id': 'Bo9QLyMflxwsYlvu1GXSyw==', 'price': 860000.0}, {'id': 'nptZlEYs6IvibxcLBve3rg==', 'price': 790000.0}, {'id': 'f7y45IK0Z1LJWs1x1eAqDw==', 'price': 670000.0}, {'id': 'wZbIMYx0Y8ybv9UgjQ5JVQ==', 'price': 1400000.0}, {'id': 'vaLOI4f2uwrdikcGfQcL0w==', 'price': 11284952.0}, {'id': '5vX8MRKd/atQawMFwwE7qA==', 'price': 780000.0}, {'id': 'jia0r061K3bw5GPCHag4/Q==', 'price': 1175000.0}, {'id': 'F8rGO1bv7Kiw3nQ1vM1H0Q==', 'price': 6706400.0}, {'id': 'HUAizeoVZqrSGudU64TE5Q==', 'price': 1280000.0}, {'id': 'B5XwuTUAjqRV8Jmtx8RzQQ==', 'price': 310000.0}, {'id': 'JujqZEQn8GNCSREB1gqI6w==', 'price': 680000.0}, {'id': 'wmDOzCgIX0sxd+w2p5PrPA==', 'price': 8000000.0}, {'id': 'rZQazOQiOMDvqN+hsBNQiw==', 'price': 3000000.0}, {'id': '3/O++J7fdfqccscECYY5lg==', 'price': 439000.0}, {'id': 'gxZvC4B8aHACIY0OsVnVEw==', 'price': 235000.0}, {'id': 'OYBZadYr/RRbeS8D0cZhpg==', 'price': 360000.0}, {'id': 'VZ+k3rQWzsv359LctSsZnA==', 'price': 1090000.0}, {'id': 'VkuyDeEN2E7vsykvTnlwYg==', 'price': 1840000.0}, {'id': 'jH9zJHfP787ZcebGnpaO2w==', 'price': 400000.0}, {'id': 'BiLBYHs25w13yD/8c4uEdA==', 'price': 730000.0}, {'id': 'f59/v8VyDKfRUva6TaGUkg==', 'price': 690000.0}, {'id': 'V1CoCNBxjZrGK5JoQ4+q7w==', 'price': 2800000.0}, {'id': 'bzYwA/fklSH/AI65Xc2ViA==', 'price': 780000.0}, {'id': 'APoxQ3js+hohlIQRGQ/E/w==', 'price': 1350000.0}, {'id': 'ugWoFhoyiXEILqnxS7akHA==', 'price': 720000.0}, {'id': '9MSUXjf/Fgnczm2YK6hxmw==', 'price': 239000.0}, {'id': 'CaxIy9RMa7i1Vsx+8FpfPA==', 'price': 430000.0}, {'id': 'hjMKVZBk0aPVcO7SHtGRVg==', 'price': 1050000.0}, {'id': '2CIlmQ4SnsfpVBm3Bc9rGw==', 'price': 263550.0}, {'id': 'S2I6v1C5wIh0UNBzqpeONQ==', 'price': 420000.0}, {'id': '7UHQYTfOjmH6oPfD1dybZA==', 'price': 265000.0}, {'id': 'rOoHS/cWBIdCGwOvGz1eow==', 'price': 690000.0}, {'id': 'R1pSWbvwNAbY21qwRLoT6A==', 'price': 1250000.0}, {'id': 'JADJa9r8GNmDLzN3EDiPJA==', 'price': 1111111.0}, {'id': 'zrB/SL3dfC4ruY9IHgtxtg==', 'price': 650000.0}, {'id': 'Bq0LP4Vdmv294TQhaIR0uA==', 'price': 16495352.0}, {'id': 'PS83bNj6tqWYkYFxbw4T4g==', 'price': 1430000.0}, {'id': 'wlLD6quw5wikdCmbKpkH3w==', 'price': 510000.0}, {'id': 'bkdwgTpEPSR9n285nFVFvA==', 'price': 500000.0}, {'id': 'ALRNPUjdOjwQDVKJPU8MkQ==', 'price': 5316289.0}, {'id': '6oyFqP9888n/yWWQ4w4QJA==', 'price': 552000.0}, {'id': '5c2h0jwYMPIQYXaCmJELwg==', 'price': 398000.0}, {'id': 'E8YCGwuOk1+NSj87CmuNSg==', 'price': 420000.0}, {'id': 'XIKTHyq21lgLWuEbjdDH7A==', 'price': 380000.0}, {'id': 'Xidw06Gy+0tQdp5YTmPrig==', 'price': 590000.0}, {'id': 'wlUd8+3CakKq/GKIoFi7PA==', 'price': 450000.0}, {'id': 'Wioc+2K2ekQkzXnU8HQM3g==', 'price': 245000.0}, {'id': 'y4BQ1ECRiSYBPLiGYiBMqw==', 'price': 250000.0}, {'id': 'hqcwgPQAC9Mdd5RmmDSMfQ==', 'price': 270000.0}, {'id': 'hFVfrjPB5LTaliF3UukQsQ==', 'price': 1150000.0}, {'id': '/rM5pS5U3xcRV4yEL5+kjg==', 'price': 630000.0}, {'id': 'Wr60pr1d92w+TOh5N1T1JA==', 'price': 278000.0}, {'id': '8VjJ3kvrx8QnPkNUGKXrAQ==', 'price': 480000.0}, {'id': 'Ov0JYJPYaon/UxhPoavFYQ==', 'price': 300000.0}, {'id': '77nPl7kx7UoVLgGR2eqv0Q==', 'price': 420000.0}, {'id': 'aTxA3L5ck+WP2DfJWe7Ugw==', 'price': 480858.0}, {'id': '2nz/PSBQkl8jeXclHHMt6g==', 'price': 385000.0}, {'id': 'npH9jhBH8b0KweQVqbJv7A==', 'price': 1700000.0}, {'id': 'rTt70aF5Krs53izJaxSyUA==', 'price': 285000.0}, {'id': 'pmKhzSvQb5zjmJYsW81Nlw==', 'price': 323824.0}, {'id': '2n9exyr553R1IFqzPvNoiw==', 'price': 1150000.0}, {'id': 'GRUbzJ+M+oGhhAJj91T4lQ==', 'price': 672000.0}, {'id': 'IZvdyPM2DJPIQMBVmd2zug==', 'price': 650000.0}, {'id': 'ijJrI+tOeHNEJ+0Hou7R0A==', 'price': 990000.0}, {'id': 'chfEb89Iegi3bMBU5BDT6g==', 'price': 890000.0}, {'id': 'FDuTxcJsQDRXxsaieoygOg==', 'price': 260000.0}, {'id': 'pA/i134ncc3rdCaZeNjO7g==', 'price': 550000.0}, {'id': '3yyjKV7r4Um4cbwlOjGXfg==', 'price': 260000.0}, {'id': 'eeUgwx0H5RbIQXmMzcfmjQ==', 'price': 1500000.0}, {'id': 'fGf8xEx2/7ewgC7a/nF0Vg==', 'price': 450000.0}, {'id': 'kwqVmicRFAemC1xf11DB3g==', 'price': 290000.0}, {'id': 'WJSPaLiMdC9eODOPZ4GFNw==', 'price': 525000.0}, {'id': 'UJu5X8Ksq4k9Y4GndoRMIw==', 'price': 420000.0}, {'id': 'a4vPA3R81wllQjMD7H3bHw==', 'price': 355000.0}, {'id': 'zimkMBFh3uRswSVTG0bTNw==', 'price': 420000.0}, {'id': 'jqjSWFMk71nlwcFzzf3m0g==', 'price': 280000.0}, {'id': '9OAJdXJbXncQJuG+g0HBBg==', 'price': 670000.0}, {'id': 'c+ZKr6UWKOcnTJx8CXCAfw==', 'price': 435000.0}, {'id': 'sVZXM5c6KHGyemBFi09XYA==', 'price': 430000.0}, {'id': 'HPvH4t6vhJc3VBYchf+Bzw==', 'price': 250000.0}, {'id': 'r8ctH3cBcubQUGLGZz30rQ==', 'price': 225000.0}, {'id': 'jhdAKzUdusifJm7aGxEDxA==', 'price': 315000.0}, {'id': 'hLRorE4Kkr60cnvaEvPJzA==', 'price': 235000.0}, {'id': 'tjDsnRheiHk8IDpiZpohYg==', 'price': 395000.0}, {'id': 'fdvAbMZs43TwlVcBN8/3eg==', 'price': 12240000.0}, {'id': 'jZNJs03EvdT5dhoodZKKbA==', 'price': 630000.0}, {'id': 'DE3u7/RZrGi51N/BenzdkA==', 'price': 680000.0}, {'id': '3Avn9SEzQxyVvZNWPid0Aw==', 'price': 750000.0}, {'id': 'ZjF8SVXGMtKlcLyYx6Ln1Q==', 'price': 414900.0}, {'id': 'OOg+0KoQE05dyvHlbyflEA==', 'price': 520000.0}, {'id': 'ZqyWkT6V1iG+1leTdQutnw==', 'price': 590000.0}, {'id': 'qwbGV/2IXx4d0r+plbgnyg==', 'price': 10881000.0}, {'id': 'qjaK/v28fJ/HOvmlBeAmXg==', 'price': 10285958.0}, {'id': 'T8+cl5CDqv1sOn+NW7K+bQ==', 'price': 275000.0}, {'id': 'BCDYpw5+/NL261ztMuAA+w==', 'price': 2800000.0}, {'id': '0rofXlNeoEItTJqqi0AAYA==', 'price': 380000.0}, {'id': 'NV3iuB/T3UGJRg6OwRBYGw==', 'price': 440000.0}, {'id': 'vO79oI5JJTxOpLZlNTxGDA==', 'price': 285000.0}, {'id': 'cT0bzzKBXcvwvqDQIPJtDg==', 'price': 349000.0}, {'id': 'E3qHhFBnfNw5f2PvB+1fMw==', 'price': 785000.0}, {'id': 'JPZcYQj79LBLULIg3+pIlw==', 'price': 562000.0}, {'id': 'w0RAYibAMn5X9jECrQ+SLw==', 'price': 1250000.0}, {'id': '8A4YFyWmMYbDMu29fUjxDQ==', 'price': 1290000.0}, {'id': 'VPsBZuX8vxxjXUrx/2O8kA==', 'price': 420000.0}, {'id': 'S1GoLThUyLoTgkLhaUR94g==', 'price': 10039808.0}, {'id': '0WaGQhRHe1CJ3P3T5tU9Yw==', 'price': 305000.0}, {'id': 'lb65N6v+tUCsEgs5zW9QMg==', 'price': 1300000.0}, {'id': 'ykhYRVeg59n0R8UkJUR95g==', 'price': 686000.0}, {'id': 'ilS44WopPwRt+EgAH6rp2A==', 'price': 800000.0}, {'id': 'Ua0E2YPNT5cgci2GhE08VQ==', 'price': 420000.0}, {'id': '/OzVNHY1SPcJbaHzDMdLfw==', 'price': 560000.0}, {'id': 'Vjy2k3px7UF30H5c4a9FjA==', 'price': 7200000.0}, {'id': 'eA4E22v0t2mi2+QLaPYb7A==', 'price': 445000.0}, {'id': 'mzkvtd0+Lph3DPEWB8zMRw==', 'price': 239000.0}, {'id': 'Pt3RQz4idt+fm9w5l8S9Rw==', 'price': 265000.0}, {'id': 'tVTLB1YFqxxHgBS95N5pLg==', 'price': 700000.0}, {'id': 'RL7w22UTm3KWH4tQidbSng==', 'price': 265000.0}, {'id': 'HERw8VHUbWu0mQp+CRpJeA==', 'price': 900000.0}, {'id': '5yXxogCYNelPkOFVXpg5+Q==', 'price': 486000.0}, {'id': '6LNFq0GoXiJhhKRqAsVc5g==', 'price': 1190000.0}, {'id': 'UjMzUjU8ldjmzSfkqQvWHg==', 'price': 760000.0}, {'id': 'IhYQB8hVtb9LBFb+bjTIjw==', 'price': 1500000.0}, {'id': 'cI6mIkx/gHAbZW5zvC+VrQ==', 'price': 10070000.0}, {'id': 'gNhyzTlk7SATG9GHgTs0tg==', 'price': 1199000.0}, {'id': 'G1LLF0gFnmRgJi+6BshNqw==', 'price': 249000.0}, {'id': 'CWBb8/DcA39KVHi3Gllm/Q==', 'price': 440000.0}, {'id': 'KmJcqo6+gFgTjpfxNktwWg==', 'price': 520000.0}, {'id': 'tG2CfPxQYxi7lXkm5d/6Uw==', 'price': 490000.0}, {'id': 'HhGU+2G2uGjC/eIOuDfFYQ==', 'price': 750000.0}, {'id': 'QmXyZFIDiGyPJemWER4FcA==', 'price': 900000.0}, {'id': 'RNrV3QmaV2XkZZiZr16LRQ==', 'price': 630000.0}, {'id': 'WgZaXZSCCtlhIkthlTs9lg==', 'price': 229000.0}, {'id': 'fnFQ6GuPEszLiAarLJBqgA==', 'price': 420000.0}, {'id': 'Ex5digyapqH27nW35Bb7HQ==', 'price': 1490000.0}, {'id': 'IQ4nvEqX+g4jtIz5WpStXA==', 'price': 890000.0}, {'id': 'rit1gW1oI8N2jRUSGCOPIg==', 'price': 300000.0}, {'id': 'slZM0hj0W5oIMLiSm0TSBQ==', 'price': 1200000.0}, {'id': 'WwGuT0rDS/Ie7tjx0OQUWw==', 'price': 16626340.0}, {'id': 'xqyK6RMuUcQnse4Lx3Aq4A==', 'price': 880000.0}, {'id': 'CTjefpPVWa4ixJoMNEUaWQ==', 'price': 329000.0}, {'id': 'dOJMK2BYI+APAvGLh5i8Jw==', 'price': 195000.0}, {'id': '8yQRhkf8ISEYH8Pu7nABQQ==', 'price': 800000.0}, {'id': 'xACq/3UwKpJFzCK3zRE9ZQ==', 'price': 203438.0}, {'id': '9Pk+mlwwQMgmtVkC5kr6ww==', 'price': 12439218.0}, {'id': 'HUVIYI3lah51fclIgay+EA==', 'price': 1250000.0}, {'id': 'GV2D5q4zz0+Da8Vkx/ldRw==', 'price': 750000.0}, {'id': 'JeWp3jZTPnw+hlcRGuNPsA==', 'price': 3100000.0}, {'id': '2nWwEZa/gJw0JY6EO2RbSg==', 'price': 459000.0}, {'id': 'yr9e+s15Bv2MdvvZTpj6ug==', 'price': 310000.0}, {'id': '7wCxjTl+zof6OYmvvHbgrQ==', 'price': 390000.0}, {'id': 'Sf0ORLJTnszqLEXPRNL2nw==', 'price': 420000.0}, {'id': 'gTdlYaxXas+2MeG6lG+aXA==', 'price': 615000.0}, {'id': 'B146xmWHbzG4AU7USZTYAA==', 'price': 1200000.0}, {'id': 'uv98vWgxKln6Pgbyy1CfEA==', 'price': 3800000.0}, {'id': 'c5wq4/Y3tHiNqcJQM0tSFQ==', 'price': 360000.0}, {'id': 'Nm3CthYU/GM4+VMtYenhpQ==', 'price': 255000.0}, {'id': 'yZQeb2OuJXDdf9UMNEEFOA==', 'price': 1400000.0}, {'id': 'DFk/49bN82qi2CzRHVKZMA==', 'price': 590000.0}, {'id': 'ysEXzoUHeFHflHg0gYM67g==', 'price': 450000.0}, {'id': 'RGygTwc6VfyIJ8EY6MlBtg==', 'price': 395000.0}, {'id': 'NLFv1MR30S7qvRX/aBQwSw==', 'price': 200000.0}, {'id': '22sHNb+DoPTZTF9h4SiliQ==', 'price': 7800000.0}, {'id': 'zK/8p0OLLV04bt927UOEbA==', 'price': 395000.0}, {'id': 'KYLPRwruopU06Swfhfd5fA==', 'price': 200000.0}, {'id': 'P53pN6BKU8BkkItfAaYqug==', 'price': 295000.0}, {'id': '/HfVjoyJFtQH+eWze7zStA==', 'price': 680000.0}, {'id': 'WD17DvZTMUc+oSWljOgy7w==', 'price': 468000.0}, {'id': 'DnBQ35OjwAwpVa0wiEaFtw==', 'price': 768000.0}, {'id': '4lU6KmgDEnPUiNrrNaMaHg==', 'price': 1430000.0}, {'id': 'hUY/kdj8nUTy5aym0f0yxw==', 'price': 720000.0}, {'id': '7D0oRF9rN9AEnz/+PM6vWQ==', 'price': 390000.0}, {'id': '+SwvfN8LUbGDjxEwQdL0EQ==', 'price': 490000.0}, {'id': 'dbeXmpi1M9wZ0zebyxII1Q==', 'price': 330000.0}, {'id': 'aISt7m48E1k0/DwKypsCcg==', 'price': 720000.0}, {'id': 'WXKLGtm8mWBVfJVamAivWA==', 'price': 420000.0}, {'id': 'Oo9CykHhL/TeetPB7yRaQw==', 'price': 240000.0}, {'id': '9uHLsox73nLOxrfWqW54FA==', 'price': 420000.0}, {'id': 'KkWWvIJcGRikVa09N2eTyQ==', 'price': 370000.0}, {'id': '+UiRjwP1lBISFEH8aB4bOA==', 'price': 240000.0}, {'id': 'wJpWCdnaMxzislIviHC4BA==', 'price': 675000.0}, {'id': 'gw4S7HDazN4A8828HzoW+A==', 'price': 899000.0}, {'id': 'DFjUZdScw6MNVovCoxTIOw==', 'price': 1500000.0}, {'id': 'lNpNOgWSTHHjvNvaP8293g==', 'price': 395000.0}, {'id': 'ej8IaaeMm1FyAEGEqoYUcg==', 'price': 1200000.0}, {'id': 'GvsNjt1eqAeP4PJ6Tsi7pw==', 'price': 430000.0}, {'id': 'ck4qEJp6P1oMAVAqlojBwg==', 'price': 1300000.0}, {'id': '9QrYBVcfcrySAag7oVZxpA==', 'price': 530000.0}, {'id': 'azTUns3t/hXkKsVlpT7yFA==', 'price': 820000.0}, {'id': 'YyMmalM0A4bdTHydq6xccQ==', 'price': 670000.0}, {'id': '4ZYfTfiRF3VZykgKiAGjxA==', 'price': 1200000.0}, {'id': 'r6g3ovyObyyF1o5Q/bVbeg==', 'price': 500000.0}, {'id': 'h1WGYGamSzEHYEw3030w8Q==', 'price': 268000.0}, {'id': '7ehQQ4UlkMnKC14GpErDvA==', 'price': 3150000.0}, {'id': 'pYnXOwJ95SMqvcfnGlW9SA==', 'price': 515000.0}, {'id': 'WPArdVo7XXoV5RQWtcPHZA==', 'price': 240000.0}, {'id': 'zdwzPBO7i3Iq9AInr3GYTw==', 'price': 1236000.0}, {'id': '8BDFGhRaiBo9nAYtWAhg3g==', 'price': 580000.0}, {'id': 'C2c0P5iN6mUCTZiF+QYD5Q==', 'price': 250000.0}, {'id': '4rdj7Oqz3OloZyYvQ2BgIg==', 'price': 389000.0}, {'id': 'aDtjqDJvUnbOtRPrz1mGbg==', 'price': 325000.0}, {'id': '9mWCybIiSLm2V+1/tmZEvg==', 'price': 1390000.0}, {'id': 'XTsnwuoTTlzlW3UV3hwOuw==', 'price': 1100000.0}, {'id': 'X4UhLr15l/gX6n+f0Tf9EA==', 'price': 675000.0}, {'id': 'PClvPKh3tnA8AJA4gzo0HQ==', 'price': 480000.0}, {'id': '1sfuBBn2J/CbZ0R7fTiyrQ==', 'price': 600000.0}, {'id': 'qihTI7kcFJZCq//EZBF/0Q==', 'price': 420000.0}, {'id': 'DKAUrvuSEuH+nPzfbnd6+Q==', 'price': 605000.0}, {'id': '0jnUmLPoujFDfktUxliKSQ==', 'price': 595000.0}, {'id': 'BL2Y0Zg+glbrVs2bVBpnIA==', 'price': 270000.0}, {'id': 'o/LG3DEamBhJja+MIp3QQw==', 'price': 650000.0}, {'id': 'Yxyhp1O4HcGWpbYtmgDosA==', 'price': 585000.0}, {'id': 'gYifpLbgYJZqEYJ1jwEZOg==', 'price': 770000.0}, {'id': 'iIfKNVCP8gN3A5nKILeepg==', 'price': 845000.0}, {'id': '4T4Yh9ieBpW2AgjiGnPTDQ==', 'price': 320000.0}, {'id': '+0UMhz9dPBd8uCQ0a7QP0g==', 'price': 450000.0}, {'id': 'USMCY74tSt/w7kt5ACB1lQ==', 'price': 4000000.0}, {'id': 'EeTzR/R2mM9AVJZvEVaqEw==', 'price': 1200000.0}, {'id': 'ztIuidUTAzMQ08TmBjw5PQ==', 'price': 520000.0}, {'id': 'z4VzMFyJgnNZ68EAuvbVIQ==', 'price': 290000.0}, {'id': 'fx0l5xQI+IVrYy6Hjx/dqw==', 'price': 520000.0}, {'id': 'EiTF2ty3TK8gHWJbTk4bWw==', 'price': 1700000.0}, {'id': 'E3e1QXjw1bwodY6RBynrpQ==', 'price': 590000.0}, {'id': 'gNYDh+ksSAp4RP7U7KRN2g==', 'price': 390000.0}, {'id': 'uLqTd9x+d0Bd6bk36gF+PA==', 'price': 270000.0}, {'id': 'iARQYaPPsc6+wFzB/YVumQ==', 'price': 740000.0}, {'id': 'H2oqZ4++xpuSv04EvQ/Edg==', 'price': 820000.0}, {'id': 'A1MPxnpl0/uo33jQvx/+cw==', 'price': 550000.0}, {'id': '9ZBu2xujiQxHrnUu+rbXhw==', 'price': 440000.0}, {'id': 'P5cUgCExjJvSyN5b7/KO3Q==', 'price': 1290000.0}, {'id': 'wOMZTeYwiKnaCG4YdfHayw==', 'price': 440000.0}, {'id': 'GMpflgiBT2RJad8fMHQDig==', 'price': 398000.0}, {'id': 'qVK/+hYG0lZK1doB8fwLdw==', 'price': 485000.0}, {'id': '252hkA/cSjw2mBJI5Iy5fA==', 'price': 4000000.0}, {'id': '+bJrb3Otaj8WFn+6sLdtYA==', 'price': 275000.0}, {'id': '7dOlclA17cfmmqKMWFn8eg==', 'price': 720000.0}, {'id': 'YwzF9YW6yLesDPpuy+NAnQ==', 'price': 235000.0}, {'id': 'CkgbIZ2aXF0Id5sIPAsASQ==', 'price': 680000.0}, {'id': 'Z/pjJ3Q7I0vZrLCGpiwobA==', 'price': 890000.0}, {'id': 'M8RjHE2ho1v3kJ8WGVjslg==', 'price': 467376.0}, {'id': 'Rt8Fk3BZBuo1e9No8sUwUg==', 'price': 350000.0}, {'id': 'FXorlGijwQ9RV2IgxD0ccg==', 'price': 5058104.0}, {'id': '+G9ZvAPlyVoLp5jihgjxEg==', 'price': 440000.0}, {'id': 'kYNoNreMvzS44Sj8g4Z6EQ==', 'price': 1250000.0}, {'id': 'DVccjOZOyUn96hQwbWtdKw==', 'price': 240000.0}, {'id': 'tU1iOX7Hg+NGalw1WM+f5g==', 'price': 7800000.0}, {'id': 'x0hkM14alACB+VFfE6hzKQ==', 'price': 270000.0}, {'id': '8arSRYHg4CQ7oUxzwA1b6g==', 'price': 500000.0}, {'id': 'WxbimFnPyUp3IPdMPGdckg==', 'price': 249000.0}, {'id': 'JBUPIHUhsrkvWUUmFRMWFQ==', 'price': 1500000.0}, {'id': 'oyEQ8jhKpV5F0THLPduEdA==', 'price': 480000.0}, {'id': 'V0+I1r3451an9W0ynLSnpA==', 'price': 580000.0}, {'id': '+lkbsV6a9/Bu3do8ekiQAw==', 'price': 8100000.0}, {'id': 'jsFOaERpVgbxumt1YFjnRQ==', 'price': 300000.0}, {'id': 'awF2STbzxfbbvva8BZkeyA==', 'price': 280000.0}, {'id': 'exaNH9tZJMSv14ES94FnSg==', 'price': 373000.0}, {'id': 'bQOmMUdOt5XVm7sqnXrIGQ==', 'price': 450000.0}, {'id': 'FG3A9YO2NK9cInqQ+Vling==', 'price': 450000.0}, {'id': 'LAvolNVX2AizRbkLMnMQmA==', 'price': 540000.0}, {'id': 'dNsxEaNaazynWUSXN0MPmA==', 'price': 10274076.0}, {'id': '2GK8/jV/ijCXCp0yoyn37Q==', 'price': 8534000.0}, {'id': 'qUbeXJUmdESDIPrvllYNLA==', 'price': 560000.0}, {'id': 'tL67SJmQKrxWzGBBR5or4Q==', 'price': 235000.0}, {'id': 'szhM5SST7qtzD7Yl9wWidw==', 'price': 252000.0}, {'id': 'HLxhvwuEzHSl7ggVRXFkNw==', 'price': 830000.0}, {'id': '50uzxYeuNv+yrCCLBju2Rg==', 'price': 820000.0}, {'id': 'drgby5SeRn1n4hvebalrcA==', 'price': 440000.0}, {'id': 'C9S74e43qap3wIvAO5z7VA==', 'price': 600000.0}, {'id': 'g7RcoxnO0kZmB9oAVu6Igw==', 'price': 260000.0}, {'id': 'Ygun/2ZXYUu8GGqJNpv8eQ==', 'price': 1350000.0}, {'id': 'DDeUYydOSVIPtYjtgr3X3A==', 'price': 3000000.0}, {'id': '6x5ffm5uimapK3pLg6RYyw==', 'price': 645000.0}, {'id': 'lQezrUtTlf2ZGMRTdJtqcA==', 'price': 209000.0}, {'id': 'sTM8Mks6NXyxd2FH0xSdCA==', 'price': 1050000.0}, {'id': 'MALtvLywKH9Y/LXKXJWDKg==', 'price': 499000.0}, {'id': 'jUF6s2NcbYzyFDqhnLsETA==', 'price': 260000.0}, {'id': 'mrehV0/augDm3RV2IfpGUg==', 'price': 270000.0}, {'id': '5hJraCIg9jwD5S+q8JvlTg==', 'price': 1250000.0}, {'id': 'FMfVKoNLACRkfnV4w1F9qA==', 'price': 480000.0}, {'id': 'uxYq3nlbNDGQAWSOnyUKbg==', 'price': 590000.0}, {'id': 'RBaoLmzfIdSyJKoZC5VDog==', 'price': 598000.0}, {'id': '6Fe8p1VYQRHllEroPfAj9w==', 'price': 1200000.0}, {'id': 'ENW+jDOKGqFiZXPkztL6YQ==', 'price': 545000.0}, {'id': 'm6/eHOq35ZmahKn352AoFA==', 'price': 495000.0}, {'id': 'w9LLcpmfYS8x97rcuPXUHA==', 'price': 423500.0}, {'id': 'kIb1jt4kAyQpuZBtD5NEUg==', 'price': 259000.0}, {'id': '8nsLiwLLXr46HWjsjMjimg==', 'price': 4400000.0}, {'id': 'shsnAhgfgQ2BM8QpKhL/EA==', 'price': 269900.0}, {'id': 'PHs6zZkkGLmwbZUuEcooIw==', 'price': 10660000.0}, {'id': '5nvePuIy0NBulC3dqOqL4Q==', 'price': 350000.0}, {'id': '4QHRj3vmvqb0ttGwXFO+OQ==', 'price': 289000.0}, {'id': 'u+bSV0muV+d/LP20zDqF+g==', 'price': 635000.0}, {'id': 'LRZCR+uY7fqDEJbcvyCBhw==', 'price': 320000.0}, {'id': 'LiFBu4tBAej0Z6Lgbn3cng==', 'price': 450000.0}, {'id': 'by9bHCd2fJ79Nqs/emkOrQ==', 'price': 1500000.0}, {'id': 'f0OubIc3l91QqQ03BZM5mg==', 'price': 870000.0}, {'id': 'O2vlDWf8TpYXlyJq45+sLQ==', 'price': 790000.0}, {'id': 'By68kVQC9xXqbgubiFuPCg==', 'price': 1150000.0}, {'id': 'ubXrDAwIHTQ1DO/qc/qdow==', 'price': 3100000.0}, {'id': 'B9DAYtNB6UAUFGRI6YT3RQ==', 'price': 560000.0}, {'id': '7oDg2cdiKQiqH5x07Au+Pg==', 'price': 565000.0}, {'id': 'fZpW4ily1sKgFZAXNzjYgQ==', 'price': 1600000.0}, {'id': 'uDzsRKVLdCLhLKXZnGIEeQ==', 'price': 800000.0}, {'id': 'ut+DFDYZGgsDPyGuoVEf/A==', 'price': 630000.0}, {'id': 'oHu24ao95hIQyzHxr/88KQ==', 'price': 570000.0}, {'id': 'sS+WPnW6IW7Ha1w9PONT1w==', 'price': 400000.0}, {'id': 'X1eI27S1/F5LqDliPaVgtg==', 'price': 14421576.0}, {'id': '7IDH9Bhae8Gamj9ZD//q9A==', 'price': 449000.0}, {'id': 'lP8UTHGDSQffHrKPLuIljw==', 'price': 930000.0}, {'id': 'dT32hIYNNdw6rZIqZ8gLHw==', 'price': 780000.0}, {'id': 'iNQgPMxHUs3uxO1fG8sZ8A==', 'price': 13623905.0}, {'id': '0m4/sB8wxcI1OgZz43PQQw==', 'price': 570000.0}, {'id': 's0rfp8BQBEssr0OltVJSuw==', 'price': 265000.0}, {'id': '0NmrcBbZiGms6Iz1V2iUxA==', 'price': 265000.0}, {'id': 'IijE6V49ldaf+ELE8UiL+A==', 'price': 1550000.0}, {'id': 't0wypBYwhHj7hZRokVPlYQ==', 'price': 650000.0}, {'id': 'G0jx/ShF4aZjtonFzgDmCg==', 'price': 6532300.0}, {'id': 'UIGMOBwMStYxFcpm5t03fg==', 'price': 5720000.0}, {'id': 'vWEYd2xHDqWCRskbK+PRnw==', 'price': 800000.0}, {'id': 'KqrM3bpTHq7DidpdtLuRuw==', 'price': 649000.0}, {'id': 'SQ+0owZl1xAbUYp1RGRexw==', 'price': 350000.0}, {'id': 'Nv4MtNL/e7tBx1gzAL402g==', 'price': 293000.0}, {'id': 'WZ6uggrqOrvI4twKPAZ4uw==', 'price': 255000.0}, {'id': 'fxdDS3f+eEk2EkGTenNRuw==', 'price': 339000.0}, {'id': 'U/F4bEIbwOdvhHWCd3b5AQ==', 'price': 870000.0}, {'id': 'fqJnQAThJupJWhEQ0aPidw==', 'price': 1055500.0}, {'id': '19RtK73ACCmL0tuaO31fvw==', 'price': 789000.0}, {'id': 'l1uGxVFkHY7tAlhSJwo1zw==', 'price': 590000.0}, {'id': 'uHNWsBsMTqy3Bk8/tJEZ4w==', 'price': 410000.0}, {'id': 'qpCwYsfmDAT7AUoldQ7gpg==', 'price': 240000.0}, {'id': 'QdrShWxz9heetV3qCnsvUQ==', 'price': 259000.0}, {'id': 'PGKH7drZ6IYGZHxG/V6Awg==', 'price': 560000.0}, {'id': 'CLPIH83uWeiToKVvAjX80g==', 'price': 192000.0}, {'id': 'Jm73HaBzZwjeGid42k0uxA==', 'price': 3900000.0}, {'id': 'vel9EFpUQvW5Atb+8clITg==', 'price': 355000.0}, {'id': 'fOxGOwkwPCNKJdNlD6ylRw==', 'price': 650000.0}, {'id': 'FJWVH9m0DfBfCsm95IQ72w==', 'price': 890000.0}, {'id': '4mio1/FPoZ9VWMqeq2hKdA==', 'price': 960000.0}, {'id': 'HEeVIa/BiREaneIzvuP6Ug==', 'price': 590000.0}, {'id': 'lpGDVAR7e0cURHugZJ2gRw==', 'price': 498000.0}, {'id': 'yDM2ozj1DVA4WMYy5EnKqw==', 'price': 190000.0}, {'id': 'sMPUMfcK7qZeB8h5787wzg==', 'price': 569999.0}, {'id': '8c1gM8yCFFAbnTyxd7qoig==', 'price': 425000.0}, {'id': 'Z468/GJgjshO56DFuZXy2A==', 'price': 1850000.0}, {'id': 'hBjThg2Bna8asyNu61gAQg==', 'price': 488000.0}, {'id': 'yxWyd1jri4YZGvgUWAR5bw==', 'price': 250000.0}, {'id': '2a4+a3Cr5At76Bsjx0I+cw==', 'price': 7832000.0}, {'id': 'HvryJddP6MnW7UJ8tfE+xg==', 'price': 240000.0}, {'id': 'fYibTBDO76l1wY4wbbiPqg==', 'price': 470000.0}, {'id': 'vBXgWApM7iuLMxVZpCpZJg==', 'price': 530000.0}, {'id': 'xqiTUDBd7L9lBbCurnKCjg==', 'price': 16904000.0}, {'id': 'P3vvlWwPeyH1/cRo55WYxQ==', 'price': 435000.0}, {'id': 'Jdt0AqjnL30aR40JBjI4+w==', 'price': 480000.0}, {'id': '4jl5CODFN8qowpiZi9FtrQ==', 'price': 13600000.0}, {'id': 'tFDTqETvox6+NujPLPl1/Q==', 'price': 195000.0}, {'id': 'rRDZDbp7YO6P2Ehh5muwng==', 'price': 900000.0}, {'id': '/t2syRV/qCYa3jZCgiitXA==', 'price': 325000.0}, {'id': 'RwXOoLOsf3FJhSiFQW3TjA==', 'price': 1150000.0}, {'id': 'QJUcBJA5jRKYPNtbJELUcA==', 'price': 230000.0}, {'id': 'LgchgE5XPJutZADnmT891g==', 'price': 359600.0}, {'id': 'fpPbNaeEZVP9ZWJwS+pJSg==', 'price': 1250000.0}, {'id': 's+p+qkGqivqks5+w5ZabBQ==', 'price': 690000.0}, {'id': 'H8Rq1M/jG67I4ogvfAyIkw==', 'price': 1400000.0}, {'id': 'yrS4x0KpefCv0Z7Mbv2RSw==', 'price': 598000.0}, {'id': 'NYCDQ/+sY4sUWPplBSurTg==', 'price': 2100000.0}, {'id': 'NLLcKLNBkBW4gYaBGe69Zw==', 'price': 456619.0}, {'id': 'xtDZvWIFy9qzSMa54ezsiA==', 'price': 245000.0}, {'id': 'jYJTdAuajYePRd/N4p5jEQ==', 'price': 625000.0}, {'id': 'auFPSE00ZsPmSSwFn/iSCQ==', 'price': 850000.0}, {'id': '3wXevD/ETpazEDzrPf0BBg==', 'price': 390000.0}, {'id': '1vlFzKee/YRg9XOX/FftgQ==', 'price': 255000.0}, {'id': 'O1pc1DjXTePFpba3efrKIg==', 'price': 190000.0}, {'id': 'pUREyFVruQ67jfYXmWzAVQ==', 'price': 5202000.0}, {'id': 'XO/UA0+Pb722E8yft4dzMA==', 'price': 550000.0}, {'id': 'ii8xlsdKKmvDmEG6vYHf+w==', 'price': 420000.0}, {'id': 'V5fUDIY0o3MadeFlM3LcXQ==', 'price': 625000.0}, {'id': 'kfUrDSg/72X+fwa57xWccQ==', 'price': 390000.0}, {'id': 'xasaYwt3GPE6eCXW3IKTYw==', 'price': 14588000.0}, {'id': 'OdBPkRWfKnwXAMMqP3Srlw==', 'price': 330001.0}, {'id': 'V07qpyxDFKu1GwsFpjNRsw==', 'price': 650000.0}, {'id': 'JyjCFNdz28oPDp+JRTfXDw==', 'price': 950000.0}, {'id': 'PoxDMEE7J943QB/h65X+hg==', 'price': 1480000.0}, {'id': '0GTA7DlA8oxqkbU578ohHw==', 'price': 15013600.0}, {'id': 'AMT2UmH6ahh1cLWOuKLhPw==', 'price': 289000.0}, {'id': 'RBKsojk2WPiaHkbL1K2bWQ==', 'price': 285000.0}, {'id': 'CVQD8a88t2RTv4zg76dWeg==', 'price': 490000.0}, {'id': 'SOSkB5Uoi5uI/5gxncau8A==', 'price': 238950.0}, {'id': '3wp4cI2lRAbNsb6boVZ59g==', 'price': 4500000.0}, {'id': 'MQRfVdFdKNW6iJ+LIs28VQ==', 'price': 220000.0}, {'id': 'K6Ks4vp+DmJrzz2QHhRX+g==', 'price': 270000.0}, {'id': 'rqbqBzVXC7SPpyflaLMYvQ==', 'price': 590000.0}, {'id': 'IF0Zcw0NaV5Pq7YF6Adokg==', 'price': 490000.0}, {'id': 'wspnUHdYDFvu83kMwUuKaw==', 'price': 690000.0}, {'id': 'Fkgq80LTqq6Y1omYnkX4kw==', 'price': 780000.0}, {'id': 'q6qZnDMbSWo6tqBplaTnoA==', 'price': 1200000.0}, {'id': 'Es0zGJ1GjdgNfvjXyqIRdQ==', 'price': 1349999.0}, {'id': 'KQHmbmgJIvPEnxabQClz1w==', 'price': 350000.0}, {'id': 'F6riBNkTsbBfzfmZrkurPw==', 'price': 490000.0}, {'id': 'DJOJeNeA19hSyOQNbKv2qw==', 'price': 230000.0}, {'id': 'C8ETQlZKJo18jMuE8Rmqhg==', 'price': 20500000.0}, {'id': '6h1wfE/RPmkaXp5f92PH8g==', 'price': 435000.0}, {'id': 'Fgm4CF9bg/G1pMOFEMrooQ==', 'price': 525000.0}, {'id': 'czfKCHHKSpWmZ1aYZYGCjA==', 'price': 645000.0}, {'id': 'DxUU5/LicnckEg9qV/6zoQ==', 'price': 990000.0}, {'id': 'uhi+myE6qskauOigJpXX1w==', 'price': 439000.0}, {'id': 'I5rkyTJTWqUZ6DgQLMPLWA==', 'price': 360000.0}, {'id': '5LMlT0SfLCy4/aziCRSyKg==', 'price': 340000.0}, {'id': 'qM4LfGJtTwdD/1BjIXfnnw==', 'price': 850000.0}, {'id': 'URlOw8GtvW9KApNG3w+obg==', 'price': 560000.0}, {'id': 'gzxnPxmYVpZIeXZrtsEnhA==', 'price': 990000.0}, {'id': 'lg7QKP9At3kF1y0SxrnnSw==', 'price': 680000.0}, {'id': 'gux4eIZDQ2ThCI0qCY9PpA==', 'price': 350000.0}, {'id': 'mGTrQIn5mJbqmpiYAzhRRA==', 'price': 650000.0}, {'id': 'EpTsXrNWkK+ykrCdKZrDIg==', 'price': 256000.0}, {'id': 'Laf9dPA/Ncq6DqmL8mKuVw==', 'price': 265000.0}, {'id': 'o3GB79v1qrvJUPfspPTxXA==', 'price': 1800000.0}, {'id': 'PRXwWcU9JXxT3CEf3Ktlyg==', 'price': 830000.0}, {'id': 'AAzKhhFws01c+SIhSLgzZg==', 'price': 1400000.0}, {'id': 'TWPR0JeonM/9sxfhi14nng==', 'price': 650000.0}, {'id': '/FY0wk9HhkIRAETvHjytag==', 'price': 280000.0}, {'id': 'yssP9RnmuexpkNjLP3CgTw==', 'price': 285000.0}, {'id': 'mmHw/kZA76+LmOOCM16H1A==', 'price': 500000.0}, {'id': 'mt4Oan1xjUDbpPBzvzfaGg==', 'price': 240000.0}, {'id': 'fmhzBFf6oepGgeOc1o8WUw==', 'price': 12500000.0}, {'id': 'm4v7RyJDL1qH+vhhoaMCTQ==', 'price': 2000000.0}, {'id': 'ebtb5kXZgc0rjgcSCmwRSQ==', 'price': 620000.0}, {'id': 'LG3mQkytUvz75hb/Qubx6A==', 'price': 8000000.0}, {'id': 'YYFsngnK+geUHqSvo1UtlQ==', 'price': 612500.0}, {'id': 'EEmzSzobxSVafm+4kIeqcA==', 'price': 630000.0}, {'id': 'lzBiTu/cuMMVyK3/TMQ/sQ==', 'price': 380000.0}, {'id': 'oX3aPs/sStr80cOS+VyxVw==', 'price': 1700000.0}, {'id': 'LZ1D2Q1vqIRJFXQNmf6BVg==', 'price': 650000.0}, {'id': 'FKZmToGvk90rxtq0RsG5DA==', 'price': 1500000.0}, {'id': '4yVQKCwdEFlKFAyOii6hKg==', 'price': 650000.0}, {'id': 'W8n177+uub73/sBNG/gJwQ==', 'price': 285000.0}, {'id': 'c82pUibxMg3W3ebw15oDfQ==', 'price': 239000.0}, {'id': 'HgVu2HBNOYymP9bbHomXCQ==', 'price': 498000.0}, {'id': 'ZHK1Il6hnxI3iMhjvmD5+g==', 'price': 1250000.0}, {'id': 'eIMvQjlXpB10EU3xImiFmg==', 'price': 550000.0}, {'id': '+IuPNnY/J1j6lHvYWOa2pg==', 'price': 620000.0}, {'id': 'Pykd4PUzmM/Wz2tNvJOHag==', 'price': 480000.0}, {'id': '281rXxys73aqjnV53RpPUQ==', 'price': 590000.0}, {'id': 'tm4fw81GGOaicIvg25xiLA==', 'price': 256000.0}, {'id': 'EvhPcdZKTkBjXF268HBpuw==', 'price': 1100000.0}, {'id': 'oaAD8tZHWCSBl/omRyoKgQ==', 'price': 480000.0}, {'id': 'fWRbtVj1fso/mtPECZwTPQ==', 'price': 850000.0}, {'id': 'l77wUYOnNVxMyolz+e2Oyw==', 'price': 780000.0}, {'id': 'oEkgMquDht0BF95A/XeXog==', 'price': 570000.0}, {'id': 'd0MtutjsGDZj6Cr4qGShgg==', 'price': 990000.0}, {'id': 'XAoNGD0TTx9G6QARYmogmA==', 'price': 750000.0}, {'id': 'yi1GOH2zOwilimc0SnSeVA==', 'price': 239000.0}, {'id': 'vbfurETLT/eXmbD2wyuQYg==', 'price': 6820000.0}, {'id': '0Ai9kWhQ1GLOUe/Qg8zJOw==', 'price': 760000.0}, {'id': 'R6I2l9stybdxi2S5fEWPpg==', 'price': 750000.0}, {'id': 'zGnKBxIS/TPegBBrlDrksQ==', 'price': 425000.0}, {'id': 'INnd9ai9QHfdNVdG9AixtQ==', 'price': 560000.0}, {'id': '2Kik9+LfCfpqngIlmPRRoA==', 'price': 820000.0}, {'id': 'ztRXd5r+SEZ2FkliwDt+qw==', 'price': 690000.0}, {'id': 'qoaOMVHh7ImSOzjKbtE8Gg==', 'price': 1395000.0}, {'id': 'II5GA3XdyUEGDUQRzppVtA==', 'price': 7200000.0}, {'id': 'ItUnOtS4BPhROCCnMpUybw==', 'price': 790000.0}, {'id': 'pjzjO5EPydH+x4ZcrDYiTA==', 'price': 345600.0}, {'id': 'vOVPFUVvp8uAHGWKwDnzaw==', 'price': 2500000.0}, {'id': 'qCFGp7NuKNOI0sI2VRmzjw==', 'price': 650000.0}, {'id': 'xI/mUmuqESGgjxDKAL1t6g==', 'price': 2200000.0}, {'id': 'utyhkxWWaJtlazqMdwO+Kw==', 'price': 450000.0}, {'id': 'M+K2VHfLS3Es47dGgOHsKg==', 'price': 260000.0}, {'id': 'Nam/XNKt4P/Q7kuj8ozPjA==', 'price': 590000.0}, {'id': 'ojglj/Av6prnYBLfbI/joQ==', 'price': 550000.0}, {'id': 'pl2LEfwIgzaVCswtpKep1g==', 'price': 950000.0}, {'id': 'VjpBueG4x3dLz+jXmKSBow==', 'price': 420000.0}, {'id': 'frYcX8xB9hqPXZPbEOzm3A==', 'price': 5500000.0}, {'id': 'CYujqG5ZZEb6cd0hH/MiOg==', 'price': 420000.0}, {'id': 'Bo+OaPC/HRi8CCbSUooyYw==', 'price': 1700000.0}, {'id': 'B6HvuJ35ijqDHL0/SIH55A==', 'price': 350000.0}, {'id': 'cQZg05UK26GcnCSLknJf6Q==', 'price': 490000.0}, {'id': 'ORQ91BLgzKimpDCEB7nn1g==', 'price': 270000.0}, {'id': 'dh6p4w154+jl6CAduLVJXw==', 'price': 590000.0}, {'id': 'TDHva8I/fo6XiE2JyTgErQ==', 'price': 1650000.0}, {'id': 'iai2fUsRqVL7NbOkoG8OpQ==', 'price': 540000.0}, {'id': '/C578YDaWEQNjANza7ZqjQ==', 'price': 10464228.0}, {'id': 'GCgTiTF3RNjmDbwwxFsT7w==', 'price': 449000.0}, {'id': 'HJkX63XGN4c5gMGqlkzKMA==', 'price': 250000.0}, {'id': 'R8Iuo8icj6lqotAUTw7q6g==', 'price': 620000.0}, {'id': '5dAH74JJXU3t6yLLNfpCaw==', 'price': 280000.0}, {'id': '3ubbtlMDlMFw3k7Bok1UWg==', 'price': 248000.0}, {'id': 'xVO3YyQmZKhoefka0FqygA==', 'price': 320000.0}, {'id': 'hPNuzlJ6Yvn6ffhc6Poq9g==', 'price': 278000.0}, {'id': 'YKmcSO0Sx3ZCZmkhHsJm7w==', 'price': 670000.0}, {'id': 'Mab0pwsnZBAazaPFHEcYeA==', 'price': 510000.0}, {'id': 'Fi8E8wMd9vbPClqAu7+Djg==', 'price': 1900000.0}, {'id': '7rYf1nianBFRcHnWDQ/AUw==', 'price': 580000.0}, {'id': 'Rsej3bqBvd/I8wbpf4uaZQ==', 'price': 830000.0}, {'id': 'atROFSo5soYIjgmwGP0FKg==', 'price': 869000.0}, {'id': 'ojwP+0Cf7MrYFy4eB+AeqQ==', 'price': 750000.0}, {'id': 'yeRgJkqfkvTDqyPt0+9Bbg==', 'price': 245000.0}, {'id': 'TVndmBItIlFt2XfzGhb49w==', 'price': 630000.0}, {'id': 'bMfUP7wM3HN26FJ7sb0a6Q==', 'price': 570000.0}, {'id': 'hq8MKbwHkoQaajxuMGjp4Q==', 'price': 400000.0}, {'id': 'tiFfVqd4AL7RGSkHwYuTfw==', 'price': 760000.0}, {'id': '7MrkrhlXxsV/57F/Pw8emQ==', 'price': 420000.0}, {'id': 'FRD4Pt8JGgfIx04KIVJLzg==', 'price': 465000.0}, {'id': '2gWrLNVrUGHrkjyENsojnA==', 'price': 360000.0}, {'id': 'snxvZxTGHpJMzwTuNeVflw==', 'price': 12738298.0}, {'id': 'nMpPezMN1E7JNWkqQJ/1Sg==', 'price': 1390000.0}, {'id': 'VWDGcoxPeHMnTyq/R3yigQ==', 'price': 550000.0}, {'id': 'LUPW6i0l02I8Fe8C9WS58Q==', 'price': 1950000.0}, {'id': 'bC0jxGVqS+ocZQOKAk0fjg==', 'price': 850000.0}, {'id': 'k0sFjxqjzhdAxGfervJZbg==', 'price': 275000.0}, {'id': 'vQby6XU22I4wgcbIRUePdA==', 'price': 1015000.0}, {'id': 'Iyv0R28x1cFyUZ0rDJeDtw==', 'price': 700000.0}, {'id': 'vcthbx0qyqtzCPhHenWjuw==', 'price': 490000.0}, {'id': 'OT4Jxxe5yCQ3FOBX6B8eNA==', 'price': 490000.0}, {'id': 'Y0xM6NWwBG8kh9OObPWd9g==', 'price': 470000.0}, {'id': '1W0OHcwSarMAP/92muO1Ug==', 'price': 620000.0}, {'id': 'bPnfmGWdtBC+BbFAaCaKxQ==', 'price': 880000.0}, {'id': 'FFZMcnNHlhuXuqPs82ZH8A==', 'price': 279000.0}, {'id': '8AeY19R3yXth0Gvtx3E0xw==', 'price': 1100000.0}, {'id': 'WwDr8IMolABv+lrqc0e0FA==', 'price': 850000.0}, {'id': 'zuFfg8SnAZ6DRqIbZXHEjA==', 'price': 520000.0}, {'id': '80YCWo7YFXVrSeB3wkrwhg==', 'price': 750000.0}, {'id': 'G8gifjYCdCZbFuJMW/K23Q==', 'price': 1900000.0}, {'id': 'DQ62JIzFnaVzU2aem50yKA==', 'price': 600000.0}, {'id': 'g6ek3PwxjiuJKcLYed1FSw==', 'price': 340000.0}, {'id': 'N+jlLC6OKINC608LsUqMLQ==', 'price': 950000.0}, {'id': 'PDDO9nK8yxDAjaW9vwPaOA==', 'price': 950000.0}, {'id': '5Nb2xLm8oNBBpO6q4OAJ1A==', 'price': 480000.0}, {'id': '2O0yCc+I75gKGP99iD1aWw==', 'price': 749000.0}, {'id': 'ZT43YqgKEEuKFtFScMiDsg==', 'price': 430000.0}, {'id': '3oVvxZWG0ak4FhMSF6fGzA==', 'price': 540000.0}, {'id': 'FMUVpiCnn11yehRylK3kPQ==', 'price': 359999.0}, {'id': 'gB2q5JHSe+bzx+U6E3kRjA==', 'price': 680000.0}, {'id': 'cjB5UjIDNlFINQnzIUVgUA==', 'price': 980000.0}, {'id': '2KgAwELxQDnyvDJRpVMEGg==', 'price': 450000.0}, {'id': 'PhossDBO1ko7aoM1zVq9kg==', 'price': 1500000.0}, {'id': 'VtAgImCn+nQ7jTQjno30uQ==', 'price': 1600000.0}, {'id': '9Q+eTBqNolmLizi/EHsYJw==', 'price': 280000.0}, {'id': 'aaEW4zD/5mOmEtS+wjrXVg==', 'price': 270000.0}, {'id': 'k8wWnp1EJfPyb4hgJeH9WA==', 'price': 700000.0}, {'id': '3zrQesVCFjbt5WR6SMJt8A==', 'price': 1100000.0}, {'id': 'JOLPLIwffZUgrB3pY3B6dg==', 'price': 1290000.0}, {'id': 'tBRh/l8BM18uvMpHZDsIhA==', 'price': 10000000.0}, {'id': 'oQVpFO1o7gA+0SxgfCEheQ==', 'price': 320000.0}, {'id': 'meqpMpsOM5UELzBQJ9Xc2A==', 'price': 24955000.0}, {'id': 'bpw2zhTyKijNBqCL5r17+g==', 'price': 8293000.0}, {'id': 'ydmoDMqwi8K7m3bU+ZCqvg==', 'price': 239000.0}, {'id': '69tftL4LOA8re/x7PbDHWA==', 'price': 1280000.0}, {'id': 'BkeMkY3Im2sSeVnZcLMGrQ==', 'price': 319000.0}, {'id': 'oKWG7G4K5VaM2u3FKHT5Bg==', 'price': 1100000.0}, {'id': '2Pjr0fziE9J8glbcI2sRkQ==', 'price': 985000.0}, {'id': 'ZOKLbswRWkprKGvymIGnGg==', 'price': 850000.0}, {'id': 'jZgIweGCCizf5VSc7y0q6w==', 'price': 340000.0}, {'id': '50gMJ52HVB/CAj1e7hy6MA==', 'price': 270000.0}, {'id': 'bo+uIzCV0jM4KFdzMkT7LQ==', 'price': 6674536.0}, {'id': 'ij82nUxk+Znnwfdb4IKmSA==', 'price': 249000.0}, {'id': 'gYV02IdYvECR1IZCxaKE/w==', 'price': 435000.0}, {'id': '1Q6vq1wx/KhwH2sRvj8tyg==', 'price': 640000.0}, {'id': 'qcF3Zx5N7swTouUBW1lBDQ==', 'price': 24600000.0}, {'id': 'C8bsG9Lewtq5PB4KL0fgyQ==', 'price': 244997.0}, {'id': 'pLMtImx3f5WIPovAJbTzmg==', 'price': 540000.0}, {'id': 'We4feBmmmsCQ9Vl46DvwYw==', 'price': 280000.0}, {'id': 'pZ4IaYplbacLuokPU5vxJQ==', 'price': 450000.0}, {'id': '95qk1EpvC03NebSGGCjNQQ==', 'price': 375000.0}, {'id': 'mvroY+a4wZPNdmHPp9SizQ==', 'price': 335000.0}, {'id': '96iiiDYxjFLT0NcR+nsnYQ==', 'price': 850000.0}, {'id': 'QM9aIJbLsDwuRfXbIeuCrQ==', 'price': 430000.0}, {'id': '1G2FxC1ZXyvtgVDw2QJ8xw==', 'price': 4414184.0}, {'id': 'iq7cUtQWW5jP0jF7Pi2n9A==', 'price': 330001.0}, {'id': '3M2EqlqtgGBNJr0YHPtDgQ==', 'price': 1000000.0}, {'id': 'yd63691ITKxnS6BUhuW9fg==', 'price': 250000.0}, {'id': '512XihiaN/JX0RLDDApFvg==', 'price': 255000.0}, {'id': 'ffwcHYW2x7m8POJiCGiOfg==', 'price': 235000.0}, {'id': 'Z+ZLZrLun14rs0psr21ruA==', 'price': 750000.0}, {'id': 'Tn1ZiyYEdz+Z5XNk7/CbUw==', 'price': 930000.0}, {'id': 'NY/8FAVy/jSianoFYQbbLw==', 'price': 799000.0}, {'id': 'EZ6Yfrfd3C8BuMNvYWrgPw==', 'price': 500000.0}, {'id': 'pynwOsl5GkfNx0O0bq8EBg==', 'price': 430000.0}, {'id': '1PI32RKhNvkgu3twgpjCvg==', 'price': 5800000.0}, {'id': 'mqBbPzrHd5iHy0sJEUob1g==', 'price': 450000.0}, {'id': 'YKmELd0wSXfNrVC8Wl0GvA==', 'price': 249000.0}, {'id': '1NfRQhytbFz8CFu0zymmRQ==', 'price': 665000.0}, {'id': 'toWUZoVvV35l6/CzRzZTjQ==', 'price': 580000.0}, {'id': '23/5R/p0y494ZB0ZNwkEtg==', 'price': 600000.0}, {'id': 'JeMiNNzjfTRi9r0UNntwoA==', 'price': 675000.0}, {'id': 'gbzxronZT0iiP63Qz9OEmg==', 'price': 1500000.0}, {'id': 'DwYCoc+osU74W1sh7XFM6Q==', 'price': 1350000.0}, {'id': 'p1em040Nk2km79jr18gbNA==', 'price': 600000.0}, {'id': '4zIT1+2QMMz6SEzJcoqhLg==', 'price': 540000.0}, {'id': 'z+uGEZk910DKkHpKUPjC0w==', 'price': 770000.0}, {'id': 'lGXHhMtuoMj1HM7BNUqrWQ==', 'price': 680000.0}, {'id': 'M1sOzXn1x71Lnw9vtG1VoA==', 'price': 1700000.0}, {'id': 'd0Ciy8Anqxe2iAz2ucXy7g==', 'price': 5847060.0}, {'id': '8bBIX6yZHOdU3OgnsyKGyw==', 'price': 280000.0}, {'id': 'rEYg/0FnDXdmr8rFWhVjTg==', 'price': 580000.0}, {'id': 'jPYtFgmZVdloujgKj/xmww==', 'price': 490000.0}, {'id': '6SHmK/LP/e2LW8swK/G+mA==', 'price': 490000.0}, {'id': '+kwx70b58u9opqi3NkMoGA==', 'price': 355000.0}, {'id': 'eYGJs19iwW5LRvRDcJIz9Q==', 'price': 530000.0}, {'id': '8bL3ojrKGGytyLrYjt65WQ==', 'price': 350000.0}, {'id': '9p+YxrSEwzASIOQ5p+IBZg==', 'price': 477000.0}, {'id': 'ExzBxHsu2TJ80CO2r+zzcA==', 'price': 795000.0}, {'id': '20xDqUXQsKbSGbd3z8/4ZA==', 'price': 1200000.0}, {'id': 'ScPc89DYs0tQrJ8NgNaROA==', 'price': 550000.0}, {'id': 'dqQ/ub3Mk0qkNRJqAU7TlQ==', 'price': 270000.0}, {'id': 'ZAdXQeo7NOG/8cNFqWBbLw==', 'price': 275000.0}, {'id': 'qgVt7lYWFFBVQUrNNTmfmA==', 'price': 650000.0}, {'id': 'f4lSHUfMev4zBTLH08ewwA==', 'price': 330000.0}, {'id': 'BP6PRR54/bL3wvHzosgqqg==', 'price': 710000.0}, {'id': 'UX2QM+FWVrFSnkwvCwqJzA==', 'price': 3300000.0}, {'id': 'tvm3+IJ8zln+RwBKlMTX8g==', 'price': 420000.0}, {'id': 'kA2ReN8Q+UjADW2EGuUa1w==', 'price': 279000.0}, {'id': '/80EdiBTgifPwDMHxQH81Q==', 'price': 625000.0}, {'id': 'CXVMJ15wffmY2ruaZp5I+A==', 'price': 250000.0}, {'id': 'CgUzmcsurSh8XdXs59LNHg==', 'price': 680000.0}, {'id': '7migFd/+TDEMP1LKufYl5Q==', 'price': 425000.0}, {'id': 'xgNHFwlAYioMeJN6ZhYbdg==', 'price': 430000.0}, {'id': 'ILLeSg8YsAIm20Zqur1aNQ==', 'price': 590000.0}, {'id': 'Dp7LvsC1rhpELKCl+Xrclg==', 'price': 2350000.0}, {'id': 'Oc/T6G//riojONyJQdFHrA==', 'price': 600000.0}, {'id': 'pxfp4fjKXU35ugMY/j9v/w==', 'price': 9745086.0}, {'id': '4s/b+1Pvdq+hMU+x+RbSdA==', 'price': 225000.0}, {'id': 'vbWRSTmFtIvne2Otq+PD3g==', 'price': 3000000.0}, {'id': 'ih6hFvSUG42yb5XyS1q0vA==', 'price': 330000.0}, {'id': 'L+WU0rNae7Cfs7d5wX53lg==', 'price': 600000.0}, {'id': 'UuY34cYu4QLOlhysCrgebQ==', 'price': 690000.0}, {'id': 'bV2HTfb9ZsNXyD6owu70xg==', 'price': 749000.0}, {'id': 'MZnKvUfGZSa2M/c+YCybaA==', 'price': 590000.0}, {'id': 'dq1AVGKpEGd3I4e7LhPkiQ==', 'price': 3000000.0}, {'id': '3GV+yWWOgsnv4/kh5sjjkQ==', 'price': 960000.0}, {'id': '5auergoVV1ebxqxzWbEoQg==', 'price': 460000.0}, {'id': 'RYvgm539O3INqtLD8xGmVQ==', 'price': 217000.0}, {'id': '4UUd7J7/ahsUy+VBYSj9tA==', 'price': 1400000.0}, {'id': 'llwBVBuBWgTlSG2VGYKp2g==', 'price': 248000.0}, {'id': '4rMoIL/S20cqMqVpw6DlyA==', 'price': 305000.0}, {'id': 'voVf+CJMtSb/ZO66PBWDhg==', 'price': 720000.0}, {'id': 'sLCWH8RcsBdfkSlM19GGcQ==', 'price': 1090000.0}, {'id': 'XcGU4++qHucckeiDns+otw==', 'price': 1035000.0}, {'id': 'RN8LunrSmNNL9fAFjqjRZQ==', 'price': 1189997.0}, {'id': 'qIfeWSnl9h1zmw8KMB/bSw==', 'price': 254000.0}, {'id': 'hGDPA7uy8ByfKV7tgY1liw==', 'price': 670000.0}, {'id': 'moNmRHqZmPVSAbXwgsRKTw==', 'price': 368000.0}, {'id': 'AUWADBwqo7W6aJtNBdkhGQ==', 'price': 235000.0}, {'id': 'pqI3ulTqYl+1gLF1H+2Xww==', 'price': 9196000.0}, {'id': 'GqjLpTB71HA3xRVczXdyWw==', 'price': 1290000.0}, {'id': 'ZKyfSTbMEsp1+TS/HuKTKQ==', 'price': 610000.0}, {'id': '/7IsWUAuEFJirO9WrW7VZA==', 'price': 560000.0}, {'id': '48kRHWTayPdAuySN1j2nkQ==', 'price': 350000.0}, {'id': 'ZDibqSnY09x+Pjx1u94tRg==', 'price': 1600000.0}, {'id': 'MsclfHRuhZWXDjDTcC7KRQ==', 'price': 500000.0}, {'id': 'vqSXGw7z4cT+Ulu2UeUexw==', 'price': 580000.0}, {'id': 'NAmmAa5Q5aq9OXS2D6/RUA==', 'price': 598000.0}, {'id': 'aJXTBlw8tdyfkn/rDJKYlQ==', 'price': 419000.0}, {'id': 'PAShIDx2VhviHp2RClasAA==', 'price': 440000.0}, {'id': 'gL89MbLE+bZjAaEThaBv3w==', 'price': 815000.0}, {'id': 'qyvR9Mm/cClh0FMX/LjWbA==', 'price': 465000.0}, {'id': '1XuZHmi35CzK9/vzsUxkaw==', 'price': 450000.0}, {'id': 'fAHOIDMDbTiZeRHtY+TkqA==', 'price': 545000.0}, {'id': 'hFIFqb2990HZTjQLwfxO7Q==', 'price': 14216249.0}, {'id': 'x66YYJ5X/rig02FgyN182Q==', 'price': 620000.0}, {'id': 'IXN7H4V3H82bw9fm7KRACw==', 'price': 650000.0}, {'id': '8AXEhLCF7PIXSLaTP7dq9g==', 'price': 278000.0}, {'id': 'vJsLEbYIraDqCDhAP2jZzw==', 'price': 240000.0}, {'id': 'vGiClmB/ek6G+5uT2TCr6g==', 'price': 700000.0}, {'id': 'BZVpZPJgBoTXINnfnILdBA==', 'price': 1150000.0}, {'id': 'sR2Wy4F+lsnw33fTiJQUwQ==', 'price': 900000.0}, {'id': '3xmXM63Uj5UAqjhWd3QkCg==', 'price': 275000.0}, {'id': 'ksZSLjwHGf1us8ht2CdOxg==', 'price': 489900.0}, {'id': 'cpw+Kv2wCsuq33rDAEauqQ==', 'price': 1380000.0}, {'id': 'vYvGI214io01VPTNRkx2FQ==', 'price': 240000.0}, {'id': 'HSxf6zDc7j2ynldkSZFHJw==', 'price': 735000.0}, {'id': 'SvMPyoZ1dhdeHIM+68v4XA==', 'price': 360000.0}, {'id': 'c2tY+Isa/NKC4WY339Y4QQ==', 'price': 4900000.0}, {'id': 'RBvMSYg0M2cmiwaGerkYEw==', 'price': 430000.0}, {'id': 'jYX1yFuMU7miLe2rct/ouQ==', 'price': 225000.0}, {'id': 'xqCTFenvMniMJeUAcKqbgg==', 'price': 480000.0}, {'id': 'nVvrojVvXfeFS7cRsHjrxg==', 'price': 450000.0}, {'id': 'KbtVrE4alIQyONT1B5xIbQ==', 'price': 448000.0}, {'id': 'eMjMOpgJEnEkf0KCyBzjYA==', 'price': 475000.0}, {'id': 'FaV8r5EyGbKb0ua8MOqFoQ==', 'price': 650000.0}, {'id': '2UX354h/J6RvDUu97FCvHg==', 'price': 595000.0}, {'id': 'Oeg3j/iK7ShceADaIvCJtQ==', 'price': 550000.0}, {'id': 'oHXroLPaIrCD1NVMVEKmyQ==', 'price': 448900.0}, {'id': 'Z5f6EQOj4LQoMrgsNIDN2w==', 'price': 1400000.0}, {'id': 'KgDnVVsi3DnpIffdNwcUsg==', 'price': 12400000.0}, {'id': 'o/FEfi7EJwEbE4wqiq8feQ==', 'price': 320000.0}, {'id': 'uA8IfERfeUSHwyUW+hO0OQ==', 'price': 735000.0}, {'id': 'gJrnN4I/pkv05hPWFqX8Dw==', 'price': 800000.0}, {'id': 'oMEdGM3j2PGQhbrQLpsBqg==', 'price': 1010979.0}, {'id': 'YZjXMuU3kQbvH9XpJPSDrg==', 'price': 545000.0}, {'id': 'Qg81y6cAGFh8B6K1lHA2rQ==', 'price': 370000.0}, {'id': 'Twy8IMXyCuGlika/81RoNw==', 'price': 600000.0}, {'id': 'QvCoEyLXwjyRme0LqR5feA==', 'price': 250000.0}, {'id': 'C8hhx0zJvq6CI/DfhynkoA==', 'price': 1100000.0}, {'id': '8BmBMf1XNjRk+wbL0Bh5Jg==', 'price': 8874000.0}, {'id': '35gCPjbWIr7mbb07jyu6zQ==', 'price': 560000.0}, {'id': 'QjkyZVsztTYS4mYpGLF3sg==', 'price': 252000.0}, {'id': 'YAbBBFXF685MzuwI6nU1Ag==', 'price': 300000.0}, {'id': 'jeZ9Zm6yfBLOeM/rovV6yQ==', 'price': 425000.0}, {'id': 'ylDqyC1vQ6aALuBfX8QqRQ==', 'price': 612500.0}, {'id': '64MPDswDkIF6vxqBJHbemQ==', 'price': 1200000.0}, {'id': 'GmMB7qmO+Q4t6hSFk8VUvg==', 'price': 340000.0}, {'id': '5r8/STX3Fw1aCnivHGbXVg==', 'price': 220000.0}, {'id': 'sxKCKrCeDKS5Y3PBsxXF4w==', 'price': 449000.0}, {'id': 'nAdgVPF1POtHWdWu30SIRg==', 'price': 2900000.0}, {'id': 'brrDS+LIiYZkg+xTxUMHqQ==', 'price': 210000.0}, {'id': 'JPIeY9B9UmoNxnsWud5nOg==', 'price': 270000.0}, {'id': 'vx/p4gGwU1aY8LYRPAEAOg==', 'price': 420000.0}, {'id': '3eqskaKyTdWmPBYF7MKFmw==', 'price': 990000.0}, {'id': 'sUJU3ay5GbcRSIjGlJzidQ==', 'price': 383764.0}, {'id': 'ihcfWIbPKGn+DrCKqY3vAw==', 'price': 520000.0}, {'id': 'rvSd2XJa0jvB2fhZq5zY1g==', 'price': 2100000.0}, {'id': 'Lm8FkzPVFB+PIxi8X/yU4Q==', 'price': 1200000.0}, {'id': 's/4ogQQJyd6f1l17pF8YhQ==', 'price': 2500000.0}, {'id': 'PnKrlUBl5rj+v684a1wp8A==', 'price': 602196.0}, {'id': 'HCxGouE+wS26n9DFucSAqQ==', 'price': 329000.0}, {'id': 'EqkVSDqW3bDfScCuJWB4aA==', 'price': 1100000.0}, {'id': 'mz8dSxpaK6CHdQ0LxH/mHQ==', 'price': 2000000.0}, {'id': 'FxW45YDJrFwDT25qEtjXUw==', 'price': 610000.0}, {'id': '7jPOSKIw6Vi6bJWMKuzYLA==', 'price': 800000.0}, {'id': 'yi82oFISYhHtuSX6JzkkDg==', 'price': 279000.0}, {'id': '1xzsefoE4ncwDFmerlXmTA==', 'price': 599999.0}, {'id': 'ekvVRWE0hPzGTMWAKN4gUQ==', 'price': 860000.0}, {'id': '5Ad37hZjNukGc0swJxp4hw==', 'price': 459990.0}, {'id': 'HAcUiE99+Ml/YoJeSp9Tpw==', 'price': 1950000.0}, {'id': 'AuEb9om7RLhZHlPjNo/vew==', 'price': 3300000.0}, {'id': '6zL8Nz78SFATQbHQSHbpIQ==', 'price': 280000.0}, {'id': 'XAUPY8AURiPL77wJunCWvA==', 'price': 10302825.0}, {'id': 'gqDnAWd9f5BWeDve8F76mA==', 'price': 420000.0}, {'id': 'MBOKeWTVUC+Qfl2I02r9wA==', 'price': 855000.0}, {'id': 'geRQOFnc+awZ07ELKHRHdQ==', 'price': 890000.0}, {'id': '3oAg6GaX5xvF4lBqfSYGPA==', 'price': 465000.0}, {'id': '/PUWlXj8rrCzGWdtdQliFQ==', 'price': 1300000.0}, {'id': 'KbKTwmOra1aKvY+7CNnxYw==', 'price': 279000.0}, {'id': 'KmweKGrU6fhNKxLyUAJVKA==', 'price': 580000.0}, {'id': 'xE4a40CM/GVeCJZNmhwogA==', 'price': 545000.0}, {'id': 'yulkGKozQzNwFL2PdpaOqg==', 'price': 1450000.0}, {'id': 'TBPAJSfdOAizBX4KFidjww==', 'price': 650000.0}, {'id': 'tMTBPo3gi8o/w+YmLjtZEw==', 'price': 500000.0}, {'id': '3lKvHCwl0d3J9Aqy+Wyskg==', 'price': 240000.0}, {'id': 'q5fcZm14FnLLN4EvHHUifw==', 'price': 740000.0}, {'id': '3HscI9z3uW0qH0LmCahKJg==', 'price': 255000.0}, {'id': 'Clw/AMTfM85mK1snH40VyA==', 'price': 728000.0}, {'id': 'yrFb82SztHjACn0q4IFMbQ==', 'price': 510000.0}, {'id': 'kRs8YvEL3DOLAEykAKmM+g==', 'price': 260000.0}, {'id': 'WBI18h4o5zCLjaYX5SAMVA==', 'price': 485000.0}, {'id': '+C1YUAaxgmuc2LHTtETG7Q==', 'price': 670000.0}, {'id': '/9IDPbiNKEjdG0jpoQTdRw==', 'price': 300000.0}, {'id': 'evoi0KfHVlt/yyox3bEVcQ==', 'price': 390000.0}, {'id': 'eQvsUgWpHKaLSekvP/sy0g==', 'price': 850000.0}, {'id': 'ynsblL0rxCOGyBOBKUW/2Q==', 'price': 510000.0}, {'id': 'DXPJjQ+Lqn9D6lbKUvhoBw==', 'price': 820000.0}, {'id': '+o6xNi80BQM5wZ0vGo0wsA==', 'price': 255000.0}, {'id': '8PykCkiwfXGmZOAz+kojcQ==', 'price': 510000.0}, {'id': 'kTCXwb8TaGFR3clUrsJ3hQ==', 'price': 258000.0}, {'id': 'Gumc19sZYdwiE09RNWW0Lw==', 'price': 465000.0}, {'id': 'GffXiyaC1XVMzPpcIYg8Og==', 'price': 12912239.0}, {'id': 'DPb8UqVGTLA2n4Yu8MZK0w==', 'price': 1350000.0}, {'id': 'CsikFyamixWkiW7igmhkKg==', 'price': 290000.0}, {'id': '4cDF+wlVPWJvj3xulncnEQ==', 'price': 750000.0}, {'id': '9m6k+d+09HcQypJFY0Wkbw==', 'price': 685000.0}, {'id': 'gFXsEjIEpk6rD+nLxoaEoA==', 'price': 1450000.0}, {'id': 'bq3WObGyF5kZSuofvcHMog==', 'price': 695000.0}, {'id': 'ZgYfK8Llig7kjNyIV0eciQ==', 'price': 240000.0}, {'id': 'mjeqSJFYpA7XQN+9KKmFhg==', 'price': 670000.0}, {'id': 'w6dw5onkxOWkfKVggBwGzQ==', 'price': 249000.0}, {'id': 'TS1dnn4KzCo0JGkNJK7D6w==', 'price': 280000.0}, {'id': 'u4r6anuZrnmrLhYpwLqcmA==', 'price': 250000.0}, {'id': 'KYa7LGGCXULv7ser2Ylb/w==', 'price': 530000.0}, {'id': 'l7pPyURDtT7YXjGwyft1+Q==', 'price': 798000.0}, {'id': 'Rt86t+PXXvLpfAVMVCDG2A==', 'price': 6095000.0}, {'id': '7X81axda+AcvGZ3FLJQ2JQ==', 'price': 285000.0}, {'id': 'dDMTituZqJdvstGwSEcZBw==', 'price': 260000.0}, {'id': 'd9DnV1+jbm9tR7JyGvwoeQ==', 'price': 1900000.0}, {'id': 'qVUSeNQDgrOgJPYWw5ykxQ==', 'price': 1350000.0}, {'id': 'vHTg1aGTUfj++OxbBtJTfg==', 'price': 490000.0}, {'id': 'e9DhauykXG51nyuBi9w5nA==', 'price': 490000.0}, {'id': 'L2RjmADO5vaa0Loxy0P6eg==', 'price': 800000.0}, {'id': 'ur9Z5JCuIAlvdHeN2TYUXA==', 'price': 500000.0}, {'id': 'KX+39LENpiEejSJPL/zQxw==', 'price': 5000000.0}, {'id': 'FdK35AFx+QoBeVSvh7QGWw==', 'price': 490000.0}, {'id': 'cA2eRdPqSalzdNFFCbnC+A==', 'price': 1050000.0}, {'id': 'qtm6eG/ZB6A52sYhyb65Iw==', 'price': 450000.0}, {'id': 'BgBlhFzZMZ40VZ5NdHVrww==', 'price': 205000.0}, {'id': 'r+NiQjHK2oTg/6m1ZO+aVQ==', 'price': 715000.0}, {'id': 'pDL5tqo+ur3aia31w27r8A==', 'price': 550000.0}, {'id': 'N67wzq8S1O5gbYlwlOSDOA==', 'price': 6300000.0}, {'id': 'FX3sWTieiXnWdae1PMQ/RQ==', 'price': 875000.0}, {'id': '1pRrBXzBM5QVsCLwdwV7nw==', 'price': 335000.0}, {'id': 'e8HjkYABqzBVOzfkjJmkSg==', 'price': 900000.0}, {'id': 'ArPJU4hKKzmUVEklVErEJw==', 'price': 495000.0}, {'id': 'LBtLRBNE8f3/KgwHf0KPMg==', 'price': 700000.0}, {'id': 'b6oSZWa8xThn7rcN92m4hQ==', 'price': 260000.0}, {'id': '2bfvfRXHihx3UosPPXqeBg==', 'price': 430000.0}, {'id': 'gcKp30u1kKkkb8zjuL/QHw==', 'price': 1100000.0}, {'id': 'gWkoo7MA5EZS4iEBmMMmVg==', 'price': 260000.0}, {'id': 'FURQYGR/HUmtPRH4lFI28g==', 'price': 1550000.0}, {'id': 'QFOdaX8B97nSYJG9Z9Um6A==', 'price': 236000.0}, {'id': 'rI1UqSqcA0FPqy4zUFMU/A==', 'price': 320000.0}, {'id': 'uR4CZJWyWRFUCIZeabsVEQ==', 'price': 355000.0}, {'id': 'fwaeNTDWEDuLqzguQyDICA==', 'price': 14830200.0}, {'id': 'gOwGaMVQdtLcOuX5O7TWnQ==', 'price': 650000.0}, {'id': 'swvA3wM1Df6lwOBx4ciKJg==', 'price': 2595000.0}, {'id': 'zH/KtYfZVuF99UQMIK29JA==', 'price': 650000.0}, {'id': 'WTtyOMPKU3NXB+u1b/KGDg==', 'price': 1000000.0}, {'id': 'x1qp5PLRPrqurpZO9rpfYA==', 'price': 300000.0}, {'id': 'TaCteUfOaEG+IqvTFTFA4Q==', 'price': 339000.0}, {'id': 'zGR2UrnvLt3YXdFy0Cbp1w==', 'price': 650000.0}, {'id': 'ZRceZve16hQ5YHAEeUfL2g==', 'price': 270000.0}, {'id': 'K1L2pHHTca5oq9frmjgIEA==', 'price': 690000.0}, {'id': '3SeCcJ9FP/gcdECCKnSDPw==', 'price': 11333108.0}, {'id': 'rGFxif5Wx1jyII6QBe5W8w==', 'price': 248000.0}, {'id': 'BN1UaI56t/qtJDvMM+XwVg==', 'price': 448000.0}, {'id': 'uYwUDjCOef5LCHT4We+CGQ==', 'price': 330000.0}, {'id': 'AduHpXYbnhukwLOaNXTgMg==', 'price': 2800000.0}, {'id': 'B9HNDyWa1RHQc1bQ1r8wsQ==', 'price': 435000.0}, {'id': '/RgILtSwp8liA3SmIQ9uqQ==', 'price': 372100.0}, {'id': 'I9fKGiu57oR+67HxOpQO8A==', 'price': 12500000.0}, {'id': 'caw4vg4u2WK069nRwvh73A==', 'price': 26445000.0}, {'id': 'Noo3DxnOvMpBjZDv3Of2Qg==', 'price': 510000.0}, {'id': '3kDDdlp9xcEy7b7U5Jp7lg==', 'price': 580000.0}, {'id': '+4sgy/u89UkFwUIdxtP+XA==', 'price': 650000.0}, {'id': 'FkUpiuJUdPuQ4NPvPdQmlw==', 'price': 470000.0}, {'id': '6ob7GZxB1WSy4CYbvAYsAw==', 'price': 448000.0}, {'id': 'la3k0C4F1owLQE3fSljpcg==', 'price': 490000.0}, {'id': '7HQFf4NAvoEKhrx/SC2flw==', 'price': 750000.0}, {'id': 'WS0r5izE8DEgfmc/Tk9yHg==', 'price': 644000.0}, {'id': '6/gUpEp3yERtMN2GxU9cug==', 'price': 490000.0}, {'id': '55zJK2vto+wDdc70bNH/wg==', 'price': 310000.0}, {'id': 'TzfbE8unzV0m5Y4uApmHvA==', 'price': 790000.0}, {'id': 'AmQSu8cuBRf9YH8TNgOucw==', 'price': 249000.0}, {'id': 'uhrBRF5i0roZZwm8PuwtwA==', 'price': 380000.0}, {'id': '0oqYGwYb12U7G5i9RrKZQQ==', 'price': 670000.0}, {'id': 'mDdVG7pixWm+E0YihODuEg==', 'price': 550000.0}, {'id': 'aS1hknstqDr63loq+szq5w==', 'price': 450000.0}, {'id': 'vbOdmFyfLY+yplcrIzAyJg==', 'price': 679000.0}, {'id': 'yEqQNevYY9Pl+iIBubKlcQ==', 'price': 659900.0}, {'id': 'EhSpwNSexLKXCZBnSfTs3A==', 'price': 397000.0}, {'id': 'oqf8XDgOcyyrKCRfVwCf7w==', 'price': 350000.0}, {'id': 'SicY1KAaR/Fj/LqxQPoqfg==', 'price': 206259.0}, {'id': 'b0XVEKFKE6aoMXK81TqSGw==', 'price': 360000.0}, {'id': '4o/vpz4WT13JeMaNyCRTHg==', 'price': 670000.0}, {'id': 'lIvxnWHmXd8+3wvj2T92vw==', 'price': 345000.0}, {'id': 'ePJghddG7V0eetYuYkJ82A==', 'price': 12400000.0}, {'id': '39QzVzhXFLs/GIWi6SNgjw==', 'price': 880000.0}, {'id': '7q9qVER/Lyqkpm4eISyHoA==', 'price': 800000.0}, {'id': 'hf4ntxLQJ3yA3Yx5hMQw1g==', 'price': 5500000.0}, {'id': 'JpI1+RAMvSarjoRGYL2S9Q==', 'price': 530000.0}, {'id': '6RHrvnjOINY/7pxDcIZpyw==', 'price': 950000.0}, {'id': 'aLKo+s6aayKhGKipUwoZig==', 'price': 245000.0}, {'id': 'SzrrlV5Y3HGMC0gyGgq8iw==', 'price': 290000.0}, {'id': '90opBojsGyjp2G2Ckqy9ug==', 'price': 350000.0}, {'id': 'HFfC6rubghcI6W6WLHLvSA==', 'price': 495000.0}, {'id': 'XAZ5+Hc6MO66jB1uGEZ0+Q==', 'price': 850000.0}, {'id': 'wLKg8U/wXQDPbZhXba6yJQ==', 'price': 320000.0}, {'id': '4PmZgOZ2S2O9wEtj3Z2YMQ==', 'price': 1300000.0}, {'id': 'aPpXdMjyK9C1b8Rk4RW50w==', 'price': 750000.0}, {'id': 'oGEKv1hw0rm1wCTv3ai5DA==', 'price': 650000.0}, {'id': 'I6s3FyE3LiMfzMX6jW5gUw==', 'price': 790000.0}, {'id': '0S5X5jQH8FG0LEsBuxGcCQ==', 'price': 1390000.0}, {'id': 'lJPLlzYPdeKTk3GUEEza8w==', 'price': 335000.0}, {'id': 'EDV8q8f7LvXAx5QiGUIV2A==', 'price': 12424985.0}, {'id': 'pwoyNpjRQqOHOZfLbe3BBw==', 'price': 525000.0}, {'id': '8YACzhClzzREMBuErgOG0g==', 'price': 249000.0}, {'id': 'kjwhbdoF3zP8QFdP4mI6hw==', 'price': 3300000.0}, {'id': 'UgjwTLN8XXkxV2SvZAMREw==', 'price': 530000.0}, {'id': 'avGdvsFgYp5pzkciptYK2A==', 'price': 700000.0}, {'id': 'tVVQjkG6xibaBRO7pAdLaw==', 'price': 350000.0}, {'id': '/1vEnlGZPvbGglBTc6N8IA==', 'price': 279000.0}, {'id': 'meKRXF/Hb60/I+/KF9a6OQ==', 'price': 250000.0}, {'id': 'YgYB+VnrA4LUVxM75YEIaA==', 'price': 735000.0}, {'id': 'Hg0HfjKamy82n0RsybD3Mg==', 'price': 480000.0}, {'id': '4XxPqtRNI8tG6u39EKYC0A==', 'price': 2000000.0}, {'id': 'Lct/mbLU5yIMG92aDTA0rg==', 'price': 950000.0}, {'id': 'DFhWhFSaMcjTaXj4oeKr8w==', 'price': 350000.0}, {'id': 'VJz/w2Me1/lWthUCMDd26w==', 'price': 1200000.0}, {'id': 'm3Bf2le7M/q7qRjaVsXuxw==', 'price': 800000.0}, {'id': '7VHgxtSnDYvRZRosu18D7Q==', 'price': 490000.0}, {'id': 'wjPSiulZ4m9HPyIFaw0VIg==', 'price': 1900000.0}, {'id': 'Byq3NAYNqOsbGAxjMjXr3Q==', 'price': 4500000.0}, {'id': 'rhxtlFdS9ip9vYsEMxsa9g==', 'price': 1334000.0}, {'id': 'iBsw5BQpX1v07A+2Nmm9dQ==', 'price': 815000.0}, {'id': 'ZacuAcDAXsLpzmvt/Fus0w==', 'price': 760000.0}, {'id': 'Q0jkSW+x3HDVxoTw4fv+XA==', 'price': 13420547.0}, {'id': 'IyvsqQ+IG5ES5j4Gfxhkhw==', 'price': 680000.0}, {'id': 'ZXN3UM5B5rXqpBuXt1uBmw==', 'price': 650000.0}, {'id': 'loDUSeK3XBopznFNqzHDug==', 'price': 440000.0}, {'id': '7Lzo7SsFjIFYP8iD9gloVA==', 'price': 1000000.0}, {'id': 'H7F9/RF0n0cj+LC6EP/BdQ==', 'price': 310000.0}, {'id': '6KCaIhWfitH0xtuv+ihtrg==', 'price': 760000.0}, {'id': '+PmKdU6HPAMyDDeaYos+hQ==', 'price': 950000.0}, {'id': 'nLixfF5dwlcepfh1DfnzRg==', 'price': 245000.0}, {'id': 'XeneWaCtuKNAYQgWU92m/g==', 'price': 429000.0}, {'id': 'hliJ49Apu1bJR6WECZPJvA==', 'price': 900000.0}, {'id': 'UON1YTcMiV0jz72H5ycnPg==', 'price': 500000.0}, {'id': '0Any+j2yQiNaDNshvWcb/g==', 'price': 420000.0}, {'id': 'rc+94KxNP6odMTLCupkOGQ==', 'price': 445000.0}, {'id': 'HHhbB7XcNGU3yGqHP8UFMA==', 'price': 650000.0}, {'id': 'ZhsX/jSbuHBoYWcNZPTcDA==', 'price': 650000.0}, {'id': 'feYjdrplQJyjwTuZHZwpaQ==', 'price': 430000.0}, {'id': 'JHUb7Mw/yy0guK87lVq+Ng==', 'price': 1650000.0}, {'id': '0m1jok2VjVTD8ufUCKFwNQ==', 'price': 20942272.0}, {'id': 'JUxWT8Eb8qFRaiKtgcevxw==', 'price': 500000.0}, {'id': 'grV51Wrnf8bewdNEj/fwxQ==', 'price': 10874590.0}, {'id': 'IbNP6WbvLsHQ4s05x7MU2w==', 'price': 690000.0}, {'id': 't/R90Yk0657Xq6tOhVVvtQ==', 'price': 448000.0}, {'id': 'aAQmtVZ2aL7XVAJUUW4eCA==', 'price': 270000.0}, {'id': 'fQRm4ofJ0A2QIU/HJ5IcoA==', 'price': 415000.0}, {'id': 'FVRObERb+u2qSRiXamDRJg==', 'price': 310000.0}, {'id': 'FEkO/Wu7QyVnDiozO59fkQ==', 'price': 320000.0}, {'id': 'uKefOfh1Ok2n/GU8HkhCxg==', 'price': 1800000.0}, {'id': 'bJfb1FjAK7Px5rgSAbmMNA==', 'price': 590000.0}, {'id': 'BAngmCc+nMEOd8nbuapbyA==', 'price': 260000.0}, {'id': 'JrnhKkPnKR5/krxWls7HCQ==', 'price': 385000.0}, {'id': 'W52In6CZIR2DASgyUILfAw==', 'price': 215000.0}, {'id': 'mb/2z8u64ltj6rQn+cRIlA==', 'price': 602196.0}, {'id': 'iPZD+RRXjp4cYel6Q0aVbA==', 'price': 620000.0}, {'id': 'GZIYmUzt54pDL4KV+f+l0A==', 'price': 460000.0}, {'id': 'JAJut7Mxw0x8RA+IbANHdg==', 'price': 460000.0}, {'id': 'D1MXBE3d5ER7m+DIW8AWag==', 'price': 689000.0}, {'id': 'ZqDXoAZnak0JcE0H6PABKw==', 'price': 490000.0}, {'id': 'TlKjB5CP81xwqPjS3ELV7Q==', 'price': 285000.0}, {'id': 'aS93ItF8IFYerf99/y6bkg==', 'price': 420000.0}, {'id': '9sQ2tH2YVPlVyxNoFBV5pQ==', 'price': 530000.0}, {'id': 'uk2n6TOi2OQmuL2vxmxs9A==', 'price': 666666.0}, {'id': 'iW/Pjtsji/+It3hSE2RSJg==', 'price': 830000.0}, {'id': '0THIRMQlusd9rHbjFrKXMA==', 'price': 620000.0}, {'id': 'HPfKR3JWVfgbG0CyBRYI0A==', 'price': 280000.0}, {'id': 'A81/UIPpc1QpzJbDyoACqA==', 'price': 830000.0}, {'id': 'PZnjcmrrq/OLsquML/jjZg==', 'price': 990000.0}, {'id': '7V13+FjWE8sOT0xw3W5QQQ==', 'price': 195000.0}, {'id': 'M6DqgbfhgR131b/I2brlNA==', 'price': 260000.0}, {'id': '55t4/Q/0faNGLz8PeUeajg==', 'price': 225000.0}, {'id': 'vRbDZl6CsRdT5UZ8wts5dw==', 'price': 42000000.0}, {'id': 'zw1OI6s/ElO3ar+/hmTgMQ==', 'price': 400000.0}, {'id': 'Yj3Ib56PjPR3wr5+or/cQQ==', 'price': 245000.0}, {'id': '+vSeABC1d1SV+Y827g/QPw==', 'price': 515000.0}, {'id': 'sIpVY1dtbJg172Nid3p72w==', 'price': 630000.0}, {'id': '0PTgfsAR7baT8EbpsmTJPA==', 'price': 3000000.0}, {'id': 'GDK4cvTTS8LIvYQjBl1qyA==', 'price': 1290000.0}, {'id': '/62nENwYflB8I1EYGmVrpg==', 'price': 260000.0}, {'id': 'z1u8OgNXnt8kBBx/DwtUtA==', 'price': 450000.0}, {'id': '+J+dl+38Adfz6ECwjNy8kw==', 'price': 800000.0}, {'id': '1FYYQWj11PX8+D9ZuPFBBQ==', 'price': 320000.0}, {'id': 'tOC4AvcljSdl1wUbWizhvw==', 'price': 480000.0}, {'id': 'EIbc/hFtXP4xor/T+rdtug==', 'price': 380000.0}, {'id': 'sPVFSNMDKGN5/Rok02sIug==', 'price': 39200000.0}, {'id': 'nQD7U1/UqAOoLJvenrE3HQ==', 'price': 11314553.0}, {'id': 'GklfHc6BxvsZq6512XTh+A==', 'price': 790000.0}, {'id': 'JvaHw8T37Sy4Gok9ui1Wmg==', 'price': 750000.0}, {'id': '4OkeEDwQf0xOzMWQ74U0Kw==', 'price': 630000.0}, {'id': 'F6Fsu8qmETOiIGWhLJx4Tg==', 'price': 425000.0}, {'id': 'C4JH2GBreqBPxh7jzM8fnw==', 'price': 1050000.0}, {'id': '3jfAlawBGi7rPrfjRPGTaA==', 'price': 780000.0}, {'id': 'MI/i/4YBJOKXTNrc1i/yiw==', 'price': 215000.0}, {'id': '0YUMos1r9RMWsjOpZbeBiA==', 'price': 480000.0}, {'id': 'Js/MhBIQx5Vl+2HeMubE8A==', 'price': 650000.0}, {'id': '806HfHJPoEhA4SU1fNV3ng==', 'price': 950000.0}, {'id': 'AZ10yFWM2KC9nJafonBXJA==', 'price': 670000.0}, {'id': 'dbNsF2QF6KcDp9aigoVq8A==', 'price': 980000.0}, {'id': 'avpUr2N32JlydsJZQ6GcQw==', 'price': 990000.0}, {'id': 'Kjq5igY0enErdl2kbT0fYA==', 'price': 290000.0}, {'id': '6IeyyCQqiTT86JwkYm/zng==', 'price': 750000.0}, {'id': '6tb9bsue2Gmn0U/BwwTY4g==', 'price': 480000.0}, {'id': 'VIB3wIcoUmzyMo8MQjfQAA==', 'price': 750000.0}, {'id': '6Q/E/SK/YkE7Ca+xmtShNg==', 'price': 1100000.0}, {'id': 'CNTWgbdFuZssqsSwSitxSA==', 'price': 980000.0}, {'id': 'AhcmRhW+/51MfWloDKWRew==', 'price': 719999.0}, {'id': '43ftOQOaFt1fO0emq7wQFQ==', 'price': 2400000.0}, {'id': 'OYaJulVONXL2MxPKNKx9iw==', 'price': 398000.0}, {'id': 'Grnm5nhjR1HAyxrRJO0YYw==', 'price': 301421.0}, {'id': 'GDO57RPzbkZxpF83ar+pmA==', 'price': 280000.0}, {'id': 'W6egeUdwrN/3KuixErBT7g==', 'price': 490000.0}, {'id': 'HDU6JA9dWm/rOJQQH+dKWA==', 'price': 1250000.0}, {'id': 'q84ayYR/2XiyK3IWh4Rhxg==', 'price': 768000.0}, {'id': 'DBt2H1PqseTJ0RVz0w8WSA==', 'price': 495000.0}, {'id': 'OU5J9nEWXY2Hg65P+QhEQA==', 'price': 490000.0}, {'id': '5MkTSY9niL7kuID+PQZGEg==', 'price': 340000.0}, {'id': '/Y0jR/3pGCfGlvtBjZAJsg==', 'price': 480000.0}, {'id': 'tmi3A6iVby0lFyguSK1CUw==', 'price': 470000.0}, {'id': 'ynZrE9dUtm0eDi3ur90f5w==', 'price': 550000.0}, {'id': 'mXToddO9zhpcceLBzTvsLA==', 'price': 1500000.0}, {'id': 'NFQKgK/S37NyZj4tGR5BiA==', 'price': 1610000.0}, {'id': '9GFKpG14PvJmMq0is12RSg==', 'price': 720000.0}, {'id': 'Meu9K4nh3S2NIhJ7Jlb96w==', 'price': 495000.0}, {'id': 'QPUCODATxxcOAVG5RnOaqA==', 'price': 590000.0}, {'id': '6u85eoP9lZMmYviZJGd8Fw==', 'price': 680000.0}, {'id': '2ZEJZKlrMzbBUNH+Fiv9NQ==', 'price': 3800000.0}, {'id': 'XIeSduWBmI7BNI68PxvRVA==', 'price': 430000.0}, {'id': '6SOSIUXdHdllasw+E0bkCQ==', 'price': 250000.0}, {'id': 'jFFUBvm8yKKTVbcAX8p8OQ==', 'price': 490000.0}, {'id': 'jBKNnrEaMnqOf075mPwhAg==', 'price': 250000.0}, {'id': 'npXToLNiXHpZ+70hoj2KKQ==', 'price': 12500000.0}, {'id': 'rNEjkbdBB2qWVSz9hJGLRg==', 'price': 14300000.0}, {'id': 'igYBF9gZXqYjBfU4EXDznw==', 'price': 500000.0}, {'id': '3UWv96c3OBxBRCmRRAE/QQ==', 'price': 850000.0}, {'id': 'JEpjmy1nBuCoNbs6/tQZJQ==', 'price': 300000.0}, {'id': '1h1dtK3NHsAuH16x4c4EsA==', 'price': 525000.0}, {'id': '0jXJaBMD023sy7cjl5+0XA==', 'price': 2600000.0}, {'id': 'EyV644bPvFHw19aumeCGHQ==', 'price': 430000.0}, {'id': 'GWtFQFNH50wJ6MkpsCKqWg==', 'price': 265000.0}, {'id': '8dnaRzQICZtfHJQfDYldOA==', 'price': 602196.0}, {'id': 'GidOAPDDpLFCMBU947pHeA==', 'price': 255000.0}, {'id': 'W4b9g7RtZEEXecbbaond8A==', 'price': 450000.0}, {'id': 'yuulVTENHixzKTaUyWnubg==', 'price': 290000.0}, {'id': 'oEhr4x32ThYm1M9IYKaA+Q==', 'price': 320000.0}, {'id': 'vnWAbQU2jUdREpagAQla0Q==', 'price': 865000.0}, {'id': 'bUc3K3PRIm1XpxgF1QxdeA==', 'price': 1050000.0}, {'id': '17YHxFVv7hE8+3NUYHEAaA==', 'price': 1000000.0}, {'id': 'OLU8KyZbvULuz8lLLhGH8w==', 'price': 650000.0}, {'id': 'SVIhhuLfybiXxmlgTLDp5A==', 'price': 370000.0}, {'id': 'gsuV5E6mqUTDwiNVOmEEOQ==', 'price': 550000.0}, {'id': 'dixkXP0x0GG8NRTcxuok8A==', 'price': 320000.0}, {'id': 'rMNUAz7EJxxVRVHL0nzjQQ==', 'price': 17266062.0}, {'id': 'H76Sr34abWf525mau/QOLA==', 'price': 1350000.0}, {'id': 'wSeVl6GQPAL8CIn3T4QD2w==', 'price': 375000.0}, {'id': 'qVvXiDgCjXBI1J4ZQA+SHA==', 'price': 720000.0}, {'id': 'hTlESeoQlurhLMgKzJPTNg==', 'price': 195000.0}, {'id': 'hS85Ld+WacflxnPNPYiPBg==', 'price': 460000.0}, {'id': 'LFQW890eh9VDZAjWd6enAA==', 'price': 250000.0}, {'id': 'ck1seL2eS6uwWMsYY1URsw==', 'price': 2800000.0}, {'id': 'qNVungcDUDXGBfatikSkiw==', 'price': 400000.0}, {'id': 'W11bysHQ/GzaJhBDX8GXBg==', 'price': 245000.0}, {'id': 'XCUJPrGjhSimFeqSYnv/rw==', 'price': 15063899.0}, {'id': '7qguEV/dIVCdC7bgzKIvzQ==', 'price': 265000.0}, {'id': 'MFzb6fYLM05SahNkhhVIUw==', 'price': 1199000.0}, {'id': 'VaG7zPT1spgeSe8dDpj7eA==', 'price': 495000.0}, {'id': 'K3je85rObcggwI0dDPaq1Q==', 'price': 450000.0}, {'id': '8iQHmNMGDWcUmNN+j1Yjzw==', 'price': 1300000.0}, {'id': 'CfhBDsmcvbJ82+YcqYd+MA==', 'price': 3000000.0}, {'id': 'NoenlUbKldQuyLpGBPZlXA==', 'price': 612500.0}, {'id': '7F6xc7SHvtZ2OGjiD3IV6A==', 'price': 450000.0}, {'id': 'ryTzwiqjDQ8izvCXToNquA==', 'price': 2000000.0}, {'id': 'wu7t2TOVHvRiSsddz7H4jg==', 'price': 650000.0}, {'id': 'EAnZCSSzw0ZEXrTP1a1XTQ==', 'price': 270000.0}, {'id': 'xvahfH7hM17QsiyeVt6lGQ==', 'price': 252000.0}, {'id': 'YnB64jak0V+vA/RrSVhf+Q==', 'price': 400000.0}, {'id': 'NdGKxPalRyZxcehXRQ2E7g==', 'price': 2200000.0}, {'id': 'FgnNQKhzYPm2zY/weMlyuw==', 'price': 523098.0}, {'id': 'eJ7BF86AaZT9623H8ymfDA==', 'price': 590000.0}, {'id': 'e4T89JE4tfnSjnjmBOw0bw==', 'price': 285000.0}, {'id': '2KwBa5rfwEv9nc5OBAUprw==', 'price': 590000.0}, {'id': '2wZLieVEvj/gMvHYv31Rcg==', 'price': 259000.0}, {'id': 'Kf+xY2g5ofuu/kfUoDheFA==', 'price': 320000.0}, {'id': 'l876tlhPPMN9d4x0e5DqCg==', 'price': 245000.0}, {'id': 'OF9d9qk8wYHYq4O7p5ELLg==', 'price': 1550000.0}, {'id': 'SQ5Ik+krFwaEnhHWxst6Vw==', 'price': 490000.0}, {'id': 'Q52xgKPCwU8rYtp+rhwnHA==', 'price': 680000.0}, {'id': 'TWJZ+cvbx61dZ4PamGno8Q==', 'price': 320000.0}, {'id': 'b7VRi9umzvPi7O2UFGn4Vg==', 'price': 850000.0}, {'id': 'asXRH9DNzvZUG0pBrej4pA==', 'price': 250000.0}, {'id': 'FFfuUFqq0gcnP7qzE49bPw==', 'price': 790000.0}, {'id': 'INQX3fHAKWoMQLHShtpjdg==', 'price': 585000.0}, {'id': '9l+jWcSiTnbmZJ+/ZJjJCg==', 'price': 499000.0}, {'id': 'vpqjykiTGU8HBZTHtnM1yw==', 'price': 520000.0}, {'id': 'P4ykN1fn+aTn16Nb4xWHQQ==', 'price': 217000.0}, {'id': 'YnUTmdX3wMWRPgP8Y/fpgg==', 'price': 1490000.0}, {'id': 'riz8SpSk8jmQ4Zsc9b/9Aw==', 'price': 1600000.0}, {'id': 'yH+UlobHTyg8dtu/ew/lPQ==', 'price': 350000.0}, {'id': '8+TQSLK+EYUCHOESafJjLw==', 'price': 3600000.0}, {'id': '6pW55BmocptO7hNM1/4cIg==', 'price': 449000.0}, {'id': 'nmA9vO6DWb5JsL6Q8gdT8A==', 'price': 500000.0}, {'id': 'xVjCFgVVxOAb6jEz1P/oPw==', 'price': 465679.0}, {'id': 'wYTadIBQIgpKiTjsebnpwA==', 'price': 2250000.0}, {'id': 'Nh6T3JjSq6dhURusLncj7g==', 'price': 460000.0}, {'id': 'mSImEBynpFizaxQJiwFbWg==', 'price': 930000.0}, {'id': 'APxjvWRc5IpPMcIB6QoG8g==', 'price': 900000.0}, {'id': 'Ju+beR2pxi6hjdSuSYepeg==', 'price': 255000.0}, {'id': 'aHK7Co4Mb3k2CPotCVrRMQ==', 'price': 400000.0}, {'id': 'EpGUq5u+2YYxOaJA1tjm+w==', 'price': 265000.0}, {'id': 'kHkMIay2Fn7KLMc9Zb8phA==', 'price': 1200000.0}, {'id': '9mIJnHQp5EsydW9YnuYAPQ==', 'price': 330000.0}, {'id': '5j7A4AIlzpEaubvqWj5Opw==', 'price': 429000.0}, {'id': 'JZ01A7R04qCh4ui2/CDfIA==', 'price': 550000.0}, {'id': 'jQr1ok2GDWo6t2l3PH5L0A==', 'price': 989000.0}, {'id': 'CCx8SM3cHUvR7s/x7IFm0w==', 'price': 580000.0}, {'id': 'sMUo3JYeARNI8kyVcwGdfA==', 'price': 34830000.0}, {'id': '/1dhXsLriFTCRdocz2e+7w==', 'price': 450000.0}, {'id': '5RzKMBAwADUn1WYGK2dmKg==', 'price': 260000.0}, {'id': 'l7nBk9hdYZo6RKySoOrqOQ==', 'price': 550000.0}, {'id': 'TrbfJlTUs5VNDTlExoYcRw==', 'price': 330000.0}, {'id': '/uuum3iCbMC98lzJWqlQSg==', 'price': 790000.0}, {'id': 'NcpaSyL+GICjyvKITfsovg==', 'price': 245000.0}, {'id': '5uWGQFeXjvn4B8B1fq6x5A==', 'price': 800000.0}, {'id': 'e+AkwBpted90jdohEXfekw==', 'price': 1600000.0}, {'id': 'UOouooBhDq2//J23uzow6w==', 'price': 249000.0}, {'id': '33hFrqdphd/B0fnd2y6QJw==', 'price': 1800000.0}, {'id': '3e94OEVqlmg8pcGD8mN0lw==', 'price': 1250000.0}, {'id': 'sQRzc0BCKii3T4SRe4RFLA==', 'price': 293000.0}, {'id': 'c11AZonQigOgv1Shn2RJxg==', 'price': 215000.0}, {'id': 'RieeZMb4+Xshr9fZDklBcw==', 'price': 989000.0}, {'id': 'lwPD69f+E0b7GLeCIxFn0A==', 'price': 305000.0}, {'id': 'iqzAoLfbjjPr2oSx7ByYVA==', 'price': 2690000.0}, {'id': 'Z1iAV/dxW4pHX4AEd7uvew==', 'price': 895000.0}, {'id': 'aXCRMXHuAwLRd1LmBNukuA==', 'price': 240000.0}, {'id': 'Jecyt+OXngDndFx3Yau4GQ==', 'price': 420000.0}, {'id': 'Vk+rUxVm04w0dy0m6fZPTg==', 'price': 3652000.0}, {'id': '4B5htKa7MxJ+bb8TiCyxFA==', 'price': 560000.0}, {'id': 'y30FkJqa/vr5xTE7CQ4cBw==', 'price': 650000.0}, {'id': 'GTS4C1y44Nrh0PhmBSjbpQ==', 'price': 1111111.0}, {'id': 'EjnumE/D8vM1x4Di4mK4vg==', 'price': 220000.0}, {'id': 'Wlr3jWCzocS3SaK/6qDX+g==', 'price': 1400000.0}, {'id': 'rfhm2V70iMZRF86Xkpff4g==', 'price': 270000.0}, {'id': '8MMFNwh/3QWqfBMpXQn9yw==', 'price': 342000.0}, {'id': '6Qj5JW9SHfJMt5jB635Wbw==', 'price': 200000.0}, {'id': 'Zv4wLtGtsb2s4J4id+yrFg==', 'price': 460000.0}, {'id': 'fDo1FLq6Ai0EPccvYkg/Xg==', 'price': 262247.0}, {'id': 'f9sCRIXy3ax08f8sjhAc4Q==', 'price': 549000.0}, {'id': '3CWAjheURQJ6DMasnth8RA==', 'price': 550000.0}, {'id': 'BUSwUQAHCB03xt5ygXZvNA==', 'price': 590000.0}, {'id': 'DxvfQWpukEpDrJzb5h3+fA==', 'price': 520000.0}, {'id': 'Wc+6K4W1r3bqt02F8Pih6A==', 'price': 420000.0}, {'id': '1E+qk+/6/AG9o+DaJ7gDew==', 'price': 830000.0}, {'id': 'Ui4npR7sCuZnL+MmWf7pdA==', 'price': 1250000.0}, {'id': 'YOnwcf3+FhqjeFMfvG+wMw==', 'price': 799000.0}, {'id': 'ymLUAsMW7ZS2oWK1bZgHCA==', 'price': 759000.0}, {'id': 'L62tFXt+foJSKgg98oS5fQ==', 'price': 749000.0}, {'id': 'K5yaus3jRhzydmbBWteK6w==', 'price': 330000.0}, {'id': 'aBcKNEwBDdjpZupRvaFplQ==', 'price': 14156008.0}, {'id': '2cXsZfHr+cmIH6w/2GHLiw==', 'price': 875000.0}, {'id': 'q2isR1s0cbJDuYYeGaq1lg==', 'price': 11495843.0}, {'id': 'imTlSd939gQo+H2oDy/iCg==', 'price': 1020000.0}, {'id': '7CJpTRSaOIQyIen1ruvnUA==', 'price': 720000.0}, {'id': 'By4b+HYKKM/fZggwHDJXag==', 'price': 425000.0}, {'id': '6Ai7ck+dAF1SHxE5ryObWw==', 'price': 670000.0}, {'id': '4A5b9nYaztOxtMNPmDoPPw==', 'price': 270000.0}, {'id': 'Uyqhj9BsDg+VnVDay0eCmA==', 'price': 264000.0}, {'id': 'NWyt6AxqYv2A4trQnHJH+Q==', 'price': 2600000.0}, {'id': 'k855/+V0JiFHLDZEN+PXrA==', 'price': 398000.0}, {'id': 'KEZl+pbCM4x19JbEz867og==', 'price': 720000.0}, {'id': 'Qjku6DOlnRyDEROKWAhbLQ==', 'price': 7494000.0}, {'id': '8aNA+fUHg5AHNfQxrtq0aw==', 'price': 475000.0}, {'id': 'NsS2fLLxtuGJfBWOxC1pyQ==', 'price': 290000.0}, {'id': 'UPbuDNtw0su2eooxLQjQEw==', 'price': 369000.0}, {'id': 'ixKHkN4LvTgvL58dHzYfjg==', 'price': 250000.0}, {'id': 'DG3TvX5Q0Y73l9L0KNOA8g==', 'price': 630000.0}, {'id': 'v6E7wRa7hgje6JEhFgZftQ==', 'price': 860000.0}, {'id': 'rnIqDNYyczqOny9mn79d7Q==', 'price': 1280000.0}, {'id': 'CczdJNAR7kgzDE265Uy2NA==', 'price': 550000.0}, {'id': 'VCBUyBht0dDN4iiInp74lA==', 'price': 780000.0}, {'id': '/0Yk/P6go5eDsQnIiTIDCg==', 'price': 1200000.0}, {'id': 'ufqALqyUf45OFBLboA6sdg==', 'price': 1600000.0}, {'id': '1iVDkG7riK/r6Ha9xEOXPg==', 'price': 790000.0}, {'id': 'x6WejERh5luluTU9leOiHA==', 'price': 540000.0}, {'id': 'p8PW2aQ+c6SWCxv42xyfCw==', 'price': 265000.0}, {'id': '3GbYgi8EZHS0JjZ0pLrKbw==', 'price': 825000.0}, {'id': 'M9CvDW9ieMBhRwpOQMnY6w==', 'price': 34830000.0}, {'id': 'goobsSRWgFpXk70wNzIiQA==', 'price': 450000.0}, {'id': '4nfys0TqCWSeCq9d5EAadw==', 'price': 61560000.0}, {'id': 'lFEoZh/EKnZHv+z3rgfxlA==', 'price': 2800000.0}, {'id': '0U6VlIoXk0eWTXHbfOsnsA==', 'price': 310000.0}, {'id': 'AruhkFh7LTL8hidMaRKS3A==', 'price': 6200000.0}, {'id': '4Cys5WgZuhTs+ZkBpeptpg==', 'price': 210000.0}, {'id': 'WC6Snzc+klwKHFKDbZCohA==', 'price': 2700000.0}, {'id': 'ZtIcdn2Aos0T7MrvmSEsbw==', 'price': 427000.0}, {'id': 'YT+052iyFMTUbuOcIUy/Eg==', 'price': 220000.0}, {'id': 'RjWqju2+YnKjsyMhuayucA==', 'price': 2800000.0}, {'id': 'Ub0YejZSVdCMnDL5wWpkSQ==', 'price': 1600000.0}, {'id': '95CqdtgWUxfO4GKTpmtIIw==', 'price': 10250000.0}, {'id': 'KxNNgwmTQSGicXF53aynAQ==', 'price': 590000.0}, {'id': 'cl7H42wnWGxAvU7/klrUaw==', 'price': 1390000.0}, {'id': 'CNeU6cyVrWbSCglzTWSHlg==', 'price': 46644000.0}, {'id': '3b3bZpX8qZRufW82lZsSXw==', 'price': 480000.0}, {'id': 'A2btSMhYdiYbTNWzdyMq1Q==', 'price': 630000.0}, {'id': 'cK4afADoFrsqM4NsLpxkuw==', 'price': 660000.0}, {'id': 'CEN6IGC1AFEDumCn8RymdA==', 'price': 250000.0}, {'id': 'hycATJETgUTelNCd8SoRmA==', 'price': 690000.0}, {'id': 'Ym/z8O9xNVui7pEc2g4KvA==', 'price': 245000.0}, {'id': '6aGDoHsNLcW3w9HQ8DF/FQ==', 'price': 330000.0}, {'id': 'xFd9goMXmVnJL5XGmlrDAQ==', 'price': 350000.0}, {'id': 'o93rOvZrG9rnmBWtsvQbsw==', 'price': 590000.0}, {'id': 'wp+29t6+ctvahpB4GY/snw==', 'price': 275000.0}, {'id': 'IP+ISDFKnYTpIPm0t0kugA==', 'price': 220000.0}, {'id': 'vY50Om0LA767slKfvmeR7g==', 'price': 500000.0}, {'id': 'WglQH0iKTtFkRdGy2IcaZA==', 'price': 270000.0}, {'id': '/AnjXs5wI9asuGGavWL3+Q==', 'price': 2200000.0}, {'id': 'sP+xJ/ar83xlVVrETtJh8Q==', 'price': 6700000.0}, {'id': '15VT2vCMmFujOwQWo4GEcA==', 'price': 270000.0}, {'id': 'ALmYOmM58rVu0yTLdtYdWg==', 'price': 1100000.0}, {'id': 'oUhfDuwWf5l0QDyJ7RXIqA==', 'price': 280000.0}, {'id': 'W9Vawdalv3jNXn1KdNlWWw==', 'price': 274000.0}, {'id': 'yTf3qWC4ywMq2VaK1QDqNg==', 'price': 240000.0}, {'id': '2jhSIzUYlAapIt1LCrxlVA==', 'price': 580000.0}, {'id': 'RPgbt8rBIGKpPRa+PeLRog==', 'price': 16946800.0}, {'id': '2hxx7ZMgnVMChpLHLbuR0g==', 'price': 2100000.0}, {'id': 'I/9knBIh6ng0ggpWl1DTZA==', 'price': 466200.0}, {'id': 'cClpyp5AN6uNJAjfDwWRBQ==', 'price': 14609480.0}, {'id': 'OAuAgnRbhi7e/sq1deZggA==', 'price': 1350000.0}, {'id': '+VSmQjiCCjt6Mv0b+MCGXg==', 'price': 1000000.0}, {'id': 'byt2USgt38ysd9jUd3cf8w==', 'price': 601040.0}, {'id': '7LCkr3GpODxlxuoCZez0XA==', 'price': 850000.0}, {'id': '+ell6aaooU3bUv4kBLqKPg==', 'price': 1000000.0}, {'id': 'wD4mSP16d+/gbpt19jb7SQ==', 'price': 2200000.0}, {'id': 'xHojv7JDG5KoRA4Ihm9AvA==', 'price': 5316289.0}, {'id': 'Z7/sRi9GRNykpPJi1Iq+dg==', 'price': 880000.0}, {'id': 'ftAj6UQg/7Id7+WLQ2bL+A==', 'price': 299000.0}, {'id': '22snbNsmV9Je9DUOYMeMMQ==', 'price': 8617600.0}, {'id': '69akxZadAkXNToXZAyKS2g==', 'price': 1300000.0}, {'id': 'XkfGmbn5zbYgMwuAlD90DQ==', 'price': 570000.0}, {'id': 'XCTULiEvhZvcT83Tsy1Leg==', 'price': 471000.0}, {'id': 'zihE6XmkREj4BsA2Wh1yVg==', 'price': 450000.0}, {'id': 'WLpO6JGIXr8HFfMYDdOfcg==', 'price': 380000.0}, {'id': 'c/I7xoSKOaDM5+u7tFjX7Q==', 'price': 530000.0}, {'id': 'cEGDmbz2/Wtfevwh4s7KhA==', 'price': 450000.0}, {'id': 'WsgdAFzHBY/lluxNwTzRag==', 'price': 1349000.0}, {'id': 'zMwBqwN7JgFch65HjZOGaw==', 'price': 585000.0}, {'id': 'bANe4D1IOhOJxCXs0r0NVA==', 'price': 335000.0}, {'id': 'WG115aTHjMUoFnV1Iwj5ww==', 'price': 1790000.0}, {'id': '3lVdexHk181Gh5daIdOpKQ==', 'price': 369000.0}, {'id': '6QKXWVZVZizJmGZ+JPHv2A==', 'price': 360000.0}, {'id': 'dXLcRCStdpw3J9uaSivC3A==', 'price': 800000.0}, {'id': 'fV9bcxijHE6n4bbvhxDAmg==', 'price': 500000.0}, {'id': 'shQ41FdOdKIxclSV+DrQ5Q==', 'price': 70550000.0}, {'id': 'Omb5hp28e0KfY+TkpTYOvQ==', 'price': 1100000.0}, {'id': 'Y1JXjq02CKhzGCYmILRJgQ==', 'price': 260000.0}, {'id': '+LuSl+alm3MooCWf0A+iDA==', 'price': 530000.0}, {'id': 'R2tBbyM2x/3X6j6lHzUehg==', 'price': 999000.0}, {'id': 'dHeKTJPObc5Jf8Intdql8g==', 'price': 16396000.0}, {'id': '3cKiFPZSBjB7m1bCihE2Ww==', 'price': 450000.0}, {'id': 'Am+lkxVPoIj0iGTzC9C/vw==', 'price': 439000.0}, {'id': 'VjDo9+vwnj/MSadt8Hb8NQ==', 'price': 29647520.0}, {'id': 'q9vcf9ClkYjb5Tgj0ewkxA==', 'price': 790000.0}, {'id': '+KxHcjs4KkCnKsTSFoYspQ==', 'price': 525000.0}, {'id': 'HkUej76UMsfhHGq7iT822Q==', 'price': 990000.0}, {'id': '7L9aA2PUd1IuLnf0o71zUg==', 'price': 790000.0}, {'id': '0S9VPliUp4kwTLA4McgcdA==', 'price': 425000.0}, {'id': 'FzACxwJe214eZxOY3uuZ/A==', 'price': 470000.0}, {'id': 'TMu8GDV0EMyWdkpZaJlBJg==', 'price': 10874590.0}, {'id': 'j3dgwyHbp1ghpXZHALtIbA==', 'price': 690000.0}, {'id': 'l4TN8dWWtzzv0+ZlpodskA==', 'price': 540000.0}, {'id': 'AXNGUuSuEdWDSDjhPDlzLQ==', 'price': 330000.0}, {'id': 'iwUGA48SoaRjB9Y/qfjLOQ==', 'price': 720000.0}, {'id': 'rKtS8CvtRzutIczq+nhH8Q==', 'price': 1350000.0}, {'id': 'D+7naCZz7P2BlvXWOFQERg==', 'price': 790000.0}, {'id': 'K61Dk/HHg7KC/et25EyCbA==', 'price': 650000.0}, {'id': 'bxCew71LJE3Tv4qbC1l4KQ==', 'price': 450000.0}, {'id': 'H8z6NWSWoDPdVEbcsEOA9Q==', 'price': 1200000.0}, {'id': 'A+tAPWdyhebsa2gr+pbNzQ==', 'price': 550000.0}, {'id': 'VgNvgiNLV48pkdD8QtqtoQ==', 'price': 460000.0}, {'id': 'tfmdiUJ59JZqnqkD5lacPg==', 'price': 670000.0}, {'id': 'HIWNpJQPrWHfdg0XqVwi9g==', 'price': 275000.0}, {'id': 'ImPj2IhDsX9R7n6Tuxp5Yw==', 'price': 295000.0}, {'id': 'HFSl/d42O5s2GLEJr3bEEQ==', 'price': 450000.0}, {'id': 'Z9Ij6Y4FkcPSRB+YT/u9CQ==', 'price': 298000.0}, {'id': 'RcZsZ/G8usAzbny04Ei4yA==', 'price': 220000.0}, {'id': 'TQdGV0oNjJeZxSk2k19hXQ==', 'price': 700000.0}, {'id': 'a88oRuMpqDyKJk8kMUtf2g==', 'price': 610000.0}, {'id': 'D3Lli5sZ2OkvNLNeYx6aBA==', 'price': 520000.0}, {'id': 'Ief9FykRvtLDecKWuFsfJQ==', 'price': 900000.0}, {'id': '5nu2bd4lNpcKGpz7V5128Q==', 'price': 278000.0}, {'id': '5ZxrYWIQTwx2ut88y52rdQ==', 'price': 270000.0}, {'id': '0LiSW4pDwhS0bNwF5D9K8g==', 'price': 270000.0}, {'id': 'iRMMggezrXmElm5l5YLzEw==', 'price': 490000.0}, {'id': '9bHmNSUQZqm+WhKqPiq4og==', 'price': 300000.0}, {'id': 'Od+D20V+R2kCMZee7ySswQ==', 'price': 570000.0}, {'id': 'mMGRoZRK8O2DIUZKEaJvCw==', 'price': 188910.0}, {'id': '7Tcgc391vtyf6AV6qimjqg==', 'price': 349900.0}, {'id': 'dgdqy00thRNvw9Qz6jWwKg==', 'price': 760000.0}, {'id': 'taxcW1hvhlU0k2t13o1QwA==', 'price': 7500000.0}, {'id': 'RObX6sXkJApy6/d1tGi6Ig==', 'price': 695000.0}, {'id': '2DOGZhJNThTDXez11aL9ZQ==', 'price': 27212085.0}, {'id': 'RI/Qi5dnyLtH3nMlT+7rHA==', 'price': 3700000.0}, {'id': 'cGW53VtLmrdFtIkXP3erYw==', 'price': 600000.0}, {'id': 'g7sDaRhtoPMMrnHaiMgufw==', 'price': 460000.0}, {'id': 'm+f09yO5YttzkLqr37OlFQ==', 'price': 240000.0}, {'id': 'OfmoIg04lQDEVVdPGpX39A==', 'price': 500000.0}, {'id': 'Ha3oN2ec+kZcRK+ZFdmrqA==', 'price': 270000.0}, {'id': 'nDWSxQ81umbfUnWkxMqnOA==', 'price': 425000.0}, {'id': 'kh6gaaSKO7SqKta+cI2VEA==', 'price': 450000.0}, {'id': 'sgdac36xS9qWLdoV8+YN3g==', 'price': 298000.0}, {'id': 'AeWZQDRT/Ic7ac7zO4NUww==', 'price': 685000.0}, {'id': 'bjXgVf0FA2N94GIM1gAmvQ==', 'price': 590000.0}, {'id': 'WyvMsiM+UExd9Ki+xmts0w==', 'price': 520000.0}, {'id': 'xddDPVuSTC2LfF229t/pNA==', 'price': 7539000.0}, {'id': 'jk1HuNLU0ymEPptBw1FLXw==', 'price': 1100000.0}, {'id': 'IiNCTt5vCC6Ng0maqVk+NA==', 'price': 555000.0}, {'id': 'eOfxCKBtLYmoTunQTj4gxA==', 'price': 590000.0}, {'id': 'zhe4uWFyqkc62RVk+MNiRg==', 'price': 8242260.0}, {'id': 'MvpC8d3ol/1a79sJy8wmug==', 'price': 330000.0}, {'id': '2bLt+yVp2u6Pehy29ciorg==', 'price': 490000.0}, {'id': 'lMz0DhkVMb6OoZ80O+Mq2w==', 'price': 1390000.0}, {'id': 'D8M8gXh6rFW2vNpJIPQGXQ==', 'price': 294000.0}, {'id': 'ROCMIzYUNzgAN1jgT33+3w==', 'price': 250000.0}, {'id': '3xwnmj2XpR07nnZgM4lU3A==', 'price': 380000.0}, {'id': 'HvMXX8uvHsgpZbSM4CKElA==', 'price': 12352000.0}, {'id': 'EbMmMfezSF/vU47+M29Wkw==', 'price': 448000.0}, {'id': 'BY8AIikeG1OSRc1UQcisdg==', 'price': 13770000.0}, {'id': 'R9ZBc3qMrJ9JvDPhE5npzw==', 'price': 550000.0}, {'id': 'GdraCwN4UqCtzEwZFyPqUg==', 'price': 280000.0}, {'id': 'uON9oD2nQ/XQFcE9Rq6a4g==', 'price': 14915000.0}, {'id': 'BlQQnVyg6EZIBqwvxZX+og==', 'price': 410000.0}, {'id': 'Fhh1ompTXCbZp1pMqFmYlQ==', 'price': 555000.0}, {'id': 'j86AUmuro/gPVAMaixae2g==', 'price': 1300000.0}, {'id': 'q7eP05eMfqOKxJIzwdxplw==', 'price': 280000.0}, {'id': 'nPK1Dz9olfLjpwZlgMyZ+Q==', 'price': 670000.0}, {'id': '6vBMIdwzpGQHgHdtUW9J5w==', 'price': 750000.0}, {'id': 'MyC63LTJST+PON+4FigoWw==', 'price': 890000.0}, {'id': 'DN/o23/eRXxYzRDHuGGUaA==', 'price': 420000.0}, {'id': 'rpsy4eicWDoSXTVlTfOHug==', 'price': 260000.0}, {'id': 'kjC7BF8WiH9Ul0FI/Mol6w==', 'price': 580000.0}, {'id': 'OMwIC+WhaarD/I5je9XDwA==', 'price': 298000.0}, {'id': 'u2Qzoa5jPD5XWJF8zxY+lQ==', 'price': 770000.0}, {'id': 'DUxoGd6u5i+G5MlT6v0YXA==', 'price': 340000.0}, {'id': 'Hj8rAqIFzzBjZKvffCMgaA==', 'price': 550000.0}, {'id': 'lRlCMM6XmtUAozyw7WAg7A==', 'price': 1280000.0}, {'id': 'B6l01kSb6P0gtHmy/BaQLg==', 'price': 280000.0}, {'id': 'pU2az8PAr6w7tX6IjIOz8A==', 'price': 450000.0}, {'id': 'KVVUp9H03AlL2Jzp+4PFpQ==', 'price': 2350000.0}, {'id': '40W0CRylDLsUeGoHTivxEg==', 'price': 940000.0}, {'id': 'A6o60iExKAxGLwCDMkco0w==', 'price': 269000.0}, {'id': 'HQjhsBs4JlfDdjxd0IF6CQ==', 'price': 295000.0}, {'id': 'v+cTS36Fz0NLf26MZ+Z1+Q==', 'price': 1980000.0}, {'id': 'OXJxt7VkdY5LQTP/53RsVA==', 'price': 1200000.0}, {'id': 'NlYwG4mntBu/MQpT0NoH+Q==', 'price': 790000.0}, {'id': 'C8Ze3j4bAKTfsshToembnQ==', 'price': 330001.0}, {'id': 'yyCjH/wltMArtLtkNzu42Q==', 'price': 2000000.0}, {'id': 'z7E+q5mIgLu/If2DHJoIpA==', 'price': 1200000.0}, {'id': '/Jds/yx4miVF7P1F7HCD5A==', 'price': 285000.0}, {'id': 'hbeX035kdE1aor0O+E2bIQ==', 'price': 2500000.0}, {'id': 'QISqeUbHIUYtSSMDyv65vg==', 'price': 1650000.0}, {'id': '3685xoqb4SZcrsTyI7fkdw==', 'price': 1150000.0}, {'id': 'mXQsatTuK+DAkI8hm0QgDA==', 'price': 250000.0}, {'id': 'dZbL+easFRX788mXrjkqSg==', 'price': 299480.0}, {'id': 'UXdcYKMdHGgKV8/9gZVdOQ==', 'price': 570000.0}, {'id': 'NEn7XwRUhi3YwguUDT5yVw==', 'price': 1200000.0}, {'id': 'XIBJ5ney6CB9K23GOFHe6A==', 'price': 750000.0}, {'id': 'gsDDm68w8tWPQKvXy1Pr0w==', 'price': 1900000.0}, {'id': 'anIsTYq0qwojRV3Iz/bGog==', 'price': 520000.0}, {'id': 'N5b+8n9IxYnFlbNtZmwLRg==', 'price': 1150000.0}, {'id': 'J+4DTpEN24YFgx9R9vcteA==', 'price': 250000.0}, {'id': '5b7Y48koV+Pz6RtEf4QUag==', 'price': 460000.0}, {'id': 'gu2qObGOBw+RMLOMGOdUEw==', 'price': 720000.0}, {'id': 'hD9mX0rdIeUTIcouXnfPhA==', 'price': 470000.0}, {'id': 'Qn0UmNbSnAGjY0BjWEMaRw==', 'price': 355000.0}, {'id': 'bIXl8Jg+10SKI2Ll4Br1PA==', 'price': 1000000.0}, {'id': '6ZXl3NtaXhi+JXRCJFxxQg==', 'price': 520000.0}, {'id': 'aOfZxyJukSf1Qt1WLAQ0VA==', 'price': 265000.0}, {'id': 'MvtvTH31awXDrFl/ytVvmg==', 'price': 330000.0}, {'id': 'OrMne0Nsku9Yi3V1RZyYEQ==', 'price': 1750000.0}, {'id': 'mfZp9y0jlzy4YZfq0nE7tQ==', 'price': 395000.0}, {'id': 'bS/XYEA9bVKuhZzX5JyKuA==', 'price': 1300000.0}, {'id': 'TFVgHTpVFd38WHmxRKqmOA==', 'price': 7500000.0}, {'id': 'V8tZHCEZH9o28OgaglMbVQ==', 'price': 470000.0}, {'id': '97prf6SF53WPMKiZSvJM8Q==', 'price': 890000.0}, {'id': 't3aR/VBkCJ4T6kxhSAfSYQ==', 'price': 380000.0}, {'id': 'LXXKWCdOr2ykD4G6JCA3xA==', 'price': 650000.0}, {'id': '4PTUb2v0lXHMwQ243tKhvA==', 'price': 930000.0}, {'id': 'TnCJIBHbSYAxDmOO2/B0SQ==', 'price': 850000.0}, {'id': '1MI68mpVrWVWbGSbDafidQ==', 'price': 11333108.0}, {'id': '56xqoZo6/bGYy5PqsewCxg==', 'price': 700000.0}, {'id': 'TXTodMxJmZ9Tz+IP39oMLg==', 'price': 990000.0}, {'id': 'qCpFGxk0ZfilC0IVpjnpYw==', 'price': 2200000.0}, {'id': 'y9M3JcU09aQMZm5E42ZUxg==', 'price': 1800000.0}, {'id': 'PIuHW3IP9FFWG7tPDM15Vg==', 'price': 980000.0}, {'id': '0Z+QeWFg/YE16e+xyQfrUw==', 'price': 690000.0}, {'id': 'G7ApSWaJ5UiI/nqeHuYrOA==', 'price': 830000.0}, {'id': 'vezVQe1VPHyK1iEruZnM2A==', 'price': 850000.0}, {'id': 'P6EbL9dBgUjhZ2a9f5gGFg==', 'price': 4581000.0}, {'id': 'Sdy0N6o2BMdxmQGxGXiq3Q==', 'price': 1690000.0}, {'id': '89bat+VhQC6A6WAYFheZjQ==', 'price': 192000.0}, {'id': 'l275rtcUJHxwjJY8O2T3/A==', 'price': 960000.0}, {'id': 'ebF/coj1DDE1zEnfq/7qXg==', 'price': 425000.0}, {'id': 'V6b8irYcm9bSUf+d5yXUQw==', 'price': 265000.0}, {'id': '8JPnYiMTC/9qh9i1kGoxZw==', 'price': 450000.0}, {'id': 'lSRR7AJdNwr0CK/nCuX+CA==', 'price': 1050000.0}, {'id': '/YHt8IlMD2IFH5qVKO0eJw==', 'price': 495000.0}, {'id': 'QpKdXBhH35YFHnDkDcW0/g==', 'price': 285000.0}, {'id': 'ytD2hR6/l+6twP2h4F1HGA==', 'price': 485000.0}, {'id': 'LGBsFWyS+/GpLk/zmY+fug==', 'price': 1300000.0}, {'id': 'Gl+Zo8aKgu44a9sy7gNYUQ==', 'price': 780000.0}, {'id': '1shEapuY4ORQA34KM9hAew==', 'price': 750000.0}, {'id': 'QXGt8o+mfuxGQs7D3d6YJg==', 'price': 247900.0}, {'id': 'oEIYPkNF5Aat1LnKMIfzyQ==', 'price': 1999000.0}, {'id': 'UWgcl/JyZOAhEoBl+7XT0g==', 'price': 1300000.0}, {'id': '8MuMcOBQqWBgrQXyc/Glng==', 'price': 500000.0}, {'id': 'ESHgJeWZQBZtLU1J93cuiA==', 'price': 349000.0}, {'id': 'G5M4g1gIlnOMg1VcaCLrzA==', 'price': 430000.0}, {'id': 'qs+UB9Xf2jmPVXE4iw5/5A==', 'price': 330000.0}, {'id': 'leF3/bmi1+74bUTYtrWqYA==', 'price': 3500000.0}, {'id': 'G6DRYqyJowGgys+cOuEkLw==', 'price': 420000.0}, {'id': 'p2u7Zay5So8lfGlq1WiQCg==', 'price': 253000.0}, {'id': 'iJOKCgxt6hd5UQ1Hn5mUWQ==', 'price': 1100000.0}, {'id': 'DhBeOpehlgxCIXF27WP6WA==', 'price': 800000.0}, {'id': 'i/RpTKvpiuDCbrZZgldGeA==', 'price': 450000.0}, {'id': 'o/ZQ/IRq2Aw2KOl6bAVwKg==', 'price': 12875000.0}, {'id': 'ya94SZhUapRWJCAcXPbPAg==', 'price': 400000.0}, {'id': '66xsWO1u2VFYLDovtVrhBA==', 'price': 460000.0}, {'id': 'Pmuy6/EjcdGbvSOnFAQJzA==', 'price': 475000.0}, {'id': 'IyQFr4Hpf0jcnV9rp+Miew==', 'price': 290000.0}, {'id': 'aQ4ARIr7sRtzi9iZ0dEZ9w==', 'price': 1680000.0}, {'id': 'tJAZw++b3MNl0aDoFgK4rQ==', 'price': 255000.0}, {'id': 'xcMDl1BmAD1pQOiH8Eco9A==', 'price': 500000.0}, {'id': '70tyAtz7VBwsx2NF7ZvySg==', 'price': 1680000.0}, {'id': 'sV+t16gYY3yH+F5TXz5U9g==', 'price': 600000.0}, {'id': 'KdegMmnRjYeu3hV19n3DTQ==', 'price': 350000.0}, {'id': 'Z+uFKIzriJ0C0GHeh3WN7w==', 'price': 1190000.0}, {'id': 'HQJacVW7hYDEuAsxwykyhQ==', 'price': 440000.0}, {'id': 'Gy70XokebssU0gA9rC6U/Q==', 'price': 845000.0}, {'id': 'kxYH6P5OmlOClNI0s48EkA==', 'price': 245000.0}, {'id': 'AMT+4R5opH3XIZrW62xnGw==', 'price': 690000.0}, {'id': 'mhXmehrX3DLgKavpFCsjYA==', 'price': 500000.0}, {'id': 'YXR0cL6srJutiJJRF+8ruw==', 'price': 465000.0}, {'id': 'vYnL6AiIShzrPT48yYfj9g==', 'price': 775000.0}, {'id': 'u07q5qwpae1PB5ciMHi2ww==', 'price': 770000.0}, {'id': '5yqu03KtEGvu8FtcFXwh5A==', 'price': 2100000.0}, {'id': 'SMp0y7ZrV2FEPL3tGObA9A==', 'price': 320000.0}, {'id': 'zuRn8l2mG7uTPvxuTq0wzA==', 'price': 960000.0}, {'id': 'oL82AvkVR/JSVk/f3mKN4A==', 'price': 700000.0}, {'id': 'nwGo5cM68yBiX65DA2oSSw==', 'price': 395000.0}, {'id': 'H3TwyThV1NQPfg08sLN/jg==', 'price': 310000.0}, {'id': 'GEGwzbbjcmHoUgE6g9l4Rg==', 'price': 269000.0}, {'id': 'epMIj2TNW2EqTBhZzia0mg==', 'price': 1000000.0}, {'id': 'EgpLDxAF6kTXmztzdHwwOw==', 'price': 1150000.0}, {'id': 'gxjyuT7mF2ujR5uYWteyHA==', 'price': 2700000.0}, {'id': 'QAL3LyqKIi0I5Et8oEog2g==', 'price': 489000.0}, {'id': '1QOxnU78DBPVRHxm66gcTg==', 'price': 550000.0}, {'id': 'w2slSyWCMfI+Tj/3UlhXIA==', 'price': 830000.0}, {'id': 'pebT9hOcugHcVlyU/rlC/w==', 'price': 1390000.0}, {'id': 'VAHdD0WBWOj5PE0eLZ/fqg==', 'price': 530000.0}, {'id': 'ic3kyVxv1XiRQOgfK1QKuQ==', 'price': 580000.0}, {'id': '2qnkh/a31UGcEwDHyn6Rqw==', 'price': 890000.0}, {'id': 'u4v7tboXNzhJohrkLGN7MQ==', 'price': 1200000.0}, {'id': '0H149H2w2TwLDHXaFntRxw==', 'price': 17775483.0}, {'id': 'NDP//IWu+VoAUHTakgdxSA==', 'price': 785000.0}, {'id': 'bvFLznuroQVhbjVzKrXuNw==', 'price': 255000.0}, {'id': '60GV2oCYmESi6pPXNXSceg==', 'price': 660000.0}, {'id': 'WY13pMVarId3c9ESjQ9IEw==', 'price': 300000.0}, {'id': 'WKLsRDPRUJrdCLYHaDWryA==', 'price': 270000.0}, {'id': 'ylr/qkIFwmbKUfYQfdlgRA==', 'price': 640000.0}, {'id': 'kTBZzhwU3flvOIRBXWq3Ag==', 'price': 550000.0}, {'id': 'kFs7V0pQj5mgp+E3ilMDmQ==', 'price': 585000.0}, {'id': '2MDh0lasRDGP8CNJ8URoZw==', 'price': 315000.0}, {'id': 'T3ysBRWl48OxuYffMpF5gA==', 'price': 650000.0}, {'id': 'AjL+8O5gg/AD0krIlq4wHQ==', 'price': 199000.0}, {'id': '4H+7/VA606OSkwP4T5YHKA==', 'price': 759000.0}, {'id': 'ZVgoz8aQKEdfCsztM4bMtQ==', 'price': 1250000.0}, {'id': 'RPovby+AS1uzfxaxNvNgzw==', 'price': 327961.0}, {'id': 'a+OBW07RUIOBZ0xC3DXhbA==', 'price': 607000.0}, {'id': 'zSZjqKUbYQVa3Lihal0iEg==', 'price': 749000.0}, {'id': 'XlAKLw5Z8Od2kDwjPzYl6g==', 'price': 247000.0}, {'id': '3u0idc8hCOWGbq0emZRiBA==', 'price': 300000.0}, {'id': '4pseMiIagKQbG+AXRNmAZg==', 'price': 399000.0}, {'id': '/+ErxaLyNB0MOSIBU0m3sA==', 'price': 469000.0}, {'id': 'QRc7YZmzTOik88ftpDbj3w==', 'price': 4500000.0}, {'id': '5QM6kmBAFEBIspSSHRO7mQ==', 'price': 9500000.0}, {'id': '33m/yvR4B/7xAOcJq3AH/Q==', 'price': 40824000.0}, {'id': 'gxLLmPM7ga+fa7fiSM15kg==', 'price': 427000.0}, {'id': 'rVBaYadcObcm8agGz30M7g==', 'price': 1300000.0}, {'id': 'uEl2jc+1Vp/2ZHSudcNHfA==', 'price': 2900000.0}, {'id': 'Dl6fel+fUbWvXuL0XBuobg==', 'price': 240000.0}, {'id': 'xRmLMc/IKSc4Y2DcONstQw==', 'price': 1350000.0}, {'id': '9Q8eByl3CmeXbCuf5ri0BQ==', 'price': 1450000.0}, {'id': 'gXeaYWyuPhoJI4iYBVvmLg==', 'price': 970000.0}, {'id': 'sFewyFOQI9oQ5gGIIiJhJg==', 'price': 980000.0}, {'id': 'NNxsU2qxXcER9sT5OSS8qQ==', 'price': 490000.0}, {'id': 'fvpgvhOKA1bSXhAIu6E4YA==', 'price': 410000.0}, {'id': 'ovF8QtPrFHq1sXZMm2U5cA==', 'price': 3500000.0}, {'id': 'OZnenaPCp+XltEWaXEl7NA==', 'price': 280000.0}, {'id': 'IGDWjpqLXLa86FEG6qHWIQ==', 'price': 630000.0}, {'id': 'PJjn0Zd2PuEIUAvVPmRu+g==', 'price': 330000.0}, {'id': 'BQrXgDCmImu3YNFc8LvOvA==', 'price': 240000.0}, {'id': '1i6iZjyLDg58BPuetjcXaA==', 'price': 520000.0}, {'id': 'kBClhqoBUgTvlFQogswwDQ==', 'price': 1800000.0}, {'id': '3XwhekXup6GOodpamBFdWA==', 'price': 2800000.0}, {'id': '2tcNjllMCaxH4t7r32rLxQ==', 'price': 369000.0}, {'id': '4n8SouONxsoqQO0E3sPuvQ==', 'price': 257000.0}, {'id': 'gTUety1gUNKEKWnwjzufwQ==', 'price': 285000.0}, {'id': 'v7GlDMOXF9f4ihjfnoWtFw==', 'price': 533000.0}, {'id': 'ICRV+kxv0sDMYH2rASOk+A==', 'price': 273000.0}, {'id': 'iolIdUaZzznZ9BD5hmknrg==', 'price': 11744320.0}, {'id': 'KMzSfZk2ggfOj752afj5eQ==', 'price': 850000.0}, {'id': '9d1/0MowGJ1qQnGWCo0wBg==', 'price': 700000.0}, {'id': '8N954/tJpUhgLhP+fAHpFg==', 'price': 540000.0}, {'id': 'SG2SRZ+nMYN7+57GDk4bbw==', 'price': 1100000.0}, {'id': 'Gc7oP0zTh1fz0DNEp0eYJQ==', 'price': 620000.0}, {'id': 'pGeq+SIcXE2QJIZcV8M/HA==', 'price': 580000.0}, {'id': 'uQULyAr26WIRBVVsO29Stg==', 'price': 520000.0}, {'id': '/udtMK1sknQX4hdlVNWPJg==', 'price': 530000.0}, {'id': 'wnBpeIzpGos/ebeHgnqzng==', 'price': 1300000.0}, {'id': 'zFAykOl1yVq01jTMrWUVoA==', 'price': 503000.0}, {'id': 'NJ2Ha9X4nZ0ZHPzQeEqyBg==', 'price': 698000.0}, {'id': 'KUjgGltN7K09WXQu3p2RFw==', 'price': 472934.0}, {'id': 'vlLzHKn2ypWzHuVfT4jhYA==', 'price': 265000.0}, {'id': 'jEVifQsm06Z5HcWDaFHsjw==', 'price': 295000.0}, {'id': 'SfamDgYiaOL0GD8ZWD9CFw==', 'price': 8840000.0}, {'id': '9HccBLTcyeNo0Kvag0OVsQ==', 'price': 617000.0}, {'id': 'VEPgH8R+ujXUahBeCw1arg==', 'price': 1600000.0}, {'id': 'MAQZkSW6GNascEdxw8yECQ==', 'price': 360000.0}, {'id': 'urprIo4zm7ulibWEkDzCgw==', 'price': 650000.0}, {'id': 'Xo6OyyiERE6v2Qf1GIbt3Q==', 'price': 1155600.0}, {'id': 'tYdbLgj3qu6rTue022md8g==', 'price': 1400000.0}, {'id': 'uL0L7VnEb1emteUhpadepg==', 'price': 450000.0}, {'id': 'O0dVkj5pjSC6CFXSyO9HuQ==', 'price': 850000.0}, {'id': 'zqug4TbLiicIA4BOB4pbhA==', 'price': 430000.0}, {'id': 'DQqQ8hz/dpW0hA70n3yivg==', 'price': 360000.0}, {'id': 'Ery5l8DSfsWAMQNRUAPo0Q==', 'price': 495000.0}, {'id': 'QJih/4QkEcWTJ04t0l35gA==', 'price': 459000.0}, {'id': 'sRmtJMon8vB90V9kS1tCmA==', 'price': 6490000.0}, {'id': '0jmRO6MPNHNelc2xSWFDig==', 'price': 730000.0}, {'id': 'PeGpSAzEnB6EIvmBwwwICw==', 'price': 935000.0}, {'id': '4xH1iBThTz0/taB+L680SA==', 'price': 730000.0}, {'id': 'yX4FUo0YRQtBpDTJ3VoYDA==', 'price': 1250000.0}, {'id': 'rmpJhW4H3uqxNEwcFZp8Kg==', 'price': 1650000.0}, {'id': 'dJUppHmuuv4b4Qdt6KWRpg==', 'price': 395000.0}, {'id': 'LMKmmFsUoxk08f38gsXUbQ==', 'price': 660000.0}, {'id': 'nerQr9kWrxgeP2FnKyoYBw==', 'price': 270000.0}, {'id': 'cYhaRGBdwYKAAzJgDGXeQQ==', 'price': 240000.0}, {'id': '6PicbxgzeHwjjj439V6xsQ==', 'price': 298600.0}, {'id': 'tEnYVKBWoGdIC8wtn4Xp2Q==', 'price': 795000.0}, {'id': 'P41AbNYx22sbKQlPJodU0w==', 'price': 460000.0}, {'id': 'iaT75ev4Xk043oD8x+/nQQ==', 'price': 195000.0}, {'id': 'bSO+FbAyZcIVWbzxpRjNyQ==', 'price': 4941900.0}, {'id': 'dW6GmgaEjw8AxxWFSpcaNA==', 'price': 500000.0}, {'id': '4tV9VDyS1APVxneSSqaBlw==', 'price': 400000.0}, {'id': 'hFktp+agXrapwIXHOA076A==', 'price': 538000.0}, {'id': 'gUBy+z6w6UYhS9avi3r4Vw==', 'price': 310000.0}, {'id': '7OiRggsgG0+5d3oG9fPeRA==', 'price': 790000.0}, {'id': 'ZF6Eo5kogwfMtdXLHmJnlA==', 'price': 650000.0}, {'id': '25BdhtqLNy0CV2rUaM8YeQ==', 'price': 650000.0}, {'id': 'XmrzwgVF4ADq9VOpqZF4dQ==', 'price': 7530188.0}, {'id': '2FkQQccT1ET4y49N/W5qfQ==', 'price': 5200000.0}, {'id': 'Xvz+qNewD5EeZ+tg7bqjYw==', 'price': 489000.0}, {'id': 'O3a3/Hhaq+ifDgIlIcuKUA==', 'price': 259560.0}, {'id': 'BzWKrHYsanhc3gwRsVhEHg==', 'price': 550000.0}, {'id': '5FCl//i0ecBpPP/ivYJQNw==', 'price': 815000.0}, {'id': 'rqcabSpXdJ6K2iRzTfGZuw==', 'price': 780000.0}, {'id': '31/1emn78RHS65rHBIPurA==', 'price': 900000.0}, {'id': 'pfI1Hk25xTg1Sz9sTHAoJw==', 'price': 240000.0}, {'id': 'wfvhFPI55dWFIi9PJb0Lfw==', 'price': 530000.0}, {'id': 'o+TOBhlDWs+P/hmghxlJ7w==', 'price': 890000.0}, {'id': '2LJ8llWBoeHhZb6BwPuanA==', 'price': 1000000.0}, {'id': 'aIEAUijYbJlmjGNFWTdMOg==', 'price': 680000.0}, {'id': 'wOKFt4OhFWkvWkFG3SkukA==', 'price': 312000.0}, {'id': 'nHJofHAxxFreRHsADweTOw==', 'price': 875000.0}, {'id': 'aMb9JZSUi9PcgZeh9pLf2A==', 'price': 3600000.0}, {'id': 'dFYy49yLHFcH7QJTOxe5RA==', 'price': 195000.0}, {'id': 'wyUddnX885xIUze3pdiBlw==', 'price': 1300000.0}, {'id': '33cvvJCoHjnJMHjExAIOpQ==', 'price': 540000.0}, {'id': '95EWGget1Wl/mFcc7jIPlA==', 'price': 290000.0}, {'id': 'r0yqFE5TutbVq4xy5BBh7w==', 'price': 450000.0}, {'id': 'nJBx4ZPErEYnwdkpuqsK9A==', 'price': 600000.0}, {'id': 'w2xwyHxJXf9VsekpsNTHBg==', 'price': 335000.0}, {'id': 'bilzm05r5X9I2dp203/ykw==', 'price': 780000.0}, {'id': 'E0xEeKMS+gYSsZHVYYVNRg==', 'price': 1700000.0}, {'id': 'dtmURk4sFf0hmDnovwu2CA==', 'price': 340000.0}, {'id': 'CS3gaG6bPAK1zHcifduxWA==', 'price': 695000.0}, {'id': 'vm09e0USLw5MRFPey6iD6A==', 'price': 710000.0}, {'id': 'yEyrifrdsusJ9OtefNnHHg==', 'price': 530000.0}, {'id': 'YrxHL5xzY5JS9RtyFh7RKQ==', 'price': 920000.0}, {'id': 'bM5afplsvvArEPAOMwm+XQ==', 'price': 210000.0}, {'id': 'qSZYAz87Tqmz+iOzW4kIWg==', 'price': 630000.0}, {'id': 'DHk7aIK9+vONffjtQD399Q==', 'price': 250000.0}, {'id': 'g20ZUEGIVllF8FZTktuHLg==', 'price': 7800000.0}, {'id': 'WPDvKtKM9UZjqH7NbMlr9g==', 'price': 450000.0}, {'id': 'OiwQ+uDzl+q+hwgepGHyoQ==', 'price': 646000.0}, {'id': 'taS4DuOt7r3UDtc2+aINmQ==', 'price': 1200000.0}, {'id': 'xTlWB4p8AhRwtEK37yIbFA==', 'price': 340000.0}, {'id': 'YyJoiLQwymLdK4qWUcQFLw==', 'price': 749000.0}, {'id': 'I5oBafXZcgOSjqQ85hcBuA==', 'price': 1900000.0}, {'id': 'X6kIxdnCZs67PxcEGwc9Kg==', 'price': 190000.0}, {'id': 'Jy+2yklH8htt5KckO6t7tQ==', 'price': 499000.0}, {'id': 'iYmSBkHQA85aSXLNj0drIQ==', 'price': 530000.0}, {'id': 'vDWqNuuFdUdEcZu+OUYapw==', 'price': 480000.0}, {'id': 'JWfWItJbCOBML6qS6kRSgg==', 'price': 370000.0}, {'id': 'wL8I+CowB2ToIbzoep+S0A==', 'price': 1680000.0}, {'id': 'ZiEyeLwvOvsCljCW20n24Q==', 'price': 540000.0}, {'id': 'EeT6BAYyRUT60Vph30kscw==', 'price': 1500000.0}, {'id': 'o2Fx9DM/AO5SYSZSDeLqzw==', 'price': 470000.0}, {'id': '63HX/+1nLPZ1Xi+L8Sex/w==', 'price': 670000.0}, {'id': 'Wk+u6rkipcT5HAdZ2tdQZA==', 'price': 760000.0}, {'id': '7MRjwKK6HVHbGteEEdpgLA==', 'price': 5685000.0}, {'id': 'ITRWi/XPkAxm1M5ZN2DUkQ==', 'price': 590000.0}, {'id': 'fq5L/ZyC3rPZAqb2IuIfJA==', 'price': 14507000.0}, {'id': 'WVuz54JfS62e799Z2OHwnA==', 'price': 540000.0}, {'id': 'QL7Jzo2hHxIuRjgY8V1hTg==', 'price': 1150000.0}, {'id': '5sDwLlDMg2kkG+u547uwKg==', 'price': 850000.0}, {'id': 'ta8pEoeO2fgxGkS1MP7hAw==', 'price': 13500000.0}, {'id': 'bgo5xf4bgc8xa2wipLD1rQ==', 'price': 440000.0}, {'id': '74zCB6fx+OdqTtVslBoDng==', 'price': 300000.0}, {'id': '//uDaINPvcKnNKxEPYn8jw==', 'price': 1900000.0}, {'id': 'rq+/FQv8SrATVUyNYaXAMg==', 'price': 550000.0}, {'id': 'xdz88qXX2/sPMNsK/R6sUg==', 'price': 890000.0}, {'id': 'gwie/wjOwkbrAmu+KPmQrg==', 'price': 1150000.0}, {'id': 'U5ROeAECBcwawK5xAjA1Vg==', 'price': 850000.0}, {'id': '7VBgGLaOjW1qXX9K854+Uw==', 'price': 580000.0}, {'id': 'A22IlGKpcGX5phwjZ4zKCg==', 'price': 240000.0}, {'id': '1L0WT1gGJEUN4HvgmhU2mA==', 'price': 305000.0}, {'id': 'XEaPt9i/+4dx9FhXQ8TGIw==', 'price': 1225000.0}, {'id': 'r7tE7aIh4bRt0OfCSZrquw==', 'price': 2150000.0}, {'id': '3gzkrvmK90f5xaK+Sgf6Iw==', 'price': 4390293.0}, {'id': 'lJytVvZzJSvGz7tw1DbgQA==', 'price': 298000.0}, {'id': 'teVlFDHOSRDSPpRW+x4owg==', 'price': 245000.0}, {'id': 'mUpo7GrWtf9wqWgnsvbIFQ==', 'price': 1450000.0}, {'id': 'F27e4WkqhH03a2SkyiAvIQ==', 'price': 337000.0}, {'id': 'IrFdgOhVU8xkQooMbD2ybA==', 'price': 430000.0}, {'id': '3ugD3m7NKBfvRKNFOHWV9w==', 'price': 1200000.0}, {'id': 'wxMpzD7XdX6w0PBG79t0Yg==', 'price': 5720000.0}, {'id': 'WmsJ/kUZoyv84uNITBm1lg==', 'price': 780000.0}, {'id': 'A73G6n6N+1GYxF1/1x98Mg==', 'price': 570000.0}, {'id': 'kuKTmmrADrvPEUlPYc7r6A==', 'price': 430000.0}, {'id': 'oyiFQrmiy4w9R83ZQS9Lig==', 'price': 399000.0}, {'id': 'yz4LzVcXrQf3Hho9h6Q+Sw==', 'price': 606700.0}, {'id': '76Un7J96K047GOHW3dnNgA==', 'price': 290000.0}, {'id': 'pgtV3E59ySlV6OteXxTu1w==', 'price': 8654373.0}, {'id': 'BzhlUt2hIkxabkHklii1Yw==', 'price': 1500000.0}, {'id': 'ju9/cI3nLDosNDrZl5HtbA==', 'price': 430000.0}, {'id': 'oZUaTk9hi7yQLtHWjDH1CQ==', 'price': 640000.0}, {'id': 'P1cmANgxrNKg9EHRgcB6BQ==', 'price': 607000.0}, {'id': 'E6rSwxoqO/wgkUEDqGoNwQ==', 'price': 1000000.0}, {'id': 'chi3o77PLEHvsGrPXdNnPA==', 'price': 620000.0}, {'id': 'LhQC7eJ+FDivEEpXdCLQOA==', 'price': 595000.0}, {'id': 'DeKhTk9bi78G3F/LQ4h58A==', 'price': 13000000.0}, {'id': 'ZIRZ9hJZrh5KxV2XE2o4nA==', 'price': 276500.0}, {'id': 'kIeKmUSyvO9l3Td8jYVvdg==', 'price': 790000.0}, {'id': 'rW1yPr4+8F6eLX6EruQJPQ==', 'price': 9272543.0}, {'id': 'SZjfFrzzfUmkxx7V9lvtVA==', 'price': 500000.0}, {'id': '3VYDjfxKMXqQIdxyJUYVog==', 'price': 475000.0}, {'id': 'dFPJ/6NIHUWYeVcLj+aM6g==', 'price': 430000.0}, {'id': 'Jip6yGokMf+MKodpWsZ/Fg==', 'price': 890000.0}, {'id': 'Tq3MnwLRBEme1/pVwUqJ4Q==', 'price': 12300000.0}, {'id': '7hz9x3SgqoVR9qphwSww2g==', 'price': 250000.0}, {'id': 'iRCar7BL/NcnKcPPTKLPYQ==', 'price': 570000.0}, {'id': 'sf4giv6nD1jmgLGYbiNQgw==', 'price': 420000.0}, {'id': 'BlYojsfndwiOT8M5l1w1hQ==', 'price': 1390000.0}, {'id': 'NxwXxYUdt24Ny5B1kXAFGg==', 'price': 18601000.0}, {'id': '4VwZ55aMCVw5AYbaDxD51Q==', 'price': 1300000.0}, {'id': 'DHhrEsWGI2VszbB63yW2ug==', 'price': 290000.0}, {'id': '3iopCfsNeOqUAnzcBfyCXw==', 'price': 400000.0}, {'id': 'wasVzHaaPoy0X/zbUf6Vtw==', 'price': 235000.0}, {'id': 'nujZFNyu/t93+/ZigbmzLA==', 'price': 1349000.0}, {'id': '2jKAJe7tVkoV2Ctg20+kyQ==', 'price': 14542823.0}, {'id': '6GGKzw5t0S6kZfUarF+MvA==', 'price': 3000000.0}, {'id': 'HuGyZX9lCW6qy+9xUpQ/Xw==', 'price': 830000.0}, {'id': 'eRHRw8JQfJKKN2wtJmt6Jw==', 'price': 795000.0}, {'id': 'iKWvdvkJJ1LrYxqcsOBBKA==', 'price': 2500000.0}, {'id': 'qAGQhpcnJq1ok2cuFGXqjg==', 'price': 375000.0}, {'id': 'kU0fDYwGmBOcWEdsXGFRtw==', 'price': 790000.0}, {'id': 'TKLrERHC8jE0NwR4vSEPJw==', 'price': 250000.0}, {'id': 'O/YGoV3NOKu5t9CsMJHVeg==', 'price': 704000.0}, {'id': 'KDjNV7PKWukONyXXaNszZA==', 'price': 320000.0}, {'id': 'zhJ3lCrEEOpiqzqoLmOViQ==', 'price': 1090000.0}, {'id': 'SSwYygy/9nQUgPLvVElZDQ==', 'price': 240000.0}, {'id': '/bL3NH3loHoO9RvHTbFhLA==', 'price': 420000.0}, {'id': 'VvEXljjB12gigqxYpIm/Yg==', 'price': 280000.0}, {'id': 'E+TlqMced1vO7xM2PIruPg==', 'price': 340000.0}, {'id': 'yOxTyE6g4//MJpA2VMrwVg==', 'price': 2150000.0}, {'id': 'K+ZKEV7s/tyqzsOu5r5hTw==', 'price': 700000.0}, {'id': 'Hyf72cq8pAxPzD2WPijnxQ==', 'price': 245000.0}, {'id': 'yQIybETBiluGjdeVcKCaIQ==', 'price': 760000.0}, {'id': 'a5MxpEU1XZ593U4mqwng7g==', 'price': 495000.0}, {'id': 'w4asf9sKzHLQoruI7TVsdQ==', 'price': 275000.0}, {'id': '/g1hHGr2+pNpPDBzmK4aqg==', 'price': 839000.0}, {'id': '3xUE3Gx5xIFjWNNu7+4btg==', 'price': 466830.0}, {'id': 'XuU6MWKuDPZt6lp1+ka+LA==', 'price': 236000.0}, {'id': 'jna4Y5zoA9Idw93RDYxLuw==', 'price': 670000.0}, {'id': '6PkGiFNrFGAlZl5wKN8buw==', 'price': 380000.0}, {'id': 'mCm2hOAXQDgxXDE7eob44Q==', 'price': 1300000.0}, {'id': 'oE8EQrKz5ThclnollARSLA==', 'price': 650000.0}, {'id': 'jwNzTzhy3R9loQNo3LHRVQ==', 'price': 375000.0}, {'id': 'dIC8PV0S1DFLz8HBGDjwdQ==', 'price': 273750.0}, {'id': 'a1UjyieL4EoJDLbjWMd/FQ==', 'price': 280000.0}, {'id': 'umms3RCoLu9KnUhM9XOcBg==', 'price': 590000.0}, {'id': 'zo8NpsqevJKG/mwxyky87w==', 'price': 278000.0}, {'id': 'LmvZ6hTmLKwBXVouyjTCkA==', 'price': 315000.0}, {'id': '63Jm+CT5ngYH79/eaz8pNw==', 'price': 1390000.0}, {'id': '0UA9qrM8I0NEwDPYLwLbuA==', 'price': 835000.0}, {'id': '2vwyA/NQ2XlrToapWdSBGg==', 'price': 2800000.0}, {'id': '3aLuwgCXvDotbMscu8akzw==', 'price': 275000.0}, {'id': 'h2WHwtE/Ls7iCACEajzrVw==', 'price': 249900.0}, {'id': 'TZWtIRdefNubh3m48+63hA==', 'price': 9948000.0}, {'id': 'U04ImeikOh8LCbUSC/6ktg==', 'price': 595000.0}, {'id': 'gy4MbvbtwFRdTZ3xnWWJrg==', 'price': 420000.0}, {'id': 'wNHX2BrlzOu6kHendscylg==', 'price': 2200000.0}, {'id': 'b5Rc3vBgPI5A6QWuj+eAcw==', 'price': 1800000.0}, {'id': 'n1RTTaqNKH3AnWWI1xZY1A==', 'price': 1200000.0}, {'id': 'hh24GeWVPjDoEz7nas/Nvw==', 'price': 495000.0}, {'id': 'Hz7EkXlQ7frCkkvNCYgXbg==', 'price': 1500000.0}, {'id': 'lpOvRvcjr8ZzMvO+T097JQ==', 'price': 390000.0}, {'id': 'XbMhFsiq4mLCHJpCZ+ro/g==', 'price': 500000.0}, {'id': '8wf8NuYT8n1IwCbDFUeqcg==', 'price': 800000.0}, {'id': 'xWqr/DULfwuNGvWR+orHRQ==', 'price': 400000.0}, {'id': 'IOAr3e91FY+gwwl1KgV96A==', 'price': 280000.0}, {'id': '2DPOkvcQHt/HaknCC9BCSg==', 'price': 690000.0}, {'id': 'n9m8TWV5DRD88k6WHcjnXg==', 'price': 240000.0}, {'id': 'kEVQxU5Mw3p5L8BVuRdP6Q==', 'price': 750000.0}, {'id': 'advW0cc0P1iGHZYkObZlCA==', 'price': 720000.0}, {'id': 'vjReMAIze8ltWAlk0kCjlw==', 'price': 510000.0}, {'id': '2RH2h6rFJfS7fATxjgPx8A==', 'price': 575220.0}, {'id': '+VP/BsZ++lr6YPCwS5eLTw==', 'price': 16650000.0}, {'id': 'eeooOPGBuzdJxlVb0dwGQQ==', 'price': 520000.0}, {'id': 'i473UnUxEmRH4xaynTdKHw==', 'price': 750000.0}, {'id': 'dCDyYdJ0FlwGs0GpFl4khA==', 'price': 1035000.0}, {'id': 'VVTFz7tkIIDQN1l+69YfMg==', 'price': 800000.0}, {'id': 'XppV5kuNJ1SFIyYJ2CwElw==', 'price': 570000.0}, {'id': 'buob5MvQw2zbBkxoH7H+lw==', 'price': 369000.0}, {'id': 'OC30w/GHJmHeBf6FKXRRIQ==', 'price': 900000.0}, {'id': 'C6XOQnQOSt5FqptQ0Ed5Ag==', 'price': 250000.0}, {'id': '8NV2HQlf1yeeXxYZgR7gzA==', 'price': 450000.0}, {'id': 'xrsp2wjNPfiIuburtpD4Fw==', 'price': 250000.0}, {'id': '98WikMy0ZctkLZnUWgGdeQ==', 'price': 305000.0}, {'id': '1fiXVkfLYStzDHUF+2sPqg==', 'price': 530000.0}, {'id': 'jK9dAWLmmwT/0ArJ0sa1ig==', 'price': 1300000.0}, {'id': 'PcGsn+lenL/usuVpxn9s0g==', 'price': 950000.0}, {'id': 'H0gi4usNqEJGTT74HgqgdA==', 'price': 1050000.0}, {'id': 'izP+sqR9/rDBzm4JbuJSfQ==', 'price': 1000000.0}, {'id': 'A9ffdreyzS/gJb2PcWdE9g==', 'price': 5165000.0}, {'id': 'K7kPu3BJOVEvw1IejVEz+A==', 'price': 2500000.0}, {'id': 'h8zsZMARSg4BLKqf7RHVjQ==', 'price': 455000.0}, {'id': 'Pw8GGiKqvl1P2wWrl9ljtA==', 'price': 3200000.0}, {'id': 'o2c1AKAF5YY0PODtCYGOtA==', 'price': 499000.0}, {'id': 'W+5ddWIaAIt0bZn8A2muhQ==', 'price': 440000.0}, {'id': 'nmkdb09J0fGPGVhnzMtpcQ==', 'price': 450000.0}, {'id': 'fV4qwDuoCcyzgkQU4B+DjQ==', 'price': 600000.0}, {'id': '7yhOcv57ViZfMqZOqAZyjg==', 'price': 240000.0}, {'id': '+Q7rriAmLIlzSi1IT4203g==', 'price': 425000.0}, {'id': 'r3OZV6ojLcZZSsmnRNvXfA==', 'price': 320000.0}, {'id': 'FIQDwqYxZSCrJO4pCAMYyQ==', 'price': 1200000.0}, {'id': 'tQpr/I0nsQGvEPsaFsX+JA==', 'price': 750000.0}, {'id': 'qun4L3UNEg+GjN2hcypCDg==', 'price': 800000.0}, {'id': '4uEUcuIO6yA9ZD4PBAXjVw==', 'price': 36400000.0}, {'id': '29ivvtKq57sKzzHD5GEyhw==', 'price': 1180000.0}, {'id': 'cBptus75HvJ4xYi/lo74cA==', 'price': 890000.0}, {'id': 'AsKPhQulQXwQwJypt2wTCQ==', 'price': 255000.0}, {'id': '7VaY5+NlQClwQEJOvKb5HA==', 'price': 290000.0}, {'id': 'j0RvQSa0T9yV3vX0vnPlqA==', 'price': 495000.0}, {'id': 'w1noid5w8nplGQ0v3MVHVA==', 'price': 349000.0}, {'id': 'pcrErmiTnk9AjY7jdoRCew==', 'price': 320000.0}, {'id': 'wpRq53fEk8S65AwpqRajPA==', 'price': 1600000.0}, {'id': 'ux+iLfq2QFOZZ8YSIuCafQ==', 'price': 275000.0}, {'id': 'Z/wMfwVB8rq47+cVMwXw7Q==', 'price': 330000.0}, {'id': 'm9a5FH8Zp+rDrkAH1S34iw==', 'price': 990000.0}, {'id': 'CsMFevr0vv43hKxqjxLBiQ==', 'price': 1300000.0}, {'id': 'Ovji/NfscyZ+KQH8lHGV7Q==', 'price': 448000.0}, {'id': 'pXeRb6/3RcM/xIYts2isWw==', 'price': 320000.0}, {'id': 'koQbsRw+dpYQCjp3cOGhsA==', 'price': 690000.0}, {'id': 'x5UmJrKtKSLnbRPBkYbPYg==', 'price': 1350000.0}, {'id': 'ngNNF1dSpOdcAH4AK82AnA==', 'price': 470000.0}, {'id': 'WkYGPQkHkBpbfsb4VJcWTg==', 'price': 595000.0}, {'id': 'Go2MeukvVUD50vBpITUaBg==', 'price': 550000.0}, {'id': 'UMfhpPSXkaYo5DqWLksnEw==', 'price': 1490000.0}, {'id': '8usrpfiYCSsUu5nuLR1ZVA==', 'price': 2250000.0}, {'id': 'fvIXlOCNtx9p7ekzRt4DEw==', 'price': 9257362.0}, {'id': 'W6zrjY3bMtmR+csanPjBSA==', 'price': 265000.0}, {'id': 'cpmB/erCs1hmt8xCIGc9Qw==', 'price': 420000.0}, {'id': 'I5U1ayYnsKDRg9KHr1a0rg==', 'price': 430000.0}, {'id': 'gP53Z6yS5uE3GMmlT8yRTA==', 'price': 600000.0}, {'id': 'SL3cikzn5vd3yGB4GAnxAw==', 'price': 210000.0}, {'id': 'cM9lxmU9Liztg9A2fkwHvQ==', 'price': 310000.0}, {'id': 'NoM58hEthOpgHX+6RSYGRQ==', 'price': 1600000.0}, {'id': '7pGbfQ+idMIU6L3McFP2zw==', 'price': 430000.0}, {'id': '3WLT5NSDa27+l1c745H8JQ==', 'price': 1900000.0}, {'id': 'UZbS6tdDle+ShjUk3luK6g==', 'price': 245000.0}, {'id': 'o0q3CamtWtcQmk0Cpu16ww==', 'price': 500000.0}, {'id': 'UPzrDSMyP8QjjfmMp6Rn7Q==', 'price': 235000.0}, {'id': 'Km/Rx6/xceKTEC3OZia0Eg==', 'price': 690000.0}, {'id': 'GQEzhrCCfE+XURybxx8Z3w==', 'price': 980000.0}, {'id': 'FvauA4/Jw91Vr3DK1kKSog==', 'price': 493506.0}, {'id': 'MG3e3F9O/xOabyCXKwHQaQ==', 'price': 11450476.0}, {'id': 'N5Oc+Raa7lL4tOP9dZSyag==', 'price': 275000.0}, {'id': 'KqLYBxKSnlAbe1YB6KLUBw==', 'price': 1450000.0}, {'id': '+QjFJx/JRm33pzbEb1Ps1A==', 'price': 990000.0}, {'id': 'cc4w8wliZ4vzOawWpVtGtA==', 'price': 700000.0}, {'id': 'aj/dTFYG8crFA2nGwOVS/g==', 'price': 890000.0}, {'id': 'bFzmYD6BNChTmia6ratXKQ==', 'price': 650000.0}, {'id': '9Oe0clmUMUhjzNgtzUIwzA==', 'price': 9455000.0}, {'id': 'zYQKW3EUZ9L/BwnEKwR+hg==', 'price': 550000.0}, {'id': 'CpBr7w9LRmhpz7209ir+tA==', 'price': 520000.0}, {'id': 'HNBpGUoD6pDSQJiz57dlKQ==', 'price': 580000.0}, {'id': 'SzRzvQjyfUmCXmup8L/hQg==', 'price': 280000.0}, {'id': 'qMqomixZ13U9xBVo96bTDQ==', 'price': 3500000.0}, {'id': 'WvjHkBKnwUSgXqvr7PQZgg==', 'price': 530000.0}, {'id': 'oUZD1UHgYEG+tSlOop700Q==', 'price': 1300000.0}, {'id': 'lkdVc7Dh1sv9CDxF/B80Mw==', 'price': 520000.0}, {'id': 'r8P0acTGOdSSmmY+rVe8BA==', 'price': 273750.0}, {'id': 'OGkw+S0v5HJ7J3b1RCEeFw==', 'price': 500000.0}, {'id': 'uWA6ec176g7PgpRZhhpVNg==', 'price': 1500000.0}, {'id': 'aC1s2+m7VXGh2W4KsShWUw==', 'price': 890000.0}, {'id': 'iJ/nx97yt+pzhLTwTCS9gg==', 'price': 690000.0}, {'id': 'AU2iyxW7qSHUwZWIBK7gaA==', 'price': 280000.0}, {'id': 'Ct2otIUGMTC27RbCtIwYHg==', 'price': 880000.0}, {'id': 'hjiPspMARKe8Uv8cvAz6wA==', 'price': 8800000.0}, {'id': 'gs3GabZmwWQPAA4yFd5SGQ==', 'price': 280000.0}, {'id': 'jAyjUW8mxVQJCp8YyO6EPA==', 'price': 418000.0}, {'id': 'H5PCHlhHqSjBuwYawU9KKw==', 'price': 520000.0}, {'id': 'NOeutniLiMCxzmINvvdaIQ==', 'price': 220000.0}, {'id': 'P82PBg7Gfj513ZlDFLc9Xg==', 'price': 28576000.0}, {'id': '6ZkvdzxMj9lEAbr2jt0WsQ==', 'price': 560000.0}, {'id': 'oDQ87AH7vxUbib8kXbtC0A==', 'price': 660000.0}, {'id': 'DMiE5tqTEtXXL34giW5ntQ==', 'price': 220000.0}, {'id': 'wKt20R/tJLHy9njhSl6aVA==', 'price': 310000.0}, {'id': 'lrNcheNe/DjapECf+42YIw==', 'price': 318000.0}, {'id': 'E96078W6urK0YcUlsjHXnQ==', 'price': 270000.0}, {'id': 'x8ykzrmoYRDHwDNYP4WjBg==', 'price': 630000.0}, {'id': 'RLE0s3H8Yp1HMDnPBIvYFA==', 'price': 1100000.0}, {'id': 'R23nX258rPIhSas9MQvr0Q==', 'price': 690000.0}, {'id': 'Igb4QluWGu8AFF6ritZ18g==', 'price': 250000.0}, {'id': 'LgtVb9TtqVumpNMJN4yHyw==', 'price': 370000.0}, {'id': 'lAOV9qiGC7fYp+jde9yXOw==', 'price': 274000.0}, {'id': '2s184r1WYVd3QoW4M7UvLQ==', 'price': 440000.0}, {'id': 'FkcgDT2xJJcVCplbMcA3ng==', 'price': 1200000.0}, {'id': 'EqiILx5v2p8pcDgMWaRFMQ==', 'price': 3000000.0}, {'id': 'rFMAbBoJBejmWbz2oL8dLg==', 'price': 550000.0}, {'id': '+uixHpslIi3QXg2OQeOjZg==', 'price': 840000.0}, {'id': 'nOUO0BXJ5MimNKiKez//Pw==', 'price': 700000.0}, {'id': '5jAEq8OVLqZpquykeVqXAg==', 'price': 550000.0}, {'id': 'NVwUpSfRsh9ZIMvNxidr6w==', 'price': 420000.0}, {'id': 'bG/42W8RxGvunh5Tocc4TQ==', 'price': 360000.0}, {'id': 'sv2HFp4GsOurdHOUG3aPLg==', 'price': 238000.0}, {'id': 'iTShplELIjUIww4/WAa1kQ==', 'price': 800000.0}, {'id': 'WmBC2CdFYVhwRwCfEdaHtA==', 'price': 1000000.0}, {'id': '6Z7vjG7rIE/G47pGGvK+ZA==', 'price': 550000.0}, {'id': 'oDn1NOSimW4nQSLGKEe+0Q==', 'price': 880000.0}, {'id': 'r8I22M7cL4hPYLqgr5Wq2g==', 'price': 1060000.0}, {'id': 'QuZzYTop7h9GMduKV7y73g==', 'price': 260000.0}, {'id': 'I25k5Uj+L1XaJN6SPRwHjg==', 'price': 450000.0}, {'id': 'BzlgZNrBXSwoNWFv2yl9TA==', 'price': 265000.0}, {'id': 'ZxZmUtB01LLTXJV1Cd4n/g==', 'price': 550000.0}, {'id': 'zfCuWa6IADhnZIfUt9ohqg==', 'price': 460000.0}, {'id': '6g2F54O0U9acr4mbNVnRRw==', 'price': 415000.0}, {'id': 'rzVMi/fhDSaldtZ8kUtMoA==', 'price': 700000.0}, {'id': 'FA72OdXb4b2qv46cKQS02w==', 'price': 900000.0}, {'id': 'oeJCOpv8iA/XUW/U0Egapg==', 'price': 13892000.0}, {'id': 'UfXknzyHcpW2rbDAOXodVw==', 'price': 2000000.0}, {'id': 'D6Oc2/5wVcxkgXnzsAYsrw==', 'price': 17462600.0}, {'id': 'nAkYJPVqou3nLFqjq1jn2g==', 'price': 850000.0}, {'id': 'SjhraLg0yp3rKCU0EImKAQ==', 'price': 940000.0}, {'id': 'HATzHNyWjIHRKj7pDRdJjg==', 'price': 420000.0}, {'id': 'ELCGz1yLrdBVDTCPBVi8Ng==', 'price': 1200000.0}, {'id': 'nE7afPqK/kl6pBEVjuhdCg==', 'price': 590000.0}, {'id': 'rx7SIySiZTqmeC17dRZiMg==', 'price': 2650000.0}, {'id': 'JdIKK73oMiYBynBNm8Ex0g==', 'price': 1600000.0}, {'id': 'DRUv2F7GQvTUz+78KRmpqA==', 'price': 1500000.0}, {'id': '+AMUgf6B7Lib5ka9fX4yWA==', 'price': 1550000.0}, {'id': 'xKQwYJ6vmjYN8oVIJtm5eg==', 'price': 620000.0}, {'id': 'itFiFT8GEPRtX2/6m/UxiA==', 'price': 5500000.0}, {'id': 'QlxpKJVudfm42sQFClU0KQ==', 'price': 320000.0}, {'id': 'DtA5uWsc1HZEN5c97fsobg==', 'price': 650000.0}, {'id': 'JoZ4/MuibnsYuZeTG3R+OQ==', 'price': 250000.0}, {'id': 'B2rs/idv3HWcf+3aYIXMAA==', 'price': 720000.0}, {'id': 'K4nqb85f+3YFPmrXzpG1JA==', 'price': 720000.0}, {'id': 'bM1K3iHSGgXwSn+AlQL8ZA==', 'price': 595000.0}, {'id': '79lPBxs1c9TkAo16MS5LZQ==', 'price': 298000.0}, {'id': 'OitcCYfdAiB++gY30TpBCw==', 'price': 1650000.0}, {'id': 'YyzROR/748Ezcs7pG2RJdQ==', 'price': 418000.0}, {'id': 'mUAQH0Y7xfKYi07fwTbzrw==', 'price': 890000.0}, {'id': 'mqr6bAupKHSAGIgo8hE8AA==', 'price': 780000.0}, {'id': 'Zn3k6JxHYqAaguISaP9KCQ==', 'price': 350000.0}, {'id': '7WtvjjE3ZR5QrAaq3Lqq8A==', 'price': 1150000.0}, {'id': 'eKUJ9DFnZFyfPDv7srSNSQ==', 'price': 1365000.0}, {'id': 'PrSfNSlXt/d8DoZBPtxbzw==', 'price': 630000.0}, {'id': '+ScSoO1Sg5RxJmi947989A==', 'price': 12460000.0}, {'id': 'u6vUybYn4h1jnkQqn7qshg==', 'price': 890000.0}, {'id': 'zkRl6QQPTxgx/Q6b/v4EWw==', 'price': 390000.0}, {'id': 'IV3ecxtwOQKtvkTH0ksCOQ==', 'price': 450000.0}, {'id': '3ehHW7kUkpwZkbpYFEMBYg==', 'price': 379000.0}, {'id': 'f8dPFJNASnoYqO8YPtuS/A==', 'price': 500000.0}, {'id': 'qdlxQC7XHv2KM+bd8W8fTg==', 'price': 240000.0}, {'id': 'xK6QvVshZYAAdfG3FJtIZQ==', 'price': 480000.0}, {'id': 'oT2e/NK3sNrQI8yAXWqcWw==', 'price': 375000.0}, {'id': 'JQC4REwFbazcZhGs6hnoJA==', 'price': 8800000.0}, {'id': 'O/dbvV4oJ7qTHiWBiJZhvA==', 'price': 8550000.0}, {'id': 'ZlHt4A+JHO8VabxdCOJATQ==', 'price': 285000.0}, {'id': 'F4Ct+Cg87KCIr7hp6K2N2A==', 'price': 310000.0}, {'id': 'qH32jv/8TVsuxFiRIn4IfQ==', 'price': 480000.0}, {'id': '+ZWUXK5hhSLsI49wNKkfmg==', 'price': 11284952.0}, {'id': 'IuJuIVRaOn1gQcbE/rh7AA==', 'price': 593527.0}, {'id': 'HJ7s8rlc6ncpZRtQUQqKzA==', 'price': 690000.0}, {'id': 'bPcvYGfXx2gxetHqWb03Qg==', 'price': 380000.0}, {'id': 'QzedMVpZfyT5zrid9mU0kA==', 'price': 620000.0}, {'id': 'JTfdqTN5yIgdXfvo+ut7aw==', 'price': 550000.0}, {'id': 'O2jtgd1LCYVHWvIsgRwKUQ==', 'price': 1200000.0}, {'id': 'OiLpXv1X57oy5qFIamQsHA==', 'price': 820000.0}, {'id': '5xYE5uWNcynCe7NlkOZXcw==', 'price': 415000.0}, {'id': 'BGbcCRU/ZJiwXxLofMkVEQ==', 'price': 275000.0}, {'id': 'tEwnhtKs0U+oL1hILcyMqw==', 'price': 525000.0}, {'id': 'xN7Gt6ychknppC4Oner12w==', 'price': 1400000.0}, {'id': 'jd+Ab3eVffkzShsAmXwPOw==', 'price': 250000.0}, {'id': 'F8MadjmSEGc6g7zVIhIn+Q==', 'price': 2150000.0}, {'id': 'sNQ+h90cWVmL5FzCUdbadQ==', 'price': 530000.0}, {'id': '+D6ELmWS443j1N+CYry9PQ==', 'price': 280000.0}, {'id': 'A7VM409yop56AsOfVLEU0Q==', 'price': 1950000.0}, {'id': 'otMPzFUt61W9DYmhPx2CEA==', 'price': 560000.0}, {'id': 'E3fuk/NY9J32NiPC2LYaxA==', 'price': 850000.0}, {'id': 'Pq+40814jTuCoULuPvzMwQ==', 'price': 290000.0}, {'id': 'cdNmlttvyokFltu58scm8g==', 'price': 560000.0}, {'id': 'Xd13sBtK/WBJWkxZrmhgqw==', 'price': 1400000.0}, {'id': 'SL+4QXAhI+bINZ2qg99n7A==', 'price': 580000.0}, {'id': 'la5kMbrb5xrLNrndWCi4nA==', 'price': 498000.0}, {'id': 'H3P72Xg48/z53cCfzpYWRA==', 'price': 629000.0}, {'id': '2CyzMRPZbexeBMP8YLcpLg==', 'price': 279001.0}, {'id': 'f7JuNvSOYWppCWSDdyuiRg==', 'price': 650001.0}, {'id': 'I1v991makW3EfrsX3juPGw==', 'price': 1550000.0}, {'id': 'BOMbKla+VWr1vmDy16XlLQ==', 'price': 1100000.0}, {'id': 'KqwfE2saEn1M7cng9wkh0A==', 'price': 309200.0}, {'id': '8m5Jxx/3Kqe1w+uLLn6NZg==', 'price': 290000.0}, {'id': '5puXHR1hCPGdClFg783TpQ==', 'price': 795000.0}, {'id': 'qzxapjUJhCgMVyEj+QulZg==', 'price': 540000.0}, {'id': 'wC/vRvj/uHM1Xo3mM02Uxw==', 'price': 14916915.0}, {'id': 'U3qDatPeXTI1rOKxkrG7oA==', 'price': 450000.0}, {'id': 'lKBbIlGY4XfhgZeyXMnl9Q==', 'price': 1100000.0}, {'id': '77OcuEnk6nAxVweUkbI1qw==', 'price': 775000.0}, {'id': 'TZdL9qZ6idtwFJ5dewbJEw==', 'price': 670000.0}, {'id': 'aK58R4G7QZOMa2bRCOQvCA==', 'price': 1600000.0}, {'id': 'OTtiu2V5BksyjIq64zdt3g==', 'price': 239000.0}, {'id': 'QGoVDA+rMVq9jzy4l1j1Fw==', 'price': 2750000.0}, {'id': 'LRpOXX2sFrQwNZnJyrv1Aw==', 'price': 3900000.0}, {'id': 'YVZQk/k/Vb83CChJVHVPVg==', 'price': 1600000.0}, {'id': '+WBrvVjJcUFhqHqna+XW6g==', 'price': 580001.0}, {'id': 'cO9h4A2s9+Swtfy78PUNXg==', 'price': 261001.0}, {'id': 'tJPutjwjJ1A/B/AS2CnIlA==', 'price': 422000.0}, {'id': 'dbUL/phPpBEVYnd997DOYA==', 'price': 975000.0}, {'id': 'gT37Z6QeMOD/ZNwEcIwKXg==', 'price': 490000.0}, {'id': '6rgofvfhhRdDDj06T3T9tA==', 'price': 550000.0}, {'id': 'Gu2tMDz3vvLEYRORv8liVQ==', 'price': 530000.0}, {'id': '71/ofRV+agqd/YfgxthFrw==', 'price': 240000.0}, {'id': 'l7av3+vOewhcz74NhAu2qA==', 'price': 720000.0}, {'id': 'bQniWMI5y/YoT+HxwiT8lg==', 'price': 540000.0}, {'id': 'Ao3qyBEc5e8FUPOfvsbBpQ==', 'price': 475000.0}, {'id': 'jeoaX3T28CIw27oCsqk9gw==', 'price': 420000.0}, {'id': 'p3y3X5x+1gQApRtERTY80A==', 'price': 525000.0}, {'id': 'IbaGURm0jABNLaV7wbTCDQ==', 'price': 370000.0}, {'id': 'MJgQ/5Gsc59CzBJPh5rzbQ==', 'price': 318000.0}, {'id': 'kzUj+QUAsoWne4m9ETvZ9A==', 'price': 1250000.0}, {'id': '6CVPADnS/HbUrZh7JnXK/A==', 'price': 285000.0}, {'id': 'AllKrmVpmDL980Xnt4UK1g==', 'price': 270000.0}, {'id': '0muqZ+DU8TO0ogpB5IMj6Q==', 'price': 420000.0}, {'id': '86NbtEoGQlzdkjcpHxM7Nw==', 'price': 420000.0}, {'id': 'GLjaoOV6eMWeSj87XUrOeA==', 'price': 758000.0}, {'id': 'cxXeeSkvP6+fVkree0KHyQ==', 'price': 270000.0}, {'id': 'iTIizNYA/M6krbGRp8e4IQ==', 'price': 389000.0}, {'id': 'aMKRyYWUJv41Yrbj61sFKw==', 'price': 320000.0}, {'id': 'tmqyZBemFJ/Cl0pJoJp8Bg==', 'price': 750000.0}, {'id': 'auvUzoFZMU3A3NHnrZz4QQ==', 'price': 430000.0}, {'id': 'FF4D2GdfneBP5pzifrpiBw==', 'price': 250000.0}, {'id': 'XmNSyGH/R6VIkUs5UJ7iMA==', 'price': 490000.0}, {'id': 'uCZ1rsKQv6fjD3FWjIEMxA==', 'price': 450000.0}, {'id': 'dXdPRwVhZTIRQsHoHVsmJA==', 'price': 1150000.0}, {'id': 'nLHKTJXYBEozIdTOHKkx8w==', 'price': 430000.0}, {'id': 'D/RcamGuvd5a0LMGEUMaUw==', 'price': 199000.0}, {'id': 'clAAjJY16aFZgZRHbL/vPg==', 'price': 280000.0}, {'id': 'p7VVfXh2jW8ElVXEDOutbA==', 'price': 730000.0}, {'id': 'ZKZ8Fw5vO21d+ZzMk4qusw==', 'price': 790000.0}, {'id': 'RU4D7Ja5S+KQJwA5Fz2oXw==', 'price': 850000.0}, {'id': '5sJ/MazJmygkbpxPrlx9cw==', 'price': 455000.0}, {'id': 'pL/HmdcOFcRqRIJ2o1wjig==', 'price': 540000.0}, {'id': 'Ufsz7CbDfU1RdJ/XJGXcoA==', 'price': 1270000.0}, {'id': 'e1+YeyK//RkD/jgGXrCm2g==', 'price': 14100000.0}, {'id': 'uNEuM2mxE7qiMjvGNekW4Q==', 'price': 730000.0}, {'id': 's41H5VcfdpOlrCNmVWaMPQ==', 'price': 1500000.0}, {'id': 'rITZTAm1jWL7y5W+3LtIzQ==', 'price': 1150000.0}, {'id': 'hYhMRP1xa52Lud4d8me11w==', 'price': 365000.0}, {'id': 'sg01fj64kOc7nmDQoeEA3Q==', 'price': 259000.0}, {'id': 'V0QTBXS5bvggpn47FWPwkQ==', 'price': 449000.0}, {'id': 'tO370Sb5BxaIjD5RxajSog==', 'price': 300000.0}, {'id': 'J65nU8nVEOd2MtdH8cDU8Q==', 'price': 420000.0}, {'id': 'wv/aED0xh2bpxwLo2QVtMQ==', 'price': 270000.0}, {'id': 'zqnEKoRhcOBvRUuuYb0FQA==', 'price': 830000.0}, {'id': '5P0cB1FU4745azj3bQR7UA==', 'price': 745000.0}, {'id': 'ymyxrf+ecjPjAGT9jS2kGw==', 'price': 550000.0}, {'id': 'ajiDunJjacT6o+hSsSawGQ==', 'price': 1070000.0}, {'id': 'M0kAYVEn3Bs/PYBbBORLDQ==', 'price': 465000.0}, {'id': 'ksAIG82HC1+Qt4osU4HHag==', 'price': 1599000.0}, {'id': 'Rc5G1/SQAo5nRAzfCm3ZPw==', 'price': 290000.0}, {'id': 'u7O/AvG6EZknsh2eeTKGrw==', 'price': 690000.0}, {'id': 'CKPRZ+4IKBGpvR7yDaldpA==', 'price': 500000.0}, {'id': 'QoMp8BZITJeNFdD9sI73aw==', 'price': 520000.0}, {'id': 'zV55f9zr7q1ySy2ljO1lsQ==', 'price': 650000.0}, {'id': 'Yc69/eXxWAjtsBOdi1oZkg==', 'price': 270000.0}, {'id': 'scT7+W/4XH7mc6gQ6OOchQ==', 'price': 448000.0}, {'id': '2oBLlZDXSDDQ430s3Xabow==', 'price': 390000.0}, {'id': 'O0nwUi1RZQKy0WUQ/75CsQ==', 'price': 3200000.0}, {'id': '+WWcL1Tf8ukwVaA/cVgejQ==', 'price': 648000.0}, {'id': 'dbypd6i5E38+MZcRjWLiMA==', 'price': 440000.0}, {'id': 'EoUi2EwM17o5rb2bY9kV7Q==', 'price': 850000.0}, {'id': 'va+Ah7m2SVoMJUdvwVFoMw==', 'price': 268000.0}, {'id': 'uJ6aPTD5G5tavAiI1BGMNA==', 'price': 12354700.0}, {'id': '+N7jaFlsI/VwoSA6pNwTuA==', 'price': 239000.0}, {'id': 'dM8I+dJjssyb8HvbbBnCHw==', 'price': 1980000.0}, {'id': 'yahJiI+EzcBnFOVGzVbIGg==', 'price': 450000.0}, {'id': 'JZwX9Gcz+pG4lsXj5s0iug==', 'price': 259000.0}, {'id': 'TG5vrnxHn8p2pesOyKWWXA==', 'price': 3800000.0}, {'id': 'PtnoYd2Tb+JXYLh4BaMLIg==', 'price': 470000.0}, {'id': 'C7i2ymC8rifdi/F4sAl1CA==', 'price': 490000.0}, {'id': 'GKBqEmeuOhX4en/6+AnbgQ==', 'price': 950000.0}, {'id': '5E4VIss9AXol2aSzdrY8Ow==', 'price': 2100000.0}, {'id': 'JnbPWm8cfXkBznTHcpSbJg==', 'price': 750000.0}, {'id': 'Bb/JxFdv4V6gJn8yHC4W+Q==', 'price': 270000.0}, {'id': 'PfOi68yVaj0k0c9rGR+Iag==', 'price': 1500000.0}, {'id': 'mKbM0ETvrZS0yOVfoPxfFA==', 'price': 600000.0}, {'id': '/tbvHb3yZm7DZuvQ6zJdCg==', 'price': 239000.0}, {'id': 'CQfaODQNNusQBVnf4bDcHQ==', 'price': 540000.0}, {'id': 'qi/zXz+O7VYHjlTqfweMyA==', 'price': 330000.0}, {'id': 'Qhyf3PLk1a/qyJiKei/Uvg==', 'price': 630000.0}, {'id': 'PLZxljUGDhCOFoTaXTozTQ==', 'price': 33527677.0}, {'id': '9ZvS4PsFOtMbe88Ka9A+PQ==', 'price': 18900000.0}, {'id': 'Bjkd8K6FpXVBEP0fYa4WDQ==', 'price': 310000.0}, {'id': 'VekjiqZnR5iSv6/DAUvCZQ==', 'price': 560000.0}, {'id': '4GidlZ/lT7Dh35QFSaWr3w==', 'price': 509000.0}, {'id': 'v2zOWWUBkfejm9cyYPT/9w==', 'price': 650000.0}, {'id': 'ox9tDnxM1lZY7WFOTSuvxg==', 'price': 2782500.0}, {'id': 'No+hnDLfeZMGk3lKi1JUfQ==', 'price': 850000.0}, {'id': 'VyRFQA71zoLPzuwim/a6QQ==', 'price': 1250000.0}, {'id': 'CuXkydKVm+56OnD66SwR8Q==', 'price': 425000.0}, {'id': '1U0QpqsFfJSSie4y6OveZA==', 'price': 5000000.0}, {'id': 'S0kBZn3HOekFfm57gtb0JA==', 'price': 565000.0}, {'id': 'wO7H3ezOgnxGqyKcavqcfg==', 'price': 780000.0}, {'id': 'TiVyaa8oHFFCz/6snn+TMQ==', 'price': 620000.0}, {'id': 'cxiC+dl9eQGxVJk+J93BSw==', 'price': 750000.0}, {'id': 'Ki012lkOyX/qlKdElDRZnA==', 'price': 900000.0}, {'id': 'vJKAYrIZ8RU541mcHnoxrw==', 'price': 490000.0}, {'id': 'TjZPdwctOdLvKUAqcchKwA==', 'price': 1450000.0}, {'id': 'SGRH88l5iPtyf8HGaFwdYw==', 'price': 445000.0}, {'id': 'Fxa0w7SGCJlBt+MJ+A6uRw==', 'price': 279000.0}, {'id': '6bKEorMsU8YMWRH/Nillgg==', 'price': 400000.0}, {'id': '3k4a/OQK75o+7QhJ2TZ5aQ==', 'price': 935000.0}, {'id': 'NKq1ueFtOpm8TK63qZGFxQ==', 'price': 29000000.0}, {'id': 'to+gW+KQNRk+AvLg5m0qIA==', 'price': 657000.0}, {'id': 'EHlndKnP0oAdPLxVxjC9IA==', 'price': 1500000.0}, {'id': '1RNpepyKPDjqlQoneub6PQ==', 'price': 570000.0}, {'id': '1ZdoZdCU3l8NiYd0rOXGrw==', 'price': 580000.0}, {'id': 'x4I5VdEJYNgjSXRwnOqYPg==', 'price': 565000.0}, {'id': 'JGVV6gUXD+ahUog8ul4otQ==', 'price': 1340000.0}, {'id': '+WM2jvGBZ+J9DCQKjNcOlQ==', 'price': 520000.0}, {'id': 'At5Mo7eDJ5fGIvisXjzhKg==', 'price': 600000.0}, {'id': 'jcHyB4Oja20ewq209HC0cA==', 'price': 590000.0}, {'id': 'INS6l4rol0zFxbQXHq52dA==', 'price': 590000.0}, {'id': 'yi9CM5UqvHGZXqw7mwIaoA==', 'price': 325000.0}, {'id': 'x7VKT0Dk2UZNZrrvBpcgGQ==', 'price': 500000.0}, {'id': 'jXUCUFwivY14UzlJoqXDdg==', 'price': 450000.0}, {'id': '12S3zi43/GcVB9JIYbMYSA==', 'price': 1450000.0}, {'id': 'KpHurmnuHw2kXTPnXv4WXA==', 'price': 250000.0}, {'id': 'Cf8nioQ+nt2BFwUONx1b8g==', 'price': 320000.0}, {'id': '58Waz24dCCzjx79O0q0OQw==', 'price': 34071478.0}, {'id': 'k3O/UC2ERFqyQ9TaAbFcZA==', 'price': 650000.0}, {'id': 'QB15Xr9+RFPBK2qgTVVa2g==', 'price': 475000.0}, {'id': 'sbootSTmScrmUtMdibGUKw==', 'price': 370000.0}, {'id': 'to+XP6uhfwY7/H1dQBwfIA==', 'price': 560000.0}, {'id': 'aRZdc9usSxj7wVF1sLz2Zw==', 'price': 1200000.0}, {'id': 'ajcsYZtUBb9wzWCF1MgXoQ==', 'price': 900000.0}, {'id': 'dmaUm603qFI5+v24pi2spw==', 'price': 750000.0}, {'id': 'nYYdIvodT4z5+h0npkESKg==', 'price': 465000.0}, {'id': '5tF27XIRRo5HrRSPiVaOaA==', 'price': 330000.0}, {'id': 'xqgab16b+oY/Y8E4FIWH+g==', 'price': 570000.0}, {'id': 'kBcSzwPcuc5Jd9HfQYZK/g==', 'price': 349000.0}, {'id': 'TuLDwHqaXDI8MEQ8mKJ2kA==', 'price': 365000.0}, {'id': 'X/GNksr0d7YVLKNGRoDzig==', 'price': 298000.0}, {'id': '+fh3q4YDzce4XvyHovHXgw==', 'price': 495000.0}, {'id': 'nN476g5sRfmZR9itvCLCUA==', 'price': 650000.0}, {'id': 'zmf/6kFcUaY+yvp6ToD2tQ==', 'price': 1300000.0}, {'id': 'er6qIwc3hRGdjnWCne1LUw==', 'price': 650000.0}, {'id': 'gPcaQl+0TXkd3sRxFjywFA==', 'price': 460000.0}, {'id': '2ed5SOGeKxZ2AL+2hfqavA==', 'price': 400000.0}, {'id': 'Eadp0BcDv7UK2LGghQKddw==', 'price': 12990000.0}, {'id': 'Oq03/L4hJ6gzRyXI/RryzA==', 'price': 448000.0}, {'id': 'oaf61se93QJr9Wgeu0wNQw==', 'price': 620000.0}, {'id': 'JoxP+EFgF4PXJ514z5fGvw==', 'price': 410000.0}, {'id': 'B+thzQzLbF5wS9KA2Li5Tg==', 'price': 360000.0}, {'id': 'D8cLrFhNc9R6MQ0YhX0LZw==', 'price': 690000.0}, {'id': 'pQOuYnpvRLs+AlKjbjS75A==', 'price': 375000.0}, {'id': 'ziMyXL8zMLILybxAgwk4kQ==', 'price': 434685.0}, {'id': 'utBquhLvr70JNFfySxMZvg==', 'price': 5211473.0}, {'id': 'uF8cExzj+kBy4LQab7BJJw==', 'price': 530000.0}, {'id': 'wppRPaEpwD8zh+wNaxKsmg==', 'price': 430000.0}, {'id': '0dEiRzQdUOZVnbaglFhJHQ==', 'price': 485000.0}, {'id': 'hKIYaTHwBLMldzc24FQh2g==', 'price': 950000.0}, {'id': 'Czt8Kax8UQ93z7Nzskj0vw==', 'price': 1290000.0}, {'id': 'NWuJKaEP7OAFJ5pUnVp24g==', 'price': 425000.0}, {'id': 'YmIRW5rZHgYRpEB71pBszw==', 'price': 390000.0}, {'id': 'HVDoon8DBvrakGae9V2DHw==', 'price': 600000.0}, {'id': '8YCyzyT8aeD73nLaIbOang==', 'price': 330000.0}, {'id': 'XTbP2FWHdB4sF4VJP+1e/g==', 'price': 1790000.0}, {'id': 'm0WLz9tl0gz1CwJYShfzjA==', 'price': 2200000.0}, {'id': 'Ii0HdjYahmwiu7K8kGd5qw==', 'price': 430000.0}, {'id': 'qYTNQmdysl2FXO4rbpM1wA==', 'price': 2800000.0}, {'id': '6bx2imJO1CBZP91yFamd8Q==', 'price': 612000.0}, {'id': 'vAkaGuqbal8eA6VXjUxK4Q==', 'price': 290000.0}, {'id': 'p2v6MSSS8UuVViFa0wEOew==', 'price': 9390000.0}, {'id': 'ueuHM9iaRtl5pgMMrGsOPA==', 'price': 530000.0}, {'id': 'A0cOEb3lKG3cOvo9Fe31gw==', 'price': 249000.0}, {'id': 'CK3o1v9e4lVcfo2Hmsx9kQ==', 'price': 760000.0}, {'id': '7xEuMGZ0FPSr6aPOKGWYig==', 'price': 1850000.0}, {'id': 'FlyoLE+IMwmS9OVVMEUM7A==', 'price': 265000.0}, {'id': 'BrrhflM/wHeH7e8eWPn4UA==', 'price': 950000.0}, {'id': 'UUnyRm2GAutrmwLUVkVIxg==', 'price': 540000.0}, {'id': 'cOpifK+8WnDXWiIz74yUjg==', 'price': 270000.0}, {'id': 'BqvdcsnC4fy7ijtuOJfciA==', 'price': 1600000.0}, {'id': '9f+WzSVV65NB4wsl+6FISA==', 'price': 2800000.0}, {'id': 'QNP33pvg+HIbTQBiAs7SJQ==', 'price': 360000.0}, {'id': 'ITihWvfXkBzF20h+mIBHaQ==', 'price': 290000.0}, {'id': 'CXo38sIzz9gP/wbXMkl8tw==', 'price': 365000.0}, {'id': 'NutSCuGtPj4hAvBciluxlA==', 'price': 330000.0}, {'id': 'C8ugM+0JMpZNGneN9kCI9Q==', 'price': 2150000.0}, {'id': 'HbOKwLY906uZd7BdMpX9Sw==', 'price': 15292000.0}, {'id': 'Yd2JSyuQwvlo4akwOCaVuw==', 'price': 420000.0}, {'id': 'wKEhVNI+KsOlr4gJjY6ooA==', 'price': 850000.0}, {'id': 'AScqIiDC1WHWMALnAMCrlA==', 'price': 280000.0}, {'id': 'KGaOpcHQPA8cntsxs0+jKA==', 'price': 865000.0}, {'id': 'D42n3Mr/qQa4JSbcExm/CA==', 'price': 320000.0}, {'id': '2S4RjlKbcj4u2/x1NiAM+w==', 'price': 17894952.0}, {'id': 'DwSQJEYgSVy32ikBpAs6pA==', 'price': 1100000.0}, {'id': 'zZiQ/jb48insNnfVI5uBIw==', 'price': 400000.0}, {'id': '0++wDN9QAWP25APzqE4D7g==', 'price': 210000.0}, {'id': 'pOu7myqO/jOLmamVyz286w==', 'price': 440000.0}, {'id': 'mo5YAdogrisBKLKsIjGWvg==', 'price': 367500.0}, {'id': 'gj+/fWovMvEsD/yET9Gy4Q==', 'price': 780000.0}, {'id': '9BwR6WB4XXU/wLjINItVLw==', 'price': 280000.0}, {'id': 'e0V0C772YbtGYKqPD4DaKg==', 'price': 449000.0}, {'id': 'lwFLMBZGGbTVTYwCnpqhZA==', 'price': 300000.0}, {'id': 'zSLKZw1oby7vKhhXC6ZWnQ==', 'price': 315000.0}, {'id': 'WSl6XaBi2fAv780SsFqWqQ==', 'price': 395000.0}, {'id': 'modREgjkxMCEknwDN/oqvA==', 'price': 1680000.0}, {'id': 'NetP+byfLfGYrAoRmLPbsA==', 'price': 670000.0}, {'id': 'P+yQ70iDFyH3JaaD9zwzEA==', 'price': 445000.0}, {'id': 'CVl7nt87ySy9Nxjkw66Fzg==', 'price': 360000.0}, {'id': 'gN4FTuxvEnSvP+8SnJrOuQ==', 'price': 259000.0}, {'id': 'bY/3XTMx9ucImKruC85gpQ==', 'price': 350000.0}, {'id': 'ilvI7eNgjQLb8ZcdLD97rg==', 'price': 875000.0}, {'id': 'faGIMbP7/xJffdRnFgxJTA==', 'price': 720000.0}, {'id': 'VeN1gpESzF4Z99F5So+aEg==', 'price': 245000.0}, {'id': 'OcwUVjicqns8HF0Hyr+wjw==', 'price': 210000.0}, {'id': 'AtzECZoUlcEqhg+TgdhXyw==', 'price': 380000.0}, {'id': 'AEhDTUaKh2keXI785Fe+ag==', 'price': 295000.0}, {'id': 'XvXWcrxq3tV4WciS6SzHYQ==', 'price': 3000000.0}, {'id': 'SDqO6Xo7veodsrfqce6Uxg==', 'price': 420000.0}, {'id': 'CwlwZikCaSoA/zN6Pwb/PA==', 'price': 650000.0}, {'id': '7JRvPrN4+opNUr1WkG4CGg==', 'price': 370000.0}, {'id': 'Ej1SlOc2vleHoBHCaBklew==', 'price': 10285100.0}, {'id': '80jrUz2c+XZRoxKTwkv3yA==', 'price': 220000.0}, {'id': 'B1IKKneBVty9twF74+cXjg==', 'price': 1190000.0}, {'id': 'vjymcNocMGbiQENG1tgm3Q==', 'price': 650000.0}, {'id': 'H6P51+AUPdAhS+/+ggv8Qw==', 'price': 790000.0}, {'id': 'XMaWLZ3FPuXiEtY/H7b/+w==', 'price': 4800000.0}, {'id': 'AqpJLkgbUkZrEBgadi7Rwg==', 'price': 850000.0}, {'id': 'spgAu38YJJMTRNNL/bcHBw==', 'price': 728000.0}, {'id': 'LdH1KtJ0ydwq4Mkli1tkyQ==', 'price': 1500000.0}, {'id': 'QHFEhaTCXyCD7kkDZA7/2Q==', 'price': 685000.0}, {'id': 'xtDvEzF/iHjBSLSMiHCD4g==', 'price': 626000.0}, {'id': '9LYnk3JuxFKX5PqgbS4/aw==', 'price': 250000.0}, {'id': 'GJiUgLgfMg+UHF3h/5a/Dg==', 'price': 612000.0}, {'id': 'ePjyrno5Bqgi0qZo482/oA==', 'price': 295000.0}, {'id': '0OSDu3jydmrJvre1B4SYdw==', 'price': 375000.0}, {'id': 'PzxSMm4evMxhTXTTbkqTlQ==', 'price': 490000.0}, {'id': 'auh7phmJBODMGUYDUYx6uQ==', 'price': 250000.0}, {'id': '/S5QGFtKZi+OoaDfIoKRzw==', 'price': 4900000.0}, {'id': 'wUefuxdAvCkzGSmUGmszbQ==', 'price': 665000.0}, {'id': 'qfsjnuRPHXPHQCOOLlo70w==', 'price': 300000.0}, {'id': 'DjfylM23izmTwP2yBqYiIw==', 'price': 515000.0}, {'id': 'X4twwcndibYp1zeVHakstg==', 'price': 250000.0}, {'id': 'C580rlj8HKYLwjoBmuWqjQ==', 'price': 5150000.0}, {'id': 'vE2dJeatq9TN0Hx5AmANgQ==', 'price': 750000.0}, {'id': 'AWup8w8VtzGTdfLQnKtbfg==', 'price': 420000.0}, {'id': '1TGXF7GSoU4tICTcO5uyvQ==', 'price': 750000.0}, {'id': 'jAMAwzAIkP8bN7B380ZjKQ==', 'price': 490000.0}, {'id': '9WeKpQy3CoS1iaTu1gx6JA==', 'price': 284000.0}, {'id': '6ba1zVhYByK+2+gqr9GblQ==', 'price': 298000.0}, {'id': '9zSIYfaELh/ondyfXrCKGA==', 'price': 450000.0}, {'id': 'Urd/612wJo1GmyiYvJWUww==', 'price': 1800000.0}, {'id': 'YtD5DozwYytB+6b/X2lWgw==', 'price': 470000.0}, {'id': 'LCslB/GjxTU3FaiZgNil5Q==', 'price': 1350000.0}, {'id': '2D6sq+NgvcXUvSzlMcyRIA==', 'price': 545000.0}, {'id': 'G2mkhtEeXd4fFpZM5XOTeg==', 'price': 530000.0}, {'id': 'ey7NDhuLfJMMYZP3M00LKQ==', 'price': 1200000.0}, {'id': 'sLflIJmVft9y8cPzKtpy9w==', 'price': 1680000.0}, {'id': 'g6DUPE32Z89/8imdaFT38w==', 'price': 310000.0}, {'id': 'VcZ9FbQ03YTWJY8tlsIPYQ==', 'price': 750000.0}, {'id': 'd79c60fz8LYQWuVj8Hpu/A==', 'price': 690000.0}, {'id': 'Y8A/LTSVoLFtv2qqD504hg==', 'price': 1200000.0}, {'id': 'whNkp0lbwmuVICtfYre69g==', 'price': 2600000.0}, {'id': 'mRcAjSQ6xTtsGEzCuCEvAA==', 'price': 1240000.0}, {'id': '+HlwBCb48GalTuYuMkLEEg==', 'price': 1330000.0}, {'id': 'qneDKmZQfXqXRT0jrCpiFQ==', 'price': 425000.0}, {'id': '3CUC/r6eHOOUFSbGk+cONw==', 'price': 650000.0}, {'id': 'ivZW01oYRPU2+k5NuFeEPQ==', 'price': 1180000.0}, {'id': 'VvvTUQVabplUTDRmdynPew==', 'price': 520000.0}, {'id': 'p5XkY/2F6Yl0b8RjnuB8eA==', 'price': 498000.0}, {'id': '4JsQiL8KFHVSewBIs59WJw==', 'price': 1150000.0}, {'id': 'LIFFV+MQa+InzsnjkblZcA==', 'price': 485000.0}, {'id': 'f/UDKc0YCIU8T0NkTAf4PQ==', 'price': 1280000.0}, {'id': 't8MLBlnClMqZD0iXjq4Hyg==', 'price': 420000.0}, {'id': 'e3bPVVi9i/7ZD6l6gHcL8g==', 'price': 800000.0}, {'id': 'nkOU52UYVXBkL4C2iaXNXQ==', 'price': 498000.0}, {'id': 'tISP2qgPHD3VTbExJp2WuA==', 'price': 63128793.0}, {'id': 'CIn9rjs5/+CArj/RxQFASA==', 'price': 799000.0}, {'id': 'Z64I5abBlyhH6JHI3duU5w==', 'price': 515000.0}, {'id': 'uV6DicK9QHpzxwOn972Ybw==', 'price': 235000.0}, {'id': 'mqxIPUMfK8zSEK5vaXzQvg==', 'price': 420000.0}, {'id': 's8qpsDaxQjMTssHo2f1gFg==', 'price': 650880.0}, {'id': 'OVsJ0HgL98BXq8zPZAUC0Q==', 'price': 430000.0}, {'id': 'a5RKH++mvWVx3w7gqs2Q6Q==', 'price': 1290000.0}, {'id': 'xtHZLJA9WR65F1Zg2EfcZw==', 'price': 440000.0}, {'id': '570IoJP9PZiH3dHknwxIQQ==', 'price': 450000.0}, {'id': 'HkOB6JdpPTf2M/6oUJfzyA==', 'price': 240000.0}, {'id': 'pDqm152oxyJctgKfOptQEw==', 'price': 370000.0}, {'id': 'loRnGBzK9sj9EYHvttx0FA==', 'price': 290000.0}, {'id': '7igE5MkLlcKYp8KcpsR8dA==', 'price': 420000.0}, {'id': 'GLWTBPIWd9mJXj7/UZ8JdA==', 'price': 300000.0}, {'id': 'S1b2eQtpIZePX/htVPrmBA==', 'price': 1900000.0}, {'id': '0FLs6LjVXp2Kvwg5igjEOg==', 'price': 238000.0}, {'id': 'PqfCAPtRVixmbojdlFFUMg==', 'price': 971000.0}, {'id': '0/Y/65S7QhQ2BwnPp6d8LQ==', 'price': 1800000.0}, {'id': 'CuHyyeGCOheKDBKABQoa4w==', 'price': 650000.0}, {'id': 'ziJxOmSj8dyJ6ZylU9s7+A==', 'price': 190000.0}, {'id': 'wBGQStnCc+eZ39X4lUJUxg==', 'price': 570000.0}, {'id': 'VyVEnadjttLpywGlD+w4QQ==', 'price': 199900.0}, {'id': 'dheKdBB/nvfDNyiswCks7Q==', 'price': 790000.0}, {'id': 'jN91JwI62a4JqXe1Q3/jZA==', 'price': 225000.0}, {'id': '1sLhwiSDoDbpfhBoWmZheA==', 'price': 610000.0}, {'id': 'OQJeDDTv5NDuhRvBekT4eA==', 'price': 650000.0}, {'id': 'UEmYSblZjtyBR/UVE3zDBQ==', 'price': 14465476.0}, {'id': 'WnIlSdZ/bV44YedVialf8A==', 'price': 430000.0}, {'id': 'qCPh7j5WnwmXhdrzCAEeNw==', 'price': 3300000.0}, {'id': 'woAKo3X/lrpd5Rr05TYLRA==', 'price': 1090000.0}, {'id': 'RBlPI/ezRjwY7kg9yBxkeg==', 'price': 25600000.0}, {'id': 'Ira6nVzHTKSfXisZK/nqDg==', 'price': 1700000.0}, {'id': 'OHI2LeofcnrgbEeiqaa1Gg==', 'price': 8650000.0}, {'id': 'zIP2aFdeRat1qAtYeDgCmw==', 'price': 450000.0}, {'id': 'ilofglkHX9yYz3CnbYrCMA==', 'price': 630000.0}, {'id': 'O4U1x5hsciqNSF47BVtvyQ==', 'price': 430000.0}, {'id': 'Ub8TpdSIZFG+gCQ/EzGuYg==', 'price': 395000.0}, {'id': 'hipybeUU1SNJFEpUfcHz4g==', 'price': 950000.0}, {'id': 'XQUCGJpTbIMuMTezvvforw==', 'price': 430000.0}, {'id': 'Eyx32PzUEsp5wK4lXlbrCw==', 'price': 230000.0}, {'id': 'NudqKcUYWf39xx4pMJ+L8Q==', 'price': 560000.0}, {'id': 'uN/nFGVZGtBNpGTeiSDfkQ==', 'price': 590000.0}, {'id': 'B6x1Fn6fCIKhspFvBgkGAQ==', 'price': 2150000.0}, {'id': 'PcyZfmSPPICe5aIZXdopug==', 'price': 550000.0}, {'id': 'PpArnu7vrX0etWnOfJPXkQ==', 'price': 315000.0}, {'id': 'qIiN3E46MaS44J7mECeNjg==', 'price': 830000.0}, {'id': 'lKCH79pEc4X3loy5AC58jw==', 'price': 950000.0}, {'id': 'UzrRXcsFFXbmDMthdQUZqQ==', 'price': 490000.0}, {'id': 'jOeCn+QUy+H801SQPiuXGg==', 'price': 530000.0}, {'id': 'SiC+gTVyXPXTD+JRFx5ezg==', 'price': 550000.0}, {'id': 'XOrWFN+VUw4kZZ7NdI5QlQ==', 'price': 545000.0}, {'id': '+V7/GIf04OcwYLQQSHFkbg==', 'price': 448000.0}, {'id': 'epLnYbOaHJZqkglchCTvGA==', 'price': 980000.0}, {'id': 'LxtISC/+JIWG4Gfmewn3lQ==', 'price': 580000.0}, {'id': 'n6RsKhti07DnVjcQEHLESQ==', 'price': 218500.0}, {'id': 'uOyzv1KPdrp0GXclIdA9iA==', 'price': 800000.0}, {'id': 'mDsIfIvIs6fXCxNln8kSRA==', 'price': 595000.0}, {'id': '7OhVpsKYUoRdvuRI5ZImFQ==', 'price': 610000.0}, {'id': 'vUgrPRvDmASr7FC32LHxXA==', 'price': 280000.0}, {'id': 'Lzqqysi3z6nXt3HLWrZntg==', 'price': 440000.0}, {'id': '6cr62Q8GQ32vR7igeQ4wVg==', 'price': 740000.0}, {'id': 'aQNKqUUDYWClTsKfy+Judw==', 'price': 540000.0}, {'id': '2avUSPWjy3Hwb9MMGt+zZQ==', 'price': 730000.0}, {'id': 'dvdTaa/ofd3lZzwBg0jYMA==', 'price': 450000.0}, {'id': '/JwICTgC6FC+Z65YdmlUVg==', 'price': 255000.0}, {'id': 's67ATv9MypBYWKxohVVC2w==', 'price': 790000.0}, {'id': 'HC+vBdRnTD5U4Aw8KWYHUg==', 'price': 600000.0}, {'id': '0jlqyXgR6tB7RP86rnZIcg==', 'price': 240000.0}, {'id': 'SZR2rQ7p3WUpFz1lOrNHHA==', 'price': 750000.0}, {'id': 'YSAYnCzCeHnoZVU+klPznw==', 'price': 695000.0}, {'id': 'SObbezpdCc0cAnLYmH0VmA==', 'price': 420000.0}, {'id': 'MDEdbSdn3cg2PSPP2GK44A==', 'price': 800000.0}, {'id': 'PVeZ/ZM3yBx563jmkPU4ig==', 'price': 730000.0}, {'id': '4vhSh2pdlnlIkcd9ehHUOw==', 'price': 1390000.0}, {'id': 'xUM6PaRUMbUOPy7pkLSQjA==', 'price': 10500000.0}, {'id': 'LKWQyPzwYHUqnl9iSAFe8w==', 'price': 890000.0}, {'id': 'N3gO/fqKOqC8uh9HkLc8mA==', 'price': 440000.0}, {'id': '9iC0qc5dQxVc+yLXKmoMrg==', 'price': 245000.0}, {'id': 'XLdSoZ6/iu87h3LuFRF/MA==', 'price': 690000.0}, {'id': 'Q7vnYrJRWw2ouVCQNmrvEA==', 'price': 1200000.0}, {'id': 'oBq0fJbqXpt8be4Gpjc4+Q==', 'price': 1960000.0}, {'id': '7bnGeLGYX+4plGzG38X/+A==', 'price': 459000.0}, {'id': '5i4/NKbs1b/TQ81kS22+Ig==', 'price': 1950000.0}, {'id': '3DZR43Sk7Nz8qC9FeAWDtw==', 'price': 240000.0}, {'id': 'rC9xBvJ2YD1Bw91Dom7AHg==', 'price': 560000.0}, {'id': '6WwB5g3zUXT3B4vgKWAySA==', 'price': 320000.0}, {'id': 'EATthYhLQFzeht4WPAULSA==', 'price': 265000.0}, {'id': 'oQh/M5rNYg1hNhTOlABmMA==', 'price': 1350000.0}, {'id': '6oHOfZdwhwYYEBo+5mc1JA==', 'price': 240000.0}, {'id': '4WTBXIX0nI/cwbri7d1GYA==', 'price': 495000.0}, {'id': 'z9NlYS8s4gZ1xOclY31jqQ==', 'price': 280000.0}, {'id': 'KQPVdvjfieGS68BZ8dkkvA==', 'price': 11200000.0}, {'id': '49PygbuR+3kBlpM8ZMNK3g==', 'price': 430000.0}, {'id': 'ipqtIrchRaslal5WF5TqPA==', 'price': 500000.0}, {'id': 'syPIDveizWA10Hc3tmVWIA==', 'price': 555000.0}, {'id': 'w07O1sKjAYqCGRERdwDupg==', 'price': 380000.0}, {'id': 'cUnpF2aHJni1urpVqrV6Lw==', 'price': 750000.0}, {'id': 'qOUKl0d3HfpkPt6FvBP4cQ==', 'price': 649000.0}, {'id': 'jCHw/PlydFi/ZeWNmAwssw==', 'price': 450000.0}, {'id': 'Wt0TSmWx4kjESSouvoreyA==', 'price': 1750000.0}, {'id': '22czcZPSxFqHOdrZ8cr5VQ==', 'price': 245000.0}, {'id': 'QQrWfrHj4La4xw+WswFsSw==', 'price': 690000.0}, {'id': 'uD+uJFFQrvQudThLQJkzcg==', 'price': 2800000.0}, {'id': 'T7IBns1eRazd7MmmUtKoIA==', 'price': 390000.0}, {'id': 'QuHPSsaS7C36K2DN07clwQ==', 'price': 490000.0}, {'id': 'Zzp9XpDKDTf/t4/CDroJ3w==', 'price': 275000.0}, {'id': '+frcbQiYGYjK58z+buG4WA==', 'price': 430009.0}, {'id': 'yco7cM7NsPCcB/L7IVpdQQ==', 'price': 250000.0}, {'id': 'UHbxvXZU5fehf+amIvOR/w==', 'price': 530000.0}, {'id': '+HzAiH7AR1admrJszdg6vw==', 'price': 450000.0}, {'id': 'HRbdS6Cbj4qGnzucsySP2Q==', 'price': 450000.0}, {'id': 'XsYwRl5v8nwAhGngBMGexw==', 'price': 380000.0}, {'id': 'JklH0r8XBsFn3380WryLIw==', 'price': 550000.0}, {'id': 'GLhysGcgCQRWMXU2/dwikg==', 'price': 300000.0}, {'id': 'o8VCU++KDlccMRtvZMYjIA==', 'price': 12012000.0}, {'id': '40hVZrkJlU788JrSwn8wIw==', 'price': 320000.0}, {'id': 'mI7DkQnU47aZsusUDA4POw==', 'price': 390000.0}, {'id': 'Knqkf/LN/wjC4d7ivTLfXw==', 'price': 440000.0}, {'id': '/L3SPrBwfZyRyuHf8befOg==', 'price': 400000.0}, {'id': 'YB4TZXSbYj7ZJuywNv7lOQ==', 'price': 529000.0}, {'id': 'S5i0dC9uhqEITJHhUWIQEw==', 'price': 15900000.0}, {'id': '2smh2ywjduGYvo2dJ35G2w==', 'price': 695000.0}, {'id': 'BdLgsYpF/Bks9QXz+AWuXA==', 'price': 660000.0}, {'id': '/MIj4MH+sZg8HrOad+XmlA==', 'price': 595000.0}, {'id': 'BWd15p96Qf/60spwjGa6KA==', 'price': 480000.0}, {'id': 'g7IaVD1OMpEWeE8X7y5j4A==', 'price': 460000.0}, {'id': 'yiDjqx8JVu0R862n7QYoFQ==', 'price': 14800000.0}, {'id': 'bUfeSsCBfrWuh5whY8KGNw==', 'price': 550000.0}, {'id': 'JkLMyU6+8B3avxjdKztimg==', 'price': 1300000.0}, {'id': '1lxhq9cBP4dpz6eFWVZ81w==', 'price': 360000.0}, {'id': 'm9mwHUIXrmJcEhUGrXWEjw==', 'price': 1300000.0}, {'id': 'OljWorDwmMaugXAlHFkBdw==', 'price': 360000.0}, {'id': 'mLgJLf7gFdw3OIAKU5v9vg==', 'price': 680000.0}, {'id': 'NTs+gUsUepS7f7Yf5SsPOg==', 'price': 725000.0}, {'id': 'ATFKg6OqGCiA1YKbhob5dg==', 'price': 330000.0}, {'id': 'iQXny4b14cKdLZgPzdDbJw==', 'price': 1000000.0}, {'id': 'e2HwmfoGwhG6UWMF/TihwQ==', 'price': 250000.0}, {'id': 'CIcVWhN4LVhVzIJuGBI97w==', 'price': 16197500.0}, {'id': '72AMaESsjz6a7pcrBfp/lA==', 'price': 1650000.0}, {'id': '9D/IgdbUBz9RF2aGcG4IzA==', 'price': 497500.0}, {'id': 'tJ19OiVnduFQUZuyMiMD0w==', 'price': 255000.0}, {'id': 'yTIcPVj1z0LSS26G4HLyiQ==', 'price': 350000.0}, {'id': 'wh4374YSlgIbO1dOXxEc+Q==', 'price': 270000.0}, {'id': '1ibba2XzOTso3op4TG7iRA==', 'price': 200000.0}, {'id': 'qMjCEwxY8eexkMEEvMTxzg==', 'price': 440000.0}, {'id': 'EylvpeAXftn+S/nHqgikwQ==', 'price': 1270000.0}, {'id': 't2Gh+R6QreFoEj+Euh8IZg==', 'price': 11505000.0}, {'id': 'ImcqHtRuabBvWt+9TOR3dg==', 'price': 1250000.0}, {'id': '4ZwA8BJgBYisFD5i4xE4mA==', 'price': 355000.0}, {'id': '/+fP0elmg1BAdLoEUFQPAA==', 'price': 970000.0}, {'id': 'N2N9kYSpjqts4zla8PT0KA==', 'price': 450000.0}, {'id': 'GWQzhV9E+cA7zwd7DJ6I4Q==', 'price': 260000.0}, {'id': '14EfvWs7RIWbZ58wiYISgA==', 'price': 550000.0}, {'id': 'ejFaKUcHEfn2YRZJwh8tEg==', 'price': 495000.0}, {'id': 'J4fc5j/8Y8eNUUIJQRXFiQ==', 'price': 595000.0}, {'id': 'VZAhe8ECpmfVzg7G4XZzmQ==', 'price': 790000.0}, {'id': 'eG2rgeP+nsvYswQAu9tBPw==', 'price': 1200000.0}, {'id': 'F2FXTxpO1ycs2L5MQAxV0w==', 'price': 270000.0}, {'id': '/7E8Jm3v5NGZR0rbrk1T1w==', 'price': 790000.0}, {'id': 'OkaQtQRHFxlG7lOFtn3H1g==', 'price': 11079771.0}, {'id': 'QniZUjztSPZu2/gi7gSgqQ==', 'price': 1200000.0}, {'id': 'J8Tsm/agqO4/5T74fY/uNQ==', 'price': 399000.0}, {'id': 'K6oKx5GiZOAZrebqvUEDBg==', 'price': 650000.0}, {'id': 'QZy0VV2iNLWaFHMxM/IYOQ==', 'price': 630000.0}, {'id': 'UePEN/omzGnL0WCjssZe5Q==', 'price': 285000.0}, {'id': 'YSSxNbhVQAtYhggSuyCFgw==', 'price': 1850000.0}, {'id': 'T/yd4pmZyZ4aewYEpqk3wA==', 'price': 460000.0}, {'id': '1tNkXJqXxuORlkncIBjxEw==', 'price': 750000.0}, {'id': 'Ejwk1RReR2U0q62k7zz4bA==', 'price': 250000.0}, {'id': 'Z1hMW2K+PadUGV+HjkcV3Q==', 'price': 7112000.0}, {'id': 'N69ZiAQZVOJCph+doDp7Cw==', 'price': 850000.0}, {'id': 'ZbUCYC3zv5zOrEpsJzKOQQ==', 'price': 670000.0}, {'id': 'eXJxqKbC5dPv8AVkKMEO3g==', 'price': 700000.0}, {'id': '1tO3NHJwQqZo0lkijAjMqw==', 'price': 790000.0}, {'id': '/PDRNNe8JB1OvkwvT+uuqw==', 'price': 1820000.0}, {'id': '12RAKrkvBc/gKMC+/cWpKw==', 'price': 680000.0}, {'id': 'mhCnD8RKmyGwUK4R695Snw==', 'price': 540000.0}, {'id': 'BTfGZmgLeE3a+jCBbQRf7g==', 'price': 420000.0}, {'id': 'xJcWxuJmpdcgldEJRb/m/A==', 'price': 579000.0}, {'id': 'g1VbT3UaZQ6yInKmv2ny2w==', 'price': 416000.0}, {'id': 'bcYhV7NycCIbgB7XSvz0eg==', 'price': 435000.0}, {'id': 'dmJQmaIkPi7iiy+qyMC6Cw==', 'price': 580000.0}, {'id': 'jazx/UxK1gIjRsOZj6ZuxQ==', 'price': 8497000.0}, {'id': 'p0ZBm1x02/ADRZVL/d1SRA==', 'price': 1500000.0}, {'id': '6TExN/sdB/uq3JCVr6r5jw==', 'price': 279000.0}, {'id': 'uBaKHcYz3ZM8vKtJTR86lA==', 'price': 21225924.0}, {'id': 'evT+/aGewUbZWZI8YoGapw==', 'price': 252000.0}, {'id': 'coh37c9Hmsyf10o0jG6ALQ==', 'price': 210000.0}, {'id': '4RekleMGwVEF7Jut7fPYyA==', 'price': 17462600.0}, {'id': 'C1n43QRP4V7UJsZ8iv/zRg==', 'price': 545000.0}, {'id': '0czw5hJfuRWYPGxYIvrIEg==', 'price': 473000.0}, {'id': 'KnSBTocz3g7lO2w7k63Klw==', 'price': 435000.0}, {'id': 'rwiKV1g/zXE+4zT9Wi53sw==', 'price': 11900000.0}, {'id': 'JoJRF0AIO0aGAdz8/UDHbg==', 'price': 390000.0}, {'id': 'QrV9Qsmjw6gvD0faiPer9A==', 'price': 720000.0}, {'id': 'B326+vN7+PCGDuh0ZbXAaQ==', 'price': 1190000.0}, {'id': '9LLZQnRyoQUKVP3f8rVSyw==', 'price': 730000.0}, {'id': 'ZUhWJaY4fxXbe0XUbcILCA==', 'price': 1950000.0}, {'id': '9RZvNv3wIE4qRamTpTALVw==', 'price': 640000.0}, {'id': 'NHNatO1+TSnVW1m3m2fucw==', 'price': 279500.0}, {'id': 'u291dvyMGh1H3hWU8cfJqQ==', 'price': 450000.0}, {'id': '0uwZ2D0/VTuPZjKHgtUWeQ==', 'price': 237500.0}, {'id': 'tJfqN23qYrh/o4ZnKgufaA==', 'price': 270000.0}, {'id': '4oXuO08zLzkhGTuQjHj1Rw==', 'price': 450000.0}, {'id': 'WNgyqwsX7pl1YeZZMeDirA==', 'price': 630000.0}, {'id': 'yisbpsbpo5QSGuQzPGGAxg==', 'price': 259000.0}, {'id': 'k4tyN3UEi2B5gmEeMpnE2g==', 'price': 520000.0}, {'id': 'K39YnzxZNiiWi3ya1Cvq8g==', 'price': 440000.0}, {'id': 'H3pom9igcqrXGd8KYBE2Nw==', 'price': 249920.0}, {'id': 'f06ogLlUBZZAlivcNCUjuA==', 'price': 6963474.0}, {'id': 'nxrh6pIqfnGm6EVZwqFWUg==', 'price': 1050000.0}, {'id': 'ahmCkRJAevt6BdoFRI0IlQ==', 'price': 1600000.0}, {'id': '8QGHdKibsJCipZJSMlXeZg==', 'price': 1650000.0}, {'id': 'Racwkm2eyLT1dAyukKhUXw==', 'price': 320000.0}, {'id': 'uRLU5qmS4JPvRPG1Lm54Uw==', 'price': 650000.0}, {'id': 'VV0zW/Px5BjbhE3xWZy8YA==', 'price': 600000.0}, {'id': 'FDH/Z4y2RLR9tMhfWuaP8g==', 'price': 345000.0}, {'id': 'eVuJTmPzQqieOcYKHz+RBQ==', 'price': 650000.0}, {'id': 'NW5t7tbifstD37CS/u8/PA==', 'price': 242000.0}, {'id': 'bN/1lTwB+3CgHZJYK9WGpw==', 'price': 465712.0}, {'id': 'pKpOIywT83QXHbMyxEs9TA==', 'price': 550000.0}, {'id': 'owou/OqYNBI7J3j86wcm+g==', 'price': 3000000.0}, {'id': 'I/PQu5iwB6iAfxkCrehZpQ==', 'price': 1200000.0}, {'id': 'ppMhG31/Pn/8qoz9cPFr8A==', 'price': 500000.0}, {'id': 'Q8c5rAF9eMDnZzDSQC4PYA==', 'price': 414248.0}, {'id': 'yY5Uzo0swvtDoFy7fJ9QKA==', 'price': 6000000.0}, {'id': 'UELu/bkTEGCQUPQtsUjnJA==', 'price': 780000.0}, {'id': 'Bkwi5ImiSDbQF9OdJVlRkg==', 'price': 3300000.0}, {'id': 'EIf30Bf4xGMWKIO8kTALOw==', 'price': 390000.0}, {'id': 'dy55EkqaHgO+lFdN1G02zg==', 'price': 290000.0}, {'id': 'odu4SKwd351miVLzgs/YkQ==', 'price': 13399493.0}, {'id': 'uCqMgisKYdapnaRwKq1GzA==', 'price': 649000.0}, {'id': '4OZA9on7Nfq8k+DMk1PhzQ==', 'price': 260000.0}, {'id': 'AlahcAqCOzuQJtCvNV0PwQ==', 'price': 695000.0}, {'id': 'kPPGQ/QVJ2p0Y4yTk/Mxgw==', 'price': 240000.0}, {'id': 'ExZB9jNdDOb7psNnYOkC6g==', 'price': 700000.0}, {'id': 'hikw/ugS9LLgRgepihJexw==', 'price': 720000.0}, {'id': 'gabfOb30G2yrs++WqZvnLw==', 'price': 520000.0}, {'id': 'FXO7jg7d7jpOiTPjfkt1WQ==', 'price': 515000.0}, {'id': 'jamc8lMYISaNLR3G8u9tBA==', 'price': 280000.0}, {'id': 'qLAAq+yxMRyCikQjH7hCTw==', 'price': 330000.0}, {'id': 'CgFyvvnl7cru8MGO8NOVDQ==', 'price': 1550000.0}, {'id': 'xN/7MnY9S4gOniwyvLQfWQ==', 'price': 612500.0}, {'id': 'e+XJ6R0gQw/0NtU1ReYWBQ==', 'price': 530000.0}, {'id': 'hSRhLEU4PosnOkLea5wDNQ==', 'price': 680000.0}, {'id': 'qa8jGcSQiortOk7NBcXVew==', 'price': 250000.0}, {'id': 'iP+3w9tn4AiGVvcwgoi8ZA==', 'price': 570000.0}, {'id': '8jp1D3T8P6bhFGXniONdKA==', 'price': 1250000.0}, {'id': '6L3JiAzSxQnEOpiNCiNk4Q==', 'price': 630000.0}, {'id': 'HNlWWlnwo9kQY391oBodrQ==', 'price': 295000.0}, {'id': 'gkKmnsJE+fa+cSd+Y4Jw4g==', 'price': 550000.0}, {'id': 'pvKHE0IvEiNkbLGxGIjFPA==', 'price': 699900.0}, {'id': 'U8GwNL1LK/gtuDG8VjozkA==', 'price': 540000.0}, {'id': 'lVhspU7hBnwiErVrVKj3uQ==', 'price': 420000.0}, {'id': 'vpglR8/m7uitII5WYV0q+A==', 'price': 366000.0}, {'id': 'Zxm1hD8YX24ZiLRDD4U4KA==', 'price': 265000.0}, {'id': 'GwhVVyYyBTTJBxful8cqCw==', 'price': 260000.0}, {'id': 'JM28l5I++/l2V6XD4OZ8tw==', 'price': 1700000.0}, {'id': '/yMaeNW1ZxabpelS57qVMg==', 'price': 1295000.0}, {'id': 'KF4MINgRfjfTZyv+EFnGtw==', 'price': 990000.0}, {'id': 'dDzq0F48Gi6+Z1WWd94CNA==', 'price': 689000.0}, {'id': 'AzXVCPSXPNKIZXeWVm9hug==', 'price': 539000.0}, {'id': 'f/7O2e+fab9J6h4uiyIbdg==', 'price': 250000.0}, {'id': 'ue2Wq/bkukJCI2hUbvsiKA==', 'price': 680000.0}, {'id': '4Nq9RDotfjrNBLyD8uYuiw==', 'price': 490000.0}, {'id': 'ngXpp2pI7kwJheflpsTygg==', 'price': 990000.0}, {'id': 'UQrH300qv1LRN9kV1rRGrg==', 'price': 303700.0}, {'id': 'FYGw8vXzahgvrA443kB5zQ==', 'price': 185000.0}, {'id': 'G5ZSwGZ/rrwXEQPGsUuS8w==', 'price': 820000.0}, {'id': 'Yghnt2zoSUfxQejm62j74Q==', 'price': 620000.0}, {'id': 'DYq8VFn0r/LIxbtIhrkXEw==', 'price': 275000.0}, {'id': 'VjRXpac6WOy4bIl+RCoZzw==', 'price': 695000.0}, {'id': 'kvitHrtzR4VXQOPdPHS3Hw==', 'price': 390000.0}, {'id': '6WIu7+QYr5Jj7qmfW5e9dg==', 'price': 444000.0}, {'id': 'ZgCaQPZ5TaqYVGcgE7QBFg==', 'price': 6000000.0}, {'id': '5KRKTB/kYKp69jCsU6o+/A==', 'price': 580000.0}, {'id': 'Xyqe4TolE6IACjFkA8Filg==', 'price': 415000.0}, {'id': 'OOWqZECIfksIIKTlxp6CSA==', 'price': 765000.0}, {'id': 'WqE5y3UEkEl+TuPg5t6A3g==', 'price': 1690000.0}, {'id': 'GB2mCIKn+n//+eWHIollKA==', 'price': 460000.0}, {'id': 'OO/UaRvKsOEa8MDLHKjqKQ==', 'price': 275000.0}, {'id': 'RJL1d3/OL/pTeUPZzvL51Q==', 'price': 255000.0}, {'id': 'nUP9HDpmkGSaJC+IvZvowg==', 'price': 420000.0}, {'id': '66CP0vUfI8+ic2vLVO7Gjw==', 'price': 394900.0}, {'id': '1toO7BaeF7C1igzFLVorfw==', 'price': 550000.0}, {'id': 'Fsbm40pm62oTgnUHjzRCVw==', 'price': 790000.0}, {'id': 'bXQZTr0h+xC3ZeiE3Fgkng==', 'price': 1480000.0}, {'id': 'BfnrKk/hZxtc5+jm/59POg==', 'price': 630000.0}, {'id': 'C+aKo4Eu+PotVumUJGUTog==', 'price': 689000.0}, {'id': 'jLYMQlY567UGQ+OTfuxchg==', 'price': 240000.0}, {'id': 'phOtylbROS1uc9GOVqJ2sw==', 'price': 490000.0}, {'id': 'TJogDeKW5aCYFgtfLmLefA==', 'price': 615000.0}, {'id': 'lsmXOWJ9TyZn41cQ2geXPQ==', 'price': 680000.0}, {'id': 'P6fTBHOFs04J0oJzwbSuBw==', 'price': 339883.0}, {'id': 'khLe7fGqS2FC4HQOusSIdg==', 'price': 1750000.0}, {'id': 'meIzhcwVKrV5Dpnk2ybdEQ==', 'price': 285000.0}, {'id': 'mLA9KOhtQ007ZgXQRI5RGw==', 'price': 1000000.0}, {'id': 'cSTQ/069YExHryoyYbtrsw==', 'price': 550000.0}, {'id': 'jtv7ip36MVj9X+etrCsDsA==', 'price': 265000.0}, {'id': 'OP2lgaqmorOgp443QuA2pQ==', 'price': 420000.0}, {'id': '5OzvrRRl3ESft8MqajsGAg==', 'price': 9714172.0}, {'id': '3XloF8ZdTuTxFBYtFyWkoA==', 'price': 320000.0}, {'id': 'qvXG1bB6NIV7Zqa/7xyU6A==', 'price': 450000.0}, {'id': 'r+1fZdieYIYw05DAhmOF3Q==', 'price': 1050000.0}, {'id': 'fNJ5oFYfrRsadFSmR5W6nA==', 'price': 185000.0}, {'id': 'FFjZOJYqLcHvRG+mBEJSzw==', 'price': 520000.0}, {'id': 'ammudaCnh+270l7dJIg0zg==', 'price': 650000.0}, {'id': 'NPA/dEYyG0mDzyeEZPF/eA==', 'price': 400000.0}, {'id': 'TWkJVRxYbcLcpnroEZ/WbQ==', 'price': 790000.0}, {'id': 'r+T3qt18cBmrkJkXkIqxnQ==', 'price': 930000.0}, {'id': 'aXLzgVkqJdTW0GOEYxId+g==', 'price': 255000.0}, {'id': 'Px9uYUmzQ1xMbs759q+1Og==', 'price': 620000.0}, {'id': 'GyViwYchp2oWl0h1F6IyUA==', 'price': 1200000.0}, {'id': 'L6ImoliA8L5ZTkcf79ATYA==', 'price': 599000.0}, {'id': 'QlK/133nsjtMXJKJI+ozmQ==', 'price': 550000.0}, {'id': 'hBTB+P9Y4MVMPXQ6q7MSDA==', 'price': 1200000.0}, {'id': 'lQ4WYqM95M/pi+c4A7f69g==', 'price': 240000.0}, {'id': 'Xu+AMHigWHGZ6bVqd5nULQ==', 'price': 390000.0}, {'id': 'KPL7xFpKcFyr/l5+HJZkog==', 'price': 425000.0}, {'id': '3Bs5G3ar+mZQC3IzOQh15g==', 'price': 895000.0}, {'id': 'N7m31yG2NwEBgHk4o9HA2A==', 'price': 330000.0}, {'id': '4tMKIwmJObpzvXuT/fFPnQ==', 'price': 3000000.0}, {'id': 'vvqmCwwCdwQjK5XA5FCgOQ==', 'price': 630000.0}, {'id': 'AZNXgqbls5SgVtiwEE7UFw==', 'price': 960000.0}, {'id': 'hU9Fx8mlnp5j9QUw9jGIbg==', 'price': 9790000.0}, {'id': 'OkRZIscr4H5QsTx88T47Dg==', 'price': 269999.0}, {'id': 'aHJ1hFSEuc45uYRxEBfZiQ==', 'price': 670000.0}, {'id': 'WBoX3CMeqsEyxrPqFQtyAA==', 'price': 243820.0}, {'id': 'X4CiWEsIQFWU5b+FQhKT+A==', 'price': 1000000.0}, {'id': 'mlzCg9HNbLITVyERCtuUKw==', 'price': 2200000.0}, {'id': 'oZhXiEcasjzyHFCbiSWvpg==', 'price': 930000.0}, {'id': 'it4pCl8ORRvtssChAdgRDQ==', 'price': 440000.0}, {'id': 'mBcqu6tGpCQJ1KrmVL7p0A==', 'price': 350000.0}, {'id': 'hxmDVqbNDHo9GX4MXKNqmg==', 'price': 550000.0}, {'id': 'NxKdP8CdJE/hDlyeYYZ5dQ==', 'price': 278000.0}, {'id': 'Xw1EC96H3v/T35Dq6FaL1w==', 'price': 245000.0}, {'id': 'Goqo/3GpuyTgCSHYIzE+QA==', 'price': 200000.0}, {'id': 'i9O1L+JC72tJxaZQGFW2rA==', 'price': 250000.0}, {'id': '6MXoKLZ9V77jywn+tb/pug==', 'price': 230000.0}, {'id': 'QXYBrZyp7AakqhlL1Onh+A==', 'price': 620000.0}, {'id': 'aMZI07F0SRWcBI/j98NTUg==', 'price': 570000.0}, {'id': 'uyjkQTx/s9r+dsyt+J3mFA==', 'price': 530000.0}, {'id': 'M1bExQd7YEuo+MKSONUxXA==', 'price': 1600000.0}, {'id': 'N136lPxoa7VqhSrGp/gqhQ==', 'price': 580000.0}, {'id': 'RkFqO4kxM/YL2YSIFxF34Q==', 'price': 890000.0}, {'id': 'KNbHszd1XwTVGNGE03H9Xw==', 'price': 259000.0}, {'id': 'IDZEq+m7f67bRyw9rGntjg==', 'price': 8974000.0}, {'id': 'maLrPcyVdzgzF5RrkjqOVA==', 'price': 980000.0}, {'id': 'U+7QVYxCgWiK/RKiccSp5A==', 'price': 930000.0}, {'id': 'WBCizuCAeqSH8Fa95MAn1g==', 'price': 415000.0}, {'id': '1pRUX+HQolsHZH1E+FFF1A==', 'price': 470000.0}, {'id': 'bB7dpoH0TFZEJATXKH0VUw==', 'price': 295000.0}, {'id': 'VSLOSL/46injHUNqgcumGg==', 'price': 270000.0}, {'id': '9vZSCbOZQ939IPHgb6RUxQ==', 'price': 535000.0}, {'id': 'yWvWnFxh+GvFfhh46AC+Jw==', 'price': 370000.0}, {'id': 'QKiChnfQyxmPX9KmRhuEUA==', 'price': 340000.0}, {'id': 'uO/upqJnTEX1SY9H8oNhKQ==', 'price': 700000.0}, {'id': 'kvkcMJTvqWdpg9X3tp5GeA==', 'price': 695000.0}, {'id': 'HzExniLTHQUHaqlYby+Kew==', 'price': 1000000.0}, {'id': 'UhAgNHN3hRBzTe9jfkXjyw==', 'price': 565000.0}, {'id': 'iyUUANaIVXllOSjcB4uNig==', 'price': 540000.0}, {'id': 'EdNBaXCOQ7Iwa5AfOGE3Ww==', 'price': 618000.0}, {'id': 'ibvxK+5LSStF4HLmRJzd8w==', 'price': 440000.0}, {'id': 'kB0oB6JJw60Rb0EcTU7XLQ==', 'price': 250000.0}, {'id': '9F/sbqlrzng2Htc2U/xd6A==', 'price': 429000.0}, {'id': 'ho7pKnmQkkr45gMTEs0KYw==', 'price': 240000.0}, {'id': 'SWpHvWRAQZDxQTwUTW671Q==', 'price': 1000000.0}, {'id': '00iQTgHoffnEtYzjGfs7vw==', 'price': 680000.0}, {'id': 'CzKowxYnLFD1U+mlmWQZCQ==', 'price': 495000.0}, {'id': 'ADEMEIeBTcrUdMRLKtN6KA==', 'price': 830000.0}, {'id': 'g+HQpGd3ynybZ7Q5r6Xd6g==', 'price': 665000.0}, {'id': 'yGgH26NYYlKLcP3SyO5hvg==', 'price': 250000.0}, {'id': '/uvocWEgiNA5Yne0t2AGnw==', 'price': 650000.0}, {'id': '9o2GEgRF0Q5QIlS9GFirNg==', 'price': 1300000.0}, {'id': '3wmy/FKqDdJ2wU/xpy4u8w==', 'price': 1200000.0}, {'id': 'IItTmrbeq6jZf5oVq20X1g==', 'price': 8100000.0}, {'id': 'd0m0T+knHBdphwYeB1czqA==', 'price': 268000.0}, {'id': 'I0yTlkCRhJZ7o1dAD6/04g==', 'price': 550000.0}, {'id': 'jrQFvHpgfrgWuN5qiziB2g==', 'price': 260000.0}, {'id': '4TdorB7oMKPIqClE6bK0Fw==', 'price': 890000.0}, {'id': 'OwMu9VcPaYnoEIgs9YOyIQ==', 'price': 27370000.0}, {'id': 'nyL+sLO42ekwou+dsnLioA==', 'price': 1400000.0}, {'id': '8kk5fzMhN3hQUJYsrRxP8A==', 'price': 440000.0}, {'id': '5P5hoW3tGfy8ZqYmaavtBQ==', 'price': 2200000.0}, {'id': 'WDZZ5Y119u0Q1OOYXpv2IA==', 'price': 539999.0}, {'id': 'UsE2zwbE9KQBsc0PWNsPkA==', 'price': 250000.0}, {'id': 'RSDinxPFodzfyUAbI786nA==', 'price': 1600000.0}, {'id': 'pznoK7MaSlCzDiRWbhtScA==', 'price': 870000.0}, {'id': 's6CExR6mv4tRvwHG0sq5Lg==', 'price': 829000.0}, {'id': '2b+e1nFMxDP2uZRBiWzAXg==', 'price': 555000.0}, {'id': 'PXF9n+D2BBGo/mNMBAC/TA==', 'price': 950000.0}, {'id': 'cOxCsmnDwMId71xhYdD3tA==', 'price': 1650000.0}, {'id': 'KRIfgifReC6/BKw9Q5pFJg==', 'price': 800000.0}, {'id': 's7lfvyySbKjrqMnJF+z46w==', 'price': 4400000.0}, {'id': 'TLbi8lZG9hKe9sJrXjYANg==', 'price': 230000.0}, {'id': 'yU5VgwHIKJExt3oeCrQ/NA==', 'price': 3200000.0}, {'id': 'mdkPDzjH+KcZOMdQpiQ9Gg==', 'price': 275000.0}, {'id': '5AVF9l8+ZoSzwsAD51COUA==', 'price': 612000.0}, {'id': '+q0i7doO7ZOzwPVh8QL6lQ==', 'price': 980000.0}, {'id': 'gfF8yCSLOJrsiTBZ9+Z9kQ==', 'price': 218400.0}, {'id': 'rM6Wa8uV683DLywPKfiptA==', 'price': 550000.0}, {'id': 'eMkP8FgtQQOMQSruNMeV8w==', 'price': 240000.0}, {'id': 'ZEF0+fJRgAoXtvDM9VuwhA==', 'price': 520000.0}, {'id': 'DtgUrhqRWTA49bMVMu4LUg==', 'price': 450000.0}, {'id': 'vqoCTdnIIEoJ+aM00BGCzg==', 'price': 600000.0}, {'id': 'PPVUiOJtBtZbad+RHku9ig==', 'price': 950000.0}, {'id': '+2Zk304Ayjse2TPv41dXag==', 'price': 630000.0}, {'id': 'XmBK8dryXkeWvEPtwN+pLw==', 'price': 1111111.0}, {'id': 'cdT8M954Al4nao6RbqPTfg==', 'price': 455000.0}, {'id': 'sk2BBy7Ep2LjJj3OcZDmEA==', 'price': 830000.0}, {'id': '8ACuNEXuvJEy738dRkFIxQ==', 'price': 880000.0}, {'id': 'ZRs43vNCgt5uAImU3nOisw==', 'price': 340000.0}, {'id': '23U88p4gUA1Y0vRQYgXFww==', 'price': 1490000.0}, {'id': 'yxGi/vSU0izz+wVuPOaNQA==', 'price': 3200000.0}, {'id': '57LWkvChHe5l7UNmVIGrgw==', 'price': 1480000.0}, {'id': 'jrDMQPuA0x/6gMcw4r5jxQ==', 'price': 450000.0}, {'id': 'WUPENvmJvPkozfVgDFt7KA==', 'price': 480000.0}, {'id': 'l8Jnheedlcj8CiHUsEfp4g==', 'price': 247000.0}, {'id': 'Lm6wGvfsS2brnCKIwZlqug==', 'price': 294700.0}, {'id': 'zE+R47+NSjw/CKs9lDyucQ==', 'price': 290000.0}, {'id': 'sb3m96R5zq0mmbtfYyhAbw==', 'price': 260000.0}, {'id': 'Zsk7wSfRtvWLeGWsMajSEw==', 'price': 350000.0}, {'id': 'Z2uWlX6YNcbLpJnNmNkSLw==', 'price': 760000.0}, {'id': 'rgK+mIU+dWYeK3vF1+D4OQ==', 'price': 265000.0}, {'id': 'dikWBORSScHkoswgHJMM5Q==', 'price': 960000.0}, {'id': 'VY3jf4dh2TLjJzaGhpmWdQ==', 'price': 580000.0}, {'id': 'zrCLPWqRFKDBg/uGvpHaaQ==', 'price': 240000.0}, {'id': '9dyWr99AO3aABllf4jZ8FQ==', 'price': 270000.0}, {'id': 'qtjcygFVCIemzfK+GU7ZtQ==', 'price': 890000.0}, {'id': 'SM8u9Y/NxPrnRkUmMNxXLw==', 'price': 1200000.0}, {'id': 'OQ9Po9AB+qdsSproACHUqg==', 'price': 250000.0}, {'id': 'bJ0RBziOfbX7xlYfIDOmWA==', 'price': 645000.0}, {'id': 'wEDzoDgjRiUtJgnckhi7Sg==', 'price': 650000.0}, {'id': 'JqofvRi1I/mmO5aep0saPA==', 'price': 650000.0}, {'id': 'npJ/6z64oLEwQiC8+ULpdg==', 'price': 600000.0}, {'id': 'pjTdYcJQddnjraN58QF6XQ==', 'price': 670000.0}, {'id': '0ZBJz4tImhV6WZ99WPQGlQ==', 'price': 375000.0}, {'id': '9r8ngyLbl4pJW8W7uCce7Q==', 'price': 1050000.0}, {'id': 'NCH3gj7fhPVmoni43qfbDQ==', 'price': 830000.0}, {'id': '/lyFCKUko2Ev2Be6Fcex+w==', 'price': 750000.0}, {'id': 'v4uyEkDtPS+vFVniaidEWg==', 'price': 5400000.0}, {'id': '/RvOALrVGKk2W2y9UZL+cQ==', 'price': 890000.0}, {'id': 'W7Gsm9f4DdX+ow+9RrbChQ==', 'price': 1100000.0}, {'id': '/aFqKkQjnmk2eaQOMwkPKQ==', 'price': 325000.0}, {'id': '98KuapUupATJrAogTK7lnw==', 'price': 1550000.0}, {'id': 'jxjc0UKKAfhh7BfMGRduvQ==', 'price': 290000.0}, {'id': 'XrY7XGtoUoUhahO+nzBA1Q==', 'price': 850000.0}, {'id': 'OKnHGp16QmHWeFZNmPFpiw==', 'price': 13600000.0}, {'id': 'zMwtR7Y+F7hZYxuYvlKyww==', 'price': 420000.0}, {'id': 'asOYBQS0TlNgVMJwPDpEzw==', 'price': 1500000.0}, {'id': 'fX3KQawpExyUF0QdMj8jpQ==', 'price': 860000.0}, {'id': '93NKFpJ9uSSl/4crgJoVGg==', 'price': 960000.0}, {'id': 'KePj2FcYZKcfuprVEjLi3w==', 'price': 668000.0}, {'id': 'msENpU05U4doUMNnLDxN2g==', 'price': 270000.0}, {'id': 'JV2sO4ll+iJLQhiDcT8ICw==', 'price': 1690000.0}, {'id': '7pchC3kwEivkv20Rqqx51g==', 'price': 648000.0}, {'id': 'YjZ+V/TDbsCeKm8dPKcXYQ==', 'price': 252000.0}, {'id': 'y/VDhDsIzyxTIl3N03fo/w==', 'price': 1300000.0}, {'id': 'PsFEk/XUY6ISC9xY6g3EbA==', 'price': 450000.0}, {'id': 'bys61ow18BiN0t162HbbYQ==', 'price': 9700000.0}, {'id': 'mwcyGGuAPF/8prlS2jO+yA==', 'price': 610000.0}, {'id': 'HXIUdG4Db8GB8lVLN2iZNA==', 'price': 930000.0}, {'id': 'ib6o7Qx1oYtQc1xpLLd64Q==', 'price': 6350000.0}, {'id': 'W1rGJHc4u3/6+ffQneF1vw==', 'price': 620000.0}, {'id': 'jOuJ8XO8KQIvh2Wl45hB0A==', 'price': 1000000.0}, {'id': 'tmIOr4QxZdWq5WUtoRcHaA==', 'price': 1190000.0}, {'id': 'Sbrq5EYMpT2goU9KfwzI7Q==', 'price': 600000.0}, {'id': 'bOZdY1LgM4yd+qO3+oOfyw==', 'price': 630000.0}, {'id': 'dUU0ZDDClTQM4p46q+kzaA==', 'price': 1050000.0}, {'id': 'TYzACXv3bf0BTVRsrWWufw==', 'price': 430000.0}, {'id': 'CPc4vuBcJTTgM+iBUzob2A==', 'price': 3000000.0}, {'id': 'itbwhVYVtYrrCMem09Yxqw==', 'price': 1350000.0}, {'id': '6wDV0h8DvbRbh+HezM6LUw==', 'price': 10450000.0}, {'id': '8u4iuRnHEuM37/xmf1nQ4g==', 'price': 580000.0}, {'id': 'NXQfa2FWwZP1k1mvxyHwcw==', 'price': 410000.0}, {'id': 'B7lWv0XnWb1pVLO7LzDhDQ==', 'price': 420000.0}, {'id': 'bNEQrGR3O9UOajzWDVSBFg==', 'price': 395000.0}, {'id': '2OE6zq3KtpxUZFOlnmBvUw==', 'price': 238000.0}, {'id': 'CF3OesbHMmD32Qbl33vmHg==', 'price': 450000.0}, {'id': 'JIsfwCLCZTJX2fRHvxhHPw==', 'price': 510001.0}, {'id': 'apCwTzrujN0C7nxdlF1ApA==', 'price': 542000.0}, {'id': 'MSowhfBs/HpFCw6Qcr20kg==', 'price': 258000.0}, {'id': 'Dd8GZYmRQfsvVl1UkECgBg==', 'price': 580000.0}, {'id': 'q6V+zNetOrTqlSFL6A73hQ==', 'price': 305000.0}, {'id': '+kq7Pxw0lCZC/OmEugOdsg==', 'price': 255000.0}, {'id': 'JeHdMvHGLH5j9j+sb8q+sA==', 'price': 1600000.0}, {'id': 'kbO4D3RiwGf+/XWmkHZKIg==', 'price': 495000.0}, {'id': 'zgltbbDkeP5n+pMgoBpFhg==', 'price': 265000.0}, {'id': 'aQOmjUyGa48/cyxz/XeRTw==', 'price': 230000.0}, {'id': '9SJcfbUwf99OoJ0DNQotRw==', 'price': 1200000.0}, {'id': '8GQxrlRhEBGXTIneL5HsPw==', 'price': 290000.0}, {'id': 'bSpqT7+oiOdcxQLntJxi1w==', 'price': 520000.0}, {'id': 'Q9VS/P5nU+P1wdupT6xCjw==', 'price': 695000.0}, {'id': 'tSbsyshePDoQKXUjTq0vqg==', 'price': 790000.0}, {'id': 'ZHOTgBNPmru6G3+c2UWJ3A==', 'price': 369000.0}, {'id': 'I2uUp+E4hueryxVbUj0AOg==', 'price': 815000.0}, {'id': '97V6AQ4uzniZ5M0Bmj1F1w==', 'price': 1350000.0}, {'id': 'Rqb1uozHTcejc0RJpCdHZw==', 'price': 300000.0}, {'id': 'kRXB8w60HgeuSelEz0B21A==', 'price': 290000.0}, {'id': '65WHXOvFLt7HfNHQvdzSbA==', 'price': 425000.0}, {'id': '/nHxPhIH/EjqC3OulBZVEA==', 'price': 620000.0}, {'id': 'Uxd7D8I260wjF5lw5Plemw==', 'price': 520000.0}, {'id': 'b3nFnZO8R8edT9qpd18Xkg==', 'price': 790000.0}, {'id': 'EkXYnydZ4D76hAUs0xlN/A==', 'price': 620000.0}, {'id': 'TX51yTdJrYDxSHRchJDAwA==', 'price': 780000.0}, {'id': 'usU7+IR4geNqP6TyOR+1wQ==', 'price': 295000.0}, {'id': '6B6PgtUCAmk0MBuiDDnGYQ==', 'price': 320000.0}, {'id': 'XtO0f2Tj+6U9R5wXxGuJsQ==', 'price': 240000.0}, {'id': 'HRgXbe48dfggbZL29kdh0Q==', 'price': 410000.0}, {'id': '7tgtZ0gzzFW9fnmnE+CBJg==', 'price': 350000.0}, {'id': 'tO6leGi2M+vMoHzz1+qvPw==', 'price': 895000.0}, {'id': 'ML2o3fPEm1F/a8JddX3jww==', 'price': 495000.0}, {'id': 'cRt1VJxUqHdT2tWWFgFAfA==', 'price': 5165000.0}, {'id': 'hOJlzoIBm5U8Ttkuvsnamw==', 'price': 27370000.0}, {'id': '+oUU9mnjMH6ji0zB5N5HlQ==', 'price': 15953281.0}, {'id': 'oNX6acMvm25SkEfoeJjAvw==', 'price': 769000.0}, {'id': 'Oo8IG1Cm6dzTE4OO5ft0gA==', 'price': 2800000.0}, {'id': '64qp/Ky3d4KaWg9x1LnJRg==', 'price': 348000.0}, {'id': 'kvs/fB7dru16/LBpJYdLpQ==', 'price': 240000.0}, {'id': 'mWrHR9F3n1HbTFaXm3mqTA==', 'price': 325000.0}, {'id': 'Xr8u2vTRLhIP7gICP8atGg==', 'price': 399000.0}, {'id': 'Qat9fvkfHpmQtKPrNgu+7A==', 'price': 260000.0}, {'id': 'jdnVX0cwM+Poj4NcjmnUrg==', 'price': 240000.0}, {'id': 'F1tjccJfE4msad9FogGk8A==', 'price': 2800000.0}, {'id': 'NT1v2l4Glex3K9tZVyld5g==', 'price': 750000.0}, {'id': 'G+h4Ta+T8T+nf7PVJ/VKvw==', 'price': 285000.0}, {'id': 'LycxA99n8UYKDSnrdYuHcw==', 'price': 560000.0}, {'id': 'PfJbigLKdAwrrDiwoAQB6Q==', 'price': 270000.0}, {'id': 'cnaZD9oWNX7uRoal9r+L1w==', 'price': 480000.0}, {'id': 'jlwrAC3IrsU9PMBPiWrJxA==', 'price': 10998000.0}, {'id': 'Y7JRuoeB6e79MXSCzZ0jlQ==', 'price': 261000.0}, {'id': 'WGG3+zOAJh+/xXJwrG2zAA==', 'price': 749500.0}, {'id': 'WMygmm6KwPf2NK29jCqsCA==', 'price': 1150000.0}, {'id': '4YudYS9yySQav9eiyEQyfw==', 'price': 550000.0}, {'id': '3OdwuUlcPrDA0h9GAYKikw==', 'price': 660000.0}, {'id': 'qdiQ22hQEXg6KABnQyDnOA==', 'price': 540000.0}, {'id': 'qRLMTZuRjUUwcejHwQlqIg==', 'price': 3000000.0}, {'id': 'uYH505RjeXFZ6VFww5KN1A==', 'price': 475000.0}, {'id': '5+ARn2ZDnIu77yuMBACGeA==', 'price': 250000.0}, {'id': '7wfzNwzdG2EBmYsws0jFRQ==', 'price': 270000.0}, {'id': 'c4KdcRqth4wT2HCjDbSG/Q==', 'price': 254187.0}, {'id': 'D9SXo0cBrjCXtp/HHaIcEA==', 'price': 265000.0}, {'id': 'p6OYmUykDbBDbnDr/tBErA==', 'price': 22000000.0}, {'id': 'Z4Sx3C9hRvoNttAvvS84FQ==', 'price': 11300000.0}, {'id': 'L1s760K9YDQjPetp4xLhjg==', 'price': 845000.0}, {'id': 'KbemwK/PezaEeKhT7sqlcA==', 'price': 950000.0}, {'id': 'gBO3QxTB58ttG8CR7PgjOg==', 'price': 670000.0}, {'id': 'Bqge8n8hl/Hft/1IFYVLwQ==', 'price': 570000.0}, {'id': 'VwHK+8cNK3BilpGZ3Dez5A==', 'price': 290000.0}, {'id': 'lKJxcBy+VdXCk5dmyZr3qg==', 'price': 12958386.0}, {'id': 'fR0nU5BVtEHpwMrrBwBOfg==', 'price': 319000.0}, {'id': 'W4EFBE4MNaaNpGU9H3Mx+g==', 'price': 900000.0}, {'id': 'UzBDrHDdvrhIL+l1aWtfTA==', 'price': 545000.0}, {'id': '+qhoc/sd1Oer4ezE/hVbCQ==', 'price': 440000.0}, {'id': 'vnC662tBzS9SvslopwIOCg==', 'price': 795000.0}, {'id': 'Uw3pWgjPwisPG6YbVK7Kxg==', 'price': 298000.0}, {'id': '+FRprrf/+KOK6tlDQy6SJw==', 'price': 1000000.0}, {'id': 'zIq70xsdTF0oraF/Qfktzg==', 'price': 500000.0}, {'id': '7cgJF+agCh5PF4UQkpv7hA==', 'price': 830000.0}, {'id': 'teQM8WICyMXMuz6TrBRhvw==', 'price': 1270000.0}, {'id': 'Cui/0b1WkMOUUrF9tQihmw==', 'price': 480000.0}, {'id': 'LNpdVSKhxjlpANFdkzW27w==', 'price': 1550000.0}, {'id': 'oA5ucYWfHYrpMqYa5CIjZA==', 'price': 675000.0}, {'id': 'PVpC6qNDkCV0Ybi0/uTOUA==', 'price': 310000.0}, {'id': 'l8oKHryp8Dt7RFoqa7/StQ==', 'price': 495000.0}, {'id': 'jgNN5RW1yZV4my1PkaC7XA==', 'price': 839000.0}, {'id': '3XmGmdNYpnNPzoz2ONXihg==', 'price': 420000.0}, {'id': 'eCHVSEnp5k9NrVR2BkNlUQ==', 'price': 245000.0}, {'id': 'pKnaP4L335xK+9cS41P3iw==', 'price': 250000.0}, {'id': '/0v+hKsSSRVAbFQXQzj6nQ==', 'price': 300000.0}, {'id': '9pCY+7GfHViQMpiP2EwHQQ==', 'price': 990000.0}, {'id': '5Mx+MK7EL9nG7stoV3sweQ==', 'price': 16454250.0}, {'id': 'eTJwSd4MNi0J8Xsol3lKjQ==', 'price': 485000.0}, {'id': 'ochDw6hwuwtj6zqxClFldQ==', 'price': 660000.0}, {'id': 'B3VfJkKn6eskSEujMM7wew==', 'price': 320000.0}, {'id': 'hmdzSJCN4RUxBkx3vgT0zw==', 'price': 280000.0}, {'id': '9IwZjtlcCNC3j1t3yCbvDg==', 'price': 550000.0}, {'id': '3fPE3N6cuS1VwJDZOWnHFA==', 'price': 525000.0}, {'id': 'wwSAyJP0SvvOBJww+WvhjQ==', 'price': 330000.0}, {'id': '+6OFp3j/uerF9nWj3JgiMg==', 'price': 208000.0}, {'id': 'fgcyyfVObD2876C3KZVAOQ==', 'price': 530000.0}, {'id': 'TaiLPC88y0l1GvV7xqCZvw==', 'price': 465000.0}, {'id': 'g2Zp6ruBAB5e0dvz2R/yOQ==', 'price': 240000.0}, {'id': '/5Slc8VMO8/48pdRIpkjRw==', 'price': 760000.0}, {'id': 'Pd9wBUX1rZrYlSk2JsGs5Q==', 'price': 540000.0}, {'id': 'Hgj2Wu89X+sGblz2dncLMw==', 'price': 798000.0}, {'id': '/j+pEYRix4QdqSRFTfsksQ==', 'price': 595000.0}, {'id': '9lVT9lY+kD7zRCWAFi4R2g==', 'price': 480000.0}, {'id': 'NMNivmzf1YtnnrzPbnAhpw==', 'price': 295000.0}, {'id': 'u8aVTMKgVtNWKOQZs0gJ3A==', 'price': 340000.0}, {'id': 'L45DX8fq6P9GIFDrEhn9LA==', 'price': 280000.0}, {'id': 'rjmzVWfZV6CzZpfm1eQv3Q==', 'price': 500000.0}, {'id': 'krcByDdLoJ+tfMIZcndjxQ==', 'price': 500000.0}, {'id': 'n/15gNLHJ9uKf9JiiXan8A==', 'price': 660000.0}, {'id': 'bHKLiIsqM5DqcGhrk1fr1Q==', 'price': 2200000.0}, {'id': 'EDmM3xvJKClxORjbjOmOsg==', 'price': 315000.0}, {'id': 'ASfgBts6koyXgJRupGxZxA==', 'price': 4800000.0}, {'id': 'C1hXTZNitbDu2pNYw9HK/A==', 'price': 16289452.0}, {'id': 'rsGXQzqbWlfUdQzjqO7EiQ==', 'price': 995000.0}, {'id': 'g61j23uCHi52tZayyTS9IQ==', 'price': 990000.0}, {'id': 'KBaOZ+F5/C0BF3h42za3Nw==', 'price': 290000.0}, {'id': '8Bc8OKrIiO2wKd+TDDk/+g==', 'price': 890000.0}, {'id': 'cUxJdT/c9e5/x6u/Yi7zGg==', 'price': 350000.0}, {'id': 'u5xGVzS7LBjpD4dS2ygYsw==', 'price': 750000.0}, {'id': 'NDWnCwFoD5aqwvQqgTsRlg==', 'price': 950000.0}, {'id': 'yJeBAv2Yg0xYI0kRIAbxRA==', 'price': 450000.0}, {'id': 'K0/BLgpCLvpbTKRN08Eoig==', 'price': 1250000.0}, {'id': '7xGtT/Ld44p188jqH21vtg==', 'price': 5876100.0}, {'id': 'Oed4yvckSNSa03PzMVYusw==', 'price': 980000.0}, {'id': 'uaEErSMMT243mduL/XlXCA==', 'price': 420000.0}, {'id': 'oTXL0ycTZMbwnLjhmM6x3A==', 'price': 1139000.0}, {'id': 'tqoe9dRtQgUcNEuVOctAcg==', 'price': 1480000.0}, {'id': 'N3uIDWRjX294lM3Od5BR4g==', 'price': 245000.0}, {'id': 'yQzpz4Eyf9ZXsK3BwemWsA==', 'price': 595000.0}, {'id': 'k7QdyTsiPtoytS6KDLTe+A==', 'price': 3000000.0}, {'id': '2Wi6Q76aEX/LrabuZLfk1Q==', 'price': 720000.0}, {'id': 'TBryGN7wGmLLcqmQOz1wCQ==', 'price': 612500.0}, {'id': 'Pxu7WLohvUKBBf3GFqmmnA==', 'price': 470000.0}, {'id': '9da84VF0vQLWLAER5/OYmg==', 'price': 278000.0}, {'id': 'aSrUWzykm35LO1oWEON6Ig==', 'price': 380000.0}, {'id': 'XRfZIiaiebDlYWUfStKhXQ==', 'price': 1950000.0}, {'id': '8OkUheLYwueY5V/mRit5OQ==', 'price': 260000.0}, {'id': '+XqDKlbbNEN86/4HOku4Ig==', 'price': 595000.0}, {'id': 'Hw42gLcbdbjqLokjxwWP4g==', 'price': 1200000.0}, {'id': 'LSYbIKRFYZXd9cdIUOyrlg==', 'price': 790000.0}, {'id': 'mnSRqsThx5XZKyKnJv2C9Q==', 'price': 990000.0}, {'id': 'e9U6JWUdDx86B4o42Y119A==', 'price': 680000.0}, {'id': 'wWc2vnk3eACM8YlWaEVRFw==', 'price': 650000.0}, {'id': 'cVQxFrOTfG6FMtFqESMUlQ==', 'price': 250000.0}, {'id': 'M7FEGqrVMyNzuzx3XZo2AQ==', 'price': 1300000.0}, {'id': 'OgqRww8NR0oG9am6WdHaXQ==', 'price': 700000.0}, {'id': 'slWIbl3Vwl8vE6hxnNg3FQ==', 'price': 420000.0}, {'id': 'YiJQfkAmsHMYtb+8r58TQw==', 'price': 695000.0}, {'id': '6vtZOWkb/EFU7QHRN42Iqg==', 'price': 13952172.0}, {'id': 'sBXM+lvqKXqZ6u22/sGeHw==', 'price': 320000.0}, {'id': 'veQ8FGZwbLkDRA7T3yRqiw==', 'price': 670000.0}, {'id': '8735eKXT7UXqUkzExXt+Dw==', 'price': 430000.0}, {'id': 'U9yQtyYGNMXRaxVXPhyD2Q==', 'price': 980000.0}, {'id': 'KZ3kcLS81brYrGhwKatpTw==', 'price': 470000.0}, {'id': 'rGP3iqWl7C3y2k4kf4mr3w==', 'price': 1100000.0}, {'id': 'ZHHhlxwNJFxCr8MUzpvZzA==', 'price': 300000.0}, {'id': 'O3HxkOV4dW2cZd6awoH+Ig==', 'price': 1600000.0}, {'id': 'f0h2rR8Mds6erYe7dN5UDA==', 'price': 690000.0}, {'id': '4sBlQDv5NMhvD1opPS+MBw==', 'price': 250000.0}, {'id': 'V9zFJNLMoiWICim8Nh7VsQ==', 'price': 520000.0}, {'id': 'PowAluD2jcoKjBuOE8eALw==', 'price': 22809690.0}, {'id': 'uZT4o2O88kliavtSEutRAw==', 'price': 450000.0}, {'id': 'Ilke+w/cEtFl6bu+wMGEEw==', 'price': 450000.0}, {'id': 'ANOrghrYuyv97QF8Sgp+8w==', 'price': 310000.0}, {'id': '41pDbDoMN1dzPpVxlaGm8A==', 'price': 1100000.0}, {'id': 'YVIyIa532ZmabR99zZSmng==', 'price': 930000.0}, {'id': 'jCTUL5i8/gp32pMZNnyjZw==', 'price': 17793529.0}, {'id': 'GjLg+PfaEO1SmqK/teHAiA==', 'price': 730000.0}, {'id': 'k3uNw2Q7rJA1a/e4bCna0Q==', 'price': 240000.0}, {'id': 'K4QIOh20zdc8s09oG4ju8A==', 'price': 500000.0}, {'id': 'eGRlc1RJPjYxZB2gdzOwIw==', 'price': 5263496.0}, {'id': '19/2P9mJ6agEeeccp7y7ww==', 'price': 270000.0}, {'id': 'ym4jUmqXWmj2DWMEgQDt1g==', 'price': 685000.0}, {'id': 'Nx7uXvgEsDvCYRAtiVrUVQ==', 'price': 545000.0}, {'id': 'yl3eqc3BOVST4Z3wgBWSEA==', 'price': 664658.0}, {'id': 't8x0ZNGZ0wI4Rf0j1pVE4A==', 'price': 750000.0}, {'id': 'C/nwMsQ1bIFiva9QIXDQLA==', 'price': 10070000.0}, {'id': 'xB7DCP2QcbCtmHmKMfEmwQ==', 'price': 1090000.0}, {'id': 'j7S6uD9EqOdgcg1Z1NOuRg==', 'price': 420000.0}, {'id': 'pHXW/bOwuvOatsGSs0BGuA==', 'price': 270000.0}, {'id': 'wQCcWTkoY/57KqI6UbGkQQ==', 'price': 249400.0}, {'id': 'NfmZjU1NmoEjKgXlgS4jzg==', 'price': 720000.0}, {'id': 'pFvwUQb8ao4IlhKsEqrc7w==', 'price': 430000.0}, {'id': 'EWsffDi/PLovvERJUUo2vQ==', 'price': 1400000.0}, {'id': 'hzsGKGtGVLRZ9J7kkcpD+g==', 'price': 450000.0}, {'id': 'XgbGS6F7FQCokra2GABh+g==', 'price': 450000.0}, {'id': 'AC//aem/+v46tK1sNAwgbA==', 'price': 1500000.0}, {'id': 'tpvchLC3V296CKiEUbE60Q==', 'price': 700000.0}, {'id': 'keDo/JsATYlk/6i+x58juA==', 'price': 420000.0}, {'id': 'x7b6saU/AhSBdFSpSwcmiA==', 'price': 535000.0}, {'id': '1kzw47ABwF1HjfSjtg53uQ==', 'price': 770000.0}, {'id': 'gnnUecN87jX/+qvq/t0+Ew==', 'price': 2190000.0}, {'id': '0Ktsxq4itNO1kV6XyyzTGw==', 'price': 460000.0}, {'id': 'y2hRhVdvuWLNnsd0fiuv3A==', 'price': 480000.0}, {'id': 'ebbKTcPtnIAYq0Sjx+derQ==', 'price': 630000.0}, {'id': 'e3eN3En97i0Z2LWYQYXtYQ==', 'price': 1650000.0}, {'id': 'cn7EVFHrdJiUx3SGN0Hf2w==', 'price': 1340000.0}, {'id': 'vKero30siwqUZf56L1Uplg==', 'price': 299000.0}, {'id': 'QrDNlNiZ8ZNEm43PeoIS6g==', 'price': 1800000.0}, {'id': 'Lh0K7U5QXK9q/GkAG9Tw4g==', 'price': 700000.0}, {'id': '7PlMPgAL5T1JtOvLbrtj3g==', 'price': 615900.0}, {'id': 'xadRH75nfimFXSE3lB0L8A==', 'price': 339000.0}, {'id': 'HzCg5KVQTtVZKQ+eNcw3VQ==', 'price': 650000.0}, {'id': 'aUN8wNCPbd78+Be+mkRuwA==', 'price': 360000.0}, {'id': 'Y/WUB3v6uVjF1aWhqzHKfg==', 'price': 37200000.0}, {'id': 'DtAdPDGREIleHESsX+MKVw==', 'price': 300000.0}, {'id': 'FlLOBKgmrs5H8vOpjBZZHQ==', 'price': 344000.0}, {'id': 'USmybihoTekCLFQd0wBDvA==', 'price': 269000.0}, {'id': 'kUoGlvt7t4Y3QSiM4qD0lA==', 'price': 1340000.0}, {'id': 'ApUfzGFb14Nqo7LU/pD9Uw==', 'price': 490000.0}, {'id': 'n3DLeFgsZQHtKipEbswAjg==', 'price': 200000.0}, {'id': 'Op1VdLaFSB3aP5LeyJOgNg==', 'price': 265000.0}, {'id': 'Wnb0dQTmZtObolelZ42kfg==', 'price': 252000.0}, {'id': 'zps0gypnEhOeinZf06/C/g==', 'price': 597000.0}, {'id': 'ZJE7hARR0TKoij42fH4MfQ==', 'price': 490000.0}, {'id': 'D14eRwWX/tWI3Hw+xZDBRg==', 'price': 550000.0}, {'id': 'vn8/Fg4VYwpykn0QtqoyvA==', 'price': 206500.0}, {'id': 'L4NlVfNzeZxeJhotglu+8g==', 'price': 3000000.0}, {'id': 'V1pDC906qI2amJYMR0FjkQ==', 'price': 890000.0}, {'id': 'tN1N6VTh4vwgYUIZV++2zg==', 'price': 510000.0}, {'id': '89jpI/ILkTwmYswV9bao9w==', 'price': 370000.0}, {'id': '58rTnS16jlNdFjeiYYzGTg==', 'price': 1600000.0}, {'id': 'xpGS1W8irkjHzDBP1/05fA==', 'price': 1500000.0}, {'id': 'zZqm/WnBxZ1ExxDgbNcGIQ==', 'price': 366000.0}, {'id': 'lCcSFMQ3Tn+GxlRVWVaVyw==', 'price': 290000.0}, {'id': 'x75iMuqCT1UTwYwCDfmsDQ==', 'price': 192000.0}, {'id': 'ow0AySmnM1kguwfkY7fCTg==', 'price': 470000.0}, {'id': 'WTNZ+cuAXGa/+oOVudOKuw==', 'price': 318000.0}, {'id': 'onu/5oh8w23C7zyvW8k5Cg==', 'price': 440000.0}, {'id': 'Gx3rcZ5RKrmFT9ADWrVlWg==', 'price': 460000.0}, {'id': 'Zilz7wQfn9ccWsV/yg1vvQ==', 'price': 259000.0}, {'id': 'DPbfaCIo4+7yg0sjtli4QQ==', 'price': 450000.0}, {'id': 'PcYz68Oi13v1wUhMu5VP7w==', 'price': 285000.0}, {'id': '7KY92uqXTyFxUkh2daawCQ==', 'price': 1900000.0}, {'id': '53xZLnKcCqEVta3n7ZFu9g==', 'price': 570000.0}, {'id': '6D2Y4v4reB5Z9332ZFAdAw==', 'price': 42339328.0}, {'id': 'afdYEHz+tbXgKkh3g+FZRg==', 'price': 520000.0}, {'id': 'nY9WcDDWmBNTh2Ljge4vmg==', 'price': 510000.0}, {'id': 'Tp4SQg6/Q2YYf5O2LYCP2A==', 'price': 710000.0}, {'id': 'qDabRF68fk3zvqQfj8GLUA==', 'price': 795000.0}, {'id': 'qXNPf9b8Aa9a26oHeODtag==', 'price': 1000000.0}, {'id': 'DLvEniqVZCJ9jtLnwzEfDA==', 'price': 750000.0}, {'id': 'LWd/ObeT3dnH6+/G30n20g==', 'price': 450000.0}, {'id': 'wCqfCpvhoRfKKGwD7CmeRQ==', 'price': 750000.0}, {'id': 'Xgm8IA01sSCttDw+FoyxLg==', 'price': 599000.0}, {'id': 'bB7pRnH48++UC97hFPfwIg==', 'price': 345000.0}, {'id': 'xtdTo/z4a1VItm2SRUogmg==', 'price': 4996833.0}, {'id': 'k4/321bNWO0RoUBK0i39aQ==', 'price': 850000.0}, {'id': 'FjqS+4amg71QKr+YXjXdhg==', 'price': 650000.0}, {'id': 'PxBDB7E7Gf10awRtAiD3Lw==', 'price': 240000.0}, {'id': 'qIB9j4/pWJmjYJJFBgk+vg==', 'price': 390000.0}, {'id': 'JNgDXkETqHFVPI9ml/aAkQ==', 'price': 890000.0}, {'id': 'gSU2RTSPOfh6qqgtqtHl8A==', 'price': 1800000.0}, {'id': 'A6OMAbmq1n9XSTlTimEIlg==', 'price': 670000.0}, {'id': 'oV3FCOD6mPTGswFfuWO7GA==', 'price': 529000.0}, {'id': 'u3kIq0q/qD41dprrgixLaw==', 'price': 430000.0}, {'id': 'nMi8u1SeuK0GGbcMdM20vg==', 'price': 274000.0}, {'id': 'GM9NXiq3M94n//0CAyI9rw==', 'price': 379000.0}, {'id': 'gqof/AOqoIOdG2Ssj9Ve+g==', 'price': 17653626.0}, {'id': '3XrTlqA6UcHgBoFWDRtp1Q==', 'price': 300000.0}, {'id': '4cw1ckk314o4860nsCHmdw==', 'price': 620000.0}, {'id': '8ECiStJtDr1TXtpeoLe9yQ==', 'price': 5261157.0}, {'id': 'jFNV9St7Ao1syFrJICrgMg==', 'price': 315000.0}, {'id': 'E+pUj0vi1DDv3o+TMbAwew==', 'price': 950000.0}, {'id': 'TM+v2Phz0B/eAJ+cZ55D7Q==', 'price': 240000.0}, {'id': 'CHZO+ugiOaXUnwz+RjF7tg==', 'price': 1750000.0}, {'id': 'yPXu0jjKcoGO5bx35gyy/Q==', 'price': 310000.0}, {'id': 'r5PbeN50KqEqTrDtFrXFmw==', 'price': 285000.0}, {'id': 'VsPlI7vcyV+mS0WM3d0g+g==', 'price': 470000.0}, {'id': '3OW8NwKt/6tD8BsfqJplBw==', 'price': 417000.0}, {'id': 'RfOdsno3pYWfgplKfjRgLA==', 'price': 308000.0}, {'id': 'ikBv7IuS1poHO+0mMHkQ+A==', 'price': 1500000.0}, {'id': 'GsbEavL66RZv7egxIzo/ZA==', 'price': 280000.0}, {'id': '1uCTAXFfGALnTEgg3+PnOQ==', 'price': 1600000.0}, {'id': '4gxsjW1BTgsKuCQ8rqhdbA==', 'price': 500000.0}, {'id': '0BH0vfrWusb+dLJr5IrUfw==', 'price': 420000.0}, {'id': 'wpLPsfcD9G8/C2sNXqq2rA==', 'price': 550007.0}, {'id': 'CVIX32cCkkP+EAvGzvm05g==', 'price': 700000.0}, {'id': 'xyoAcDIH4RqfCli45wIDzg==', 'price': 530000.0}, {'id': 'vHhy+7R+P0mIwbzUEMH8+A==', 'price': 540000.0}, {'id': 'Jr1kjAOhAWsLp5cgTNKIlg==', 'price': 238000.0}, {'id': 'KXgVYEJyTiSav6CdAajvgA==', 'price': 1300000.0}, {'id': 'vmU1kMSw3sTWtW6zBf2/mw==', 'price': 539999.0}, {'id': 'ZuctjpIjbe3VU0CFjc/Jgw==', 'price': 1950000.0}, {'id': 'b+sGCdusphz/7FqhBs6Dhg==', 'price': 29758524.0}, {'id': 'hWfR9FnzLTRP1pA04uDUgg==', 'price': 650000.0}, {'id': 'qN9lcphwl50QIhHD8U8apA==', 'price': 16289452.0}, {'id': 'm2tBnpPki6n1uqXNVFwwgg==', 'price': 535000.0}, {'id': 'yMGyA7iBoj5Vkf6fpVQE9w==', 'price': 440000.0}, {'id': 'K7FOcrvZZASt6T5qfgnRAg==', 'price': 450000.0}, {'id': 'PghYpoKSKeo5aBQEWrcrFQ==', 'price': 4381815.0}, {'id': '7UJwFfgRY9Qfavd4QEalLQ==', 'price': 920000.0}, {'id': '9oI8tz0l1L2kFmI2oqx9Gw==', 'price': 450000.0}, {'id': 'FhHihfo/6GvQyjJ59i/HQg==', 'price': 345001.0}, {'id': 'nhe5m04yJBRu1PbYpS/PEA==', 'price': 339000.0}, {'id': 'LfxQGuVcroNsIt2Mb//B2g==', 'price': 890000.0}, {'id': '9W+kCpUhUK6q0T/QhqDXUA==', 'price': 365000.0}, {'id': 'JMrMkMfHsy0BKH1lfgmXiA==', 'price': 900000.0}, {'id': 'Zty9B//+cWByX9dGbC2yUg==', 'price': 260000.0}, {'id': 'x5zenY4wriI6D/1gYceTDQ==', 'price': 500000.0}, {'id': 'UkDESjwWUhan6MrNq+aP6g==', 'price': 280000.0}, {'id': 'aXLcu8d+hwJwoJXxWX1m1w==', 'price': 240000.0}, {'id': 'TWKzUAcE9stozM4GimESbQ==', 'price': 460000.0}, {'id': '9r2VKNS2ZrKOAEWhJiDRjg==', 'price': 460000.0}, {'id': 'y6bYLHBQ6qryzK1mpWBhog==', 'price': 580000.0}, {'id': '0A0/4BEvQHNLdgh/EykgJg==', 'price': 285000.0}, {'id': 'lQjMs9dFU39/LsAMxgFzRw==', 'price': 5369467.0}, {'id': '96IqF5MVhXQTG3dcShMDVQ==', 'price': 295000.0}, {'id': '9V8Fw+TpYxl3QkW+OI28Hw==', 'price': 18530568.0}, {'id': 'WERi+sV//sm3xjlvrT841w==', 'price': 580000.0}, {'id': 'AadScbzcS4IJPHLYLi3kZQ==', 'price': 475000.0}, {'id': '5KTod0afSJpP0Ja98hze/A==', 'price': 420000.0}, {'id': 'dl7lkCF1W+yL3h05VkdRKQ==', 'price': 360000.0}, {'id': '43dpciCvwU54esrRDARXIg==', 'price': 350000.0}, {'id': 'H1Z9jyXnYWs5EXcaIcBpbg==', 'price': 276000.0}, {'id': 'FRCdj1PGVq6JfjmK1Lv/SA==', 'price': 275000.0}, {'id': 'Tz7UXpqiWC7dLaA0VLoHkw==', 'price': 14938310.0}, {'id': 'ZkAm0zErkuiNEqiPgOT3Yg==', 'price': 1600000.0}, {'id': 'Cv6rX0t9mEfNOV4pQg4kTg==', 'price': 16830790.0}, {'id': 'flZJmrO8SSTHv+d+AoanUw==', 'price': 530000.0}, {'id': 'y049EvV6ovmd6S0vOPMcwA==', 'price': 1100000.0}, {'id': 'z0ID5LQDhkLliI/JQAVJ6w==', 'price': 355000.0}, {'id': '2BdNCC6vWuW56t4U9TaZkQ==', 'price': 670000.0}, {'id': 'qILso50nYp4Ci4VFREIoQg==', 'price': 330000.0}, {'id': 'auzjeKHSqWDfcVKuWCXEHQ==', 'price': 750000.0}, {'id': '7eCLLea2wzI93LQJOrzLWA==', 'price': 345000.0}, {'id': 'taTrXUn4GjriXT45bGnxRQ==', 'price': 3000000.0}, {'id': '0hl1mMOb5E1CcNiGfkXNtA==', 'price': 750000.0}, {'id': 'z8w5z+qc5o07jhBqH0QoZA==', 'price': 425000.0}, {'id': 'PpIIJkoKx7FiydY8SQUaNA==', 'price': 930000.0}, {'id': 'dyP0TlRS1LMEoECXbZ18jQ==', 'price': 2500000.0}, {'id': 'vHK1x61Ln5BkKPcPieVFMA==', 'price': 6000000.0}, {'id': 'mHoj8qmZo9a0otYexMJGHw==', 'price': 349000.0}, {'id': '/jJ2ocB2482oNHKVVu+RYg==', 'price': 1150000.0}, {'id': 'jWoVZMSfAS3GJfyA8zSZQg==', 'price': 600000.0}, {'id': '61sA4r5+swLNjtCHGz03dg==', 'price': 1100000.0}, {'id': 'fbRZ0r7ezLVMR1w2TtntAw==', 'price': 690000.0}, {'id': 'B6aVtD3o6gliNJFNcJbFzQ==', 'price': 270000.0}, {'id': 'CHvMmynlDjiWXEqvG8LiFw==', 'price': 990000.0}, {'id': 'Cllm1b19N/JlWAa7xhs8LQ==', 'price': 1780000.0}, {'id': 'EEjx179F07zp/KmRdLBSDQ==', 'price': 335000.0}, {'id': '1hp8H5CzQOTWDhQZl4eykQ==', 'price': 240000.0}, {'id': 'Ac2gICy+P007G7A5q8sPlQ==', 'price': 650000.0}, {'id': 'mLtkQcEs0Kt2ZDDHNaHavQ==', 'price': 1250000.0}, {'id': 'm7Cv+nk4s4j49YF25Z+9NA==', 'price': 250000.0}, {'id': 'Oo8OL3p13bpGh78O2h661A==', 'price': 900000.0}, {'id': 'LGPnFl1QgY3c366DdNHFqg==', 'price': 800000.0}, {'id': '1lO4dRwW2omX60R4alIw8A==', 'price': 440000.0}, {'id': 'eM3kYHEuG4FUIv8aynyrPw==', 'price': 220000.0}, {'id': 'cSLfYX+kDSMcSyxl7nT+FQ==', 'price': 430000.0}, {'id': 'qAFmfXOsX1utTagQPVktXw==', 'price': 625000.0}, {'id': '4xiKmJxfhbMpqIATMO3eBw==', 'price': 470000.0}, {'id': 'VFUzq7pisVI+i9audzPP2w==', 'price': 298000.0}, {'id': 'FWsIDepX2NF9IJ1FscYL8A==', 'price': 278000.0}, {'id': 'KDMYNIbTDC2RtRLBJq2NRw==', 'price': 250000.0}, {'id': '2qH3yUHZGp29fRv39j0rlg==', 'price': 265000.0}, {'id': 'GbVlMzRDCVT4AZ2pYpT2qQ==', 'price': 880000.0}, {'id': 'AA2OwOwkWE5r/R5vVG+zQg==', 'price': 1300000.0}, {'id': 'UPu3K4/5u0t+HhjBDHu67Q==', 'price': 420000.0}, {'id': 'T/Sahq0IdwQuJSmPvJVrwQ==', 'price': 465000.0}, {'id': '+nE2NF/s5LeVXP8lXGvXKw==', 'price': 1080000.0}, {'id': 'YjZXOXCsdu5138qV8Tm6Rw==', 'price': 1190000.0}, {'id': '+/Y60eGQg+R2W8czuNK4ZA==', 'price': 730000.0}, {'id': 'RofH8lPSK5Scsz0sIlX0QA==', 'price': 2100000.0}, {'id': 'u1Pfi5rWM5pfKubZ49yqMQ==', 'price': 639000.0}, {'id': 'O0Zx1wtfp5qsSFUblf7nbg==', 'price': 18640800.0}, {'id': 'Cu++nZD8/WW/O8cfFZNN1A==', 'price': 247000.0}, {'id': 'GFwWqpTrdTV9hqiQRre46A==', 'price': 320000.0}, {'id': 'mF/Mk/0WXON9MH5L7j3MGw==', 'price': 259600.0}, {'id': 'Ruc+qPJQXPiSjDbYiPQyHw==', 'price': 620000.0}, {'id': 'HYwCKljSKpJKMTM2kprLGw==', 'price': 21495458.0}, {'id': 'TksWVnBCiGQDoUwNbg9rww==', 'price': 365000.0}, {'id': 'rTRsrWm2axZQCpVI0rJGQw==', 'price': 265000.0}, {'id': 'XTRDOhR6sCItBi8rI4czNg==', 'price': 760000.0}, {'id': '7IxmuZqxGUI+uhfTjzSyqA==', 'price': 300000.0}, {'id': 'HiXSSeIMTcM/H3pAnfD1Og==', 'price': 900000.0}, {'id': '1Ji++ol0KKSzxdS8KqfJSA==', 'price': 290000.0}, {'id': 'IP9dm3G53GzzljOO/VhaUw==', 'price': 720000.0}, {'id': 'QUuzAy3zbHEfPZXoF1HIeQ==', 'price': 479000.0}, {'id': '5zzycZw9vP90WT5WzljThQ==', 'price': 279000.0}, {'id': 'Yt0y5GyBK0saGPzPAL6FWA==', 'price': 6700000.0}, {'id': '2nG28G9rnXTo6XQVhj6XGg==', 'price': 285000.0}, {'id': 'Nzu67wJaGPuOUpqj9y3oow==', 'price': 1600000.0}, {'id': 'DNFXCk42rcwam6ML6Ry5Mw==', 'price': 235000.0}, {'id': '7wj4seJFWlb/RBXssVLJ4w==', 'price': 435000.0}, {'id': 'YJuaVDGDZgDC7mzh8La9Uw==', 'price': 235000.0}, {'id': 'OHiEn+r644MKVbPUgeTGGg==', 'price': 550000.0}, {'id': 'duvOpX2HUD5VTgM+8ixuog==', 'price': 940000.0}, {'id': 'eVd9+rDpuvazusS/uyrh4A==', 'price': 293001.0}, {'id': 'pzQ2YoszwOd5UoyL65wgbw==', 'price': 720000.0}, {'id': 'jzaJiaOA+JwrF9mNfPcGbQ==', 'price': 620000.0}, {'id': 'DbPWgN8YBEu6EsXgKVCNhA==', 'price': 360000.0}, {'id': 'a5sLsAYq8nl0M8fqVnur6Q==', 'price': 400000.0}, {'id': 'FglKg7tLeXIrGd9QJs+d4g==', 'price': 510000.0}, {'id': 'SEUleIrXkGKqQ55gjbqbdA==', 'price': 785000.0}, {'id': 'gmEk8/8QCqHApA5dIVWrOA==', 'price': 229000.0}, {'id': 'gjQhLtuTScrkmFweOOtWVA==', 'price': 430000.0}, {'id': 'dWMQAxd0ef/Eg0nF+qjgIw==', 'price': 500000.0}, {'id': 'k2R3R8TMyMrNWZnHBjP1ng==', 'price': 430000.0}, {'id': 'c1CnztYPJwV4ykFq7wddvQ==', 'price': 800000.0}, {'id': 'gpvAY0i366bSTwv60mO64Q==', 'price': 5000000.0}, {'id': '9IrxfF7aQxa5wS6rourzYg==', 'price': 1200000.0}, {'id': 'tJ1r8SbxixuTm3Ui3ymEuw==', 'price': 194000.0}, {'id': 'RRsB3VWgIODF8Lv2ki8QCg==', 'price': 259600.0}, {'id': '7kIpcFZ1Cz5DmaLFm4vbYg==', 'price': 1600000.0}, {'id': 'YNR6/FtM9u6+4C2Oaf62Hg==', 'price': 440000.0}, {'id': 'AOHy31hLLb6SBFPQdBytog==', 'price': 240000.0}, {'id': 'nOvi5BrwF0kA8StUmwLANg==', 'price': 280000.0}, {'id': 've09GovWvRIsgBeKfb+jtA==', 'price': 540000.0}, {'id': 'TwxrGcUWY4yBpfIfxp7qJQ==', 'price': 600000.0}, {'id': 'INaAlWCxWdy5h//i5S/2yg==', 'price': 790000.0}, {'id': '7cJhWVsXVnJEmbYDfGhPQA==', 'price': 420000.0}, {'id': 'Q9ciowPIu2Y8UdN0qlwjEQ==', 'price': 750000.0}, {'id': 'XInegKKIIbXS0jQYvyk7LQ==', 'price': 510000.0}, {'id': 'I7sLlw3FknybdGJ87XfvFA==', 'price': 550000.0}, {'id': 'JBt/fVq6dpo4PmRZ2nhMlQ==', 'price': 550000.0}, {'id': 'Cy4XiMMbuabe+xk04HUqng==', 'price': 495000.0}, {'id': '7aJWLQFXuwB0jjauufVCmg==', 'price': 1500000.0}, {'id': 'NgwptwjlwC+9vgQXbhCmxw==', 'price': 289000.0}, {'id': 'hMfKj3/RlJW1r0d0JunugQ==', 'price': 1480000.0}, {'id': 'mra2niWTc4xbzYTWEkdqgg==', 'price': 680000.0}, {'id': 'mFuAnmvLGNqB8uB3OJAOdA==', 'price': 12200000.0}, {'id': 'SFylB46/Wuxs7agobj18ig==', 'price': 422000.0}, {'id': 'g5zpiyNjKIXDmXaUSXhvMQ==', 'price': 2400000.0}, {'id': '4VUPxR/QbckZkyEqdWdo1w==', 'price': 415000.0}, {'id': 'PPkIPyg/TmoOYZVv99sDhQ==', 'price': 485000.0}, {'id': '9WH70ku3JGfD6hS3euHEkw==', 'price': 550000.0}, {'id': 'p0OdL/xuemvoJ9QiY3nxmw==', 'price': 1250000.0}, {'id': 'a6O4oX19HmP56aBBkyExiQ==', 'price': 610000.0}, {'id': '15ZFawK24NFT/dT1GOiyDw==', 'price': 450000.0}, {'id': 'RXto4Fbm/+5abdPgqIW4eg==', 'price': 16175626.0}, {'id': 'ygalOZvFoNJ+tY22TsMBXw==', 'price': 549000.0}, {'id': 'wpOxS5EfkvuMEQoRMJObfw==', 'price': 480000.0}, {'id': '4VLY3k+kctP/M1HQSLkfrw==', 'price': 270000.0}, {'id': 'lVJskU08tHEkD+m7xDauTw==', 'price': 1680000.0}, {'id': 'JM8ibLJK4SMfk5pG5X+pzw==', 'price': 460000.0}, {'id': '9ZF7fvLtP/FXA+n58o4cGQ==', 'price': 360000.0}, {'id': 'P2q2sFf8AFO9BF1BTMYv/Q==', 'price': 3307500.0}, {'id': '0UkBH93YDd41vYXN4jD6CQ==', 'price': 1900000.0}, {'id': 'RiDOJTSdKddhjfgBPE3zng==', 'price': 330000.0}, {'id': '7RlZUeIALTIkXaUCXaUWsw==', 'price': 2200000.0}, {'id': 'guQiXrkMjWIlotTzvoB6ZQ==', 'price': 470000.0}, {'id': '3E9VWzXwA3VWp+bcF797sQ==', 'price': 520000.0}, {'id': 'xSKC7GvJJU5jXBrkvBZ+RA==', 'price': 3880800.0}, {'id': 'qZ/iiP5P6gbNj45xoJpkFQ==', 'price': 775000.0}, {'id': 'hxWBjOd3yM3jfMNnU6bWiA==', 'price': 780000.0}, {'id': 'gyDAg8TI66I3ZSJ3M6Vtdw==', 'price': 450000.0}, {'id': 'klrE24l2Kln2+LumPA4lkg==', 'price': 1100000.0}, {'id': '9sq993zSdrcEYf2bo5PKoA==', 'price': 450000.0}, {'id': 'RkCEdhrvdMl5pGHhNS25ew==', 'price': 260000.0}, {'id': 'jC+jV/qKA90O+WAkE/3MzQ==', 'price': 430000.0}, {'id': 'Z12Vr/vxOgWJZ9gB0xVFAQ==', 'price': 430500.0}, {'id': 'bd/mzrx/jysXe2n/ZzmhlQ==', 'price': 238000.0}, {'id': 'rv16QS6cXUJaRakSRS3jRQ==', 'price': 500000.0}, {'id': 'UtfM5/fVOkSdlG2nGxovFA==', 'price': 492250.0}, {'id': 'EI5ERKjrhrPTstyzm0vJrw==', 'price': 5251550.0}, {'id': 'BF8ud3AC2MHZyLQPnT2TPw==', 'price': 490000.0}, {'id': '3jAKixFeDPe72nfg2AZhWw==', 'price': 1700000.0}, {'id': 'GSUnqrbHDkd0nzY628Fw+A==', 'price': 749000.0}, {'id': 'I/k86+yQJWACdxkINJhncA==', 'price': 415000.0}, {'id': 'h5DLNW9UdrI4NjEKLelxFw==', 'price': 13700000.0}, {'id': 'iIynAb4q+QBjEpU3ldSswQ==', 'price': 260000.0}, {'id': 'hZRhG/iM5cBwTktQXcINYA==', 'price': 340000.0}, {'id': 'GX+Y64v0MpgNOK9LUzFjfg==', 'price': 540000.0}, {'id': '7Xcc5XTLKzmvS3/9iXm4zA==', 'price': 2200000.0}, {'id': '7iFEAQZeT7SJ5Cey7w/dsw==', 'price': 13233501.0}, {'id': 'T3YNgKZnGvQK3PXkEahAPQ==', 'price': 780000.0}, {'id': 'wzegwUHP+1md4kNjh6HaUA==', 'price': 310000.0}, {'id': 'VLs9kq4U2/SSTSNt57CALA==', 'price': 265000.0}, {'id': 'SN/zKqGxArWWIK49cZ2KKA==', 'price': 2600000.0}, {'id': 'j60NSC90p4DHuODYr3ibMA==', 'price': 1400000.0}, {'id': 'MkVLx53ogBNuO1eGNMQvzA==', 'price': 450000.0}, {'id': 'FYSQ6LumDJANv6sdyb2CKg==', 'price': 9890712.0}, {'id': '34kpYbBgFrrDnBv1iAfewg==', 'price': 375000.0}, {'id': 'alsiyJRePZ1Q1sftxmmm8w==', 'price': 1449000.0}, {'id': 'X+tl4rH/R/ne4OV6V9tzoQ==', 'price': 3000000.0}, {'id': 'A+7hMYCovpgBh6Vpsy8VUA==', 'price': 860000.0}, {'id': 'VmF/Fh5ppFOZ+FF7i6NR/Q==', 'price': 460000.0}, {'id': 'wRe+2hRK/5pqd69AF9UO1A==', 'price': 2100000.0}, {'id': '0s/eOdAM9/MGs40Sg8tTBQ==', 'price': 980000.0}, {'id': 'd0q3d7WUsjUAi4OSUKhChQ==', 'price': 950000.0}, {'id': 'myOinyIEoTdDPNpfuiO7SA==', 'price': 520000.0}, {'id': 'j9cOlm8ew1D0OVPEl84iDQ==', 'price': 530000.0}, {'id': 'uiFKUU7OmQXXmoj2WTdfwg==', 'price': 700000.0}, {'id': 'RHjzvlOvJjVAn+uggTwH8A==', 'price': 270000.0}, {'id': 'J1nMSXa3+FrkQNQYaaxVrw==', 'price': 260000.0}, {'id': 'f06BrAXp2ejumzpjN+HgYw==', 'price': 44712000.0}, {'id': 'aOQ0+2UTycVRhoU7jHHwaw==', 'price': 500000.0}, {'id': 'ZH/DYM97s57PulaCbMGFww==', 'price': 414900.0}, {'id': 'vBXDqmeix1iFENXFOe/uUQ==', 'price': 545000.0}, {'id': 'HuT3a/njV8A0wG3TnxFlAg==', 'price': 200000.0}, {'id': 'DTnQUmHaQyOHXA1F6aSUtg==', 'price': 900000.0}, {'id': 'F//+u4JZTy9UYDO2mx8/AA==', 'price': 340000.0}, {'id': 'kpRlcvVdXdYhmRgy2QN2Tw==', 'price': 290000.0}, {'id': 'wdeKardiUAsxmp6pe3CdYQ==', 'price': 670000.0}, {'id': 'af5wTAHFghpDm4bN1RbC4g==', 'price': 390000.0}, {'id': 'VdLmjzj1pz32ZwxEgrHnJg==', 'price': 750000.0}, {'id': 'v5RsVZW4C1X6OGpTUFrA6g==', 'price': 6200000.0}, {'id': 'Ibur9lby62yGdEsE+EymVA==', 'price': 398000.0}, {'id': 'n4H8sQqqt55wMOj9ehT89g==', 'price': 1100000.0}, {'id': 'q+C2yEI9UiIhkz2l2/zJUA==', 'price': 330000.0}, {'id': 'FKr1FPT75W8gWJMB7Ep1fQ==', 'price': 320000.0}, {'id': 'cNql00zCAn7TLxTSPCR10w==', 'price': 350000.0}, {'id': 'Ns2MQfT6/zs3HgbrjIIzYA==', 'price': 489204.0}, {'id': 'C/OBI8er2KNaxylYaDJ4Kw==', 'price': 6801603.0}, {'id': 'mtITIVSERrNHjmX9Djf7mQ==', 'price': 650000.0}, {'id': 'fXDulJO1Og3DOdt6FM4ODA==', 'price': 9500000.0}, {'id': 'sT3sypuRbMcEBxS+qaeIAg==', 'price': 850000.0}, {'id': 'Hz1KOXtgNAutLRDy8f0AkQ==', 'price': 450000.0}, {'id': 't/FoxoSpDUlkIysW1iyjvA==', 'price': 450000.0}, {'id': 'eYe9yyreRT9IR8gy/4Rbtw==', 'price': 450000.0}, {'id': 'Bx5gPVKd0lp/s5wjGMdvWA==', 'price': 290000.0}, {'id': 'Ep4yauPiezISo4J+SxubRw==', 'price': 790000.0}, {'id': 'KO3ksqdUyb4kUhxKe4YOLg==', 'price': 320000.0}, {'id': '7z/Sj3059hS/aLUfAlawUA==', 'price': 7229000.0}, {'id': 'OHDgJmbo5r7C+GmoE7BUTQ==', 'price': 465000.0}, {'id': 'P4jLgvukJpMkhCu/fhO4gA==', 'price': 319000.0}, {'id': '8UzjCyZA7pQq3FRZL7dVwg==', 'price': 1270000.0}, {'id': '9LT/5wC6TICyyWLgAx37bg==', 'price': 14450000.0}, {'id': 'IUHtyhYvNHJGjwywleW2EA==', 'price': 570000.0}, {'id': '4zelpxir4ffFdCf+eS/pyA==', 'price': 1250000.0}, {'id': 'v/ryIX74Aelqw4S12ClgKQ==', 'price': 495000.0}, {'id': 'WXNDom2Jd93GA3a0axjNOw==', 'price': 2800000.0}, {'id': 'dG5y/4BHTZ4nyIFFDyBxEw==', 'price': 368000.0}, {'id': '+BxTbbsWYp6yNOkkM5GKtA==', 'price': 11682100.0}, {'id': 'emklgTM4tNIsQoauwoV7kA==', 'price': 745000.0}, {'id': 'AZI2/+s/7lME6m+ggbxf/g==', 'price': 800000.0}, {'id': 'IQjcJmYtxJAkA9XhHh8F0Q==', 'price': 500000.0}, {'id': 'P5PF+PCYe7m7gty0ZBKETg==', 'price': 550000.0}, {'id': 'tojyql/hsiFyj1mRRe/dwg==', 'price': 12668612.0}, {'id': 'PhfNn8RIMD/NUI8sONL1UQ==', 'price': 980000.0}, {'id': '7wmBfE0AdaFtfD8lvTM2Bw==', 'price': 350000.0}, {'id': 'aDKNfKUY3WFMQOJ1sfSyLw==', 'price': 7033063.0}, {'id': '5xJVWxch2zLk3NTKDL5BIA==', 'price': 490000.0}, {'id': 'TukZi1wtPJYE4dklDCMC1A==', 'price': 1100000.0}, {'id': 'IqFfUlpICs8dqXZSKbQ7Bw==', 'price': 355000.0}, {'id': '5n9ntlT6PsVu/up6k4LFAA==', 'price': 280000.0}, {'id': 'gRCnOdwAt97KixVl7sjWNQ==', 'price': 660000.0}, {'id': '7yast/nxGdkEPOf7zgeWew==', 'price': 310000.0}, {'id': 'CMZ2cytQ2yGkDc4Q7hC9wQ==', 'price': 710000.0}, {'id': 'UrVsZeoIj03AUrITGNwX3w==', 'price': 800000.0}, {'id': 'K4cF6+kUDBMQ+sX5itbcvg==', 'price': 260000.0}, {'id': 'GLwgYBwZJe5wZAZFeTAbHA==', 'price': 2000000.0}, {'id': 'Aycp/pziMCl0EcOBPxvsqA==', 'price': 1350000.0}, {'id': 'mfeFSLqXWprWiEjtv7kw7A==', 'price': 1500000.0}, {'id': 'LD0Twz4LFYi9LEjar/z4YQ==', 'price': 750000.0}, {'id': '+12bhMjVXBlH5+FD6xquGg==', 'price': 580000.0}, {'id': 'i8KRN793ErdArz6lJhUaAg==', 'price': 299000.0}, {'id': 'vQ7RU9SxQUqCKtN/xz6caA==', 'price': 280000.0}, {'id': 'O3F38ePtRJXsMPfUYtmYCw==', 'price': 380000.0}, {'id': 'CZIjliRVPz1iDLVyHF/giQ==', 'price': 480000.0}, {'id': 'SLsvvWMJjxCX8ssjA1rrhw==', 'price': 310000.0}, {'id': 'j9mjlhHoFHjhiMXpG48xcQ==', 'price': 540000.0}, {'id': '25vo5EhV4pLWkWAbix7c5w==', 'price': 650000.0}, {'id': 'eUVN0IUwGLxg7RO1cp5OwQ==', 'price': 1300000.0}, {'id': '1FJSi6yP64W7V9UKlFyIbA==', 'price': 330000.0}, {'id': 'kZOjkdWV+jkL26Dc3Fy0dg==', 'price': 250000.0}, {'id': 'Bhji8AcDMxQTJqiWK4EkCw==', 'price': 950000.0}, {'id': 'eXf/LTOILhy9YujY61qRWA==', 'price': 220000.0}, {'id': 'wDPKQ1b5xsr2vCftq5tzOQ==', 'price': 16000000.0}, {'id': 'Mpvskeg9cSrSiV1rEqhJEA==', 'price': 1350000.0}, {'id': 'lgApam0AdJw1+nj2yb5NOg==', 'price': 245000.0}, {'id': 'P66U/7cuS4KpdUcj0KVsUg==', 'price': 345000.0}, {'id': 'dfpRUgXLBzzKwQdVaZoYRA==', 'price': 280000.0}, {'id': 'cQ891hFXkFKOdiuKOlRhdw==', 'price': 700000.0}, {'id': 'e1bRaB4cjC7eDRjZ8x3mPQ==', 'price': 450000.0}, {'id': '7bi3rO9lraN6c01oxPx3VA==', 'price': 1550000.0}, {'id': 'umDOQw6smw6jwd1AG6WqNQ==', 'price': 515000.0}, {'id': 'wOnTjbJxdSiRIkBD63/AOQ==', 'price': 1600000.0}, {'id': 'eHiQnE9+GON/YFH27tnrYQ==', 'price': 600000.0}, {'id': 'YpauKTMn9hh8hnKdyT+64w==', 'price': 1950000.0}, {'id': 'djCUnegSXXQHwPCCBiujBg==', 'price': 1250000.0}, {'id': '7Aa4z2SWO2mp+P/JXdTmsA==', 'price': 3000000.0}, {'id': 'vdAy6ccT43AL6nHklm1nYA==', 'price': 1450000.0}, {'id': 'lqBAo28NdsSCDZxhZkWqFQ==', 'price': 619000.0}, {'id': '/k+4SLFFckv1+G2jiUJa2w==', 'price': 16268002.0}, {'id': 'Hlm8a3cJH0ZrLbwUHAO5oQ==', 'price': 275000.0}, {'id': 'dRcYVPOD7MVIFM/Njmvt/Q==', 'price': 575000.0}, {'id': '4I8qTaQB7IwLnQ5resGv9g==', 'price': 240000.0}, {'id': 'uyAp+8xPr5uHpe6qDM1LUQ==', 'price': 850000.0}, {'id': '/sCvh2gqw5vPZHRHrKoCMA==', 'price': 760000.0}, {'id': 'MYNdR6FisLggN3Dy6cy+SQ==', 'price': 315000.0}, {'id': 'OPqJqD7T+NCFdevvVC0Dlw==', 'price': 450000.0}, {'id': 'b0xceGfRuAJzvpHmK9z7lg==', 'price': 1289999.0}, {'id': 'dLIDH+MZAPDCjc5GLzlNcQ==', 'price': 473000.0}, {'id': 'sM3Q5QRn9OQOX9Z8CcOVvA==', 'price': 1850000.0}, {'id': 'AbwTOtMZk19R10nxuZot1Q==', 'price': 300000.0}, {'id': '27zMG50MnhJx5OqRr7Aafw==', 'price': 275000.0}, {'id': 'lv6zWvmzeehbZQU/y/C+kQ==', 'price': 850000.0}, {'id': '/b0lWed+igKHsYjIU9bnrA==', 'price': 619000.0}, {'id': 'hCORx/MnskGqmMFPzCAAeA==', 'price': 680000.0}, {'id': 'eQtiqbajxToImCrFLqPVlQ==', 'price': 440000.0}, {'id': 'dq04P05bO12bm2qYgf8I0A==', 'price': 310000.0}, {'id': 'RvCndTky/n50+PXCotJhrQ==', 'price': 675000.0}, {'id': 'tCWA9VDVlrt/XA0Wt7RBCA==', 'price': 780000.0}, {'id': 'Vh+OABvksiw835Lez4mgJA==', 'price': 780000.0}, {'id': 'BIj8cdjJYjGVsKGRBdgZ5Q==', 'price': 595000.0}, {'id': 'VI/wbPJSMHYskogPFubhdA==', 'price': 619000.0}, {'id': '+sxMEl4gr0sT0fI3cAQuxg==', 'price': 690000.0}, {'id': 'vEZ4YGWK+rLumCjMw8zfYA==', 'price': 295000.0}, {'id': 'WrajSgpppnKsnWH0xNedqg==', 'price': 240000.0}, {'id': 'PwY3bZ4aRZBJKxVH5H/eCw==', 'price': 8695000.0}, {'id': '10jvkQQO37btMzfYJ1xKKA==', 'price': 492000.0}, {'id': 'KJUFt3r/rg+zZJi5z7wUOA==', 'price': 790000.0}, {'id': 'DE/dSKbF5sIYEcT4yZz0gw==', 'price': 1200000.0}, {'id': 'fcwDKbKCHwivcNP0FWnvnA==', 'price': 18261032.0}, {'id': 'd5QW56/rY24WeYuu83ICMg==', 'price': 310000.0}, {'id': 'qdzPdLtXOHsj1L3EarcsSw==', 'price': 800000.0}, {'id': 'RqDXX7JWaax0oYZPbaZy8Q==', 'price': 330000.0}, {'id': 'HGcocK8CRCZaEzpktZ9ojg==', 'price': 1100000.0}, {'id': '/dNE5Vp3EDK3dror8YPYEQ==', 'price': 650000.0}, {'id': 'Dwen61lTRdfoqj75DkVSBA==', 'price': 275000.0}, {'id': 'e0BdKVucyHbrxj/IyHvwLg==', 'price': 550000.0}, {'id': 'cos3FfMSGJi3KyT1owCZNw==', 'price': 370000.0}, {'id': 'scKHOhyM8wmB/sPrBy4j0w==', 'price': 800000.0}, {'id': 'X/mVT0WG8HI4JubKOyXSTw==', 'price': 259000.0}, {'id': 'tpb7cVMqLHi8uEZUWlSbzg==', 'price': 448000.0}, {'id': 'UFvKzYXZ/dAem/B2waO7xw==', 'price': 635000.0}, {'id': 'O1S1P1hMsyldVxGBs3I5jA==', 'price': 2500000.0}, {'id': 'cASqOfSMKtv07m/8kpeqxg==', 'price': 230000.0}, {'id': '1jdqLRvDv6MIVayJdBblqA==', 'price': 650000.0}, {'id': '+Q7DQoWL+lurfhv3Ymmn3A==', 'price': 850000.0}, {'id': '0Iv0S4zh5A1t7EUIEI+6tw==', 'price': 265000.0}, {'id': 'ZaE+dcbjXuS0d688UgHBqQ==', 'price': 6866014.0}, {'id': 'lOyTfymVh0xdemQQZmKk7Q==', 'price': 675000.0}, {'id': 'cYW/RjVhp8zf6u/gUtT3hw==', 'price': 260000.0}, {'id': 'N1QSWGpqNtvj+3jpPd7TZg==', 'price': 1050000.0}, {'id': 'WVGAthhE8wJB53dWs+WtSg==', 'price': 590000.0}, {'id': 'jAoD4mLh8HW9PBIQN0Uh0g==', 'price': 299864.0}, {'id': 'v57527XVwTZ+ilH4hkp+4g==', 'price': 1800000.0}, {'id': 'agA27Z5Yyh0PPs7/JAUitw==', 'price': 420000.0}, {'id': 'yw0qcqTI0/G50f8gyfnHhg==', 'price': 750000.0}, {'id': '0jtaLwCUiNThEiTYI0yZ3w==', 'price': 498000.0}, {'id': 'jeYSN/huNl77hTv/vt1Thg==', 'price': 489000.0}, {'id': 'l4Rn40V9EsyctPivfss7Yg==', 'price': 440000.0}, {'id': 'XCpZJ2wtHhi8GB2EBn4Awg==', 'price': 520000.0}, {'id': 's/RvwlqHIuenROLuQaGlqA==', 'price': 470000.0}, {'id': 'FbXUSjJPUhdH6jZachExYQ==', 'price': 286000.0}, {'id': 'RBhnkQr3Vb0J2IZJCdpvSw==', 'price': 250000.0}, {'id': 'Oc8JBK23Z5zZXlvqFMFWfA==', 'price': 245000.0}, {'id': 'nsAECSM0WgMZo462CBteCw==', 'price': 250000.0}, {'id': 'x0pUF5sNI/45UiiXDiCT8g==', 'price': 260000.0}, {'id': '505m8Py3V+qaVa/JGhl29A==', 'price': 430000.0}, {'id': 'KbPfZLTIPvP2aMHZ87y3hw==', 'price': 290000.0}, {'id': 'qv+rUm6fHwI0i2TmRfjATw==', 'price': 500000.0}, {'id': 'LUqck6584v8QwGO7hTpupw==', 'price': 280000.0}, {'id': 'TxhBZNxTGntyaHXAg2LL5w==', 'price': 560000.0}, {'id': '7WvrhK7fpgwNgS280a48kw==', 'price': 1299999.0}, {'id': 'y2IJkKf/TOjwyptNvgSsxw==', 'price': 850000.0}, {'id': 'vt7m2l/nNRRnLemehh3HfQ==', 'price': 500000.0}, {'id': 'nzmvmieZZQ7IKHwz+D1EdA==', 'price': 680000.0}, {'id': 'JbgGQUrm1fpfs6nK1ERQqg==', 'price': 345000.0}, {'id': 'YIsT01DOm8W8fDv1iqXjXQ==', 'price': 900000.0}, {'id': 'ToqHkPoWdM1oqAfcLyJSkQ==', 'price': 245000.0}, {'id': 'jAC5BNKIwOw385acST+YEA==', 'price': 510001.0}, {'id': 'hTQq5rO6ZadfzFpjuXMZBQ==', 'price': 295000.0}, {'id': 'qVRqtX/OGOC+WValr4iEDg==', 'price': 6500000.0}, {'id': '3ojPPYdMH34Bf9/ltr6J0w==', 'price': 685000.0}, {'id': 'VLzmPmO0MrjryO5KONPPaA==', 'price': 545000.0}, {'id': 'seJx4kA6Qm58M5w9oQpL+Q==', 'price': 230000.0}, {'id': 'nAhzl/lpIC0qWyE6TWLAkg==', 'price': 620000.0}, {'id': 'o401Qhp9w5K30jrQE9DJ4g==', 'price': 255000.0}, {'id': 'w5EezTFMI3BgvrHHzRl0fA==', 'price': 275000.0}, {'id': 'VjVY7jZn/EaFuP6DocbgDw==', 'price': 720000.0}, {'id': 'qL8OyNaNyJanEBHCFJucFw==', 'price': 415000.0}, {'id': 'Zt7iGtW+g1IMr5FUDqDaBQ==', 'price': 240000.0}, {'id': 'w2w7qPO63cmMEW1FSm2Rcg==', 'price': 600000.0}, {'id': '5UhJSLpR/WMyYpkwuNPhrw==', 'price': 235000.0}, {'id': '9QjjYvhtdpuT/srdshWgKA==', 'price': 450000.0}, {'id': 'mDeLkASkd6EwW6toKzTXsw==', 'price': 450000.0}, {'id': 'w4AgvXp9bn9wQMgzHb3rsQ==', 'price': 670000.0}, {'id': 'vvWSQNhLecMP3aeb+o0geg==', 'price': 480168.0}, {'id': 'hHlmxag8MNFaEI2TUOXT+A==', 'price': 10089000.0}, {'id': '2ZfVCzi7dgGJEraZ1WZGtQ==', 'price': 265000.0}, {'id': 'VTfCrbTD0BJPWAsNBPwyIg==', 'price': 5042685.0}, {'id': 'DhBspY7ZCfycrDIOR/AARA==', 'price': 310000.0}, {'id': 'Seu9LtU/TUybeEYYvWn2Lw==', 'price': 1400000.0}, {'id': 'JU8/sKouL49W+5vHCWnFAg==', 'price': 520000.0}, {'id': 'quJPVhEqb7tQ1zG78aHVEw==', 'price': 425000.0}, {'id': 'c6ApRFsuq+ZwRMH6HxAwMw==', 'price': 410000.0}, {'id': 'WPfUPIEEqlRnJYjKgN8ifA==', 'price': 290000.0}, {'id': 'B6H9TCz1dkAnvsrUau6HwQ==', 'price': 285000.0}, {'id': '90CquhM/F3pRptHRbs5WHg==', 'price': 829000.0}, {'id': '2zRUz6P3ptgoPGuwn1UzEQ==', 'price': 279000.0}, {'id': 'cHIZDovqQs+5OjBQiMuaXA==', 'price': 610000.0}, {'id': 'qjFI6yqySvV/aPjb3uwo7w==', 'price': 440000.0}, {'id': 'huyV3a5SSnYkywTybYejgA==', 'price': 530000.0}, {'id': 'riezlosg9GjZU2lHezeJRg==', 'price': 1200000.0}, {'id': 'NauJfO440VnkIP0jmb/iMw==', 'price': 510000.0}, {'id': '69iXTbce32oTDHDmOhmA/A==', 'price': 1500000.0}, {'id': '99+4av6563+E5KZLyVCjQg==', 'price': 398000.0}, {'id': 'knlebLux5ydMGjq253nxGg==', 'price': 950000.0}, {'id': 'gTUi410S5IDttWBNss4EUQ==', 'price': 253000.0}, {'id': 'uKCPrcb/ihryHCjt6n5fkA==', 'price': 1100000.0}, {'id': 'uzXXzVZ5hVY/7p/Xane6Mw==', 'price': 1250000.0}, {'id': '+Xd4+xtreaigmdnvVzW1MQ==', 'price': 16660000.0}, {'id': 'kFYyO9GeycQ8k54rlabLZQ==', 'price': 275000.0}, {'id': 'muZ6ts2as72Xj4nBjq0IhA==', 'price': 780000.0}, {'id': 'y5jaoscqk65aGOOF0MHfXg==', 'price': 795000.0}, {'id': '46bTj+MRmKsQStO55ZkRTQ==', 'price': 259000.0}, {'id': '8oj0yaJeZJPWUVlk/8PIFA==', 'price': 815000.0}, {'id': '9ui1cf3LiEGr6DMqvBbR9Q==', 'price': 320000.0}, {'id': 'V0UWpw3j+zF6FnQi0uJFEQ==', 'price': 370000.0}, {'id': 'JnwILZFI3W2NsRn3De0xxQ==', 'price': 434685.0}, {'id': '0qC+9x+5duIyFulhtUybDw==', 'price': 310000.0}, {'id': '7oQkJphuhWRoJA5ODh+myg==', 'price': 495000.0}, {'id': 'jkRwsJaMqtV1Kh19nZOxow==', 'price': 2300000.0}, {'id': 'Rxs+gQzV/l8XNXiSOq2Z6Q==', 'price': 320000.0}, {'id': 'mQPmLLUVwGl6MAQUepxmtQ==', 'price': 555000.0}, {'id': '6ciSDEkY2FScI8zOZ8qaZA==', 'price': 770000.0}, {'id': 'RPfnHmLYNnBwHbI3Koqxxg==', 'price': 256500.0}, {'id': '4sme4nF21ePkWlhXZODWvw==', 'price': 500000.0}, {'id': '1thjrXKRQD5LvxRdUgZHhg==', 'price': 870000.0}, {'id': '89joXpHUHyMGxuoLgR0ioA==', 'price': 350000.0}, {'id': '3taS4hWWpe8uZ17H0tHyKA==', 'price': 590000.0}, {'id': 'fPqqm/C9MlNQ+NpbiU3FIA==', 'price': 600000.0}, {'id': 'QEPsTqoc1mCQpSUmDplCGA==', 'price': 790000.0}, {'id': '2zVigQkmTKVzQL3267dJqQ==', 'price': 1500000.0}, {'id': 'lX6Ht0l7Aoi6vxciyieECg==', 'price': 635000.0}, {'id': 'C6rUIEPSefCBB5hthhdOhw==', 'price': 450000.0}, {'id': 'lxW/evKf6o3h2L+ppErTvw==', 'price': 580000.0}, {'id': 'sJOFVnDJQ1EfhFCphevUBg==', 'price': 1270000.0}, {'id': '7xD0b2lkQ8VKtSxrS/ZPKA==', 'price': 795000.0}, {'id': 'H1No2nlHMxStGsM2K4cIzw==', 'price': 285000.0}, {'id': 'tRVP9wSpOgR66PQ9esbkVA==', 'price': 430000.0}, {'id': '+2kIazLCKvNDpp5k4JndZw==', 'price': 1100000.0}, {'id': 'HzppVRF98l/MAhCIsxsVkA==', 'price': 950000.0}, {'id': '6fk25bih0kZfGm3CYRgzxw==', 'price': 775000.0}, {'id': 'OG/cdjD0mu59IpUFlrL80A==', 'price': 189000.0}, {'id': 'SCuCpHmJFOKxXr/Ras+MGQ==', 'price': 450000.0}, {'id': 'Apg2l/JbR3zsp9ioOZnjVw==', 'price': 830000.0}, {'id': 'l0IhC4YrFEkz8ZzpUEP55g==', 'price': 980000.0}, {'id': 'QezNdBfejVENpn3hHVGPfA==', 'price': 240000.0}, {'id': '8CAHxRWsK4Y8z310wuB+tg==', 'price': 800000.0}, {'id': '1d0eWfY+9fRlZKMOvsN+zA==', 'price': 235000.0}, {'id': 'EwDShOiiXQXx+XIrUR6JPw==', 'price': 265000.0}, {'id': 'NuDpqOVNn8lUGotEknRZag==', 'price': 490000.0}, {'id': '6pXqAVhKP7qqT09M0vDkRQ==', 'price': 720000.0}, {'id': 'rsAwtUur9xbOWKltVYyRrA==', 'price': 315000.0}, {'id': 'pLS9oKunheQTJfVqJzDNPA==', 'price': 295000.0}, {'id': 'G5C/b3s1wxZMtp5A3FtITw==', 'price': 13599231.0}, {'id': 'ni9etwrtQ2oVLG90OjoEaQ==', 'price': 450000.0}, {'id': 'TuI/i/ZIErZxLGlq342n3w==', 'price': 650000.0}, {'id': 'J2d/32yYrjXspekcRpP6zA==', 'price': 295000.0}, {'id': '9AbjnUg574LoWf6r73vAjA==', 'price': 320000.0}, {'id': 'iLMcI961ebveBmzEKi3z/g==', 'price': 530000.0}, {'id': 'uLZuy4vxTG511HB5/Yn3Kg==', 'price': 735000.0}, {'id': 'l9EYtT1imVwbZWHpLdLgpg==', 'price': 5400000.0}, {'id': 'rRYrlOMGMsoxCaIuW43JqQ==', 'price': 460000.0}, {'id': '6FkI5PuQ1gpYsRsjEfSSZg==', 'price': 260000.0}, {'id': 'IXuqVpynnuU7qTpmWyW+rg==', 'price': 5770300.0}, {'id': 'Y428NOBv8KpmwZGV9MS55g==', 'price': 1300000.0}, {'id': 'B1PShElDBhRzod4nvcgcAw==', 'price': 1600000.0}, {'id': '8ai4KLSeUu3Uof+fPtrOeQ==', 'price': 275000.0}, {'id': '32WTEvP/ECNY7TB7NODCEA==', 'price': 780000.0}, {'id': 'ufh3W3Ilsa/Cj9SxxqyKMw==', 'price': 470000.0}, {'id': 'jWO5vXGlp0PkCt0wS/fwZw==', 'price': 265000.0}, {'id': 'yJ2l0Ig5K8DP8aY/l3AybA==', 'price': 950000.0}, {'id': 'zVkeV9waDborm7yfAwE98A==', 'price': 850000.0}, {'id': 'e599oQ1fdxVZ5+ksIIOwHQ==', 'price': 235000.0}, {'id': 'OrlJFGowxvC/PZAluM3qbA==', 'price': 1200000.0}, {'id': '6aQFE+z8ypLptc92fo57fQ==', 'price': 8412419.0}, {'id': 'epqALlLw0tKkwjDQveBUgw==', 'price': 437000.0}, {'id': '/YZzZVO0FNPWoRf9R44lbw==', 'price': 260000.0}, {'id': 'z2UAFV4w1McfTqkV1kJIEw==', 'price': 740000.0}, {'id': 'oDFkApVQ8vrHEE7Gfq7H+g==', 'price': 269000.0}, {'id': '42wl8Ik60osVSV6JdfarwA==', 'price': 975000.0}, {'id': 'oLDZ6qbPx7TYb3TnwMB2/Q==', 'price': 268000.0}, {'id': 'SfUjUEx2oxP7uJc7TeaFiw==', 'price': 1150000.0}, {'id': 'uOk8w+PBso8UI96CDVtciw==', 'price': 1349000.0}, {'id': 'NnmGdPdLA1R5zsWWjrm+tg==', 'price': 750000.0}, {'id': '9ODYyXLlD8hr7cUXfFwW0A==', 'price': 390000.0}, {'id': '2dZAdpikwR+pTK7k4852pQ==', 'price': 195000.0}, {'id': 'WoyjbnJZ33uGUwV8cpSXGw==', 'price': 730000.0}, {'id': '/K1X5fI7OAcl4Rk5gdtr1A==', 'price': 450000.0}, {'id': '5Nc+RQfjG6rvyMEFV+x2AQ==', 'price': 258001.0}, {'id': 'QgjRwQ01QrnV7VeTchW4bw==', 'price': 1050000.0}, {'id': 'QeeuQ3EoJu3pHDrEOaQU+A==', 'price': 275000.0}, {'id': 'R513B5GTU9wcT2atsVozYQ==', 'price': 255000.0}, {'id': '2KpJj32h1Xxs2wZ8GrEtOg==', 'price': 590000.0}, {'id': 'iyEvSvoPgh4R/6y2pdVncQ==', 'price': 740000.0}, {'id': 'cYwHumLEVDB13rTEdjWkJQ==', 'price': 480000.0}, {'id': 'ULbxYd7WFtOoeagKD/9l0Q==', 'price': 420000.0}, {'id': 'Cfcl0emTkzPsCBnq3gA+Tg==', 'price': 285000.0}, {'id': 't2fph3tDBS8JC0fDUp+XbA==', 'price': 1400000.0}, {'id': 'vEjxPMVyP6fjiAKfsWVvcQ==', 'price': 270000.0}, {'id': 'eArTcXEbg01nsBOhtTVxVg==', 'price': 590000.0}, {'id': 'PeDfIzr4mkgZ34xwj1wUHA==', 'price': 715000.0}, {'id': 'LoX7ns3iKGiL3yKNAIR3tg==', 'price': 330000.0}, {'id': 'KNeH2DanfPFJNzrAQq1xbQ==', 'price': 6965500.0}, {'id': 'o1iiYdcZJdUhpornKiWgOg==', 'price': 261859.0}, {'id': 'oB577Y7eUCj0k1XwbDblsg==', 'price': 470000.0}, {'id': '0G5JBsQBhm6uiHerYzXZEw==', 'price': 373000.0}, {'id': 'Fx/Hz5fHBUgqFEHBBNSaaQ==', 'price': 2200000.0}, {'id': 'aQ0/ldra/K46MX8FNT2N4Q==', 'price': 249900.0}, {'id': 'qOC8GdKsRD7QFnvX5O76EA==', 'price': 1270000.0}, {'id': 'LtsCGapNUZ/sHJEVboVVrA==', 'price': 760000.0}, {'id': 'dmjrSzrGqYn/8BjAUPc/hQ==', 'price': 800000.0}, {'id': 'F2qdWtH8sXmxZL3X1OYl3A==', 'price': 800000.0}, {'id': 'w33T1Cg/COdsjx+vsaxX/Q==', 'price': 295000.0}, {'id': '2mhMsYrhMZ3rF2mhQ1J7Yg==', 'price': 630000.0}, {'id': 'OE/jwAqCgDZPQso42trwog==', 'price': 245000.0}, {'id': 'AXsogHrWR9fCthLydCHY5g==', 'price': 429000.0}, {'id': 'iPgvAdDWI1OGvXUBCKAoXA==', 'price': 279000.0}, {'id': 'qCOlnPKRJQQouckIy97itg==', 'price': 16089381.0}, {'id': 'gjQZ6usCsor8IGQEiGW1rA==', 'price': 5030000.0}, {'id': 'JE/XXNb8cIMY2p6Q1aOmoA==', 'price': 690000.0}, {'id': '6F7cbLXeuG5qKP9n0CkZrA==', 'price': 10624000.0}, {'id': 'V1odEdn1vnMPBflEs+T4/w==', 'price': 830000.0}, {'id': 'P3mjaghLdiCMPNWFbXkXbQ==', 'price': 8840000.0}, {'id': 'snElaAUMXdJyf0FieP1O9w==', 'price': 850000.0}, {'id': '02Fo89bFK9cmDekcrDPQAQ==', 'price': 1480000.0}, {'id': 'm2DlcOWsLfHXfGU7NlrJCA==', 'price': 1500000.0}, {'id': 'iSxxrbYJZxMEQaAr634cHA==', 'price': 315000.0}, {'id': 'iWQpv74qzc8R7BO7sTyqWg==', 'price': 580001.0}, {'id': 'um/fJzvGOJ3IOQG3kEQezw==', 'price': 259600.0}, {'id': 'uTOWdeoxqYzT3wuaqkg+/w==', 'price': 500000.0}, {'id': 'XsI1xy3b3mrj8akjOcpjFg==', 'price': 292000.0}, {'id': 'wDfKyjyIuq/2vavahIG5pQ==', 'price': 190000.0}, {'id': 'SBB/MWX5zydekKmtPvFJQA==', 'price': 900000.0}, {'id': 'kTYucNMWIFOQJ3Def9EgXA==', 'price': 15000000.0}, {'id': 'yedVGgYw/ngtONpmgx3tsw==', 'price': 268000.0}, {'id': 'hDVeAUA3n/3qd89SSyrSHw==', 'price': 1800000.0}, {'id': 'Kq95MYFXIrz9ZVRwxT6Jng==', 'price': 620000.0}, {'id': 'KCx8y5SFk4Y1i/15oFiMSQ==', 'price': 750000.0}, {'id': '411gawpwU/lnenbxvJTadw==', 'price': 490000.0}, {'id': 'O9Pmc4q9Izz44MolRPy9tA==', 'price': 265000.0}, {'id': 'lDJj+RBGfuUYhbH5OkxuDQ==', 'price': 210000.0}, {'id': 'JNLCrYlCVtwGBKGj/XvxQg==', 'price': 250000.0}, {'id': 'wCGWyVGHrU07qv7HAcF7UA==', 'price': 830000.0}, {'id': 'jlvt6wUlLnMwduiaSFYzXw==', 'price': 17206700.0}, {'id': 'yGaZq/k09pI9HVlTtI3tsQ==', 'price': 485000.0}, {'id': 'KkEQ2oxAC0+Ds5g5R5ogyA==', 'price': 349000.0}, {'id': 'YcdnH9UaEN5u57aO3z/SmQ==', 'price': 1150000.0}, {'id': 'PS/a3YpFVKQKILTYPERGLw==', 'price': 268000.0}, {'id': 'jISOqRFk5H8IJkox70D6rw==', 'price': 296000.0}, {'id': 'YJUOMr6THnJnMunYXc3OTA==', 'price': 590000.0}, {'id': 'QRY5idVDV6Y4A4+zirhdxw==', 'price': 1180000.0}, {'id': 'sXCUGkPafn7m0xdSvM93QQ==', 'price': 8845923.0}, {'id': 'zOxDZCkQz2StEOCPm5KXxg==', 'price': 1299000.0}, {'id': 'tRWI0ZJ7KHPUnDVHAAqyMw==', 'price': 486000.0}, {'id': 'BKwgqDr09S1pV2PXnuJ7cQ==', 'price': 255000.0}, {'id': 'XoZaAfc6cNg8ehh5zQ/fXA==', 'price': 430007.0}, {'id': 'M0tP1Q0CxtoyHw76KnJ8bw==', 'price': 850000.0}, {'id': 'C88hjObOl5rN1bUDyb7/gA==', 'price': 860000.0}, {'id': 'zpmJcUfpuOs1YbJpsAfT3w==', 'price': 14899000.0}, {'id': '5JTHwapt3ki5mfAQHVhEcg==', 'price': 245000.0}, {'id': 'tUjcRiu7BJGE0lhBTehn8g==', 'price': 720000.0}, {'id': 'DNXb5i+X03C/tFwhLCv/FA==', 'price': 480000.0}, {'id': '5BRcuOexdvsj5l/Qfo/qxw==', 'price': 420000.0}, {'id': '0Xb0p75+KO50U3I8cs1xQg==', 'price': 1200000.0}, {'id': 'rbbrmER+7DOJU1smDbsjoQ==', 'price': 5700000.0}, {'id': 'P+4Rm4IncBya08BZAFAFtA==', 'price': 495000.0}, {'id': 'qYrZV3H7k0C6dB/3o14PuQ==', 'price': 450000.0}, {'id': 'x0mgs7MMn6l+sYfo8X6r5Q==', 'price': 567000.0}, {'id': 'rhdppv9MnHqCOCXlyiogag==', 'price': 2500000.0}, {'id': 'huXjKcE+Uk7PiFQamWpmMQ==', 'price': 360000.0}, {'id': '26uMzCcll54AF7TdMB71+w==', 'price': 440000.0}, {'id': 'ahAvqp+DiMOTKs/DYF2fOw==', 'price': 1410000.0}, {'id': 'YXI/bSe9UpDtQ810DinLVQ==', 'price': 16660000.0}, {'id': 'WPuMO5UMS4JSnpnwOYrUCA==', 'price': 690000.0}, {'id': 'zz2yaGBJzvhd8Sn7lVGFTQ==', 'price': 275000.0}, {'id': 'RmyMWQB2GKTRF7GIiMqmuw==', 'price': 830000.0}, {'id': 'BRPQIzmwPpo97DFQprpMJQ==', 'price': 275000.0}, {'id': 'I7P0rLdvxGYu7vDaoFqH8w==', 'price': 290000.0}, {'id': '/FUIIMi1LOoGHpxk9vL0kg==', 'price': 980000.0}, {'id': 'BTVjNkW/QDvHRlUFqUJ4yQ==', 'price': 250000.0}, {'id': '1WPZI4i4GxTPp9emxQRVqQ==', 'price': 700000.0}, {'id': 'gecF+qdHqIiGISqiho29Xg==', 'price': 650000.0}, {'id': 'LAUUGA3cYauOBlZb76VDrQ==', 'price': 590000.0}, {'id': '33CMxRfp/p04J3s9AFp7ew==', 'price': 9781000.0}, {'id': 'zt0JSz6FWsVV5U3HZYgNOQ==', 'price': 750000.0}, {'id': 'Li1Nokfi5oGaVgXcLr+l0Q==', 'price': 357500.0}, {'id': 't8jFqIC847g+LofDQzt6ig==', 'price': 580000.0}, {'id': 'HBvwupKkB874P0yAa7jjXw==', 'price': 2500000.0}, {'id': 'F6uqs4YtNC5G0eO4XUKg6w==', 'price': 420000.0}, {'id': 'LXlbWbN/27J883i0Bq9wCw==', 'price': 1280000.0}, {'id': 'yFZda5Y/F9wjTVs5Zsd8KA==', 'price': 460000.0}, {'id': '3i2DcNEuj4qy35lhPXScow==', 'price': 660000.0}, {'id': 'kjeskLaiAFCFlkQhFVUVmQ==', 'price': 460000.0}, {'id': 'Tift2K/Di4XriQ2fz4oHXA==', 'price': 3800000.0}, {'id': '3/XsrymWbNlm1du+vzUmJA==', 'price': 250000.0}, {'id': 'yEmA/xdX9Ly7WltZC6b8tA==', 'price': 2500000.0}, {'id': 'jePJJG/RMrM9M/COW7hAQg==', 'price': 430000.0}, {'id': 'gavRKCsFqEFnbhqLKBf43g==', 'price': 1200000.0}, {'id': '2+9lTqTosJj0kaFnFrkH5A==', 'price': 200000.0}, {'id': '4+yEURbDqfRvBq0vv291Aw==', 'price': 6350000.0}, {'id': 'aUDtEQ408of9jrx53Sdr1w==', 'price': 250000.0}, {'id': '3n9rFFSiR7ji1D16cM64Yw==', 'price': 690000.0}, {'id': 'lH/dXhKNkqKIE49BuF+QRw==', 'price': 300000.0}, {'id': 'VJXazbMwEVzWv/G5aNQZmA==', 'price': 420000.0}, {'id': 'aEvg4GFKl7mZ7w68ezw3Jg==', 'price': 790000.0}, {'id': 'HTxA70eLXG7FDiv/F/zZBA==', 'price': 480000.0}, {'id': 'b1O1pnr6kd77J0SClp8Nvw==', 'price': 260000.0}, {'id': 'LervbpGwTyz2r0LgzyTM4Q==', 'price': 398000.0}, {'id': 'Z3CjfExxn7R1xoj2SO4Kxg==', 'price': 240000.0}, {'id': 'FpXiQJbFLgwFyYb/zI8Esg==', 'price': 265000.0}, {'id': '4hvgcISd9dLPkzV9sk0Prw==', 'price': 1800000.0}, {'id': '4vxcPvF1zwJ900m0nnkGxA==', 'price': 8640204.0}, {'id': 'n52EfP9VJiVpSoyytzWF9g==', 'price': 390000.0}, {'id': 'zDoLBFDBAOTe8tVggwhhjg==', 'price': 595000.0}, {'id': 'orFaG+taXlFEImdbBbyBdQ==', 'price': 280000.0}, {'id': 'kAEToxTatdRrNG6aMLyW+Q==', 'price': 299000.0}, {'id': 'zg+sDcJx82+2+WVkJ1jg5w==', 'price': 6485300.0}, {'id': 'I4PuMWLfz62HfxZjVGSeqA==', 'price': 540000.0}, {'id': '+0QqPssLOj1n5mO9aeaVdg==', 'price': 450000.0}, {'id': 'X197vyuRoHk+Gy89U+CVvQ==', 'price': 980000.0}, {'id': 'PcvCoL5fRwpmhCWVFZBk2Q==', 'price': 930000.0}, {'id': 'Lp5qc6KSMorBD0H8By5lsw==', 'price': 420000.0}, {'id': 'MyKDOj9Bg6HrCQWvR7iibA==', 'price': 7189000.0}, {'id': 'Tq1bzxNsIIhD/U7Ag32ATw==', 'price': 1000000.0}, {'id': 'liiLDjZIvIeyGMNF95DEnA==', 'price': 395000.0}, {'id': 'jjXnXJswjjHwSU7q2yt4jA==', 'price': 250000.0}, {'id': 'yvDt9KfGw1ARSMvNUcfD8Q==', 'price': 970000.0}, {'id': 'jEUoKQ62mdzpAGpkNTVwIw==', 'price': 610000.0}, {'id': 'lg34qnXPzwOAy+zmS6uIKQ==', 'price': 6467000.0}, {'id': '+PONuJlL0sQSyNyN1mkZOQ==', 'price': 540000.0}, {'id': 'FkuRNxCFAztrfYT/dpNV+Q==', 'price': 370000.0}, {'id': '5PElP3Ocd9X/gMjXZNZ6lA==', 'price': 240000.0}, {'id': 'UoMDnFhFvYKYhqUmita/Dw==', 'price': 9478599.0}, {'id': 'ZucaFUe8S3g/t4vWkbHb2g==', 'price': 240000.0}, {'id': 'BV7C1gf419jyI7D1VbdIew==', 'price': 260000.0}, {'id': 'tBCuFyluGMKJr8JDSxLfWQ==', 'price': 470000.0}, {'id': 'iaHKchLUHDx843LCfNGHEA==', 'price': 670000.0}, {'id': '5xnHiFRk9C6jyWGAYsjy7g==', 'price': 8000000.0}, {'id': 'xLlm+olZC9XE/cr3goLwHw==', 'price': 360000.0}, {'id': '5Pv4/Q/PIMM6qUUyIQqiOQ==', 'price': 645000.0}, {'id': 'rc4u/7scdUi4JAei/AktfQ==', 'price': 500000.0}, {'id': 'xAZkCI3ybOsO1foovtIwXQ==', 'price': 270000.0}, {'id': '5B3Ar+9mMsMQtLgQxwJ2DA==', 'price': 4425359.0}, {'id': '0Td91w8AUdyYHkaUbID2/g==', 'price': 490000.0}, {'id': 'LkNoCB3srwWAl1dVDbrYJw==', 'price': 780000.0}, {'id': '6vyNSWvNooXVq4aw+4x4DA==', 'price': 250000.0}, {'id': 'bfJ/qUV30Hr12PEHlraqxQ==', 'price': 1655000.0}, {'id': '06lwIbvNFqiPBs94SV2jqw==', 'price': 880000.0}, {'id': 'LtsMAbIixVFybJP58R7aPQ==', 'price': 390000.0}, {'id': 'ZEUONtr7RXPXq9C1bIpUlg==', 'price': 359900.0}, {'id': 'JEEZ7FQTe0Ao4gGTHuwdFQ==', 'price': 460000.0}, {'id': 'TkmE+b3ZzsFOW1WM6E5/JQ==', 'price': 2000000.0}, {'id': 'lllz1C3E2gJNudCxJZvNFA==', 'price': 270000.0}, {'id': 'oLWvD5sxaQzrtR7NJ9K+cQ==', 'price': 10660000.0}, {'id': '+RPLKDn0vafvAjwghjGOmA==', 'price': 1520000.0}, {'id': '51rBoGeUbhtZ+rTCpcfc+Q==', 'price': 298000.0}, {'id': 'UvrQOrcOjHTVLYISjosbjg==', 'price': 2100000.0}, {'id': 'j2Iqm/zDfApGq471JTN8Mg==', 'price': 380000.0}, {'id': 'f1totVjSCWW1THl2dZYugg==', 'price': 4500000.0}, {'id': '5P0mTqT3EYIrENBXcBJTBw==', 'price': 980000.0}, {'id': '7otUKxTBtUntG0RfB7qEsA==', 'price': 649000.0}, {'id': 'u9OjAAyGG3sNHsTmFycchQ==', 'price': 669000.0}, {'id': '1vhmrsSRmCAt6R2pnpgOdg==', 'price': 450000.0}, {'id': 'z0XfYnI2CWYjrsIeGCCn0g==', 'price': 2200000.0}, {'id': 'H6bVFP1lF6e2gkVQLUFhZQ==', 'price': 230000.0}, {'id': 'RMXxf6kq/Y3pAaefpfbHWg==', 'price': 270000.0}, {'id': 'sdDezlG0RJ+sTOKeWWyDmw==', 'price': 5700000.0}, {'id': 'Lb+7j7tY+0wOc88SkEUVPg==', 'price': 42588000.0}, {'id': 'tLQ7B4AG6MERaEPyTQwa4w==', 'price': 423000.0}, {'id': 'qZn7etr/hRcq0yYipCyyDA==', 'price': 275000.0}, {'id': '20xYiIAB260cGNHJKBvfAg==', 'price': 21673000.0}, {'id': '6eSFxl7h8TAOY2L8U3HJ7Q==', 'price': 1300000.0}, {'id': 'LMyvO29qb99Mjn3iDMrrPQ==', 'price': 420000.0}, {'id': 'AW50jPDbUGQW01F2QvaLEw==', 'price': 5125926.0}, {'id': 'ywjF+ApR6biVD3Bymr/LRg==', 'price': 17287352.0}, {'id': '2aC9VTMS3qi4uj6IpO/vhA==', 'price': 250000.0}, {'id': '6zuE9NdezXTNJx13LR/sqA==', 'price': 349000.0}, {'id': '/Eq9/vp7Qju4lOpfB6GSig==', 'price': 550000.0}, {'id': 'biTQwGtoRoiKVeSRJuLUow==', 'price': 550000.0}, {'id': 'uKPTjBI+ThCuwj0sELZnXg==', 'price': 9350000.0}, {'id': 'LBpO2tPA70mL1Ol/FKAiiw==', 'price': 970000.0}, {'id': 'mEG1/H6IMUoZ9LSQ2x9BiA==', 'price': 290000.0}, {'id': 'LiCy3RHoHgo4XfZZ5hvsWg==', 'price': 953000.0}, {'id': 'rhB5JUrL+dhCSuL4NbDtFQ==', 'price': 610000.0}, {'id': 'Mwlpi3V41gKyJkL7Qbvflg==', 'price': 260000.0}, {'id': 'yEZCJ14Ms/TzfWqCNi7gwQ==', 'price': 460000.0}, {'id': 'Wa4G1YOd1lS2b75FXWBf+g==', 'price': 350000.0}, {'id': 'UsKMHlJg/xuFT9f1A5VCnQ==', 'price': 340000.0}, {'id': 'iLcYtvRSaarcRJp6vhY0DQ==', 'price': 570000.0}, {'id': 'hOxEBwvW6UIvqMUnPmoxkg==', 'price': 2100000.0}, {'id': 'hLotovO5l4tpY6azNh3GmQ==', 'price': 450000.0}, {'id': 'e/CNoOUpYjDMxduKOwsenw==', 'price': 650000.0}, {'id': 'quOq/KB+ytVzl1tei8dtNg==', 'price': 2600000.0}, {'id': 'xJiW8Q/pAGfT8ZiyR5mO3g==', 'price': 920000.0}, {'id': 'tBCdyfCnO8VF2yRwSThJcA==', 'price': 250000.0}, {'id': 'EtuWFZYSC+b1fEQiUBKJ6w==', 'price': 940000.0}, {'id': '1RE4ga2Vi1u4QNft/O9e8g==', 'price': 345000.0}, {'id': 'iAcHwjBxAICnx6t0ESCkXQ==', 'price': 750000.0}, {'id': 'mcvPlJjhBU8O8vnrEFg6cA==', 'price': 1650000.0}, {'id': 'yRq1kAb0uhDjhta0hs7Pgg==', 'price': 300000.0}, {'id': 'HDhRL//J4z5SBq4oNUh95Q==', 'price': 525000.0}, {'id': 'x6TYz0h154WXRz64N6Nk9Q==', 'price': 620000.0}, {'id': 'G1JFLssJkbtf7Imp0/09Wg==', 'price': 264000.0}, {'id': 'zLtzvhuoDIEY9tlykpzYTA==', 'price': 360000.0}, {'id': 'n1rU/J04Vquc4YEauWGPBQ==', 'price': 290000.0}, {'id': 'D4HiVxaMYwL5JsIiArecVQ==', 'price': 248000.0}, {'id': 'pbYFpGRpLT8+6HRI2Idokg==', 'price': 680000.0}, {'id': 'XDizKYO58OMWzgBilC+/MQ==', 'price': 395000.0}, {'id': 'kvvaQDiryyzH5AYpGvDu9A==', 'price': 2300000.0}, {'id': 'mSrN830U9MpIHQ/RiD253A==', 'price': 1100000.0}, {'id': 'zw+Oa3c6tDKOJ1h62wbKbg==', 'price': 10963222.0}, {'id': 'NMR/wKu66guxZXLBNO46UA==', 'price': 1480000.0}, {'id': 'SGA6aqbv3gT5UchbkuWw1A==', 'price': 475000.0}, {'id': 'Jz0KF8Dr4/Oq7kAByTSjfQ==', 'price': 242188.0}, {'id': 'vMO0NAkkU5SLV7/A/9dR8Q==', 'price': 550000.0}, {'id': 'LmZtjdL0/tLXdxt+O0pZvw==', 'price': 450000.0}, {'id': '246EuPa4FJvlRwJ85/u/gg==', 'price': 1375000.0}, {'id': '75jFlfZjtrk5FKgd1nY0xQ==', 'price': 470000.0}, {'id': 'Qa7HIFtIm7xelcQK8FCVkw==', 'price': 192938.0}, {'id': '1aQe3ooM71E2VFxYF/Wa2Q==', 'price': 1000000.0}, {'id': 'KdiuIw3U4suYGvIpF+2MdQ==', 'price': 240000.0}, {'id': '00BzqwgKJMAcx3iam25xZw==', 'price': 530000.0}, {'id': 'rLZPLHXep320QGPbvPp6fw==', 'price': 2490000.0}, {'id': '86ge3T0pKpnlMT2miUJnFQ==', 'price': 349000.0}, {'id': '/nWHSoZ+zfH7iIa+duF6Ww==', 'price': 2600000.0}, {'id': 'vl/W+PhESM5Utg4OL/wQ9w==', 'price': 480000.0}, {'id': 'iRCurXe/zrh7+qYT6jCUmA==', 'price': 1200000.0}, {'id': 'tw7TAqBJahf02/8wQifGow==', 'price': 278000.0}, {'id': '8i8AIxD+0qwHxYGMmKsYLQ==', 'price': 920000.0}, {'id': '9Jayie/HSIUgak1NHxpSQg==', 'price': 325000.0}, {'id': '6vbsbNBRKO2RdwJZv8rQaA==', 'price': 235000.0}, {'id': 'lH01ZuirTLKvuNWezwTbnw==', 'price': 315000.0}, {'id': 'mdS7X5eBwzxUEc1wRHo48g==', 'price': 13770000.0}, {'id': '5YrZjR4c3oium7craaYfOQ==', 'price': 250000.0}, {'id': 'k21KKpLeX2FQn8G0hxZLBw==', 'price': 370000.0}, {'id': 'xnsA5UQb2HQFH9IQZ5WUjQ==', 'price': 235000.0}, {'id': 'NBO44ZF90iIW0YIrqMnGnA==', 'price': 299000.0}, {'id': 'RMq8Nf/vtHG8EQqvI4eXBQ==', 'price': 235000.0}, {'id': '6zD3AzYVgVJCvuYYl+TyyQ==', 'price': 900000.0}, {'id': 'hhAsQTAwxK1DijkINVhZjA==', 'price': 590000.0}, {'id': 'liZNFn0eZwRiKuCDlwufAA==', 'price': 1590000.0}, {'id': 'o9hmYSKC/wZmzFlookIb2g==', 'price': 320000.0}, {'id': 'jAt1cC+zgpk/fb0gcT0gbA==', 'price': 1450001.0}, {'id': 'Yqa6SO2cMrObv8BtU0/KsA==', 'price': 595000.0}, {'id': 'VtX/5TbfhFzER7P+RQLM6Q==', 'price': 590000.0}, {'id': 'Y9RUcHvFHlWP3w043vENCA==', 'price': 479000.0}, {'id': 'xtjRvZYjr6Jf49dVFfdUiA==', 'price': 660000.0}, {'id': 'Vg1HwE0RhbuGT6LIwfBPuQ==', 'price': 280000.0}, {'id': '0QVhF3QY9wRrQrTGVjzxGA==', 'price': 895000.0}, {'id': 'cSNxU9T1qmDhwHWadY5SGQ==', 'price': 770000.0}, {'id': 'TqzhwXw/wtBRTh8oSDODDg==', 'price': 257000.0}, {'id': 'JdZdBjYV4S3U+S8ABdSCQA==', 'price': 640000.0}, {'id': 'KI/72LS4ifGJVKKh2Mvb5Q==', 'price': 1100000.0}, {'id': 'w8ktopYOb2NPLhWJbJboXA==', 'price': 300000.0}, {'id': 'Uqv7JBDxvfArMsYPr8iOQQ==', 'price': 275000.0}, {'id': '1gnpLLSYVSjSeSrucKeBtg==', 'price': 1300000.0}, {'id': 'OetME8Y0NFw7nJPjepZcfQ==', 'price': 259000.0}, {'id': 'iEak2HGMsljWqxEsi18FhQ==', 'price': 269000.0}, {'id': 'FiKy1M2WB+FkZFkExAFbkw==', 'price': 298000.0}, {'id': 'YZ3n8clY0C8l04mVPmogdQ==', 'price': 9848686.0}, {'id': 'el89JIHTepglRYRZCwauMw==', 'price': 635000.0}, {'id': 's+oRrDhsSweX6QsdCbpyMg==', 'price': 14199970.0}, {'id': 'sCJ5pCU2Vksc61EKgdbcKA==', 'price': 620000.0}, {'id': 'eljBO7Co6MswQb6pyUDFQg==', 'price': 17700000.0}, {'id': 'SfbbsUUl1pn6MZQ0SPQK4Q==', 'price': 490000.0}, {'id': 'nMO1/4MSIlHHzjuJab4Iuw==', 'price': 490000.0}, {'id': 'c11KHiSkfz0YoMbMgtQ6Og==', 'price': 455000.0}, {'id': 'MRlwv6imGqThvhiZGh2LxA==', 'price': 53782475.0}, {'id': '371oAfOVU2OJlJ8v+kJRRw==', 'price': 2400000.0}, {'id': 'ESF6ClRjmjSovyCyWrLpPw==', 'price': 354500.0}, {'id': 'AcIh3IDlGIwTh4C1882BBg==', 'price': 1600000.0}, {'id': 'Ge9oQ7IZwb0Y4IWcPS+Ijg==', 'price': 850000.0}, {'id': 'px+aLjVMhyX10QMPhgpHOw==', 'price': 250000.0}, {'id': 'WOV7hf9fHSiQZUF3mNsPaQ==', 'price': 1090000.0}, {'id': 'gNLv//fzLrP8Q9WMfW9JBQ==', 'price': 3000000.0}, {'id': 'ned99Gkb1jlJ9yY3TVn9KQ==', 'price': 465000.0}, {'id': 'EArFrizNcJP5B6r4MVqoMg==', 'price': 480000.0}, {'id': 'jKUcfjMlY41LTjEyRys4+Q==', 'price': 2950000.0}, {'id': 'LXiai0XaRVZ38+VE+mHkFw==', 'price': 240000.0}, {'id': 'MvACnFGLnTmJdCeedobq/A==', 'price': 482431.0}, {'id': 'L9rbw/S8Dli4RMFJQ16ovQ==', 'price': 450000.0}, {'id': '6RiuGff+IcF9+Pc3Ay66Rw==', 'price': 2900000.0}, {'id': '4aXNGNXdM3erPx7QoxZINg==', 'price': 13920077.0}, {'id': 'gXNeZIp2GPocAQqfqnKBJQ==', 'price': 10725000.0}, {'id': 'mOx7dcpLs94hVc2z42rAnw==', 'price': 950000.0}, {'id': 'lINKrnLl3fwBuoXEciHdsg==', 'price': 3500000.0}, {'id': 'v7aFlcydc8Yhvy1E0mQndg==', 'price': 540000.0}, {'id': 'lbly65mfQGuFoIDyWlyx+Q==', 'price': 1900000.0}, {'id': 'JzP1jdfzkI9cSJaYURJw9g==', 'price': 190000.0}, {'id': 'cHJCdHqpbqGKBxlBZgrE+g==', 'price': 500000.0}, {'id': 'BO4AadwUz9fwP+dxRtbPzA==', 'price': 490000.0}, {'id': 'jcL+4lstvhv/9PU3W8L9VQ==', 'price': 15950000.0}, {'id': 'evQaBDzJmBvDdAawG9/RBQ==', 'price': 720000.0}, {'id': 'SgS63yMtX+sg8cmqEXGPRg==', 'price': 2750000.0}, {'id': 'nKY23tTUAS+Jp+OFFJFyaw==', 'price': 950000.0}, {'id': 'DUqiq5mbzaogUKQv1YpjqQ==', 'price': 420000.0}, {'id': 'HeneLyIHrf6+bmjzUhiSQQ==', 'price': 1390000.0}, {'id': 'UXYtIzdnFvZxva6d2D+u5Q==', 'price': 220000.0}, {'id': 'EeDiVLPoYWJ+NIrIBWpdUg==', 'price': 595000.0}, {'id': 'AJUILFM+PCeEoG5mo3EchQ==', 'price': 260000.0}, {'id': 'xSAmTZg0RsyEmLbbkAoJIw==', 'price': 590000.0}, {'id': '4UdZoZq5h6KpOnDw7TLcRw==', 'price': 1350000.0}, {'id': 'MvMXzQTiMUQObSXq0qo31w==', 'price': 800000.0}, {'id': 'xJ4E9fleGE+uLNUstJ5bRw==', 'price': 2490000.0}, {'id': 'hiDSOzwW6ut4xfeRUC0Caw==', 'price': 1400000.0}, {'id': 'h1Zy0DkEKWH9k7IX8F5fNw==', 'price': 890000.0}, {'id': 'BC26ziJZQ3eAzxiBOR4pxw==', 'price': 630000.0}, {'id': '3w6ckSFQ8C6RbRnAXujGlw==', 'price': 630000.0}, {'id': 'CHPJbbvEAHYB5zi3OnEuDQ==', 'price': 280000.0}, {'id': 'sBKfIFPMiCda/UxyGqLeNA==', 'price': 546000.0}, {'id': 'vXt4Cav3CYfn2zsDktBDtQ==', 'price': 599000.0}, {'id': '212dzTDRhPYupFpwIacH1Q==', 'price': 29189000.0}, {'id': 'bnA+i2HXCuCKsd+r1AzP7w==', 'price': 980000.0}, {'id': 'IkStMpa5qU5A6C6h2WtKKw==', 'price': 850000.0}, {'id': 'oojpLGBdV16o1OGm3nHelg==', 'price': 320000.0}, {'id': '/HDwPm7bU2hzLJ6jT/mVXQ==', 'price': 1100000.0}, {'id': 'yzl9+RYyWcSY3/1LXNxjQg==', 'price': 998000.0}, {'id': 'uf6PnLS0nJuPPGlNdyMREQ==', 'price': 680000.0}, {'id': 'MDgfuPRS5ncaI0Dj9vaUdQ==', 'price': 460000.0}, {'id': 'pL7BWik4dnd0GN+hAAVICA==', 'price': 850000.0}, {'id': 'MTUz89N0VxbCHf2qKWz0oQ==', 'price': 495000.0}, {'id': 'T5pVRaJ8FVe0ikUv54MA+Q==', 'price': 1050000.0}, {'id': 'm80mgpxCUd7qgWKerRXyTA==', 'price': 565000.0}, {'id': 'rt6doXHrPJy03qXg3Rqqfg==', 'price': 1050000.0}, {'id': 'lWt1auADKVuNIwcIcZO1mg==', 'price': 270000.0}, {'id': 'V/hd4lBZaauxRFyL4Xg/Hg==', 'price': 420000.0}, {'id': 'yZUtdicLOKC0mNCEU66iTg==', 'price': 1100000.0}, {'id': 'CZaNYzwZjcpBdRhtR3A0Zw==', 'price': 860000.0}, {'id': 'd6XV1m7d8vQ9aLZQemEVvA==', 'price': 890000.0}, {'id': 'k+FWQY6RdvfDGY1F+GZSlA==', 'price': 425000.0}, {'id': 'cP1j6TOtk2h3b2drnnS8cg==', 'price': 550000.0}, {'id': 'PIRgy6YX8mDqi6vv3DJfJA==', 'price': 560000.0}, {'id': '7wQyraDFeosdn2urv8p/uQ==', 'price': 250000.0}, {'id': '1KoWteTBjj1VjygTB2cQNw==', 'price': 430000.0}, {'id': 'GibpLTR2lZoyCSDiV/eWmw==', 'price': 630000.0}, {'id': 'hfc15BBRB74+H8BESdBEJw==', 'price': 240000.0}, {'id': 'FuxgvLuV09rwTHiAUDuJ+Q==', 'price': 239000.0}, {'id': 'jT5vjR5NcwPiVaQGz/qAkg==', 'price': 2000000.0}, {'id': 'JdqPVW/KJYWbdm1gRjRkNQ==', 'price': 545000.0}, {'id': 'cTFXOq1CRf9yWrHXmuC4/A==', 'price': 420000.0}, {'id': 'F3RcPDs4Pbjc03veIefSRA==', 'price': 1060000.0}, {'id': 'owuMq8QEyDu7Stn72cIbgw==', 'price': 240000.0}, {'id': 'jLE52N0kqIdYDIrKHfFOXA==', 'price': 260000.0}, {'id': 'eVUBNAarDbo89SmaDT5IRg==', 'price': 499000.0}, {'id': 'JM9zXuRcR2W4DGYYz2AKZQ==', 'price': 510000.0}, {'id': '3RIqFC0+W+nipl6ejrVE3Q==', 'price': 1200000.0}, {'id': 'XkrOmT6V2c8om414MWQx+A==', 'price': 13327733.0}, {'id': 'IHRV8EUCgjha3cdotBj4FQ==', 'price': 555000.0}, {'id': 'myOgI1tHspboNC2/LAORgA==', 'price': 430000.0}, {'id': '/gWDpUnOyKagRl8lttE1rQ==', 'price': 720000.0}, {'id': 'vObGotVmnp+z+90pp59o5Q==', 'price': 520000.0}, {'id': 'vder0rmM7UJBKHYu+SSfug==', 'price': 780000.0}, {'id': 'vbPHOFDWuIXiEG11dd7pGQ==', 'price': 360000.0}, {'id': 'ItZZZEU8VOuNgznDx7RCVw==', 'price': 690000.0}, {'id': 'rqKZjh53T6bb5RduaHp2CQ==', 'price': 1200000.0}, {'id': 'pFc/GYwwEsTUfXMXMmgMKQ==', 'price': 203000.0}, {'id': '03LbbcFapIkkzMy9mGBmww==', 'price': 10232340.0}, {'id': 'AEkOYA/oBCWm+0e/0eCqag==', 'price': 294455.0}, {'id': 'JJB+AB78sif4RQ+ynI0sUg==', 'price': 4000000.0}, {'id': 'pcX3oNiRk1fLHZVDWRywGA==', 'price': 750000.0}, {'id': 'LzvKaGj0fHLUSwNNp0qTnQ==', 'price': 1050000.0}, {'id': 'gy5J/LZcZVIJ7MvyCyKsdg==', 'price': 2190000.0}, {'id': 'Y+AdGwaRWMNo/3nh7yrL+w==', 'price': 1650000.0}, {'id': 'ulK2/RmIINk2BF7xCvu5bw==', 'price': 360000.0}, {'id': '4voNFrDgKYm4KtWmPkWHdA==', 'price': 630000.0}, {'id': 'OBE6BiUAWc9hB5C/lOKJCQ==', 'price': 7764120.0}, {'id': '8eULP6gP6JF9aoKYLUO83A==', 'price': 590000.0}, {'id': 'M1kh1K5eE3+V7GkIVka7Zw==', 'price': 440000.0}, {'id': 'uOZUqyw1eBw1NfIByBkUYA==', 'price': 245000.0}, {'id': 'N56lPW26tQZUIlXteqPTEg==', 'price': 485000.0}, {'id': 'NeLicAsr8ZpM9MUiXIK8Ng==', 'price': 250000.0}, {'id': 'LxlwVqeupYBfs5Srx4O+sA==', 'price': 1090000.0}, {'id': 's9EMHYVdgc/+ALq8kErnpg==', 'price': 2820000.0}, {'id': 'v5HkqDd5n5zhv2O8FMI5lA==', 'price': 565000.0}, {'id': 'OcpBTrteadAU6UEYfwhXCg==', 'price': 545000.0}, {'id': 'QRSF6yvd2b7VaJAd4ltMXA==', 'price': 250000.0}, {'id': 'ZEPKdjO8+P1BZrwccmR1Yw==', 'price': 65000.0}, {'id': 'xoJrigatHg63z/BTuid0nw==', 'price': 295000.0}, {'id': 'LJLYbneCyUVmIuj51FSDbA==', 'price': 390000.0}, {'id': 'WMvpHtEVfcUuiV3P8HG2Qw==', 'price': 8448317.0}, {'id': '34mSYhb1DCOrXfXRvTdI2A==', 'price': 885000.0}, {'id': 'KtkL5w7kf7rscRwHSMTD3w==', 'price': 530000.0}, {'id': 'xniQ5t1/VuBnIYPY80gvoA==', 'price': 1200000.0}, {'id': 'M2GWB0MB0qV4vMWjbwO0HQ==', 'price': 1200000.0}, {'id': 'UHS3XjQ0n75ySe4MIID6hQ==', 'price': 530000.0}, {'id': 'ZbkkhINLGStb0fmfcsQ2eA==', 'price': 620000.0}, {'id': '3AC2DeKN44Vx490ZvHrVPg==', 'price': 330000.0}, {'id': 'JG2CHc/iEA9iqULAR9jz3w==', 'price': 250000.0}, {'id': 'cmTwc9R36CjEnKeg4Vvrsg==', 'price': 600000.0}, {'id': 'QLqgzb0z3lGvs+hUIKuhhQ==', 'price': 445000.0}, {'id': 'NrPlcFwIBWChWHgE2kPZ2w==', 'price': 1400000.0}, {'id': '04dRa4ejFuxHHkmfLhjyNQ==', 'price': 660000.0}, {'id': 'zY0TFhDCK4zuXePO7DwtZQ==', 'price': 348000.0}, {'id': 'vODVwCnEA0RgAEvM56aszw==', 'price': 575000.0}, {'id': 'FXxSmzbHNe11ad0UWiEh0Q==', 'price': 550000.0}, {'id': 'M5Amml3elfP242Y+a2vQhg==', 'price': 219000.0}, {'id': 'QFwZG/sBazrx0Zc/iuO5ew==', 'price': 595000.0}, {'id': 'lUBKLsp6Tc3MqtS5ebRrVA==', 'price': 690000.0}, {'id': '23iehorQw4xDlVxHFUQ2/A==', 'price': 1400000.0}, {'id': 'IpSwDF1l6j5YRRHZt8hotA==', 'price': 390000.0}, {'id': 'QlR33MWqnu8Ff4Oxc61zEw==', 'price': 270000.0}, {'id': 'zxaJX/re3N4iMuSQD/4JoA==', 'price': 750000.0}, {'id': '8AAZlHqaL++Bf7rbYD694A==', 'price': 560500.0}, {'id': 'EP3MglZOwJDLyCn3OTFSpA==', 'price': 550000.0}, {'id': 'Sj/gkhUaOzgTklwFkP7Gjw==', 'price': 1300000.0}, {'id': 'p2XWxe0PQwOJ88w5Wh2Hbg==', 'price': 5050000.0}, {'id': 'nEYlcwyb1MYdD2+ADkcrCw==', 'price': 890000.0}, {'id': '4zf86v57U30XvGDfPtPCRg==', 'price': 300000.0}, {'id': 'c0wkZ1Q3gfZlQDn2P/forQ==', 'price': 5793103.0}, {'id': 'r/0EkYqNkgD9m6mYfrHMfw==', 'price': 540000.0}, {'id': 'IQ2c3YRKtz1T+qCP+9lCVg==', 'price': 266000.0}, {'id': 'TI0indBc0hKxu0D9mHmmKA==', 'price': 830000.0}, {'id': 'QEcpNptOQVA3FOgTRANQIw==', 'price': 3300000.0}, {'id': 'wayUJq36Jd230yD/I0RvFg==', 'price': 1490000.0}, {'id': '5XfdxXm7lCamJ0Ub0Ige7g==', 'price': 212000.0}, {'id': 'iPA5/+7QibadmOOD00DdVg==', 'price': 700000.0}, {'id': 'Q1yMTs2Fx2xGjIoLZ2OxjQ==', 'price': 10677800.0}, {'id': '4HH+yOMmIchPh9K3NuoLsA==', 'price': 830000.0}, {'id': 'IEA1hahne/eThwXiOoAnOQ==', 'price': 2100000.0}, {'id': 'YdPlsRcwImEXjERq0xgCxA==', 'price': 180000.0}, {'id': 'aLt1EVKOayEhqQ3HiGcsOw==', 'price': 590000.0}, {'id': 'k6L6mIPf+rYlgNB/cYa1KQ==', 'price': 12655000.0}, {'id': 'X8y9/aJBBkWpV/do0sD6jw==', 'price': 245000.0}, {'id': 'RhlKUew5/X+6dn6t0qlKTg==', 'price': 550000.0}, {'id': 'T+5y6xdwX5i8vEnRfU6Djw==', 'price': 530000.0}, {'id': 'tAp52NpIfk9le5qKThq1TQ==', 'price': 419000.0}, {'id': 'JfGEccLJNLY0DmaLg8MIhg==', 'price': 398000.0}, {'id': 'a59edSu4IspDCOV3YNEBvw==', 'price': 7300000.0}, {'id': 'PJq+Yh8XPfo/VnJ7AIN6Zg==', 'price': 435000.0}, {'id': 'TrHqGSBz9fe/1BDHHifoVQ==', 'price': 670000.0}, {'id': 'BKiPAYXFG0kTrfH4U3j4ow==', 'price': 440000.0}, {'id': 'FKQJQimCT4pmmHbXxWQpkw==', 'price': 7730121.0}, {'id': 'grSn9o8wQed8eiXjmXASjA==', 'price': 278300.0}, {'id': 'U3F7cS954wOK8CuqAPP2Dw==', 'price': 323000.0}, {'id': 'GNpSfTo4eFeIdvDy64ShoA==', 'price': 2700000.0}, {'id': 'Ce5EQnnkwK27VUsq+DQjaQ==', 'price': 1600000.0}, {'id': 'K19rT20sw1d4aHYAMcPecg==', 'price': 750000.0}, {'id': 'I7zp48XaLUiupf510DpVOQ==', 'price': 420000.0}, {'id': 'bXPSSOSXcLDwxxa+Lt6bkw==', 'price': 790000.0}, {'id': 'FPMMJ/LONu1dOjifpDYefA==', 'price': 590000.0}, {'id': '3ALXyJ6UWMxcDBiB3znCdw==', 'price': 10896800.0}, {'id': 'rVMeE6e5c839/eUfpZwFEg==', 'price': 4000000.0}, {'id': 'sTsEsDWOThd6LeB3zXGziA==', 'price': 495000.0}, {'id': 'TAINA1BvORt2KvkgNvo08Q==', 'price': 500175.0}, {'id': 'd9FSWkyfyJLuxFVJfohkLQ==', 'price': 45034110.0}, {'id': 'UGg8U84HQ2X3rHSWnLH6/Q==', 'price': 700000.0}, {'id': 'fZ+9HNBLw2/6/eOhPfHNUA==', 'price': 15600000.0}, {'id': '/hDLT0/Agjh28jfzFBq/EQ==', 'price': 290000.0}, {'id': 'EmjsxJkU72xm9pJWJk0GTA==', 'price': 8478000.0}, {'id': 'qz19tnJ6CbDPly+eqsFb4Q==', 'price': 1050000.0}, {'id': 'ACD0TrmVLHO/JzWgesjhBA==', 'price': 1390000.0}, {'id': 'jI+1ZIsfw0F/lZUhTDZamQ==', 'price': 3300000.0}, {'id': 'gfbBA4dF3i4HAgxkiOXS8A==', 'price': 527000.0}, {'id': 'Z71eRJA2bkhiKKu4q1ZSAA==', 'price': 385000.0}, {'id': 'VnXMmVl+R+n57wWLJL9uVA==', 'price': 730000.0}, {'id': 'W6wS/Nz1OsLo3W6F/MKVsg==', 'price': 430000.0}, {'id': 'gGZx8Mziq01XWxjX9fDGtg==', 'price': 480000.0}, {'id': 'K1Iighdl+T1absB4LDhwXQ==', 'price': 1200000.0}, {'id': 'vQmQY+WcdpqJPsL/ilwu6w==', 'price': 875000.0}, {'id': 'S2Mb2HJHrah4DYxkolnkQQ==', 'price': 330000.0}, {'id': 'E/lAHnGul9jGaGAoOq+RPQ==', 'price': 1100000.0}, {'id': 'A3IIQrS9sJ3PTbwxJ3yC/w==', 'price': 5700000.0}, {'id': 'frMMW1KQrxzD0mwqwpyYtQ==', 'price': 320000.0}, {'id': '+SlZeN0chekvd+30bVnHNg==', 'price': 650000.0}, {'id': '/4UaI+Q7UN9yVkhLVLMuAA==', 'price': 2100000.0}, {'id': 'Z7qCppjZ6vS7FBSSiUtnjg==', 'price': 448000.0}, {'id': 'EH3D3wEV/Vf7jMyVw0WnAA==', 'price': 20919600.0}, {'id': 'EQoVaERTYWONfcd/AIwqDA==', 'price': 650000.0}, {'id': '0/4Dh7RrQfPEaNY8+uPuiQ==', 'price': 330000.0}, {'id': 'WbrQBJaRDcgJ1/E9XU2Z8w==', 'price': 4690000.0}, {'id': '0fZnRU5ss7dURBj5oicN9w==', 'price': 259000.0}, {'id': 'Z1xL6HoDPoRlv1cOj7ljGg==', 'price': 5927723.0}, {'id': 'WNYIZUnU7tgFNyCoEp6UdQ==', 'price': 500000.0}, {'id': 'xO3Wpv2vp6oarkZ1S/239g==', 'price': 790000.0}, {'id': '0fXvjhmcd1ldLYsMJxO6Ew==', 'price': 280000.0}, {'id': 'ibj59p/jzjV7zGqyR6WKHg==', 'price': 460000.0}, {'id': '6rzPh3ilmzhfFo2voypqtg==', 'price': 235000.0}, {'id': 't7TpLcLv2vak6l4g26n9mg==', 'price': 300000.0}, {'id': '0l5yV5xsNgkpnRk2EVVhkQ==', 'price': 11090000.0}, {'id': 'XX4+zuRz9LTpunCSU1cyHg==', 'price': 225000.0}, {'id': 'fR6x98tkbFzMm8xugW1bhQ==', 'price': 415000.0}, {'id': 'SeS/NtZbqwNxMvfeG3rQOg==', 'price': 250000.0}, {'id': 'I2gYXias1XtB+EDHiLKEaA==', 'price': 270000.0}, {'id': 'GSO0mxSRArnTNcEXVI5UNQ==', 'price': 245000.0}, {'id': '1meTcPc5nvpBeLvtVxrdnw==', 'price': 380000.0}, {'id': '9TbaXjKb4NZw1ZKGyf2LPw==', 'price': 318000.0}, {'id': 'lUbdNWOt8Ad4dVpHsgRLfQ==', 'price': 440000.0}, {'id': 'rwHMxtiHAAFRV3hXiYNrsw==', 'price': 245000.0}, {'id': '9XWGuZJR1FPPAEl0NCke0g==', 'price': 612500.0}, {'id': 'zhQhdefUggavgqNOzE8gsg==', 'price': 599000.0}, {'id': '2HacnHvpYPqXn95hNB9WOg==', 'price': 720000.0}, {'id': 'mofbNfEORQ59EW4i3GKXlg==', 'price': 430000.0}, {'id': 'hNg7hxzWjpQY16X03ORpzw==', 'price': 750000.0}, {'id': '8coNgoSh7IMQefbQxrd/2Q==', 'price': 1200000.0}, {'id': 'dhICxzioxM8VdMIMhinhcg==', 'price': 520000.0}, {'id': 'WHZPuCxr9ldaH4OunPs19A==', 'price': 265000.0}, {'id': 'BNIgyoZ654FpIzwmFF1cHg==', 'price': 1250000.0}, {'id': 'P5i/ohfUet/EQL3JBJBzNQ==', 'price': 280000.0}, {'id': 'yAxv8MAJT8mkVczeM62sXQ==', 'price': 450000.0}, {'id': '6EQkJ0QZAmfomIFrLsw5Fg==', 'price': 462000.0}, {'id': '4EteiHQzdAeMhbNU6bTjpw==', 'price': 1580000.0}, {'id': 'O5yQf2i3cEmqwmUb+1rDHg==', 'price': 550000.0}, {'id': 'DdMLmHe9yF/2w+X0uI7bXA==', 'price': 260000.0}, {'id': '+93Kl0GX62PbXO6dTTl6yA==', 'price': 4850000.0}, {'id': '641ZXqi0PJSNYkkRQlfPTQ==', 'price': 620000.0}, {'id': 'DXuc4quD8dC9+IEWGCw4HA==', 'price': 530000.0}, {'id': 'ta7pS9As47NBS+PJdCTPPQ==', 'price': 420000.0}, {'id': 'tulKLMBIgD78wHNombrobA==', 'price': 450000.0}, {'id': 'gMp8khVmJJBMLKL/nhvVLQ==', 'price': 490000.0}, {'id': '4nuhO27uXr989eKyxNTOcQ==', 'price': 360000.0}, {'id': 'Daxc3fBe0PafdQetCqLQog==', 'price': 2800000.0}, {'id': '4VET0Ik42oXJcwJFvt/Q6A==', 'price': 1200000.0}, {'id': 'AQRx/tSn6k+N7Dv2bQC2nQ==', 'price': 430000.0}, {'id': 'UeLYlD5qJ/AofXwhs99clQ==', 'price': 540000.0}, {'id': 'qZ1y4GS1R2asxAVf+h6Omg==', 'price': 370000.0}, {'id': 'ZnLeS8786MXZo7RGTKFs8w==', 'price': 770000.0}, {'id': 'lzdJWY2yjr4jXE5rUuS2SA==', 'price': 510000.0}, {'id': 'a5BHBaqpyRpJ2VjsnUbAYw==', 'price': 430000.0}, {'id': 'fO896iDDObOK9wJTtloNZQ==', 'price': 9718000.0}, {'id': 'psmTg4QPUWrDLYYA6DIZQg==', 'price': 750000.0}, {'id': '8n29Y1WVFnN6vL/+qDeZdQ==', 'price': 278000.0}, {'id': 'upVGu+ylzoWE2NDwWnq37w==', 'price': 2500000.0}, {'id': '94XiAgvI8RtwnKdA8PUq+A==', 'price': 1450000.0}, {'id': 'xNTpT3qylZBtTeazAB0MIw==', 'price': 350000.0}, {'id': 'TMWu7OJPCFyrP8Q5IRBjdQ==', 'price': 299500.0}, {'id': '79gXM1ze++GxI7TE5pR9VQ==', 'price': 570000.0}, {'id': 'tt9rR/1pl27E2tyq9ZZW/Q==', 'price': 495000.0}, {'id': '/oatVtAG+9zgwQwfhnFrdg==', 'price': 490000.0}, {'id': 'u8cdnQ1TRwUT9I8F3Aeo2g==', 'price': 680000.0}, {'id': 'C7cAsa/g51wJ02jZyU3a9g==', 'price': 3050000.0}, {'id': '36JiNu9crG8W+l081VV1dg==', 'price': 1400000.0}, {'id': '2P8YfSmGVNQCx5Y0aRCYQw==', 'price': 1380000.0}, {'id': 'ODu9BbRFqeXKBn9l+8CKUw==', 'price': 680000.0}, {'id': 'MvTMBAwmRm1bhZa449IBAg==', 'price': 1300000.0}, {'id': 'vUBt6WON5QM78jvlNo5/WA==', 'price': 530000.0}, {'id': '8Pc+RLJCJtWSNjG0fLjsAQ==', 'price': 340000.0}, {'id': 'k+k1zNE/eEvYrU0cxlIvjg==', 'price': 680000.0}, {'id': 'PgH6uEnwV91i4ZGQrlUq3w==', 'price': 325820.0}, {'id': 'NAigl27CpRO+QLWJ+BHrXw==', 'price': 490000.0}, {'id': 'loCtkvR9kj9r5l0vrNM1aw==', 'price': 950000.0}, {'id': 'MctLrIXgoGrRDVT/3/hPKg==', 'price': 260000.0}, {'id': 'p+mnnhFaXfCpynkESGZjcQ==', 'price': 1980000.0}, {'id': 'Y4/W2qD9oD5fdG7jfIWeRw==', 'price': 15697108.0}, {'id': 'ECC3WbgTvYWDidlAqq14Sg==', 'price': 700000.0}, {'id': 'ewNonkNF3SF6sP74VCIWVQ==', 'price': 490000.0}, {'id': 'OwkpzQ1BeO8uCLKHWnA8Yg==', 'price': 1850000.0}, {'id': 'QVsKLZdsLj/e685uRhJK1Q==', 'price': 660000.0}, {'id': 'erG3o2yaiscA4NaifJN+Mw==', 'price': 560000.0}, {'id': 'l1gUsQXr/DVn6QT2b9eoYw==', 'price': 1150000.0}, {'id': 'qfWJd14r13JSJpbgLJ42uA==', 'price': 259000.0}, {'id': 'HpLypSJcO1+1GjHPPFFRWw==', 'price': 1800000.0}, {'id': 'bKjYMZ14B42oMYNHbR6WAQ==', 'price': 610000.0}, {'id': '9v7FW5j7hj24GYy8jkwR7Q==', 'price': 1500000.0}, {'id': 'VQiqHhu5O9aIZ5rmQ6r32A==', 'price': 1500000.0}, {'id': 'zRmPovgRUelQXTvnc7cZUA==', 'price': 890000.0}, {'id': '0PV8Kgr+OryNRYfWZljGJA==', 'price': 1230000.0}, {'id': 'ORNvCkwa3sG8lQNK8lPKUA==', 'price': 9970000.0}, {'id': 'UcnPj5AgogXfP1rPl7db+A==', 'price': 499000.0}, {'id': '386+L0WfXzTyFk9YW4VtpA==', 'price': 675000.0}, {'id': 'H62Ex5dme7kgczOFNVSmOA==', 'price': 259000.0}, {'id': 'sJzpFOWuMCpg6n53OacL6g==', 'price': 14374601.0}, {'id': 'Xfck40IppsZwIhvFbX/azw==', 'price': 1360000.0}, {'id': 'lu152ZSvt4d4OemTiXhqIw==', 'price': 350000.0}, {'id': 'dImyMzfTSl7iDMThtyMrFg==', 'price': 265000.0}, {'id': 'mEzpt/aW9GqMjLMjFz1XDA==', 'price': 235000.0}, {'id': 'X6gYGCf24eN3fyQzduwonA==', 'price': 280000.0}, {'id': '1KQmoI6IUPB5iv7tO3yw5Q==', 'price': 550000.0}, {'id': 'uMGibbJah1Mzc4vPLcA2OA==', 'price': 650000.0}, {'id': 'Ha74B7UMtG7su0UerqPx+Q==', 'price': 21080000.0}, {'id': '55lraXPyGD20vl2C6tZ4/g==', 'price': 2500000.0}, {'id': 'Vy7czyUaH1FlXC4Mk4TZ0g==', 'price': 330000.0}, {'id': 'D4eG0YWxG9EuGxNRcewZKQ==', 'price': 930000.0}, {'id': 'ioU1t1DtuvWRDP+973ZhXw==', 'price': 269000.0}, {'id': 'BYsqMDqRDgbj+qIoPJE3bw==', 'price': 270000.0}, {'id': 'Nauar5JJq0bLbDfI9+BUWA==', 'price': 600000.0}, {'id': 'UYPZPnGAT7VDjzcPd1GLLQ==', 'price': 1590000.0}, {'id': 'BoVQRzgtWDQjgYQAy/CRSA==', 'price': 990000.0}, {'id': '426xHP+/ophiYzNV2s9Ibw==', 'price': 1500000.0}, {'id': 'i5GFWOQGLmKV0fMj7trA/Q==', 'price': 420000.0}, {'id': 'yI+bK8hnWNqbfILJRTT4JA==', 'price': 625000.0}, {'id': 'rWh0nW1yrj2KX86SsA1PGA==', 'price': 13607593.0}, {'id': 'SI5Fw3x0rIB++CqIo7rwqQ==', 'price': 1600000.0}, {'id': 'Novqx/sYuDQUcwkM8nT9zQ==', 'price': 590000.0}, {'id': 'Re9IgDar2SYNj/5y/4oQ5Q==', 'price': 1200000.0}, {'id': 'KKDWIYjnxeE24aubLAWCxA==', 'price': 490000.0}, {'id': '9JgJiB0/l+tDl+vIdXdGaQ==', 'price': 270000.0}, {'id': 'dRanfpvyJIrgC00ZXpG0ZA==', 'price': 12181358.0}, {'id': 'PjuOW4BsIvYYdqEBIAOsuw==', 'price': 700000.0}, {'id': 'toeZd3zztHnqEKPT6doiZg==', 'price': 750000.0}, {'id': 'ctOkpeN3zZ73RwaqbeZ4gg==', 'price': 250000.0}, {'id': 'sHSivK31J+a+foU61tvXfw==', 'price': 2100000.0}, {'id': 'y5Bfak9ht65pXW25ILuLyw==', 'price': 720000.0}, {'id': '/gSrJ3VwCk2NB+FfXA97Wg==', 'price': 920000.0}, {'id': 'dz3hMohwm3CkspHcrmQRqw==', 'price': 1900000.0}, {'id': 'q7lvfGTpXeZI4KYYzeSsqA==', 'price': 249000.0}, {'id': '4YTS6rdXMAqVetMIKPiu0g==', 'price': 260000.0}, {'id': 'FxISH+zzxzFq/165NYA1CQ==', 'price': 980000.0}, {'id': 'FVy7Vbx4czXjiVby1s4C8g==', 'price': 480000.0}, {'id': 'I/H6n0ZllUyYrY0NmuAlPw==', 'price': 1300007.0}, {'id': 'pIFIOyWkuQE5Ejp4cdviGA==', 'price': 1300000.0}, {'id': 'HMadsO5IYo94LrZBRkma3Q==', 'price': 1050000.0}, {'id': 'YU8wjjLyZzTBfpjRiqi8JA==', 'price': 530000.0}, {'id': 'RjpDQSDXJrybTqB5Ucd5Fg==', 'price': 28576800.0}, {'id': 'owBaqzkjepG/9TtCdEHHRw==', 'price': 535000.0}, {'id': 'O+wN3U1piERrb90vpVM8cw==', 'price': 270000.0}, {'id': 'XTgJEhqeacTXBkJsJyLu8g==', 'price': 489000.0}, {'id': '1U9ngmi0JMRMXQYjnImkCg==', 'price': 585000.0}, {'id': 'Z6+A+/RtX9mxY2xP3/SS1w==', 'price': 895000.0}, {'id': 'FPQ4G2jQ5XwJcO87rBAQ8g==', 'price': 1100000.0}, {'id': 'OX4+fkJ0qEHp4C3WuuWl1w==', 'price': 2600000.0}, {'id': 'yE7SZInuTWhqUo4G0509SA==', 'price': 495000.0}, {'id': 'imqphVI+wsQl4PkUOTKQ3A==', 'price': 290000.0}, {'id': 'RtVPjLmuldiPjKTZ/A6SCA==', 'price': 1400000.0}, {'id': 'fgn1KTehpO4EUOzGFbRcww==', 'price': 224900.0}, {'id': 'RyooHhmVV/zAHCysl376Lg==', 'price': 5017114.0}, {'id': 'MQwjHGgAaohkbPtMom8kqQ==', 'price': 680000.0}, {'id': 'fNBt3YEkwdiBWrSsmDpE2g==', 'price': 800000.0}, {'id': 'WrnotH9UpDuHJ4OAu9Rz/g==', 'price': 465000.0}, {'id': '9GSUbr6m5z60gVox3AkY5g==', 'price': 1100000.0}, {'id': 'kerjOxdxyftYucBs21J2nQ==', 'price': 548540.0}, {'id': 'M6GcoX6pyBcCpR4oPko6gQ==', 'price': 260000.0}, {'id': '/qu5i6bnNjqA0HuijjZMkQ==', 'price': 450000.0}, {'id': 'fcmXti9HuZVGXJfTFb6JqA==', 'price': 319000.0}, {'id': '5ZV3y427euSbjm0d5xeh/w==', 'price': 429000.0}, {'id': 'BeCsrI82dR1aiImwY2JlCg==', 'price': 315000.0}, {'id': 'niPcE7Bf6RD2MmRCrW6GUw==', 'price': 244800.0}, {'id': 'VEF3BKcrfUgcojNgxlrpFw==', 'price': 539999.0}, {'id': 'rOqKAnxGy+mVE23sPq9Q5A==', 'price': 681725.0}, {'id': '5JeqUSh/KQBlUZY25g6s7g==', 'price': 545000.0}, {'id': '0Ab5xTqK2ZYgHhIzYNJ9ZQ==', 'price': 715000.0}, {'id': 'FsVM+ZwMu9BhLuZUmEDJEA==', 'price': 600000.0}, {'id': 't10h1XJdzKS6f3p+QhsHqg==', 'price': 1300000.0}, {'id': 'SAtfg1r3OMDX3obKn2TOVQ==', 'price': 258000.0}, {'id': '2SMqiv47Hk+Fl6Y2iZgbgA==', 'price': 448000.0}, {'id': 'ejV5oKXGX/uS/oibG47Cag==', 'price': 330000.0}, {'id': 'yIXc6oIItJnsx0ZI4ISkVw==', 'price': 16760604.0}, {'id': 'sQ9RsWdVtmmDtrfvohPOmA==', 'price': 472000.0}, {'id': 'ypyfhHl3vxwFx7bwyCNAXA==', 'price': 890000.0}, {'id': 'KlVPZVR4Lyt4eoSbm4JBow==', 'price': 990000.0}, {'id': 'i8yMhS8iygIySuGouueUzg==', 'price': 850000.0}, {'id': 'RBqtwZDg04M7rs4XqpQjTw==', 'price': 600000.0}, {'id': 'XzQf3OIhTZBcSIXh/tiH7A==', 'price': 1600000.0}, {'id': 'A3kM7oHT0LUOio1MxAQrPA==', 'price': 9890712.0}, {'id': 'UAaeJQirN2KWsRtfspgnSw==', 'price': 3500000.0}, {'id': 'dHxNA41Q+JhesNSh23foyw==', 'price': 290000.0}, {'id': '3rPAPGSwkzvWLavK7ngVsw==', 'price': 690000.0}, {'id': 'Pxz0dKZgWiL7odLclgK/vA==', 'price': 790000.0}, {'id': 'iyvSlEsyUUyW7UbBVO6qRQ==', 'price': 740000.0}, {'id': 'FcmnYIPj7tXphzvN8lChaA==', 'price': 550000.0}, {'id': '8qedsuJB1kAY0thV/zzSrw==', 'price': 1290000.0}, {'id': 'kKgXOy7BIku6u17DI6WtYA==', 'price': 1300000.0}, {'id': 'vhYQnNqXZQe3zU8Qm7AY4g==', 'price': 279000.0}, {'id': 'cjryV2f8jS7xLEM9+9FUoA==', 'price': 265000.0}, {'id': 'tUMhNj3fyz0/eCU9L05/hQ==', 'price': 370000.0}, {'id': 'll+6JyGHfjBtbAOAO1Bx5g==', 'price': 320000.0}, {'id': '2jXGQDRWFcrFEir5An4abA==', 'price': 182000.0}, {'id': 'UBxcR10XB1G7zN1HsyzI4Q==', 'price': 1199000.0}, {'id': '5uM0QLCOReDoPcol6OKe9g==', 'price': 700000.0}, {'id': 'Nj+5kiSoNxW4Wgj43+IVbQ==', 'price': 490000.0}, {'id': 'uFfIUHWLcGsShkyLfhhbmQ==', 'price': 1275000.0}, {'id': 'yip+Z4nX921Qu2jwmF/h4Q==', 'price': 10669409.0}, {'id': 'c4feHGk8pnz6aJeeHV+avw==', 'price': 448000.0}, {'id': '8h/YyCNOUB/BT6pCb6iTXQ==', 'price': 5931034.0}, {'id': 'mqDPTSRGQALmsyR9UGkh0g==', 'price': 2080000.0}, {'id': 'CcQVYSwk/oVi047ruNNA6g==', 'price': 550000.0}, {'id': 'EAapjEgq1KWhtQo1m0k2Vw==', 'price': 560000.0}, {'id': 'NfissOL6Wc/TjHat5IwVsQ==', 'price': 930000.0}, {'id': 'n03y/m+FtsS5kbEgnU6tVQ==', 'price': 390000.0}, {'id': '4GsCIM5u+cHxpfmjb3nTKQ==', 'price': 2680000.0}, {'id': '2dgkWHGv/WygPyFABgvhfg==', 'price': 290000.0}, {'id': 'p4SlSb+WP4ADlS44PkwWBQ==', 'price': 510000.0}, {'id': '9uApMUq4ZkMIqBaNNgLmTw==', 'price': 360000.0}, {'id': 'SzJsAeHB2+cRbcTiSBkbDQ==', 'price': 20956388.0}, {'id': 'ySZJs2qU9MGtloP+TlAN7A==', 'price': 2690000.0}, {'id': 'nbgszYWJkAd++BOmWnz75A==', 'price': 250000.0}, {'id': 'XijAK1wPfvS2hnQ1coi06w==', 'price': 450000.0}, {'id': 'ar/bKjhpf0a2bRJp9NcKdg==', 'price': 262000.0}, {'id': 'yQJ9QlDW3Kp38++0seAsvQ==', 'price': 10491677.0}, {'id': 's8NgkDPHCwV+9IfPDDxYnA==', 'price': 11846874.0}, {'id': 'fe3Ill/t/2KofwHPq6lHgA==', 'price': 575000.0}, {'id': 'g6wZ/8xWnA17GD1uDOSo+g==', 'price': 11314553.0}, {'id': 'pqR/4tLC+HfP8u1Wz0L4rQ==', 'price': 1280000.0}, {'id': '6jnJF7ToMaUzz0x+3OYolg==', 'price': 760000.0}, {'id': 'S9e+o56oek2yMWFL/byXhg==', 'price': 7959000.0}, {'id': '5ZuwUT/MbHsRBGUlW0eaTg==', 'price': 750000.0}, {'id': 'cz1NJYzhrMToEgvgnr62WQ==', 'price': 650000.0}, {'id': 'ivfFmIG8wCLLRNYFLPIECg==', 'price': 3300000.0}, {'id': 'zPmZuW8tOb9pdvGxyCZ1lg==', 'price': 600000.0}, {'id': '9MgOsn8FNLM4WK5r6I49tA==', 'price': 1600000.0}, {'id': 'g1Rm+AxdVFjhiAMJa+exOw==', 'price': 1400000.0}, {'id': 'J1uNMtlQChdGm3DhVmXkMQ==', 'price': 21945000.0}, {'id': 'Zug/ukuf/Nt0H8MK/2jz6w==', 'price': 1200000.0}, {'id': 'Sk0ESRWVany4NDOYXZF01A==', 'price': 690000.0}, {'id': 'CMpR12TU8pg4Dsu/hzB8wg==', 'price': 875000.0}, {'id': 'g4g8mxfbUEhmVUzE9JO9tw==', 'price': 369000.0}, {'id': 'fZkvwS3rf5o/YD/OPN1r+g==', 'price': 910000.0}, {'id': 'rqxLAJxVytZoiZueEpza9w==', 'price': 990000.0}, {'id': 'TojyTytjKpLWgN3eAQNq7w==', 'price': 485000.0}, {'id': '1gdqy006Mu0qGKvOnMUzvg==', 'price': 8208000.0}, {'id': 'deiTnUZ+ZI5Q9qbt2uZoEQ==', 'price': 470000.0}, {'id': 't1ojuS7oNQuG13uTcDYxxg==', 'price': 1650000.0}, {'id': 'KALaLsGeUFAVt476AGCjrw==', 'price': 255000.0}, {'id': 'EBsKN0xS749xBs+A+fHYSQ==', 'price': 780000.0}, {'id': 'vy66wheYbtlIbrCV2YQTVQ==', 'price': 650000.0}, {'id': 'w2fnMOvRDVzp4go/bITpBQ==', 'price': 700000.0}, {'id': 'USFXeg200kcL9alp33ljgQ==', 'price': 1300000.0}, {'id': 'X1P+M87bpc2QICV76Hk0Gw==', 'price': 360000.0}, {'id': 'D+UNyR5X3yHPIlglfa1QFA==', 'price': 420000.0}, {'id': 'GHLgL85MklB58VrfmU+o6Q==', 'price': 320000.0}, {'id': 'xUBu4I7V+3NbR2MwwH6WSQ==', 'price': 15603000.0}, {'id': 'Ql08xnT41UwJoNey4O2mTw==', 'price': 350000.0}, {'id': '78ODQMTdjm0lIZt9I+xFdg==', 'price': 240000.0}, {'id': '9wu/K3A+KbwIPwE2Ghyr2w==', 'price': 259000.0}, {'id': 'PB01H2gAymycdAoI38RVnA==', 'price': 555000.0}, {'id': 'CPoBdhoAxGzF4/25pIyI2Q==', 'price': 670000.0}, {'id': 'EUNHfKPGgdvDtQbxjP/snA==', 'price': 440000.0}, {'id': 'kOYmjgZxM7sSFNFliPE6KQ==', 'price': 470000.0}, {'id': 'PtoVM6TNzCraH4We5UHprA==', 'price': 1450000.0}, {'id': 'klEhB6wH64BmchPw6FmHgA==', 'price': 462000.0}, {'id': 'XnbOq3KvXaWv3HZ0vrxmpw==', 'price': 735000.0}, {'id': 'zWxdlEvUwKOLc/6hnei1GQ==', 'price': 265000.0}, {'id': 'D71IEwTQGNLxU98SzXApAA==', 'price': 590000.0}, {'id': 'd0NVum9MlKSaWP5CkNY4Lg==', 'price': 298000.0}, {'id': 'tFm7oIkC0QRmRwGJH8QqWg==', 'price': 550000.0}, {'id': 'nKlK5sIR1Qf80LyIuYAQAA==', 'price': 990000.0}, {'id': 'QVjwvsBjAUMddp1aSliupA==', 'price': 245000.0}, {'id': '9JVX3m5RNS6hLQdvEeT1dA==', 'price': 1650000.0}, {'id': 'ckLPo4aES15hgjnjJqAkAw==', 'price': 970000.0}, {'id': '6hbkPDT0duSMDqdBv/4rhQ==', 'price': 270000.0}, {'id': 'bzQQbwv7htpBt+ElUyXFQA==', 'price': 385000.0}, {'id': 'jQS5GyLCSfs3Lj5kmplchQ==', 'price': 1600000.0}, {'id': 'R+sgryxHBa18fmBv30WbzQ==', 'price': 950000.0}, {'id': 's6ch1vm8gE+p2ND11h1unA==', 'price': 820000.0}, {'id': 'ZctYJVI0OHGbGjka+rejQg==', 'price': 240000.0}, {'id': 'XwcE2wSRpu+ZewuzOFbXaw==', 'price': 445000.0}, {'id': 'wQThF9YvdacLAth3L1Bz4A==', 'price': 790000.0}, {'id': 'Zqt5rxZOyXvyVMI6kBi+bg==', 'price': 260000.0}, {'id': 'NIRiLENoA57hlhG9Dqt3gg==', 'price': 420000.0}, {'id': 'W1MG46ErWaLy5A+K6+znoQ==', 'price': 1200000.0}, {'id': 'E2AdRznEmF2VWLT1NPdURA==', 'price': 1300000.0}, {'id': 'HVGWYbT1BHsVJgqRSpA7jA==', 'price': 279000.0}, {'id': 'ITYS6OxNd861QKlCujnNzw==', 'price': 1050000.0}, {'id': 't6+KenWsxslVQ7upxj0Q7w==', 'price': 850000.0}, {'id': 'lAD00bEwWaRS9s1kepyIUg==', 'price': 630000.0}, {'id': 'znamCROsxjhS8RAuivm8vg==', 'price': 595000.0}, {'id': '+GeVywuu5R7g1YVVEsuXwA==', 'price': 285000.0}, {'id': 'dtj4VJbE+EsN6Q1l3M4Bhw==', 'price': 2800000.0}, {'id': 'pKGJsis4CaXACcUbRLw2Jg==', 'price': 256000.0}, {'id': 'RIvsLCd/jgNpptziPi6+Qg==', 'price': 650000.0}, {'id': '10Cv7C5oIdaSILgvNl70OA==', 'price': 520000.0}, {'id': 'rqt8Xy0icgU09iC9Dz+WSQ==', 'price': 860000.0}, {'id': 'EYux8ieJKXysICrhQP1bSA==', 'price': 1300000.0}, {'id': 'KglhfoSkz5tvQyzCNsJaMg==', 'price': 600000.0}, {'id': 'q9TaDj4XRmjUzGMW9S++tg==', 'price': 490000.0}, {'id': 'LhXXVO+lsKS1dqEQnzzbgw==', 'price': 595000.0}, {'id': '3h+luOEU49mvq2HPlIURvw==', 'price': 630000.0}, {'id': '1RSVw9OHIk356nxRlFgT+w==', 'price': 720000.0}, {'id': 'UiCoP9JtdOIfYKE2kWLfjg==', 'price': 630000.0}, {'id': 'gaDcV2+f8aDE22QUdqZr2g==', 'price': 495000.0}, {'id': '1Px4L9EnIY7uHGlPDUqTcw==', 'price': 370000.0}, {'id': 'c2kiE5ETdr91uZsx7nCOLA==', 'price': 515000.0}, {'id': 'z8gs/d0ierxTEuw3fSj00g==', 'price': 1000000.0}, {'id': 'dQwlYW6ENigS9SiM+sOpLw==', 'price': 860007.0}, {'id': 'DT+vo17sU6uhpPL0vlvDlA==', 'price': 450000.0}, {'id': 'rjYCp8s2YpHnzMtO1+a5Xw==', 'price': 710000.0}, {'id': 'eY44keWmWFgQyat9Nn62Xg==', 'price': 24970000.0}, {'id': 'x6q5J4W9WPs/v0nK90hqQQ==', 'price': 250000.0}, {'id': '8vIpIwvg8wTIJ+/ifUZewA==', 'price': 5000000.0}, {'id': '2oQbwXBnCegdB5i485jUnQ==', 'price': 850000.0}, {'id': 'Cq8dMVfYobC37O6yuIxYYg==', 'price': 343434.0}, {'id': 'WYY0BccgrkSl9FubqF6WlA==', 'price': 530000.0}, {'id': 'uJ8AvEHeNXntFeQBNUk+pA==', 'price': 3800000.0}, {'id': 'rvUVViri5MZIMMTzTYV6cQ==', 'price': 670000.0}, {'id': 'uWxMpT7KrbOO74M7IsvjOQ==', 'price': 520000.0}, {'id': 'W3Z0wthWzK1VpLJCTHKS1A==', 'price': 440000.0}, {'id': 'aV+RCu/sTqLFfRWbS+yqoA==', 'price': 740000.0}, {'id': 'dld+z514GnSI0H/s6RjlsA==', 'price': 320000.0}, {'id': 'FiL142/pBpP3zBXudu5CcQ==', 'price': 760000.0}, {'id': 'FfhWZ5teRZZYH0xMlVYqAA==', 'price': 430000.0}, {'id': 'GrXYCZPnFfGvCATuPKDRCg==', 'price': 750000.0}, {'id': '3z0A4k2pmnBOfntGd4bCTg==', 'price': 475000.0}, {'id': 'xF//p7NX2a3F4othf7CPrg==', 'price': 259000.0}, {'id': 'z1LOtyMqEYjqFD8SalHPMw==', 'price': 520000.0}, {'id': 'KwFTl3XixmQn1XdUDVEEIA==', 'price': 432000.0}, {'id': 'xRm9y9+GJyf9wiX4BEbhkA==', 'price': 520000.0}, {'id': 'pnPiPKWZEkd7DPtST/AQtA==', 'price': 520000.0}, {'id': '55Aj0li3oSdcJzfw5Jw5FA==', 'price': 1150000.0}, {'id': 'GDkBpmWUirmZyEmO0eWMmA==', 'price': 900000.0}, {'id': '75gcGoTqDki3HdDqeWDXew==', 'price': 269900.0}, {'id': 'cSZ+AtZWl408EcZeWhj0Fw==', 'price': 700000.0}, {'id': 'pOcVpJWKkBusdtmhUmICgw==', 'price': 270000.0}, {'id': 'qP4EhAJOGbHUVd9OoY5FpQ==', 'price': 970000.0}, {'id': 'tHOXzXwFSWeu8lrvUY2pgA==', 'price': 256000.0}, {'id': '+8gJo9w/NnivAc6xa2Gs/w==', 'price': 1500000.0}, {'id': 'seElyXtz8mIvxSLR1647JA==', 'price': 850000.0}, {'id': 'Dzmv+wH/W7rG8wNACSnRFQ==', 'price': 235000.0}, {'id': 'm1Q/ThftP05JEC0KmOOp4Q==', 'price': 300000.0}, {'id': 'Vj0CtqtrDDSpvEV6Y0mCqA==', 'price': 480000.0}, {'id': 'D01YML5bqfxfCSDYXJhzPQ==', 'price': 5000000.0}, {'id': 'CghqTCAuXABj1UuyrRjRAA==', 'price': 545000.0}, {'id': 'Qo2LdRRLu2TX77p7CLQGbA==', 'price': 550000.0}, {'id': 'SjXuPcUBAvmHfriTXbC0NA==', 'price': 755000.0}, {'id': 'WCG2ruAno07rckPqkvcWog==', 'price': 290000.0}, {'id': 'gGehJynrKPY6ViuNRhT5Hw==', 'price': 400000.0}, {'id': 'hOl4KHn2SNBzaAr8SnLKCw==', 'price': 490000.0}, {'id': 'PIj8EDwOwTYGCezH1NGy8w==', 'price': 750000.0}, {'id': 'BVgDDc2M+D5yub56p6LUIg==', 'price': 254000.0}, {'id': 'kzbIYk/Gtzy5emQVe1fyHw==', 'price': 320000.0}, {'id': '4eEKpMirZLvsERMXPHnREQ==', 'price': 820000.0}, {'id': 'ZtU4rETNcIoGeLW+aOfhEw==', 'price': 278000.0}, {'id': 'QoGAqZODwzAPdyVId08w7w==', 'price': 640000.0}, {'id': 'bakrHvOhmUmn1r6bhx04gw==', 'price': 330000.0}, {'id': 'aMtkd7uU82ZxaJTfCzxa1g==', 'price': 700000.0}, {'id': 'y3nJNJi3nVJ0UJhRP3wb5g==', 'price': 450000.0}, {'id': 'DaorerdTumXUDNmRUZSfRw==', 'price': 180000.0}, {'id': 'tuSsiVcTQjY06OMjt+GTVw==', 'price': 485000.0}, {'id': 'WDs6aGl43KB/5rSAP9PznQ==', 'price': 260700.0}, {'id': 'OkVohtXFRveD3V0CasppvQ==', 'price': 730000.0}, {'id': 'ZWtYnuCgAxwS8xCOneHNPA==', 'price': 550000.0}, {'id': 'qwts/6mWTwvnjUTMOOgXbQ==', 'price': 790000.0}, {'id': 'rnxQL89gyxQ7cO+hU2QiZw==', 'price': 314999.0}, {'id': 'NtkFK9i4L6/rhMJYY8+pUw==', 'price': 450000.0}, {'id': 'bQr6eP/4tzBmt3Kp1rw1jA==', 'price': 800000.0}, {'id': 'vnWQLBStAl6X1dI0C3e6fg==', 'price': 625000.0}, {'id': 'jYDkjB2ljlqrdMo8CoOxEw==', 'price': 2500000.0}, {'id': 'JpdxlNjzh/mKv8XzKr4uuA==', 'price': 590000.0}, {'id': 'UPeMcFULXwrNdqOgdr58Cw==', 'price': 500000.0}, {'id': 'S1jc0iqMu2H6O4HgU22ewA==', 'price': 1200000.0}, {'id': 'sKwu/JETMRiaxX1LSu9PEA==', 'price': 425000.0}, {'id': '6claidT+GAzZLAbpGMIkaQ==', 'price': 980000.0}, {'id': 'VqtmkrydgnWy5weRgHaMEg==', 'price': 265000.0}, {'id': 's0PKngT95E2pUuY6796glw==', 'price': 2100000.0}, {'id': 'aJMqOCTIcJKpl75bHxcUdw==', 'price': 250000.0}, {'id': 'YehaQ6t5VvJPwHfvukCrkg==', 'price': 320000.0}, {'id': 'R+xfxGyc1QtMBgkjhdzaVw==', 'price': 740000.0}, {'id': 'hkQ63IzBSpoPAjKIsEdtvg==', 'price': 450000.0}, {'id': 'OJEVSnL/HmZbqdrs+qOjdg==', 'price': 5165000.0}, {'id': 'kPyW9xHDY9S9YtYhvv7CaA==', 'price': 550000.0}, {'id': 'F/qp7n+RhvJ5RXR0P9cDYw==', 'price': 570000.0}, {'id': '5tLKPlSrqVVImvujV89Aow==', 'price': 16312845.0}, {'id': 'uJAIUZrszvhREv7BxGirsA==', 'price': 490000.0}, {'id': 'Tfg9OBfB2RhpTYNAZoJEOg==', 'price': 1000000.0}, {'id': 'VkCoVfTl4e4uafb2FkZ4yA==', 'price': 325000.0}, {'id': 'DCqphc+hKt38r9Uvp1uezQ==', 'price': 295000.0}, {'id': 'denEMdICdIK2dcCyoQHxdg==', 'price': 2500000.0}, {'id': 'okNnaNlMKSgI9lZAO5ndCg==', 'price': 250000.0}, {'id': 'kUeCFWGrFKLbzTWXAkRUwA==', 'price': 650000.0}, {'id': 'q9VOTP5kTR8YlKm+TVpOhw==', 'price': 426000.0}, {'id': 'Kr6ltNIM3pq4Kvrv4z+udQ==', 'price': 245000.0}, {'id': 'Pu/l1kAXO8t3jBCs42Fbmg==', 'price': 310000.0}, {'id': 'DiZjtB2qtXdqFmhQL1SHlg==', 'price': 440000.0}, {'id': 'ZWPzQkvBayFHAApEJuImgg==', 'price': 900000.0}, {'id': 'PUOmXRjEvzFO/smzxQ7rhw==', 'price': 530000.0}, {'id': 'Xa9Yduj6/pzhpMS9ya3Esg==', 'price': 225000.0}, {'id': 'iOvLY0VNiulpQPrEBN6+dw==', 'price': 850000.0}, {'id': 'uKn64PL/d2ZvzcU1i/PZ5w==', 'price': 530000.0}, {'id': 'QXgEIAYLVxeGs9RgFkb0wQ==', 'price': 570000.0}, {'id': '6mSSJ6UA6w1eMt2HUbzAmA==', 'price': 2800000.0}, {'id': '1LNU2Ada8hn343r6kAU2PA==', 'price': 378000.0}, {'id': 'AT5+OYe7U2DIlNydhKDQAQ==', 'price': 2300000.0}, {'id': 'zagvq7o9ZcGQN2lqRZHlEA==', 'price': 290000.0}, {'id': 'ScYE7uuLCEQKw1ySqP3Q3w==', 'price': 1300000.0}, {'id': '7YdPct4qTwwkHu/W/QavrA==', 'price': 2500000.0}, {'id': 'FLZ/6Sd1Wk8Gqz4FQqXB9w==', 'price': 310000.0}, {'id': '7GciLDhT1u022jJ+eJ+k5g==', 'price': 240000.0}, {'id': '4+LljKe8dYstyvIBtLEDyg==', 'price': 420000.0}, {'id': 'lVk6HoU5yzZVSUnMrRdDAw==', 'price': 1270000.0}, {'id': 'eKvBA5KE/6Rdu+A0ZeUfww==', 'price': 29400000.0}, {'id': 'YMTuczi5PiHrTRsygoLqpA==', 'price': 248000.0}, {'id': 'jLHV9wdabcvkEtHg7n5bhA==', 'price': 320000.0}, {'id': 'QhBOvLh8h4ysDnjH5hMpeA==', 'price': 240000.0}, {'id': 'gw9tT0eeq9fReQ3Dw8XhOg==', 'price': 1500000.0}, {'id': '4Hjizm+GZ0pFwkCC/RgShg==', 'price': 1150000.0}, {'id': 'NU69JD9q0aKllW4ooA5blw==', 'price': 10714938.0}, {'id': 'j6S8FYB/by5siOCQjRkKMw==', 'price': 230000.0}, {'id': 'W0kqhMNRYJ+BYmLa5xOuQA==', 'price': 799000.0}, {'id': 'hQrlUHsPhqO4VJSHeN03qA==', 'price': 885000.0}, {'id': 'T724JboxfkT8tcquv8Hfjg==', 'price': 582900.0}, {'id': '2UjWENPlZFtcIYn1ORslwA==', 'price': 350000.0}, {'id': 'fttPdzDKnIlTlNzpEhU7rg==', 'price': 530000.0}, {'id': 'USOo2kylOEDAEyE2DMnO/A==', 'price': 1250000.0}, {'id': 'WCAXj6Acy8P0kWh8GdgDbA==', 'price': 198000.0}, {'id': 'ljEw2s0fZUAb+fMwdTo5OA==', 'price': 850000.0}, {'id': 'XGykUYp40/UtTDBqXIoWrA==', 'price': 300000.0}, {'id': '2hoHvp4IEgJf6Z9u3pUGFw==', 'price': 1100000.0}, {'id': 'Rcl6lf6Jftbng0hF01IC8A==', 'price': 400000.0}, {'id': 'uZpG3WEk7wvrgyLdEppMyA==', 'price': 459280.0}, {'id': 'VFHq4m8C0Fdsgl0kw36amQ==', 'price': 250000.0}, {'id': '/nKJa3XETAC3OhItXNyMow==', 'price': 1000020.0}, {'id': '0ZBeAVgr9L20TArqplEevA==', 'price': 340000.0}, {'id': 'k4TY6RsbxBkSHn9y6CA98g==', 'price': 620000.0}, {'id': '5qKG+fgyS3411nYiYeOj7w==', 'price': 480000.0}, {'id': '/ZQI1BcNa3e7FRWluloGEw==', 'price': 885000.0}, {'id': 'gdUcJ4Ov/cLZRH0fsEg+KQ==', 'price': 450000.0}, {'id': 'vUbFuOlaUwoah3eB/iu2xg==', 'price': 720000.0}, {'id': 'qa4v7Su1vPcaIaCsL+dOSA==', 'price': 1500000.0}, {'id': '5kvWBDX5vXaYIJ37GAcxZQ==', 'price': 280000.0}, {'id': '/wVSOPt+bpscVuC9xDCSBQ==', 'price': 395000.0}, {'id': '5I1ByHo94RAAtR2I5qbhSg==', 'price': 695000.0}, {'id': 'XCzVcm0pfQ9wBfn5u/5JyA==', 'price': 540000.0}, {'id': '6qVdwRG/t0DD8gqPLCyXjg==', 'price': 1000000.0}, {'id': 'kl51iC6uW0sch0oNYiidDw==', 'price': 16300000.0}, {'id': 'DSr13Oa93ayxZOCKXJ0Fdw==', 'price': 3100000.0}, {'id': 'w+vRiwJVpp90qqa17/C8Fw==', 'price': 612500.0}, {'id': 'xtMD/hDW7PSs8yNkaatEQg==', 'price': 1490000.0}, {'id': 'TXebbS0dUim3nH2gDchhMA==', 'price': 1500000.0}, {'id': '+RVOV1VBkxZi8wDesMscYA==', 'price': 600000.0}, {'id': '7TLKCgfcjISUOTf2m68IAQ==', 'price': 580000.0}, {'id': '2kd0y5lT4hlHd3sT9xdLYA==', 'price': 2700000.0}, {'id': 'WgVUhrzBzhm8sEQ2VQqPRQ==', 'price': 290000.0}, {'id': 'zmenQBL/q3ae851PJaAdLA==', 'price': 3952000.0}, {'id': 'ztyda7U6K4vu5rVzu3tB5w==', 'price': 302100.0}, {'id': 'y6hWsSxUlszQPmg3zFr5zg==', 'price': 620000.0}, {'id': '3Gl+NPtvS99ToLPVzqdtNQ==', 'price': 700000.0}, {'id': '7GMiYJnoT8U4wjz1cTqu+g==', 'price': 650000.0}, {'id': 'cdvitCy8bM+pssi+ki1R8w==', 'price': 240000.0}, {'id': 'oPH3WeEXYDOnAz9xsiOriA==', 'price': 2400000.0}, {'id': 'vh//s0EjZHrR2qZzm/RTHQ==', 'price': 730000.0}, {'id': 'ecp+wUtr+AUmrrbmCbjeaQ==', 'price': 550000.0}, {'id': 'ZZv620T7u4n0GmMlAtGGlw==', 'price': 290000.0}, {'id': 'bhdoofoGadhAmu/Pzntn4Q==', 'price': 790000.0}, {'id': '7Vbcs1RHLi8NEIm8NFYzyg==', 'price': 673000.0}, {'id': 'A10bxbfKHwu5PnTe3ewtSA==', 'price': 250000.0}, {'id': '3ef/hJpOqQnc1dp/BP3VqQ==', 'price': 279001.0}, {'id': '0B0a2NthPG2A911qJRq01g==', 'price': 620000.0}, {'id': 'E29CjV4Ho/VW63f1Cx1+Fg==', 'price': 650000.0}, {'id': 'Nb5ygSI2GEIHwEPcBq/J5A==', 'price': 7034000.0}, {'id': 'QqAHj1whLnNr/xNo2/2AMg==', 'price': 490000.0}, {'id': 'pqSgJ+6BQISOAzABlM+65g==', 'price': 650000.0}, {'id': 'cjRjyKCzoWate65UEII1Gw==', 'price': 350000.0}, {'id': 'u4mx34GTCWd9Sdfor2DPFw==', 'price': 7100000.0}, {'id': 'yTXgeargFVZ9YozS9tsEsA==', 'price': 730000.0}, {'id': 'z2jGwWeP+RTHYM0Ss2i4eg==', 'price': 689000.0}, {'id': 'LM7UUGRqJatg4hTM7sG7vQ==', 'price': 980000.0}, {'id': 'KU8K3eoDUJfsUFRcVjabOg==', 'price': 450000.0}, {'id': 'Y+InkaDWzVJ1ALBdEyjnfw==', 'price': 440000.0}, {'id': '3nPQ8LA9m901mEQyQogBzA==', 'price': 2600000.0}, {'id': 'PpikWHPUj53rymvj9sm6zw==', 'price': 285000.0}, {'id': 'R0oDt3y/DHdA0DEZWRelQQ==', 'price': 590000.0}, {'id': 'z0FUVdsBlVIIzMYwFtKNuA==', 'price': 1040000.0}, {'id': 'VAFPmJmlV1A2Ox5sKhXwwA==', 'price': 1800000.0}, {'id': 'ThBXDMs1+98q5Q4nQBPFUw==', 'price': 400000.0}, {'id': 'r6+ENR96kzs8cI2chkTW6Q==', 'price': 930000.0}, {'id': 'S5Iig9ztj87P/H5Z0fPN4Q==', 'price': 1950000.0}, {'id': 'T2fRP+pTO5NZGBkvI+U8zA==', 'price': 998000.0}, {'id': 'G9ZB5QrY8+IU6CmEcfv5Zg==', 'price': 11333108.0}, {'id': 'gniEPZbgOTzt3YLRZX6XnQ==', 'price': 690000.0}, {'id': '4DiV74OLRSISxr9G+G2QKw==', 'price': 790000.0}, {'id': 'Jz3502/h49z15q7aeYwHaQ==', 'price': 268000.0}, {'id': 'xA1qGdJD+W4UG4r2PIDOGw==', 'price': 950000.0}, {'id': 'VDaSJYyjxFo0y9iAkV7vZg==', 'price': 700000.0}, {'id': '2cKRrP/hcuqFMRjtaPOf+A==', 'price': 749000.0}, {'id': 'np1uGpFz8Pz8gDZf2qaYSA==', 'price': 270000.0}, {'id': 'R16YrOtf7jx0CIm45HKjng==', 'price': 305000.0}, {'id': 'tEW2HuVkrIvW33fyIRgnXw==', 'price': 290000.0}, {'id': 'AMBKyxtcNE+cUQfx6nfWLw==', 'price': 990000.0}, {'id': 'eyg1nx6XUIn8AK6CHMaH8Q==', 'price': 3400000.0}, {'id': 'zqEq3AAeV+U8zm1RwF9b7w==', 'price': 550000.0}, {'id': 'BPTcp1uYmiT3LuV2IdIVSA==', 'price': 23800000.0}, {'id': 'S0Bty3jGva76NRGLdmu6hw==', 'price': 700000.0}, {'id': 'PNsQNyV8J3dTjsVUY2oWpA==', 'price': 1050000.0}, {'id': 'gVSphmU0uLgwQTTH+YJTqw==', 'price': 480000.0}, {'id': '1Ps+hV0UrGXX0tg6O7SQlA==', 'price': 430000.0}, {'id': 'lhjSad83q/DI0sG3uRYSPQ==', 'price': 530000.0}, {'id': 'Hz9/2K9ef0S2DibvpjJPfg==', 'price': 325000.0}, {'id': 'Fw1jW3Po/y++6w0UGMPgiQ==', 'price': 440000.0}, {'id': 'VWbkiQAVMqAeW7RmkC62dw==', 'price': 620000.0}, {'id': 'RffbuxDX6aWuBx815ZZy8A==', 'price': 243000.0}, {'id': '3FnUVFlrJhUoEDCMDSaE7g==', 'price': 3500000.0}, {'id': 'n4E0BbxMQfzkCdV+G7XVHQ==', 'price': 293000.0}, {'id': 'bFXPKanBfGoTURgoQxWGwQ==', 'price': 5700000.0}, {'id': 'SgclYnt/2JdeI1st2kFm/g==', 'price': 1480000.0}, {'id': 'xgexUUGIdtK4gHCKvAX62A==', 'price': 1690000.0}, {'id': 'xbygkTO7L/Je+tAFTOBwGg==', 'price': 1400000.0}, {'id': 'TcfU/cr8EVNKP4F3ShjscA==', 'price': 425000.0}, {'id': 'z1b58rx9/A29mgoXOVZvcQ==', 'price': 590000.0}, {'id': 'Vk5jv5ZFE5Wn8oR6Ll8/dA==', 'price': 250000.0}, {'id': 'i4K5oAa9XpRs+1a0JA3gmA==', 'price': 450000.0}, {'id': 'Qf+k57S49ul0yNZFM5IbEw==', 'price': 1150000.0}, {'id': '55/l5t2AtC0fy5dhPwPx8g==', 'price': 690000.0}, {'id': 'nnlhlZfzGF7IdHZS4etDyw==', 'price': 1350000.0}, {'id': 'I64PsdkuIsIcqR6tOrV3Fg==', 'price': 440154.0}, {'id': 'ms+EMWT/jamfuxZKl+OT/w==', 'price': 225000.0}, {'id': 'I9y24ZrtyS1Xr0rkUskOYg==', 'price': 320000.0}, {'id': 'ae74/PUVExucKfPFgiYfZA==', 'price': 27058900.0}, {'id': 'h3IE87EMU4jFwS0jXjtndQ==', 'price': 280000.0}, {'id': 'wojjl6uMBoJcDrpNOlkjoA==', 'price': 7890000.0}, {'id': 'qNHvKYyNorfFCNEdTOoV1A==', 'price': 685000.0}, {'id': 'P3D5MWGRh/5y/ESYJjhdfw==', 'price': 420000.0}, {'id': 'sFXOPWAuRX4JAVgEiWKyzQ==', 'price': 900000.0}, {'id': 'DHl4D6LV5A2I13gQDIkpkA==', 'price': 629000.0}, {'id': 'DTmuuWG5tUdwBeyUFU/y+A==', 'price': 350000.0}, {'id': 'nMKMnE8KvTGV82lnSDOdHw==', 'price': 11746000.0}, {'id': 'LP4HgSi7eT/IK+lqq5S6sQ==', 'price': 1700000.0}, {'id': 'WMIm+1WXotCgUc0cS+pHDw==', 'price': 250000.0}, {'id': '5qEFjQDO8Zu1WGmRNYpU4Q==', 'price': 2200000.0}, {'id': 'Omou+AF+4nVfFvJMlVO2pw==', 'price': 521331.0}, {'id': 'iW7XrKGm8BD5c5ot4z+k2Q==', 'price': 200000.0}, {'id': 'mwIlALpqZ4Rn1kR539cBXg==', 'price': 420000.0}, {'id': 'je39MByyRLy0VQjfx2wY4w==', 'price': 4900000.0}, {'id': 'wobTih8FMA9oEh9BDUPgIg==', 'price': 860000.0}, {'id': 'hnCZkX7R3gbN6i3KQqEwTg==', 'price': 5046929.0}, {'id': 'xgRc9dGDgJYo3YhA9v1/0Q==', 'price': 1100000.0}, {'id': 'OK0OnfodvhSf2WKCXcXzxA==', 'price': 7231400.0}, {'id': 'jVxeBtqpaJ1QgvUKZhkx1A==', 'price': 685000.0}, {'id': 'qgsK35Pf7HMYu5qLv2G8bQ==', 'price': 265000.0}, {'id': 't4ZtdQnOAbP2IJJ3IlPzzg==', 'price': 550000.0}, {'id': 'WxOdnMpqYjvj0QeoBskTzg==', 'price': 340000.0}, {'id': 'r5hgE0ouzNGbXyhSf5U7Sw==', 'price': 700000.0}, {'id': 'Jw19j3DTI3KUTZv3j7YmZg==', 'price': 544000.0}, {'id': 'lgDfhm2i8LZ0p76Z+u2FhQ==', 'price': 870000.0}, {'id': '/foyrlCCc+DBzb0WbCxgRw==', 'price': 330000.0}, {'id': 'CaAVWELVuP5MIcWxWuAuNw==', 'price': 1200000.0}, {'id': 'cHsKC7icKUGLJ7/ygwI5zA==', 'price': 645000.0}, {'id': '9p0taOZu34AHwFkD/J40SA==', 'price': 630000.0}, {'id': '0ER1Z5uHgGWDtPg/28zGzQ==', 'price': 270000.0}, {'id': 'rVEkXAZ6VFw/jZZSE5RP8A==', 'price': 529000.0}, {'id': 'KL/BzQwYEe+maGhRUeKK/w==', 'price': 320000.0}, {'id': 'INhbSFY/WDRUMaZqCdOpxQ==', 'price': 1250000.0}, {'id': 'olM9tKDlTXnXhd7TjKUWNA==', 'price': 252000.0}, {'id': 'gUTnP/jpQgU2MwFo4Sooag==', 'price': 490000.0}, {'id': 'EX3oa7Et+2Xrq7/buATazw==', 'price': 270000.0}, {'id': 'vT2ipr7YgfX9m7sEwLoqow==', 'price': 480000.0}, {'id': '7MhttwBctvhVyQy39Vfuuw==', 'price': 690000.0}, {'id': '72PNZ7KuijH4GT0DfAcIdA==', 'price': 13435084.0}, {'id': 'D+lTwnWmvqc3EGncsbUTKQ==', 'price': 1450000.0}, {'id': 'jgNVwh2pPR7psdakqmODmQ==', 'price': 260000.0}, {'id': 'n/xmar3bX+VVTBCr5INh9g==', 'price': 590000.0}, {'id': '1KIFW5QhBlrFkvQfEp5FzA==', 'price': 995000.0}, {'id': '2bz1Vhgy+S5sTJd24wxenw==', 'price': 699000.0}, {'id': 'r84Pr0bL8SnZO0EB2gvn6Q==', 'price': 1900000.0}, {'id': 'qZAN49RYaYghx+hTDYpLpA==', 'price': 620000.0}, {'id': '4sFCtiGG/8FiUUkCHKEPTA==', 'price': 3900000.0}, {'id': 'dHwpMNi97UCYyWBHd/J7cA==', 'price': 350000.0}, {'id': 'XCgRRA5fw8WoNAj8jT1Tnw==', 'price': 5117955.0}, {'id': 'r+/n3nVq5bAx8Rxh6Qm07Q==', 'price': 630000.0}, {'id': 'ij+r9XCaowqkTwUSYPbg6g==', 'price': 430000.0}, {'id': '3SXVxRjVQP6/4KQWduHAsA==', 'price': 2800000.0}, {'id': '5XOWDC1GnXyskySb07wh+A==', 'price': 510000.0}, {'id': 'gIATcHU/BYFBMWlorbgIFw==', 'price': 850000.0}, {'id': 'cey+05urJU4jz5dvAowAig==', 'price': 11546946.0}, {'id': 'kbjr2z6c8UPcT3LugwxlIw==', 'price': 460000.0}, {'id': '4sInd1qGI9klH01qs6AUyQ==', 'price': 460000.0}, {'id': 'Rg91Ich1vnrdWMmc8iQ0lA==', 'price': 1050000.0}, {'id': '9rCD4FcHXguVKx1gvTaiOA==', 'price': 750000.0}, {'id': 'lL4hpXy9TelZAcha/LT7Ew==', 'price': 900000.0}, {'id': 'H0sL62Sn8wvoblUZ5i3skw==', 'price': 17521856.0}, {'id': 'trVjHuvQNmbZa2jlo6O6bQ==', 'price': 470000.0}, {'id': 'M8LCgusFJfoBdCroAIs0rg==', 'price': 349000.0}, {'id': 'gyzVsEcF8tZ/VnuRKzjgcg==', 'price': 11752000.0}, {'id': 'uvtQ3HPTZF4apLhMtZVE5A==', 'price': 710000.0}, {'id': 'niwLTKRyZeib4GVNClJ/aQ==', 'price': 3500000.0}, {'id': 'tuAiKV8bu4EQhXHk1AJo7g==', 'price': 730000.0}, {'id': 'DWvGsAx+qYHUCHapwOMrEQ==', 'price': 1400000.0}, {'id': 'KEsmsquWHk/w935xHXAbOw==', 'price': 3000000.0}, {'id': 'pce+yrXnjfMPbo1iF7nrrA==', 'price': 245000.0}, {'id': 'I4II7Pn67/jjOzYlatmhyQ==', 'price': 475000.0}, {'id': '3sMuUO90vBMVOqXY2FzXDA==', 'price': 440000.0}, {'id': 'V3dIVDxq68nXpI8P79yh9Q==', 'price': 240000.0}, {'id': 'Z8qOGk1XvWWOvRlb9biaRg==', 'price': 498000.0}, {'id': 'x6ucAzM68hFbHfMTAmTebw==', 'price': 420000.0}, {'id': 'lm/AVDLEQwA0wI3c/4qg7A==', 'price': 2500000.0}, {'id': 'vGQlpRmYlRYvxDT7Bjd+8Q==', 'price': 850000.0}, {'id': 'FDi+RPJj2Qwf6Km65vX3ng==', 'price': 480000.0}, {'id': 'yRhLub0FuPEBpdptdahvgA==', 'price': 450000.0}, {'id': '2H09oCZHGo88IzcfE+44/A==', 'price': 890000.0}, {'id': 'YZZ9S3VNHBd73kTyr2B7UQ==', 'price': 235000.0}, {'id': 'r0NV4sdSZ7060/LZUQ2F1A==', 'price': 750000.0}, {'id': 'JRvc0rAvx6M8Ay++CxwczA==', 'price': 198000.0}, {'id': '88Y0H+xWM0fSDZS3NwR8Fg==', 'price': 5187715.0}, {'id': 'WvB1OwUV5XAMLvGPuTUnuw==', 'price': 360000.0}, {'id': 'y3rSNexyly4HNggCyBNgiw==', 'price': 750000.0}, {'id': '5gOZg5A3LFvnxtJN2pMifw==', 'price': 890000.0}, {'id': 'CXOCx4kruROAqsy8snN9Ig==', 'price': 297500.0}, {'id': 'V1t22usTCxN5hroHb22rvw==', 'price': 370000.0}, {'id': 'IzSo2QeaJZ4CqdC8L4LwJA==', 'price': 480000.0}, {'id': 'tEoK/QVGP1w1I49whJYBTQ==', 'price': 540000.0}, {'id': 'Y96LXGBEfa/I8nSnBuD32A==', 'price': 450000.0}, {'id': 'g2hGlM3wzejjQb3Lyx2iCg==', 'price': 255000.0}, {'id': 'zFeHHw7lFtH288Gt9NcSPg==', 'price': 694000.0}, {'id': 'XUZKaFN3gLQRw33Gb+ZBKQ==', 'price': 343000.0}, {'id': 'UEdhvpAhepzxQzlAaVZuAA==', 'price': 200000.0}, {'id': 'fAv1rqL0LHZOiqDaDNwrzA==', 'price': 3000000.0}, {'id': 'MeKJ/DRCgPLUXNB+WLr07g==', 'price': 250000.0}, {'id': 'DrrJ+sqYFGu5WDHrPbdvnA==', 'price': 953000.0}, {'id': 'NW4JnfiMgSGmMW/Oy+n90Q==', 'price': 550000.0}, {'id': 'gU6bMbGOWVbYFnW5f8zGUA==', 'price': 1300000.0}, {'id': 'hVvoiVEC9qR0rEPumdyI6A==', 'price': 1200000.0}, {'id': 'ljh10a4ZiFbHu3y6NdmRoA==', 'price': 470000.0}, {'id': 'liB8uKdUs8o6+JnY6tIzUA==', 'price': 263000.0}, {'id': 'tZJbteL1hP9BgKK3kaZSNA==', 'price': 395000.0}, {'id': 'bIijah9jum1CFgYIU9kWLg==', 'price': 850000.0}, {'id': '6YcWmrO9k78QeCbCUTthnA==', 'price': 835000.0}, {'id': '6wjyVpARJQhXv6kC/Bz8Uw==', 'price': 8300000.0}, {'id': 'o2JGuaLH/PbQiOVJ74+57Q==', 'price': 545000.0}, {'id': 'xD9EUuwVg1A0qwRqB1jT7A==', 'price': 890000.0}, {'id': 'FVDWgI/v+gtu3dS4ATtf/w==', 'price': 1190000.0}, {'id': '/hhYDMcROo5DgupPqv07ig==', 'price': 300000.0}, {'id': 'M8JBGO8g3Icc0Bs3XRoWsQ==', 'price': 830000.0}, {'id': 'RwabDtMuJshXccL7aMJGRg==', 'price': 550000.0}, {'id': '8Oj8YdRlAr9g4pChqS/prg==', 'price': 560000.0}, {'id': 'PF6SZBG9REQPXaGMk35pVg==', 'price': 469000.0}, {'id': 'Mz5mLA23PzPnr46FyQhpfw==', 'price': 245000.0}, {'id': 'W4BqAeIQ7QFPYy1Si6ukiQ==', 'price': 420000.0}, {'id': 'sAn2ljePmxfAy7DFmx6CcQ==', 'price': 360000.0}, {'id': 'JNcXNVarZNj5v6oiRU1QMg==', 'price': 265000.0}, {'id': 'l/95U/XKey/YdTbwMKmOTQ==', 'price': 260000.0}, {'id': 'aChtNIiWZkH1AtBIhtuaNg==', 'price': 750000.0}, {'id': 'n+KQ79m36HpyzpRmZcKL8g==', 'price': 795000.0}, {'id': 'GAqvxody8ojpjOowgjy+KA==', 'price': 495000.0}, {'id': 'fOBLcnUP0oaXPrhQlALArQ==', 'price': 260000.0}, {'id': 'MJZHCakkqDuO1JLuLBgF3w==', 'price': 1111111.0}, {'id': 'PmT7Q+5xlIvUOYiQbuWAbA==', 'price': 448000.0}, {'id': 'cbZA1SzKHvhEadCGq6QQPQ==', 'price': 350000.0}, {'id': 'LkDzYh1qMDc3vxXWCCPv1g==', 'price': 390000.0}, {'id': '36VrkOQ+MJ60w/TeJF93LQ==', 'price': 700000.0}, {'id': 'a+anyFTOKCjyvAlAMpqhLg==', 'price': 385000.0}, {'id': '4XV28e4rzjfoT90KgnPF5w==', 'price': 460000.0}, {'id': 'bHU7ovMAEI9PQu3B2VtUew==', 'price': 21673000.0}, {'id': '5J76NSYgaOEI2YxWRU+xwA==', 'price': 255000.0}, {'id': 'BGy39/W9xCTatqI0g/2Y8w==', 'price': 600000.0}, {'id': 'h8CVVnSBl/H3uVLiiXNG+w==', 'price': 820000.0}, {'id': '5PUaPhYDOTI4FQdz7bACtA==', 'price': 530000.0}, {'id': 'Cv4MORYHOsknxCpXkfx27w==', 'price': 420000.0}, {'id': 'E4jexReTf6tw2eaP9O4S3Q==', 'price': 240000.0}, {'id': 'cwPIrDCADEJBlDm/1EuF/g==', 'price': 2500000.0}, {'id': '/Vi2V249R8tzBdcEkErt2A==', 'price': 850000.0}, {'id': '0wVAdXP8enFoipWMiquCJQ==', 'price': 249000.0}, {'id': 'o+lmFUVuNr/qnCdgnoAFPw==', 'price': 245000.0}, {'id': 'eHCn3qPsn3NZ91rak5VibA==', 'price': 1800000.0}, {'id': 'PN2Rq++6tDquidzWrYKM9A==', 'price': 1100000.0}, {'id': 'dbdLz8cRf2jTCETIx4zAOA==', 'price': 550000.0}, {'id': 'x3cEDglCcwdypgL6yHRYlA==', 'price': 3700000.0}, {'id': 'zC6UeQvW/Rn2m8RVwIi6pw==', 'price': 1580000.0}, {'id': 'Y/TV8Yrid5JGNCq0YkDOsg==', 'price': 980000.0}, {'id': '8sAyt+U78bnBFjlfuBIrIQ==', 'price': 255200.0}, {'id': 'qdikkJJ1D9HJX3D7Zk2jKw==', 'price': 25194304.0}, {'id': 'VnHKDs47Dw+MOL7iTCpGJQ==', 'price': 530000.0}, {'id': 'h4jd+F4EUEexEtMhmFCiBw==', 'price': 735000.0}, {'id': 'r6MYJX+mMMfOgubAkexy0A==', 'price': 9066486.0}, {'id': 'oS3cqCZdfHYVBUWRtBcMkQ==', 'price': 785000.0}, {'id': 'qQSF33GlHIP4p2jQPes1fQ==', 'price': 2700000.0}, {'id': 'xXF/14SQG+5KVav+6mW+rw==', 'price': 1500000.0}, {'id': 'xCu7Mmn7MuyUY/aDQeFJlg==', 'price': 425000.0}, {'id': 'Opzia7wEUFWL5P67KNi6Fw==', 'price': 950000.0}, {'id': 'WHdzfTihyWouWrn7rHd6qg==', 'price': 450000.0}, {'id': '775xM0BojQXo9HqK9x3u9Q==', 'price': 900000.0}, {'id': 'uTrT45qW75KcBo9tyIgAdA==', 'price': 1480000.0}, {'id': 'Zy7xv3Ttfwjddh0k89B/Wg==', 'price': 240000.0}, {'id': 'J3RtLlWEJAgKQ33jP6s9RQ==', 'price': 1300000.0}, {'id': 'ZAAGS2A2h2nMevWIW6YoJQ==', 'price': 360000.0}, {'id': '8dhLuEMhMdIdfiWyNNhSIQ==', 'price': 1150000.0}, {'id': 'GY69DYwDI62VNVJN+ZPqpQ==', 'price': 1300000.0}, {'id': 'SDv/brCa5XuLBctcaAcinw==', 'price': 1350000.0}, {'id': 'Z9r6z9iEiXISucq2elDyuw==', 'price': 280000.0}, {'id': 'VKsP3et1+jOKYUd85Dq0Vw==', 'price': 1600000.0}, {'id': '35rBRH73/cObVrTu+AVSUA==', 'price': 460000.0}, {'id': 'OBy2I1KUCkz8c/Qk0gpkyw==', 'price': 380000.0}, {'id': 'aQEKqyyh3GV+AIG+Srmuyw==', 'price': 1200000.0}, {'id': 'YZbOOQJcNfpCNv4sGs3oxw==', 'price': 1090000.0}, {'id': 'nBUz8Vhrjg5qXZnCq67OTw==', 'price': 250000.0}, {'id': 'F07kM8dmsrhozFDgnjoZmQ==', 'price': 1750000.0}, {'id': 'kBLMnXs2DOrAu/h/hysQaw==', 'price': 330000.0}, {'id': 'AhJYZz2vMPcg2nmnFHmVew==', 'price': 435000.0}, {'id': 'PmiTE542e0kdE3ADElboPg==', 'price': 710000.0}, {'id': 'xZ0PBPKpgwUNystbGtOwSA==', 'price': 249000.0}, {'id': 'OI+8Cgih2PvHUkF/BRZBaw==', 'price': 290000.0}, {'id': '8jnFTUk3wmIZ6x+ZaqIDdA==', 'price': 1080000.0}, {'id': 'RjOBl8Mic4oJfEoO9VRgqg==', 'price': 1600000.0}, {'id': 'mnvK/5RkKTsyOY4KgA5okw==', 'price': 320000.0}, {'id': 'L/xWmlvdhHlsOXq4o3Ou1g==', 'price': 640000.0}, {'id': 'usQGPPy1DtM/PerZEOMKiQ==', 'price': 550000.0}, {'id': 'W37ymk/hrMFtpbFBL+eHkQ==', 'price': 270000.0}, {'id': 'ujrbSEDO6JqQ3boPSGuc2A==', 'price': 13600000.0}, {'id': 'sPLLms1aa4W5L0mLBrg/zg==', 'price': 250000.0}, {'id': 'af7U5H/HGuP75tjXHLcApw==', 'price': 3000000.0}, {'id': 'CNuMyQOpgfou2yNJQTAeYQ==', 'price': 380000.0}, {'id': 'gyvB2OQOj24jeoj47/A0Qw==', 'price': 330000.0}, {'id': 'Xs0fp7BPtRGcTNe9Ony5eQ==', 'price': 255000.0}, {'id': '2gLv19g4vNUT9mQHZkBxkg==', 'price': 243000.0}, {'id': 'EsH9qX4B459nMJ96LQjRpg==', 'price': 248000.0}, {'id': 'OMa2CsnoboZrRh/r+SnT0g==', 'price': 260000.0}, {'id': '6PppyHJghrlANbUrzeBrbw==', 'price': 750000.0}, {'id': 'InnbLUFXXQg6BbIv2R5g4A==', 'price': 320000.0}, {'id': '5xIZtu+YMN6Gf3Gq9Wes3w==', 'price': 320000.0}, {'id': 'RcEn+y01l/CmmZoTkBMLgQ==', 'price': 800000.0}, {'id': 'TON++PqIwvYvYQ/CTWhVdQ==', 'price': 480000.0}, {'id': 'ENUnAbntRQ+4pyVg7B11Dg==', 'price': 420000.0}, {'id': 'bs0piNQ173fzeqx/mIozLA==', 'price': 260000.0}, {'id': 'Tv8oStWVoyZlMaE4aP+AKA==', 'price': 2490000.0}, {'id': 'fQvxP3rCMCr95yjDXcXLsw==', 'price': 4000000.0}, {'id': 'D73ytclknD+nLfABdlOK+w==', 'price': 790000.0}, {'id': 'pLn7wTOCUlUlYFnSTL02AQ==', 'price': 375000.0}, {'id': '2PzIVSA6PWQtp2D+FdmFAw==', 'price': 585000.0}, {'id': 'UOQwamtT1RtjXea3scVRSw==', 'price': 1334000.0}, {'id': 'J82z3jcuETuz1OtCX5Qwng==', 'price': 440000.0}, {'id': 'Y/1dhMoGcIQLk0Vd2QN+ow==', 'price': 520000.0}, {'id': 'TARtPGg3cizI7aIV1D1aAQ==', 'price': 590000.0}, {'id': 'dSrSxHgWv+Rf5aTCCb5+zw==', 'price': 700000.0}, {'id': 'LCLTdvSuyMNnKoNoJ/+Kog==', 'price': 720000.0}, {'id': 'a2iIsd2esWaHVj1L+ZXdBg==', 'price': 650000.0}, {'id': 'mhfI7yWtUNehC8mjiBPHmQ==', 'price': 900000.0}, {'id': 'j22/o/xh+4s9tUiE7KSpOg==', 'price': 13046455.0}, {'id': 'BTm2rMAvdn5LJ2JXhhvhZQ==', 'price': 1499000.0}, {'id': 'NTfOFiucMazVkRPy69eaYQ==', 'price': 28220000.0}, {'id': '0EiiR/C7G9bf6L2PN1B3fw==', 'price': 500000.0}, {'id': 'p3frZWcyCTcKGXRUToWanw==', 'price': 545000.0}, {'id': 'VEautI9I8Tr1Y9BzhBHl2g==', 'price': 5500000.0}, {'id': 'lkkm10LkDZ9v3kIfLVS1TQ==', 'price': 450000.0}, {'id': 'n5gZUTG7nlj8CCtzMcS8RA==', 'price': 520000.0}, {'id': 'GiYnhYLd5Nt66YrPC8XrRQ==', 'price': 670000.0}, {'id': 'OeMwSKwEO1TYDGO1UjIUWg==', 'price': 450000.0}, {'id': 'PA4c3c35n5qw7OY8VujTiw==', 'price': 1399000.0}, {'id': '/o2PbI5z9BeOAV6POLrYdg==', 'price': 600000.0}, {'id': 'WewnQmbbmeXySIIMqJKg8A==', 'price': 260000.0}, {'id': '5rVfTsWEtLqJpgs4YFcicg==', 'price': 495000.0}, {'id': 'RNPyfEnIzCS/xJ399A7FgQ==', 'price': 22100000.0}, {'id': 'W1NbAi6koEb/7rc6nEAJ1A==', 'price': 4000000.0}, {'id': 'VodqUPHvCsnuo/XYW1X2cg==', 'price': 1030000.0}, {'id': 'i34CwG57lTX3HBo8vV4rcQ==', 'price': 340000.0}, {'id': '3USgNkLxGvBb/lb7TWZ3UQ==', 'price': 268000.0}, {'id': 'lH1lI2MP0e0NUCdtWWkcjQ==', 'price': 260000.0}, {'id': 'P9/NayOilUH1YJ04vEOztg==', 'price': 4800000.0}, {'id': '0baEKxCBa+EeoXgRPHK+mQ==', 'price': 800000.0}, {'id': 'gopDDGx1+AgFwYFULO6LxQ==', 'price': 275000.0}, {'id': 'VR3muduPyfEK14o7sVQEXw==', 'price': 529000.0}, {'id': 'kJbG1DJIolfW18sWzNoEbQ==', 'price': 526000.0}, {'id': 'Xj5CT13L6rMoJe8feZYMcg==', 'price': 1980000.0}, {'id': 'emY5WE4/74rt4t3J1srWOA==', 'price': 2850000.0}, {'id': 'fBImLl0EazsUwNs0eg/6jg==', 'price': 320000.0}, {'id': 'ynPltWOz87zUCuhLxO+1FQ==', 'price': 330000.0}, {'id': 'O5W/5W9CiPi5JW7FNLlGuw==', 'price': 550000.0}, {'id': '/wWHtjL3mvSQn8dS4jbQrQ==', 'price': 3500000.0}, {'id': 'w5GuK0Cl7hEgUGgRmvCdQA==', 'price': 670000.0}, {'id': '5fkftCprx0dQr5s4NqulEw==', 'price': 720000.0}, {'id': 'qWmoIOpZb3y0p/EilaxMwg==', 'price': 829000.0}, {'id': 't+til6pXAjVt84m2fzqVyw==', 'price': 2100000.0}, {'id': 'ZZvVmZI8Udqt9is2zuqBIg==', 'price': 260000.0}, {'id': 'DosozNqIksJDpFGBxIdEag==', 'price': 5650000.0}, {'id': 'y0PQuZfM+uO0/a+JYl5tYw==', 'price': 290000.0}, {'id': 'iu4Efl+26hEgl0OL8Y56PA==', 'price': 550000.0}, {'id': 'vkNeMctepfjWRqY4qfrKSA==', 'price': 245000.0}, {'id': 'nZDwrt3IDI669/w28XGo/A==', 'price': 695000.0}, {'id': '/DTb/rJezRLHnuReU6ocYg==', 'price': 365000.0}, {'id': 'EY7eOMmUE77ykZRpSnwLQw==', 'price': 565200.0}, {'id': '6kRjWOq9gxo1yv8s73gSgw==', 'price': 1400000.0}, {'id': 'vDXIXH3cLvNFPxcSJd9MIg==', 'price': 398000.0}, {'id': 'eiGPckwqkbycAxr60cGxbg==', 'price': 420000.0}, {'id': 'QOkJ2buK1YuT1s8KgngmgA==', 'price': 390000.0}, {'id': 'rgM7iTo8IMtRDd36Fh8HCw==', 'price': 245000.0}, {'id': 'q39zqKo6qZKxLIUUbVjxcQ==', 'price': 800000.0}, {'id': 'X8/YOXs37SJ91QrFxIECdQ==', 'price': 280000.0}, {'id': '8RNKXB6Gya2v+xIl7e0EPg==', 'price': 239000.0}, {'id': 'YqImWEccO4NDXnnPSMLQEA==', 'price': 450000.0}, {'id': 'ddoCPy3GCl5JrdhKZeiHsQ==', 'price': 255000.0}, {'id': 'zPVgdbQ30XZJ22ptyFbv9w==', 'price': 470000.0}, {'id': 'iiwVtCxxxM2x+4aSiKDwsA==', 'price': 18900000.0}, {'id': 'tQzz8Il4o6vCIr8I2regQQ==', 'price': 1890000.0}, {'id': 'fPvEl7i1ENkc2yH1yzNrbQ==', 'price': 1500000.0}, {'id': 'aGW6FJj4eZ+sk99wC4QcSA==', 'price': 338000.0}, {'id': 'ZLNcY9vM7Un12L9OcODq8g==', 'price': 615000.0}, {'id': 'nkuhdiwu16tVgVYv2KNI6A==', 'price': 690000.0}, {'id': '+GUPx/w2Rpe67aI9l9DeZw==', 'price': 260000.0}, {'id': 'rQpZA4rTdrFVsHvqtm48og==', 'price': 520000.0}, {'id': 'dsY48PRlqKKIlrW0qV+lzQ==', 'price': 970000.0}, {'id': 'MZBPAZwDfXIbBvAimjBqWw==', 'price': 450000.0}, {'id': '17wr3bB3Fvmek5DH6gplEQ==', 'price': 250000.0}, {'id': 'TmUcDJ54TTbX0z3edMYABw==', 'price': 240000.0}, {'id': '4gcUuwEI88AWcEovO+7jOw==', 'price': 1250000.0}, {'id': 'C26D1lSVPJy255jTO/mSCg==', 'price': 540000.0}, {'id': '4RnRykMAyeYq+tHa8LmvNQ==', 'price': 850000.0}, {'id': 'Ho5hQP5uRbf0VK57/F+kiA==', 'price': 248000.0}, {'id': 'ygY6dmajf+Cmacy96FprIw==', 'price': 650000.0}, {'id': 'APYjYuIVnBHY0K1d3OOXGg==', 'price': 420000.0}, {'id': 'U4eGB0KjFARiKe0/iN5UMA==', 'price': 284000.0}, {'id': 'WCZVPoi/7PgvfUruaX9aLQ==', 'price': 795000.0}, {'id': 'y6ISVtpX2kbWOwfeo35btg==', 'price': 410800.0}, {'id': 'APCwSwKLk/CrQVgL+mhs/A==', 'price': 950000.0}, {'id': 'PjnT5vumNF9VwKvKaZmsww==', 'price': 725000.0}, {'id': '3gY29HIqfDcKt6IYzLgKnA==', 'price': 290000.0}, {'id': 'lumvW4GqUMb5w6JhV0Tb2A==', 'price': 590000.0}, {'id': 'Q1aFCTQKiaWyWyPrnbJWWw==', 'price': 600000.0}, {'id': '94rysGuwCKv/huHuzcQaLg==', 'price': 525000.0}, {'id': 'cQkN6t4qQg83XHNXzkKuAA==', 'price': 340000.0}, {'id': 'mRFqm+mVqKdfqPGmuGXF9A==', 'price': 450000.0}, {'id': 'aHm+57PmKpnrlzeIXkZYvA==', 'price': 2800000.0}, {'id': 'GCcZBnPkXa4HmomVoMTzdw==', 'price': 295000.0}, {'id': 'nAI5uTz6CsP7S3tG9C3K+g==', 'price': 415000.0}, {'id': 'eGVJ31Y6lvotxHb0RtGYjw==', 'price': 470000.0}, {'id': 'WcO6oVkd9gKCZeSmnwVuWg==', 'price': 395000.0}, {'id': 'YSkNUj+ijhpfUC1utFmFfw==', 'price': 730000.0}, {'id': 'l/0l3INdeWIwDQpO1H+hmA==', 'price': 949999.0}, {'id': '1tCwtKJkSi68AKEYwznyGA==', 'price': 1100000.0}, {'id': 'FeZ0Iu5Crc27T8sNVPr32g==', 'price': 680000.0}, {'id': 'r+osnzSKhBHC56TSKAkBYw==', 'price': 258000.0}, {'id': 'z1MRY7AryPyWDXiyw0xfYA==', 'price': 950000.0}, {'id': 'FjGFfcdxfBXC9Mdty6cRfQ==', 'price': 720000.0}, {'id': '9vceJhTWCdV9qWleuAdBhw==', 'price': 680000.0}, {'id': 'kWrStDRlWVrVRXKOYinyYQ==', 'price': 535000.0}, {'id': 'ENWRst+UQJVpFK9Rj+jszQ==', 'price': 310000.0}, {'id': 'eSjHdoukaTeiquyHGxOGqA==', 'price': 9589400.0}, {'id': 'dW5xxcoy4KyvDSTVmiIxaw==', 'price': 815000.0}, {'id': 'MTo31MVOJSgOkv17TJnN/g==', 'price': 540000.0}, {'id': 'xas9zsycFwbYgd4bfDobeA==', 'price': 450000.0}, {'id': 'sr2ea0MRvGk4/wj/wNvAMw==', 'price': 315000.0}, {'id': 'tiDWq03xDyemCawR55vrMw==', 'price': 1250000.0}, {'id': 'fPIxD3ZKqLDyOtp4ejtMtw==', 'price': 2300000.0}, {'id': 'K983CxNopW6SwQojiXis/g==', 'price': 450000.0}, {'id': 'TJMILPL6LXIc0Y4vrInb5A==', 'price': 612500.0}, {'id': 'nFTa4t81pk2wmjoP61opsg==', 'price': 530000.0}, {'id': 'bwSoJlCE5H41gwHxy72Efw==', 'price': 647000.0}, {'id': '8BYOBFiaV6TXLIFa6DNqBQ==', 'price': 1000000.0}, {'id': 'nPdAKBEqWb14V5vjCPJVjw==', 'price': 479000.0}, {'id': '6eEeVqXhcJruVZ5Vnx4p5A==', 'price': 16443000.0}, {'id': '/owhkNJ3gT39VVPsBL3vdg==', 'price': 1650000.0}, {'id': 'zQ7BHBKE9Vg6mM0cfD9FiA==', 'price': 470000.0}, {'id': 'rXkTgPCdHkwBso57MzRw/w==', 'price': 590000.0}, {'id': 'mrAnQn58XC1ClNErC6m5gA==', 'price': 410000.0}, {'id': 'ci6l6TGL8u7Fg3ijVW26wQ==', 'price': 1200000.0}, {'id': 'XtuTxyCIXWm3bAsNmrfA0Q==', 'price': 1150000.0}, {'id': 'WgL+PpSLIjO+cGXmn8OIhw==', 'price': 570000.0}, {'id': 'qP272NTVZLOGo/EevC5DPw==', 'price': 845000.0}, {'id': 'QUL8fCX4zcDpfi3lxtRoPw==', 'price': 450000.0}, {'id': 'goBYfo4mrAdawGGAMK0cIQ==', 'price': 720000.0}, {'id': 'n5zv1RZqaB9N3WolYh3Ykw==', 'price': 70550000.0}, {'id': 'nAo2Lt7Fyr82AqQsgAqR8A==', 'price': 500000.0}, {'id': 'Gqd4pILohSB2zBuw+hcY+A==', 'price': 270000.0}, {'id': 'Q0OmNEVRy7HGBriANoTXKg==', 'price': 760000.0}, {'id': 'v+aT+G6elwZSX38w9el7Bw==', 'price': 750000.0}, {'id': 'toa9Op0aByOlHeO8IH81ng==', 'price': 8695000.0}, {'id': 'mDTq8+QjLucAMBWluEW6cw==', 'price': 520000.0}, {'id': 'BMLHzNKa2cVeW4hFlfnWZA==', 'price': 1250000.0}, {'id': 'rsHV3kgjk+gtmkSb32Hojg==', 'price': 670000.0}, {'id': 'MCvEFrFlEokMZcORqsoOCQ==', 'price': 320000.0}, {'id': 'T7V27J16Y1S6gGu58u3JIw==', 'price': 310000.0}, {'id': '5WGZjySGb/v71THZsSBd0g==', 'price': 1200000.0}]\n"
          ]
        }
      ]
    },
    {
      "cell_type": "code",
      "source": [
        "# Calculate the cumulative price for each property type, ordered by the creation date.\n",
        "# 6th SQL query\n",
        "\n",
        "conn = sqlite3.connect('housingprice.db')\n",
        "\n",
        "sql_query = '''\n",
        "SELECT\n",
        "    ppd.property_type,\n",
        "    pd.created_on,\n",
        "    ppd.price,\n",
        "    SUM(ppd.price) OVER (PARTITION BY ppd.property_type ORDER BY pd.created_on) AS cumulative_price\n",
        "FROM\n",
        "    property_details pd\n",
        "JOIN\n",
        "    property_price_details ppd\n",
        "ON\n",
        "    pd.id = ppd.id\n",
        "ORDER BY\n",
        "    ppd.property_type, pd.created_on;\n",
        "'''\n",
        "\n",
        "df = pd.read_sql_query(sql_query, conn)\n",
        "\n",
        "cursor = conn.cursor()\n",
        "cursor.execute(sql_query)\n",
        "columns = [column[0] for column in cursor.description]\n",
        "result6 = [dict(zip(columns, row)) for row in cursor.fetchall()]\n",
        "cursor.close()\n",
        "print(result6[:20])\n",
        "conn.close()"
      ],
      "metadata": {
        "colab": {
          "base_uri": "https://localhost:8080/"
        },
        "id": "9acz6-Uh08ni",
        "outputId": "5119e3a5-c3cd-4bf8-d779-e33c6d0e6774"
      },
      "execution_count": null,
      "outputs": [
        {
          "output_type": "stream",
          "name": "stdout",
          "text": [
            "[{'property_type': 'Casa', 'created_on': '1/1/2021', 'price': 12000.0, 'cumulative_price': 2157000.0}, {'property_type': 'Casa', 'created_on': '1/1/2021', 'price': 3000.0, 'cumulative_price': 2157000.0}, {'property_type': 'Casa', 'created_on': '1/1/2021', 'price': 280000.0, 'cumulative_price': 2157000.0}, {'property_type': 'Casa', 'created_on': '1/1/2021', 'price': 3000.0, 'cumulative_price': 2157000.0}, {'property_type': 'Casa', 'created_on': '1/1/2021', 'price': 280000.0, 'cumulative_price': 2157000.0}, {'property_type': 'Casa', 'created_on': '1/1/2021', 'price': 350000.0, 'cumulative_price': 2157000.0}, {'property_type': 'Casa', 'created_on': '1/1/2021', 'price': 3000.0, 'cumulative_price': 2157000.0}, {'property_type': 'Casa', 'created_on': '1/1/2021', 'price': 2000.0, 'cumulative_price': 2157000.0}, {'property_type': 'Casa', 'created_on': '1/1/2021', 'price': 130000.0, 'cumulative_price': 2157000.0}, {'property_type': 'Casa', 'created_on': '1/1/2021', 'price': 190000.0, 'cumulative_price': 2157000.0}, {'property_type': 'Casa', 'created_on': '1/1/2021', 'price': 170000.0, 'cumulative_price': 2157000.0}, {'property_type': 'Casa', 'created_on': '1/1/2021', 'price': 210000.0, 'cumulative_price': 2157000.0}, {'property_type': 'Casa', 'created_on': '1/1/2021', 'price': 4000.0, 'cumulative_price': 2157000.0}, {'property_type': 'Casa', 'created_on': '1/1/2021', 'price': 520000.0, 'cumulative_price': 2157000.0}, {'property_type': 'Casa', 'created_on': '1/10/2021', 'price': 250000.0, 'cumulative_price': 4374300.0}, {'property_type': 'Casa', 'created_on': '1/10/2021', 'price': 55000.0, 'cumulative_price': 4374300.0}, {'property_type': 'Casa', 'created_on': '1/10/2021', 'price': 3700.0, 'cumulative_price': 4374300.0}, {'property_type': 'Casa', 'created_on': '1/10/2021', 'price': 1800.0, 'cumulative_price': 4374300.0}, {'property_type': 'Casa', 'created_on': '1/10/2021', 'price': 160000.0, 'cumulative_price': 4374300.0}, {'property_type': 'Casa', 'created_on': '1/10/2021', 'price': 780000.0, 'cumulative_price': 4374300.0}]\n"
          ]
        }
      ]
    },
    {
      "cell_type": "code",
      "source": [
        "# Identify the 10 locations (l3) with the highest total surface area (sum of surface_total) of properties listed for\n",
        "# sale (operation_type = 'Venta'):\n",
        "# 7 th SQL query\n",
        "\n",
        "conn = sqlite3.connect('housingprice.db')\n",
        "\n",
        "sql_query = '''\n",
        "SELECT pd.l3, SUM(pd.surface_total) AS total_surface_area\n",
        "FROM property_details pd\n",
        "JOIN property_price_details ppd ON pd.id = ppd.id\n",
        "WHERE ppd.operation_type = 'Venta'\n",
        "GROUP BY pd.l3\n",
        "ORDER BY total_surface_area DESC\n",
        "LIMIT 10;\n",
        "'''\n",
        "\n",
        "df = pd.read_sql_query(sql_query, conn)\n",
        "\n",
        "cursor = conn.cursor()\n",
        "cursor.execute(sql_query)\n",
        "columns = [column[0] for column in cursor.description]\n",
        "result7 = [dict(zip(columns, row)) for row in cursor.fetchall()]\n",
        "cursor.close()\n",
        "print(result7)\n",
        "conn.close()"
      ],
      "metadata": {
        "colab": {
          "base_uri": "https://localhost:8080/"
        },
        "id": "BZT4kNcY1p2W",
        "outputId": "cba27a6f-9026-4ab1-8045-5b3bd4330f5f"
      },
      "execution_count": null,
      "outputs": [
        {
          "output_type": "stream",
          "name": "stdout",
          "text": [
            "[{'l3': 'Tigre', 'total_surface_area': 454465.0}, {'l3': 'Rosario', 'total_surface_area': 331595.0}, {'l3': 'Palermo', 'total_surface_area': 249909.0}, {'l3': 'Pilar', 'total_surface_area': 214308.0}, {'l3': 'Belgrano', 'total_surface_area': 213462.0}, {'l3': 'San Isidro', 'total_surface_area': 175462.0}, {'l3': 'Villa Urquiza', 'total_surface_area': 171980.0}, {'l3': 'La Plata', 'total_surface_area': 168131.0}, {'l3': 'Vicente López', 'total_surface_area': 145303.0}, {'l3': 'Escobar', 'total_surface_area': 138415.0}]\n"
          ]
        }
      ]
    },
    {
      "cell_type": "code",
      "source": [
        "# Find the top 5 most expensive properties (based on price) in the \"Palermo\" neighborhood (l3) that were listed\n",
        "# in August 2020:\n",
        "# 8th SQL query\n",
        "\n",
        "conn = sqlite3.connect('housingprice.db')\n",
        "\n",
        "sql_query = '''\n",
        "SELECT pd.id, pd.l3, ppd.price, pd.created_on\n",
        "FROM property_details pd\n",
        "JOIN property_price_details ppd ON pd.id = ppd.id\n",
        "WHERE pd.l3 = 'Palermo'\n",
        "    AND pd.created_on BETWEEN '01/08/2020' AND '31/08/2020'\n",
        "ORDER BY ppd.price DESC\n",
        "LIMIT 5;\n",
        "'''\n",
        "df = pd.read_sql_query(sql_query, conn)\n",
        "\n",
        "cursor = conn.cursor()\n",
        "cursor.execute(sql_query)\n",
        "columns = [column[0] for column in cursor.description]\n",
        "result8 = [dict(zip(columns, row)) for row in cursor.fetchall()]\n",
        "cursor.close()\n",
        "print(result8)\n",
        "conn.close()"
      ],
      "metadata": {
        "colab": {
          "base_uri": "https://localhost:8080/"
        },
        "id": "kpNMkzQpABPW",
        "outputId": "474cb940-37f6-4290-c9dc-6d883dccca52"
      },
      "execution_count": null,
      "outputs": [
        {
          "output_type": "stream",
          "name": "stdout",
          "text": [
            "[{'id': 'fQvxP3rCMCr95yjDXcXLsw==', 'l3': 'Palermo', 'price': 4000000.0, 'created_on': '11/2/2020'}, {'id': 'Jm73HaBzZwjeGid42k0uxA==', 'l3': 'Palermo', 'price': 3900000.0, 'created_on': '1/4/2021'}, {'id': 'leF3/bmi1+74bUTYtrWqYA==', 'l3': 'Palermo', 'price': 3500000.0, 'created_on': '2/17/2020'}, {'id': 'qMqomixZ13U9xBVo96bTDQ==', 'l3': 'Palermo', 'price': 3500000.0, 'created_on': '11/1/2020'}, {'id': 'eyg1nx6XUIn8AK6CHMaH8Q==', 'l3': 'Palermo', 'price': 3400000.0, 'created_on': '11/3/2020'}]\n"
          ]
        }
      ]
    },
    {
      "cell_type": "code",
      "source": [
        "# Find the top 3 properties with the highest price per square meter (price divided by surface area) within each\n",
        "# property type.\n",
        "# 9th SQL query\n",
        "\n",
        "conn = sqlite3.connect('housingprice.db')\n",
        "\n",
        "sql_query = '''\n",
        "WITH ranked_properties AS (\n",
        "    SELECT\n",
        "        pd.id,\n",
        "        ppd.property_type,\n",
        "        ppd.price / pd.surface_total AS price_per_sq_meter,\n",
        "        ROW_NUMBER() OVER(PARTITION BY ppd.property_type ORDER BY ppd.price / pd.surface_total DESC) AS rank_within_type\n",
        "    FROM property_details pd\n",
        "    JOIN property_price_details ppd ON pd.id = ppd.id\n",
        ")\n",
        "SELECT\n",
        "    rp.id,\n",
        "    rp.property_type,\n",
        "    rp.price_per_sq_meter,\n",
        "    pd.l3 AS neighborhood,\n",
        "    pd.created_on AS listing_date\n",
        "FROM ranked_properties rp\n",
        "JOIN property_details pd ON rp.id = pd.id\n",
        "WHERE rp.rank_within_type <= 3\n",
        "ORDER BY rp.property_type, rp.rank_within_type;\n",
        "'''\n",
        "\n",
        "df = pd.read_sql_query(sql_query, conn)\n",
        "\n",
        "cursor = conn.cursor()\n",
        "cursor.execute(sql_query)\n",
        "columns = [column[0] for column in cursor.description]\n",
        "result9 = [dict(zip(columns, row)) for row in cursor.fetchall()]\n",
        "cursor.close()\n",
        "print(result9)\n",
        "print(df)\n",
        "conn.close()"
      ],
      "metadata": {
        "colab": {
          "base_uri": "https://localhost:8080/"
        },
        "id": "yg1mFBmPAoaY",
        "outputId": "a3009a4f-4f25-4934-d525-eba9877adc94"
      },
      "execution_count": null,
      "outputs": [
        {
          "output_type": "stream",
          "name": "stdout",
          "text": [
            "[{'id': '4uEUcuIO6yA9ZD4PBAXjVw==', 'property_type': 'Casa', 'price_per_sq_meter': 277862.59541984735, 'neighborhood': 'San Fernando', 'listing_date': '7/21/2020'}, {'id': 'PowAluD2jcoKjBuOE8eALw==', 'property_type': 'Casa', 'price_per_sq_meter': 198345.13043478262, 'neighborhood': None, 'listing_date': '5/19/2020'}, {'id': 'ujrbSEDO6JqQ3boPSGuc2A==', 'property_type': 'Casa', 'price_per_sq_meter': 194285.7142857143, 'neighborhood': 'Rosario', 'listing_date': '12/17/2020'}, {'id': 'L/hHlfmnL44avxcBKaEdFA==', 'property_type': 'Casa de campo', 'price_per_sq_meter': 253.74105400130122, 'neighborhood': 'Moreno', 'listing_date': '1/7/2021'}, {'id': 'lkb1/y0lWTtuynnIXk/3vQ==', 'property_type': 'Casa de campo', 'price_per_sq_meter': 157.08661417322836, 'neighborhood': 'Ezeiza', 'listing_date': '2/7/2020'}, {'id': 'Y/zwWcn7uOycF+zPMv3+0Q==', 'property_type': 'Casa de campo', 'price_per_sq_meter': 22.83571915473756, 'neighborhood': 'Punta Indio', 'listing_date': '7/3/2020'}, {'id': '27nCoOot/g4/EZwFNwplUQ==', 'property_type': 'Cochera', 'price_per_sq_meter': 1250.0, 'neighborhood': 'Rosario', 'listing_date': '9/1/2020'}, {'id': 'HXIedfxrdJkcwDVkQeRi4Q==', 'property_type': 'Cochera', 'price_per_sq_meter': 211.26760563380282, 'neighborhood': 'Córdoba', 'listing_date': '7/14/2020'}, {'id': 'A3oPmqYgyU2m8Keaxn5lRw==', 'property_type': 'Cochera', 'price_per_sq_meter': 197.18309859154928, 'neighborhood': 'Córdoba', 'listing_date': '7/14/2020'}, {'id': 'shQ41FdOdKIxclSV+DrQ5Q==', 'property_type': 'Departamento', 'price_per_sq_meter': 559920.6349206349, 'neighborhood': 'Rosario', 'listing_date': '11/24/2020'}, {'id': 'n5zv1RZqaB9N3WolYh3Ykw==', 'property_type': 'Departamento', 'price_per_sq_meter': 559920.6349206349, 'neighborhood': 'Rosario', 'listing_date': '11/13/2020'}, {'id': 'OwMu9VcPaYnoEIgs9YOyIQ==', 'property_type': 'Departamento', 'price_per_sq_meter': 488750.0, 'neighborhood': 'San Lorenzo', 'listing_date': '11/13/2020'}, {'id': 'OiwQ+uDzl+q+hwgepGHyoQ==', 'property_type': 'Depósito', 'price_per_sq_meter': 1331.958762886598, 'neighborhood': 'Vicente López', 'listing_date': '6/3/2020'}, {'id': '39vyn2i7Em6cbkKwWo5+0w==', 'property_type': 'Depósito', 'price_per_sq_meter': 1203.076923076923, 'neighborhood': 'Barracas', 'listing_date': '6/2/2020'}, {'id': 'ccn2TwbQGXgRv98Zy5iCdA==', 'property_type': 'Depósito', 'price_per_sq_meter': 939.7590361445783, 'neighborhood': 'San Isidro', 'listing_date': '12/4/2020'}, {'id': 'W1NbAi6koEb/7rc6nEAJ1A==', 'property_type': 'Local comercial', 'price_per_sq_meter': 100000.0, 'neighborhood': 'Salta', 'listing_date': '10/20/2020'}, {'id': 'P2q2sFf8AFO9BF1BTMYv/Q==', 'property_type': 'Local comercial', 'price_per_sq_meter': 66150.0, 'neighborhood': 'Rosario', 'listing_date': '2/13/2020'}, {'id': 'yi1GOH2zOwilimc0SnSeVA==', 'property_type': 'Local comercial', 'price_per_sq_meter': 7029.411764705882, 'neighborhood': 'Vicente López', 'listing_date': '3/26/2020'}, {'id': '8+TQSLK+EYUCHOESafJjLw==', 'property_type': 'Lote', 'price_per_sq_meter': 32432.432432432433, 'neighborhood': 'Merlo', 'listing_date': '11/10/2020'}, {'id': 'Byq3NAYNqOsbGAxjMjXr3Q==', 'property_type': 'Lote', 'price_per_sq_meter': 7575.757575757576, 'neighborhood': 'Escobar', 'listing_date': '11/20/2020'}, {'id': 'KEsmsquWHk/w935xHXAbOw==', 'property_type': 'Lote', 'price_per_sq_meter': 5102.040816326531, 'neighborhood': 'Vicente López', 'listing_date': '7/28/2020'}, {'id': 'p4QtSeddOXgPGAkWLCvWIA==', 'property_type': 'Oficina', 'price_per_sq_meter': 170184.90566037735, 'neighborhood': 'Confluencia', 'listing_date': '10/21/2020'}, {'id': 'G4pkU6hvAcsxnfiPH3qCbA==', 'property_type': 'Oficina', 'price_per_sq_meter': 5270.27027027027, 'neighborhood': 'Palermo', 'listing_date': '6/21/2020'}, {'id': 'dq5EfMbfwaAmMKqvAdNO9w==', 'property_type': 'Oficina', 'price_per_sq_meter': 4633.333333333333, 'neighborhood': 'Barrio Norte', 'listing_date': '12/29/2020'}, {'id': 'k7QdyTsiPtoytS6KDLTe+A==', 'property_type': 'Otro', 'price_per_sq_meter': 51724.137931034486, 'neighborhood': 'Santa Fe', 'listing_date': '5/28/2020'}, {'id': 'v5RsVZW4C1X6OGpTUFrA6g==', 'property_type': 'Otro', 'price_per_sq_meter': 31000.0, 'neighborhood': 'Calingasta', 'listing_date': '6/1/2020'}, {'id': 'Vk+rUxVm04w0dy0m6fZPTg==', 'property_type': 'Otro', 'price_per_sq_meter': 18260.0, 'neighborhood': None, 'listing_date': '1/6/2021'}, {'id': 'S9e+o56oek2yMWFL/byXhg==', 'property_type': 'PH', 'price_per_sq_meter': 132650.0, 'neighborhood': 'Rosario', 'listing_date': '6/13/2020'}, {'id': 'bpw2zhTyKijNBqCL5r17+g==', 'property_type': 'PH', 'price_per_sq_meter': 90141.30434782608, 'neighborhood': 'Rosario', 'listing_date': '8/25/2020'}, {'id': 'lINKrnLl3fwBuoXEciHdsg==', 'property_type': 'PH', 'price_per_sq_meter': 81395.3488372093, 'neighborhood': 'Mar de Ajó', 'listing_date': '5/31/2020'}]\n",
            "                          id    property_type  price_per_sq_meter  \\\n",
            "0   4uEUcuIO6yA9ZD4PBAXjVw==             Casa       277862.595420   \n",
            "1   PowAluD2jcoKjBuOE8eALw==             Casa       198345.130435   \n",
            "2   ujrbSEDO6JqQ3boPSGuc2A==             Casa       194285.714286   \n",
            "3   L/hHlfmnL44avxcBKaEdFA==    Casa de campo          253.741054   \n",
            "4   lkb1/y0lWTtuynnIXk/3vQ==    Casa de campo          157.086614   \n",
            "5   Y/zwWcn7uOycF+zPMv3+0Q==    Casa de campo           22.835719   \n",
            "6   27nCoOot/g4/EZwFNwplUQ==          Cochera         1250.000000   \n",
            "7   HXIedfxrdJkcwDVkQeRi4Q==          Cochera          211.267606   \n",
            "8   A3oPmqYgyU2m8Keaxn5lRw==          Cochera          197.183099   \n",
            "9   shQ41FdOdKIxclSV+DrQ5Q==     Departamento       559920.634921   \n",
            "10  n5zv1RZqaB9N3WolYh3Ykw==     Departamento       559920.634921   \n",
            "11  OwMu9VcPaYnoEIgs9YOyIQ==     Departamento       488750.000000   \n",
            "12  OiwQ+uDzl+q+hwgepGHyoQ==         Depósito         1331.958763   \n",
            "13  39vyn2i7Em6cbkKwWo5+0w==         Depósito         1203.076923   \n",
            "14  ccn2TwbQGXgRv98Zy5iCdA==         Depósito          939.759036   \n",
            "15  W1NbAi6koEb/7rc6nEAJ1A==  Local comercial       100000.000000   \n",
            "16  P2q2sFf8AFO9BF1BTMYv/Q==  Local comercial        66150.000000   \n",
            "17  yi1GOH2zOwilimc0SnSeVA==  Local comercial         7029.411765   \n",
            "18  8+TQSLK+EYUCHOESafJjLw==             Lote        32432.432432   \n",
            "19  Byq3NAYNqOsbGAxjMjXr3Q==             Lote         7575.757576   \n",
            "20  KEsmsquWHk/w935xHXAbOw==             Lote         5102.040816   \n",
            "21  p4QtSeddOXgPGAkWLCvWIA==          Oficina       170184.905660   \n",
            "22  G4pkU6hvAcsxnfiPH3qCbA==          Oficina         5270.270270   \n",
            "23  dq5EfMbfwaAmMKqvAdNO9w==          Oficina         4633.333333   \n",
            "24  k7QdyTsiPtoytS6KDLTe+A==             Otro        51724.137931   \n",
            "25  v5RsVZW4C1X6OGpTUFrA6g==             Otro        31000.000000   \n",
            "26  Vk+rUxVm04w0dy0m6fZPTg==             Otro        18260.000000   \n",
            "27  S9e+o56oek2yMWFL/byXhg==               PH       132650.000000   \n",
            "28  bpw2zhTyKijNBqCL5r17+g==               PH        90141.304348   \n",
            "29  lINKrnLl3fwBuoXEciHdsg==               PH        81395.348837   \n",
            "\n",
            "     neighborhood listing_date  \n",
            "0    San Fernando    7/21/2020  \n",
            "1            None    5/19/2020  \n",
            "2         Rosario   12/17/2020  \n",
            "3          Moreno     1/7/2021  \n",
            "4          Ezeiza     2/7/2020  \n",
            "5     Punta Indio     7/3/2020  \n",
            "6         Rosario     9/1/2020  \n",
            "7         Córdoba    7/14/2020  \n",
            "8         Córdoba    7/14/2020  \n",
            "9         Rosario   11/24/2020  \n",
            "10        Rosario   11/13/2020  \n",
            "11    San Lorenzo   11/13/2020  \n",
            "12  Vicente López     6/3/2020  \n",
            "13       Barracas     6/2/2020  \n",
            "14     San Isidro    12/4/2020  \n",
            "15          Salta   10/20/2020  \n",
            "16        Rosario    2/13/2020  \n",
            "17  Vicente López    3/26/2020  \n",
            "18          Merlo   11/10/2020  \n",
            "19        Escobar   11/20/2020  \n",
            "20  Vicente López    7/28/2020  \n",
            "21    Confluencia   10/21/2020  \n",
            "22        Palermo    6/21/2020  \n",
            "23   Barrio Norte   12/29/2020  \n",
            "24       Santa Fe    5/28/2020  \n",
            "25     Calingasta     6/1/2020  \n",
            "26           None     1/6/2021  \n",
            "27        Rosario    6/13/2020  \n",
            "28        Rosario    8/25/2020  \n",
            "29     Mar de Ajó    5/31/2020  \n"
          ]
        }
      ]
    },
    {
      "cell_type": "code",
      "source": [
        "# Find the top 3 locations (l1, l2, l3) with the highest average price per square meter (price / surface_total) for\n",
        "# properties listed for sale (operation_type = 'Venta') in the year 2020. Exclude locations with fewer than 10\n",
        "# properties listed for sale in 2020 from the results.\n",
        "# 10 th SQL query\n",
        "\n",
        "conn = sqlite3.connect('housingprice.db')\n",
        "\n",
        "sql_query = '''\n",
        "WITH filtered_properties AS (\n",
        "    SELECT\n",
        "        pd.l1,\n",
        "        pd.l2,\n",
        "        pd.l3,\n",
        "        ppd.price / pd.surface_total AS price_per_sq_meter\n",
        "    FROM\n",
        "        property_details pd\n",
        "    JOIN\n",
        "        property_price_details ppd\n",
        "    ON\n",
        "        pd.id = ppd.id\n",
        "    WHERE\n",
        "        ppd.operation_type = 'Venta'\n",
        "        AND pd.created_on BETWEEN '01/01/2020' AND '12/31/2020'\n",
        ")\n",
        ", location_stats AS (\n",
        "    SELECT\n",
        "        l1,\n",
        "        l2,\n",
        "        l3,\n",
        "        AVG(price_per_sq_meter) AS avg_price_per_sq_meter,\n",
        "        COUNT(*) AS property_count\n",
        "    FROM\n",
        "        filtered_properties\n",
        "    GROUP BY\n",
        "        l1, l2, l3\n",
        "    HAVING\n",
        "        property_count >= 10\n",
        ")\n",
        "SELECT\n",
        "    l1,\n",
        "    l2,\n",
        "    l3,\n",
        "    avg_price_per_sq_meter\n",
        "FROM\n",
        "    location_stats\n",
        "ORDER BY\n",
        "    avg_price_per_sq_meter DESC\n",
        "LIMIT 3;\n",
        "'''\n",
        "\n",
        "df = pd.read_sql_query(sql_query, conn)\n",
        "\n",
        "print(df)\n",
        "cursor = conn.cursor()\n",
        "cursor.execute(sql_query)\n",
        "columns = [column[0] for column in cursor.description]\n",
        "result10 = [dict(zip(columns, row)) for row in cursor.fetchall()]\n",
        "cursor.close()\n",
        "print(result10)\n",
        "conn.close()"
      ],
      "metadata": {
        "colab": {
          "base_uri": "https://localhost:8080/"
        },
        "id": "g3uDr8BfDF1f",
        "outputId": "c6c1e3e5-380e-4828-d516-4e541a9e3913"
      },
      "execution_count": null,
      "outputs": [
        {
          "output_type": "stream",
          "name": "stdout",
          "text": [
            "          l1        l2           l3  avg_price_per_sq_meter\n",
            "0  Argentina  Santa Fe  San Lorenzo             42414.59416\n",
            "1  Argentina   Neuquén  Confluencia             40635.61532\n",
            "2  Argentina   Córdoba         None             28385.27126\n",
            "[{'l1': 'Argentina', 'l2': 'Santa Fe', 'l3': 'San Lorenzo', 'avg_price_per_sq_meter': 42414.59415970558}, {'l1': 'Argentina', 'l2': 'Neuquén', 'l3': 'Confluencia', 'avg_price_per_sq_meter': 40635.61531985545}, {'l1': 'Argentina', 'l2': 'Córdoba', 'l3': None, 'avg_price_per_sq_meter': 28385.27126049326}]\n"
          ]
        }
      ]
    },
    {
      "cell_type": "code",
      "source": [],
      "metadata": {
        "id": "U5UaBXOhEW6y"
      },
      "execution_count": null,
      "outputs": []
    },
    {
      "cell_type": "code",
      "source": [
        "# Section 3: Expose the results in API\n"
      ],
      "metadata": {
        "id": "Y2ym3Y8HEXMS"
      },
      "execution_count": null,
      "outputs": []
    },
    {
      "cell_type": "code",
      "source": [
        "!pip install flask"
      ],
      "metadata": {
        "colab": {
          "base_uri": "https://localhost:8080/"
        },
        "id": "vebOYxrsdOid",
        "outputId": "28f25ac8-a9d5-4caa-9d83-7c303502b5d5"
      },
      "execution_count": null,
      "outputs": [
        {
          "output_type": "stream",
          "name": "stdout",
          "text": [
            "Requirement already satisfied: flask in /usr/local/lib/python3.10/dist-packages (2.2.5)\n",
            "Requirement already satisfied: Werkzeug>=2.2.2 in /usr/local/lib/python3.10/dist-packages (from flask) (2.3.7)\n",
            "Requirement already satisfied: Jinja2>=3.0 in /usr/local/lib/python3.10/dist-packages (from flask) (3.1.2)\n",
            "Requirement already satisfied: itsdangerous>=2.0 in /usr/local/lib/python3.10/dist-packages (from flask) (2.1.2)\n",
            "Requirement already satisfied: click>=8.0 in /usr/local/lib/python3.10/dist-packages (from flask) (8.1.7)\n",
            "Requirement already satisfied: MarkupSafe>=2.0 in /usr/local/lib/python3.10/dist-packages (from Jinja2>=3.0->flask) (2.1.3)\n"
          ]
        }
      ]
    },
    {
      "cell_type": "code",
      "source": [
        "!pip install flask-ngrok"
      ],
      "metadata": {
        "colab": {
          "base_uri": "https://localhost:8080/"
        },
        "id": "Cs95xMeEOWHw",
        "outputId": "133b7a56-18c5-476f-e13a-02f949848fe9"
      },
      "execution_count": null,
      "outputs": [
        {
          "output_type": "stream",
          "name": "stdout",
          "text": [
            "Collecting flask-ngrok\n",
            "  Downloading flask_ngrok-0.0.25-py3-none-any.whl (3.1 kB)\n",
            "Requirement already satisfied: Flask>=0.8 in /usr/local/lib/python3.10/dist-packages (from flask-ngrok) (2.2.5)\n",
            "Requirement already satisfied: requests in /usr/local/lib/python3.10/dist-packages (from flask-ngrok) (2.31.0)\n",
            "Requirement already satisfied: Werkzeug>=2.2.2 in /usr/local/lib/python3.10/dist-packages (from Flask>=0.8->flask-ngrok) (2.3.7)\n",
            "Requirement already satisfied: Jinja2>=3.0 in /usr/local/lib/python3.10/dist-packages (from Flask>=0.8->flask-ngrok) (3.1.2)\n",
            "Requirement already satisfied: itsdangerous>=2.0 in /usr/local/lib/python3.10/dist-packages (from Flask>=0.8->flask-ngrok) (2.1.2)\n",
            "Requirement already satisfied: click>=8.0 in /usr/local/lib/python3.10/dist-packages (from Flask>=0.8->flask-ngrok) (8.1.7)\n",
            "Requirement already satisfied: charset-normalizer<4,>=2 in /usr/local/lib/python3.10/dist-packages (from requests->flask-ngrok) (3.2.0)\n",
            "Requirement already satisfied: idna<4,>=2.5 in /usr/local/lib/python3.10/dist-packages (from requests->flask-ngrok) (3.4)\n",
            "Requirement already satisfied: urllib3<3,>=1.21.1 in /usr/local/lib/python3.10/dist-packages (from requests->flask-ngrok) (2.0.4)\n",
            "Requirement already satisfied: certifi>=2017.4.17 in /usr/local/lib/python3.10/dist-packages (from requests->flask-ngrok) (2023.7.22)\n",
            "Requirement already satisfied: MarkupSafe>=2.0 in /usr/local/lib/python3.10/dist-packages (from Jinja2>=3.0->Flask>=0.8->flask-ngrok) (2.1.3)\n",
            "Installing collected packages: flask-ngrok\n",
            "Successfully installed flask-ngrok-0.0.25\n"
          ]
        }
      ]
    },
    {
      "cell_type": "code",
      "source": [
        "!curl -s https://ngrok-agent.s3.amazonaws.com/ngrok.asc | sudo tee /etc/apt/trusted.gpg.d/ngrok.asc >/dev/null && echo \"deb https://ngrok-agent.s3.amazonaws.com buster main\" | sudo tee /etc/apt/sources.list.d/ngrok.list && sudo apt update && sudo apt install ngrok"
      ],
      "metadata": {
        "id": "odbECTqPmQEC"
      },
      "execution_count": null,
      "outputs": []
    },
    {
      "cell_type": "code",
      "source": [
        "!pip install pyngrok"
      ],
      "metadata": {
        "id": "ZuaCNh8GcS3n"
      },
      "execution_count": null,
      "outputs": []
    },
    {
      "cell_type": "code",
      "source": [
        "from flask import Flask\n",
        "from pyngrok import ngrok"
      ],
      "metadata": {
        "id": "9QqE_AtxcwBe"
      },
      "execution_count": null,
      "outputs": []
    },
    {
      "cell_type": "code",
      "source": [
        "# install ngrok linux version using the following command or you can get the\n",
        "# latest version from its official website- https://dashboard.ngrok.com/get-started/setup\n",
        "\n",
        "!wget https://bin.equinox.io/c/4VmDzA7iaHb/ngrok-stable-linux-amd64.tgz"
      ],
      "metadata": {
        "id": "1ggBWHkBg5JL"
      },
      "execution_count": null,
      "outputs": []
    },
    {
      "cell_type": "code",
      "source": [
        "# extract the downloaded file using the following command\n",
        "\n",
        "!tar -xvf /content/ngrok-stable-linux-amd64.tgz"
      ],
      "metadata": {
        "colab": {
          "base_uri": "https://localhost:8080/"
        },
        "id": "Ltu5RYbyg--O",
        "outputId": "c9459441-1981-443e-ea69-629479e95e2f"
      },
      "execution_count": null,
      "outputs": [
        {
          "output_type": "stream",
          "name": "stdout",
          "text": [
            "ngrok\n"
          ]
        }
      ]
    },
    {
      "cell_type": "code",
      "source": [
        "!ngrok config add-authtoken 2VsvVItCCql5wScgzYn4AuFIZbk_781VkYFjexVke3q4XeCgz"
      ],
      "metadata": {
        "colab": {
          "base_uri": "https://localhost:8080/"
        },
        "id": "R_I-kdY5hLzR",
        "outputId": "59bd95b8-9d17-42bf-929f-bdf3c5960caf"
      },
      "execution_count": null,
      "outputs": [
        {
          "output_type": "stream",
          "name": "stdout",
          "text": [
            "Authtoken saved to configuration file: /root/.ngrok2/ngrok.yml\n"
          ]
        }
      ]
    },
    {
      "cell_type": "code",
      "source": [
        "from flask_ngrok import run_with_ngrok\n",
        "from flask import Flask,jsonify,request\n",
        "\n",
        "# Running the flask app\n",
        "app = Flask(__name__)\n",
        "\n",
        "# Starting the ngrok when app is run\n",
        "run_with_ngrok(app)\n",
        "\n",
        "@app.route('/',methods=['Get'])\n",
        "def root():\n",
        "  return \"!!Welcome To The Housing Price API!!\"\n",
        "#API endpoints for question-1\n",
        "@app.route('/question-1',methods=['GET'])\n",
        "def question1():\n",
        "   return result1\n",
        "\n",
        "#API endpoints for question-2\n",
        "@app.route('/question-2',methods=['GET'])\n",
        "def question2():\n",
        "  return result2\n",
        "\n",
        "#API endpoints for question-3\n",
        "@app.route('/question-3',methods=['GET'])\n",
        "def question3():\n",
        "  return result3\n",
        "\n",
        "#API endpoints for question-4\n",
        "@app.route('/question-4',methods=['GET'])\n",
        "def question4():\n",
        "  return result4\n",
        "\n",
        "#API endpoints for question-5\n",
        "@app.route('/question-5',methods=['GET'])\n",
        "def question5():\n",
        "  return result5\n",
        "\n",
        "#API endpoints for question-6\n",
        "@app.route('/question-6',methods=['GET'])\n",
        "def question6():\n",
        "  return result6\n",
        "\n",
        "#API endpoints for question-7\n",
        "@app.route('/question-7',methods=['GET'])\n",
        "def question7():\n",
        "  return result7\n",
        "\n",
        "#API endpoints for question-8\n",
        "@app.route('/question-8',methods=['GET'])\n",
        "def question8():\n",
        "  return result8\n",
        "\n",
        "#API endpoints for question-9\n",
        "@app.route('/question-9',methods=['GET'])\n",
        "def question9():\n",
        "  return result9\n",
        "\n",
        "#API endpoints for question-10\n",
        "@app.route('/question-10',methods=['GET'])\n",
        "def question10():\n",
        "  return result10\n",
        "\n",
        "#error handling : invalid question number\n",
        "@app.errorhandler(404)\n",
        "def page_not_found(error):\n",
        "    return 'Invalid Question Number', 404\n",
        "\n",
        "app.run()"
      ],
      "metadata": {
        "colab": {
          "base_uri": "https://localhost:8080/"
        },
        "id": "3igdXkhqaP-H",
        "outputId": "a6af80c1-5653-4f97-f471-0aca54f6b705"
      },
      "execution_count": null,
      "outputs": [
        {
          "output_type": "stream",
          "name": "stdout",
          "text": [
            " * Serving Flask app '__main__'\n",
            " * Debug mode: off\n"
          ]
        },
        {
          "output_type": "stream",
          "name": "stderr",
          "text": [
            "INFO:werkzeug:\u001b[31m\u001b[1mWARNING: This is a development server. Do not use it in a production deployment. Use a production WSGI server instead.\u001b[0m\n",
            " * Running on http://127.0.0.1:5000\n",
            "INFO:werkzeug:\u001b[33mPress CTRL+C to quit\u001b[0m\n"
          ]
        },
        {
          "output_type": "stream",
          "name": "stdout",
          "text": [
            " * Running on http://241c-34-86-78-142.ngrok-free.app\n",
            " * Traffic stats available on http://127.0.0.1:4040\n"
          ]
        },
        {
          "output_type": "stream",
          "name": "stderr",
          "text": [
            "INFO:werkzeug:127.0.0.1 - - [25/Sep/2023 17:19:22] \"GET / HTTP/1.1\" 200 -\n",
            "INFO:werkzeug:127.0.0.1 - - [25/Sep/2023 17:19:22] \"\u001b[33mGET /favicon.ico HTTP/1.1\u001b[0m\" 404 -\n"
          ]
        }
      ]
    }
  ]
}